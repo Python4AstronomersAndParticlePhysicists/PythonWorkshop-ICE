{
 "cells": [
  {
   "cell_type": "markdown",
   "metadata": {},
   "source": [
    "# Contents\n",
    "\n",
    "1. [Introduction](#Introduction)\n",
    "  1. [Big Data & Hadoop](#Big_Data_Hadoop)\n",
    "  1. [HDFS](#HDFS)\n",
    "  1. [MapReduce](#MapReduce)\n",
    "  1. [Apache Spark](#Apache_Spark)\n",
    "2. [Map & Reduce](#Map_Reduce)\n",
    "3. [RDD](#RDD)\n",
    "4. [Key-Value RDD](#Key_Value_RDD)\n",
    "5. [DataFrame](#DataFrame)\n",
    "  1. [Pandas-like interface](#Pandas_interface)\n",
    "  2. [SQL interface](#SQL_interface)"
   ]
  },
  {
   "cell_type": "markdown",
   "metadata": {},
   "source": [
    "# Introduction\n",
    "<a id='Big_Data_Hadoop'></a>\n",
    "\n",
    "![b](http://www.kdnuggets.com/images/cartoon-make-data-great-again.jpg)\n",
    "\n",
    "## Big data & Hadoop"
   ]
  },
  {
   "cell_type": "markdown",
   "metadata": {},
   "source": [
    "There was a time when a researcher could gather all available data in their field of knowledge in a small library at home and produce results using a pen and a sheet of paper. With personal computers and laptops we have been able to extend our storage and processing power farther than we ever expected, but they cannot cope with it anymore.\n",
    "\n",
    "Nowadays, scientific experiments generate such amounts of data that they don't fit in a personal computer, not even in a data center such as PIC. This huge need of computing and storage resources is one of the factors that drive the scientific collaborations worldwide. Also, this dramatic increase in capacity and performance that is needed for current experiments requires specific architectures to store and process all this data.\n",
    "\n",
    "Big Data platforms are a combination of hardware and software designed to handle massive amounts of data. The most popular one is Hadoop. Hadoop is based on the design originally published by Google in several papers comprising, among others, of a:\n",
    " - distributed file system (HDFS)\n",
    " - MapReduce programming model"
   ]
  },
  {
   "cell_type": "markdown",
   "metadata": {},
   "source": [
    "## HDFS"
   ]
  },
  {
   "cell_type": "markdown",
   "metadata": {},
   "source": [
    "The Hadoop Distributed File System (HDFS) is the basis of the Hadoop platform, and it is built to work on top of commodity computer clusters. In this architecture, dozens up to thousands of cheap computers work in a coordinate manner to store and process the data. Due to the large number of elements involved (computer components, network, power, etc.) the platform was designed from the ground up to be failure tolerant. Should any element fail at any time, the system would detect the condition and recover from it transparently, and the user will not ever notice.\n",
    "\n",
    "HDFS works by splitting the files in 128 MiB blocks and replicating them on the cluster nodes in such a way that if a node fails, data is still accessible from any other replica.\n",
    "\n",
    "![HDFS](../resources/hdfs.png)"
   ]
  },
  {
   "cell_type": "markdown",
   "metadata": {},
   "source": [
    "## MapReduce"
   ]
  },
  {
   "cell_type": "markdown",
   "metadata": {},
   "source": [
    "MapReduce is programming model used for generating and processing big data sets with parallel and distributed algorithms. Inspired by the map and reduce functions commonly used in functional programming, its key contribution is the scalability and fault-tolerance achieved by optimizing the execution engine.\n",
    "\n",
    "In MapReduce, data operations are defined with respect to data structured in (key, value) pairs:\n",
    " - `Map` takes one pair of data in one data domain and returns a list of pairs in a different domain:\n",
    "       Map(k1,v1) → list(k2,v2)\n",
    "   The Map function is applied in parallel to every pair (keyed by k1) in the input dataset. This produces a list of pairs (keyed by k2) for each call. After that, the MapReduce framework collects all pairs with the same key (k2) from all lists and groups them together, creating one group for each key.\n",
    "\n",
    "\n",
    " - `Reduce` is then applied in parallel to each group, which in turn produces a collection of values in the same domain:\n",
    "       Reduce(k2, list (v2)) → list(v3)\n",
    "   Each Reduce call typically produces either one value v3 or an empty return, though one call is allowed to return more than one value. The returns of all calls are collected as the desired result list.\n",
    "\n",
    "\n",
    "\n"
   ]
  },
  {
   "cell_type": "markdown",
   "metadata": {},
   "source": [
    "<a id='Apache_Spark'></a>\n",
    "## Apache Spark\n",
    "\n",
    "Is an open-source cluster-computing framework that can run on top of Apache Hadoop. Built on top of MapReduce, if offers an improved interface for non-linear algorithms and operations. Apache Spark is based on a specialized data structure called the resilient distributed dataset (RDD). The use of RDDs facilitates the implementation of iterative algorithms and interactive/exploratory analysis. The latency of Spark applications, compared to a pure MapReduce implementation, may be reduced by several orders of magnitude.\n",
    "\n",
    "Apache Spark comprises several modules which implement additional processing abilities to the RDDs such as:\n",
    " - Spark SQL: structured data like database result sets\n",
    " - Spark Streaming: real-time data\n",
    " - Spark MLlib: machine learning\n",
    " - Spark Graphx: graph processing\n",
    "\n",
    "For this course, we will introduce the mechanics of working with large datasets using Spark. Ideally, each one of you would have a entire Hadoop cluster to work with but, we are not CERN... so we make use of the ability of Spark to run locally, without a cluster. Later, you could run the same code on top of a Hadoop cluster without changing anything."
   ]
  },
  {
   "cell_type": "markdown",
   "metadata": {},
   "source": [
    "<a id='Map_Reduce'></a>\n",
    "# Map & Reduce\n",
    "\n",
    "![a](https://cdn.datafloq.com/cms/2015/03/19/big-data-cartoon.jpg)"
   ]
  },
  {
   "cell_type": "markdown",
   "metadata": {},
   "source": [
    "### Note:\n",
    "\n",
    "Spark operations can be classified as either:\n",
    " - ACTIONS: Trigger a computation and return a result\n",
    "    - reduce, collect, aggregate, groupBy, take, ...\n",
    " - TRANSFORMATIONS: return a new RDD with the transformation applied (think of composing functions)\n",
    "    - map, reduce, filter, join, ..."
   ]
  },
  {
   "cell_type": "code",
   "execution_count": 1,
   "metadata": {},
   "outputs": [],
   "source": [
    "import pyspark\n",
    "sc = pyspark.SparkContext('local[*]')"
   ]
  },
  {
   "cell_type": "code",
   "execution_count": 2,
   "metadata": {},
   "outputs": [
    {
     "data": {
      "text/plain": [
       "range(0, 10)"
      ]
     },
     "execution_count": 2,
     "metadata": {},
     "output_type": "execute_result"
    }
   ],
   "source": [
    "# We define our input\n",
    "l = range(10)\n",
    "l"
   ]
  },
  {
   "cell_type": "code",
   "execution_count": 3,
   "metadata": {},
   "outputs": [
    {
     "data": {
      "text/plain": [
       "PythonRDD[1] at RDD at PythonRDD.scala:48"
      ]
     },
     "execution_count": 3,
     "metadata": {},
     "output_type": "execute_result"
    }
   ],
   "source": [
    "# We \"upload\" it as an RDD\n",
    "rdd = sc.parallelize(l)\n",
    "rdd"
   ]
  },
  {
   "cell_type": "markdown",
   "metadata": {},
   "source": [
    "### map()"
   ]
  },
  {
   "cell_type": "code",
   "execution_count": 4,
   "metadata": {},
   "outputs": [
    {
     "data": {
      "text/plain": [
       "PythonRDD[2] at RDD at PythonRDD.scala:48"
      ]
     },
     "execution_count": 4,
     "metadata": {},
     "output_type": "execute_result"
    }
   ],
   "source": [
    "# We define a map function\n",
    "def power_of_2(k):\n",
    "    return 2**k\n",
    "\n",
    "# And we apply it to our RDD\n",
    "rdd.map(power_of_2)"
   ]
  },
  {
   "cell_type": "code",
   "execution_count": 5,
   "metadata": {},
   "outputs": [
    {
     "data": {
      "text/plain": [
       "[1, 2, 4, 8, 16, 32, 64, 128, 256, 512]"
      ]
     },
     "execution_count": 5,
     "metadata": {},
     "output_type": "execute_result"
    }
   ],
   "source": [
    "# So we use collect() to retrieve all results.\n",
    "rdd.map(power_of_2).collect()\n",
    "\n",
    "### WARNING ###\n",
    "# Never do that in real cases, or you will transfer ALL data to your browser, effectibly killing it."
   ]
  },
  {
   "cell_type": "markdown",
   "metadata": {},
   "source": [
    "### reduce()"
   ]
  },
  {
   "cell_type": "code",
   "execution_count": 6,
   "metadata": {},
   "outputs": [
    {
     "data": {
      "text/plain": [
       "45"
      ]
     },
     "execution_count": 6,
     "metadata": {},
     "output_type": "execute_result"
    }
   ],
   "source": [
    "# What about summing, everything?\n",
    "# We define a reduce function\n",
    "def sum_everything(k1, k2):\n",
    "    return k1 + k2\n",
    "\n",
    "# And we apply the reduce operation\n",
    "rdd.reduce(sum_everything)"
   ]
  },
  {
   "cell_type": "code",
   "execution_count": 7,
   "metadata": {},
   "outputs": [
    {
     "data": {
      "text/plain": [
       "45"
      ]
     },
     "execution_count": 7,
     "metadata": {},
     "output_type": "execute_result"
    }
   ],
   "source": [
    "# Or we can use the built in operation `sum`\n",
    "rdd.sum()"
   ]
  },
  {
   "cell_type": "markdown",
   "metadata": {},
   "source": [
    "### pipelining"
   ]
  },
  {
   "cell_type": "code",
   "execution_count": 8,
   "metadata": {},
   "outputs": [
    {
     "data": {
      "text/plain": [
       "1023"
      ]
     },
     "execution_count": 8,
     "metadata": {},
     "output_type": "execute_result"
    }
   ],
   "source": [
    "# What if I wanted to compute the sum of the powers of 2?\n",
    "rdd.map(power_of_2).reduce(sum_everything)\n",
    "# or \n",
    "rdd.map(power_of_2).sum()"
   ]
  },
  {
   "cell_type": "code",
   "execution_count": 9,
   "metadata": {},
   "outputs": [
    {
     "data": {
      "text/plain": [
       "10"
      ]
     },
     "execution_count": 9,
     "metadata": {},
     "output_type": "execute_result"
    }
   ],
   "source": [
    "# How can we count the number of elements in the array?\n",
    "rdd.count()"
   ]
  },
  {
   "cell_type": "markdown",
   "metadata": {},
   "source": [
    "Ok, too easy, this is supposed to be a map & reduce tutorial...\n",
    "\n",
    "How can we do it WITHOUT the count() action, just using map & reduce.\n",
    "\n",
    "**SPOILER**, you could add 1 for each element in the RDD:\n",
    " - Build a map function that given an element, it transforms it into a 1.\n",
    " - Then apply our `sum_everything` reduce function"
   ]
  },
  {
   "cell_type": "code",
   "execution_count": 10,
   "metadata": {},
   "outputs": [
    {
     "data": {
      "text/plain": [
       "10"
      ]
     },
     "execution_count": 10,
     "metadata": {},
     "output_type": "execute_result"
    }
   ],
   "source": [
    "def set_to_1(k):\n",
    "    return 1\n",
    "\n",
    "rdd.map(set_to_1).reduce(sum_everything)"
   ]
  },
  {
   "cell_type": "markdown",
   "metadata": {},
   "source": [
    "# RDD"
   ]
  },
  {
   "cell_type": "code",
   "execution_count": 11,
   "metadata": {},
   "outputs": [],
   "source": [
    "# Load all Shakespeare works\n",
    "import os\n",
    "shakespeare = sc.textFile(os.path.normpath('file:///../../resources/shakespeare.txt'))"
   ]
  },
  {
   "cell_type": "code",
   "execution_count": 12,
   "metadata": {},
   "outputs": [
    {
     "data": {
      "text/plain": [
       "['This is the 100th Etext file presented by Project Gutenberg, and',\n",
       " 'is presented in cooperation with World Library, Inc., from their',\n",
       " 'Library of the Future and Shakespeare CDROMS.  Project Gutenberg',\n",
       " 'often releases Etexts that are NOT placed in the Public Domain!!',\n",
       " '',\n",
       " 'Shakespeare',\n",
       " '',\n",
       " '*This Etext has certain copyright implications you should read!*',\n",
       " '',\n",
       " '<<THIS ELECTRONIC VERSION OF THE COMPLETE WORKS OF WILLIAM']"
      ]
     },
     "execution_count": 12,
     "metadata": {},
     "output_type": "execute_result"
    }
   ],
   "source": [
    "# Show the first lines\n",
    "shakespeare.take(10)"
   ]
  },
  {
   "cell_type": "code",
   "execution_count": 13,
   "metadata": {},
   "outputs": [
    {
     "data": {
      "text/plain": [
       "\"    whither wilt?' ROSALIND. Nay, you might keep that check for it, till you met your\""
      ]
     },
     "execution_count": 13,
     "metadata": {},
     "output_type": "execute_result"
    }
   ],
   "source": [
    "# Get the longest line\n",
    "def keep_longest(k1, k2):\n",
    "    if len(k1) > len(k2):\n",
    "        return k1\n",
    "    else:\n",
    "        return k2\n",
    "\n",
    "shakespeare.reduce(keep_longest)"
   ]
  },
  {
   "cell_type": "code",
   "execution_count": 14,
   "metadata": {},
   "outputs": [
    {
     "data": {
      "text/plain": [
       "42.85645529343704"
      ]
     },
     "execution_count": 14,
     "metadata": {},
     "output_type": "execute_result"
    }
   ],
   "source": [
    "# Compute the average line length\n",
    "def line_length(k):\n",
    "    return len(k)\n",
    "\n",
    "shakespeare.map(line_length).sum() / shakespeare.count()"
   ]
  },
  {
   "cell_type": "markdown",
   "metadata": {},
   "source": [
    "### flatMap() vs map()"
   ]
  },
  {
   "cell_type": "code",
   "execution_count": 15,
   "metadata": {},
   "outputs": [
    {
     "data": {
      "text/plain": [
       "[['This',\n",
       "  'is',\n",
       "  'the',\n",
       "  '100th',\n",
       "  'Etext',\n",
       "  'file',\n",
       "  'presented',\n",
       "  'by',\n",
       "  'Project',\n",
       "  'Gutenberg,',\n",
       "  'and'],\n",
       " ['is',\n",
       "  'presented',\n",
       "  'in',\n",
       "  'cooperation',\n",
       "  'with',\n",
       "  'World',\n",
       "  'Library,',\n",
       "  'Inc.,',\n",
       "  'from',\n",
       "  'their']]"
      ]
     },
     "execution_count": 15,
     "metadata": {},
     "output_type": "execute_result"
    }
   ],
   "source": [
    "# Split the text in words\n",
    "def split_in_words(k):\n",
    "    return k.split()\n",
    "\n",
    "shakespeare.map(split_in_words).take(2)"
   ]
  },
  {
   "cell_type": "code",
   "execution_count": 16,
   "metadata": {},
   "outputs": [
    {
     "data": {
      "text/plain": [
       "['This',\n",
       " 'is',\n",
       " 'the',\n",
       " '100th',\n",
       " 'Etext',\n",
       " 'file',\n",
       " 'presented',\n",
       " 'by',\n",
       " 'Project',\n",
       " 'Gutenberg,',\n",
       " 'and',\n",
       " 'is',\n",
       " 'presented',\n",
       " 'in',\n",
       " 'cooperation']"
      ]
     },
     "execution_count": 16,
     "metadata": {},
     "output_type": "execute_result"
    }
   ],
   "source": [
    "shakespeare.flatMap(split_in_words).take(15)"
   ]
  },
  {
   "cell_type": "markdown",
   "metadata": {},
   "source": [
    "### lambda functions"
   ]
  },
  {
   "cell_type": "code",
   "execution_count": 17,
   "metadata": {},
   "outputs": [
    {
     "data": {
      "text/plain": [
       "['This',\n",
       " 'is',\n",
       " 'the',\n",
       " '100th',\n",
       " 'Etext',\n",
       " 'file',\n",
       " 'presented',\n",
       " 'by',\n",
       " 'Project',\n",
       " 'Gutenberg,',\n",
       " 'and',\n",
       " 'is',\n",
       " 'presented',\n",
       " 'in',\n",
       " 'cooperation']"
      ]
     },
     "execution_count": 17,
     "metadata": {},
     "output_type": "execute_result"
    }
   ],
   "source": [
    "shakespeare.flatMap(\n",
    "    lambda k: k.split() # Split in words\n",
    ").take(15)"
   ]
  },
  {
   "cell_type": "markdown",
   "metadata": {},
   "source": [
    "### filter()"
   ]
  },
  {
   "cell_type": "code",
   "execution_count": 18,
   "metadata": {},
   "outputs": [
    {
     "data": {
      "text/plain": [
       "['shaks12.zip*****',\n",
       " 'julianc@netcom.com',\n",
       " '100,000,000=Trillion]',\n",
       " 'hart@vmd.cso.uiuc.edu',\n",
       " 'mrcnext.cso.uiuc.edu',\n",
       " 'hart@vmd.cso.uiuc.edu',\n",
       " '>internet:hart@.vmd.cso.uiuc.edu',\n",
       " 'internet!vmd.cso.uiuc.edu!Hart',\n",
       " '(72600.2026@compuserve.com);',\n",
       " 'self-substantial']"
      ]
     },
     "execution_count": 18,
     "metadata": {},
     "output_type": "execute_result"
    }
   ],
   "source": [
    "# Retrieve 10 words longer than 15 characters\n",
    "shakespeare.flatMap(\n",
    "    lambda k: k.split() # Split in words\n",
    ").filter(\n",
    "    lambda k: len(k)>15 # Keep words longer than 15 characters\n",
    ").take(10)"
   ]
  },
  {
   "cell_type": "markdown",
   "metadata": {},
   "source": [
    "### Exercise\n",
    "\n",
    "How many times did use the word 'murder'? (**case insensitive**)"
   ]
  },
  {
   "cell_type": "code",
   "execution_count": 19,
   "metadata": {},
   "outputs": [
    {
     "data": {
      "text/plain": [
       "44"
      ]
     },
     "execution_count": 19,
     "metadata": {},
     "output_type": "execute_result"
    }
   ],
   "source": [
    "shakespeare.flatMap(\n",
    "    lambda k: k.split()     # Split in words\n",
    ").map(\n",
    "    lambda k: k.lower()     # Remove case-sensitiveness issues\n",
    ").filter(\n",
    "    lambda k: k == 'murder' # Keep only this word\n",
    ").count()"
   ]
  },
  {
   "cell_type": "markdown",
   "metadata": {},
   "source": [
    "### Exercise\n",
    "\n",
    "Show 10 words longer than 15 characters"
   ]
  },
  {
   "cell_type": "code",
   "execution_count": 20,
   "metadata": {},
   "outputs": [
    {
     "data": {
      "text/plain": [
       "['shaks12.zip*****',\n",
       " 'julianc@netcom.com',\n",
       " '100,000,000=Trillion]',\n",
       " 'hart@vmd.cso.uiuc.edu',\n",
       " 'mrcnext.cso.uiuc.edu',\n",
       " 'hart@vmd.cso.uiuc.edu',\n",
       " '>internet:hart@.vmd.cso.uiuc.edu',\n",
       " 'internet!vmd.cso.uiuc.edu!Hart',\n",
       " '(72600.2026@compuserve.com);',\n",
       " 'self-substantial']"
      ]
     },
     "execution_count": 20,
     "metadata": {},
     "output_type": "execute_result"
    }
   ],
   "source": [
    "shakespeare.flatMap(\n",
    "    lambda k: k.split() # Split in words\n",
    ").filter(\n",
    "    lambda k: len(k)>15 # Keep words longer than 15 characters\n",
    ").take(10)"
   ]
  },
  {
   "cell_type": "markdown",
   "metadata": {},
   "source": [
    "### Exercise\n",
    "Show all words longer than 15 characters, but dropping those with any of the following characters (`. , -`)"
   ]
  },
  {
   "cell_type": "code",
   "execution_count": 21,
   "metadata": {},
   "outputs": [
    {
     "data": {
      "text/plain": [
       "['incomprehensible',\n",
       " 'Gloucestershire;',\n",
       " \"NORTHUMBERLAND'S\",\n",
       " \"NORTHUMBERLAND'S\",\n",
       " 'Gloucestershire;',\n",
       " \"Northumberland's\",\n",
       " 'KING_HENRY_VIII|EPILOGUE',\n",
       " 'enfranchisement!\"',\n",
       " 'misconstruction;',\n",
       " 'honorificabilitudinitatibus;',\n",
       " 'Anthropophaginian',\n",
       " \"disproportion'd;\",\n",
       " 'Gloucestershire;',\n",
       " 'indistinguishable']"
      ]
     },
     "execution_count": 21,
     "metadata": {},
     "output_type": "execute_result"
    }
   ],
   "source": [
    "shakespeare.flatMap(\n",
    "    lambda k: k.split()                 # Split in words\n",
    ").filter(\n",
    "    lambda k: not (set('.,-') & set(k)) # Drop words with special characters\n",
    ").filter(\n",
    "    lambda k: len(k)>15                 # Keep words longer than 15 characters\n",
    ").collect()"
   ]
  },
  {
   "cell_type": "markdown",
   "metadata": {},
   "source": [
    "### Exercise\n",
    "\n",
    "Retrieve the longest word (without `. , -`), reusing the `keep_longest` reduce function."
   ]
  },
  {
   "cell_type": "code",
   "execution_count": 22,
   "metadata": {},
   "outputs": [
    {
     "data": {
      "text/plain": [
       "'honorificabilitudinitatibus;'"
      ]
     },
     "execution_count": 22,
     "metadata": {},
     "output_type": "execute_result"
    }
   ],
   "source": [
    "shakespeare.flatMap(\n",
    "    lambda k: k.split()                 # Split in words\n",
    ").filter(\n",
    "    lambda k: not (set('.,-') & set(k)) # Drop words with special characters\n",
    ").reduce(\n",
    "    keep_longest\n",
    ")"
   ]
  },
  {
   "cell_type": "markdown",
   "metadata": {},
   "source": [
    "Which, as you all know, means \"the state of being able to achieve honours\"."
   ]
  },
  {
   "cell_type": "markdown",
   "metadata": {},
   "source": [
    "<a id='Key_Value_RDD'></a>\n",
    "# Key-Value RDD\n",
    "\n",
    "We want to count the number of appearances of every word"
   ]
  },
  {
   "cell_type": "code",
   "execution_count": 23,
   "metadata": {},
   "outputs": [],
   "source": [
    "words = shakespeare.flatMap(\n",
    "    lambda k: k.split()                 # Split in words\n",
    ").filter(\n",
    "    lambda k: not (set('.,-') & set(k)) # Drop words with special characters\n",
    ")"
   ]
  },
  {
   "cell_type": "markdown",
   "metadata": {},
   "source": [
    "### groupBy()"
   ]
  },
  {
   "cell_type": "code",
   "execution_count": 24,
   "metadata": {},
   "outputs": [
    {
     "data": {
      "text/plain": [
       "[('Quince', <pyspark.resultiterable.ResultIterable at 0x7f8ba904e390>),\n",
       " ('heedful', <pyspark.resultiterable.ResultIterable at 0x7f8ba904e400>),\n",
       " ('withal?', <pyspark.resultiterable.ResultIterable at 0x7f8ba904e588>),\n",
       " ('Bennet', <pyspark.resultiterable.ResultIterable at 0x7f8ba904e470>),\n",
       " ('Just', <pyspark.resultiterable.ResultIterable at 0x7f8ba904e7b8>),\n",
       " ('enrooted', <pyspark.resultiterable.ResultIterable at 0x7f8ba904e9e8>),\n",
       " ('cars;', <pyspark.resultiterable.ResultIterable at 0x7f8ba904ea58>),\n",
       " ('divers', <pyspark.resultiterable.ResultIterable at 0x7f8ba904e748>),\n",
       " ('Doubtless', <pyspark.resultiterable.ResultIterable at 0x7f8ba904ef28>),\n",
       " (\"wrapp'd\", <pyspark.resultiterable.ResultIterable at 0x7f8ba904ef98>)]"
      ]
     },
     "execution_count": 24,
     "metadata": {},
     "output_type": "execute_result"
    }
   ],
   "source": [
    "words.groupBy(lambda k: k).take(10)"
   ]
  },
  {
   "cell_type": "code",
   "execution_count": 25,
   "metadata": {},
   "outputs": [
    {
     "name": "stdout",
     "output_type": "stream",
     "text": [
      "Quince ['Quince']\n",
      "heedful ['heedful', 'heedful', 'heedful', 'heedful']\n",
      "withal? ['withal?', 'withal?', 'withal?', 'withal?', 'withal?', 'withal?', 'withal?']\n",
      "Bennet ['Bennet']\n",
      "Just ['Just', 'Just', 'Just', 'Just', 'Just', 'Just', 'Just', 'Just', 'Just', 'Just']\n"
     ]
    }
   ],
   "source": [
    "# That method returns an iterable for each different word. This iterable contains a list of all the appearances of the word.\n",
    "# Lets print its contents\n",
    "\n",
    "tuples = words.groupBy(lambda k: k).take(5)\n",
    "\n",
    "for t in tuples:\n",
    "    print(t[0], list(t[1]))"
   ]
  },
  {
   "cell_type": "code",
   "execution_count": 26,
   "metadata": {},
   "outputs": [
    {
     "data": {
      "text/plain": [
       "[('Quince', 1), ('heedful', 4), ('withal?', 7), ('Bennet', 1), ('Just', 10)]"
      ]
     },
     "execution_count": 26,
     "metadata": {},
     "output_type": "execute_result"
    }
   ],
   "source": [
    "# Now, to compute the number of appearances, we just have to count the elements in the iterator\n",
    "\n",
    "words.groupBy(\n",
    "    lambda k: k\n",
    ").map(\n",
    "    lambda t: (t[0], len(list(t[1])))\n",
    ").take(5)"
   ]
  },
  {
   "cell_type": "code",
   "execution_count": 27,
   "metadata": {
    "collapsed": true
   },
   "outputs": [],
   "source": [
    "# But this is VERY EXPENSIVE in terms of memory,\n",
    "# as all the word instances must be stored in a list before they can be counted.\n",
    "\n",
    "# We can do it much better!"
   ]
  },
  {
   "cell_type": "markdown",
   "metadata": {},
   "source": [
    "### reduceByKey"
   ]
  },
  {
   "cell_type": "code",
   "execution_count": 28,
   "metadata": {},
   "outputs": [
    {
     "data": {
      "text/plain": [
       "[('This', 1),\n",
       " ('is', 1),\n",
       " ('the', 1),\n",
       " ('100th', 1),\n",
       " ('Etext', 1),\n",
       " ('file', 1),\n",
       " ('presented', 1),\n",
       " ('by', 1),\n",
       " ('Project', 1),\n",
       " ('and', 1)]"
      ]
     },
     "execution_count": 28,
     "metadata": {},
     "output_type": "execute_result"
    }
   ],
   "source": [
    "words.map(\n",
    "    lambda w: (w, 1)\n",
    ").take(10)"
   ]
  },
  {
   "cell_type": "code",
   "execution_count": 29,
   "metadata": {},
   "outputs": [
    {
     "data": {
      "text/plain": [
       "[('Quince', 1),\n",
       " ('heedful', 4),\n",
       " ('withal?', 7),\n",
       " ('Bennet', 1),\n",
       " ('Just', 10),\n",
       " ('enrooted', 1),\n",
       " ('cars;', 1),\n",
       " ('divers', 20),\n",
       " ('Doubtless', 2),\n",
       " (\"wrapp'd\", 4)]"
      ]
     },
     "execution_count": 29,
     "metadata": {},
     "output_type": "execute_result"
    }
   ],
   "source": [
    "words.map(\n",
    "    lambda w: (w, 1)\n",
    ").reduceByKey(\n",
    "    lambda k1, k2: k1 + k2 \n",
    ").take(10)"
   ]
  },
  {
   "cell_type": "markdown",
   "metadata": {},
   "source": [
    "### Exercise\n",
    "\n",
    "Get the 10 most-used words and its number of appearances"
   ]
  },
  {
   "cell_type": "code",
   "execution_count": 30,
   "metadata": {},
   "outputs": [
    {
     "data": {
      "text/plain": [
       "[('the', 23242),\n",
       " ('I', 19540),\n",
       " ('and', 18297),\n",
       " ('to', 15623),\n",
       " ('of', 15544),\n",
       " ('a', 12532),\n",
       " ('my', 10824),\n",
       " ('in', 9576),\n",
       " ('you', 9081),\n",
       " ('is', 7851)]"
      ]
     },
     "execution_count": 30,
     "metadata": {},
     "output_type": "execute_result"
    }
   ],
   "source": [
    "words.map(\n",
    "    lambda w: (w, 1)\n",
    ").reduceByKey(\n",
    "    lambda k1, k2: k1 + k2 \n",
    ").sortBy(\n",
    "    lambda t: t[1],\n",
    "    ascending=False\n",
    ").take(10)"
   ]
  },
  {
   "cell_type": "markdown",
   "metadata": {},
   "source": [
    "### Exercise\n",
    "\n",
    "1. Print then 10 most used words longer than 5 characters (case-insensitive)\n",
    "2. How many words, longer than 50 characters, are used more than 500 times? (case-insensitive)\n"
   ]
  },
  {
   "cell_type": "code",
   "execution_count": 31,
   "metadata": {},
   "outputs": [
    {
     "data": {
      "text/plain": [
       "[('should', 1535),\n",
       " ('exeunt', 841),\n",
       " ('cannot', 719),\n",
       " ('before', 689),\n",
       " ('though', 611),\n",
       " ('against', 586),\n",
       " ('second', 563),\n",
       " ('master', 506),\n",
       " ('better', 501),\n",
       " ('therefore', 459)]"
      ]
     },
     "execution_count": 31,
     "metadata": {},
     "output_type": "execute_result"
    }
   ],
   "source": [
    "# 1. Print then 10 most used words longer than 5 characters (case-insensitive)\n",
    "words.filter(\n",
    "    lambda w: len(w)>5\n",
    ").map(\n",
    "    lambda w: (w.lower(), 1)\n",
    ").reduceByKey(\n",
    "    lambda k1, k2: k1 + k2 \n",
    ").sortBy(\n",
    "    lambda t: t[1],\n",
    "    ascending=False\n",
    ").take(10)"
   ]
  },
  {
   "cell_type": "code",
   "execution_count": 32,
   "metadata": {},
   "outputs": [
    {
     "data": {
      "text/plain": [
       "74"
      ]
     },
     "execution_count": 32,
     "metadata": {},
     "output_type": "execute_result"
    }
   ],
   "source": [
    "# 2. How many words, longer than 5 characters, are used more than 100 times? (case-insensitive)\n",
    "words.filter(\n",
    "    lambda w: len(w)>5\n",
    ").map(\n",
    "    lambda w: (w.lower(), 1)\n",
    ").reduceByKey(\n",
    "    lambda k1, k2: k1 + k2 \n",
    ").filter(\n",
    "    lambda t: t[1]>200\n",
    ").count()"
   ]
  },
  {
   "cell_type": "markdown",
   "metadata": {},
   "source": [
    "# DataFrame"
   ]
  },
  {
   "cell_type": "code",
   "execution_count": 109,
   "metadata": {
    "collapsed": true
   },
   "outputs": [],
   "source": [
    "from pyspark.sql import SQLContext\n",
    "sqlc = SQLContext(sc)"
   ]
  },
  {
   "cell_type": "code",
   "execution_count": 110,
   "metadata": {},
   "outputs": [
    {
     "data": {
      "text/plain": [
       "DataFrame[ra: double, dec: double, mag_g: double, flux_g_error: double]"
      ]
     },
     "execution_count": 110,
     "metadata": {},
     "output_type": "execute_result"
    }
   ],
   "source": [
    "gaia = sqlc.read.csv('../resources/gaia.csv.bz2', comment='#', header=True, inferSchema=True)\n",
    "gaia"
   ]
  },
  {
   "cell_type": "code",
   "execution_count": 111,
   "metadata": {},
   "outputs": [
    {
     "data": {
      "text/plain": [
       "1000000"
      ]
     },
     "execution_count": 111,
     "metadata": {},
     "output_type": "execute_result"
    }
   ],
   "source": [
    "gaia.count()"
   ]
  },
  {
   "cell_type": "code",
   "execution_count": 112,
   "metadata": {},
   "outputs": [
    {
     "data": {
      "text/plain": [
       "[Row(ra=290.21102203284977, dec=-30.512276670546044, mag_g=19.298657696970963, flux_g_error=2.1969861437903213),\n",
       " Row(ra=276.8551136254776, dec=-45.56829255155762, mag_g=19.71404456309139, flux_g_error=2.8153702962592555),\n",
       " Row(ra=291.2714016666681, dec=-30.168438928928577, mag_g=19.88970685445606, flux_g_error=2.2826860042571675),\n",
       " Row(ra=276.8386275958223, dec=-45.573612128533604, mag_g=18.739001037286407, flux_g_error=3.0656237334224734),\n",
       " Row(ra=291.2731316966207, dec=-30.163064937921643, mag_g=18.553687802187834, flux_g_error=7.280203675814308)]"
      ]
     },
     "execution_count": 112,
     "metadata": {},
     "output_type": "execute_result"
    }
   ],
   "source": [
    "gaia.head(5)"
   ]
  },
  {
   "cell_type": "markdown",
   "metadata": {},
   "source": [
    "<a id='Pandas_interface'></a>\n",
    "## Pandas-like interface"
   ]
  },
  {
   "cell_type": "code",
   "execution_count": 113,
   "metadata": {
    "collapsed": true
   },
   "outputs": [],
   "source": [
    "%matplotlib inline\n",
    "\n",
    "import pyspark.sql.functions as func"
   ]
  },
  {
   "cell_type": "code",
   "execution_count": 152,
   "metadata": {},
   "outputs": [
    {
     "data": {
      "text/plain": [
       "[Row(mag_g=4.5, count=1),\n",
       " Row(mag_g=5.4, count=1),\n",
       " Row(mag_g=5.7, count=1),\n",
       " Row(mag_g=5.9, count=1),\n",
       " Row(mag_g=6.0, count=1),\n",
       " Row(mag_g=6.1, count=2),\n",
       " Row(mag_g=6.4, count=1),\n",
       " Row(mag_g=6.5, count=2),\n",
       " Row(mag_g=6.6, count=1),\n",
       " Row(mag_g=6.7, count=1)]"
      ]
     },
     "execution_count": 152,
     "metadata": {},
     "output_type": "execute_result"
    }
   ],
   "source": [
    "g_hist = gaia.groupBy(\n",
    "    (\n",
    "        func.floor(gaia.mag_g * 10) / 10\n",
    "    ).alias('mag_g'),\n",
    ").count().orderBy(\n",
    "    'mag_g'\n",
    ")\n",
    "g_hist.take(10)"
   ]
  },
  {
   "cell_type": "code",
   "execution_count": 153,
   "metadata": {},
   "outputs": [
    {
     "data": {
      "text/plain": [
       "<matplotlib.axes._subplots.AxesSubplot at 0x7f8b94550e48>"
      ]
     },
     "execution_count": 153,
     "metadata": {},
     "output_type": "execute_result"
    },
    {
     "data": {
      "image/png": "[encoded data removed]",
      "text/plain": [
       "<matplotlib.figure.Figure at 0x7f8b94518780>"
      ]
     },
     "metadata": {},
     "output_type": "display_data"
    }
   ],
   "source": [
    "g_hist.toPandas().set_index('mag_g').plot(loglog=True)"
   ]
  },
  {
   "cell_type": "markdown",
   "metadata": {},
   "source": [
    "### Exercise\n",
    "\n",
    "Plot an 'ra' histogram in 1-degree bins (count how many stars are in each bin).\n",
    "\n",
    "Can you spot the galaxy center? ;)"
   ]
  },
  {
   "cell_type": "code",
   "execution_count": 156,
   "metadata": {},
   "outputs": [
    {
     "data": {
      "text/plain": [
       "[Row(ra=0, count=861),\n",
       " Row(ra=1, count=839),\n",
       " Row(ra=2, count=796),\n",
       " Row(ra=3, count=697),\n",
       " Row(ra=4, count=693),\n",
       " Row(ra=5, count=807),\n",
       " Row(ra=6, count=656),\n",
       " Row(ra=7, count=607),\n",
       " Row(ra=8, count=775),\n",
       " Row(ra=9, count=923)]"
      ]
     },
     "execution_count": 156,
     "metadata": {},
     "output_type": "execute_result"
    }
   ],
   "source": [
    "ra_hist = gaia.groupBy(\n",
    "    (\n",
    "        func.floor(gaia.ra)\n",
    "    ).alias('ra'),\n",
    ").count().orderBy(\n",
    "    'ra'\n",
    ")\n",
    "ra_hist.take(10)"
   ]
  },
  {
   "cell_type": "code",
   "execution_count": 157,
   "metadata": {},
   "outputs": [
    {
     "data": {
      "text/plain": [
       "<matplotlib.axes._subplots.AxesSubplot at 0x7f8b946afb38>"
      ]
     },
     "execution_count": 157,
     "metadata": {},
     "output_type": "execute_result"
    },
    {
     "data": {
      "image/png": "[encoded data removed]",
      "text/plain": [
       "<matplotlib.figure.Figure at 0x7f8b943cd908>"
      ]
     },
     "metadata": {},
     "output_type": "display_data"
    }
   ],
   "source": [
    "ra_hist.toPandas().set_index('ra').plot()"
   ]
  },
  {
   "cell_type": "markdown",
   "metadata": {},
   "source": [
    "<a id='SQL_interface'></a>\n",
    "## SQL interface"
   ]
  },
  {
   "cell_type": "code",
   "execution_count": 162,
   "metadata": {},
   "outputs": [
    {
     "data": {
      "text/plain": [
       "[Row(mag_g=4.5, count=1),\n",
       " Row(mag_g=5.400000095367432, count=1),\n",
       " Row(mag_g=5.699999809265137, count=1),\n",
       " Row(mag_g=5.900000095367432, count=1),\n",
       " Row(mag_g=6.0, count=1),\n",
       " Row(mag_g=6.099999904632568, count=2),\n",
       " Row(mag_g=6.400000095367432, count=1),\n",
       " Row(mag_g=6.5, count=2),\n",
       " Row(mag_g=6.599999904632568, count=1),\n",
       " Row(mag_g=6.699999809265137, count=1)]"
      ]
     },
     "execution_count": 162,
     "metadata": {},
     "output_type": "execute_result"
    }
   ],
   "source": [
    "sqlc.registerDataFrameAsTable(gaia, \"gaia\")\n",
    "\n",
    "g_hist = sqlc.sql(\"\"\"\n",
    "    SELECT CAST(FLOOR(mag_g*10)/10. AS FLOAT) AS mag_g, COUNT(*) AS `count`\n",
    "    FROM gaia\n",
    "    GROUP BY 1\n",
    "    ORDER BY 1\n",
    "\"\"\")\n",
    "\n",
    "g_hist.take(10)"
   ]
  },
  {
   "cell_type": "code",
   "execution_count": 163,
   "metadata": {},
   "outputs": [
    {
     "data": {
      "text/plain": [
       "<matplotlib.axes._subplots.AxesSubplot at 0x7f8b9420fc50>"
      ]
     },
     "execution_count": 163,
     "metadata": {},
     "output_type": "execute_result"
    },
    {
     "data": {
      "image/png": "[encoded data removed]",
      "text/plain": [
       "<matplotlib.figure.Figure at 0x7f8b9431ec18>"
      ]
     },
     "metadata": {},
     "output_type": "display_data"
    }
   ],
   "source": [
    "g_hist.toPandas().set_index('mag_g').plot(loglog=True)"
   ]
  },
  {
   "cell_type": "markdown",
   "metadata": {},
   "source": [
    "### Exercise\n",
    "\n",
    "Plot an 'ra' histogram in 1-degree bins (count how many stars are in each bin).\n",
    "\n",
    "Can you spot the galaxy center? ;)"
   ]
  },
  {
   "cell_type": "code",
   "execution_count": 165,
   "metadata": {},
   "outputs": [
    {
     "data": {
      "text/plain": [
       "[Row(ra=0, count=861),\n",
       " Row(ra=1, count=839),\n",
       " Row(ra=2, count=796),\n",
       " Row(ra=3, count=697),\n",
       " Row(ra=4, count=693),\n",
       " Row(ra=5, count=807),\n",
       " Row(ra=6, count=656),\n",
       " Row(ra=7, count=607),\n",
       " Row(ra=8, count=775),\n",
       " Row(ra=9, count=923)]"
      ]
     },
     "execution_count": 165,
     "metadata": {},
     "output_type": "execute_result"
    }
   ],
   "source": [
    "ra_hist = sqlc.sql(\"\"\"\n",
    "    SELECT FLOOR(ra) AS ra, COUNT(*) AS `count`\n",
    "    FROM gaia\n",
    "    GROUP BY 1\n",
    "    ORDER BY 1\n",
    "\"\"\")\n",
    "\n",
    "ra_hist.take(10)"
   ]
  },
  {
   "cell_type": "code",
   "execution_count": 167,
   "metadata": {},
   "outputs": [
    {
     "data": {
      "text/plain": [
       "<matplotlib.axes._subplots.AxesSubplot at 0x7f8b93e3b390>"
      ]
     },
     "execution_count": 167,
     "metadata": {},
     "output_type": "execute_result"
    },
    {
     "data": {
      "image/png": "[encoded data removed]",
      "text/plain": [
       "<matplotlib.figure.Figure at 0x7f8b940cb668>"
      ]
     },
     "metadata": {},
     "output_type": "display_data"
    }
   ],
   "source": [
    "ra_hist.toPandas().set_index('ra').plot()"
   ]
  }
 ],
 "metadata": {
  "kernelspec": {
   "display_name": "Python 3",
   "language": "python",
   "name": "python3"
  },
  "language_info": {
   "codemirror_mode": {
    "name": "ipython",
    "version": 3
   },
   "file_extension": ".py",
   "mimetype": "text/x-python",
   "name": "python",
   "nbconvert_exporter": "python",
   "pygments_lexer": "ipython3",
   "version": "3.5.2"
  }
 },
 "nbformat": 4,
 "nbformat_minor": 1
}
