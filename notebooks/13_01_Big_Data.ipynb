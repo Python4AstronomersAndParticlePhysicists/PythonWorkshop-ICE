{
 "cells": [
  {
   "cell_type": "markdown",
   "metadata": {},
   "source": [
    "# Introduction\n",
    "## Big data & Hadoop"
   ]
  },
  {
   "cell_type": "markdown",
   "metadata": {},
   "source": [
    "There was a time when a researcher could gather all available data in their field of knowledge in a small library at home and produce results using a pen and a sheet of paper. With personal computers and laptops we have been able to extend our storage and processing power farther than we ever expected, but they cannot cope with it anymore.\n",
    "\n",
    "Nowadays, scientific experiments generate such amounts of data that they don't fit in a personal computer, not even in a data center such as PIC. This huge need of computing and storage resources is one of the factors that drive the scientific collaborations worldwide. Also, this dramatic increase in capacity and performance that is needed for current experiments requires specific architectures to store and process all this data.\n",
    "\n",
    "Big Data platforms are a combination of hardware and software designed to handle massive amounts of data. The most popular one is Hadoop. Hadoop is based on the design originally published by Google in several papers comprising, among others, of a:\n",
    " - distributed file system (HDFS)\n",
    " - MapReduce programming model"
   ]
  },
  {
   "cell_type": "markdown",
   "metadata": {},
   "source": [
    "## HDFS"
   ]
  },
  {
   "cell_type": "markdown",
   "metadata": {},
   "source": [
    "The Hadoop Distributed File System (HDFS) is the basis of the Hadoop platform, and it is built to work on top of commodity computer clusters. In this architecture, dozens up to thousands of cheap computers work in a coordinate manner to store and process the data. Due to the large number of elements involved (computer components, network, power, etc.) the platform was designed from the ground up to be failure tolerant. Should any element fail at any time, the system would detect the condition and recover from it transparently, and the user will not ever notice.\n",
    "\n",
    "HDFS works by splitting the files in 128 MiB blocks and replicating them on the cluster nodes in such a way that if a node fails, data is still accessible from any other replica.\n",
    "\n",
    "![HDFS](../resources/hdfs.png)"
   ]
  },
  {
   "cell_type": "markdown",
   "metadata": {},
   "source": [
    "## MapReduce"
   ]
  },
  {
   "cell_type": "markdown",
   "metadata": {},
   "source": [
    "MapReduce is programming model used for generating and processing big data sets with parallel and distributed algorithms. Inspired by the map and reduce functions commonly used in functional programming, its key contribution is the scalability and fault-tolerance achieved by optimizing the execution engine.\n",
    "\n",
    "In MapReduce, data operations are defined with respect to data structured in (key, value) pairs:\n",
    " - `Map` takes one pair of data in one data domain and returns a list of pairs in a different domain:\n",
    "       Map(k1,v1) → list(k2,v2)\n",
    "   The Map function is applied in parallel to every pair (keyed by k1) in the input dataset. This produces a list of pairs (keyed by k2) for each call. After that, the MapReduce framework collects all pairs with the same key (k2) from all lists and groups them together, creating one group for each key.\n",
    "\n",
    "\n",
    " - `Reduce` is then applied in parallel to each group, which in turn produces a collection of values in the same domain:\n",
    "       Reduce(k2, list (v2)) → list(v3)\n",
    "   Each Reduce call typically produces either one value v3 or an empty return, though one call is allowed to return more than one value. The returns of all calls are collected as the desired result list.\n",
    "\n",
    "\n",
    "\n"
   ]
  },
  {
   "cell_type": "markdown",
   "metadata": {},
   "source": [
    "## Apache Spark\n",
    "\n",
    "Is an open-source cluster-computing framework that can run on top of Apache Hadoop. Built on top of MapReduce, if offers an improved interface for non-linear algorithms and operations. Apache Spark is based on a specialized data structure called the resilient distributed dataset (RDD). The use of RDDs facilitates the implementation of iterative algorithms and interactive/exploratory analysis. The latency of Spark applications, compared to a pure MapReduce implementation, may be reduced by several orders of magnitude.\n",
    "\n",
    "Apache Spark comprises several modules which implement additional processing abilities to the RDDs such as:\n",
    " - Spark SQL: structured data like database result sets\n",
    " - Spark Streaming: real-time data\n",
    " - Spark MLlib: machine learning\n",
    " - Spark Graphx: graph processing\n",
    "\n",
    "For this course, we will introduce the mechanics of working with large datasets using Spark. Ideally, each one of you would have a entire Hadoop cluster to work with but, we are not CERN... so we make use of the ability of Spark to run locally, without a cluster. Later, you could run the same code on top of a Hadoop cluster without changing anything."
   ]
  },
  {
   "cell_type": "markdown",
   "metadata": {},
   "source": [
    "# Map & Reduce"
   ]
  },
  {
   "cell_type": "markdown",
   "metadata": {},
   "source": [
    "### Note:\n",
    "\n",
    "Spark operations can be classified as either:\n",
    " - ACTIONS: Trigger a computation and return a result\n",
    "    - reduce, collect, aggregate, groupBy, take, ...\n",
    " - TRANSFORMATIONS: return a new RDD with the transformation applied (think of composing functions)\n",
    "    - map, reduce, filter, join, ..."
   ]
  },
  {
   "cell_type": "markdown",
   "metadata": {},
   "source": [
    "## Concepts"
   ]
  },
  {
   "cell_type": "code",
   "execution_count": 1,
   "metadata": {
    "collapsed": true
   },
   "outputs": [],
   "source": [
    "import pyspark\n",
    "sc = pyspark.SparkContext('local[*]')"
   ]
  },
  {
   "cell_type": "code",
   "execution_count": 2,
   "metadata": {},
   "outputs": [
    {
     "data": {
      "text/plain": [
       "range(0, 10)"
      ]
     },
     "execution_count": 2,
     "metadata": {},
     "output_type": "execute_result"
    }
   ],
   "source": [
    "# We define our input\n",
    "l = range(10)\n",
    "l"
   ]
  },
  {
   "cell_type": "code",
   "execution_count": 3,
   "metadata": {},
   "outputs": [
    {
     "data": {
      "text/plain": [
       "PythonRDD[1] at RDD at PythonRDD.scala:48"
      ]
     },
     "execution_count": 3,
     "metadata": {},
     "output_type": "execute_result"
    }
   ],
   "source": [
    "# We \"upload\" it as an RDD\n",
    "rdd = sc.parallelize(l)\n",
    "rdd"
   ]
  },
  {
   "cell_type": "markdown",
   "metadata": {},
   "source": [
    "### map()"
   ]
  },
  {
   "cell_type": "code",
   "execution_count": 4,
   "metadata": {},
   "outputs": [
    {
     "data": {
      "text/plain": [
       "PythonRDD[2] at RDD at PythonRDD.scala:48"
      ]
     },
     "execution_count": 4,
     "metadata": {},
     "output_type": "execute_result"
    }
   ],
   "source": [
    "# We define a map function\n",
    "def power_of_2(k):\n",
    "    return 2**k\n",
    "\n",
    "# And we apply it to our RDD\n",
    "rdd.map(power_of_2)"
   ]
  },
  {
   "cell_type": "code",
   "execution_count": 5,
   "metadata": {},
   "outputs": [
    {
     "data": {
      "text/plain": [
       "[1, 2, 4, 8, 16, 32, 64, 128, 256, 512]"
      ]
     },
     "execution_count": 5,
     "metadata": {},
     "output_type": "execute_result"
    }
   ],
   "source": [
    "# So we use collect() to retrieve all results.\n",
    "rdd.map(power_of_2).collect()\n",
    "\n",
    "### WARNING ###\n",
    "# Never do that in real cases, or you will transfer ALL data to your browser, effectibly killing it."
   ]
  },
  {
   "cell_type": "markdown",
   "metadata": {},
   "source": [
    "### reduce()"
   ]
  },
  {
   "cell_type": "code",
   "execution_count": 6,
   "metadata": {},
   "outputs": [
    {
     "data": {
      "text/plain": [
       "45"
      ]
     },
     "execution_count": 6,
     "metadata": {},
     "output_type": "execute_result"
    }
   ],
   "source": [
    "# What about summing, everything?\n",
    "# We define a reduce function\n",
    "def sum_everything(k1, k2):\n",
    "    return k1 + k2\n",
    "\n",
    "# And we apply the reduce operation\n",
    "rdd.reduce(sum_everything)"
   ]
  },
  {
   "cell_type": "code",
   "execution_count": 7,
   "metadata": {},
   "outputs": [
    {
     "data": {
      "text/plain": [
       "45"
      ]
     },
     "execution_count": 7,
     "metadata": {},
     "output_type": "execute_result"
    }
   ],
   "source": [
    "# Or we can use the built in operation `sum`\n",
    "rdd.sum()"
   ]
  },
  {
   "cell_type": "markdown",
   "metadata": {},
   "source": [
    "### pipelining"
   ]
  },
  {
   "cell_type": "code",
   "execution_count": 8,
   "metadata": {},
   "outputs": [
    {
     "data": {
      "text/plain": [
       "1023"
      ]
     },
     "execution_count": 8,
     "metadata": {},
     "output_type": "execute_result"
    }
   ],
   "source": [
    "# What if I wanted to compute the sum of the powers of 2?\n",
    "rdd.map(power_of_2).reduce(sum_everything)\n",
    "# or \n",
    "rdd.map(power_of_2).sum()"
   ]
  },
  {
   "cell_type": "code",
   "execution_count": 9,
   "metadata": {},
   "outputs": [
    {
     "data": {
      "text/plain": [
       "10"
      ]
     },
     "execution_count": 9,
     "metadata": {},
     "output_type": "execute_result"
    }
   ],
   "source": [
    "# How can we count the number of elements in the array?\n",
    "rdd.count()"
   ]
  },
  {
   "cell_type": "markdown",
   "metadata": {},
   "source": [
    "Ok, too easy, this is supposed to be a map & reduce tutorial...\n",
    "\n",
    "How can we do it WITHOUT the count() action, just using map & reduce.\n",
    "\n",
    "**SPOILER**, you could add 1 for each element in the RDD:\n",
    " - Build a map function that given an element, it transforms it into a 1.\n",
    " - Then apply our `sum_everything` reduce function"
   ]
  },
  {
   "cell_type": "code",
   "execution_count": 10,
   "metadata": {},
   "outputs": [
    {
     "data": {
      "text/plain": [
       "10"
      ]
     },
     "execution_count": 10,
     "metadata": {},
     "output_type": "execute_result"
    }
   ],
   "source": [
    "def set_to_1(k):\n",
    "    return 1\n",
    "\n",
    "rdd.map(set_to_1).reduce(sum_everything)"
   ]
  },
  {
   "cell_type": "markdown",
   "metadata": {},
   "source": [
    "## Unstructured data"
   ]
  },
  {
   "cell_type": "code",
   "execution_count": 20,
   "metadata": {},
   "outputs": [],
   "source": [
    "# Load all Shakespeare works\n",
    "import os\n",
    "shakespeare = sc.textFile(os.path.normpath('file:///../../resources/shakespeare.txt'))"
   ]
  },
  {
   "cell_type": "code",
   "execution_count": 21,
   "metadata": {},
   "outputs": [
    {
     "data": {
      "text/plain": [
       "['This is the 100th Etext file presented by Project Gutenberg, and',\n",
       " 'is presented in cooperation with World Library, Inc., from their',\n",
       " 'Library of the Future and Shakespeare CDROMS.  Project Gutenberg',\n",
       " 'often releases Etexts that are NOT placed in the Public Domain!!',\n",
       " '',\n",
       " 'Shakespeare',\n",
       " '',\n",
       " '*This Etext has certain copyright implications you should read!*',\n",
       " '',\n",
       " '<<THIS ELECTRONIC VERSION OF THE COMPLETE WORKS OF WILLIAM']"
      ]
     },
     "execution_count": 21,
     "metadata": {},
     "output_type": "execute_result"
    }
   ],
   "source": [
    "# Show the first lines\n",
    "shakespeare.take(10)"
   ]
  },
  {
   "cell_type": "code",
   "execution_count": 22,
   "metadata": {},
   "outputs": [
    {
     "data": {
      "text/plain": [
       "\"    whither wilt?' ROSALIND. Nay, you might keep that check for it, till you met your\""
      ]
     },
     "execution_count": 22,
     "metadata": {},
     "output_type": "execute_result"
    }
   ],
   "source": [
    "# Get the longest line\n",
    "def keep_longest(k1, k2):\n",
    "    if len(k1) > len(k2):\n",
    "        return k1\n",
    "    else:\n",
    "        return k2\n",
    "\n",
    "shakespeare.reduce(keep_longest)"
   ]
  },
  {
   "cell_type": "code",
   "execution_count": 23,
   "metadata": {},
   "outputs": [
    {
     "data": {
      "text/plain": [
       "42.85645529343704"
      ]
     },
     "execution_count": 23,
     "metadata": {},
     "output_type": "execute_result"
    }
   ],
   "source": [
    "# Compute the average line length\n",
    "def line_length(k):\n",
    "    return len(k)\n",
    "\n",
    "shakespeare.map(line_length).sum() / shakespeare.count()"
   ]
  },
  {
   "cell_type": "markdown",
   "metadata": {},
   "source": [
    "### flatMap() vs map()"
   ]
  },
  {
   "cell_type": "code",
   "execution_count": 24,
   "metadata": {},
   "outputs": [
    {
     "data": {
      "text/plain": [
       "[['This',\n",
       "  'is',\n",
       "  'the',\n",
       "  '100th',\n",
       "  'Etext',\n",
       "  'file',\n",
       "  'presented',\n",
       "  'by',\n",
       "  'Project',\n",
       "  'Gutenberg,',\n",
       "  'and'],\n",
       " ['is',\n",
       "  'presented',\n",
       "  'in',\n",
       "  'cooperation',\n",
       "  'with',\n",
       "  'World',\n",
       "  'Library,',\n",
       "  'Inc.,',\n",
       "  'from',\n",
       "  'their']]"
      ]
     },
     "execution_count": 24,
     "metadata": {},
     "output_type": "execute_result"
    }
   ],
   "source": [
    "# Split the text in words\n",
    "def split_by_space(k):\n",
    "    return k.split(' ')\n",
    "\n",
    "shakespeare.map(split_by_space).take(2)"
   ]
  },
  {
   "cell_type": "code",
   "execution_count": 25,
   "metadata": {},
   "outputs": [
    {
     "data": {
      "text/plain": [
       "['This',\n",
       " 'is',\n",
       " 'the',\n",
       " '100th',\n",
       " 'Etext',\n",
       " 'file',\n",
       " 'presented',\n",
       " 'by',\n",
       " 'Project',\n",
       " 'Gutenberg,',\n",
       " 'and',\n",
       " 'is',\n",
       " 'presented',\n",
       " 'in',\n",
       " 'cooperation']"
      ]
     },
     "execution_count": 25,
     "metadata": {},
     "output_type": "execute_result"
    }
   ],
   "source": [
    "shakespeare.flatMap(split_by_space).take(15)"
   ]
  },
  {
   "cell_type": "markdown",
   "metadata": {},
   "source": [
    "### lambda functions"
   ]
  },
  {
   "cell_type": "code",
   "execution_count": 26,
   "metadata": {},
   "outputs": [
    {
     "data": {
      "text/plain": [
       "['This',\n",
       " 'is',\n",
       " 'the',\n",
       " '100th',\n",
       " 'Etext',\n",
       " 'file',\n",
       " 'presented',\n",
       " 'by',\n",
       " 'Project',\n",
       " 'Gutenberg,',\n",
       " 'and',\n",
       " 'is',\n",
       " 'presented',\n",
       " 'in',\n",
       " 'cooperation']"
      ]
     },
     "execution_count": 26,
     "metadata": {},
     "output_type": "execute_result"
    }
   ],
   "source": [
    "shakespeare.flatMap(\n",
    "    lambda k: k.split(' ') # Split in words\n",
    ").take(15)"
   ]
  },
  {
   "cell_type": "markdown",
   "metadata": {},
   "source": [
    "### filter()"
   ]
  },
  {
   "cell_type": "code",
   "execution_count": 27,
   "metadata": {},
   "outputs": [
    {
     "data": {
      "text/plain": [
       "['shaks12.zip*****',\n",
       " 'julianc@netcom.com',\n",
       " '100,000,000=Trillion]',\n",
       " 'hart@vmd.cso.uiuc.edu',\n",
       " 'mrcnext.cso.uiuc.edu',\n",
       " 'hart@vmd.cso.uiuc.edu',\n",
       " '>internet:hart@.vmd.cso.uiuc.edu',\n",
       " 'internet!vmd.cso.uiuc.edu!Hart',\n",
       " '(72600.2026@compuserve.com);',\n",
       " 'self-substantial']"
      ]
     },
     "execution_count": 27,
     "metadata": {},
     "output_type": "execute_result"
    }
   ],
   "source": [
    "# Retrieve 10 words longer than 15 characters\n",
    "shakespeare.flatMap(\n",
    "    lambda k: k.split(' ') # Split in words\n",
    ").filter(\n",
    "    lambda k: len(k)>15    # Keep words longer than 15 characters\n",
    ").take(10)"
   ]
  },
  {
   "cell_type": "markdown",
   "metadata": {},
   "source": [
    "### Exercise\n",
    "\n",
    "How many times did use the word 'murder'? (**case insensitive**)"
   ]
  },
  {
   "cell_type": "code",
   "execution_count": 28,
   "metadata": {},
   "outputs": [
    {
     "data": {
      "text/plain": [
       "44"
      ]
     },
     "execution_count": 28,
     "metadata": {},
     "output_type": "execute_result"
    }
   ],
   "source": [
    "shakespeare.flatMap(\n",
    "    lambda k: k.split(' ') # Split in words\n",
    ").map(\n",
    "    lambda k: k.lower()\n",
    ").filter(\n",
    "    lambda k: k == 'murder'\n",
    ").count()"
   ]
  },
  {
   "cell_type": "markdown",
   "metadata": {},
   "source": [
    "### Exercise\n",
    "\n",
    "Show 10 words longer than 15 characters"
   ]
  },
  {
   "cell_type": "code",
   "execution_count": 29,
   "metadata": {},
   "outputs": [
    {
     "data": {
      "text/plain": [
       "['shaks12.zip*****',\n",
       " 'julianc@netcom.com',\n",
       " '100,000,000=Trillion]',\n",
       " 'hart@vmd.cso.uiuc.edu',\n",
       " 'mrcnext.cso.uiuc.edu',\n",
       " 'hart@vmd.cso.uiuc.edu',\n",
       " '>internet:hart@.vmd.cso.uiuc.edu',\n",
       " 'internet!vmd.cso.uiuc.edu!Hart',\n",
       " '(72600.2026@compuserve.com);',\n",
       " 'self-substantial']"
      ]
     },
     "execution_count": 29,
     "metadata": {},
     "output_type": "execute_result"
    }
   ],
   "source": [
    "shakespeare.flatMap(\n",
    "    lambda k: k.split(' ')\n",
    ").filter(\n",
    "    lambda k: len(k)>15\n",
    ").take(10)"
   ]
  },
  {
   "cell_type": "markdown",
   "metadata": {},
   "source": [
    "### Exercise\n",
    "Show all words longer than 15 characters, but dropping those with any of the following characters (`. , -`)"
   ]
  },
  {
   "cell_type": "code",
   "execution_count": 30,
   "metadata": {},
   "outputs": [
    {
     "data": {
      "text/plain": [
       "['incomprehensible',\n",
       " 'Gloucestershire;',\n",
       " \"NORTHUMBERLAND'S\",\n",
       " \"NORTHUMBERLAND'S\",\n",
       " 'Gloucestershire;',\n",
       " \"Northumberland's\",\n",
       " 'KING_HENRY_VIII|EPILOGUE',\n",
       " 'enfranchisement!\"',\n",
       " 'misconstruction;',\n",
       " 'honorificabilitudinitatibus;',\n",
       " 'Anthropophaginian',\n",
       " \"disproportion'd;\",\n",
       " 'Gloucestershire;',\n",
       " 'indistinguishable']"
      ]
     },
     "execution_count": 30,
     "metadata": {},
     "output_type": "execute_result"
    }
   ],
   "source": [
    "shakespeare.flatMap(\n",
    "    lambda k: k.split(' ')\n",
    ").filter(\n",
    "    lambda k: not (set('.,-') & set(k))\n",
    ").filter(\n",
    "    lambda k: len(k)>15\n",
    ").collect()"
   ]
  },
  {
   "cell_type": "markdown",
   "metadata": {},
   "source": [
    "### Exercise\n",
    "\n",
    "Retrieve the longest word (without `. , -`), reusing the `keep_longest` reduce function."
   ]
  },
  {
   "cell_type": "code",
   "execution_count": 31,
   "metadata": {},
   "outputs": [
    {
     "data": {
      "text/plain": [
       "'honorificabilitudinitatibus;'"
      ]
     },
     "execution_count": 31,
     "metadata": {},
     "output_type": "execute_result"
    }
   ],
   "source": [
    "shakespeare.flatMap(\n",
    "    lambda k: k.split(' ')\n",
    ").filter(\n",
    "    lambda k: not (set('.,-') & set(k))\n",
    ").reduce(\n",
    "    keep_longest\n",
    ")"
   ]
  },
  {
   "cell_type": "markdown",
   "metadata": {},
   "source": [
    "Which, as you all know, means \"the state of being able to achieve honours\"."
   ]
  },
  {
   "cell_type": "markdown",
   "metadata": {},
   "source": [
    "## Working with key-values"
   ]
  },
  {
   "cell_type": "markdown",
   "metadata": {},
   "source": [
    "### List the 10 most used words"
   ]
  },
  {
   "cell_type": "code",
   "execution_count": null,
   "metadata": {
    "collapsed": true
   },
   "outputs": [],
   "source": [
    "shakespeare.flatMap(\n",
    "    lambda k: k.split(' ')\n",
    ").filter(\n",
    "    lambda k: not (set('.,-') & set(k))"
   ]
  },
  {
   "cell_type": "code",
   "execution_count": null,
   "metadata": {
    "collapsed": true
   },
   "outputs": [],
   "source": []
  },
  {
   "cell_type": "code",
   "execution_count": null,
   "metadata": {
    "collapsed": true
   },
   "outputs": [],
   "source": []
  },
  {
   "cell_type": "code",
   "execution_count": null,
   "metadata": {
    "collapsed": true
   },
   "outputs": [],
   "source": []
  },
  {
   "cell_type": "code",
   "execution_count": null,
   "metadata": {
    "collapsed": true
   },
   "outputs": [],
   "source": []
  },
  {
   "cell_type": "code",
   "execution_count": null,
   "metadata": {
    "collapsed": true
   },
   "outputs": [],
   "source": []
  },
  {
   "cell_type": "markdown",
   "metadata": {},
   "source": [
    "## Structured data"
   ]
  },
  {
   "cell_type": "code",
   "execution_count": 47,
   "metadata": {
    "collapsed": true
   },
   "outputs": [],
   "source": [
    "from pyspark.sql import SQLContext\n",
    "sqlc = SQLContext(sc)"
   ]
  },
  {
   "cell_type": "code",
   "execution_count": 83,
   "metadata": {},
   "outputs": [
    {
     "data": {
      "text/plain": [
       "DataFrame[ra: double, dec: double, phot_g_mean_mag: double, phot_g_mean_flux_error: double]"
      ]
     },
     "execution_count": 83,
     "metadata": {},
     "output_type": "execute_result"
    }
   ],
   "source": [
    "gaia = sqlc.read.csv('../resources/gaia.csv.bz2', comment='#', header=True, inferSchema=True)\n",
    "gaia"
   ]
  },
  {
   "cell_type": "code",
   "execution_count": 84,
   "metadata": {},
   "outputs": [
    {
     "data": {
      "text/plain": [
       "4468363"
      ]
     },
     "execution_count": 84,
     "metadata": {},
     "output_type": "execute_result"
    }
   ],
   "source": [
    "gaia.count()"
   ]
  },
  {
   "cell_type": "code",
   "execution_count": 85,
   "metadata": {},
   "outputs": [
    {
     "data": {
      "text/plain": [
       "[Row(ra=290.21102203284977, dec=-30.512276670546044, phot_g_mean_mag=19.298657696970963, phot_g_mean_flux_error=2.1969861437903213),\n",
       " Row(ra=276.8551136254776, dec=-45.56829255155762, phot_g_mean_mag=19.71404456309139, phot_g_mean_flux_error=2.8153702962592555),\n",
       " Row(ra=291.2714016666681, dec=-30.168438928928577, phot_g_mean_mag=19.88970685445606, phot_g_mean_flux_error=2.2826860042571675),\n",
       " Row(ra=276.8386275958223, dec=-45.573612128533604, phot_g_mean_mag=18.739001037286407, phot_g_mean_flux_error=3.0656237334224734),\n",
       " Row(ra=291.2731316966207, dec=-30.163064937921643, phot_g_mean_mag=18.553687802187834, phot_g_mean_flux_error=7.280203675814308)]"
      ]
     },
     "execution_count": 85,
     "metadata": {},
     "output_type": "execute_result"
    }
   ],
   "source": [
    "gaia.head(5)"
   ]
  },
  {
   "cell_type": "markdown",
   "metadata": {
    "collapsed": true
   },
   "source": [
    "### Add a healpix column"
   ]
  },
  {
   "cell_type": "code",
   "execution_count": 92,
   "metadata": {},
   "outputs": [],
   "source": [
    "import healpy as hp\n",
    "import math\n",
    "from pyspark.sql.functions import udf\n",
    "from pyspark.sql.types import IntegerType"
   ]
  },
  {
   "cell_type": "code",
   "execution_count": 113,
   "metadata": {},
   "outputs": [],
   "source": [
    "hpix_order = 3\n",
    "\n",
    "def hpix(ra, dec):\n",
    "    phi = math.pi/180. * ra\n",
    "    theta = math.pi/180. * (90.0 - dec)\n",
    "    \n",
    "    return int(\n",
    "        hp.pixelfunc.ang2pix(2**hpix_order, theta, phi, nest=True)\n",
    "    ) # Cast from numpy.int64 to python int\n",
    "\n",
    "# Define UDF and return type\n",
    "hpix_udf = udf(hpix, IntegerType())"
   ]
  },
  {
   "cell_type": "code",
   "execution_count": 114,
   "metadata": {},
   "outputs": [
    {
     "data": {
      "text/plain": [
       "Column<b'ra'>"
      ]
     },
     "execution_count": 114,
     "metadata": {},
     "output_type": "execute_result"
    }
   ],
   "source": [
    "gaia.ra"
   ]
  },
  {
   "cell_type": "code",
   "execution_count": 115,
   "metadata": {},
   "outputs": [
    {
     "data": {
      "text/plain": [
       "Column<b'hpix(ra, dec)'>"
      ]
     },
     "execution_count": 115,
     "metadata": {},
     "output_type": "execute_result"
    }
   ],
   "source": [
    "hpix_udf(gaia.ra, gaia.dec)"
   ]
  },
  {
   "cell_type": "code",
   "execution_count": 116,
   "metadata": {},
   "outputs": [
    {
     "data": {
      "text/plain": [
       "DataFrame[ra: double, dec: double, phot_g_mean_mag: double, phot_g_mean_flux_error: double, hpix: int]"
      ]
     },
     "execution_count": 116,
     "metadata": {},
     "output_type": "execute_result"
    }
   ],
   "source": [
    "gaia_hpix = gaia.withColumn(\"hpix\", hpix_udf(gaia.ra, gaia.dec))\n",
    "gaia_hpix"
   ]
  },
  {
   "cell_type": "code",
   "execution_count": 117,
   "metadata": {},
   "outputs": [
    {
     "data": {
      "text/plain": [
       "[Row(ra=290.21102203284977, dec=-30.512276670546044, phot_g_mean_mag=19.298657696970963, phot_g_mean_flux_error=2.1969861437903213, hpix=750),\n",
       " Row(ra=276.8551136254776, dec=-45.56829255155762, phot_g_mean_mag=19.71404456309139, phot_g_mean_flux_error=2.8153702962592555, hpix=744),\n",
       " Row(ra=291.2714016666681, dec=-30.168438928928577, phot_g_mean_mag=19.88970685445606, phot_g_mean_flux_error=2.2826860042571675, hpix=750),\n",
       " Row(ra=276.8386275958223, dec=-45.573612128533604, phot_g_mean_mag=18.739001037286407, phot_g_mean_flux_error=3.0656237334224734, hpix=744),\n",
       " Row(ra=291.2731316966207, dec=-30.163064937921643, phot_g_mean_mag=18.553687802187834, phot_g_mean_flux_error=7.280203675814308, hpix=750)]"
      ]
     },
     "execution_count": 117,
     "metadata": {},
     "output_type": "execute_result"
    }
   ],
   "source": [
    "gaia_hpix.head(5)"
   ]
  },
  {
   "cell_type": "markdown",
   "metadata": {},
   "source": [
    "### Group by healpix and count"
   ]
  },
  {
   "cell_type": "code",
   "execution_count": null,
   "metadata": {
    "collapsed": true
   },
   "outputs": [],
   "source": []
  },
  {
   "cell_type": "code",
   "execution_count": null,
   "metadata": {
    "collapsed": true
   },
   "outputs": [],
   "source": []
  },
  {
   "cell_type": "code",
   "execution_count": null,
   "metadata": {
    "collapsed": true
   },
   "outputs": [],
   "source": []
  },
  {
   "cell_type": "code",
   "execution_count": null,
   "metadata": {
    "collapsed": true
   },
   "outputs": [],
   "source": []
  },
  {
   "cell_type": "code",
   "execution_count": null,
   "metadata": {
    "collapsed": true
   },
   "outputs": [],
   "source": []
  },
  {
   "cell_type": "code",
   "execution_count": null,
   "metadata": {
    "collapsed": true
   },
   "outputs": [],
   "source": []
  }
 ],
 "metadata": {
  "kernelspec": {
   "display_name": "Python 3",
   "language": "python",
   "name": "python3"
  },
  "language_info": {
   "codemirror_mode": {
    "name": "ipython",
    "version": 3
   },
   "file_extension": ".py",
   "mimetype": "text/x-python",
   "name": "python",
   "nbconvert_exporter": "python",
   "pygments_lexer": "ipython3",
   "version": "3.5.2"
  }
 },
 "nbformat": 4,
 "nbformat_minor": 1
}
