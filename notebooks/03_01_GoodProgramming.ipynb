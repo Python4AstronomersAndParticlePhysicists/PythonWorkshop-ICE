{
 "cells": [
  {
   "cell_type": "markdown",
   "metadata": {
    "collapsed": true
   },
   "source": [
    "# Table of Contents\n",
    "\n",
    "1. General characteristics\n",
    "2. Functions\n",
    "    - Functions should have descriptive names\n",
    "    - Functions should be short\n",
    "    - Functions should do one thing\n",
    "3. Classes\n",
    "    - When to use classes\n",
    "    - Encapsulation\n",
    "    - When to use inheritance\n",
    "    - `super` function\n",
    "5. Exceptions\n",
    "6. Documentation / comments\n",
    "7. Modules and packages\n",
    "8. Standard libraries (Intro): os, sys, datetime, shutil, glob, re, logging, urllib, subprocess, pickle, ... (move this to language overview)\n",
    "9. [Unit] Testing\n",
    "10. PEP8 - coding conventions\n",
    "11. Version Control Tools (Git)\n",
    "12. Virtual environments\n",
    "13. ...\n",
    "14. Miscellany:\n",
    "    - comprehensions (list/dict/set)\n",
    "    - string formatting\n",
    "    - lambda functions\n",
    "    - decorators\n",
    "    - logical operators\n",
    "    - variable scope\n",
    "    - mutable vs immutable\n",
    "    - `*args` and `**kwargs`\n",
    "    - floating point arithmetic"
   ]
  },
  {
   "cell_type": "markdown",
   "metadata": {},
   "source": [
    "# PEP 8 - Python Style Guide"
   ]
  },
  {
   "cell_type": "markdown",
   "metadata": {},
   "source": [
    "A PEP is a Python Enhancement Proposal. PEP 8 (the eigth PEP) describes how to write Python\n",
    "code in a common style that will be easily readable by other programmers. If this seems\n",
    "unnecessary, consider that programmers spend much more time reading code than writing it.\n",
    "\n",
    "You can read PEP 8 here: https://www.python.org/dev/peps/pep-0008/"
   ]
  },
  {
   "cell_type": "markdown",
   "metadata": {},
   "source": [
    "## pycodestyle"
   ]
  },
  {
   "cell_type": "markdown",
   "metadata": {},
   "source": [
    "Wouldn't it be nice if you didn't need to remember all of these silly rules\n",
    "for how to write PEP 8-consistent code? What if there was a tool that would\n",
    "tell you if your code matches PEP 8 conventions or no?\n",
    "\n",
    "There is such a tool, called [`pycodestyle`](https://pypi.python.org/pypi/pycodestyle)."
   ]
  },
  {
   "cell_type": "code",
   "execution_count": 1,
   "metadata": {
    "collapsed": true
   },
   "outputs": [],
   "source": [
    "\"\"\"\n",
    "This is some ugly code that does not conform to PEP 8.\n",
    "\n",
    "Check me with pycodestyle:\n",
    "    pycodestyle ../resources/pep8_example.py\n",
    "\"\"\"\n",
    "from string import *\n",
    "import math, os, sys\n",
    "\n",
    "def f(x):\n",
    "    \"\"\"This function has lines that are just too long. The maximum suggested line length is 80 characters.\"\"\"\n",
    "    return 4.27321*x**3 - 8.375134*x**2 + 7.451431*x + 2.214154 - math.log(3.42153*x) + (1 + math.exp(-6.231452*x**2))\n",
    "def g(x,\n",
    "     y):\n",
    "    print(\"Bad splitting of arguments\")\n",
    "\n",
    "# examples of bad spacing\n",
    "mydict  =  { 'ham' : 2,  'eggs'  : 7  }#this is badly spaced\n",
    "mylist=[ 1 , 2 , 3 ]\n",
    "\n",
    "myvar   = 7\n",
    "myvar2  = myvar*myvar\n",
    "myvar10 = myvar**10\n",
    "\n",
    "# badly formatted math\n",
    "a= myvar+7 *  18-myvar2  /  2\n",
    "\n",
    "l = 1 # l looks like 1 in some fonts\n",
    "I = l # also bad\n",
    "O = 0 # O looks like 0 in some fonts\n",
    "\n",
    "# bad variable names\n",
    "kMyUglyVariableName  = 18\n",
    "The_Meaning_Of_Life  = 42\n"
   ]
  },
  {
   "cell_type": "code",
   "execution_count": 2,
   "metadata": {
    "collapsed": false
   },
   "outputs": [
    {
     "name": "stdout",
     "output_type": "stream",
     "text": [
      "../resources/pep8_example.py:8:12: E401 multiple imports on one line\r\n",
      "../resources/pep8_example.py:10:1: E302 expected 2 blank lines, found 1\r\n",
      "../resources/pep8_example.py:11:80: E501 line too long (109 > 79 characters)\r\n",
      "../resources/pep8_example.py:12:80: E501 line too long (118 > 79 characters)\r\n",
      "../resources/pep8_example.py:13:1: E302 expected 2 blank lines, found 0\r\n",
      "../resources/pep8_example.py:14:6: E128 continuation line under-indented for visual indent\r\n",
      "../resources/pep8_example.py:18:1: E305 expected 2 blank lines after class or function definition, found 1\r\n",
      "../resources/pep8_example.py:18:7: E221 multiple spaces before operator\r\n",
      "../resources/pep8_example.py:18:10: E222 multiple spaces after operator\r\n",
      "../resources/pep8_example.py:18:13: E201 whitespace after '{'\r\n",
      "../resources/pep8_example.py:18:19: E203 whitespace before ':'\r\n",
      "../resources/pep8_example.py:18:33: E203 whitespace before ':'\r\n",
      "../resources/pep8_example.py:18:38: E202 whitespace before '}'\r\n",
      "../resources/pep8_example.py:18:40: E261 at least two spaces before inline comment\r\n",
      "../resources/pep8_example.py:18:40: E262 inline comment should start with '# '\r\n",
      "../resources/pep8_example.py:19:7: E225 missing whitespace around operator\r\n",
      "../resources/pep8_example.py:19:9: E201 whitespace after '['\r\n",
      "../resources/pep8_example.py:19:11: E203 whitespace before ','\r\n",
      "../resources/pep8_example.py:19:15: E203 whitespace before ','\r\n",
      "../resources/pep8_example.py:19:19: E202 whitespace before ']'\r\n",
      "../resources/pep8_example.py:21:6: E221 multiple spaces before operator\r\n",
      "../resources/pep8_example.py:22:7: E221 multiple spaces before operator\r\n",
      "../resources/pep8_example.py:26:2: E225 missing whitespace around operator\r\n",
      "../resources/pep8_example.py:26:13: E222 multiple spaces after operator\r\n",
      "../resources/pep8_example.py:26:24: E221 multiple spaces before operator\r\n",
      "../resources/pep8_example.py:26:27: E222 multiple spaces after operator\r\n",
      "../resources/pep8_example.py:28:1: E741 ambiguous variable name 'l'\r\n",
      "../resources/pep8_example.py:28:6: E261 at least two spaces before inline comment\r\n",
      "../resources/pep8_example.py:29:1: E741 ambiguous variable name 'I'\r\n",
      "../resources/pep8_example.py:29:6: E261 at least two spaces before inline comment\r\n",
      "../resources/pep8_example.py:30:1: E741 ambiguous variable name 'O'\r\n",
      "../resources/pep8_example.py:30:6: E261 at least two spaces before inline comment\r\n",
      "../resources/pep8_example.py:33:20: E221 multiple spaces before operator\r\n",
      "../resources/pep8_example.py:34:20: E221 multiple spaces before operator\r\n",
      "../resources/pep8_example.py:35:1: W391 blank line at end of file\r\n"
     ]
    }
   ],
   "source": [
    "!pycodestyle ../resources/pep8_example.py"
   ]
  },
  {
   "cell_type": "markdown",
   "metadata": {},
   "source": [
    "# Naming conventions"
   ]
  },
  {
   "cell_type": "markdown",
   "metadata": {},
   "source": [
    "Use descriptive names for your variables, functions, and classes. In Python,\n",
    "the following conventions are usually observed:\n",
    "* Variables, functions, and function arguments are lower-case, with underscores to separate words.\n",
    "    ```python\n",
    "    index = 0\n",
    "    num_columns = 3\n",
    "    length_m = 7.2   # you can add units to a variable name\n",
    "    ```\n",
    "* Constants can be written in all-caps.\n",
    "    ```python\n",
    "    CU_SPECIFIC_HEAT_CAPACITY = 376.812   # J/(kg K)\n",
    "    ```\n",
    "* Class names are written with the CapWords convention:\n",
    "    ```python\n",
    "    class MyClass:\n",
    "    ```\n",
    "    \n",
    "Programmers coming from other programming languages (especially FORTRAN and C/C++) should avoid using\n",
    "special encodings (e.g., [Hungarian notation](https://en.wikipedia.org/wiki/Hungarian_notation)) in their\n",
    "variable names:\n",
    "```python\n",
    "# don't do this!\n",
    "iLoopVar = 0      # i indicates integer\n",
    "szName = 'Test'   # sz means 'string'\n",
    "gGlobalVar = 7    # g indicates a global variable\n",
    "```"
   ]
  },
  {
   "cell_type": "markdown",
   "metadata": {},
   "source": [
    "# Comments"
   ]
  },
  {
   "cell_type": "markdown",
   "metadata": {},
   "source": [
    "Comments are helpful when they clarify code. They should be used *sparingly*. Why?\n",
    "* If a code is so difficult to read that it needs a comment to explain it, it should probably be rewritten.\n",
    "* Someone may update the code and forget to update a comment, making it misinformation.\n",
    "* Comments tend to clutter the code and make it difficult to read.\n",
    "\n",
    "Consider this example:"
   ]
  },
  {
   "cell_type": "code",
   "execution_count": 3,
   "metadata": {
    "collapsed": true
   },
   "outputs": [],
   "source": [
    "# this function does foo to the bar!\n",
    "def foo(bar):\n",
    "    bar = not bar   # bar is active low, so we invert the logic\n",
    "    if bar == True:   # bar can sometimes be true\n",
    "        print(\"The bar is True!\")   # success!\n",
    "    else:   # sometimes bar is not true\n",
    "        print(\"Argh!\")   # I hate it when the bar is not true!    "
   ]
  },
  {
   "cell_type": "markdown",
   "metadata": {},
   "source": [
    "Only one of these comments is helpful. This code is much easier to read when written properly:"
   ]
  },
  {
   "cell_type": "code",
   "execution_count": 4,
   "metadata": {
    "collapsed": true
   },
   "outputs": [],
   "source": [
    "def foo(bar):\n",
    "    \"\"\"\n",
    "    This function does foo to the bar!\n",
    "    \n",
    "    Bar is active low, so we invert the logic.\n",
    "    \"\"\"\n",
    "    bar = not bar    # logic inversion\n",
    "    if bar:\n",
    "        print(\"The bar is True!\")\n",
    "    else:\n",
    "        print(\"Argh!\")"
   ]
  },
  {
   "cell_type": "markdown",
   "metadata": {},
   "source": [
    "# Doc strings"
   ]
  },
  {
   "cell_type": "markdown",
   "metadata": {},
   "source": [
    "Doc-strings are a useful way to document what a function (or class) does."
   ]
  },
  {
   "cell_type": "code",
   "execution_count": 5,
   "metadata": {
    "collapsed": true
   },
   "outputs": [],
   "source": [
    "def add_two_numbers(a, b):\n",
    "    \"\"\"This function returns the result of a + b.\"\"\"\n",
    "    return a + b"
   ]
  },
  {
   "cell_type": "markdown",
   "metadata": {},
   "source": [
    "In a Jupyter notebook (like this one) or an iPython shell, you can access get information\n",
    "about what a function does and what arguments it does by reading its doc-string:"
   ]
  },
  {
   "cell_type": "code",
   "execution_count": 16,
   "metadata": {
    "collapsed": true
   },
   "outputs": [],
   "source": [
    "add_two_numbers?"
   ]
  },
  {
   "cell_type": "markdown",
   "metadata": {},
   "source": [
    "Doc-strings can be several lines long:"
   ]
  },
  {
   "cell_type": "code",
   "execution_count": 6,
   "metadata": {
    "collapsed": true
   },
   "outputs": [],
   "source": [
    "def analyze_data(data, old_format=False, make_plots=True):\n",
    "    \"\"\"\n",
    "    This function analyzes our super-important data.\n",
    "    \n",
    "    If you want to use the old data format, set old_format to True.\n",
    "    Set make_plots to false if you do not want to plot the data.\n",
    "    \"\"\"\n",
    "    # analysis ..."
   ]
  },
  {
   "cell_type": "markdown",
   "metadata": {},
   "source": [
    "If you are working on a large project, there may be project specific conventions\n",
    "on how to write doc-strings. For example:"
   ]
  },
  {
   "cell_type": "code",
   "execution_count": 7,
   "metadata": {
    "collapsed": true
   },
   "outputs": [],
   "source": [
    "def google_style_doc_string(arg1, arg2):\n",
    "    \"\"\"Example Google-style doc-string.\n",
    "    \n",
    "    Put a brief description of what the function does here.\n",
    "    In this case, the function does nothing.\n",
    "    \n",
    "    Args:\n",
    "        arg1 (str): Your full name (name + surname)\n",
    "        arg2 (int): Your favorite number\n",
    "\n",
    "    Returns:\n",
    "        bool: The return value. True for success, False otherwise.\n",
    "    \"\"\"\n",
    "\n",
    "def scipy_style_doc_string(x, y):\n",
    "    \"\"\"This is a SciPy/NumPy-style doc-string.\n",
    "    \n",
    "    All of the functions in SciPy and NumPy use this format for their\n",
    "    doc-strings.\n",
    "    \n",
    "    Parameters\n",
    "    ----------\n",
    "    x : float\n",
    "        Description of parameter `x`.\n",
    "    y :\n",
    "        Description of parameter `y` (with type not specified)\n",
    "\n",
    "    Returns\n",
    "    -------\n",
    "    err_code : int\n",
    "        Non-zero value indicates error code, or zero on success.\n",
    "    err_msg : str or None\n",
    "        Human readable error message, or None on success.\n",
    "    \"\"\""
   ]
  },
  {
   "cell_type": "markdown",
   "metadata": {},
   "source": [
    "# Functions"
   ]
  },
  {
   "cell_type": "markdown",
   "metadata": {},
   "source": [
    "## When to use functions"
   ]
  },
  {
   "cell_type": "markdown",
   "metadata": {},
   "source": [
    "Python can be used as a scripting language (like Bash or Perl), and often times Python programs start out\n",
    "as scripts. Here is an example of a script that renames image files (call it `image_renamer.py`):"
   ]
  },
  {
   "cell_type": "code",
   "execution_count": 8,
   "metadata": {
    "collapsed": true
   },
   "outputs": [],
   "source": [
    "#!/usr/bin/env python3\n",
    "\n",
    "from glob import glob\n",
    "import os\n",
    "\n",
    "jpeg_file_list = glob('Image_*.jpg')\n",
    "for old_file_name in jpeg_file_list:\n",
    "    fname_parts = old_file_name.split('_')\n",
    "    new_file_name = fname_parts[0] + '_0' + fname_parts[1]   # add leading zero: 01 -> 001\n",
    "    os.rename(old_file_name, new_file_name)"
   ]
  },
  {
   "cell_type": "markdown",
   "metadata": {},
   "source": [
    "The first line indicates to the shell that this is a Python 3 script (the `#!` combination is called a <a href=https://en.wikipedia.org/wiki/Shebang_(Unix)>shebang</a>).\n",
    "\n",
    "You can run this script as an executable from the shell, just like any other program:\n",
    "```bash\n",
    "chmod a+x image_renamer.py\n",
    "./image_renamer.py\n",
    "```"
   ]
  },
  {
   "cell_type": "markdown",
   "metadata": {},
   "source": [
    "Often times, this is all you need. However, it has several disadvantages:\n",
    "1. The flow proceeds linearly, from top to bottom. If you want to repeat some idea (maybe renaming files is only part of the script, and you need to do this several times) you end up pasting the same code in several parts of your script, making the script longer and more error prone.\n",
    "2. To reuse this code, you need to cut and paste it. This is fine for short bits of code; for longer codes, it becomes tedious. Also, if you fix a mistake in the code in one place, you need to remember to fix it (by hand!) anywhere else that code is used.\n",
    "3. Scripts can become quite long (thousands of lines). With nothing to break up the program, it is like reading a technical book without chapters or headings.\n",
    "4. The only way to test that this code works correctly is to run it in a directory with images.\n",
    "\n",
    "Functions solve all four of these problems. Consider this code:"
   ]
  },
  {
   "cell_type": "code",
   "execution_count": 9,
   "metadata": {
    "collapsed": true
   },
   "outputs": [],
   "source": [
    "\"\"\"\n",
    "image_renamer.py -- simple script to rename images.\n",
    "\"\"\"\n",
    "from glob import glob\n",
    "import sys\n",
    "import os\n",
    "\n",
    "\n",
    "def rename_images(image_list, test=False):\n",
    "    for old_file_name in image_list:\n",
    "        fname_parts = old_file_name.split('_')\n",
    "        new_file_name = fname_parts[0] + '_0' + fname_parts[1]   # add leading zero: 01 -> 001\n",
    "        if test:\n",
    "            print(new_file_name)\n",
    "        else:\n",
    "            os.rename(old_file_name, new_file_name)\n",
    "        \n",
    "\n",
    "if __name__ == '__main__':   # only run this part if the file is being executed as a script\n",
    "    directory = './'\n",
    "    if len(sys.argv) == 2:\n",
    "        directory = sys.argv[1]\n",
    "    jpeg_file_list = glob(directory + '/Image_*.jpg')\n",
    "    rename_images(jpeg_file_list)"
   ]
  },
  {
   "cell_type": "markdown",
   "metadata": {},
   "source": [
    "To be fair, the code is now longer, in in some ways more complicated. However, it has several advantages over the simple script. Recalling our previous list, note that:\n",
    "\n",
    "1. The flow is now non-linear. Nothing actually happens until the `if __name__ == '__main__'` statement, which calls the `rename_images()` function.\n",
    "2. To reuse this code, from some other script you can do `from image_renamer import rename_images`, and then use the `rename_images()` function as if you had copied it into your new piece of code.\n",
    "3. The parts of this script are now easy to identify. If you wanted to rename images in multiple directories, it would not be difficult to do.\n",
    "4. You can now test this code to see what it does:"
   ]
  },
  {
   "cell_type": "code",
   "execution_count": 10,
   "metadata": {
    "collapsed": false
   },
   "outputs": [
    {
     "name": "stdout",
     "output_type": "stream",
     "text": [
      "Image_001.jpg\n",
      "Image_002.jpg\n"
     ]
    }
   ],
   "source": [
    "rename_images(['Image_01.jpg', 'Image_02.jpg'], test=True)"
   ]
  },
  {
   "cell_type": "markdown",
   "metadata": {},
   "source": [
    "## Functions should have descriptive names"
   ]
  },
  {
   "cell_type": "markdown",
   "metadata": {},
   "source": [
    "Functions should have names that describe what they are for.\n",
    "\n",
    "For example, what does this function do?"
   ]
  },
  {
   "cell_type": "code",
   "execution_count": null,
   "metadata": {
    "collapsed": false
   },
   "outputs": [],
   "source": [
    "def myfunc(mylist):\n",
    "    import re\n",
    "    f = re.compile('([0-9]+)_.*')\n",
    "    return [int(f.findall(mystr)[0]) for mystr in mylist]\n",
    "\n",
    "myfunc(['000_Image.png', '123_Image.png', '054_Image.png'])"
   ]
  },
  {
   "cell_type": "markdown",
   "metadata": {},
   "source": [
    "A better name could be:\n",
    "```python\n",
    "def extract_integer_index(file_list):\n",
    "```\n",
    "If you name things well, it makes comments unnecessary. Your code will speak for itself!"
   ]
  },
  {
   "cell_type": "markdown",
   "metadata": {},
   "source": [
    "## Functions should be short"
   ]
  },
  {
   "cell_type": "markdown",
   "metadata": {},
   "source": [
    "Here is an example of a function that is a bit too long.\n",
    "It is not very long because it is an example, but in real physics code it is not uncommon\n",
    "to find single functions that are hundreds of lines long!"
   ]
  },
  {
   "cell_type": "code",
   "execution_count": 12,
   "metadata": {
    "collapsed": false
   },
   "outputs": [
    {
     "name": "stdout",
     "output_type": "stream",
     "text": [
      "******************************\n",
      "    Starting the Analysis!    \n",
      "******************************\n",
      "Mean:    4.272253258845437\n",
      "Std Dev: 2.2108824184193927\n",
      "Analysis successful!\n"
     ]
    }
   ],
   "source": [
    "def analyze():\n",
    "    print(\"******************************\")\n",
    "    print(\"    Starting the Analysis!    \")\n",
    "    print(\"******************************\")\n",
    "\n",
    "    # create fake data\n",
    "    x = [4.1, 2.8, 6.7, 3.5, 7.9, 8.0, 2.1, 6.3, 6.6, 4.2, 1.5]\n",
    "    y = [2.2, 5.3, 6.3, 2.4, 0.1, 0.67, 7.8, 9.1, 7.1, 4.9, 5.1]\n",
    "    \n",
    "    # make tuple and sort\n",
    "    data = list(zip(x, y))\n",
    "    data.sort()\n",
    "    \n",
    "    # calculate statistics\n",
    "    y_sum = 0\n",
    "    xy_sum = 0\n",
    "    xxy_sum = 0\n",
    "    for xx, yy in data:\n",
    "        y_sum += xx\n",
    "        xy_sum += xx*yy\n",
    "        xxy_sum += xx*xx*yy\n",
    "    xbar = xy_sum / y_sum\n",
    "    x2bar = xxy_sum/y_sum\n",
    "    std_dev = (x2bar - xbar**2)**0.5\n",
    "    \n",
    "    # print the results\n",
    "    print(\"Mean:   \", xbar)\n",
    "    print(\"Std Dev:\", std_dev)\n",
    "\n",
    "    print(\"Analysis successful!\")\n",
    "\n",
    "analyze()"
   ]
  },
  {
   "cell_type": "markdown",
   "metadata": {},
   "source": [
    "How can we improve this code? Our `analysis` function is really doing three things:\n",
    "1. Creating fake data\n",
    "2. Calculating some statistics\n",
    "3. Printing the the status and results\n",
    "\n",
    "Each of these things can be put in a separate function."
   ]
  },
  {
   "cell_type": "code",
   "execution_count": 13,
   "metadata": {
    "collapsed": false
   },
   "outputs": [
    {
     "name": "stdout",
     "output_type": "stream",
     "text": [
      "Mean:    4.272253258845437\n",
      "Std Dev: 2.2108824184193927\n"
     ]
    }
   ],
   "source": [
    "def generate_fake_data():\n",
    "    x = [4.1, 2.8, 6.7, 3.5, 7.9, 8.0, 2.1, 6.3, 6.6, 4.2, 1.5]\n",
    "    y = [2.2, 5.3, 6.3, 2.4, 0.1, 0.67, 7.8, 9.1, 7.1, 4.9, 5.1]\n",
    "    data = list(zip(x, y))\n",
    "    data.sort()\n",
    "    return data\n",
    "\n",
    "def calculate_mean_and_stddev(xy_data):\n",
    "    y_sum = 0\n",
    "    xy_sum = 0\n",
    "    xxy_sum = 0\n",
    "    for xx, yy in xy_data:\n",
    "        y_sum += xx\n",
    "        xy_sum += xx*yy\n",
    "        xxy_sum += xx*xx*yy\n",
    "    xbar = xy_sum / y_sum\n",
    "    x2bar = xxy_sum/y_sum\n",
    "    std_dev = (x2bar - xbar**2)**0.5\n",
    "    return xbar, std_dev\n",
    "\n",
    "def analyze():\n",
    "    data = generate_fake_data()\n",
    "    mean, std_dev = calculate_mean_and_stddev(data)\n",
    "    print(\"Mean:   \", mean)\n",
    "    print(\"Std Dev:\", std_dev)\n",
    "\n",
    "analyze()"
   ]
  },
  {
   "cell_type": "markdown",
   "metadata": {},
   "source": [
    "We note three important results of this code restructuring:\n",
    "1. It is much easier to tell at a glance what `analyze()` does.\n",
    "2. The comments (which we used to organize our code before) are no longer needed.\n",
    "3. `generate_fake_data()` and `calculate_mean_and_stddev()` can now be reused elsewhere."
   ]
  },
  {
   "cell_type": "markdown",
   "metadata": {},
   "source": [
    "## Functions should do one thing"
   ]
  },
  {
   "cell_type": "markdown",
   "metadata": {},
   "source": [
    "We now know we should break up big functions into smaller ones, but how do we decide\n",
    "how to break them up, and how small should they be?\n",
    "\n",
    "A useful principle for guiding the creation of functions is that functions should\n",
    "do one thing. In the previous section, our large `analysis()` function was doing\n",
    "several things, so we broke it up into smaller functions.\n",
    "\n",
    "But wait! You may notice that `calculate_mean_and_stddev()` does two things! Should we\n",
    "break it up into two functions, `calculate_mean()` and `calculate_stddev()`?\n",
    "The answer depends on two things:\n",
    "1. Will you ever want to calculate the mean and standard deviation separately?\n",
    "2. Will splitting the function into two result in a large amount of duplicated code?\n",
    "\n",
    "Another important consequence of of the \"do one thing\" principle is that it can help\n",
    "you avoid cases where a function does more than what you would expect it to do.\n",
    "\n",
    "For example, this function claims to just write data to a file; however, it also modifies the data!"
   ]
  },
  {
   "cell_type": "code",
   "execution_count": 14,
   "metadata": {
    "collapsed": true
   },
   "outputs": [],
   "source": [
    "def write_data_to_file(data, filename='data.dat'):\n",
    "    with open(filename, 'w') as f:\n",
    "        data *= 2\n",
    "        f.write(data)"
   ]
  },
  {
   "cell_type": "markdown",
   "metadata": {},
   "source": [
    "Try to imagine a much larger code where you have\n",
    "a factor of two introduced, and you can't figure out where it came from (imagine searching a large code for the number 2)."
   ]
  },
  {
   "cell_type": "markdown",
   "metadata": {},
   "source": [
    "# Classes"
   ]
  },
  {
   "cell_type": "markdown",
   "metadata": {},
   "source": [
    "## When to use classes"
   ]
  },
  {
   "cell_type": "markdown",
   "metadata": {},
   "source": [
    "The question \"When should I use classes?\" is more difficult to answer than \"When should I use functions?\" (answer: almost always). Classes are generally used in Object-Oriented Programming (OOP). A full discussion of OOP is beyond the scope of this course, so we will just give some general guidance here.\n",
    "\n",
    "You should consider using classes when:\n",
    "1. You have several functions manipulating the same set of data.\n",
    "2. You find that you are passing the same arguments to several functions.\n",
    "3. You want parts of your code to be responsible for maintaining their own internal state.\n",
    "4. You want your code to have an easy-to-use interface that doesn't require understanding exactly what the code does."
   ]
  },
  {
   "cell_type": "markdown",
   "metadata": {},
   "source": [
    "Consider this code:"
   ]
  },
  {
   "cell_type": "code",
   "execution_count": 15,
   "metadata": {
    "collapsed": false
   },
   "outputs": [
    {
     "name": "stdout",
     "output_type": "stream",
     "text": [
      "5.3133667102310085\n",
      "[1.7726318094009863, 1.4196366428391571, 9.755901417796744, 3.879247191800456, 9.739416489317696]\n",
      "[3.879247191800456, 9.739416489317696, 1.4196366428391571, 1.7726318094009863, 9.755901417796744]\n"
     ]
    }
   ],
   "source": [
    "import random\n",
    "\n",
    "def create_data_set(length, lower_bound=0, upper_bound=10, seed_value=None):\n",
    "    random.seed(seed_value)\n",
    "    return [random.uniform(lower_bound, upper_bound) for i in range(length)]\n",
    "    \n",
    "def shuffle(data):\n",
    "    random.shuffle(data)\n",
    "    return data\n",
    "\n",
    "def mean(data):\n",
    "    return sum(data)/len(data)\n",
    "    \n",
    "def display(data):\n",
    "    print(data)\n",
    "    \n",
    "def analyze(data):\n",
    "    print(mean(data))    \n",
    "    display(data)\n",
    "    new_data = shuffle(data)\n",
    "    display(new_data)\n",
    "    \n",
    "data = create_data_set(5)\n",
    "analyze(data)"
   ]
  },
  {
   "cell_type": "markdown",
   "metadata": {},
   "source": [
    "The first function creates a data set (initialization), while the other functions manipulate this data set.\n",
    "In this case, it may make sense to create a class:"
   ]
  },
  {
   "cell_type": "code",
   "execution_count": 16,
   "metadata": {
    "collapsed": false
   },
   "outputs": [
    {
     "name": "stdout",
     "output_type": "stream",
     "text": [
      "5.043469129010969\n",
      "[7.792623266150359, 2.5203796891727936, 3.1271510969213425, 7.505545791356189, 4.27164580145416]\n",
      "[2.5203796891727936, 7.505545791356189, 4.27164580145416, 7.792623266150359, 3.1271510969213425]\n"
     ]
    }
   ],
   "source": [
    "import random\n",
    "\n",
    "class DataSet:\n",
    "    def __init__(self, length, lower_bound=0, upper_bound=10, seed_value=None):\n",
    "        random.seed(seed_value)\n",
    "        self.data = [random.uniform(lower_bound, upper_bound) for i in range(length)]\n",
    "    \n",
    "    def shuffle(self):\n",
    "        random.shuffle(self.data)\n",
    "\n",
    "    def mean(self):\n",
    "        return sum(self.data)/len(self.data)\n",
    "\n",
    "    def display(self):\n",
    "        print(self.data)\n",
    "        \n",
    "    def analyze(self):\n",
    "        print(mean(self.data))    \n",
    "        self.display()\n",
    "        self.shuffle()\n",
    "        self.display()\n",
    "        \n",
    "a = DataSet(5)\n",
    "a.analyze()"
   ]
  },
  {
   "cell_type": "markdown",
   "metadata": {},
   "source": [
    "Compared to the function version, the class version:\n",
    "1. Has slightly cleaner code (especially the `analyze` function).\n",
    "2. Has a nicer interface (compare the last two lines).\n",
    "3. Is less flexible (what if you want to analyze some other data set?).\n",
    "\n",
    "In the simple example above, it is not clear whether the class version or the function version is better. Let's consider something a bit more complex... "
   ]
  },
  {
   "cell_type": "code",
   "execution_count": 10,
   "metadata": {
    "collapsed": false
   },
   "outputs": [],
   "source": [
    "import matplotlib as mpl\n",
    "import matplotlib.pyplot as plt\n",
    "import matplotlib.patches as patches\n",
    "import matplotlib.animation as animation\n",
    "from math import sin, cos, atan2\n",
    "import random\n",
    "\n",
    "\n",
    "class PacMan:\n",
    "    RADIUS = 0.1           # size of pacman\n",
    "    ANGLE_DELTA = 5        # degrees; controls how fast pacman's mouth opens/closes\n",
    "    MAX_MOUTH_ANGLE = 30   # degrees; maximum mouth opening half-angle\n",
    "    MAX_SPEED = 0.02       # controls how fast pacman moves\n",
    "    X_BOUNDS = 1           # controls x-axis display range\n",
    "    Y_BOUNDS = 0.5         # controls y-axis display range\n",
    "    \n",
    "    def __init__(self, waypoints=None):\n",
    "        self._init_figure()\n",
    "        self._init_pacman()\n",
    "        if waypoints:\n",
    "            self.waypoints = waypoints\n",
    "            self.go_home()\n",
    "        else:\n",
    "            self.waypoints = []\n",
    "        self._show_animation()\n",
    "        \n",
    "    def _init_figure(self):\n",
    "        self.fig = plt.figure()\n",
    "        self.ax = self.fig.add_subplot(111, aspect='equal')\n",
    "        self.ax.set_xlim(-self.X_BOUNDS, self.X_BOUNDS)\n",
    "        self.ax.set_ylim(-self.Y_BOUNDS, self.Y_BOUNDS)\n",
    "        \n",
    "    def _init_pacman(self):\n",
    "        self.x = 0\n",
    "        self.y = 0\n",
    "        self.angle = 0\n",
    "        self.angle_set = False\n",
    "        self.mouth_closing = True\n",
    "        self.mouth_open_angle = 30\n",
    "        pacman_patch = patches.Wedge((self.x, self.y), self.RADIUS, \n",
    "                                     self.mouth_open_angle, -self.mouth_open_angle,\n",
    "                                     color=\"yellow\", ec=\"none\")\n",
    "        self.pacman = self.ax.add_patch(pacman_patch)\n",
    "    \n",
    "    def _animate_mouth(self):\n",
    "        if self.mouth_closing:\n",
    "            self.mouth_open_angle -= self.ANGLE_DELTA\n",
    "        else:\n",
    "            self.mouth_open_angle += self.ANGLE_DELTA\n",
    "        if self.mouth_open_angle <= 0:\n",
    "            self.mouth_open_angle = 1\n",
    "            self.mouth_closing = False\n",
    "        if self.mouth_open_angle >= self.MAX_MOUTH_ANGLE:\n",
    "            self.mouth_closing = True\n",
    "        self.pacman.set_theta1(self.mouth_open_angle)\n",
    "        self.pacman.set_theta2(-self.mouth_open_angle)\n",
    "\n",
    "    def _calculate_angle_to_point(self, x, y):\n",
    "        dx = x - self.x\n",
    "        dy = y - self.y\n",
    "        angle_rad = atan2(dy, dx)\n",
    "        return angle_rad\n",
    "        \n",
    "    def _animate_motion(self):\n",
    "        if not self.waypoints:\n",
    "            return\n",
    "        way_x, way_y = self.waypoints[0]\n",
    "        if (self.x == way_x) and (self.y == way_y):\n",
    "            self.waypoints.pop(0)\n",
    "            self.angle_set = False\n",
    "            return\n",
    "        if not self.angle_set:\n",
    "            self.angle = self._calculate_angle_to_point(way_x, way_y)\n",
    "            self.angle_set = True\n",
    "        dx = self.MAX_SPEED*cos(self.angle)\n",
    "        dy = self.MAX_SPEED*sin(self.angle)\n",
    "        if abs(way_x - (self.x + dx)) >= self.MAX_SPEED:\n",
    "            self.x += dx\n",
    "        else:\n",
    "            self.x = way_x\n",
    "        if abs(way_y - (self.y + dy)) >= self.MAX_SPEED:\n",
    "            self.y += dy\n",
    "        else:\n",
    "            self.y = way_y\n",
    "        tx = mpl.transforms.Affine2D().rotate(self.angle) + \\\n",
    "             mpl.transforms.Affine2D().translate(self.x, self.y) + self.ax.transData\n",
    "        self.pacman.set_transform(tx)\n",
    "    \n",
    "    def _next_frame(self, i):\n",
    "        self._animate_mouth()\n",
    "        self._animate_motion()\n",
    "        return[self.pacman,]\n",
    "    \n",
    "    def _show_animation(self):\n",
    "        ani = animation.FuncAnimation(self.fig, self._next_frame, interval=30)\n",
    "        if mpl.get_backend() == u'MacOSX':\n",
    "            plt.show(block=False)\n",
    "        else:\n",
    "            plt.show()\n",
    "            \n",
    "    def add_waypoint(self, x, y):\n",
    "        \"\"\"Add a point where pacman should go. This function is non-blocking.\"\"\"\n",
    "        self.waypoints.append((x, y))\n",
    "    \n",
    "    @staticmethod\n",
    "    def generate_random_path(num_points):\n",
    "        \"\"\"Generate a random list of points pacman should visit.\"\"\"\n",
    "        xlim = (-PacMan.X_BOUNDS, PacMan.X_BOUNDS)\n",
    "        ylim = (-PacMan.Y_BOUNDS, PacMan.Y_BOUNDS)\n",
    "        waypoints = []\n",
    "        for i in range(num_points):\n",
    "            waypoints.append((random.uniform(*xlim), random.uniform(*ylim)))\n",
    "        return waypoints\n",
    "    \n",
    "    def add_random_path(num_points):\n",
    "        \"\"\"Add a list of random points to pacman's waypoint list.\"\"\"\n",
    "        random_points = self.generate_random_path(num_points)\n",
    "        self.waypoints.extend(random_points)\n",
    "        \n",
    "    def go_home(self):\n",
    "        \"\"\"Send pacman back to the origin (0, 0).\"\"\"\n",
    "        self.add_waypoint(-self.MAX_SPEED, 0)\n",
    "        self.add_waypoint(0, 0)\n",
    "\n",
    "\n",
    "pac = PacMan(PacMan.generate_random_path(num_points=10))"
   ]
  },
  {
   "cell_type": "markdown",
   "metadata": {},
   "source": [
    "Pacman is responsible for maintaining his own state. This sort of program lends itself very well to object-oriented programming."
   ]
  },
  {
   "cell_type": "markdown",
   "metadata": {},
   "source": [
    "## Private methods"
   ]
  },
  {
   "cell_type": "markdown",
   "metadata": {},
   "source": [
    "Functions inside classes are called methods (variables inside classes are called fields).\n",
    "\n",
    "By convention, methods that start with an underscore (e.g., `_init_pacman()`) are \"private\", although not in the way that Java or C++ methods are private. These methods can still be accessed by users, but the underscore indicates that users should not generally mess with them (they are not part of the public API).\n",
    "\n",
    "Methods that start with two underscores can also be considered private, but the two underscores has a particular use in Python called name mangling and is only needed to prevent conflicts during inheritance (very advanced Python!). Unless you know what you are doing, stick to single underscores.\n",
    "\n",
    "Methods that start and end with two underscores (e.g., `__init__()`) are generally reserved for Python system calls. Don't name your methods this way.\n",
    "\n",
    "Going back to the Pacman example, we not that there are only three methods needed to make pacman move: `add_waypoint()`, `random_path()`, and `go_home`. Each of these can be easily used without any knowledge of the complicated class internals. It is good programming to provide a simple, easy-to-use interface to classes that is difficult to use incorrectly."
   ]
  },
  {
   "cell_type": "markdown",
   "metadata": {},
   "source": [
    "## Encapsulation"
   ]
  },
  {
   "cell_type": "markdown",
   "metadata": {},
   "source": [
    "Encapsulation is an object-oriented programming concept that it is a good idea to prevent users from meddling with the internals of your class except via an approved external interface.\n",
    "\n",
    "In traditional OO languages like Java and C++, encapsulation is strongly encouraged, while Python is less strict.\n",
    "\n",
    "Here is an example of how Python classes are typically written:"
   ]
  },
  {
   "cell_type": "code",
   "execution_count": 66,
   "metadata": {
    "collapsed": true
   },
   "outputs": [],
   "source": [
    "class Rect:\n",
    "    def __init__(self, width, height):\n",
    "        self.width = width\n",
    "        self.height = height\n",
    "        \n",
    "    def area(self):\n",
    "        return self.width*self.height\n",
    "    \n",
    "    def perimeter(self):\n",
    "        return 2*self.width + 2*self.height"
   ]
  },
  {
   "cell_type": "markdown",
   "metadata": {},
   "source": [
    "This has a minimum of extra code (\"boilerplate\" in programmer-speak) and is generally the right way to make a Python class. However, note that we can do the following:"
   ]
  },
  {
   "cell_type": "code",
   "execution_count": 67,
   "metadata": {
    "collapsed": false
   },
   "outputs": [
    {
     "name": "stdout",
     "output_type": "stream",
     "text": [
      "Area of a: -3\n",
      "Area of b: ss\n"
     ]
    }
   ],
   "source": [
    "a = Rect(3, -1)    # fine\n",
    "print('Area of a:', a.area())\n",
    "\n",
    "b = Rect(2, 's')   # also fine?\n",
    "print('Area of b:', b.area())"
   ]
  },
  {
   "cell_type": "markdown",
   "metadata": {},
   "source": [
    "In some cases, it is desirable to ensure that the "
   ]
  },
  {
   "cell_type": "code",
   "execution_count": 68,
   "metadata": {
    "collapsed": true
   },
   "outputs": [],
   "source": [
    "from numbers import Number\n",
    "\n",
    "class EncapsulatedRect:\n",
    "    def __init__(self, width, height):\n",
    "        self.set_width(width)\n",
    "        self.set_height(height)\n",
    "        \n",
    "    def area(self):\n",
    "        return self._width*self._height\n",
    "    \n",
    "    def perimeter(self):\n",
    "        return 2*self._width + 2*self._height\n",
    "    \n",
    "    def get_width(self):\n",
    "        return self._width\n",
    "    \n",
    "    def get_height(self):\n",
    "        return self._height\n",
    "    \n",
    "    def set_width(self, width):\n",
    "        if isinstance(width, Number) and width > 0:\n",
    "            self._width = width\n",
    "        else:\n",
    "            raise ValueError('set_width: value should be a non-negative number.')\n",
    "        \n",
    "    def set_height(self, height):\n",
    "        if isinstance(height, Number) and height > 0:\n",
    "            self._height = height\n",
    "        else:\n",
    "            raise ValueError('set_height: value should be a non-negative number.')"
   ]
  },
  {
   "cell_type": "markdown",
   "metadata": {},
   "source": [
    "Here, `_width` and `_height` are internal variables, which can only be changed by approved setters which make sure that the values are good.\n",
    "\n",
    "Unlike in C++ and Java, however, even in our `EncapsulatedRect` we can still modify `_width` and `_height` directly:"
   ]
  },
  {
   "cell_type": "code",
   "execution_count": 78,
   "metadata": {
    "collapsed": false
   },
   "outputs": [
    {
     "name": "stdout",
     "output_type": "stream",
     "text": [
      "10\n"
     ]
    }
   ],
   "source": [
    "d = EncapsulatedRect(4, 5)\n",
    "d._width = 2\n",
    "print(d.area())"
   ]
  },
  {
   "cell_type": "markdown",
   "metadata": {},
   "source": [
    "In general, the more \"Pythonic\" approach is actually `Rect` rather than `EncapsulatedRect`. In particular, Python encourages directly accessing fields rather than using getters and setters, which add boilerplate and clutter the code. Python expects users to be smart enough to use classes the correctly."
   ]
  },
  {
   "cell_type": "markdown",
   "metadata": {},
   "source": [
    "## When to use inheritance"
   ]
  },
  {
   "cell_type": "markdown",
   "metadata": {},
   "source": [
    "## `super` Function"
   ]
  },
  {
   "cell_type": "markdown",
   "metadata": {},
   "source": [
    "# Exceptions"
   ]
  },
  {
   "cell_type": "markdown",
   "metadata": {},
   "source": [
    "Exceptions are a mechanism for handling errors. Traditionally, errors were handled with return codes, like this:"
   ]
  },
  {
   "cell_type": "code",
   "execution_count": 4,
   "metadata": {
    "collapsed": true
   },
   "outputs": [],
   "source": [
    "def example_only_does_not_work():\n",
    "    fin = open('does_not_exist.txt', 'r')\n",
    "    if not fin:\n",
    "        return -1\n",
    "    # ... do stuff with file\n",
    "    fin.close()\n",
    "    return 0"
   ]
  },
  {
   "cell_type": "markdown",
   "metadata": {},
   "source": [
    "This kind of code is problematic for two reasons:\n",
    "1. The return codes (and therefore errors) can be ignored/forgotten.\n",
    "2. The return code must be either checked by the function that calls it, or explicitly passed to higher level functions.\n",
    "3. Return codes are generally integers, so they must be looked up in a table. They also can't provide any specific details.\n",
    "\n",
    "To illustrate point #2, consider the following code:"
   ]
  },
  {
   "cell_type": "code",
   "execution_count": 5,
   "metadata": {
    "collapsed": true
   },
   "outputs": [],
   "source": [
    "def foo():\n",
    "    return -1   # error code!\n",
    "\n",
    "def bar():\n",
    "    foo()\n",
    "    return 0    # return success?\n",
    "\n",
    "def baz():\n",
    "    bar()\n",
    "    return 0    # no errors, right?"
   ]
  },
  {
   "cell_type": "markdown",
   "metadata": {},
   "source": [
    "Exceptions offer an elegant solution to all three of the problems listed above."
   ]
  },
  {
   "cell_type": "markdown",
   "metadata": {},
   "source": [
    "## Raising exceptions"
   ]
  },
  {
   "cell_type": "markdown",
   "metadata": {},
   "source": [
    "Exceptions must derive from the `BaseException` class (user-defined exceptions should be derived from `Exception`). It is common to use one of the [built-in exception subclasses](https://docs.python.org/3/library/exceptions.html). Common examples include:\n",
    "\n",
    "1. `ImportError` - raised when trying to import an unknown module.\n",
    "2. `IndexError` - raised when trying to access an invalid element in an array.\n",
    "3. `KeyError` - raised when trying to use an invalid key with a dictionary.\n",
    "4. `NameError` - raised when trying to use a variable that hasn't been defined.\n",
    "5. `TypeError` - raised when trying to use an object of the wrong type.\n",
    "6. `ValueError` - raised when an argument has the correct type but a bad value.\n",
    "7. `IOError` - raised when there is a problem with reading/writing a file.\n",
    "8. `RuntimeError` - catch-all class for errors while code is running.\n",
    "\n",
    "In general, you can use these built-in exceptions when there is one that suits the problem. For instance, you might raise a `ValueError` or `TypeError` when checking arguments to a function:"
   ]
  },
  {
   "cell_type": "code",
   "execution_count": 28,
   "metadata": {
    "collapsed": true
   },
   "outputs": [],
   "source": [
    "def foobar(value):\n",
    "    if not isinstance(value, int):\n",
    "        raise TypeError(\"foobar requires and int!\")\n",
    "    if value < 0:\n",
    "        raise ValueError(\"foobar argument 'value' should be > 0; you passed: %i\" % value)\n",
    "    \n",
    "# uncomment to test:\n",
    "# foobar(2.7)\n",
    "# foobar(-7)"
   ]
  },
  {
   "cell_type": "markdown",
   "metadata": {},
   "source": [
    "You do not need to add a string argument when raising an exception. This works fine:"
   ]
  },
  {
   "cell_type": "code",
   "execution_count": 25,
   "metadata": {
    "collapsed": false
   },
   "outputs": [
    {
     "ename": "Exception",
     "evalue": "",
     "output_type": "error",
     "traceback": [
      "\u001b[0;31m---------------------------------------------------------------------------\u001b[0m",
      "\u001b[0;31mException\u001b[0m                                 Traceback (most recent call last)",
      "\u001b[0;32m<ipython-input-25-fca2ab0ca76b>\u001b[0m in \u001b[0;36m<module>\u001b[0;34m()\u001b[0m\n\u001b[0;32m----> 1\u001b[0;31m \u001b[0;32mraise\u001b[0m \u001b[0mException\u001b[0m\u001b[0;34m\u001b[0m\u001b[0m\n\u001b[0m",
      "\u001b[0;31mException\u001b[0m: "
     ]
    }
   ],
   "source": [
    "raise Exception"
   ]
  },
  {
   "cell_type": "markdown",
   "metadata": {},
   "source": [
    "However, this is not very helpful. In general, you should add some descriptive text to your exceptions to explain to the user what exactly went wrong.\n",
    "\n",
    "To make your exceptions even more useful, or when there isn't a built-in exception that meets your needs, you can roll your own by sub-classing `Exception` or one of the other built-in exceptions:"
   ]
  },
  {
   "cell_type": "code",
   "execution_count": 36,
   "metadata": {
    "collapsed": true
   },
   "outputs": [],
   "source": [
    "class MyCustomException(Exception):\n",
    "    pass\n",
    "\n",
    "# using a doc-string instead of 'pass' is more helpful\n",
    "class CorruptFile(IOError):\n",
    "    \"\"\"Raise this exception when attempting to read a file that is corrupt.\"\"\"\n",
    "    \n",
    "# uncomment to test...\n",
    "# raise MyCustomException(\"Test\")\n",
    "# raise CorruptFile(\"Oh no, the file is corrupted!\")"
   ]
  },
  {
   "cell_type": "markdown",
   "metadata": {},
   "source": [
    "## Handling exceptions"
   ]
  },
  {
   "cell_type": "code",
   "execution_count": null,
   "metadata": {
    "collapsed": true
   },
   "outputs": [],
   "source": []
  },
  {
   "cell_type": "markdown",
   "metadata": {},
   "source": [
    "## Understanding stack traces"
   ]
  },
  {
   "cell_type": "markdown",
   "metadata": {},
   "source": [
    "Consider this line from some earlier code:"
   ]
  },
  {
   "cell_type": "code",
   "execution_count": 6,
   "metadata": {
    "collapsed": false
   },
   "outputs": [
    {
     "ename": "IOError",
     "evalue": "[Errno 2] No such file or directory: 'does_not_exist.txt'",
     "output_type": "error",
     "traceback": [
      "\u001b[0;31m---------------------------------------------------------------------------\u001b[0m",
      "\u001b[0;31mIOError\u001b[0m                                   Traceback (most recent call last)",
      "\u001b[0;32m<ipython-input-6-d2e54e559bf6>\u001b[0m in \u001b[0;36m<module>\u001b[0;34m()\u001b[0m\n\u001b[0;32m----> 1\u001b[0;31m \u001b[0mfin\u001b[0m \u001b[0;34m=\u001b[0m \u001b[0mopen\u001b[0m\u001b[0;34m(\u001b[0m\u001b[0;34m'does_not_exist.txt'\u001b[0m\u001b[0;34m,\u001b[0m \u001b[0;34m'r'\u001b[0m\u001b[0;34m)\u001b[0m\u001b[0;34m\u001b[0m\u001b[0m\n\u001b[0m",
      "\u001b[0;31mIOError\u001b[0m: [Errno 2] No such file or directory: 'does_not_exist.txt'"
     ]
    }
   ],
   "source": [
    "fin = open('does_not_exist.txt', 'r')"
   ]
  },
  {
   "cell_type": "markdown",
   "metadata": {},
   "source": [
    "The file does not exist, so it raises an error -- in this case an `IOError` (IO = input/output). Here, we have not \"handled\" this exception, so Python performs a \"stack trace\" or \"traceback\" (basically unrolling your code to show you where the error occcured).\n",
    "\n",
    "These tracebacks are an excellent way to figure out what went wrong in your program. However, they can appear to be a little cryptic to the uninitiated, so we will look at how to understand them.\n",
    "\n",
    "Consider this example, where you are trying to fit a quadratic function to two data points:"
   ]
  },
  {
   "cell_type": "code",
   "execution_count": 39,
   "metadata": {
    "collapsed": false
   },
   "outputs": [
    {
     "ename": "TypeError",
     "evalue": "Improper input: N=3 must not exceed M=2",
     "output_type": "error",
     "traceback": [
      "\u001b[0;31m---------------------------------------------------------------------------\u001b[0m",
      "\u001b[0;31mTypeError\u001b[0m                                 Traceback (most recent call last)",
      "\u001b[0;32m<ipython-input-39-3f428b60839c>\u001b[0m in \u001b[0;36m<module>\u001b[0;34m()\u001b[0m\n\u001b[1;32m      6\u001b[0m \u001b[0mx\u001b[0m \u001b[0;34m=\u001b[0m \u001b[0;34m[\u001b[0m\u001b[0;36m0\u001b[0m\u001b[0;34m,\u001b[0m \u001b[0;36m1\u001b[0m\u001b[0;34m]\u001b[0m\u001b[0;34m\u001b[0m\u001b[0m\n\u001b[1;32m      7\u001b[0m \u001b[0my\u001b[0m \u001b[0;34m=\u001b[0m \u001b[0;34m[\u001b[0m\u001b[0;36m2\u001b[0m\u001b[0;34m,\u001b[0m \u001b[0;36m3\u001b[0m\u001b[0;34m]\u001b[0m\u001b[0;34m\u001b[0m\u001b[0m\n\u001b[0;32m----> 8\u001b[0;31m \u001b[0mcurve_fit\u001b[0m\u001b[0;34m(\u001b[0m\u001b[0mf\u001b[0m\u001b[0;34m,\u001b[0m \u001b[0mx\u001b[0m\u001b[0;34m,\u001b[0m \u001b[0my\u001b[0m\u001b[0;34m)\u001b[0m\u001b[0;34m\u001b[0m\u001b[0m\n\u001b[0m",
      "\u001b[0;32m/opt/local/Library/Frameworks/Python.framework/Versions/2.7/lib/python2.7/site-packages/scipy/optimize/minpack.pyc\u001b[0m in \u001b[0;36mcurve_fit\u001b[0;34m(f, xdata, ydata, p0, sigma, absolute_sigma, check_finite, bounds, method, jac, **kwargs)\u001b[0m\n\u001b[1;32m    734\u001b[0m         \u001b[0;31m# Remove full_output from kwargs, otherwise we're passing it in twice.\u001b[0m\u001b[0;34m\u001b[0m\u001b[0;34m\u001b[0m\u001b[0m\n\u001b[1;32m    735\u001b[0m         \u001b[0mreturn_full\u001b[0m \u001b[0;34m=\u001b[0m \u001b[0mkwargs\u001b[0m\u001b[0;34m.\u001b[0m\u001b[0mpop\u001b[0m\u001b[0;34m(\u001b[0m\u001b[0;34m'full_output'\u001b[0m\u001b[0;34m,\u001b[0m \u001b[0mFalse\u001b[0m\u001b[0;34m)\u001b[0m\u001b[0;34m\u001b[0m\u001b[0m\n\u001b[0;32m--> 736\u001b[0;31m         \u001b[0mres\u001b[0m \u001b[0;34m=\u001b[0m \u001b[0mleastsq\u001b[0m\u001b[0;34m(\u001b[0m\u001b[0mfunc\u001b[0m\u001b[0;34m,\u001b[0m \u001b[0mp0\u001b[0m\u001b[0;34m,\u001b[0m \u001b[0mDfun\u001b[0m\u001b[0;34m=\u001b[0m\u001b[0mjac\u001b[0m\u001b[0;34m,\u001b[0m \u001b[0mfull_output\u001b[0m\u001b[0;34m=\u001b[0m\u001b[0;36m1\u001b[0m\u001b[0;34m,\u001b[0m \u001b[0;34m**\u001b[0m\u001b[0mkwargs\u001b[0m\u001b[0;34m)\u001b[0m\u001b[0;34m\u001b[0m\u001b[0m\n\u001b[0m\u001b[1;32m    737\u001b[0m         \u001b[0mpopt\u001b[0m\u001b[0;34m,\u001b[0m \u001b[0mpcov\u001b[0m\u001b[0;34m,\u001b[0m \u001b[0minfodict\u001b[0m\u001b[0;34m,\u001b[0m \u001b[0merrmsg\u001b[0m\u001b[0;34m,\u001b[0m \u001b[0mier\u001b[0m \u001b[0;34m=\u001b[0m \u001b[0mres\u001b[0m\u001b[0;34m\u001b[0m\u001b[0m\n\u001b[1;32m    738\u001b[0m         \u001b[0mcost\u001b[0m \u001b[0;34m=\u001b[0m \u001b[0mnp\u001b[0m\u001b[0;34m.\u001b[0m\u001b[0msum\u001b[0m\u001b[0;34m(\u001b[0m\u001b[0minfodict\u001b[0m\u001b[0;34m[\u001b[0m\u001b[0;34m'fvec'\u001b[0m\u001b[0;34m]\u001b[0m \u001b[0;34m**\u001b[0m \u001b[0;36m2\u001b[0m\u001b[0;34m)\u001b[0m\u001b[0;34m\u001b[0m\u001b[0m\n",
      "\u001b[0;32m/opt/local/Library/Frameworks/Python.framework/Versions/2.7/lib/python2.7/site-packages/scipy/optimize/minpack.pyc\u001b[0m in \u001b[0;36mleastsq\u001b[0;34m(func, x0, args, Dfun, full_output, col_deriv, ftol, xtol, gtol, maxfev, epsfcn, factor, diag)\u001b[0m\n\u001b[1;32m    378\u001b[0m     \u001b[0mm\u001b[0m \u001b[0;34m=\u001b[0m \u001b[0mshape\u001b[0m\u001b[0;34m[\u001b[0m\u001b[0;36m0\u001b[0m\u001b[0;34m]\u001b[0m\u001b[0;34m\u001b[0m\u001b[0m\n\u001b[1;32m    379\u001b[0m     \u001b[0;32mif\u001b[0m \u001b[0mn\u001b[0m \u001b[0;34m>\u001b[0m \u001b[0mm\u001b[0m\u001b[0;34m:\u001b[0m\u001b[0;34m\u001b[0m\u001b[0m\n\u001b[0;32m--> 380\u001b[0;31m         \u001b[0;32mraise\u001b[0m \u001b[0mTypeError\u001b[0m\u001b[0;34m(\u001b[0m\u001b[0;34m'Improper input: N=%s must not exceed M=%s'\u001b[0m \u001b[0;34m%\u001b[0m \u001b[0;34m(\u001b[0m\u001b[0mn\u001b[0m\u001b[0;34m,\u001b[0m \u001b[0mm\u001b[0m\u001b[0;34m)\u001b[0m\u001b[0;34m)\u001b[0m\u001b[0;34m\u001b[0m\u001b[0m\n\u001b[0m\u001b[1;32m    381\u001b[0m     \u001b[0;32mif\u001b[0m \u001b[0mepsfcn\u001b[0m \u001b[0;32mis\u001b[0m \u001b[0mNone\u001b[0m\u001b[0;34m:\u001b[0m\u001b[0;34m\u001b[0m\u001b[0m\n\u001b[1;32m    382\u001b[0m         \u001b[0mepsfcn\u001b[0m \u001b[0;34m=\u001b[0m \u001b[0mfinfo\u001b[0m\u001b[0;34m(\u001b[0m\u001b[0mdtype\u001b[0m\u001b[0;34m)\u001b[0m\u001b[0;34m.\u001b[0m\u001b[0meps\u001b[0m\u001b[0;34m\u001b[0m\u001b[0m\n",
      "\u001b[0;31mTypeError\u001b[0m: Improper input: N=3 must not exceed M=2"
     ]
    }
   ],
   "source": [
    "from scipy.optimize import curve_fit\n",
    "\n",
    "def f(x, a, b, c):\n",
    "    return a*x**2 + b*x + c\n",
    "\n",
    "x = [0, 1]\n",
    "y = [2, 3]\n",
    "curve_fit(f, x, y)"
   ]
  },
  {
   "cell_type": "markdown",
   "metadata": {},
   "source": [
    "The traceback indicates that the error is a `TypeError`, and then starts in the current file (listed in green), where the offending call is made. It tells you that the error originates on line 8 (in this case, of the notebook cell).\n",
    "\n",
    "*Aside*: you can view line numbers in an notebook by selecting a cell, pressing escape, and then pressing the (lowercase) 'L' key. Press 'L' again to turn the line numbers off.\n",
    "\n",
    "The traceback then goes to the file where the offending function resides (in this case, in `minpack.pyc` in the scipy library). The exception originated during a call to `leastsq()`.\n",
    "\n",
    "Finally, the traceback shows you where the actual `TypeError` exception was raised (also in the `minpack.pyc` file, just at a different line). The `TypeError` tells you that N=3 must not exceed M=2.\n",
    "\n",
    "This doesn't seem very helpful at first. What actually went wrong? What are N and M? In fact, the problem is one of basic linear algebra: we are trying to fit three unknowns (from our quadratic) with only two equations (one from each (x,y) data point). We need more data! Try adding another junk data point, and you will see that the error goes away.\n",
    "\n",
    "To summarize, we note the following useful lessons:\n",
    "1. Tracebacks appear cryptic, and can be quite long, but once you understand them they are very helpful!\n",
    "2. Exceptions allow you to propagate an error from where it actually occurs to where the function is used, much higher up, without any additional code (unlike return codes).\n",
    "3. Make sure that your error messages are helpful! Probably the message about \"Improper input: N=3 must not exceed M=2\" seemed very clear to the original authors, but maybe is less clear to users. How could you make the error message easier to understand?"
   ]
  },
  {
   "cell_type": "markdown",
   "metadata": {
    "collapsed": true
   },
   "source": [
    "# Unit Testing"
   ]
  },
  {
   "cell_type": "code",
   "execution_count": null,
   "metadata": {
    "collapsed": true
   },
   "outputs": [],
   "source": []
  }
 ],
 "metadata": {
  "kernelspec": {
   "display_name": "Python 3",
   "language": "python",
   "name": "python3"
  },
  "language_info": {
   "name": "python",
   "version": "3.5.2"
  }
 },
 "nbformat": 4,
 "nbformat_minor": 2
}
