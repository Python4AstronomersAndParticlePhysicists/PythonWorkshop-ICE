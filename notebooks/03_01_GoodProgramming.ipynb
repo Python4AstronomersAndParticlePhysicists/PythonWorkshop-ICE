{
 "cells": [
  {
   "cell_type": "markdown",
   "metadata": {
    "collapsed": true
   },
   "source": [
    "# Table of Contents\n",
    "\n",
    "1. General characteristics\n",
    "2. Types\n",
    "3. Classes\n",
    "    - Inheritance\n",
    "    - `super` function\n",
    "4. Flow Control\n",
    "5. Exceptions\n",
    "6. Documentation / comments\n",
    "7. Modules and packages\n",
    "8. Standard libraries (Intro): os, sys, datetime, shutil, glob, re, logging, urllib, subprocess, pickle, ...\n",
    "9. [Unit] Testing\n",
    "10. PEP8 - coding conventions\n",
    "11. Version Control Tools (Git)\n",
    "12. Virtual environments\n",
    "13. ...\n",
    "14. Miscellany:\n",
    "    - comprehensions (list/dict/set)\n",
    "    - string formatting\n",
    "    - lambda functions\n",
    "    - decorators\n",
    "    - logical operators\n",
    "    - variable scope\n",
    "    - mutable vs immutable\n",
    "    - `*args` and `**kwargs`\n",
    "    - floating point arithmetic"
   ]
  }
 ],
 "metadata": {
  "kernelspec": {
   "display_name": "Python 3",
   "language": "python",
   "name": "python3"
  },
  "language_info": {
   "codemirror_mode": {
    "name": "ipython",
    "version": 3
   },
   "file_extension": ".py",
   "mimetype": "text/x-python",
   "name": "python",
   "nbconvert_exporter": "python",
   "pygments_lexer": "ipython3",
   "version": "3.6.1"
  }
 },
 "nbformat": 4,
 "nbformat_minor": 2
}
