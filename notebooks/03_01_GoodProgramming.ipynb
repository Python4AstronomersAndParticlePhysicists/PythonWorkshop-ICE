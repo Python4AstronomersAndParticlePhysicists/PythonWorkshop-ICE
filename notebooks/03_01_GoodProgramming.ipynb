{
 "cells": [
  {
   "cell_type": "markdown",
   "metadata": {
    "collapsed": true
   },
   "source": [
    "# Table of Contents\n",
    "\n",
    "1. [PEP 8 - Python Style Guide](#pep8)\n",
    "    - [`pycodestyle`](#pycodestyle)\n",
    "2. [Naming conventions](#naming)\n",
    "3. [Comments](#comments)\n",
    "4. [Doc strings](#docstrings)\n",
    "5. [Functions](#functions)\n",
    "    - [When to use functions](#functions_when)\n",
    "    - [Functions should have descriptive names](#functions_names)\n",
    "    - [Functions should be short](#functions_short)\n",
    "    - [Functions should do one thing](#functions_one_thing)\n",
    "6. [Classes](#classes)\n",
    "    - [When to use classes](#classes_when)\n",
    "    - [Private fields and methods](#classes_private)\n",
    "    - [Encapsulation](#classes_encapsulation)\n",
    "    - [Inheritance](#classes_inheritance)\n",
    "        - [What is inheritance?](#classes_inheritance_what)\n",
    "        - [Inheritance for specialization](#classes_inheritance_specialization)\n",
    "        - [`super` function](#classes_inheritance_super)\n",
    "7. [Exceptions](#exceptions)\n",
    "    - [Raising exceptions](#raising_exceptions)\n",
    "    - [Handling exceptions](#handling_exceptions)\n",
    "    - [Understanding stack traces](#stack_traces)\n",
    "8. [Unit testing](#unit_testing)\n",
    "9. [General advice](#general_advice)\n",
    "    - [Import only what you need](#imports)\n",
    "    - [Avoid deeply nested logic](#nested_logic)\n",
    "    - [Avoid deeply nested loops](#nested_loops)"
   ]
  },
  {
   "cell_type": "markdown",
   "metadata": {},
   "source": [
    "<a id=pep8></a>\n",
    "# PEP 8 - Python Style Guide"
   ]
  },
  {
   "cell_type": "markdown",
   "metadata": {},
   "source": [
    "A PEP is a Python Enhancement Proposal. PEP 8 (the eighth PEP) describes how to write Python\n",
    "code in a common style that will be easily readable by other programmers. If this seems\n",
    "unnecessary, consider that programmers spend much more time reading code than writing it.\n",
    "\n",
    "You can read PEP 8 here: https://www.python.org/dev/peps/pep-0008/"
   ]
  },
  {
   "cell_type": "markdown",
   "metadata": {},
   "source": [
    "<a id=pycodestyle></a>\n",
    "## pycodestyle"
   ]
  },
  {
   "cell_type": "markdown",
   "metadata": {},
   "source": [
    "Wouldn't it be nice if you didn't need to remember all of these silly rules\n",
    "for how to write PEP 8-consistent code? What if there was a tool that would\n",
    "tell you if your code matches PEP 8 conventions or no?\n",
    "\n",
    "There is such a tool, called [`pycodestyle`](https://pypi.python.org/pypi/pycodestyle)."
   ]
  },
  {
   "cell_type": "code",
   "execution_count": null,
   "metadata": {
    "collapsed": true
   },
   "outputs": [],
   "source": [
    "\"\"\"\n",
    "This is some ugly code that does not conform to PEP 8.\n",
    "\n",
    "Check me with pycodestyle:\n",
    "    pycodestyle ../resources/pep8_example.py\n",
    "\"\"\"\n",
    "from string import *\n",
    "import math, os, sys\n",
    "\n",
    "def f(x):\n",
    "    \"\"\"This function has lines that are just too long. The maximum suggested line length is 80 characters.\"\"\"\n",
    "    return 4.27321*x**3  -8.375134*x**2  + 7.451431*x + 2.214154 - math.log(3.42153*x) + (1 + math.exp(-6.231452*x**2))\n",
    "def g(x,\n",
    "     y):\n",
    "    print(\"Bad splitting of arguments\")\n",
    "\n",
    "# examples of bad spacing\n",
    "mydict  =  { 'ham' : 2,  'eggs'  : 7  }#this is badly spaced\n",
    "mylist=[ 1 , 2 , 3 ]\n",
    "\n",
    "myvar   = 7\n",
    "myvar2  = myvar*myvar\n",
    "myvar10 = myvar**10\n",
    "\n",
    "# badly formatted math\n",
    "a= myvar+7 *  18-myvar2  /  2\n",
    "\n",
    "l = 1 # l looks like 1 in some fonts\n",
    "I = l # also bad\n",
    "O = 0 # O looks like 0 in some fonts\n"
   ]
  },
  {
   "cell_type": "code",
   "execution_count": null,
   "metadata": {
    "collapsed": false
   },
   "outputs": [],
   "source": [
    "!pycodestyle ../resources/pep8_example.py"
   ]
  },
  {
   "cell_type": "markdown",
   "metadata": {},
   "source": [
    "### Exercise 1\n",
    "\n",
    "Load the `../resources/pep8_example.py` file in a text editor (you can use Jupyter notebook, or something else) and fix the problems in that `pycodestyle` is complaining about. Then rerun `pycodestyle` using the cell above, or from the terminal:\n",
    "\n",
    "```bash\n",
    "cd PythonWorkshop-ICE/resources\n",
    "pycodestyle pep8_example.py\n",
    "```"
   ]
  },
  {
   "cell_type": "markdown",
   "metadata": {},
   "source": [
    "<a id=naming></a>\n",
    "# Naming conventions"
   ]
  },
  {
   "cell_type": "markdown",
   "metadata": {},
   "source": [
    "Use descriptive names for your variables, functions, and classes. In Python,\n",
    "the following conventions are usually observed:\n",
    "* Variables, functions, and function arguments are lower-case, with underscores to separate words.\n",
    "    ```python\n",
    "    index = 0\n",
    "    num_columns = 3\n",
    "    length_m = 7.2   # you can add units to a variable name\n",
    "    ```\n",
    "* Constants can be written in all-caps.\n",
    "    ```python\n",
    "    CU_SPECIFIC_HEAT_CAPACITY = 376.812   # J/(kg K)\n",
    "    ```\n",
    "* Class names are written with the CapWords convention:\n",
    "    ```python\n",
    "    class MyClass:\n",
    "    ```\n",
    "    \n",
    "Programmers coming from other programming languages (especially FORTRAN and C/C++) should avoid using\n",
    "special encodings (e.g., [Hungarian notation](https://en.wikipedia.org/wiki/Hungarian_notation)) in their\n",
    "variable names:\n",
    "```python\n",
    "# don't do this!\n",
    "iLoopVar = 0      # i indicates integer\n",
    "szName = 'Test'   # sz means 'string'\n",
    "gGlobalVar = 7    # g indicates a global variable\n",
    "```"
   ]
  },
  {
   "cell_type": "markdown",
   "metadata": {},
   "source": [
    "<a id=comments></a>\n",
    "# Comments"
   ]
  },
  {
   "cell_type": "markdown",
   "metadata": {},
   "source": [
    "Comments are helpful when they clarify code. They should be used *sparingly*. Why?\n",
    "* If a code is so difficult to read that it needs a comment to explain it, it should probably be rewritten.\n",
    "* Someone may update the code and forget to update a comment, making it misinformation.\n",
    "* Comments tend to clutter the code and make it difficult to read.\n",
    "\n",
    "Consider this example:"
   ]
  },
  {
   "cell_type": "code",
   "execution_count": null,
   "metadata": {
    "collapsed": true
   },
   "outputs": [],
   "source": [
    "# this function does foo to the bar!\n",
    "def foo(bar):\n",
    "    bar = not bar   # bar is active low, so we invert the logic\n",
    "    if bar == True:   # bar can sometimes be true\n",
    "        print(\"The bar is True!\")   # success!\n",
    "    else:   # sometimes bar is not true\n",
    "        print(\"Argh!\")   # I hate it when the bar is not true!    "
   ]
  },
  {
   "cell_type": "markdown",
   "metadata": {},
   "source": [
    "Only one of these comments is helpful. This code is much easier to read when written properly:"
   ]
  },
  {
   "cell_type": "code",
   "execution_count": null,
   "metadata": {
    "collapsed": true
   },
   "outputs": [],
   "source": [
    "def foo(bar):\n",
    "    \"\"\"\n",
    "    This function does foo to the bar!\n",
    "    \n",
    "    Bar is active low, so we invert the logic.\n",
    "    \"\"\"\n",
    "    bar = not bar    # logic inversion\n",
    "    if bar:\n",
    "        print(\"The bar is True!\")\n",
    "    else:\n",
    "        print(\"Argh!\")"
   ]
  },
  {
   "cell_type": "markdown",
   "metadata": {},
   "source": [
    "<a id=docstrings></a>\n",
    "# Doc strings"
   ]
  },
  {
   "cell_type": "markdown",
   "metadata": {},
   "source": [
    "Doc-strings are a useful way to document what a function (or class) does."
   ]
  },
  {
   "cell_type": "code",
   "execution_count": null,
   "metadata": {
    "collapsed": true
   },
   "outputs": [],
   "source": [
    "def add_two_numbers(a, b):\n",
    "    \"\"\"This function returns the result of a + b.\"\"\"\n",
    "    return a + b"
   ]
  },
  {
   "cell_type": "markdown",
   "metadata": {},
   "source": [
    "In a Jupyter notebook (like this one) or an iPython shell, you can access get information\n",
    "about what a function does and what arguments it does by reading its doc-string:"
   ]
  },
  {
   "cell_type": "code",
   "execution_count": null,
   "metadata": {
    "collapsed": true
   },
   "outputs": [],
   "source": [
    "add_two_numbers?"
   ]
  },
  {
   "cell_type": "markdown",
   "metadata": {},
   "source": [
    "Doc-strings can be several lines long:"
   ]
  },
  {
   "cell_type": "code",
   "execution_count": null,
   "metadata": {
    "collapsed": true
   },
   "outputs": [],
   "source": [
    "def analyze_data(data, old_format=False, make_plots=True):\n",
    "    \"\"\"\n",
    "    This function analyzes our super-important data.\n",
    "    \n",
    "    If you want to use the old data format, set old_format to True.\n",
    "    Set make_plots to false if you do not want to plot the data.\n",
    "    \"\"\"\n",
    "    # analysis ..."
   ]
  },
  {
   "cell_type": "markdown",
   "metadata": {},
   "source": [
    "If you are working on a large project, there may be project specific conventions\n",
    "on how to write doc-strings. For example:"
   ]
  },
  {
   "cell_type": "code",
   "execution_count": null,
   "metadata": {
    "collapsed": true
   },
   "outputs": [],
   "source": [
    "def google_style_doc_string(arg1, arg2):\n",
    "    \"\"\"Example Google-style doc-string.\n",
    "    \n",
    "    Put a brief description of what the function does here.\n",
    "    In this case, the function does nothing.\n",
    "    \n",
    "    Args:\n",
    "        arg1 (str): Your full name (name + surname)\n",
    "        arg2 (int): Your favorite number\n",
    "\n",
    "    Returns:\n",
    "        bool: The return value. True for success, False otherwise.\n",
    "    \"\"\"\n",
    "\n",
    "def scipy_style_doc_string(x, y):\n",
    "    \"\"\"This is a SciPy/NumPy-style doc-string.\n",
    "    \n",
    "    All of the functions in SciPy and NumPy use this format for their\n",
    "    doc-strings.\n",
    "    \n",
    "    Parameters\n",
    "    ----------\n",
    "    x : float\n",
    "        Description of parameter `x`.\n",
    "    y :\n",
    "        Description of parameter `y` (with type not specified)\n",
    "\n",
    "    Returns\n",
    "    -------\n",
    "    err_code : int\n",
    "        Non-zero value indicates error code, or zero on success.\n",
    "    err_msg : str or None\n",
    "        Human readable error message, or None on success.\n",
    "    \"\"\""
   ]
  },
  {
   "cell_type": "markdown",
   "metadata": {},
   "source": [
    "<a id=functions></a>\n",
    "# Functions"
   ]
  },
  {
   "cell_type": "markdown",
   "metadata": {},
   "source": [
    "<a id=functions_when></a>\n",
    "## When to use functions"
   ]
  },
  {
   "cell_type": "markdown",
   "metadata": {},
   "source": [
    "Python can be used as a scripting language (like Bash or Perl), and often times Python programs start out\n",
    "as scripts. Here is an example of a script that renames image files (call it `image_renamer.py`):"
   ]
  },
  {
   "cell_type": "code",
   "execution_count": null,
   "metadata": {
    "collapsed": true
   },
   "outputs": [],
   "source": [
    "#!/usr/bin/env python3\n",
    "\n",
    "from glob import glob\n",
    "import os\n",
    "\n",
    "jpeg_file_list = glob('Image_*.jpg')\n",
    "for old_file_name in jpeg_file_list:\n",
    "    fname_parts = old_file_name.split('_')\n",
    "    new_file_name = fname_parts[0] + '_0' + fname_parts[1]   # add leading zero: 01 -> 001\n",
    "    os.rename(old_file_name, new_file_name)"
   ]
  },
  {
   "cell_type": "markdown",
   "metadata": {},
   "source": [
    "The first line indicates to the shell that this is a Python 3 script (the `#!` combination is called a <a href=https://en.wikipedia.org/wiki/Shebang_(Unix)>shebang</a>).\n",
    "\n",
    "You can run this script as an executable from the shell, just like any other program:\n",
    "```bash\n",
    "chmod a+x image_renamer.py\n",
    "./image_renamer.py\n",
    "```"
   ]
  },
  {
   "cell_type": "markdown",
   "metadata": {},
   "source": [
    "Often times, this is all you need. However, it has several disadvantages:\n",
    "1. The flow proceeds linearly, from top to bottom. If you want to repeat some idea (maybe renaming files is only part of the script, and you need to do this several times) you end up pasting the same code in several parts of your script, making the script longer and more error prone.\n",
    "2. To reuse this code, you need to cut and paste it. This is fine for short bits of code; for longer codes, it becomes tedious. Also, if you fix a mistake in the code in one place, you need to remember to fix it (by hand!) anywhere else that code is used.\n",
    "3. Scripts can become quite long (thousands of lines). With nothing to break up the program, it is like reading a technical book without chapters or headings.\n",
    "4. The only way to test that this code works correctly is to run it in a directory with images.\n",
    "\n",
    "Functions solve all four of these problems. Consider this code:"
   ]
  },
  {
   "cell_type": "code",
   "execution_count": null,
   "metadata": {
    "collapsed": true
   },
   "outputs": [],
   "source": [
    "\"\"\"\n",
    "image_renamer.py -- simple script to rename images.\n",
    "\"\"\"\n",
    "from glob import glob\n",
    "import sys\n",
    "import os\n",
    "\n",
    "\n",
    "def rename_images(image_list, test=False):\n",
    "    for old_file_name in image_list:\n",
    "        fname_parts = old_file_name.split('_')\n",
    "        new_file_name = fname_parts[0] + '_0' + fname_parts[1]   # add leading zero: 01 -> 001\n",
    "        if test:\n",
    "            print(new_file_name)\n",
    "        else:\n",
    "            os.rename(old_file_name, new_file_name)\n",
    "        \n",
    "\n",
    "if __name__ == '__main__':   # only run this part if the file is being executed as a script\n",
    "    directory = './'\n",
    "    if len(sys.argv) == 2:\n",
    "        directory = sys.argv[1]\n",
    "    jpeg_file_list = glob(directory + '/Image_*.jpg')\n",
    "    rename_images(jpeg_file_list)"
   ]
  },
  {
   "cell_type": "markdown",
   "metadata": {},
   "source": [
    "To be fair, the code is now longer, in in some ways more complicated. However, it has several advantages over the simple script. Recalling our previous list, note that:\n",
    "\n",
    "1. The flow is now non-linear. Nothing actually happens until the `if __name__ == '__main__'` statement, which calls the `rename_images()` function.\n",
    "2. To reuse this code, from some other script you can do `from image_renamer import rename_images`, and then use the `rename_images()` function as if you had copied it into your new piece of code.\n",
    "3. The parts of this script are now easy to identify. If you wanted to rename images in multiple directories, it would not be difficult to do.\n",
    "4. You can now test this code to see what it does:"
   ]
  },
  {
   "cell_type": "code",
   "execution_count": null,
   "metadata": {
    "collapsed": false
   },
   "outputs": [],
   "source": [
    "rename_images(['Image_01.jpg', 'Image_02.jpg'], test=True)"
   ]
  },
  {
   "cell_type": "markdown",
   "metadata": {},
   "source": [
    "<a id=functions_names></a>\n",
    "## Functions should have descriptive names"
   ]
  },
  {
   "cell_type": "markdown",
   "metadata": {},
   "source": [
    "Functions should have names that describe what they are for.\n",
    "\n",
    "For example, what does this function do?"
   ]
  },
  {
   "cell_type": "code",
   "execution_count": null,
   "metadata": {
    "collapsed": false
   },
   "outputs": [],
   "source": [
    "def myfunc(mylist):\n",
    "    import re\n",
    "    f = re.compile('([0-9]+)_.*')\n",
    "    return [int(f.findall(mystr)[0]) for mystr in mylist]\n",
    "\n",
    "myfunc(['000_Image.png', '123_Image.png', '054_Image.png'])"
   ]
  },
  {
   "cell_type": "markdown",
   "metadata": {},
   "source": [
    "A better name could be:\n",
    "```python\n",
    "def extract_integer_index(file_list):\n",
    "```\n",
    "If you name things well, it makes comments unnecessary. Your code will speak for itself!"
   ]
  },
  {
   "cell_type": "markdown",
   "metadata": {},
   "source": [
    "<a id=functions_short></a>\n",
    "## Functions should be short"
   ]
  },
  {
   "cell_type": "markdown",
   "metadata": {},
   "source": [
    "Here is an example of a function that is a bit too long.\n",
    "It is not very long because it is an example, but in real physics code it is not uncommon\n",
    "to find single functions that are hundreds of lines long!"
   ]
  },
  {
   "cell_type": "code",
   "execution_count": null,
   "metadata": {
    "collapsed": false
   },
   "outputs": [],
   "source": [
    "def analyze():\n",
    "    print(\"******************************\")\n",
    "    print(\"    Starting the Analysis!    \")\n",
    "    print(\"******************************\")\n",
    "\n",
    "    # create fake data\n",
    "    x = [4.1, 2.8, 6.7, 3.5, 7.9, 8.0, 2.1, 6.3, 6.6, 4.2, 1.5]\n",
    "    y = [2.2, 5.3, 6.3, 2.4, 0.1, 0.67, 7.8, 9.1, 7.1, 4.9, 5.1]\n",
    "    \n",
    "    # make tuple and sort\n",
    "    data = list(zip(x, y))\n",
    "    data.sort()\n",
    "    \n",
    "    # calculate statistics\n",
    "    y_sum = 0\n",
    "    xy_sum = 0\n",
    "    xxy_sum = 0\n",
    "    for xx, yy in data:\n",
    "        y_sum += xx\n",
    "        xy_sum += xx*yy\n",
    "        xxy_sum += xx*xx*yy\n",
    "    xbar = xy_sum / y_sum\n",
    "    x2bar = xxy_sum/y_sum\n",
    "    std_dev = (x2bar - xbar**2)**0.5\n",
    "    \n",
    "    # print the results\n",
    "    print(\"Mean:   \", xbar)\n",
    "    print(\"Std Dev:\", std_dev)\n",
    "\n",
    "    print(\"Analysis successful!\")\n",
    "\n",
    "analyze()"
   ]
  },
  {
   "cell_type": "markdown",
   "metadata": {},
   "source": [
    "How can we improve this code? Our `analysis` function is really doing three things:\n",
    "1. Creating fake data\n",
    "2. Calculating some statistics\n",
    "3. Printing the the status and results\n",
    "\n",
    "Each of these things can be put in a separate function."
   ]
  },
  {
   "cell_type": "code",
   "execution_count": null,
   "metadata": {
    "collapsed": false
   },
   "outputs": [],
   "source": [
    "def generate_fake_data():\n",
    "    x = [4.1, 2.8, 6.7, 3.5, 7.9, 8.0, 2.1, 6.3, 6.6, 4.2, 1.5]\n",
    "    y = [2.2, 5.3, 6.3, 2.4, 0.1, 0.67, 7.8, 9.1, 7.1, 4.9, 5.1]\n",
    "    data = list(zip(x, y))\n",
    "    data.sort()\n",
    "    return data\n",
    "\n",
    "def calculate_mean_and_stddev(xy_data):\n",
    "    y_sum = 0\n",
    "    xy_sum = 0\n",
    "    xxy_sum = 0\n",
    "    for xx, yy in xy_data:\n",
    "        y_sum += xx\n",
    "        xy_sum += xx*yy\n",
    "        xxy_sum += xx*xx*yy\n",
    "    xbar = xy_sum / y_sum\n",
    "    x2bar = xxy_sum/y_sum\n",
    "    std_dev = (x2bar - xbar**2)**0.5\n",
    "    return xbar, std_dev\n",
    "\n",
    "def generate_data_and_compute_statistics():\n",
    "    data = generate_fake_data()\n",
    "    mean, std_dev = calculate_mean_and_stddev(data)\n",
    "    print(\"Mean:   \", mean)\n",
    "    print(\"Std Dev:\", std_dev)\n",
    "\n",
    "generate_data_and_compute_statistics()"
   ]
  },
  {
   "cell_type": "markdown",
   "metadata": {},
   "source": [
    "We note three important results of this code restructuring:\n",
    "1. It is much easier to tell at a glance what `analyze()` does.\n",
    "2. The comments (which we used to organize our code before) are no longer needed.\n",
    "3. `generate_fake_data()` and `calculate_mean_and_stddev()` can now be reused elsewhere."
   ]
  },
  {
   "cell_type": "markdown",
   "metadata": {},
   "source": [
    "<a id=functions_one_thing></a>\n",
    "## Functions should do one thing"
   ]
  },
  {
   "cell_type": "markdown",
   "metadata": {},
   "source": [
    "We now know we should break up big functions into smaller ones, but how do we decide\n",
    "how to break them up, and how small should they be?\n",
    "\n",
    "A useful principle for guiding the creation of functions is that functions should\n",
    "do one thing. In the previous section, our large `analysis()` function was doing\n",
    "several things, so we broke it up into smaller functions.\n",
    "\n",
    "But wait! You may notice that `calculate_mean_and_stddev()` does two things! Should we\n",
    "break it up into two functions, `calculate_mean()` and `calculate_stddev()`?\n",
    "The answer depends on two things:\n",
    "1. Will you ever want to calculate the mean and standard deviation separately?\n",
    "2. Will splitting the function into two result in a large amount of duplicated code?\n",
    "\n",
    "Another important consequence of of the \"do one thing\" principle is that it can help\n",
    "you avoid cases where a function does more than what you would expect it to do.\n",
    "\n",
    "For example, this function claims to just write data to a file; however, it also modifies the data!"
   ]
  },
  {
   "cell_type": "code",
   "execution_count": null,
   "metadata": {
    "collapsed": true
   },
   "outputs": [],
   "source": [
    "def write_data_to_file(data, filename='data.dat'):\n",
    "    \"\"\"This function is an abomination!\"\"\"\n",
    "    with open(filename, 'w') as f:\n",
    "        data *= 2\n",
    "        f.write(data)"
   ]
  },
  {
   "cell_type": "markdown",
   "metadata": {},
   "source": [
    "Try to imagine a much larger code where you have\n",
    "a factor of two introduced, and you can't figure out where it came from (imagine searching a large code for the number 2)."
   ]
  },
  {
   "cell_type": "markdown",
   "metadata": {},
   "source": [
    "<a id=classes></a>\n",
    "# Classes"
   ]
  },
  {
   "cell_type": "markdown",
   "metadata": {},
   "source": [
    "<a id=classes_when></a>\n",
    "## When to use classes"
   ]
  },
  {
   "cell_type": "markdown",
   "metadata": {},
   "source": [
    "The question \"When should I use classes?\" is more difficult to answer than \"When should I use functions?\" (answer: almost always). Classes are generally used in Object-Oriented Programming (OOP). A full discussion of OOP is beyond the scope of this course, so we will just give some general guidance here.\n",
    "\n",
    "You should consider using classes when:\n",
    "1. You have several functions manipulating the same set of data.\n",
    "2. You find that you are passing the same arguments to several functions.\n",
    "3. You want parts of your code to be responsible for maintaining their own internal state.\n",
    "4. You want your code to have an easy-to-use interface that doesn't require understanding exactly what the code does."
   ]
  },
  {
   "cell_type": "markdown",
   "metadata": {},
   "source": [
    "Consider this code:"
   ]
  },
  {
   "cell_type": "code",
   "execution_count": null,
   "metadata": {
    "collapsed": false
   },
   "outputs": [],
   "source": [
    "import random\n",
    "\n",
    "def create_data_set(length, lower_bound=0, upper_bound=10, seed_value=None):\n",
    "    random.seed(seed_value)\n",
    "    return [random.uniform(lower_bound, upper_bound) for i in range(length)]\n",
    "    \n",
    "def shuffle(data):\n",
    "    random.shuffle(data)\n",
    "    return data\n",
    "\n",
    "def mean(data):\n",
    "    return sum(data)/len(data)\n",
    "    \n",
    "def display(data):\n",
    "    print(data)\n",
    "    \n",
    "def analyze(data):\n",
    "    print(mean(data))    \n",
    "    display(data)\n",
    "    new_data = shuffle(data)\n",
    "    display(new_data)\n",
    "    \n",
    "data = create_data_set(5)\n",
    "analyze(data)"
   ]
  },
  {
   "cell_type": "markdown",
   "metadata": {},
   "source": [
    "The first function creates a data set (initialization), while the other functions manipulate this data set.\n",
    "In this case, it may make sense to create a class:"
   ]
  },
  {
   "cell_type": "code",
   "execution_count": null,
   "metadata": {
    "collapsed": false
   },
   "outputs": [],
   "source": [
    "import random\n",
    "\n",
    "class DataSet:\n",
    "    def __init__(self, length, lower_bound=0, upper_bound=10, seed_value=None):\n",
    "        random.seed(seed_value)\n",
    "        self.data = [random.uniform(lower_bound, upper_bound) for i in range(length)]\n",
    "    \n",
    "    def shuffle(self):\n",
    "        random.shuffle(self.data)\n",
    "\n",
    "    def mean(self):\n",
    "        return sum(self.data)/len(self.data)\n",
    "\n",
    "    def display(self):\n",
    "        print(self.data)\n",
    "        \n",
    "    def analyze(self):\n",
    "        print(mean(self.data))    \n",
    "        self.display()\n",
    "        self.shuffle()\n",
    "        self.display()\n",
    "        \n",
    "a = DataSet(5)\n",
    "a.analyze()"
   ]
  },
  {
   "cell_type": "markdown",
   "metadata": {},
   "source": [
    "Compared to the function version, the class version:\n",
    "1. Has slightly cleaner code (especially the `analyze` function).\n",
    "2. Has a nicer interface (compare the last two lines).\n",
    "3. Is less flexible (what if you want to analyze some other data set?).\n",
    "\n",
    "In the simple example above, it is not clear whether the class version or the function version is better. Let's consider something a bit more complex... "
   ]
  },
  {
   "cell_type": "code",
   "execution_count": null,
   "metadata": {
    "collapsed": false
   },
   "outputs": [],
   "source": [
    "import matplotlib as mpl\n",
    "import matplotlib.pyplot as plt\n",
    "import matplotlib.patches as patches\n",
    "import matplotlib.animation as animation\n",
    "from math import sin, cos, atan2\n",
    "import random\n",
    "\n",
    "\n",
    "class PacMan:\n",
    "    RADIUS = 0.1           # size of pacman\n",
    "    ANGLE_DELTA = 5        # degrees; controls how fast pacman's mouth opens/closes\n",
    "    MAX_MOUTH_ANGLE = 30   # degrees; maximum mouth opening half-angle\n",
    "    MAX_SPEED = 0.02       # controls how fast pacman moves\n",
    "    X_BOUNDS = 1           # controls x-axis display range\n",
    "    Y_BOUNDS = 0.5         # controls y-axis display range\n",
    "    \n",
    "    def __init__(self, waypoints=None):\n",
    "        self._init_figure()\n",
    "        self._init_pacman()\n",
    "        if waypoints:\n",
    "            self.waypoints = waypoints\n",
    "            self.go_home()\n",
    "        else:\n",
    "            self.waypoints = []\n",
    "        self._show_animation()\n",
    "        \n",
    "    def _init_figure(self):\n",
    "        self.fig = plt.figure()\n",
    "        self.ax = self.fig.add_subplot(111, aspect='equal')\n",
    "        self.ax.set_xlim(-self.X_BOUNDS, self.X_BOUNDS)\n",
    "        self.ax.set_ylim(-self.Y_BOUNDS, self.Y_BOUNDS)\n",
    "        \n",
    "    def _init_pacman(self):\n",
    "        self.x = 0\n",
    "        self.y = 0\n",
    "        self.angle = 0\n",
    "        self.angle_set = False\n",
    "        self.mouth_closing = True\n",
    "        self.mouth_open_angle = 30\n",
    "        pacman_patch = patches.Wedge((self.x, self.y), self.RADIUS, \n",
    "                                     self.mouth_open_angle, -self.mouth_open_angle,\n",
    "                                     color=\"yellow\", ec=\"none\")\n",
    "        self.pacman = self.ax.add_patch(pacman_patch)\n",
    "    \n",
    "    def _animate_mouth(self):\n",
    "        if self.mouth_closing:\n",
    "            self.mouth_open_angle -= self.ANGLE_DELTA\n",
    "        else:\n",
    "            self.mouth_open_angle += self.ANGLE_DELTA\n",
    "        if self.mouth_open_angle <= 0:\n",
    "            self.mouth_open_angle = 1\n",
    "            self.mouth_closing = False\n",
    "        if self.mouth_open_angle >= self.MAX_MOUTH_ANGLE:\n",
    "            self.mouth_closing = True\n",
    "        self.pacman.set_theta1(self.mouth_open_angle)\n",
    "        self.pacman.set_theta2(-self.mouth_open_angle)\n",
    "\n",
    "    def _calculate_angle_to_point(self, x, y):\n",
    "        dx = x - self.x\n",
    "        dy = y - self.y\n",
    "        angle_rad = atan2(dy, dx)\n",
    "        return angle_rad\n",
    "        \n",
    "    def _animate_motion(self):\n",
    "        if not self.waypoints:\n",
    "            return\n",
    "        way_x, way_y = self.waypoints[0]\n",
    "        if (self.x == way_x) and (self.y == way_y):\n",
    "            self.waypoints.pop(0)\n",
    "            self.angle_set = False\n",
    "            return\n",
    "        if not self.angle_set:\n",
    "            self.angle = self._calculate_angle_to_point(way_x, way_y)\n",
    "            self.angle_set = True\n",
    "        dx = self.MAX_SPEED*cos(self.angle)\n",
    "        dy = self.MAX_SPEED*sin(self.angle)\n",
    "        if abs(way_x - (self.x + dx)) >= self.MAX_SPEED:\n",
    "            self.x += dx\n",
    "        else:\n",
    "            self.x = way_x\n",
    "        if abs(way_y - (self.y + dy)) >= self.MAX_SPEED:\n",
    "            self.y += dy\n",
    "        else:\n",
    "            self.y = way_y\n",
    "        tx = mpl.transforms.Affine2D().rotate(self.angle) + \\\n",
    "             mpl.transforms.Affine2D().translate(self.x, self.y) + self.ax.transData\n",
    "        self.pacman.set_transform(tx)\n",
    "    \n",
    "    def _next_frame(self, i):\n",
    "        self._animate_mouth()\n",
    "        self._animate_motion()\n",
    "        return[self.pacman,]\n",
    "    \n",
    "    def _show_animation(self):\n",
    "        ani = animation.FuncAnimation(self.fig, self._next_frame, interval=30)\n",
    "        if mpl.get_backend() == u'MacOSX':\n",
    "            plt.show(block=False)\n",
    "        else:\n",
    "            plt.show()\n",
    "            \n",
    "    def add_waypoint(self, x, y):\n",
    "        \"\"\"Add a point where pacman should go. This function is non-blocking.\"\"\"\n",
    "        self.waypoints.append((x, y))\n",
    "    \n",
    "    @staticmethod\n",
    "    def generate_random_path(num_points):\n",
    "        \"\"\"Generate a random list of points pacman should visit.\"\"\"\n",
    "        xlim = (-PacMan.X_BOUNDS, PacMan.X_BOUNDS)\n",
    "        ylim = (-PacMan.Y_BOUNDS, PacMan.Y_BOUNDS)\n",
    "        waypoints = []\n",
    "        for i in range(num_points):\n",
    "            waypoints.append((random.uniform(*xlim), random.uniform(*ylim)))\n",
    "        return waypoints\n",
    "    \n",
    "    def add_random_path(self, num_points):\n",
    "        \"\"\"Add a list of random points to pacman's waypoint list.\"\"\"\n",
    "        random_points = self.generate_random_path(num_points)\n",
    "        self.waypoints.extend(random_points)\n",
    "        \n",
    "    def go_home(self):\n",
    "        \"\"\"Send pacman back to the origin (0, 0).\"\"\"\n",
    "        self.add_waypoint(-self.MAX_SPEED, 0)\n",
    "        self.add_waypoint(0, 0)"
   ]
  },
  {
   "cell_type": "code",
   "execution_count": null,
   "metadata": {
    "collapsed": false
   },
   "outputs": [],
   "source": [
    "pac = PacMan(PacMan.generate_random_path(num_points=10))"
   ]
  },
  {
   "cell_type": "markdown",
   "metadata": {},
   "source": [
    "Pacman is responsible for maintaining his own state. This sort of program lends itself very well to object-oriented programming."
   ]
  },
  {
   "cell_type": "markdown",
   "metadata": {},
   "source": [
    "### Exercise 2\n",
    "\n",
    "*Without changing the code inside the class* (i.e., by only changing the code in the cell `pac = ...`), make Pacman go in a square.\n",
    "\n",
    "For an extra challenge, change Pacman's color to purple (hint: you might need to use `set_color`) and make him bigger, again without changing the code inside the class!"
   ]
  },
  {
   "cell_type": "markdown",
   "metadata": {},
   "source": [
    "<a id=classes_private></a>\n",
    "## Private fields and methods"
   ]
  },
  {
   "cell_type": "markdown",
   "metadata": {},
   "source": [
    "Variables inside classes are called fields. Functions inside classes are called methods.\n",
    "\n",
    "By convention, fields and methods that start with an underscore (e.g., `_init_pacman()`) are \"private\", although not in the way that Java or C++ methods are private. These items can still be accessed by users, but the underscore indicates that users should not generally mess with them (they are not part of the public API).\n",
    "\n",
    "Fields and methods that start with two underscores can also be considered private, but the two underscores have a particular use in Python called \"name mangling\", and they are intended to help prevent conflicts during inheritance. Unless you know what you are doing, stick to single underscores.\n",
    "\n",
    "Methods that start and end with two underscores (e.g., `__init__()`) are generally reserved for Python system calls. Don't name your methods this way.\n",
    "\n",
    "Going back to the Pacman example, we not that there are only three methods needed to make pacman move: `add_waypoint()`, `random_path()`, and `go_home`. Each of these can be easily used without any knowledge of the complicated class internals. It is good programming to provide a simple, easy-to-use interface to classes that is difficult to use incorrectly."
   ]
  },
  {
   "cell_type": "markdown",
   "metadata": {},
   "source": [
    "<a id=classes_encapsulation></a>\n",
    "## Encapsulation"
   ]
  },
  {
   "cell_type": "markdown",
   "metadata": {},
   "source": [
    "Encapsulation is an object-oriented programming concept that it is a good idea to prevent users from meddling with the internals of your class except via an approved external interface.\n",
    "\n",
    "In traditional OO languages like Java and C++, encapsulation is strongly encouraged, while Python is less strict.\n",
    "\n",
    "Here is an example of how Python classes are typically written:"
   ]
  },
  {
   "cell_type": "code",
   "execution_count": null,
   "metadata": {
    "collapsed": true
   },
   "outputs": [],
   "source": [
    "class Rect:\n",
    "    def __init__(self, width, height):\n",
    "        self.width = width\n",
    "        self.height = height\n",
    "        \n",
    "    def area(self):\n",
    "        return self.width*self.height\n",
    "    \n",
    "    def perimeter(self):\n",
    "        return 2*self.width + 2*self.height"
   ]
  },
  {
   "cell_type": "markdown",
   "metadata": {},
   "source": [
    "This has a minimum of extra code (\"boilerplate\" in programmer-speak) and is generally the right way to make a Python class. However, note that we can do the following:"
   ]
  },
  {
   "cell_type": "code",
   "execution_count": null,
   "metadata": {
    "collapsed": false
   },
   "outputs": [],
   "source": [
    "a = Rect(3, -1)    # fine\n",
    "print('Area of a:', a.area())\n",
    "\n",
    "b = Rect(2, 's')   # also fine?\n",
    "print('Area of b:', b.area())"
   ]
  },
  {
   "cell_type": "markdown",
   "metadata": {},
   "source": [
    "It is generally good practice to validate the inputs of your classes (e.g., to avoid generating string `Rect`s as above). We may also want to prevent users from changing the internal variables of our class accidentally or in ways that would ultimately generate bad outputs. This is traditionally done using the getter/setter model:"
   ]
  },
  {
   "cell_type": "code",
   "execution_count": null,
   "metadata": {
    "collapsed": true
   },
   "outputs": [],
   "source": [
    "from numbers import Number\n",
    "\n",
    "class EncapsulatedRect:\n",
    "    def __init__(self, width, height):\n",
    "        self.set_width(width)\n",
    "        self.set_height(height)\n",
    "        \n",
    "    def area(self):\n",
    "        return self._width*self._height\n",
    "    \n",
    "    def perimeter(self):\n",
    "        return 2*self._width + 2*self._height\n",
    "    \n",
    "    def get_width(self):\n",
    "        return self._width\n",
    "    \n",
    "    def get_height(self):\n",
    "        return self._height\n",
    "    \n",
    "    def set_width(self, width):\n",
    "        if isinstance(width, Number) and width > 0:\n",
    "            self._width = width\n",
    "        else:\n",
    "            raise ValueError('set_width: value should be a non-negative number.')\n",
    "        \n",
    "    def set_height(self, height):\n",
    "        if isinstance(height, Number) and height > 0:\n",
    "            self._height = height\n",
    "        else:\n",
    "            raise ValueError('set_height: value should be a non-negative number.')"
   ]
  },
  {
   "cell_type": "markdown",
   "metadata": {},
   "source": [
    "Here, `_width` and `_height` are internal variables, which can only be changed by approved setters which make sure that the values are good.\n",
    "\n",
    "Unlike in C++ and Java, however, even in our `EncapsulatedRect` we can still modify `_width` and `_height` directly:"
   ]
  },
  {
   "cell_type": "code",
   "execution_count": null,
   "metadata": {
    "collapsed": false
   },
   "outputs": [],
   "source": [
    "d = EncapsulatedRect(4, 5)\n",
    "d._width = 2\n",
    "print(d.area())"
   ]
  },
  {
   "cell_type": "markdown",
   "metadata": {},
   "source": [
    "In general, the more \"Pythonic\" approach is actually `Rect` rather than `EncapsulatedRect`. In particular, Python encourages directly accessing fields rather than using getters and setters, which add boilerplate and clutter the code. Python expects users to be smart enough to use classes correctly.\n",
    "\n",
    "Note that it is still good practice to validate inputs in Python. But how can you do that without using a `set_...` method? Python offers a `@property` decorator for this purpose, but this is very advanced Python and beyond the scope of this course."
   ]
  },
  {
   "cell_type": "markdown",
   "metadata": {},
   "source": [
    "<a id=classes_inheritance></a>\n",
    "## Inheritance"
   ]
  },
  {
   "cell_type": "markdown",
   "metadata": {},
   "source": [
    "<a id=classes_inheritance_what></a>\n",
    "### What is inheritance?"
   ]
  },
  {
   "cell_type": "markdown",
   "metadata": {},
   "source": [
    "Inheritance is a more advanced Python topic, so in case you have forgotten or didn't get to the end of your Python tutorial, here is a brief example:"
   ]
  },
  {
   "cell_type": "code",
   "execution_count": null,
   "metadata": {
    "collapsed": false
   },
   "outputs": [],
   "source": [
    "class Foo:\n",
    "    def __init__(self, value):\n",
    "        self.value = value\n",
    "        \n",
    "    def square(self):\n",
    "        return self.value**2\n",
    "    \n",
    "    \n",
    "class Bar(Foo):   # Bar inherits from Foo\n",
    "    def __init__(self, value):\n",
    "        self.value = value\n",
    "        \n",
    "    def double(self):\n",
    "        return 2*self.value\n",
    "    \n",
    "    \n",
    "baz = Bar(9)\n",
    "print(baz.double())   # baz knows how to double because it is a Bar\n",
    "print(baz.square())   # baz inherited the ability to square from Foo"
   ]
  },
  {
   "cell_type": "markdown",
   "metadata": {},
   "source": [
    "<a id=classes_inheritance_specialization></a>\n",
    "### Inheritance for specialization"
   ]
  },
  {
   "cell_type": "markdown",
   "metadata": {},
   "source": [
    "The classic example of using inheritance for specialization is something like this:"
   ]
  },
  {
   "cell_type": "code",
   "execution_count": null,
   "metadata": {
    "collapsed": false
   },
   "outputs": [],
   "source": [
    "class BasicClass:\n",
    "    name = \"Test\"\n",
    "    value = 42\n",
    "    \n",
    "class AdvancedClass(BasicClass):\n",
    "    extra = [1, 2, 3]\n",
    "    \n",
    "adv = AdvancedClass\n",
    "adv.value"
   ]
  },
  {
   "cell_type": "markdown",
   "metadata": {},
   "source": [
    "The AdvancedClass has everything that the BasicClass has, plus more! However, in Python, you could also do this:"
   ]
  },
  {
   "cell_type": "code",
   "execution_count": null,
   "metadata": {
    "collapsed": false
   },
   "outputs": [],
   "source": [
    "basic = BasicClass()\n",
    "basic.extra = [1, 2, 3]   # works fine"
   ]
  },
  {
   "cell_type": "markdown",
   "metadata": {},
   "source": [
    "You can do the same thing with functions:"
   ]
  },
  {
   "cell_type": "code",
   "execution_count": null,
   "metadata": {
    "collapsed": false
   },
   "outputs": [],
   "source": [
    "basic.f = lambda x: x + 7\n",
    "basic.f(3)"
   ]
  },
  {
   "cell_type": "markdown",
   "metadata": {},
   "source": [
    "However, note that a new `BasicClass` object will not have these features:"
   ]
  },
  {
   "cell_type": "code",
   "execution_count": null,
   "metadata": {
    "collapsed": false
   },
   "outputs": [],
   "source": [
    "basic2 = BasicClass()\n",
    "# basic2.extra    # this won't work\n",
    "# basic2.f(8)     # this won't work either"
   ]
  },
  {
   "cell_type": "markdown",
   "metadata": {},
   "source": [
    "Finally, there are (at least) four cases when you should definitely use inheritance:\n",
    "1. You are going to create objects from both the base class and the specialized class.\n",
    "2. You will create multiple objects from either/both the base and specialized classes.\n",
    "3. If you care about the *type* of the object (see the section on [raising exceptions](raising_exceptions) below).\n",
    "4. The features you are adding to a class are numerous and/or non-trivial. In this case, inheritance is much cleaner.\n",
    "\n",
    "In general, you should prefer using inheritance over manually adding fields or methods."
   ]
  },
  {
   "cell_type": "markdown",
   "metadata": {},
   "source": [
    "<a id=classes_inheritance_super></a>\n",
    "### `super` Function"
   ]
  },
  {
   "cell_type": "markdown",
   "metadata": {},
   "source": [
    "**Duplicated code is evil!**\n",
    "\n",
    "Duplicating code wastes your time, makes your programs longer and harder to read, and makes them more error-prone. If you make a change to a block of code that is duplicated elsewhere, you will then need to *manually* change that code in each location it is repeated. Yuck!\n",
    "\n",
    "Here is a trivial example of how the `super` function can save you time and money!"
   ]
  },
  {
   "cell_type": "code",
   "execution_count": null,
   "metadata": {
    "collapsed": false
   },
   "outputs": [],
   "source": [
    "class Foo:\n",
    "    def __init__(self, value):\n",
    "        self.value = value\n",
    "        \n",
    "    def compute(self):\n",
    "        print(\"Foo does some complicated calculations here.\")\n",
    "        self.value += 3\n",
    "        print(\"Value:\", self.value)\n",
    "    \n",
    "    \n",
    "class Bar(Foo):\n",
    "    def __init__(self, value):\n",
    "        self.value = value\n",
    "        \n",
    "    def compute(self):\n",
    "        print(\"Bar does its own complicated calculations here.\")\n",
    "        self.value *= 2\n",
    "        super(Bar, self).compute()   # calls compute() function of parent, Foo\n",
    "        \n",
    "        \n",
    "b = Bar(7)\n",
    "b.compute()"
   ]
  },
  {
   "cell_type": "markdown",
   "metadata": {},
   "source": [
    "We can also use `super` to call \"special\" functions, like the `__init__` function (constructor):"
   ]
  },
  {
   "cell_type": "code",
   "execution_count": null,
   "metadata": {
    "collapsed": false
   },
   "outputs": [],
   "source": [
    "class Bar(Foo):\n",
    "    def __init__(self, value):\n",
    "        \"\"\"\n",
    "        This constructor is actually not needed. If you comment it out,\n",
    "        then Foo's constructor will be called automatically. (Try it!)\n",
    "        However, imagine you want to do something before calling Foo's\n",
    "        constructor.\n",
    "        \"\"\"\n",
    "        super(Bar, self).__init__(value)   # explicitly calls Foo's constructor\n",
    "        \n",
    "    def compute(self):\n",
    "        print(\"Bar does its own complicated calculations here.\")\n",
    "        self.value *= 2\n",
    "        super(Bar, self).compute()   # calls compute() function of parent, Foo\n",
    "        \n",
    "        \n",
    "b = Bar(9)\n",
    "b.compute()"
   ]
  },
  {
   "cell_type": "markdown",
   "metadata": {},
   "source": [
    "These are very trivial examples, but please believe that the `super` function can really cut down on a lot of duplicated code! Use it as often as you can."
   ]
  },
  {
   "cell_type": "markdown",
   "metadata": {},
   "source": [
    "<a id=exceptions></a>\n",
    "# Exceptions"
   ]
  },
  {
   "cell_type": "markdown",
   "metadata": {},
   "source": [
    "Exceptions are a mechanism for handling errors. Traditionally, errors were handled with return codes, like this:"
   ]
  },
  {
   "cell_type": "code",
   "execution_count": null,
   "metadata": {
    "collapsed": true
   },
   "outputs": [],
   "source": [
    "def example_only_does_not_work():\n",
    "    fin = open('does_not_exist.txt', 'r')\n",
    "    if not fin:\n",
    "        return -1\n",
    "    # ... do stuff with file\n",
    "    fin.close()\n",
    "    return 0"
   ]
  },
  {
   "cell_type": "markdown",
   "metadata": {},
   "source": [
    "This kind of code is problematic for two reasons:\n",
    "1. The return codes (and therefore errors) can be ignored/forgotten.\n",
    "2. The return code must be either checked by the function that calls it, or explicitly passed to higher level functions.\n",
    "3. Return codes are generally integers, so they must be looked up in a table. They also can't provide any specific details.\n",
    "\n",
    "To illustrate point #2, consider the following code:"
   ]
  },
  {
   "cell_type": "code",
   "execution_count": null,
   "metadata": {
    "collapsed": true
   },
   "outputs": [],
   "source": [
    "def foo():\n",
    "    return -1   # error code!\n",
    "\n",
    "def bar():\n",
    "    foo()\n",
    "    return 0    # return success?\n",
    "\n",
    "def baz():\n",
    "    bar()\n",
    "    return 0    # no errors, right?"
   ]
  },
  {
   "cell_type": "markdown",
   "metadata": {},
   "source": [
    "Exceptions offer an elegant solution to all three of the problems listed above."
   ]
  },
  {
   "cell_type": "markdown",
   "metadata": {},
   "source": [
    "<a id=raising_exceptions></a>\n",
    "## Raising exceptions"
   ]
  },
  {
   "cell_type": "markdown",
   "metadata": {},
   "source": [
    "Exceptions must derive from the `BaseException` class (user-defined exceptions should be derived from `Exception`). It is common to use one of the [built-in exception subclasses](https://docs.python.org/3/library/exceptions.html). Common examples include:\n",
    "\n",
    "1. `ImportError` - raised when trying to import an unknown module.\n",
    "2. `IndexError` - raised when trying to access an invalid element in an array.\n",
    "3. `KeyError` - raised when trying to use an invalid key with a dictionary.\n",
    "4. `NameError` - raised when trying to use a variable that hasn't been defined.\n",
    "5. `TypeError` - raised when trying to use an object of the wrong type.\n",
    "6. `ValueError` - raised when an argument has the correct type but a bad value.\n",
    "7. `OSError` - base exception for problems with reading/writing a file (and other things).\n",
    "8. `RuntimeError` - catch-all class for errors while code is running.\n",
    "\n",
    "In general, you can use these built-in exceptions when there is one that suits the problem. For instance, you might raise a `ValueError` or `TypeError` when checking arguments to a function:"
   ]
  },
  {
   "cell_type": "code",
   "execution_count": null,
   "metadata": {
    "collapsed": true
   },
   "outputs": [],
   "source": [
    "def foobar(value):\n",
    "    if not isinstance(value, int):\n",
    "        raise TypeError(\"foobar requires and int!\")\n",
    "    if value < 0:\n",
    "        raise ValueError(\"foobar argument 'value' should be > 0; you passed: %i\" % value)\n",
    "    \n",
    "# uncomment to test:\n",
    "# foobar(2.7)\n",
    "# foobar(-7)"
   ]
  },
  {
   "cell_type": "markdown",
   "metadata": {},
   "source": [
    "You do not need to add a string argument when raising an exception. This works fine:"
   ]
  },
  {
   "cell_type": "code",
   "execution_count": null,
   "metadata": {
    "collapsed": false
   },
   "outputs": [],
   "source": [
    "raise Exception"
   ]
  },
  {
   "cell_type": "markdown",
   "metadata": {},
   "source": [
    "However, this is not very helpful. In general, you should add some descriptive text to your exceptions to explain to the user what exactly went wrong.\n",
    "\n",
    "To make your exceptions even more useful, or when there isn't a built-in exception that meets your needs, you can roll your own by sub-classing `Exception` or one of the other built-in exceptions:"
   ]
  },
  {
   "cell_type": "code",
   "execution_count": null,
   "metadata": {
    "collapsed": true
   },
   "outputs": [],
   "source": [
    "class MyCustomException(Exception):\n",
    "    pass\n",
    "\n",
    "# using a doc-string instead of 'pass' is more helpful\n",
    "class CorruptFile(OSError):\n",
    "    \"\"\"Raise this exception when attempting to read a file that is corrupt.\"\"\"\n",
    "    \n",
    "# uncomment to test...\n",
    "# raise MyCustomException(\"Test\")\n",
    "# raise CorruptFile(\"Oh no, the file is corrupted!\")"
   ]
  },
  {
   "cell_type": "markdown",
   "metadata": {},
   "source": [
    "<a id=handling_exceptions></a>\n",
    "## Handling exceptions"
   ]
  },
  {
   "cell_type": "markdown",
   "metadata": {},
   "source": [
    "Handling exceptions is done by using `try` ... `except` blocks. That is, you `try` some operation where you suspect there may be some problems. If there are no problems, you continue on your merry way, `except` in error cases where you deal with the problem before continuing on.\n",
    "\n",
    "Let's return to the example from the top of this section to see how this works:"
   ]
  },
  {
   "cell_type": "code",
   "execution_count": null,
   "metadata": {
    "collapsed": false
   },
   "outputs": [],
   "source": [
    "def foo():\n",
    "    raise RuntimeError(\"Oh no! Can't foo!\")\n",
    "\n",
    "def bar():\n",
    "    foo()\n",
    "\n",
    "def baz():\n",
    "    try:\n",
    "        bar()\n",
    "    except RuntimeError:\n",
    "        print(\"Foo had an error, but it is being handled...\")\n",
    "        # do something useful to handle the error, or keep going\n",
    "        \n",
    "baz()"
   ]
  },
  {
   "cell_type": "markdown",
   "metadata": {},
   "source": [
    "This is much better than using return codes (e.g., `return -1` for errors) because:\n",
    "1. We can't ignore the error; we are forced to deal with it or the program execution stops.\n",
    "2. If you do forget to deal with the error, there is a descriptive error message that tells you what went wrong.\n",
    "3. bar() doesn't need to worry about error handling! The error-handling code only occurs where the error happens (where the exception is raised) and at the upper levels of your program, where the flow of the program is controlled.\n",
    "\n",
    "What about that nice, descriptive error message that we wrote? Wouldn't it be nice if we could reuse that information in our `except` block? You can, and it's easy! Just convert the exception to a string:"
   ]
  },
  {
   "cell_type": "code",
   "execution_count": null,
   "metadata": {
    "collapsed": false
   },
   "outputs": [],
   "source": [
    "def baz():\n",
    "    try:\n",
    "        bar()\n",
    "    except RuntimeError as e:\n",
    "        print('baz error: ' + str(e))\n",
    "        \n",
    "baz()"
   ]
  },
  {
   "cell_type": "markdown",
   "metadata": {},
   "source": [
    "Finally, in some cases you may want to do something in the event that an exception is **not** thrown. Maybe you were expecting an exception, but for some bizarre reason it wasn't raised, which might be interesting. In these cases, you can add an `else` to the end of the `try` ... `except` block:"
   ]
  },
  {
   "cell_type": "code",
   "execution_count": null,
   "metadata": {
    "collapsed": false
   },
   "outputs": [],
   "source": [
    "def foo():\n",
    "    \"\"\"This foo actually foos.\"\"\"\n",
    "    pass\n",
    "\n",
    "def baz():\n",
    "    try:\n",
    "        bar()\n",
    "    except RuntimeError:\n",
    "        print(\"Bar raised an exception!\")\n",
    "    else:\n",
    "        print(\"No exception was raised??\")\n",
    "        \n",
    "baz()"
   ]
  },
  {
   "cell_type": "markdown",
   "metadata": {},
   "source": [
    "Don't dismiss this as being a useless edge case -- exceptions are used for all kinds of things in Python. For instance, did you remember to install the `pycodestyle` package for this module?"
   ]
  },
  {
   "cell_type": "code",
   "execution_count": null,
   "metadata": {
    "collapsed": false
   },
   "outputs": [],
   "source": [
    "try:\n",
    "    import pycodestyle\n",
    "except ImportError:\n",
    "    print(\"You didn't remember to install it. :(\")\n",
    "else:\n",
    "    print(\"Nice job!\")"
   ]
  },
  {
   "cell_type": "markdown",
   "metadata": {},
   "source": [
    "<a id=stack_traces></a>\n",
    "## Understanding stack traces"
   ]
  },
  {
   "cell_type": "markdown",
   "metadata": {},
   "source": [
    "Consider this line from some earlier code:"
   ]
  },
  {
   "cell_type": "code",
   "execution_count": null,
   "metadata": {
    "collapsed": false
   },
   "outputs": [],
   "source": [
    "fin = open('does_not_exist.txt', 'r')"
   ]
  },
  {
   "cell_type": "markdown",
   "metadata": {},
   "source": [
    "The file does not exist, so it raises an error -- very sensibly, a `FileNotFoundError`. Here, we have not handled this exception, so Python performs a \"stack trace\" or \"traceback\" (basically unrolling your code to show you where the error occurred).\n",
    "\n",
    "These tracebacks are an excellent way to figure out what went wrong in your program. However, they can appear to be a little cryptic to the uninitiated, so we will look at how to understand them.\n",
    "\n",
    "Consider this example, where you are trying to fit a quadratic function to two data points:"
   ]
  },
  {
   "cell_type": "code",
   "execution_count": null,
   "metadata": {
    "collapsed": false
   },
   "outputs": [],
   "source": [
    "from scipy.optimize import curve_fit\n",
    "\n",
    "def f(x, a, b, c):\n",
    "    return a*x**2 + b*x + c\n",
    "\n",
    "x = [0, 1]\n",
    "y = [2, 3]\n",
    "curve_fit(f, x, y)"
   ]
  },
  {
   "cell_type": "markdown",
   "metadata": {},
   "source": [
    "The traceback indicates that the error is a `TypeError`, and then starts in the current file (listed in green), where the offending call is made. It tells you that the error originates on line 8 (in this case, of the notebook cell).\n",
    "\n",
    "*Aside*: you can view line numbers in an notebook by selecting a cell, pressing escape, and then pressing the (lowercase) 'L' key. Press 'L' again to turn the line numbers off.\n",
    "\n",
    "The traceback then goes to the file where the offending function resides (in this case, in `minpack.pyc` in the scipy library). The exception originated during a call to `leastsq()`.\n",
    "\n",
    "Finally, the traceback shows you where the actual `TypeError` exception was raised (also in the `minpack.pyc` file, just at a different line). The `TypeError` tells you that N=3 must not exceed M=2.\n",
    "\n",
    "This doesn't seem very helpful at first. What actually went wrong? What are N and M? In fact, the problem is one of basic linear algebra: we are trying to fit three unknowns (from our quadratic) with only two equations (one from each (x,y) data point). We need more data! Try adding another junk data point, and you will see that the error goes away.\n",
    "\n",
    "To summarize, we note the following useful lessons:\n",
    "1. Tracebacks appear cryptic, and can be quite long, but once you understand them they are very helpful!\n",
    "2. Exceptions allow you to propagate an error from where it actually occurs to where the function is used, much higher up, without any additional code (unlike return codes).\n",
    "3. Make sure that your error messages are helpful! Probably the message about \"Improper input: N=3 must not exceed M=2\" seemed very clear to the original authors, but maybe is less clear to users. How could you make the error message easier to understand?"
   ]
  },
  {
   "cell_type": "markdown",
   "metadata": {
    "collapsed": true
   },
   "source": [
    "<a id=unit_testing></a>\n",
    "# Unit Testing"
   ]
  },
  {
   "cell_type": "markdown",
   "metadata": {
    "collapsed": true
   },
   "source": [
    "Unit testing has become one of the pillars of software engineering over the past decade or so. A popular software engineering paradigm called Test-Driven Development (TDD) advocates that you don't write a single line of code until you write a unit test that fails. After you write this test, you write the minimal amount of code to make the test pass, and then write another unit test.\n",
    "\n",
    "We will not get into the philosophy behind unit testing here, but in general it is a good idea to use unit tests at least some of the time. This will make your code more robust and allow you to change it more easily without worrying about inadvertently breaking something in your code.\n",
    "\n",
    "The idea goes like this. Assume you have a (short!) function that does one thing:"
   ]
  },
  {
   "cell_type": "code",
   "execution_count": null,
   "metadata": {
    "collapsed": true
   },
   "outputs": [],
   "source": [
    "def factorial(n):\n",
    "    \"\"\"Does this function work? Hint: no.\"\"\"\n",
    "    n_fact = n\n",
    "    while n > 1:\n",
    "        n -= 1\n",
    "        n_fact *= n\n",
    "    return n_fact"
   ]
  },
  {
   "cell_type": "markdown",
   "metadata": {},
   "source": [
    "Usually, you check that your code is working by doing something like this:"
   ]
  },
  {
   "cell_type": "code",
   "execution_count": null,
   "metadata": {
    "collapsed": false
   },
   "outputs": [],
   "source": [
    "print(factorial(3), 3*2)\n",
    "print(factorial(5), 5*4*3*2)"
   ]
  },
  {
   "cell_type": "markdown",
   "metadata": {},
   "source": [
    "This sort of testing works fine, but it has a few issues:\n",
    "\n",
    "1. You need to manually test several cases each time you change your code.\n",
    "2. This sort of informal testing tends to miss edge-cases.\n",
    "\n",
    "To illustrate point 2, note the following:"
   ]
  },
  {
   "cell_type": "code",
   "execution_count": null,
   "metadata": {
    "collapsed": false
   },
   "outputs": [],
   "source": [
    "factorial(0)"
   ]
  },
  {
   "cell_type": "markdown",
   "metadata": {},
   "source": [
    "Oops! Recall that $0! \\equiv 1$. Also, note that `factorial(-1) = -1`, which is also wrong!\n",
    "\n",
    "Writing a unit test is not much more work than our manual testing above. A possible test suite would look like this:"
   ]
  },
  {
   "cell_type": "code",
   "execution_count": null,
   "metadata": {
    "collapsed": false
   },
   "outputs": [],
   "source": [
    "correct_factorials = {0: 1, 1: 1, 2: 2, 3: 6, 4: 24, 5: 120}\n",
    "for n, expected in correct_factorials.items():\n",
    "    assert factorial(n) == expected"
   ]
  },
  {
   "cell_type": "markdown",
   "metadata": {},
   "source": [
    "The test fails because `factorial(0) = 0`, but you wouldn't know that from the output. All you know is that something isn't working.\n",
    "\n",
    "Several unit testing frameworks exist which are designed help with unit testing and provide useful feedback. A more realistic example of unit testing using `pytest` can be found in `../resouces/pytest_example`."
   ]
  },
  {
   "cell_type": "code",
   "execution_count": null,
   "metadata": {
    "collapsed": false
   },
   "outputs": [],
   "source": [
    "!pytest ../resources/pytest_example/"
   ]
  },
  {
   "cell_type": "markdown",
   "metadata": {},
   "source": [
    "`pytest` tells us that 2/3 tests failed. One test, `test_n_zero`, fails because we are trying to assert that `factorial(0)`, which equals zero, is equivalent to one: `0 == 1`.\n",
    "\n",
    "The other test that fails is `test_n_negative`. A proper version of our factorial version might be expected to raise a `ValueError` for a negative number, but the one above doesn't, so it fails the test.\n",
    "\n",
    "For a quick `pytest` tutorial, look [here](https://docs.pytest.org/en/latest/assert.html). For more details, see the [pytest website](https://docs.pytest.org/en/latest/contents.html)."
   ]
  },
  {
   "cell_type": "markdown",
   "metadata": {},
   "source": [
    "<a id=general_advice></a>\n",
    "# General advice"
   ]
  },
  {
   "cell_type": "markdown",
   "metadata": {},
   "source": [
    "<a id=imports></a>\n",
    "## Import only what you need"
   ]
  },
  {
   "cell_type": "markdown",
   "metadata": {},
   "source": [
    "For the love of God and all that is holy, do not do this:"
   ]
  },
  {
   "cell_type": "code",
   "execution_count": null,
   "metadata": {
    "collapsed": false
   },
   "outputs": [],
   "source": [
    "from numpy import *\n",
    "from scipy import *\n",
    "from pickle import *\n",
    "from scipy.stats import *"
   ]
  },
  {
   "cell_type": "markdown",
   "metadata": {},
   "source": [
    "Why not? Imagine that you import these libraries at the top of your code. At some point in a ~200 line script, you see this:"
   ]
  },
  {
   "cell_type": "code",
   "execution_count": null,
   "metadata": {
    "collapsed": false
   },
   "outputs": [],
   "source": [
    "with open('../resources/mystery_data', 'rb') as f:\n",
    "    data = array(load(f))\n",
    "x, y = data[:, 0], data[:, 1]\n",
    "r = linregress(x, y)\n",
    "s = polyfit(x, y, 1)\n",
    "print(r.slope - s[0])"
   ]
  },
  {
   "cell_type": "markdown",
   "metadata": {},
   "source": [
    "Can you identify which function belongs to which library? Don't do this!"
   ]
  },
  {
   "cell_type": "markdown",
   "metadata": {},
   "source": [
    "<a id=nested_logic></a>\n",
    "## Avoid deeply nested logic"
   ]
  },
  {
   "cell_type": "markdown",
   "metadata": {},
   "source": [
    "Remember that it is best to keep your functions short and concise. As a result, it is best to avoid deeply nested `if` ... `elif` ... `else` logic structures. These can become very long, which obscures the logic and makes them difficult to read. Consider this example:"
   ]
  },
  {
   "cell_type": "code",
   "execution_count": null,
   "metadata": {
    "collapsed": true
   },
   "outputs": [],
   "source": [
    "import os\n",
    "\n",
    "class AnalyzeData:\n",
    "    def __init__(self, fname):\n",
    "        self.fname = fname\n",
    "        self.import_data()\n",
    "        self.analyze_data()\n",
    "        \n",
    "    def import_data(self):\n",
    "        file_extension = os.path.splitext(self.fname)[-1]\n",
    "        if 'csv' in file_extension:\n",
    "            print(\"Import comma-separated data\")\n",
    "            # many lines of code, maybe with several if statements\n",
    "        elif 'tab' in file_extension:\n",
    "            print(\"Import tab-separated data\")\n",
    "            # many lines of code, maybe with several if statements\n",
    "        elif 'dat' in file_extension:\n",
    "            print(\"Import data with | delimiters (old-school)\")\n",
    "            # many lines of code, maybe with several if statements\n",
    "        else:\n",
    "            print(\"Unknown data format. I give up!\")   # should use an exception here; see later...\n",
    "            return\n",
    "        \n",
    "    def analyze_data(self):\n",
    "        \"\"\"Do some super-awesome data analysis!\"\"\""
   ]
  },
  {
   "cell_type": "markdown",
   "metadata": {},
   "source": [
    "This long list of `if` statements is nasty to look at, and if you want to add more file types, it will become worse. Consider the alternative, which uses a dictionary with functions as values:"
   ]
  },
  {
   "cell_type": "code",
   "execution_count": null,
   "metadata": {
    "collapsed": false
   },
   "outputs": [],
   "source": [
    "class AnalyzeData:\n",
    "    def __init__(self, fname):\n",
    "        self.fname = fname\n",
    "        self.import_data()\n",
    "        self.analyze_data()\n",
    "        \n",
    "    def import_data(self):\n",
    "        valid_extensions = {'.csv': self._import_csv,\n",
    "                            '.tab': self._import_tab,\n",
    "                            '.dat': self._import_dat}\n",
    "        file_extension = os.path.splitext(self.fname)[-1]\n",
    "        importer_function = valid_extensions[file_extension]\n",
    "        importer_function()\n",
    "\n",
    "    def _import_csv(self):\n",
    "        print(\"Import comma-separated data\")\n",
    "        # many lines of code, perhaps with function calls\n",
    "        \n",
    "    def _import_tab(self):\n",
    "        print(\"Import tab-separated data\")\n",
    "        # many lines of code, perhaps with function calls\n",
    "        \n",
    "    def _import_dat(self):\n",
    "        print(\"Import data with | delimiters (old-school)\")\n",
    "        # many lines of code, perhaps with function calls\n",
    "        \n",
    "    def analyze_data(self):\n",
    "        \"\"\"Do some super-awesome data analysis!\"\"\"\n",
    "\n",
    "        \n",
    "a = AnalyzeData('data.tab')\n",
    "# a = AnalyzeData('data.xls')   # unknown file type, throws exception!"
   ]
  },
  {
   "cell_type": "markdown",
   "metadata": {},
   "source": [
    "This code is much clearer and nicer to read. Adding more valid file types increases `import_data()` by only one line (actually the `valid_extensions` dictionary could be moved out of this function), and removing file types is similarly easy.\n",
    "\n",
    "Did you notice that the `else` case is gone? Because we are using a dictionary, an invalid extension will automatically generate a `KeyError` -- try uncommenting the last line in the cell above.\n",
    "\n",
    "Finally, this type of structure makes unit testing much easier!"
   ]
  },
  {
   "cell_type": "markdown",
   "metadata": {},
   "source": [
    "<a id=nested_loops></a>\n",
    "## Avoid deeply nested loops"
   ]
  },
  {
   "cell_type": "markdown",
   "metadata": {},
   "source": [
    "The following example was taken from a real C++ code, and converted to Python:"
   ]
  },
  {
   "cell_type": "code",
   "execution_count": null,
   "metadata": {
    "collapsed": true
   },
   "outputs": [],
   "source": [
    "for j in range(4):                     # Loop over course clipping\n",
    "    for i in [0, 64]:                  # Loop over each attenuation\n",
    "        for k in [63]:                 # Loop over fine clipping\n",
    "            for channel in range(7):   # Loop over each channel\n",
    "                \n",
    "                \n",
    "                \"\"\"Does lots of stuff (55 lines of code)\"\"\"\n",
    "                \n",
    "                \n",
    "    \"\"\"Does some other stuff (30 lines of code) at end of i, k, and channel loops\"\"\""
   ]
  },
  {
   "cell_type": "markdown",
   "metadata": {},
   "source": [
    "Don't do this!\n",
    "\n",
    "Many things that you would need a loop for in C++ can be done in one line in Python. Code with many nested loops will also run very slowly in Python. In the Numpy lesson you will learn how Numpy eliminates the need for many nested loops.\n",
    "\n",
    "If you absolutely must use nested loops, try to wrap the interior code in a function:"
   ]
  },
  {
   "cell_type": "code",
   "execution_count": null,
   "metadata": {
    "collapsed": false
   },
   "outputs": [],
   "source": [
    "def loop():\n",
    "    for j in range(4):\n",
    "        for i in [0, 64]:\n",
    "            for k in [63]:   # this is left-over code\n",
    "                for channel in range(7):\n",
    "                    inner_loop_function(i, k, channel)\n",
    "        outer_loop_function(j)"
   ]
  },
  {
   "cell_type": "markdown",
   "metadata": {},
   "source": [
    "Or, even better (with proper variable names!):"
   ]
  },
  {
   "cell_type": "code",
   "execution_count": null,
   "metadata": {
    "collapsed": true
   },
   "outputs": [],
   "source": [
    "def inner_loop(course_clipping):\n",
    "    fine_clipping = 63\n",
    "    for attenuation in [0, 64]:\n",
    "        for channel in range(7):\n",
    "            inner_loop_details(attenuation, fine_clipping, channel)\n",
    "\n",
    "def outer_loop():\n",
    "    for course_clipping in range(4):\n",
    "        inner_loop(course_clipping)\n",
    "        outer_loop_details(j)"
   ]
  }
 ],
 "metadata": {
  "kernelspec": {
   "display_name": "Python 3",
   "language": "python",
   "name": "python3"
  },
  "language_info": {
   "name": "python",
   "version": "3.5.2"
  }
 },
 "nbformat": 4,
 "nbformat_minor": 2
}
