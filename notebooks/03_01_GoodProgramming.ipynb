{
 "cells": [
  {
   "cell_type": "markdown",
   "metadata": {
    "collapsed": true
   },
   "source": [
    "# Table of Contents\n",
    "\n",
    "1. General characteristics\n",
    "2. Functions\n",
    "    - Functions should have descriptive names\n",
    "    - Functions should be short\n",
    "    - Functions should do one thing\n",
    "3. Classes\n",
    "    - When to use classes\n",
    "    - Encapsulation\n",
    "    - When to use inheritance\n",
    "    - `super` function\n",
    "5. Exceptions\n",
    "6. Documentation / comments\n",
    "7. Modules and packages\n",
    "8. Standard libraries (Intro): os, sys, datetime, shutil, glob, re, logging, urllib, subprocess, pickle, ... (move this to language overview)\n",
    "9. [Unit] Testing\n",
    "10. PEP8 - coding conventions\n",
    "11. Version Control Tools (Git)\n",
    "12. Virtual environments\n",
    "13. ...\n",
    "14. Miscellany:\n",
    "    - comprehensions (list/dict/set)\n",
    "    - string formatting\n",
    "    - lambda functions\n",
    "    - decorators\n",
    "    - logical operators\n",
    "    - variable scope\n",
    "    - mutable vs immutable\n",
    "    - `*args` and `**kwargs`\n",
    "    - floating point arithmetic"
   ]
  },
  {
   "cell_type": "markdown",
   "metadata": {},
   "source": [
    "# PEP 8 - Python Style Guide"
   ]
  },
  {
   "cell_type": "markdown",
   "metadata": {},
   "source": [
    "A PEP is a Python Enhancement Proposal. PEP 8 (the eigth PEP) describes how to write Python\n",
    "code in a common style that will be easily readable by other programmers. If this seems\n",
    "unnecessary, consider that programmers spend much more time reading code than writing it.\n",
    "\n",
    "You can read PEP 8 here: https://www.python.org/dev/peps/pep-0008/"
   ]
  },
  {
   "cell_type": "markdown",
   "metadata": {},
   "source": [
    "## pycodestyle"
   ]
  },
  {
   "cell_type": "markdown",
   "metadata": {},
   "source": [
    "Wouldn't it be nice if you didn't need to remember all of these silly rules\n",
    "for how to write PEP 8-consistent code? What if there was a tool that would\n",
    "tell you if your code matches PEP 8 conventions or no?\n",
    "\n",
    "There is such a tool, called [`pycodestyle`](https://pypi.python.org/pypi/pycodestyle)."
   ]
  },
  {
   "cell_type": "code",
   "execution_count": 1,
   "metadata": {
    "collapsed": true
   },
   "outputs": [],
   "source": [
    "\"\"\"\n",
    "This is some ugly code that does not conform to PEP 8.\n",
    "\n",
    "Check me with pycodestyle:\n",
    "    pycodestyle pep8_example.py\n",
    "\"\"\"\n",
    "from string import *\n",
    "import math, os, sys\n",
    "\n",
    "def f(x):\n",
    "    \"\"\"This function has lines that are just too long. The maximum suggested line length is 80 characters.\"\"\"\n",
    "    return 4.27321*x**3 - 8.375134*x**2 + 7.451431*x + 2.214154 - math.log(3.42153*x) + (1 + math.exp(-6.231452*x**2))\n",
    "def g(x,\n",
    "     y):\n",
    "    print(\"Bad splitting of arguments\")\n",
    "\n",
    "# examples of bad spacing\n",
    "mydict  =  { 'ham' : 2,  'eggs'  : 7  }#this is badly spaced\n",
    "mylist=[ 1 , 2 , 3 ]\n",
    "\n",
    "myvar   = 7\n",
    "myvar2  = myvar*myvar\n",
    "myvar10 = myvar**10\n",
    "\n",
    "# badly formatted math\n",
    "a= myvar+7 *  18-myvar2  /  2\n",
    "\n",
    "l = 1 # l looks like 1 in some fonts\n",
    "I = l # also bad\n",
    "O = 0 # O looks like 0 in some fonts\n",
    "\n",
    "# bad variable names\n",
    "kMyUglyVariableName  = 18\n",
    "The_Meaning_Of_Life  = 42\n"
   ]
  },
  {
   "cell_type": "code",
   "execution_count": 10,
   "metadata": {
    "collapsed": false
   },
   "outputs": [
    {
     "name": "stdout",
     "output_type": "stream",
     "text": [
      "../resources/pep8_example.py:8:12: E401 multiple imports on one line\n",
      "../resources/pep8_example.py:10:1: E302 expected 2 blank lines, found 1\n",
      "../resources/pep8_example.py:11:80: E501 line too long (109 > 79 characters)\n",
      "../resources/pep8_example.py:12:80: E501 line too long (118 > 79 characters)\n",
      "../resources/pep8_example.py:13:1: E302 expected 2 blank lines, found 0\n",
      "../resources/pep8_example.py:14:6: E128 continuation line under-indented for visual indent\n",
      "../resources/pep8_example.py:18:1: E305 expected 2 blank lines after class or function definition, found 1\n",
      "../resources/pep8_example.py:18:7: E221 multiple spaces before operator\n",
      "../resources/pep8_example.py:18:10: E222 multiple spaces after operator\n",
      "../resources/pep8_example.py:18:13: E201 whitespace after '{'\n",
      "../resources/pep8_example.py:18:19: E203 whitespace before ':'\n",
      "../resources/pep8_example.py:18:33: E203 whitespace before ':'\n",
      "../resources/pep8_example.py:18:38: E202 whitespace before '}'\n",
      "../resources/pep8_example.py:18:40: E261 at least two spaces before inline comment\n",
      "../resources/pep8_example.py:18:40: E262 inline comment should start with '# '\n",
      "../resources/pep8_example.py:19:7: E225 missing whitespace around operator\n",
      "../resources/pep8_example.py:19:9: E201 whitespace after '['\n",
      "../resources/pep8_example.py:19:11: E203 whitespace before ','\n",
      "../resources/pep8_example.py:19:15: E203 whitespace before ','\n",
      "../resources/pep8_example.py:19:19: E202 whitespace before ']'\n",
      "../resources/pep8_example.py:21:6: E221 multiple spaces before operator\n",
      "../resources/pep8_example.py:22:7: E221 multiple spaces before operator\n",
      "../resources/pep8_example.py:26:2: E225 missing whitespace around operator\n",
      "../resources/pep8_example.py:26:13: E222 multiple spaces after operator\n",
      "../resources/pep8_example.py:26:24: E221 multiple spaces before operator\n",
      "../resources/pep8_example.py:26:27: E222 multiple spaces after operator\n",
      "../resources/pep8_example.py:28:1: E741 ambiguous variable name 'l'\n",
      "../resources/pep8_example.py:28:6: E261 at least two spaces before inline comment\n",
      "../resources/pep8_example.py:29:1: E741 ambiguous variable name 'I'\n",
      "../resources/pep8_example.py:29:6: E261 at least two spaces before inline comment\n",
      "../resources/pep8_example.py:30:1: E741 ambiguous variable name 'O'\n",
      "../resources/pep8_example.py:30:6: E261 at least two spaces before inline comment\n",
      "../resources/pep8_example.py:33:20: E221 multiple spaces before operator\n",
      "../resources/pep8_example.py:34:20: E221 multiple spaces before operator\n",
      "../resources/pep8_example.py:35:1: W391 blank line at end of file\n",
      "\n"
     ]
    }
   ],
   "source": [
    "import subprocess\n",
    "program = 'pycodestyle'\n",
    "filename = '../resources/pep8_example.py'\n",
    "try:\n",
    "    result = subprocess.run([program, filename], stdout=subprocess.PIPE)\n",
    "except CalledProcessError:\n",
    "    pass\n",
    "print(result.stdout.decode(\"utf-8\"))"
   ]
  },
  {
   "cell_type": "markdown",
   "metadata": {},
   "source": [
    "# Naming conventions"
   ]
  },
  {
   "cell_type": "markdown",
   "metadata": {},
   "source": [
    "Use descriptive names for your variables, functions, and classes. In Python,\n",
    "the following conventions are usually observed:\n",
    "* Variables, functions, and function arguments are lower-case, with underscores to separate words.\n",
    "    ```python\n",
    "    index = 0\n",
    "    num_columns = 3\n",
    "    length_m = 7.2   # you can add units to a variable name\n",
    "    ```\n",
    "* Constants can be written in all-caps.\n",
    "    ```python\n",
    "    CU_SPECIFIC_HEAT_CAPACITY = 376.812   # J/(kg K)\n",
    "    ```\n",
    "* Class names are written with the CapWords convention:\n",
    "    ```python\n",
    "    class MyClass:\n",
    "    ```\n",
    "    \n",
    "Programmers coming from other programming languages (especially FORTRAN and C/C++) should avoid using\n",
    "special encodings (e.g., [Hungarian notation](https://en.wikipedia.org/wiki/Hungarian_notation)) in their\n",
    "variable names:\n",
    "```python\n",
    "# don't do this!\n",
    "iLoopVar = 0      # i indicates integer\n",
    "szName = 'Test'   # sz means 'string'\n",
    "gGlobalVar = 7    # g indicates a global variable\n",
    "```"
   ]
  },
  {
   "cell_type": "markdown",
   "metadata": {},
   "source": [
    "# Comments"
   ]
  },
  {
   "cell_type": "markdown",
   "metadata": {},
   "source": [
    "Comments are helpful when they clarify code. They should be used *sparingly*. Why?\n",
    "* If a code is so difficult to read that it needs a comment to explain it, it should probably be rewritten.\n",
    "* Someone may update the code and forget to update a comment, making it misinformation.\n",
    "* Comments tend to clutter the code and make it difficult to read.\n",
    "\n",
    "Consider this example:"
   ]
  },
  {
   "cell_type": "code",
   "execution_count": 16,
   "metadata": {
    "collapsed": true
   },
   "outputs": [],
   "source": [
    "# this function does foo to the bar!\n",
    "def foo(bar):\n",
    "    bar = not bar   # bar is active low, so we invert the logic\n",
    "    if bar == True:   # bar can sometimes be true\n",
    "        print(\"The bar is True!\")   # success!\n",
    "    else:   # sometimes bar is not true\n",
    "        print(\"Argh!\")   # I hate it when the bar is not true!    "
   ]
  },
  {
   "cell_type": "markdown",
   "metadata": {},
   "source": [
    "Only one of these comments is helpful. This code is much easier to read when written properly:"
   ]
  },
  {
   "cell_type": "code",
   "execution_count": 19,
   "metadata": {
    "collapsed": true
   },
   "outputs": [],
   "source": [
    "def foo(bar):\n",
    "    \"\"\"\n",
    "    This function does foo to the bar!\n",
    "    \n",
    "    Bar is active low, so we invert the logic.\n",
    "    \"\"\"\n",
    "    bar = not bar    # logic inversion\n",
    "    if bar:\n",
    "        print(\"The bar is True!\")\n",
    "    else:\n",
    "        print(\"Argh!\")"
   ]
  },
  {
   "cell_type": "markdown",
   "metadata": {},
   "source": [
    "# Doc strings"
   ]
  },
  {
   "cell_type": "markdown",
   "metadata": {},
   "source": [
    "Doc-strings are a useful way to document what a function (or class) does."
   ]
  },
  {
   "cell_type": "code",
   "execution_count": 3,
   "metadata": {
    "collapsed": true
   },
   "outputs": [],
   "source": [
    "def add_two_numbers(a, b):\n",
    "    \"\"\"This function returns the result of a + b.\"\"\"\n",
    "    return a + b"
   ]
  },
  {
   "cell_type": "markdown",
   "metadata": {},
   "source": [
    "In a Jupyter notebook (like this one) or an iPython shell, you can access get information\n",
    "about what a function does and what arguments it does by reading its doc-string:"
   ]
  },
  {
   "cell_type": "code",
   "execution_count": 5,
   "metadata": {
    "collapsed": true
   },
   "outputs": [],
   "source": [
    "add_two_numbers?"
   ]
  },
  {
   "cell_type": "markdown",
   "metadata": {},
   "source": [
    "Doc-strings can be several lines long:"
   ]
  },
  {
   "cell_type": "code",
   "execution_count": 7,
   "metadata": {
    "collapsed": true
   },
   "outputs": [],
   "source": [
    "def analyze_data(data, old_format=False, make_plots=True):\n",
    "    \"\"\"\n",
    "    This function analyzes our super-important data.\n",
    "    \n",
    "    If you want to use the old data format, set old_format to True.\n",
    "    Set make_plots to false if you do not want to plot the data.\n",
    "    \"\"\"\n",
    "    # analysis `..."
   ]
  },
  {
   "cell_type": "markdown",
   "metadata": {},
   "source": [
    "If you are working on a large project, there may be project specific conventions\n",
    "on how to write doc-strings. For example:"
   ]
  },
  {
   "cell_type": "code",
   "execution_count": 9,
   "metadata": {
    "collapsed": true
   },
   "outputs": [],
   "source": [
    "def google_style_doc_string(arg1, arg2):\n",
    "    \"\"\"Example Google-style doc-string.\n",
    "    \n",
    "    Put a brief description of what the function does here.\n",
    "    In this case, the function does nothing.\n",
    "    \n",
    "    Args:\n",
    "        arg1 (str): Your full name (name + surname)\n",
    "        arg2 (int): Your favorite number\n",
    "\n",
    "    Returns:\n",
    "        bool: The return value. True for success, False otherwise.\n",
    "    \"\"\"\n",
    "\n",
    "def scipy_style_doc_string(x, y):\n",
    "    \"\"\"This is a SciPy/NumPy-style doc-string.\n",
    "    \n",
    "    All of the functions in SciPy and NumPy use this format for their\n",
    "    doc-strings.\n",
    "    \n",
    "    Parameters\n",
    "    ----------\n",
    "    x : float\n",
    "        Description of parameter `x`.\n",
    "    y :\n",
    "        Description of parameter `y` (with type not specified)\n",
    "\n",
    "    Returns\n",
    "    -------\n",
    "    err_code : int\n",
    "        Non-zero value indicates error code, or zero on success.\n",
    "    err_msg : str or None\n",
    "        Human readable error message, or None on success.\n",
    "    \"\"\""
   ]
  },
  {
   "cell_type": "markdown",
   "metadata": {},
   "source": [
    "# Functions"
   ]
  },
  {
   "cell_type": "markdown",
   "metadata": {},
   "source": [
    "## Functions should have descriptive names"
   ]
  },
  {
   "cell_type": "markdown",
   "metadata": {},
   "source": [
    "Functions should have names that describe what they are for.\n",
    "\n",
    "For example, what does this function do?"
   ]
  },
  {
   "cell_type": "code",
   "execution_count": 63,
   "metadata": {
    "collapsed": false
   },
   "outputs": [
    {
     "data": {
      "text/plain": [
       "[0, 123, 54]"
      ]
     },
     "execution_count": 63,
     "metadata": {},
     "output_type": "execute_result"
    }
   ],
   "source": [
    "def myfunc(mylist):\n",
    "    import re\n",
    "    f = re.compile('([0-9]+)_.*')\n",
    "    return [int(f.findall(mystr)[0]) for mystr in mylist]\n",
    "\n",
    "myfunc(['000_Image.png', '123_Image.png', '054_Image.png'])"
   ]
  },
  {
   "cell_type": "markdown",
   "metadata": {},
   "source": [
    "This function is for extracting the leading integers from a list of file names.\n",
    "A better alternative could be:\n",
    "```python\n",
    "def extract_integer_index(file_list):\n",
    "```"
   ]
  },
  {
   "cell_type": "markdown",
   "metadata": {},
   "source": [
    "## Functions should be short"
   ]
  },
  {
   "cell_type": "markdown",
   "metadata": {},
   "source": [
    "Here is an example of a function that is a bit too long.\n",
    "It is not very long because it is an example, but in real physics code it is not uncommon\n",
    "to find single functions that are hundreds of lines long!"
   ]
  },
  {
   "cell_type": "code",
   "execution_count": 61,
   "metadata": {
    "collapsed": false
   },
   "outputs": [
    {
     "name": "stdout",
     "output_type": "stream",
     "text": [
      "******************************\n",
      "    Starting the Analysis!    \n",
      "******************************\n",
      "Mean:    4.272253258845437\n",
      "Std Dev: 2.2108824184193927\n",
      "Analysis successful!\n"
     ]
    }
   ],
   "source": [
    "def analyze():\n",
    "    print(\"******************************\")\n",
    "    print(\"    Starting the Analysis!    \")\n",
    "    print(\"******************************\")\n",
    "\n",
    "    # create fake data\n",
    "    x = [4.1, 2.8, 6.7, 3.5, 7.9, 8.0, 2.1, 6.3, 6.6, 4.2, 1.5]\n",
    "    y = [2.2, 5.3, 6.3, 2.4, 0.1, 0.67, 7.8, 9.1, 7.1, 4.9, 5.1]\n",
    "    \n",
    "    # make tuple and sort\n",
    "    data = list(zip(x, y))\n",
    "    data.sort()\n",
    "    \n",
    "    # calculate statistics\n",
    "    y_sum = 0\n",
    "    xy_sum = 0\n",
    "    xxy_sum = 0\n",
    "    for xx, yy in data:\n",
    "        y_sum += xx\n",
    "        xy_sum += xx*yy\n",
    "        xxy_sum += xx*xx*yy\n",
    "    xbar = xy_sum / y_sum\n",
    "    x2bar = xxy_sum/y_sum\n",
    "    std_dev = (x2bar - xbar**2)**0.5\n",
    "    \n",
    "    # print the results\n",
    "    print(\"Mean:   \", xbar)\n",
    "    print(\"Std Dev:\", std_dev)\n",
    "\n",
    "    print(\"Analysis successful!\")\n",
    "\n",
    "analyze()"
   ]
  },
  {
   "cell_type": "markdown",
   "metadata": {},
   "source": [
    "How can we improve this code? Our `analysis` function is really doing three things:\n",
    "1. Creating fake data\n",
    "2. Calculating some statistics\n",
    "3. Printing the the status and results\n",
    "\n",
    "Each of these things can be put in a separate function."
   ]
  },
  {
   "cell_type": "code",
   "execution_count": 60,
   "metadata": {
    "collapsed": false
   },
   "outputs": [
    {
     "name": "stdout",
     "output_type": "stream",
     "text": [
      "Mean:    4.272253258845437\n",
      "Std Dev: 2.2108824184193927\n"
     ]
    }
   ],
   "source": [
    "def generate_fake_data():\n",
    "    x = [4.1, 2.8, 6.7, 3.5, 7.9, 8.0, 2.1, 6.3, 6.6, 4.2, 1.5]\n",
    "    y = [2.2, 5.3, 6.3, 2.4, 0.1, 0.67, 7.8, 9.1, 7.1, 4.9, 5.1]\n",
    "    data = list(zip(x, y))\n",
    "    data.sort()\n",
    "    return data\n",
    "\n",
    "def calculate_mean_and_stddev(xy_data):\n",
    "    y_sum = 0\n",
    "    xy_sum = 0\n",
    "    xxy_sum = 0\n",
    "    for xx, yy in data:\n",
    "        y_sum += xx\n",
    "        xy_sum += xx*yy\n",
    "        xxy_sum += xx*xx*yy\n",
    "    xbar = xy_sum / y_sum\n",
    "    x2bar = xxy_sum/y_sum\n",
    "    std_dev = (x2bar - xbar**2)**0.5\n",
    "    return xbar, std_dev\n",
    "\n",
    "def analyze():\n",
    "    data = generate_fake_data()\n",
    "    mean, std_dev = calculate_mean_and_stddev(data)\n",
    "    print(\"Mean:   \", mean)\n",
    "    print(\"Std Dev:\", std_dev)\n",
    "    \n",
    "analyze()"
   ]
  },
  {
   "cell_type": "markdown",
   "metadata": {},
   "source": [
    "We note three important results of this code restructuring:\n",
    "1. It is much easier to tell at a glance what `analyze()` does.\n",
    "2. The comments (which we used to organize our code before) are no longer needed.\n",
    "3. `generate_fake_data()` and `calculate_mean_and_stddev()` can now be reused elsewhere."
   ]
  },
  {
   "cell_type": "markdown",
   "metadata": {},
   "source": [
    "## Functions should do one thing"
   ]
  },
  {
   "cell_type": "markdown",
   "metadata": {},
   "source": [
    "We now know we should break up big functions into smaller ones, but how do we decide\n",
    "how to break them up, and how small should they be?\n",
    "\n",
    "A useful principle for guiding the creation of functions is that functions should\n",
    "do one thing. In the previous section, our large `analysis()` function was doing\n",
    "several things, so we broke it up into smaller functions.\n",
    "\n",
    "But wait! You may notice that `calculate_mean_and_stddev()` does two things! Should we\n",
    "break it up into two functions, `calculate_mean()` and `calculate_stddev()`?\n",
    "The answer depends on two things:\n",
    "1. Will you ever want to calculate the mean and standard deviation separately?\n",
    "2. Will splitting the function into two result in a large amount of duplicated code?\n",
    "\n",
    "Another important consequence of of the \"do one thing\" principle is that it can help\n",
    "you avoid cases where a function does more than what you would expect it to do.\n",
    "\n",
    "For example, this function claims to just write data to a file; however, it also modifies the data!"
   ]
  },
  {
   "cell_type": "code",
   "execution_count": 62,
   "metadata": {
    "collapsed": true
   },
   "outputs": [],
   "source": [
    "def write_data_to_file(data, filename='data.dat'):\n",
    "    with open(filename, 'w') as f:\n",
    "        data *= 2\n",
    "        f.write(data)"
   ]
  },
  {
   "cell_type": "markdown",
   "metadata": {},
   "source": [
    "Try to imagine a much larger code where you have\n",
    "a factor of two introduced, and you can't figure out where it came from."
   ]
  },
  {
   "cell_type": "markdown",
   "metadata": {},
   "source": [
    "# Classes"
   ]
  },
  {
   "cell_type": "markdown",
   "metadata": {},
   "source": [
    "## When to use classes"
   ]
  },
  {
   "cell_type": "markdown",
   "metadata": {},
   "source": [
    "## Encapsulation"
   ]
  },
  {
   "cell_type": "markdown",
   "metadata": {},
   "source": [
    "## When to use inheritance"
   ]
  },
  {
   "cell_type": "code",
   "execution_count": null,
   "metadata": {
    "collapsed": true
   },
   "outputs": [],
   "source": []
  }
 ],
 "metadata": {
  "kernelspec": {
   "display_name": "Python 3",
   "language": "python",
   "name": "python3"
  },
  "language_info": {
   "name": "python",
   "version": "3.5.2"
  }
 },
 "nbformat": 4,
 "nbformat_minor": 2
}
