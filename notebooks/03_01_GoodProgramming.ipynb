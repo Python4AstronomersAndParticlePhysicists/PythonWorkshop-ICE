{
 "cells": [
  {
   "cell_type": "markdown",
   "metadata": {
    "collapsed": true
   },
   "source": [
    "# Table of Contents\n",
    "\n",
    "1. General characteristics\n",
    "2. Functions\n",
    "    - Functions should have descriptive names\n",
    "    - Functions should be short\n",
    "    - Functions should do one thing\n",
    "3. Classes\n",
    "    - When to use classes\n",
    "    - Encapsulation\n",
    "    - When to use inheritance\n",
    "    - `super` function\n",
    "5. Exceptions\n",
    "6. Documentation / comments\n",
    "7. Modules and packages\n",
    "8. Standard libraries (Intro): os, sys, datetime, shutil, glob, re, logging, urllib, subprocess, pickle, ... (move this to language overview)\n",
    "9. [Unit] Testing\n",
    "10. PEP8 - coding conventions\n",
    "11. Version Control Tools (Git)\n",
    "12. Virtual environments\n",
    "13. ...\n",
    "14. Miscellany:\n",
    "    - comprehensions (list/dict/set)\n",
    "    - string formatting\n",
    "    - lambda functions\n",
    "    - decorators\n",
    "    - logical operators\n",
    "    - variable scope\n",
    "    - mutable vs immutable\n",
    "    - `*args` and `**kwargs`\n",
    "    - floating point arithmetic"
   ]
  },
  {
   "cell_type": "markdown",
   "metadata": {},
   "source": [
    "# Functions"
   ]
  },
  {
   "cell_type": "markdown",
   "metadata": {},
   "source": [
    "## Functions should have descriptive names"
   ]
  },
  {
   "cell_type": "markdown",
   "metadata": {},
   "source": [
    "Functions should have names that describe what they are for.\n",
    "\n",
    "For example, what does this function do?"
   ]
  },
  {
   "cell_type": "code",
   "execution_count": 63,
   "metadata": {},
   "outputs": [
    {
     "data": {
      "text/plain": [
       "[0, 123, 54]"
      ]
     },
     "execution_count": 63,
     "metadata": {},
     "output_type": "execute_result"
    }
   ],
   "source": [
    "def myfunc(mylist):\n",
    "    import re\n",
    "    f = re.compile('([0-9]+)_.*')\n",
    "    return [int(f.findall(mystr)[0]) for mystr in mylist]\n",
    "\n",
    "myfunc(['000_Image.png', '123_Image.png', '054_Image.png'])"
   ]
  },
  {
   "cell_type": "markdown",
   "metadata": {},
   "source": [
    "This function is for extracting the leading integers from a list of file names.\n",
    "A better alternative could be:\n",
    "```python\n",
    "def extract_integer_index(file_list):\n",
    "```"
   ]
  },
  {
   "cell_type": "markdown",
   "metadata": {},
   "source": [
    "## Functions should be short"
   ]
  },
  {
   "cell_type": "markdown",
   "metadata": {},
   "source": [
    "Here is an example of a function that is a bit too long.\n",
    "It is not very long because it is an example, but in real physics code it is not uncommon\n",
    "to find single functions that are hundreds of lines long!"
   ]
  },
  {
   "cell_type": "code",
   "execution_count": 61,
   "metadata": {},
   "outputs": [
    {
     "name": "stdout",
     "output_type": "stream",
     "text": [
      "******************************\n",
      "    Starting the Analysis!    \n",
      "******************************\n",
      "Mean:    4.272253258845437\n",
      "Std Dev: 2.2108824184193927\n",
      "Analysis successful!\n"
     ]
    }
   ],
   "source": [
    "def analyze():\n",
    "    print(\"******************************\")\n",
    "    print(\"    Starting the Analysis!    \")\n",
    "    print(\"******************************\")\n",
    "\n",
    "    # create fake data\n",
    "    x = [4.1, 2.8, 6.7, 3.5, 7.9, 8.0, 2.1, 6.3, 6.6, 4.2, 1.5]\n",
    "    y = [2.2, 5.3, 6.3, 2.4, 0.1, 0.67, 7.8, 9.1, 7.1, 4.9, 5.1]\n",
    "    \n",
    "    # make tuple and sort\n",
    "    data = list(zip(x, y))\n",
    "    data.sort()\n",
    "    \n",
    "    # calculate statistics\n",
    "    y_sum = 0\n",
    "    xy_sum = 0\n",
    "    xxy_sum = 0\n",
    "    for xx, yy in data:\n",
    "        y_sum += xx\n",
    "        xy_sum += xx*yy\n",
    "        xxy_sum += xx*xx*yy\n",
    "    xbar = xy_sum / y_sum\n",
    "    x2bar = xxy_sum/y_sum\n",
    "    std_dev = (x2bar - xbar**2)**0.5\n",
    "    \n",
    "    # print the results\n",
    "    print(\"Mean:   \", xbar)\n",
    "    print(\"Std Dev:\", std_dev)\n",
    "\n",
    "    print(\"Analysis successful!\")\n",
    "\n",
    "analyze()"
   ]
  },
  {
   "cell_type": "markdown",
   "metadata": {},
   "source": [
    "How can we improve this code? Our `analysis` function is really doing three things:\n",
    "1. Creating fake data\n",
    "2. Calculating some statistics\n",
    "3. Printing the the status and results\n",
    "\n",
    "Each of these things can be put in a separate function."
   ]
  },
  {
   "cell_type": "code",
   "execution_count": 60,
   "metadata": {},
   "outputs": [
    {
     "name": "stdout",
     "output_type": "stream",
     "text": [
      "Mean:    4.272253258845437\n",
      "Std Dev: 2.2108824184193927\n"
     ]
    }
   ],
   "source": [
    "def generate_fake_data():\n",
    "    x = [4.1, 2.8, 6.7, 3.5, 7.9, 8.0, 2.1, 6.3, 6.6, 4.2, 1.5]\n",
    "    y = [2.2, 5.3, 6.3, 2.4, 0.1, 0.67, 7.8, 9.1, 7.1, 4.9, 5.1]\n",
    "    data = list(zip(x, y))\n",
    "    data.sort()\n",
    "    return data\n",
    "\n",
    "def calculate_mean_and_stddev(xy_data):\n",
    "    y_sum = 0\n",
    "    xy_sum = 0\n",
    "    xxy_sum = 0\n",
    "    for xx, yy in data:\n",
    "        y_sum += xx\n",
    "        xy_sum += xx*yy\n",
    "        xxy_sum += xx*xx*yy\n",
    "    xbar = xy_sum / y_sum\n",
    "    x2bar = xxy_sum/y_sum\n",
    "    std_dev = (x2bar - xbar**2)**0.5\n",
    "    return xbar, std_dev\n",
    "\n",
    "def analyze():\n",
    "    data = generate_fake_data()\n",
    "    mean, std_dev = calculate_mean_and_stddev(data)\n",
    "    print(\"Mean:   \", mean)\n",
    "    print(\"Std Dev:\", std_dev)\n",
    "    \n",
    "analyze()"
   ]
  },
  {
   "cell_type": "markdown",
   "metadata": {},
   "source": [
    "We note three important results of this code restructuring:\n",
    "1. It is much easier to tell at a glance what `analyze()` does.\n",
    "2. The comments (which we used to organize our code before) are no longer needed.\n",
    "3. `generate_fake_data()` and `calculate_mean_and_stddev()` can now be reused elsewhere."
   ]
  },
  {
   "cell_type": "markdown",
   "metadata": {},
   "source": [
    "## Functions should do one thing"
   ]
  },
  {
   "cell_type": "markdown",
   "metadata": {},
   "source": [
    "We now know we should break up big functions into smaller ones, but how do we decide\n",
    "how to break them up, and how small should they be?\n",
    "\n",
    "A useful principle for guiding the creation of functions is that functions should\n",
    "do one thing. In the previous section, our large `analysis()` function was doing\n",
    "several things, so we broke it up into smaller functions.\n",
    "\n",
    "But wait! You may notice that `calculate_mean_and_stddev()` does two things! Should we\n",
    "break it up into two functions, `calculate_mean()` and `calculate_stddev()`?\n",
    "The answer depends on two things:\n",
    "1. Will you ever want to calculate the mean and standard deviation separately?\n",
    "2. Will splitting the function into two result in a large amount of duplicated code?\n",
    "\n",
    "Another important consequence of of the \"do one thing\" principle is that it can help\n",
    "you avoid cases where a function does more than what you would expect it to do.\n",
    "\n",
    "For example, this function claims to just write data to a file; however, it also modifies the data!"
   ]
  },
  {
   "cell_type": "code",
   "execution_count": 62,
   "metadata": {
    "collapsed": true
   },
   "outputs": [],
   "source": [
    "def write_data_to_file(data, filename='data.dat'):\n",
    "    with open(filename, 'w') as f:\n",
    "        data *= 2\n",
    "        f.write(data)"
   ]
  },
  {
   "cell_type": "markdown",
   "metadata": {},
   "source": [
    "Try to imagine a much larger code where you have\n",
    "a factor of two introduced, and you can't figure out where it came from."
   ]
  },
  {
   "cell_type": "markdown",
   "metadata": {},
   "source": [
    "# Classes"
   ]
  },
  {
   "cell_type": "markdown",
   "metadata": {},
   "source": [
    "## When to use classes"
   ]
  },
  {
   "cell_type": "markdown",
   "metadata": {},
   "source": [
    "## Encapsulation"
   ]
  },
  {
   "cell_type": "markdown",
   "metadata": {},
   "source": [
    "## When to use inheritance"
   ]
  },
  {
   "cell_type": "code",
   "execution_count": null,
   "metadata": {
    "collapsed": true
   },
   "outputs": [],
   "source": []
  }
 ],
 "metadata": {
  "kernelspec": {
   "display_name": "Python 3",
   "language": "python",
   "name": "python3"
  },
  "language_info": {
   "codemirror_mode": {
    "name": "ipython",
    "version": 3
   },
   "file_extension": ".py",
   "mimetype": "text/x-python",
   "name": "python",
   "nbconvert_exporter": "python",
   "pygments_lexer": "ipython3",
   "version": "3.6.1"
  }
 },
 "nbformat": 4,
 "nbformat_minor": 2
}
