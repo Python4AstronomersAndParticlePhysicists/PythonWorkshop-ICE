{
 "cells": [
  {
   "cell_type": "markdown",
   "metadata": {},
   "source": [
    "# scipy stats\n",
    "\n",
    "This notebook focuses on the use of the scipy.stats module\n",
    "\n",
    "It is built based on a learn-by-example approach So it only covers a little part of the module's functionalities but provides a practical application.\n",
    "\n",
    "Some knowledge of `numpy` and `matplotlib` is needed to fully understand the content."
   ]
  },
  {
   "cell_type": "markdown",
   "metadata": {},
   "source": [
    "## Introduction\n",
    "\n",
    "The scipy.stats module provides mainly:\n",
    "* probability distributions: continuous, discrete and multivariate\n",
    "* statistical functions such as statistics and tests"
   ]
  },
  {
   "cell_type": "markdown",
   "metadata": {},
   "source": [
    "## Imports"
   ]
  },
  {
   "cell_type": "code",
   "execution_count": null,
   "metadata": {
    "collapsed": true
   },
   "outputs": [],
   "source": [
    "%matplotlib inline\n",
    "import numpy as np\n",
    "import scipy as sp\n",
    "from scipy import stats\n",
    "import matplotlib.pyplot as plt\n",
    "from datetime import datetime"
   ]
  },
  {
   "cell_type": "markdown",
   "metadata": {},
   "source": [
    "## Load the data"
   ]
  },
  {
   "cell_type": "code",
   "execution_count": null,
   "metadata": {
    "collapsed": true
   },
   "outputs": [],
   "source": [
    "stock_prices = np.loadtxt('../resources/stock.csv', skiprows=1, delimiter=',', usecols=(1, 2))"
   ]
  },
  {
   "cell_type": "code",
   "execution_count": null,
   "metadata": {},
   "outputs": [],
   "source": [
    "plt.plot(stock_prices[:, 0], label='Apple')\n",
    "plt.plot(stock_prices[:, 1], label='Microsoft')\n",
    "_ = plt.legend()\n",
    "_ = plt.title('2016 stock prices')"
   ]
  },
  {
   "cell_type": "code",
   "execution_count": null,
   "metadata": {
    "collapsed": true
   },
   "outputs": [],
   "source": [
    "# Compute the daily increments\n",
    "stock_incs = (stock_prices[1:, :] - stock_prices[:-1, :])/stock_prices[:-1, :]\n",
    "n_incs, n_stocks = stock_incs.shape"
   ]
  },
  {
   "cell_type": "code",
   "execution_count": null,
   "metadata": {},
   "outputs": [],
   "source": [
    "plt.plot(stock_incs[:, 0], label='Apple')\n",
    "plt.plot(stock_incs[:, 1], label='Microsoft')\n",
    "_ = plt.legend()\n",
    "_ = plt.title('2016 stock prices - daily relative increments')"
   ]
  },
  {
   "cell_type": "code",
   "execution_count": null,
   "metadata": {},
   "outputs": [],
   "source": [
    "# Compute some stats (not using scipy.stats)\n",
    "m = np.mean(stock_incs, axis=0)\n",
    "s = np.std(stock_incs, axis=0)\n",
    "c = np.cov(stock_incs, rowvar=0)\n",
    "sp = np.sqrt(s**2*n_incs/(n_incs - 1))\n",
    "print('mean = {}'.format(m))\n",
    "print('std = {}'.format(s))\n",
    "print('pop std = {}'.format(sp))\n",
    "print('cov = {}'.format(c))"
   ]
  },
  {
   "cell_type": "markdown",
   "metadata": {},
   "source": [
    "Until here we haven't used `scipy.stats`\n",
    "\n",
    "## Create a Normal distribution\n",
    "\n",
    "Let's assume that the stock prices follow a Normal distribution"
   ]
  },
  {
   "cell_type": "code",
   "execution_count": null,
   "metadata": {
    "collapsed": true
   },
   "outputs": [],
   "source": [
    "# Create estimated distributions based on the sample\n",
    "app_dist = stats.norm(m[0], sp[0])\n",
    "win_dist = stats.norm(m[1], sp[1])"
   ]
  },
  {
   "cell_type": "code",
   "execution_count": null,
   "metadata": {},
   "outputs": [],
   "source": [
    "x_range = np.arange(-0.05, +0.0501, 0.001)\n",
    "\n",
    "# All the continous distributions have the pdf, cdf and rvs methods\n",
    "# Probability Density Function\n",
    "pdf = app_dist.pdf(x_range)\n",
    "# Cumulative Distribution Function\n",
    "cdf = app_dist.cdf(x_range)\n",
    "# Random sample\n",
    "rvs = app_dist.rvs(1000)\n",
    "\n",
    "# Plot the data\n",
    "fig = plt.figure(figsize=(15., 5.))\n",
    "\n",
    "ax1 = fig.add_subplot(131)\n",
    "ax1.plot(x_range, pdf)\n",
    "_ = ax1.set_title('Probability Density Function')\n",
    "\n",
    "ax2 = fig.add_subplot(132)\n",
    "ax2.plot(x_range, cdf)\n",
    "_ = ax2.set_title('Cumulative Distribution Function')\n",
    "\n",
    "ax3 = fig.add_subplot(133)\n",
    "ax3.hist(rvs, bins=100)\n",
    "_ = ax3.set_title('Random Sample')\n"
   ]
  },
  {
   "cell_type": "code",
   "execution_count": null,
   "metadata": {},
   "outputs": [],
   "source": [
    "# We can test if this data fits a normal distribution\n",
    "app_KS = stats.kstest(stock_incs[:, 0], 'norm', [m[0], sp[0]])\n",
    "win_KS = stats.kstest(stock_incs[:, 1], 'norm', [m[1], sp[1]])\n",
    "print(app_KS, '\\n', win_KS)"
   ]
  },
  {
   "cell_type": "markdown",
   "metadata": {},
   "source": [
    "![Ummmmmm](../resources/homer-doh.jpg)"
   ]
  },
  {
   "cell_type": "code",
   "execution_count": null,
   "metadata": {},
   "outputs": [],
   "source": [
    "# Compare histogram with estimated distribution\n",
    "x_range = np.arange(-0.05, +0.0501, 0.001)\n",
    "x_axis = (x_range[1:] + x_range[:-1])/2.\n",
    "y_app = (app_dist.cdf(x_range[1:]) - app_dist.cdf(x_range[:-1]))*n_incs\n",
    "y_win = (win_dist.cdf(x_range[1:]) - win_dist.cdf(x_range[:-1]))*n_incs\n",
    "\n",
    "fig = plt.figure(figsize=(16., 6.))\n",
    "ax_app = fig.add_subplot(121)\n",
    "_ = ax_app.hist(stock_incs[:, 0], bins=x_range, color='powderblue')\n",
    "_ = ax_app.set_xlabel('Apple')\n",
    "_ = ax_app.plot(x_axis, y_app, color='blue', linewidth=3)\n",
    "ax_win = fig.add_subplot(122)\n",
    "_ = ax_win.hist(stock_incs[:, 1], bins=x_range, color='navajowhite')\n",
    "_ = ax_win.set_xlabel('Microsoft')\n",
    "_ = ax_win.plot(x_axis, y_win, color='orange', linewidth=3)"
   ]
  },
  {
   "cell_type": "markdown",
   "metadata": {},
   "source": [
    "## Create a Multivariate Normal distribution"
   ]
  },
  {
   "cell_type": "code",
   "execution_count": null,
   "metadata": {
    "collapsed": true
   },
   "outputs": [],
   "source": [
    "# Create a multivariate normal distribution object\n",
    "m_norm = stats.multivariate_normal(m, c)"
   ]
  },
  {
   "cell_type": "code",
   "execution_count": null,
   "metadata": {},
   "outputs": [],
   "source": [
    "# Show the contour plot of the pdf\n",
    "x_range = np.arange(-0.05, +0.0501, 0.001)\n",
    "x, y = np.meshgrid(x_range, x_range)\n",
    "\n",
    "pos = np.dstack((x, y))\n",
    "fig_m_norm = plt.figure(figsize=(6., 6.))\n",
    "ax_m_norm = fig_m_norm.add_subplot(111)\n",
    "ax_m_norm.contourf(x, y, m_norm.pdf(pos), 50)\n",
    "_ = ax_m_norm.set_xlabel('Apple')\n",
    "_ = ax_m_norm.set_ylabel('Windows')"
   ]
  },
  {
   "cell_type": "markdown",
   "metadata": {},
   "source": [
    "## Generate a random sample"
   ]
  },
  {
   "cell_type": "code",
   "execution_count": null,
   "metadata": {
    "collapsed": true
   },
   "outputs": [],
   "source": [
    "sim_incs = m_norm.rvs(size=250)"
   ]
  },
  {
   "cell_type": "code",
   "execution_count": null,
   "metadata": {},
   "outputs": [],
   "source": [
    "plt.plot(sim_incs[:, 0], label='Apple')\n",
    "plt.plot(sim_incs[:, 1], label='Microsoft')\n",
    "_ = plt.legend()"
   ]
  },
  {
   "cell_type": "markdown",
   "metadata": {},
   "source": [
    "Starting from some initial values we can simulate the evolution of the stock prices"
   ]
  },
  {
   "cell_type": "code",
   "execution_count": null,
   "metadata": {},
   "outputs": [],
   "source": [
    "init_values = stock_prices[-1, :]\n",
    "print(init_values)"
   ]
  },
  {
   "cell_type": "code",
   "execution_count": null,
   "metadata": {
    "collapsed": true
   },
   "outputs": [],
   "source": [
    "# UGLY CODE!!! probably slow also\n",
    "curr_sim_incs = np.array([1., 1.])\n",
    "rel_sim_incs = [curr_sim_incs]\n",
    "for i in range(sim_incs.shape[0]):\n",
    "    next_sim_incs = curr_sim_incs*(1 + sim_incs[i, :])\n",
    "    rel_sim_incs.append(next_sim_incs)\n",
    "    curr_sim_incs = next_sim_incs\n",
    "\n",
    "sim_stock_prices = rel_sim_incs*init_values"
   ]
  },
  {
   "cell_type": "code",
   "execution_count": null,
   "metadata": {},
   "outputs": [],
   "source": [
    "plt.plot(sim_stock_prices[:, 0], label='Apple')\n",
    "plt.plot(sim_stock_prices[:, 1], label='Microsoft')\n",
    "_ = plt.legend()"
   ]
  },
  {
   "cell_type": "markdown",
   "metadata": {},
   "source": [
    "## Exercise:\n",
    "\n",
    "Imagine you are a product designer in a finantial company. You want to create a new investment product to be \"sold\" to your clients based on the future stock prices of Apple and Microsoft. The profit the client gets from his investement is calculated like this:\n",
    "* At  the time of the investment we check the initial stock prices\n",
    "* If 12 months (let's say 240 work days) after making the investment both stock prices are higher than the initial ones, the client earns half the lowest increment (in %).\n",
    "\n",
    "**What is the expected profit of this investment?**\n",
    "\n",
    "**What is the expected 5% highest interest to be payed?**"
   ]
  },
  {
   "cell_type": "code",
   "execution_count": null,
   "metadata": {
    "collapsed": true
   },
   "outputs": [],
   "source": [
    "# Create N (e.g 1000) random simulations of the daily relative increments with 240 samples\n",
    "N_SIMS = 1000\n",
    "daily_incs = m_norm.rvs(size=[240, N_SIMS])"
   ]
  },
  {
   "cell_type": "code",
   "execution_count": null,
   "metadata": {
    "collapsed": true
   },
   "outputs": [],
   "source": [
    "# Calculate yearly increments (from the composition of the daily increments)\n",
    "year_incs = (daily_incs + 1.).prod(axis=0)"
   ]
  },
  {
   "cell_type": "code",
   "execution_count": null,
   "metadata": {
    "collapsed": true
   },
   "outputs": [],
   "source": [
    "# calculate the amount payed for each simulation\n",
    "def amount_to_pay(a):\n",
    "    if a[0] >= 1. and a[1] >= 1.:\n",
    "        return (a.min() - 1)/2\n",
    "    else:\n",
    "        return 0.\n",
    "earnings = np.apply_along_axis(amount_to_pay, 1, year_incs)"
   ]
  },
  {
   "cell_type": "code",
   "execution_count": null,
   "metadata": {},
   "outputs": [],
   "source": [
    "_ = plt.hist(earnings, bins=50,log=True)"
   ]
  },
  {
   "cell_type": "code",
   "execution_count": null,
   "metadata": {},
   "outputs": [],
   "source": [
    "print('Expected profit of the investment: {:.2%}'.format(earnings.mean()))"
   ]
  },
  {
   "cell_type": "code",
   "execution_count": null,
   "metadata": {},
   "outputs": [],
   "source": [
    "# To compute the 5% higher profit use the stats.scoreatpercentile function\n",
    "print('%5 higher profit of the investment: {:.2%}'.format(stats.scoreatpercentile(earnings, 95)))\n",
    "print('%1 higher profit of the investment: {:.2%}'.format(stats.scoreatpercentile(earnings, 99)))"
   ]
  },
  {
   "cell_type": "code",
   "execution_count": null,
   "metadata": {
    "collapsed": true
   },
   "outputs": [],
   "source": []
  }
 ],
 "metadata": {
  "kernelspec": {
   "display_name": "Python 3",
   "language": "python",
   "name": "python3"
  },
  "language_info": {
   "codemirror_mode": {
    "name": "ipython",
    "version": 3
   },
   "file_extension": ".py",
   "mimetype": "text/x-python",
   "name": "python",
   "nbconvert_exporter": "python",
   "pygments_lexer": "ipython3",
   "version": "3.5.2"
  }
 },
 "nbformat": 4,
 "nbformat_minor": 2
}
