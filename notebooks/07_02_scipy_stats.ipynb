{
 "cells": [
  {
   "cell_type": "markdown",
   "metadata": {},
   "source": [
    "# scipy stats\n",
    "\n",
    "This notebook focuses on the use of the scipy.stats module\n",
    "\n",
    "It is built based on a learn-by-example approach So it only covers a little part of the module's functionalities but provides a practical application.\n",
    "\n",
    "Some knowledge of `numpy` and `matplotlib` is needed to fully understand the content."
   ]
  },
  {
   "cell_type": "markdown",
   "metadata": {},
   "source": [
    "## Introduction\n",
    "\n",
    "The scipy.stats module provides mainly:\n",
    "* probability distributions: continuous, discrete and multivariate\n",
    "* statistical functions such as statistics and tests\n",
    "\n",
    "For further details you can check [the official documentation](https://docs.scipy.org/doc/scipy/reference/stats.html)"
   ]
  },
  {
   "cell_type": "markdown",
   "metadata": {},
   "source": [
    "## Imports"
   ]
  },
  {
   "cell_type": "code",
   "execution_count": null,
   "metadata": {
    "collapsed": true
   },
   "outputs": [],
   "source": [
    "%matplotlib inline\n",
    "import numpy as np\n",
    "from scipy import stats\n",
    "import matplotlib.pyplot as plt\n",
    "import pandas as pd"
   ]
  },
  {
   "cell_type": "markdown",
   "metadata": {},
   "source": [
    "## Probability distributions\n",
    "\n",
    "The scipy.stats module provides a very complete set of probability distributions.\n",
    "\n",
    "There are three types of distributions:\n",
    "* Continuous\n",
    "* Discrete\n",
    "* Multivariate\n",
    "\n",
    "Each of the univariate types is inherited from the same class, so they all have a common API.\n",
    "\n",
    "### Continuos distributions\n",
    "\n",
    "There are ~100 different continuous distributions. Some of the methods in the API:\n",
    "* `cdf`: Cumulative Distribution Function\n",
    "* `pdf`: Probability Density Function\n",
    "* `rvs`: Random Variable Sample\n",
    "* `ppf`: Percent Point Function (inverse of the CDF)\n",
    "* `fit`: return MLE estimations of location, scale and shape, given a set of data"
   ]
  },
  {
   "cell_type": "code",
   "execution_count": null,
   "metadata": {},
   "outputs": [],
   "source": [
    "N_SAMPLES = 1000\n",
    "\n",
    "pds = [('Normal', stats.norm(), (-4., 4.)), \n",
    "      ('LogNormal', stats.lognorm(1.), (0., 4.)),\n",
    "      ('Students T', stats.t(3.), (-10., 10.)),\n",
    "      ('Chi Squared', stats.chi2(1.), (0., 10.))]\n",
    "\n",
    "n_pds = len(pds)\n",
    "fig, ax_list = plt.subplots(n_pds, 3)\n",
    "fig.set_size_inches((5.*n_pds, 10.))\n",
    "for ind, elem in enumerate(pds):\n",
    "    \n",
    "    pd_name, pd_func, pd_range = elem\n",
    "\n",
    "    x_range = np.linspace(*pd_range, 101)\n",
    "    \n",
    "    # Probability Density Function\n",
    "    ax_list[ind, 0].plot(x_range, pd_func.pdf(x_range))\n",
    "    ax_list[ind, 0].set_ylabel(pd_name)\n",
    "    \n",
    "    # Cumulative Distribution Function\n",
    "    ax_list[ind, 1].plot(x_range, pd_func.cdf(x_range))\n",
    "    ax_list[ind, 1].fill_between(x_range, pd_func.cdf(x_range))\n",
    "    ax_list[ind, 1].set_ylim([0., 1.])\n",
    "    \n",
    "    # Random Variable Sample\n",
    "    ax_list[ind, 2].hist(pd_func.rvs(size=N_SAMPLES), bins=50)\n",
    "    \n",
    "    if ind == 0:\n",
    "        _ = ax_list[ind, 0].set_title('Probability Density Function')\n",
    "        _ = ax_list[ind, 1].set_title('Cumulative Distribution Function')\n",
    "        _ = ax_list[ind, 2].set_title('Random Sample')"
   ]
  },
  {
   "cell_type": "markdown",
   "metadata": {},
   "source": [
    "## Discrete Distributions\n",
    "\n",
    "Discrete distributions have quite the same API. Having `pmf`= Probability Mass Function (instead of pdf)"
   ]
  },
  {
   "cell_type": "code",
   "execution_count": null,
   "metadata": {},
   "outputs": [],
   "source": [
    "N_SAMPLES = 1000\n",
    "\n",
    "pds = [('Binomial', stats.binom(20, 0.7), (0., 21.)),\n",
    "      ('Poisson', stats.poisson(10.), (0., 21.))]\n",
    "\n",
    "n_pds = len(pds)\n",
    "fig, ax_list = plt.subplots(n_pds, 3)\n",
    "fig.set_size_inches((8.*n_pds, 8.))\n",
    "for ind, elem in enumerate(pds):\n",
    "    \n",
    "    pd_name, pd_func, pd_range = elem\n",
    "\n",
    "    x_range = np.arange(*pd_range)\n",
    "    \n",
    "    # Probability Mass Function\n",
    "    ax_list[ind, 0].bar(x_range, pd_func.pmf(x_range))\n",
    "    ax_list[ind, 0].set_ylabel(pd_name)\n",
    "    \n",
    "    # Cumulative Distribution Function\n",
    "    ax_list[ind, 1].plot(x_range, pd_func.cdf(x_range))\n",
    "    ax_list[ind, 1].fill_between(x_range, pd_func.cdf(x_range))\n",
    "    ax_list[ind, 1].set_ylim([0., 1.])\n",
    "    \n",
    "    # Random Variable Sample\n",
    "    ax_list[ind, 2].hist(pd_func.rvs(size=N_SAMPLES), bins=x_range - 0.5)\n",
    "    \n",
    "    if ind == 0:\n",
    "        _ = ax_list[ind, 0].set_title('Probability Mass Function')\n",
    "        _ = ax_list[ind, 1].set_title('Cumulative Distribution Function')\n",
    "        _ = ax_list[ind, 2].set_title('Random Sample')"
   ]
  },
  {
   "cell_type": "markdown",
   "metadata": {},
   "source": [
    "## Example: creating a financial product"
   ]
  },
  {
   "cell_type": "markdown",
   "metadata": {},
   "source": [
    "### Load and manipulate the data"
   ]
  },
  {
   "cell_type": "code",
   "execution_count": null,
   "metadata": {
    "collapsed": true
   },
   "outputs": [],
   "source": [
    "df_prices = pd.read_csv('../resources/stock.csv')"
   ]
  },
  {
   "cell_type": "code",
   "execution_count": null,
   "metadata": {},
   "outputs": [],
   "source": [
    "df_prices.head(10)"
   ]
  },
  {
   "cell_type": "code",
   "execution_count": null,
   "metadata": {},
   "outputs": [],
   "source": [
    "_ = df_prices[['Apple', 'Microsoft']].plot(title='2016 stock prices')"
   ]
  },
  {
   "cell_type": "code",
   "execution_count": null,
   "metadata": {},
   "outputs": [],
   "source": [
    "# Compute the daily relative increments\n",
    "df_incs = df_prices.drop('Date', axis=1)\n",
    "df_incs = ((df_incs - df_incs.shift(1))/df_incs.shift(1)).loc[1:, :]\n",
    "df_incs['Date'] = df_prices.Date\n",
    "df_incs.head(10)"
   ]
  },
  {
   "cell_type": "code",
   "execution_count": null,
   "metadata": {},
   "outputs": [],
   "source": [
    "_ = df_incs[['Apple', 'Microsoft']].plot(title='2016 stock prices variations')"
   ]
  },
  {
   "cell_type": "code",
   "execution_count": null,
   "metadata": {},
   "outputs": [],
   "source": [
    "m = np.mean(df_incs)\n",
    "print(m)"
   ]
  },
  {
   "cell_type": "code",
   "execution_count": null,
   "metadata": {},
   "outputs": [],
   "source": [
    "s = np.std(df_incs, ddof=1)\n",
    "print(s)"
   ]
  },
  {
   "cell_type": "code",
   "execution_count": null,
   "metadata": {},
   "outputs": [],
   "source": [
    "c = df_incs.cov()\n",
    "c"
   ]
  },
  {
   "cell_type": "markdown",
   "metadata": {},
   "source": [
    "## Create a Normal distribution\n",
    "\n",
    "Let's assume that the stock prices follow a Normal distribution"
   ]
  },
  {
   "cell_type": "code",
   "execution_count": null,
   "metadata": {},
   "outputs": [],
   "source": [
    "# we can use the fit method to get the MLE of the mean and the std\n",
    "stats.norm.fit(df_incs.Apple)"
   ]
  },
  {
   "cell_type": "code",
   "execution_count": null,
   "metadata": {
    "collapsed": true
   },
   "outputs": [],
   "source": [
    "# Create estimated distributions based on the sample\n",
    "app_dist = stats.norm(m['Apple'], s['Apple'])\n",
    "win_dist = stats.norm(m['Microsoft'], s['Microsoft'])\n",
    "intl_dist = stats.norm(m['Intel'], s['Intel'])"
   ]
  },
  {
   "cell_type": "code",
   "execution_count": null,
   "metadata": {},
   "outputs": [],
   "source": [
    "# We can test if this data fits a normal distribution (Kolmogorov-Smirnov test)\n",
    "app_KS = stats.kstest(df_incs['Apple'], 'norm', [m['Apple'], s['Apple']])\n",
    "win_KS = stats.kstest(df_incs['Microsoft'], 'norm', [m['Microsoft'], s['Microsoft']])\n",
    "intl_KS = stats.kstest(df_incs['Intel'], 'norm', [m['Intel'], s['Intel']])\n",
    "print('''Apple: {}\n",
    "Microsoft: {}\n",
    "Intel: {}'''.format(app_KS, win_KS, intl_KS))"
   ]
  },
  {
   "cell_type": "markdown",
   "metadata": {},
   "source": [
    "![Ummmmmm](../resources/homer-doh.jpg)"
   ]
  },
  {
   "cell_type": "code",
   "execution_count": null,
   "metadata": {},
   "outputs": [],
   "source": [
    "# Compare histogram with estimated distribution\n",
    "x_range = np.arange(-0.05, +0.0501, 0.001)\n",
    "x_axis = (x_range[1:] + x_range[:-1])/2.\n",
    "n_incs = df_incs.shape[0]\n",
    "y_app = (app_dist.cdf(x_range[1:]) - app_dist.cdf(x_range[:-1]))*n_incs\n",
    "y_win = (win_dist.cdf(x_range[1:]) - win_dist.cdf(x_range[:-1]))*n_incs\n",
    "y_intl = (intl_dist.cdf(x_range[1:]) - intl_dist.cdf(x_range[:-1]))*n_incs\n",
    "\n",
    "fig = plt.figure(figsize=(16., 6.))\n",
    "ax_app = fig.add_subplot(131)\n",
    "_ = ax_app.hist(df_incs['Apple'], bins=x_range, color='powderblue')\n",
    "_ = ax_app.set_xlabel('Apple')\n",
    "_ = ax_app.plot(x_axis, y_app, color='blue', linewidth=3)\n",
    "ax_win = fig.add_subplot(132)\n",
    "_ = ax_win.hist(df_incs['Microsoft'], bins=x_range, color='navajowhite')\n",
    "_ = ax_win.set_xlabel('Microsoft')\n",
    "_ = ax_win.plot(x_axis, y_win, color='orange', linewidth=3)\n",
    "ax_intl = fig.add_subplot(133)\n",
    "_ = ax_intl.hist(df_incs['Intel'], bins=x_range, color='lightgreen')\n",
    "_ = ax_intl.set_xlabel('Intel')\n",
    "_ = ax_intl.plot(x_axis, y_win, color='green', linewidth=3)"
   ]
  },
  {
   "cell_type": "markdown",
   "metadata": {},
   "source": [
    "## Exercise:\n",
    "\n",
    "Imagine you are a product designer in a finantial company. You want to create a new investment product to be \"sold\" to your clients based on the future stock prices of some IT companies. The profit the client gets from his investement is calculated like this:\n",
    "* At  the time of the investment we check the initial stock prices\n",
    "* 12 months later (let's say 240 work days), the client gets 100% of the investement back. Additionally if all stock prices are higher than the initial ones, the client earns half the lowest increment (in %). \n",
    "\n",
    "**What is the expected profit of this investment?**\n",
    "\n",
    "**What is the 5% highest risk that the finantial company is assuming?**"
   ]
  },
  {
   "cell_type": "markdown",
   "metadata": {},
   "source": [
    "First we will try to create a finantial product based on the stock prices of Apple and Microsoft"
   ]
  },
  {
   "cell_type": "markdown",
   "metadata": {},
   "source": [
    "### Create a multinormal distribution"
   ]
  },
  {
   "cell_type": "code",
   "execution_count": null,
   "metadata": {
    "collapsed": true
   },
   "outputs": [],
   "source": [
    "# Create a multivariate normal distribution object\n",
    "m_norm = stats.multivariate_normal(m[['Apple', 'Microsoft']], df_incs[['Apple', 'Microsoft']].cov())"
   ]
  },
  {
   "cell_type": "code",
   "execution_count": null,
   "metadata": {},
   "outputs": [],
   "source": [
    "# Show the contour plot of the pdf\n",
    "x_range = np.arange(-0.05, +0.0501, 0.001)\n",
    "x, y = np.meshgrid(x_range, x_range)\n",
    "\n",
    "pos = np.dstack((x, y))\n",
    "fig_m_norm = plt.figure(figsize=(6., 6.))\n",
    "ax_m_norm = fig_m_norm.add_subplot(111)\n",
    "ax_m_norm.contourf(x, y, m_norm.pdf(pos), 50)\n",
    "_ = ax_m_norm.set_xlabel('Apple')\n",
    "_ = ax_m_norm.set_ylabel('Microsoft')"
   ]
  },
  {
   "cell_type": "markdown",
   "metadata": {},
   "source": [
    "### Compute the expected profit and top 5% risk"
   ]
  },
  {
   "cell_type": "code",
   "execution_count": null,
   "metadata": {
    "collapsed": true
   },
   "outputs": [],
   "source": [
    "# Create N (e.g 1000) random simulations of the daily relative increments with 240 samples\n",
    "N_SIMS = 1000\n",
    "daily_incs = m_norm.rvs(size=[240, N_SIMS])"
   ]
  },
  {
   "cell_type": "code",
   "execution_count": null,
   "metadata": {
    "collapsed": true
   },
   "outputs": [],
   "source": [
    "# Calculate yearly increments (from the composition of the daily increments)\n",
    "year_incs = (daily_incs + 1.).prod(axis=0)"
   ]
  },
  {
   "cell_type": "code",
   "execution_count": null,
   "metadata": {
    "collapsed": true
   },
   "outputs": [],
   "source": [
    "# calculate the amount payed for each simulation\n",
    "def amount_to_pay(a):\n",
    "    if np.all( a >= 1.):\n",
    "        return (a.min() - 1)/2\n",
    "    else:\n",
    "        return 0.\n",
    "earnings = np.apply_along_axis(amount_to_pay, 1, year_incs)"
   ]
  },
  {
   "cell_type": "code",
   "execution_count": null,
   "metadata": {},
   "outputs": [],
   "source": [
    "_ = plt.hist(earnings, bins=50)"
   ]
  },
  {
   "cell_type": "code",
   "execution_count": null,
   "metadata": {},
   "outputs": [],
   "source": [
    "print('Expected profit of the investment: {:.2%}'.format(earnings.mean()))"
   ]
  },
  {
   "cell_type": "code",
   "execution_count": null,
   "metadata": {},
   "outputs": [],
   "source": [
    "# To compute the 5% higher profit use the stats.scoreatpercentile function\n",
    "print('%5 higher profit of the investment: {:.2%}'.format(stats.scoreatpercentile(earnings, 95)))\n",
    "print('%1 higher profit of the investment: {:.2%}'.format(stats.scoreatpercentile(earnings, 99)))"
   ]
  },
  {
   "cell_type": "markdown",
   "metadata": {
    "collapsed": true
   },
   "source": [
    "Both the expected profit and the risk assessed are too high!!\n",
    "\n",
    "**Try adding Intel to the product in order to lower them down**"
   ]
  },
  {
   "cell_type": "code",
   "execution_count": null,
   "metadata": {},
   "outputs": [],
   "source": [
    "# %load -r 2:10 solutions/07_02_scipy_stats.py"
   ]
  },
  {
   "cell_type": "code",
   "execution_count": null,
   "metadata": {
    "collapsed": true
   },
   "outputs": [],
   "source": []
  }
 ],
 "metadata": {
  "kernelspec": {
   "display_name": "Python 2",
   "language": "python",
   "name": "python2"
  },
  "language_info": {
   "codemirror_mode": {
    "name": "ipython",
    "version": 3
   },
   "file_extension": ".py",
   "mimetype": "text/x-python",
   "name": "python",
   "nbconvert_exporter": "python",
   "pygments_lexer": "ipython3",
   "version": "3.6.1"
  }
 },
 "nbformat": 4,
 "nbformat_minor": 2
}
