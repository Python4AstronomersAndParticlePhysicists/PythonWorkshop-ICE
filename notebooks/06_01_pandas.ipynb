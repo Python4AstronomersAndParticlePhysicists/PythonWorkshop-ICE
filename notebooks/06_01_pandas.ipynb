{
 "cells": [
  {
   "cell_type": "markdown",
   "metadata": {},
   "source": [
    "# This is the notebook for the python pandas dataframe course\n",
    "### The idea of this notebook is to show the power of working with pandas dataframes"
   ]
  },
  {
   "cell_type": "markdown",
   "metadata": {},
   "source": [
    "## Motivation\n",
    "\n",
    "We usually work with tabular data\n",
    "\n",
    "We should not handle them with bash commands like: for, split, grep, awk, etc...\n",
    "\n",
    "And **pandas is a very nice tool** to handle this kind of data.\n",
    "\n",
    "**Welcome to Pandas!**"
   ]
  },
  {
   "cell_type": "markdown",
   "metadata": {},
   "source": [
    "## Definition of pandas:\n",
    "\n",
    "Python package providing fast, flexible, and expressive data structures designed to make working with “relational” or “labeled” data both easy and intuitive. \n",
    "\n",
    "It aims to be the fundamental high-level building block for doing practical, real world data analysis in Python. \n",
    "\n",
    "Additionally, it has the broader goal of becoming the most powerful and flexible open source data analysis / manipulation tool available in any language.\n",
    "\n",
    "More information about pandas: <http://pandas.pydata.org/pandas-docs/stable/>"
   ]
  },
  {
   "cell_type": "markdown",
   "metadata": {},
   "source": [
    "## Contents of the course:\n",
    "\n",
    "- Know your data\n",
    "  - Dimensionality: Series or DataFrame\n",
    "  - Index\n",
    "  - Some examples\n",
    "  - Exercise: Selecting pandas structure\n",
    "         \n",
    "- I/O:\n",
    "   - Reading: CSV, FITS, SQL\n",
    "   - Writing: CSV\n",
    "   - Advanced example: Reading and writing CSV files by chunks\n",
    "   \n",
    "- Selecting and slicing:\n",
    "    - *loc.* & *iloc.*\n",
    "    - Advanced example: Estimate a galaxy property for a subset of galaxies using boolean conditions\n",
    "    - Exercise: Estimate another galaxy property\n",
    "\n",
    "- Merge, join, and concatenate\n",
    "    - Exercise: Generate a random catalog using the *concat* method\n",
    "    - Exercise: Merging dataframes using the *merge* method\n",
    "\n",
    "- More functions:\n",
    "    - Loop a dataframe (itertuples and iterows)\n",
    "    - Sample\n",
    "    - Reshape: pivot, stack, unstack, etc.\n",
    "\n",
    "- Summary\n",
    "\n",
    "- Caveats and technicalities:\n",
    "    - Floating point limitations\n",
    "    - .values\n",
    "    - FITS chunks\n",
    "    - Copy or view -- Modification - Update\n",
    "    - CosmoHub files\n",
    "    - etc    "
   ]
  },
  {
   "cell_type": "markdown",
   "metadata": {},
   "source": [
    "### Some useful information\n",
    "\n",
    "- Ten minutes to pandas:\n",
    "\n",
    "<https://pandas.pydata.org/pandas-docs/stable/10min.html>\n",
    "\n",
    "- Pandas cookbook:\n",
    "\n",
    "<https://pandas.pydata.org/pandas-docs/stable/cookbook.html>\n",
    "\n",
    "- Nice pandas course:\n",
    "\n",
    "<https://www.datacamp.com/community/tutorials/pandas-tutorial-dataframe-python#gs.=B6Dr74>\n",
    "\n",
    "- Multidimensional dataframes, xarray: \n",
    "\n",
    "<http://xarray.pydata.org/en/stable/>\n",
    "\n",
    "- Tips & Tricks\n",
    "\n",
    "<https://www.dataquest.io/blog/jupyter-notebook-tips-tricks-shortcuts/>"
   ]
  },
  {
   "cell_type": "markdown",
   "metadata": {},
   "source": [
    "## Know your data\n",
    "\n",
    "Very important to (perfectly) know your data: structure, data type, index, relation, etc. (see Pau's talk for a much better explanation ;)"
   ]
  },
  {
   "cell_type": "markdown",
   "metadata": {},
   "source": [
    "### Dimensionality:\n",
    "    - 1-D: Series; e.g.\n",
    "        - Solar planets: [Mercury, Venus, Earth, Mars, Jupiter, Saturn, Uranus, Neptune]\n",
    "        - Set of astronomical objects and when they were observed:\n",
    "            [[NGC1952, 2012-05-01],\n",
    "             [NGC224, 2013-01-23],\n",
    "             [NGC5194, 2014-02-13]]\n",
    "    - 2-D: DataFrame; e.g (more business oriented):\n",
    "        - 3 months of sales information for 3 fictitious companies:\n",
    "            sales = [{'account': 'Jones LLC', 'Jan': 150, 'Feb': 200, 'Mar': 140},\n",
    "                     {'account': 'Alpha Co',  'Jan': 200, 'Feb': 210, 'Mar': 215},\n",
    "                     {'account': 'Blue Inc',  'Jan': 50,  'Feb': 90,  'Mar': 95 }]"
   ]
  },
  {
   "cell_type": "markdown",
   "metadata": {},
   "source": [
    "### Index\n",
    "- It is the value (~key) we use as a reference for each element. (Note: It does not have to be unique)\n",
    "\n",
    "- Most of the data contain at least one index"
   ]
  },
  {
   "cell_type": "code",
   "execution_count": 1,
   "metadata": {
    "collapsed": true
   },
   "outputs": [],
   "source": [
    "# Import libraries\n",
    "import pandas as pd\n",
    "import numpy as np"
   ]
  },
  {
   "cell_type": "markdown",
   "metadata": {},
   "source": [
    "### Series definition\n",
    "Series is a one-dimensional labeled array capable of holding any data type\n",
    "\n",
    "The axis labels are collectively referred to as the index\n",
    "\n",
    "This is the basic idea of how to create a Series dataframe:\n",
    "\n",
    "**s = pd.Series(data, index=index)**\n",
    "\n",
    "where data can be:\n",
    "- list\n",
    "- ndarray\n",
    "- python dictionary\n",
    "- scalar\n",
    "and index is a list of axis labels"
   ]
  },
  {
   "cell_type": "markdown",
   "metadata": {},
   "source": [
    "#### Create a Series array from a list\n",
    "If no index is passed, one will be created having values [0, ..., len(data) - 1]"
   ]
  },
  {
   "cell_type": "code",
   "execution_count": 2,
   "metadata": {
    "collapsed": true
   },
   "outputs": [],
   "source": [
    "solar_planets = ['Mercury','Venus','Earth','Mars','Jupiter','Saturn','Uranus','Neptune']"
   ]
  },
  {
   "cell_type": "code",
   "execution_count": 3,
   "metadata": {
    "collapsed": true
   },
   "outputs": [],
   "source": [
    "splanets = pd.Series(solar_planets)"
   ]
  },
  {
   "cell_type": "code",
   "execution_count": 4,
   "metadata": {
    "collapsed": true
   },
   "outputs": [],
   "source": [
    "# Tips and tricks\n",
    "# To access the Docstring for quick reference on syntax use ? before:\n",
    "?pd.Series()"
   ]
  },
  {
   "cell_type": "code",
   "execution_count": 5,
   "metadata": {
    "collapsed": false
   },
   "outputs": [
    {
     "data": {
      "text/plain": [
       "0    Mercury\n",
       "1      Venus\n",
       "2      Earth\n",
       "3       Mars\n",
       "4    Jupiter\n",
       "5     Saturn\n",
       "6     Uranus\n",
       "7    Neptune\n",
       "dtype: object"
      ]
     },
     "execution_count": 5,
     "metadata": {},
     "output_type": "execute_result"
    }
   ],
   "source": [
    "splanets"
   ]
  },
  {
   "cell_type": "code",
   "execution_count": 6,
   "metadata": {
    "collapsed": false
   },
   "outputs": [
    {
     "data": {
      "text/plain": [
       "RangeIndex(start=0, stop=8, step=1)"
      ]
     },
     "execution_count": 6,
     "metadata": {},
     "output_type": "execute_result"
    }
   ],
   "source": [
    "splanets.index"
   ]
  },
  {
   "cell_type": "markdown",
   "metadata": {},
   "source": [
    "#### Create a Series array from a numpy array\n",
    "If data is an ndarray, index must be the same length as data. \n",
    "If no index is passed, one will be created having values [0, ..., len(data) - 1]"
   ]
  },
  {
   "cell_type": "markdown",
   "metadata": {},
   "source": [
    "- Not including index:"
   ]
  },
  {
   "cell_type": "code",
   "execution_count": 7,
   "metadata": {
    "collapsed": false
   },
   "outputs": [],
   "source": [
    "s1 = pd.Series(np.random.randn(5))"
   ]
  },
  {
   "cell_type": "code",
   "execution_count": 8,
   "metadata": {
    "collapsed": false
   },
   "outputs": [
    {
     "data": {
      "text/plain": [
       "0    1.086106\n",
       "1   -0.730995\n",
       "2   -1.617960\n",
       "3    0.554416\n",
       "4    0.125170\n",
       "dtype: float64"
      ]
     },
     "execution_count": 8,
     "metadata": {},
     "output_type": "execute_result"
    }
   ],
   "source": [
    "s1"
   ]
  },
  {
   "cell_type": "code",
   "execution_count": 9,
   "metadata": {
    "collapsed": false
   },
   "outputs": [
    {
     "data": {
      "text/plain": [
       "RangeIndex(start=0, stop=5, step=1)"
      ]
     },
     "execution_count": 9,
     "metadata": {},
     "output_type": "execute_result"
    }
   ],
   "source": [
    "s1.index"
   ]
  },
  {
   "cell_type": "markdown",
   "metadata": {},
   "source": [
    "- Including index"
   ]
  },
  {
   "cell_type": "code",
   "execution_count": 10,
   "metadata": {
    "collapsed": true
   },
   "outputs": [],
   "source": [
    "s2 = pd.Series(np.random.randn(5), index=['a', 'b', 'c', 'd', 'e'])"
   ]
  },
  {
   "cell_type": "code",
   "execution_count": 11,
   "metadata": {
    "collapsed": false
   },
   "outputs": [
    {
     "data": {
      "text/plain": [
       "a    0.448924\n",
       "b    0.033132\n",
       "c    0.321501\n",
       "d   -1.064799\n",
       "e    0.207761\n",
       "dtype: float64"
      ]
     },
     "execution_count": 11,
     "metadata": {},
     "output_type": "execute_result"
    }
   ],
   "source": [
    "s2"
   ]
  },
  {
   "cell_type": "code",
   "execution_count": 12,
   "metadata": {
    "collapsed": false
   },
   "outputs": [
    {
     "data": {
      "text/plain": [
       "Index([u'a', u'b', u'c', u'd', u'e'], dtype='object')"
      ]
     },
     "execution_count": 12,
     "metadata": {},
     "output_type": "execute_result"
    }
   ],
   "source": [
    "s2.index"
   ]
  },
  {
   "cell_type": "markdown",
   "metadata": {},
   "source": [
    "- From scalar value\n",
    "\n",
    "If data is a scalar value, an index must be provided\n",
    "\n",
    "The value will be repeated to match the length of index"
   ]
  },
  {
   "cell_type": "code",
   "execution_count": 13,
   "metadata": {
    "collapsed": false
   },
   "outputs": [],
   "source": [
    "s3 = pd.Series(5., index=['a', 'b', 'c', 'd', 'e'])"
   ]
  },
  {
   "cell_type": "code",
   "execution_count": 14,
   "metadata": {
    "collapsed": false
   },
   "outputs": [
    {
     "data": {
      "text/plain": [
       "a    5.0\n",
       "b    5.0\n",
       "c    5.0\n",
       "d    5.0\n",
       "e    5.0\n",
       "dtype: float64"
      ]
     },
     "execution_count": 14,
     "metadata": {},
     "output_type": "execute_result"
    }
   ],
   "source": [
    "s3"
   ]
  },
  {
   "cell_type": "code",
   "execution_count": 15,
   "metadata": {
    "collapsed": false
   },
   "outputs": [
    {
     "data": {
      "text/plain": [
       "Index([u'a', u'b', u'c', u'd', u'e'], dtype='object')"
      ]
     },
     "execution_count": 15,
     "metadata": {},
     "output_type": "execute_result"
    }
   ],
   "source": [
    "s3.index"
   ]
  },
  {
   "cell_type": "markdown",
   "metadata": {},
   "source": [
    "#### Create a Series array from a python dictionary"
   ]
  },
  {
   "cell_type": "code",
   "execution_count": 16,
   "metadata": {
    "collapsed": true
   },
   "outputs": [],
   "source": [
    "d = {'a' : 0., 'b' : 1., 'c' : 2.}"
   ]
  },
  {
   "cell_type": "code",
   "execution_count": 17,
   "metadata": {
    "collapsed": true
   },
   "outputs": [],
   "source": [
    "sd = pd.Series(d)"
   ]
  },
  {
   "cell_type": "code",
   "execution_count": 18,
   "metadata": {
    "collapsed": false
   },
   "outputs": [
    {
     "data": {
      "text/plain": [
       "a    0.0\n",
       "b    1.0\n",
       "c    2.0\n",
       "dtype: float64"
      ]
     },
     "execution_count": 18,
     "metadata": {},
     "output_type": "execute_result"
    }
   ],
   "source": [
    "sd"
   ]
  },
  {
   "cell_type": "markdown",
   "metadata": {},
   "source": [
    "### DataFrame definition\n",
    "\n",
    "DataFrame is a 2-dimensional labeled data structure with columns of potentially different types (see also Panel - 3-dimensional array).\n",
    "\n",
    "You can think of it **like a spreadsheet or SQL table, or a dict of Series objects**. \n",
    "\n",
    "It is generally the most commonly used pandas object. \n",
    "\n",
    "Like Series, DataFrame accepts many different kinds of input:\n",
    "\n",
    "- Dict of 1D ndarrays, lists, dicts, or Series\n",
    "- 2-D numpy.ndarray\n",
    "- Structured or record ndarray\n",
    "- A Series\n",
    "- Another DataFrame"
   ]
  },
  {
   "cell_type": "markdown",
   "metadata": {},
   "source": [
    "#### From a list of dictionaries"
   ]
  },
  {
   "cell_type": "code",
   "execution_count": 19,
   "metadata": {
    "collapsed": true
   },
   "outputs": [],
   "source": [
    "sales = [{'account': 'Jones LLC', 'Jan': 150, 'Feb': 200, 'Mar': 140},\n",
    "                 {'account': 'Alpha Co',  'Jan': 200, 'Feb': 210, 'Mar': 215},\n",
    "                 {'account': 'Blue Inc',  'Jan': 50,  'Feb': 90,  'Mar': 95 }]"
   ]
  },
  {
   "cell_type": "code",
   "execution_count": 20,
   "metadata": {
    "collapsed": true
   },
   "outputs": [],
   "source": [
    "df = pd.DataFrame(sales)"
   ]
  },
  {
   "cell_type": "code",
   "execution_count": 21,
   "metadata": {
    "collapsed": false
   },
   "outputs": [
    {
     "data": {
      "text/html": [
       "<div>\n",
       "<table border=\"1\" class=\"dataframe\">\n",
       "  <thead>\n",
       "    <tr style=\"text-align: right;\">\n",
       "      <th></th>\n",
       "      <th>Feb</th>\n",
       "      <th>Jan</th>\n",
       "      <th>Mar</th>\n",
       "      <th>account</th>\n",
       "    </tr>\n",
       "  </thead>\n",
       "  <tbody>\n",
       "    <tr>\n",
       "      <th>0</th>\n",
       "      <td>200</td>\n",
       "      <td>150</td>\n",
       "      <td>140</td>\n",
       "      <td>Jones LLC</td>\n",
       "    </tr>\n",
       "    <tr>\n",
       "      <th>1</th>\n",
       "      <td>210</td>\n",
       "      <td>200</td>\n",
       "      <td>215</td>\n",
       "      <td>Alpha Co</td>\n",
       "    </tr>\n",
       "    <tr>\n",
       "      <th>2</th>\n",
       "      <td>90</td>\n",
       "      <td>50</td>\n",
       "      <td>95</td>\n",
       "      <td>Blue Inc</td>\n",
       "    </tr>\n",
       "  </tbody>\n",
       "</table>\n",
       "</div>"
      ],
      "text/plain": [
       "   Feb  Jan  Mar    account\n",
       "0  200  150  140  Jones LLC\n",
       "1  210  200  215   Alpha Co\n",
       "2   90   50   95   Blue Inc"
      ]
     },
     "execution_count": 21,
     "metadata": {},
     "output_type": "execute_result"
    }
   ],
   "source": [
    "df"
   ]
  },
  {
   "cell_type": "code",
   "execution_count": 22,
   "metadata": {
    "collapsed": false
   },
   "outputs": [
    {
     "name": "stdout",
     "output_type": "stream",
     "text": [
      "<class 'pandas.core.frame.DataFrame'>\n",
      "RangeIndex: 3 entries, 0 to 2\n",
      "Data columns (total 4 columns):\n",
      "Feb        3 non-null int64\n",
      "Jan        3 non-null int64\n",
      "Mar        3 non-null int64\n",
      "account    3 non-null object\n",
      "dtypes: int64(3), object(1)\n",
      "memory usage: 168.0+ bytes\n"
     ]
    }
   ],
   "source": [
    "df.info()"
   ]
  },
  {
   "cell_type": "code",
   "execution_count": 23,
   "metadata": {
    "collapsed": false
   },
   "outputs": [
    {
     "data": {
      "text/plain": [
       "RangeIndex(start=0, stop=3, step=1)"
      ]
     },
     "execution_count": 23,
     "metadata": {},
     "output_type": "execute_result"
    }
   ],
   "source": [
    "df.index"
   ]
  },
  {
   "cell_type": "code",
   "execution_count": 24,
   "metadata": {
    "collapsed": false
   },
   "outputs": [],
   "source": [
    "df = df.set_index('account')"
   ]
  },
  {
   "cell_type": "code",
   "execution_count": 25,
   "metadata": {
    "collapsed": false
   },
   "outputs": [
    {
     "data": {
      "text/html": [
       "<div>\n",
       "<table border=\"1\" class=\"dataframe\">\n",
       "  <thead>\n",
       "    <tr style=\"text-align: right;\">\n",
       "      <th></th>\n",
       "      <th>Feb</th>\n",
       "      <th>Jan</th>\n",
       "      <th>Mar</th>\n",
       "    </tr>\n",
       "    <tr>\n",
       "      <th>account</th>\n",
       "      <th></th>\n",
       "      <th></th>\n",
       "      <th></th>\n",
       "    </tr>\n",
       "  </thead>\n",
       "  <tbody>\n",
       "    <tr>\n",
       "      <th>Jones LLC</th>\n",
       "      <td>200</td>\n",
       "      <td>150</td>\n",
       "      <td>140</td>\n",
       "    </tr>\n",
       "    <tr>\n",
       "      <th>Alpha Co</th>\n",
       "      <td>210</td>\n",
       "      <td>200</td>\n",
       "      <td>215</td>\n",
       "    </tr>\n",
       "    <tr>\n",
       "      <th>Blue Inc</th>\n",
       "      <td>90</td>\n",
       "      <td>50</td>\n",
       "      <td>95</td>\n",
       "    </tr>\n",
       "  </tbody>\n",
       "</table>\n",
       "</div>"
      ],
      "text/plain": [
       "           Feb  Jan  Mar\n",
       "account                 \n",
       "Jones LLC  200  150  140\n",
       "Alpha Co   210  200  215\n",
       "Blue Inc    90   50   95"
      ]
     },
     "execution_count": 25,
     "metadata": {},
     "output_type": "execute_result"
    }
   ],
   "source": [
    "df"
   ]
  },
  {
   "cell_type": "markdown",
   "metadata": {},
   "source": [
    "#### From dict of Series or dicts"
   ]
  },
  {
   "cell_type": "code",
   "execution_count": 26,
   "metadata": {
    "collapsed": false
   },
   "outputs": [],
   "source": [
    "d = {'one' : pd.Series([1., 2., 3.], index=['a', 'b', 'c']),\n",
    "     'two' : pd.Series([1., 2., 3., 4.], index=['a', 'b', 'c', 'd'])}"
   ]
  },
  {
   "cell_type": "code",
   "execution_count": 27,
   "metadata": {
    "collapsed": true
   },
   "outputs": [],
   "source": [
    "df = pd.DataFrame(d)"
   ]
  },
  {
   "cell_type": "code",
   "execution_count": 28,
   "metadata": {
    "collapsed": false
   },
   "outputs": [
    {
     "data": {
      "text/html": [
       "<div>\n",
       "<table border=\"1\" class=\"dataframe\">\n",
       "  <thead>\n",
       "    <tr style=\"text-align: right;\">\n",
       "      <th></th>\n",
       "      <th>one</th>\n",
       "      <th>two</th>\n",
       "    </tr>\n",
       "  </thead>\n",
       "  <tbody>\n",
       "    <tr>\n",
       "      <th>a</th>\n",
       "      <td>1.0</td>\n",
       "      <td>1.0</td>\n",
       "    </tr>\n",
       "    <tr>\n",
       "      <th>b</th>\n",
       "      <td>2.0</td>\n",
       "      <td>2.0</td>\n",
       "    </tr>\n",
       "    <tr>\n",
       "      <th>c</th>\n",
       "      <td>3.0</td>\n",
       "      <td>3.0</td>\n",
       "    </tr>\n",
       "    <tr>\n",
       "      <th>d</th>\n",
       "      <td>NaN</td>\n",
       "      <td>4.0</td>\n",
       "    </tr>\n",
       "  </tbody>\n",
       "</table>\n",
       "</div>"
      ],
      "text/plain": [
       "   one  two\n",
       "a  1.0  1.0\n",
       "b  2.0  2.0\n",
       "c  3.0  3.0\n",
       "d  NaN  4.0"
      ]
     },
     "execution_count": 28,
     "metadata": {},
     "output_type": "execute_result"
    }
   ],
   "source": [
    "df"
   ]
  },
  {
   "cell_type": "code",
   "execution_count": 29,
   "metadata": {
    "collapsed": false
   },
   "outputs": [
    {
     "name": "stdout",
     "output_type": "stream",
     "text": [
      "<class 'pandas.core.frame.DataFrame'>\n",
      "Index: 4 entries, a to d\n",
      "Data columns (total 2 columns):\n",
      "one    3 non-null float64\n",
      "two    4 non-null float64\n",
      "dtypes: float64(2)\n",
      "memory usage: 96.0+ bytes\n"
     ]
    }
   ],
   "source": [
    "df.info()"
   ]
  },
  {
   "cell_type": "code",
   "execution_count": 30,
   "metadata": {
    "collapsed": false
   },
   "outputs": [
    {
     "data": {
      "text/html": [
       "<div>\n",
       "<table border=\"1\" class=\"dataframe\">\n",
       "  <thead>\n",
       "    <tr style=\"text-align: right;\">\n",
       "      <th></th>\n",
       "      <th>one</th>\n",
       "      <th>two</th>\n",
       "    </tr>\n",
       "  </thead>\n",
       "  <tbody>\n",
       "    <tr>\n",
       "      <th>d</th>\n",
       "      <td>NaN</td>\n",
       "      <td>4.0</td>\n",
       "    </tr>\n",
       "    <tr>\n",
       "      <th>b</th>\n",
       "      <td>2.0</td>\n",
       "      <td>2.0</td>\n",
       "    </tr>\n",
       "    <tr>\n",
       "      <th>a</th>\n",
       "      <td>1.0</td>\n",
       "      <td>1.0</td>\n",
       "    </tr>\n",
       "  </tbody>\n",
       "</table>\n",
       "</div>"
      ],
      "text/plain": [
       "   one  two\n",
       "d  NaN  4.0\n",
       "b  2.0  2.0\n",
       "a  1.0  1.0"
      ]
     },
     "execution_count": 30,
     "metadata": {},
     "output_type": "execute_result"
    }
   ],
   "source": [
    "pd.DataFrame(d, index=['d', 'b', 'a'])"
   ]
  },
  {
   "cell_type": "code",
   "execution_count": 31,
   "metadata": {
    "collapsed": false
   },
   "outputs": [
    {
     "data": {
      "text/plain": [
       "Index([u'a', u'b', u'c', u'd'], dtype='object')"
      ]
     },
     "execution_count": 31,
     "metadata": {},
     "output_type": "execute_result"
    }
   ],
   "source": [
    "df.index"
   ]
  },
  {
   "cell_type": "code",
   "execution_count": 32,
   "metadata": {
    "collapsed": false
   },
   "outputs": [
    {
     "data": {
      "text/plain": [
       "Index([u'one', u'two'], dtype='object')"
      ]
     },
     "execution_count": 32,
     "metadata": {},
     "output_type": "execute_result"
    }
   ],
   "source": [
    "df.columns"
   ]
  },
  {
   "cell_type": "markdown",
   "metadata": {},
   "source": [
    "#### From dict of ndarrays / lists\n",
    "The ndarrays must all be the same length. \n",
    "\n",
    "If an index is passed, it must clearly also be the same length as the arrays. \n",
    "\n",
    "If no index is passed, the result will be range(n), where n is the array length."
   ]
  },
  {
   "cell_type": "code",
   "execution_count": 33,
   "metadata": {
    "collapsed": true
   },
   "outputs": [],
   "source": [
    "d = {'one' : [1., 2., 3., 4.], 'two' : [4., 3., 2., 1.]}"
   ]
  },
  {
   "cell_type": "code",
   "execution_count": 34,
   "metadata": {
    "collapsed": false
   },
   "outputs": [
    {
     "data": {
      "text/html": [
       "<div>\n",
       "<table border=\"1\" class=\"dataframe\">\n",
       "  <thead>\n",
       "    <tr style=\"text-align: right;\">\n",
       "      <th></th>\n",
       "      <th>one</th>\n",
       "      <th>two</th>\n",
       "    </tr>\n",
       "  </thead>\n",
       "  <tbody>\n",
       "    <tr>\n",
       "      <th>0</th>\n",
       "      <td>1.0</td>\n",
       "      <td>4.0</td>\n",
       "    </tr>\n",
       "    <tr>\n",
       "      <th>1</th>\n",
       "      <td>2.0</td>\n",
       "      <td>3.0</td>\n",
       "    </tr>\n",
       "    <tr>\n",
       "      <th>2</th>\n",
       "      <td>3.0</td>\n",
       "      <td>2.0</td>\n",
       "    </tr>\n",
       "    <tr>\n",
       "      <th>3</th>\n",
       "      <td>4.0</td>\n",
       "      <td>1.0</td>\n",
       "    </tr>\n",
       "  </tbody>\n",
       "</table>\n",
       "</div>"
      ],
      "text/plain": [
       "   one  two\n",
       "0  1.0  4.0\n",
       "1  2.0  3.0\n",
       "2  3.0  2.0\n",
       "3  4.0  1.0"
      ]
     },
     "execution_count": 34,
     "metadata": {},
     "output_type": "execute_result"
    }
   ],
   "source": [
    "pd.DataFrame(d)"
   ]
  },
  {
   "cell_type": "code",
   "execution_count": 35,
   "metadata": {
    "collapsed": false
   },
   "outputs": [
    {
     "data": {
      "text/html": [
       "<div>\n",
       "<table border=\"1\" class=\"dataframe\">\n",
       "  <thead>\n",
       "    <tr style=\"text-align: right;\">\n",
       "      <th></th>\n",
       "      <th>one</th>\n",
       "      <th>two</th>\n",
       "    </tr>\n",
       "  </thead>\n",
       "  <tbody>\n",
       "    <tr>\n",
       "      <th>a</th>\n",
       "      <td>1.0</td>\n",
       "      <td>4.0</td>\n",
       "    </tr>\n",
       "    <tr>\n",
       "      <th>b</th>\n",
       "      <td>2.0</td>\n",
       "      <td>3.0</td>\n",
       "    </tr>\n",
       "    <tr>\n",
       "      <th>c</th>\n",
       "      <td>3.0</td>\n",
       "      <td>2.0</td>\n",
       "    </tr>\n",
       "    <tr>\n",
       "      <th>d</th>\n",
       "      <td>4.0</td>\n",
       "      <td>1.0</td>\n",
       "    </tr>\n",
       "  </tbody>\n",
       "</table>\n",
       "</div>"
      ],
      "text/plain": [
       "   one  two\n",
       "a  1.0  4.0\n",
       "b  2.0  3.0\n",
       "c  3.0  2.0\n",
       "d  4.0  1.0"
      ]
     },
     "execution_count": 35,
     "metadata": {},
     "output_type": "execute_result"
    }
   ],
   "source": [
    "pd.DataFrame(d, index=['a', 'b', 'c', 'd'])"
   ]
  },
  {
   "cell_type": "markdown",
   "metadata": {},
   "source": [
    "#### From structured or record array\n",
    "The ndarrays must all be the same length. If an index is passed, it must clearly also be the same length as the arrays. \n",
    "\n",
    "If no index is passed, the result will be range(n), where n is the array length."
   ]
  },
  {
   "cell_type": "code",
   "execution_count": 36,
   "metadata": {
    "collapsed": false
   },
   "outputs": [],
   "source": [
    "data = np.random.random_sample((5, 5))"
   ]
  },
  {
   "cell_type": "code",
   "execution_count": 37,
   "metadata": {
    "collapsed": false
   },
   "outputs": [
    {
     "data": {
      "text/plain": [
       "array([[ 0.78838047,  0.76556285,  0.17941127,  0.50181887,  0.17299356],\n",
       "       [ 0.5223585 ,  0.2213054 ,  0.88997229,  0.07578457,  0.4195762 ],\n",
       "       [ 0.03710839,  0.12739582,  0.52025464,  0.61362577,  0.36711487],\n",
       "       [ 0.09108031,  0.04125313,  0.89085971,  0.34186093,  0.95406072],\n",
       "       [ 0.75769268,  0.15504632,  0.52393376,  0.27274215,  0.80742867]])"
      ]
     },
     "execution_count": 37,
     "metadata": {},
     "output_type": "execute_result"
    }
   ],
   "source": [
    "data"
   ]
  },
  {
   "cell_type": "code",
   "execution_count": 38,
   "metadata": {
    "collapsed": true
   },
   "outputs": [],
   "source": [
    "df = pd.DataFrame(data)"
   ]
  },
  {
   "cell_type": "code",
   "execution_count": 39,
   "metadata": {
    "collapsed": false
   },
   "outputs": [
    {
     "data": {
      "text/html": [
       "<div>\n",
       "<table border=\"1\" class=\"dataframe\">\n",
       "  <thead>\n",
       "    <tr style=\"text-align: right;\">\n",
       "      <th></th>\n",
       "      <th>0</th>\n",
       "      <th>1</th>\n",
       "      <th>2</th>\n",
       "      <th>3</th>\n",
       "      <th>4</th>\n",
       "    </tr>\n",
       "  </thead>\n",
       "  <tbody>\n",
       "    <tr>\n",
       "      <th>0</th>\n",
       "      <td>0.788380</td>\n",
       "      <td>0.765563</td>\n",
       "      <td>0.179411</td>\n",
       "      <td>0.501819</td>\n",
       "      <td>0.172994</td>\n",
       "    </tr>\n",
       "    <tr>\n",
       "      <th>1</th>\n",
       "      <td>0.522358</td>\n",
       "      <td>0.221305</td>\n",
       "      <td>0.889972</td>\n",
       "      <td>0.075785</td>\n",
       "      <td>0.419576</td>\n",
       "    </tr>\n",
       "    <tr>\n",
       "      <th>2</th>\n",
       "      <td>0.037108</td>\n",
       "      <td>0.127396</td>\n",
       "      <td>0.520255</td>\n",
       "      <td>0.613626</td>\n",
       "      <td>0.367115</td>\n",
       "    </tr>\n",
       "    <tr>\n",
       "      <th>3</th>\n",
       "      <td>0.091080</td>\n",
       "      <td>0.041253</td>\n",
       "      <td>0.890860</td>\n",
       "      <td>0.341861</td>\n",
       "      <td>0.954061</td>\n",
       "    </tr>\n",
       "    <tr>\n",
       "      <th>4</th>\n",
       "      <td>0.757693</td>\n",
       "      <td>0.155046</td>\n",
       "      <td>0.523934</td>\n",
       "      <td>0.272742</td>\n",
       "      <td>0.807429</td>\n",
       "    </tr>\n",
       "  </tbody>\n",
       "</table>\n",
       "</div>"
      ],
      "text/plain": [
       "          0         1         2         3         4\n",
       "0  0.788380  0.765563  0.179411  0.501819  0.172994\n",
       "1  0.522358  0.221305  0.889972  0.075785  0.419576\n",
       "2  0.037108  0.127396  0.520255  0.613626  0.367115\n",
       "3  0.091080  0.041253  0.890860  0.341861  0.954061\n",
       "4  0.757693  0.155046  0.523934  0.272742  0.807429"
      ]
     },
     "execution_count": 39,
     "metadata": {},
     "output_type": "execute_result"
    }
   ],
   "source": [
    "df"
   ]
  },
  {
   "cell_type": "code",
   "execution_count": 40,
   "metadata": {
    "collapsed": true
   },
   "outputs": [],
   "source": [
    "# Add index\n",
    "df = pd.DataFrame(data,index = ['a','b','c','d','e'])"
   ]
  },
  {
   "cell_type": "code",
   "execution_count": 41,
   "metadata": {
    "collapsed": false
   },
   "outputs": [
    {
     "data": {
      "text/html": [
       "<div>\n",
       "<table border=\"1\" class=\"dataframe\">\n",
       "  <thead>\n",
       "    <tr style=\"text-align: right;\">\n",
       "      <th></th>\n",
       "      <th>0</th>\n",
       "      <th>1</th>\n",
       "      <th>2</th>\n",
       "      <th>3</th>\n",
       "      <th>4</th>\n",
       "    </tr>\n",
       "  </thead>\n",
       "  <tbody>\n",
       "    <tr>\n",
       "      <th>a</th>\n",
       "      <td>0.788380</td>\n",
       "      <td>0.765563</td>\n",
       "      <td>0.179411</td>\n",
       "      <td>0.501819</td>\n",
       "      <td>0.172994</td>\n",
       "    </tr>\n",
       "    <tr>\n",
       "      <th>b</th>\n",
       "      <td>0.522358</td>\n",
       "      <td>0.221305</td>\n",
       "      <td>0.889972</td>\n",
       "      <td>0.075785</td>\n",
       "      <td>0.419576</td>\n",
       "    </tr>\n",
       "    <tr>\n",
       "      <th>c</th>\n",
       "      <td>0.037108</td>\n",
       "      <td>0.127396</td>\n",
       "      <td>0.520255</td>\n",
       "      <td>0.613626</td>\n",
       "      <td>0.367115</td>\n",
       "    </tr>\n",
       "    <tr>\n",
       "      <th>d</th>\n",
       "      <td>0.091080</td>\n",
       "      <td>0.041253</td>\n",
       "      <td>0.890860</td>\n",
       "      <td>0.341861</td>\n",
       "      <td>0.954061</td>\n",
       "    </tr>\n",
       "    <tr>\n",
       "      <th>e</th>\n",
       "      <td>0.757693</td>\n",
       "      <td>0.155046</td>\n",
       "      <td>0.523934</td>\n",
       "      <td>0.272742</td>\n",
       "      <td>0.807429</td>\n",
       "    </tr>\n",
       "  </tbody>\n",
       "</table>\n",
       "</div>"
      ],
      "text/plain": [
       "          0         1         2         3         4\n",
       "a  0.788380  0.765563  0.179411  0.501819  0.172994\n",
       "b  0.522358  0.221305  0.889972  0.075785  0.419576\n",
       "c  0.037108  0.127396  0.520255  0.613626  0.367115\n",
       "d  0.091080  0.041253  0.890860  0.341861  0.954061\n",
       "e  0.757693  0.155046  0.523934  0.272742  0.807429"
      ]
     },
     "execution_count": 41,
     "metadata": {},
     "output_type": "execute_result"
    }
   ],
   "source": [
    "df"
   ]
  },
  {
   "cell_type": "code",
   "execution_count": 42,
   "metadata": {
    "collapsed": true
   },
   "outputs": [],
   "source": [
    "# Add column names\n",
    "df = pd.DataFrame(data, index = ['a','b','c','d','e'], columns = ['ra', 'dec','z_phot','z_true','imag'])"
   ]
  },
  {
   "cell_type": "code",
   "execution_count": 43,
   "metadata": {
    "collapsed": false
   },
   "outputs": [
    {
     "data": {
      "text/html": [
       "<div>\n",
       "<table border=\"1\" class=\"dataframe\">\n",
       "  <thead>\n",
       "    <tr style=\"text-align: right;\">\n",
       "      <th></th>\n",
       "      <th>ra</th>\n",
       "      <th>dec</th>\n",
       "      <th>z_phot</th>\n",
       "      <th>z_true</th>\n",
       "      <th>imag</th>\n",
       "    </tr>\n",
       "  </thead>\n",
       "  <tbody>\n",
       "    <tr>\n",
       "      <th>a</th>\n",
       "      <td>0.788380</td>\n",
       "      <td>0.765563</td>\n",
       "      <td>0.179411</td>\n",
       "      <td>0.501819</td>\n",
       "      <td>0.172994</td>\n",
       "    </tr>\n",
       "    <tr>\n",
       "      <th>b</th>\n",
       "      <td>0.522358</td>\n",
       "      <td>0.221305</td>\n",
       "      <td>0.889972</td>\n",
       "      <td>0.075785</td>\n",
       "      <td>0.419576</td>\n",
       "    </tr>\n",
       "    <tr>\n",
       "      <th>c</th>\n",
       "      <td>0.037108</td>\n",
       "      <td>0.127396</td>\n",
       "      <td>0.520255</td>\n",
       "      <td>0.613626</td>\n",
       "      <td>0.367115</td>\n",
       "    </tr>\n",
       "    <tr>\n",
       "      <th>d</th>\n",
       "      <td>0.091080</td>\n",
       "      <td>0.041253</td>\n",
       "      <td>0.890860</td>\n",
       "      <td>0.341861</td>\n",
       "      <td>0.954061</td>\n",
       "    </tr>\n",
       "    <tr>\n",
       "      <th>e</th>\n",
       "      <td>0.757693</td>\n",
       "      <td>0.155046</td>\n",
       "      <td>0.523934</td>\n",
       "      <td>0.272742</td>\n",
       "      <td>0.807429</td>\n",
       "    </tr>\n",
       "  </tbody>\n",
       "</table>\n",
       "</div>"
      ],
      "text/plain": [
       "         ra       dec    z_phot    z_true      imag\n",
       "a  0.788380  0.765563  0.179411  0.501819  0.172994\n",
       "b  0.522358  0.221305  0.889972  0.075785  0.419576\n",
       "c  0.037108  0.127396  0.520255  0.613626  0.367115\n",
       "d  0.091080  0.041253  0.890860  0.341861  0.954061\n",
       "e  0.757693  0.155046  0.523934  0.272742  0.807429"
      ]
     },
     "execution_count": 43,
     "metadata": {},
     "output_type": "execute_result"
    }
   ],
   "source": [
    "df"
   ]
  },
  {
   "cell_type": "markdown",
   "metadata": {
    "collapsed": true
   },
   "source": [
    "#### From a list of dicts"
   ]
  },
  {
   "cell_type": "code",
   "execution_count": 44,
   "metadata": {
    "collapsed": true
   },
   "outputs": [],
   "source": [
    "data2 = [{'a': 1, 'b': 2}, {'a': 5, 'b': 10, 'c': 20}]"
   ]
  },
  {
   "cell_type": "code",
   "execution_count": 45,
   "metadata": {
    "collapsed": false
   },
   "outputs": [
    {
     "data": {
      "text/html": [
       "<div>\n",
       "<table border=\"1\" class=\"dataframe\">\n",
       "  <thead>\n",
       "    <tr style=\"text-align: right;\">\n",
       "      <th></th>\n",
       "      <th>a</th>\n",
       "      <th>b</th>\n",
       "      <th>c</th>\n",
       "    </tr>\n",
       "  </thead>\n",
       "  <tbody>\n",
       "    <tr>\n",
       "      <th>0</th>\n",
       "      <td>1</td>\n",
       "      <td>2</td>\n",
       "      <td>NaN</td>\n",
       "    </tr>\n",
       "    <tr>\n",
       "      <th>1</th>\n",
       "      <td>5</td>\n",
       "      <td>10</td>\n",
       "      <td>20.0</td>\n",
       "    </tr>\n",
       "  </tbody>\n",
       "</table>\n",
       "</div>"
      ],
      "text/plain": [
       "   a   b     c\n",
       "0  1   2   NaN\n",
       "1  5  10  20.0"
      ]
     },
     "execution_count": 45,
     "metadata": {},
     "output_type": "execute_result"
    }
   ],
   "source": [
    "pd.DataFrame(data2)"
   ]
  },
  {
   "cell_type": "code",
   "execution_count": 46,
   "metadata": {
    "collapsed": false
   },
   "outputs": [
    {
     "data": {
      "text/html": [
       "<div>\n",
       "<table border=\"1\" class=\"dataframe\">\n",
       "  <thead>\n",
       "    <tr style=\"text-align: right;\">\n",
       "      <th></th>\n",
       "      <th>a</th>\n",
       "      <th>b</th>\n",
       "      <th>c</th>\n",
       "    </tr>\n",
       "  </thead>\n",
       "  <tbody>\n",
       "    <tr>\n",
       "      <th>first</th>\n",
       "      <td>1</td>\n",
       "      <td>2</td>\n",
       "      <td>NaN</td>\n",
       "    </tr>\n",
       "    <tr>\n",
       "      <th>second</th>\n",
       "      <td>5</td>\n",
       "      <td>10</td>\n",
       "      <td>20.0</td>\n",
       "    </tr>\n",
       "  </tbody>\n",
       "</table>\n",
       "</div>"
      ],
      "text/plain": [
       "        a   b     c\n",
       "first   1   2   NaN\n",
       "second  5  10  20.0"
      ]
     },
     "execution_count": 46,
     "metadata": {},
     "output_type": "execute_result"
    }
   ],
   "source": [
    "pd.DataFrame(data2, index=['first', 'second'])"
   ]
  },
  {
   "cell_type": "code",
   "execution_count": 47,
   "metadata": {
    "collapsed": false
   },
   "outputs": [
    {
     "data": {
      "text/html": [
       "<div>\n",
       "<table border=\"1\" class=\"dataframe\">\n",
       "  <thead>\n",
       "    <tr style=\"text-align: right;\">\n",
       "      <th></th>\n",
       "      <th>a</th>\n",
       "      <th>b</th>\n",
       "    </tr>\n",
       "  </thead>\n",
       "  <tbody>\n",
       "    <tr>\n",
       "      <th>0</th>\n",
       "      <td>1</td>\n",
       "      <td>2</td>\n",
       "    </tr>\n",
       "    <tr>\n",
       "      <th>1</th>\n",
       "      <td>5</td>\n",
       "      <td>10</td>\n",
       "    </tr>\n",
       "  </tbody>\n",
       "</table>\n",
       "</div>"
      ],
      "text/plain": [
       "   a   b\n",
       "0  1   2\n",
       "1  5  10"
      ]
     },
     "execution_count": 47,
     "metadata": {},
     "output_type": "execute_result"
    }
   ],
   "source": [
    "pd.DataFrame(data2, columns=['a', 'b'])"
   ]
  },
  {
   "cell_type": "markdown",
   "metadata": {},
   "source": [
    "### Exercise:\n",
    "Given a few galaxies with some properties ['id', 'ra', 'dec', 'magi'], choose which pandas structure to use and its index:"
   ]
  },
  {
   "cell_type": "code",
   "execution_count": 48,
   "metadata": {
    "collapsed": false
   },
   "outputs": [],
   "source": [
    "#Few galaxies with some properties: id, ra, dec, magi\n",
    "galaxies = [\n",
    "    {'id' : 1, 'ra' : 4.5, 'dec' : -55.6, 'magi' : 21.3},\n",
    "    {'id' : 3, 'ra' : 23.5, 'dec' : 23.6, 'magi' : 23.3},\n",
    "    {'id' : 25, 'ra' : 22.5, 'dec' : -0.3, 'magi' : 20.8},\n",
    "    {'id' : 17, 'ra' : 33.5, 'dec' : 15.6, 'magi' : 24.3}   \n",
    "]"
   ]
  },
  {
   "cell_type": "code",
   "execution_count": 49,
   "metadata": {
    "collapsed": false
   },
   "outputs": [
    {
     "data": {
      "text/html": [
       "<div>\n",
       "<table border=\"1\" class=\"dataframe\">\n",
       "  <thead>\n",
       "    <tr style=\"text-align: right;\">\n",
       "      <th></th>\n",
       "      <th>dec</th>\n",
       "      <th>magi</th>\n",
       "      <th>ra</th>\n",
       "    </tr>\n",
       "    <tr>\n",
       "      <th>id</th>\n",
       "      <th></th>\n",
       "      <th></th>\n",
       "      <th></th>\n",
       "    </tr>\n",
       "  </thead>\n",
       "  <tbody>\n",
       "    <tr>\n",
       "      <th>1</th>\n",
       "      <td>-55.6</td>\n",
       "      <td>21.3</td>\n",
       "      <td>4.5</td>\n",
       "    </tr>\n",
       "    <tr>\n",
       "      <th>3</th>\n",
       "      <td>23.6</td>\n",
       "      <td>23.3</td>\n",
       "      <td>23.5</td>\n",
       "    </tr>\n",
       "    <tr>\n",
       "      <th>25</th>\n",
       "      <td>-0.3</td>\n",
       "      <td>20.8</td>\n",
       "      <td>22.5</td>\n",
       "    </tr>\n",
       "    <tr>\n",
       "      <th>17</th>\n",
       "      <td>15.6</td>\n",
       "      <td>24.3</td>\n",
       "      <td>33.5</td>\n",
       "    </tr>\n",
       "  </tbody>\n",
       "</table>\n",
       "</div>"
      ],
      "text/plain": [
       "     dec  magi    ra\n",
       "id                  \n",
       "1  -55.6  21.3   4.5\n",
       "3   23.6  23.3  23.5\n",
       "25  -0.3  20.8  22.5\n",
       "17  15.6  24.3  33.5"
      ]
     },
     "execution_count": 49,
     "metadata": {},
     "output_type": "execute_result"
    }
   ],
   "source": [
    "df_galaxies = pd.DataFrame.from_records(galaxies, index = 'id')\n",
    "df_galaxies"
   ]
  },
  {
   "cell_type": "code",
   "execution_count": 50,
   "metadata": {
    "collapsed": true
   },
   "outputs": [],
   "source": [
    "df_galaxies = pd.DataFrame(galaxies)"
   ]
  },
  {
   "cell_type": "code",
   "execution_count": 51,
   "metadata": {
    "collapsed": false
   },
   "outputs": [
    {
     "data": {
      "text/html": [
       "<div>\n",
       "<table border=\"1\" class=\"dataframe\">\n",
       "  <thead>\n",
       "    <tr style=\"text-align: right;\">\n",
       "      <th></th>\n",
       "      <th>dec</th>\n",
       "      <th>id</th>\n",
       "      <th>magi</th>\n",
       "      <th>ra</th>\n",
       "    </tr>\n",
       "  </thead>\n",
       "  <tbody>\n",
       "    <tr>\n",
       "      <th>0</th>\n",
       "      <td>-55.6</td>\n",
       "      <td>1</td>\n",
       "      <td>21.3</td>\n",
       "      <td>4.5</td>\n",
       "    </tr>\n",
       "    <tr>\n",
       "      <th>1</th>\n",
       "      <td>23.6</td>\n",
       "      <td>3</td>\n",
       "      <td>23.3</td>\n",
       "      <td>23.5</td>\n",
       "    </tr>\n",
       "    <tr>\n",
       "      <th>2</th>\n",
       "      <td>-0.3</td>\n",
       "      <td>25</td>\n",
       "      <td>20.8</td>\n",
       "      <td>22.5</td>\n",
       "    </tr>\n",
       "    <tr>\n",
       "      <th>3</th>\n",
       "      <td>15.6</td>\n",
       "      <td>17</td>\n",
       "      <td>24.3</td>\n",
       "      <td>33.5</td>\n",
       "    </tr>\n",
       "  </tbody>\n",
       "</table>\n",
       "</div>"
      ],
      "text/plain": [
       "    dec  id  magi    ra\n",
       "0 -55.6   1  21.3   4.5\n",
       "1  23.6   3  23.3  23.5\n",
       "2  -0.3  25  20.8  22.5\n",
       "3  15.6  17  24.3  33.5"
      ]
     },
     "execution_count": 51,
     "metadata": {},
     "output_type": "execute_result"
    }
   ],
   "source": [
    "df_galaxies"
   ]
  },
  {
   "cell_type": "code",
   "execution_count": 52,
   "metadata": {
    "collapsed": true
   },
   "outputs": [],
   "source": [
    "df_galaxies = df_galaxies.set_index('id')"
   ]
  },
  {
   "cell_type": "code",
   "execution_count": 53,
   "metadata": {
    "collapsed": false
   },
   "outputs": [
    {
     "data": {
      "text/html": [
       "<div>\n",
       "<table border=\"1\" class=\"dataframe\">\n",
       "  <thead>\n",
       "    <tr style=\"text-align: right;\">\n",
       "      <th></th>\n",
       "      <th>dec</th>\n",
       "      <th>magi</th>\n",
       "      <th>ra</th>\n",
       "    </tr>\n",
       "    <tr>\n",
       "      <th>id</th>\n",
       "      <th></th>\n",
       "      <th></th>\n",
       "      <th></th>\n",
       "    </tr>\n",
       "  </thead>\n",
       "  <tbody>\n",
       "    <tr>\n",
       "      <th>1</th>\n",
       "      <td>-55.6</td>\n",
       "      <td>21.3</td>\n",
       "      <td>4.5</td>\n",
       "    </tr>\n",
       "    <tr>\n",
       "      <th>3</th>\n",
       "      <td>23.6</td>\n",
       "      <td>23.3</td>\n",
       "      <td>23.5</td>\n",
       "    </tr>\n",
       "    <tr>\n",
       "      <th>25</th>\n",
       "      <td>-0.3</td>\n",
       "      <td>20.8</td>\n",
       "      <td>22.5</td>\n",
       "    </tr>\n",
       "    <tr>\n",
       "      <th>17</th>\n",
       "      <td>15.6</td>\n",
       "      <td>24.3</td>\n",
       "      <td>33.5</td>\n",
       "    </tr>\n",
       "  </tbody>\n",
       "</table>\n",
       "</div>"
      ],
      "text/plain": [
       "     dec  magi    ra\n",
       "id                  \n",
       "1  -55.6  21.3   4.5\n",
       "3   23.6  23.3  23.5\n",
       "25  -0.3  20.8  22.5\n",
       "17  15.6  24.3  33.5"
      ]
     },
     "execution_count": 53,
     "metadata": {},
     "output_type": "execute_result"
    }
   ],
   "source": [
    "df_galaxies"
   ]
  },
  {
   "cell_type": "markdown",
   "metadata": {},
   "source": [
    "### Reading from different sources into a DataFrame\n",
    "- Most of the times any study starts with an **input file** containing some data rather than having a python list or dictionary.\n",
    "\n",
    "- Here we present three different data sources and how to read them: two file formats (**CSV** and **FITS**) and a **database** connection.\n",
    "\n",
    "- **Advanced**: More and more frequently the amount of data to handle is larger and larger (Big Data era) and therefore files are huge. This is why we strongly recommend to always program by chunks (sometimes it is mandatory and also it is not straight forward to implement)."
   ]
  },
  {
   "cell_type": "markdown",
   "metadata": {},
   "source": [
    "#### FORGET ABOUT FOTRAN!\n",
    "#### FORGET ABOUT FPRINTF AND FSCANF!\n",
    "\n",
    "; )"
   ]
  },
  {
   "cell_type": "markdown",
   "metadata": {},
   "source": [
    "#### - From a CSV (Comma Separated Value) file:\n",
    "\n",
    "<https://pandas.pydata.org/pandas-docs/stable/generated/pandas.read_csv.html>"
   ]
  },
  {
   "cell_type": "markdown",
   "metadata": {},
   "source": [
    "#### Reading the full catalog at once (if the file is not very large)"
   ]
  },
  {
   "cell_type": "markdown",
   "metadata": {},
   "source": [
    "- CSV file created using the following query:\n",
    "```\n",
    "SELECT `unique_gal_id`, `unique_halo_id`, `ra_gal`, `dec_gal`, `z_cgal_v`, `z_cgal`, `vxgal`, `vygal`, `vzgal`, `flag_central`, `lmhalo`, `nsats`, `mr_gal`, `gr_gal`, `sed_cos`, `metallicity`, `des_asahi_full_g_true`, `des_asahi_full_r_true`, `des_asahi_full_i_true`, `des_asahi_full_z_true`, `logf_halpha_ext` FROM micecatv2_0_view TABLESAMPLE (BUCKET 1 OUT OF 256)\n",
    "```"
   ]
  },
  {
   "cell_type": "code",
   "execution_count": 240,
   "metadata": {
    "collapsed": true
   },
   "outputs": [],
   "source": [
    "filename = '/nfs/astro/jcarrete/sandbox/curso_python/1203.csv'"
   ]
  },
  {
   "cell_type": "markdown",
   "metadata": {},
   "source": [
    "- CSV.BZ2 (less storage, slower when reading because of decompression)"
   ]
  },
  {
   "cell_type": "code",
   "execution_count": 241,
   "metadata": {
    "collapsed": true
   },
   "outputs": [],
   "source": [
    "filename_bz2 = '/nfs/astro/jcarrete/sandbox/curso_python/1203.csv.bz2'"
   ]
  },
  {
   "cell_type": "markdown",
   "metadata": {},
   "source": [
    "#### Reading the full catalog at once (if the file is not very large)"
   ]
  },
  {
   "cell_type": "code",
   "execution_count": 242,
   "metadata": {
    "collapsed": true
   },
   "outputs": [],
   "source": [
    "# Field index name (known a priori from the header or the file description)\n",
    "unique_gal_id_field = 'unique_gal_id'"
   ]
  },
  {
   "cell_type": "code",
   "execution_count": 243,
   "metadata": {
    "collapsed": false
   },
   "outputs": [],
   "source": [
    "galaxy_sample = pd.read_csv(filename, sep=',', index_col = unique_gal_id_field, comment='#', na_values = '\\N')"
   ]
  },
  {
   "cell_type": "code",
   "execution_count": 244,
   "metadata": {
    "collapsed": false
   },
   "outputs": [
    {
     "data": {
      "text/html": [
       "<div>\n",
       "<table border=\"1\" class=\"dataframe\">\n",
       "  <thead>\n",
       "    <tr style=\"text-align: right;\">\n",
       "      <th></th>\n",
       "      <th>unique_halo_id</th>\n",
       "      <th>ra_gal</th>\n",
       "      <th>dec_gal</th>\n",
       "      <th>z_cgal_v</th>\n",
       "      <th>z_cgal</th>\n",
       "      <th>vxgal</th>\n",
       "      <th>vygal</th>\n",
       "      <th>vzgal</th>\n",
       "      <th>flag_central</th>\n",
       "      <th>lmhalo</th>\n",
       "      <th>nsats</th>\n",
       "      <th>mr_gal</th>\n",
       "      <th>gr_gal</th>\n",
       "      <th>sed_cos</th>\n",
       "      <th>metallicity</th>\n",
       "      <th>des_asahi_full_g_true</th>\n",
       "      <th>des_asahi_full_r_true</th>\n",
       "      <th>des_asahi_full_i_true</th>\n",
       "      <th>des_asahi_full_z_true</th>\n",
       "      <th>logf_halpha_ext</th>\n",
       "    </tr>\n",
       "    <tr>\n",
       "      <th>unique_gal_id</th>\n",
       "      <th></th>\n",
       "      <th></th>\n",
       "      <th></th>\n",
       "      <th></th>\n",
       "      <th></th>\n",
       "      <th></th>\n",
       "      <th></th>\n",
       "      <th></th>\n",
       "      <th></th>\n",
       "      <th></th>\n",
       "      <th></th>\n",
       "      <th></th>\n",
       "      <th></th>\n",
       "      <th></th>\n",
       "      <th></th>\n",
       "      <th></th>\n",
       "      <th></th>\n",
       "      <th></th>\n",
       "      <th></th>\n",
       "      <th></th>\n",
       "    </tr>\n",
       "  </thead>\n",
       "  <tbody>\n",
       "    <tr>\n",
       "      <th>28581888</th>\n",
       "      <td>6813671</td>\n",
       "      <td>6.322946</td>\n",
       "      <td>25.820680</td>\n",
       "      <td>0.30894</td>\n",
       "      <td>0.30917</td>\n",
       "      <td>-944.0</td>\n",
       "      <td>106.0</td>\n",
       "      <td>-126.0</td>\n",
       "      <td>1</td>\n",
       "      <td>13.5638</td>\n",
       "      <td>217</td>\n",
       "      <td>-18.8790</td>\n",
       "      <td>0.8683</td>\n",
       "      <td>1.49</td>\n",
       "      <td>9.204</td>\n",
       "      <td>22.708</td>\n",
       "      <td>21.427</td>\n",
       "      <td>21.002</td>\n",
       "      <td>20.795</td>\n",
       "      <td>-16.372</td>\n",
       "    </tr>\n",
       "    <tr>\n",
       "      <th>6513920</th>\n",
       "      <td>583531</td>\n",
       "      <td>31.918837</td>\n",
       "      <td>63.028902</td>\n",
       "      <td>0.21009</td>\n",
       "      <td>0.20998</td>\n",
       "      <td>-191.0</td>\n",
       "      <td>171.0</td>\n",
       "      <td>10.0</td>\n",
       "      <td>0</td>\n",
       "      <td>11.5184</td>\n",
       "      <td>3</td>\n",
       "      <td>-19.1841</td>\n",
       "      <td>0.4690</td>\n",
       "      <td>26.30</td>\n",
       "      <td>8.738</td>\n",
       "      <td>20.562</td>\n",
       "      <td>19.997</td>\n",
       "      <td>19.780</td>\n",
       "      <td>19.608</td>\n",
       "      <td>-14.172</td>\n",
       "    </tr>\n",
       "    <tr>\n",
       "      <th>28066816</th>\n",
       "      <td>6705885</td>\n",
       "      <td>2.814453</td>\n",
       "      <td>31.387212</td>\n",
       "      <td>0.28243</td>\n",
       "      <td>0.28162</td>\n",
       "      <td>-325.0</td>\n",
       "      <td>127.0</td>\n",
       "      <td>184.0</td>\n",
       "      <td>0</td>\n",
       "      <td>11.8192</td>\n",
       "      <td>3</td>\n",
       "      <td>-19.7774</td>\n",
       "      <td>0.6869</td>\n",
       "      <td>30.91</td>\n",
       "      <td>8.699</td>\n",
       "      <td>21.248</td>\n",
       "      <td>20.235</td>\n",
       "      <td>19.855</td>\n",
       "      <td>19.578</td>\n",
       "      <td>-14.408</td>\n",
       "    </tr>\n",
       "    <tr>\n",
       "      <th>31695360</th>\n",
       "      <td>7690292</td>\n",
       "      <td>11.170244</td>\n",
       "      <td>52.128139</td>\n",
       "      <td>0.53018</td>\n",
       "      <td>0.52944</td>\n",
       "      <td>88.0</td>\n",
       "      <td>35.0</td>\n",
       "      <td>143.0</td>\n",
       "      <td>0</td>\n",
       "      <td>12.1493</td>\n",
       "      <td>5</td>\n",
       "      <td>-20.4820</td>\n",
       "      <td>0.9445</td>\n",
       "      <td>10.57</td>\n",
       "      <td>9.051</td>\n",
       "      <td>23.285</td>\n",
       "      <td>21.732</td>\n",
       "      <td>20.991</td>\n",
       "      <td>20.590</td>\n",
       "      <td>-15.789</td>\n",
       "    </tr>\n",
       "    <tr>\n",
       "      <th>20980480</th>\n",
       "      <td>4143780</td>\n",
       "      <td>5.683928</td>\n",
       "      <td>60.137498</td>\n",
       "      <td>0.35974</td>\n",
       "      <td>0.36004</td>\n",
       "      <td>-223.0</td>\n",
       "      <td>69.0</td>\n",
       "      <td>-103.0</td>\n",
       "      <td>1</td>\n",
       "      <td>11.4320</td>\n",
       "      <td>2</td>\n",
       "      <td>-16.2978</td>\n",
       "      <td>0.4299</td>\n",
       "      <td>45.26</td>\n",
       "      <td>8.343</td>\n",
       "      <td>24.508</td>\n",
       "      <td>24.086</td>\n",
       "      <td>24.031</td>\n",
       "      <td>23.968</td>\n",
       "      <td>-15.527</td>\n",
       "    </tr>\n",
       "  </tbody>\n",
       "</table>\n",
       "</div>"
      ],
      "text/plain": [
       "               unique_halo_id     ra_gal    dec_gal  z_cgal_v   z_cgal  vxgal  \\\n",
       "unique_gal_id                                                                   \n",
       "28581888              6813671   6.322946  25.820680   0.30894  0.30917 -944.0   \n",
       "6513920                583531  31.918837  63.028902   0.21009  0.20998 -191.0   \n",
       "28066816              6705885   2.814453  31.387212   0.28243  0.28162 -325.0   \n",
       "31695360              7690292  11.170244  52.128139   0.53018  0.52944   88.0   \n",
       "20980480              4143780   5.683928  60.137498   0.35974  0.36004 -223.0   \n",
       "\n",
       "               vygal  vzgal  flag_central   lmhalo  nsats   mr_gal  gr_gal  \\\n",
       "unique_gal_id                                                                \n",
       "28581888       106.0 -126.0             1  13.5638    217 -18.8790  0.8683   \n",
       "6513920        171.0   10.0             0  11.5184      3 -19.1841  0.4690   \n",
       "28066816       127.0  184.0             0  11.8192      3 -19.7774  0.6869   \n",
       "31695360        35.0  143.0             0  12.1493      5 -20.4820  0.9445   \n",
       "20980480        69.0 -103.0             1  11.4320      2 -16.2978  0.4299   \n",
       "\n",
       "               sed_cos  metallicity  des_asahi_full_g_true  \\\n",
       "unique_gal_id                                                \n",
       "28581888          1.49        9.204                 22.708   \n",
       "6513920          26.30        8.738                 20.562   \n",
       "28066816         30.91        8.699                 21.248   \n",
       "31695360         10.57        9.051                 23.285   \n",
       "20980480         45.26        8.343                 24.508   \n",
       "\n",
       "               des_asahi_full_r_true  des_asahi_full_i_true  \\\n",
       "unique_gal_id                                                 \n",
       "28581888                      21.427                 21.002   \n",
       "6513920                       19.997                 19.780   \n",
       "28066816                      20.235                 19.855   \n",
       "31695360                      21.732                 20.991   \n",
       "20980480                      24.086                 24.031   \n",
       "\n",
       "               des_asahi_full_z_true  logf_halpha_ext  \n",
       "unique_gal_id                                          \n",
       "28581888                      20.795          -16.372  \n",
       "6513920                       19.608          -14.172  \n",
       "28066816                      19.578          -14.408  \n",
       "31695360                      20.590          -15.789  \n",
       "20980480                      23.968          -15.527  "
      ]
     },
     "execution_count": 244,
     "metadata": {},
     "output_type": "execute_result"
    }
   ],
   "source": [
    "galaxy_sample.head()"
   ]
  },
  {
   "cell_type": "code",
   "execution_count": 245,
   "metadata": {
    "collapsed": false
   },
   "outputs": [
    {
     "data": {
      "text/html": [
       "<div>\n",
       "<table border=\"1\" class=\"dataframe\">\n",
       "  <thead>\n",
       "    <tr style=\"text-align: right;\">\n",
       "      <th></th>\n",
       "      <th>unique_halo_id</th>\n",
       "      <th>ra_gal</th>\n",
       "      <th>dec_gal</th>\n",
       "      <th>z_cgal_v</th>\n",
       "      <th>z_cgal</th>\n",
       "      <th>vxgal</th>\n",
       "      <th>vygal</th>\n",
       "      <th>vzgal</th>\n",
       "      <th>flag_central</th>\n",
       "      <th>lmhalo</th>\n",
       "      <th>nsats</th>\n",
       "      <th>mr_gal</th>\n",
       "      <th>gr_gal</th>\n",
       "      <th>sed_cos</th>\n",
       "      <th>metallicity</th>\n",
       "      <th>des_asahi_full_g_true</th>\n",
       "      <th>des_asahi_full_r_true</th>\n",
       "      <th>des_asahi_full_i_true</th>\n",
       "      <th>des_asahi_full_z_true</th>\n",
       "      <th>logf_halpha_ext</th>\n",
       "    </tr>\n",
       "    <tr>\n",
       "      <th>unique_gal_id</th>\n",
       "      <th></th>\n",
       "      <th></th>\n",
       "      <th></th>\n",
       "      <th></th>\n",
       "      <th></th>\n",
       "      <th></th>\n",
       "      <th></th>\n",
       "      <th></th>\n",
       "      <th></th>\n",
       "      <th></th>\n",
       "      <th></th>\n",
       "      <th></th>\n",
       "      <th></th>\n",
       "      <th></th>\n",
       "      <th></th>\n",
       "      <th></th>\n",
       "      <th></th>\n",
       "      <th></th>\n",
       "      <th></th>\n",
       "      <th></th>\n",
       "    </tr>\n",
       "  </thead>\n",
       "  <tbody>\n",
       "    <tr>\n",
       "      <th>47809280</th>\n",
       "      <td>15205147</td>\n",
       "      <td>1.024356</td>\n",
       "      <td>1.931872</td>\n",
       "      <td>0.70159</td>\n",
       "      <td>0.70140</td>\n",
       "      <td>-123.0</td>\n",
       "      <td>30.0</td>\n",
       "      <td>169.0</td>\n",
       "      <td>1</td>\n",
       "      <td>13.2645</td>\n",
       "      <td>18</td>\n",
       "      <td>-17.1730</td>\n",
       "      <td>0.7115</td>\n",
       "      <td>46.43</td>\n",
       "      <td>8.274</td>\n",
       "      <td>25.736</td>\n",
       "      <td>25.289</td>\n",
       "      <td>24.884</td>\n",
       "      <td>24.731</td>\n",
       "      <td>-15.550</td>\n",
       "    </tr>\n",
       "    <tr>\n",
       "      <th>72990720</th>\n",
       "      <td>26787145</td>\n",
       "      <td>34.863831</td>\n",
       "      <td>2.792849</td>\n",
       "      <td>0.19544</td>\n",
       "      <td>0.19577</td>\n",
       "      <td>-307.0</td>\n",
       "      <td>101.0</td>\n",
       "      <td>212.0</td>\n",
       "      <td>1</td>\n",
       "      <td>12.4254</td>\n",
       "      <td>18</td>\n",
       "      <td>-16.0736</td>\n",
       "      <td>0.7664</td>\n",
       "      <td>21.62</td>\n",
       "      <td>8.998</td>\n",
       "      <td>23.656</td>\n",
       "      <td>22.946</td>\n",
       "      <td>22.730</td>\n",
       "      <td>22.575</td>\n",
       "      <td>-15.765</td>\n",
       "    </tr>\n",
       "    <tr>\n",
       "      <th>86145792</th>\n",
       "      <td>30639081</td>\n",
       "      <td>29.612805</td>\n",
       "      <td>45.073359</td>\n",
       "      <td>0.38299</td>\n",
       "      <td>0.38400</td>\n",
       "      <td>577.0</td>\n",
       "      <td>-518.0</td>\n",
       "      <td>-145.0</td>\n",
       "      <td>1</td>\n",
       "      <td>13.0326</td>\n",
       "      <td>53</td>\n",
       "      <td>-19.3365</td>\n",
       "      <td>0.9404</td>\n",
       "      <td>10.60</td>\n",
       "      <td>8.516</td>\n",
       "      <td>23.386</td>\n",
       "      <td>21.737</td>\n",
       "      <td>21.140</td>\n",
       "      <td>20.835</td>\n",
       "      <td>-15.955</td>\n",
       "    </tr>\n",
       "    <tr>\n",
       "      <th>72612608</th>\n",
       "      <td>26740864</td>\n",
       "      <td>34.613242</td>\n",
       "      <td>1.958016</td>\n",
       "      <td>0.19149</td>\n",
       "      <td>0.19050</td>\n",
       "      <td>-574.0</td>\n",
       "      <td>710.0</td>\n",
       "      <td>-293.0</td>\n",
       "      <td>1</td>\n",
       "      <td>11.8458</td>\n",
       "      <td>5</td>\n",
       "      <td>-18.7526</td>\n",
       "      <td>0.8544</td>\n",
       "      <td>2.87</td>\n",
       "      <td>8.697</td>\n",
       "      <td>21.303</td>\n",
       "      <td>20.241</td>\n",
       "      <td>19.880</td>\n",
       "      <td>19.655</td>\n",
       "      <td>-16.246</td>\n",
       "    </tr>\n",
       "    <tr>\n",
       "      <th>63993856</th>\n",
       "      <td>23935435</td>\n",
       "      <td>68.025492</td>\n",
       "      <td>34.740194</td>\n",
       "      <td>0.20466</td>\n",
       "      <td>0.20558</td>\n",
       "      <td>-438.0</td>\n",
       "      <td>858.0</td>\n",
       "      <td>-277.0</td>\n",
       "      <td>1</td>\n",
       "      <td>13.8767</td>\n",
       "      <td>411</td>\n",
       "      <td>-14.1441</td>\n",
       "      <td>0.3934</td>\n",
       "      <td>29.72</td>\n",
       "      <td>8.090</td>\n",
       "      <td>25.380</td>\n",
       "      <td>24.973</td>\n",
       "      <td>24.780</td>\n",
       "      <td>24.628</td>\n",
       "      <td>-15.869</td>\n",
       "    </tr>\n",
       "  </tbody>\n",
       "</table>\n",
       "</div>"
      ],
      "text/plain": [
       "               unique_halo_id     ra_gal    dec_gal  z_cgal_v   z_cgal  vxgal  \\\n",
       "unique_gal_id                                                                   \n",
       "47809280             15205147   1.024356   1.931872   0.70159  0.70140 -123.0   \n",
       "72990720             26787145  34.863831   2.792849   0.19544  0.19577 -307.0   \n",
       "86145792             30639081  29.612805  45.073359   0.38299  0.38400  577.0   \n",
       "72612608             26740864  34.613242   1.958016   0.19149  0.19050 -574.0   \n",
       "63993856             23935435  68.025492  34.740194   0.20466  0.20558 -438.0   \n",
       "\n",
       "               vygal  vzgal  flag_central   lmhalo  nsats   mr_gal  gr_gal  \\\n",
       "unique_gal_id                                                                \n",
       "47809280        30.0  169.0             1  13.2645     18 -17.1730  0.7115   \n",
       "72990720       101.0  212.0             1  12.4254     18 -16.0736  0.7664   \n",
       "86145792      -518.0 -145.0             1  13.0326     53 -19.3365  0.9404   \n",
       "72612608       710.0 -293.0             1  11.8458      5 -18.7526  0.8544   \n",
       "63993856       858.0 -277.0             1  13.8767    411 -14.1441  0.3934   \n",
       "\n",
       "               sed_cos  metallicity  des_asahi_full_g_true  \\\n",
       "unique_gal_id                                                \n",
       "47809280         46.43        8.274                 25.736   \n",
       "72990720         21.62        8.998                 23.656   \n",
       "86145792         10.60        8.516                 23.386   \n",
       "72612608          2.87        8.697                 21.303   \n",
       "63993856         29.72        8.090                 25.380   \n",
       "\n",
       "               des_asahi_full_r_true  des_asahi_full_i_true  \\\n",
       "unique_gal_id                                                 \n",
       "47809280                      25.289                 24.884   \n",
       "72990720                      22.946                 22.730   \n",
       "86145792                      21.737                 21.140   \n",
       "72612608                      20.241                 19.880   \n",
       "63993856                      24.973                 24.780   \n",
       "\n",
       "               des_asahi_full_z_true  logf_halpha_ext  \n",
       "unique_gal_id                                          \n",
       "47809280                      24.731          -15.550  \n",
       "72990720                      22.575          -15.765  \n",
       "86145792                      20.835          -15.955  \n",
       "72612608                      19.655          -16.246  \n",
       "63993856                      24.628          -15.869  "
      ]
     },
     "execution_count": 245,
     "metadata": {},
     "output_type": "execute_result"
    }
   ],
   "source": [
    "galaxy_sample.tail()"
   ]
  },
  {
   "cell_type": "markdown",
   "metadata": {},
   "source": [
    "- DataFrame.describe:\n",
    "\n",
    "Generates descriptive statistics that summarize the central tendency, dispersion and shape of a dataset’s distribution, excluding NaN values."
   ]
  },
  {
   "cell_type": "code",
   "execution_count": 246,
   "metadata": {
    "collapsed": false
   },
   "outputs": [
    {
     "data": {
      "text/html": [
       "<div>\n",
       "<table border=\"1\" class=\"dataframe\">\n",
       "  <thead>\n",
       "    <tr style=\"text-align: right;\">\n",
       "      <th></th>\n",
       "      <th>unique_halo_id</th>\n",
       "      <th>ra_gal</th>\n",
       "      <th>dec_gal</th>\n",
       "      <th>z_cgal_v</th>\n",
       "      <th>z_cgal</th>\n",
       "      <th>vxgal</th>\n",
       "      <th>vygal</th>\n",
       "      <th>vzgal</th>\n",
       "      <th>flag_central</th>\n",
       "      <th>lmhalo</th>\n",
       "      <th>nsats</th>\n",
       "      <th>mr_gal</th>\n",
       "      <th>gr_gal</th>\n",
       "      <th>sed_cos</th>\n",
       "      <th>metallicity</th>\n",
       "      <th>des_asahi_full_g_true</th>\n",
       "      <th>des_asahi_full_r_true</th>\n",
       "      <th>des_asahi_full_i_true</th>\n",
       "      <th>des_asahi_full_z_true</th>\n",
       "      <th>logf_halpha_ext</th>\n",
       "    </tr>\n",
       "  </thead>\n",
       "  <tbody>\n",
       "    <tr>\n",
       "      <th>count</th>\n",
       "      <td>1.951650e+06</td>\n",
       "      <td>1.951650e+06</td>\n",
       "      <td>1.951650e+06</td>\n",
       "      <td>1.951650e+06</td>\n",
       "      <td>1.951650e+06</td>\n",
       "      <td>1.951650e+06</td>\n",
       "      <td>1.951650e+06</td>\n",
       "      <td>1.951650e+06</td>\n",
       "      <td>1.951650e+06</td>\n",
       "      <td>1.951650e+06</td>\n",
       "      <td>1.951650e+06</td>\n",
       "      <td>1.951650e+06</td>\n",
       "      <td>1.951650e+06</td>\n",
       "      <td>1.951650e+06</td>\n",
       "      <td>1.951650e+06</td>\n",
       "      <td>1.951650e+06</td>\n",
       "      <td>1.951650e+06</td>\n",
       "      <td>1.951650e+06</td>\n",
       "      <td>1.951650e+06</td>\n",
       "      <td>1.951650e+06</td>\n",
       "    </tr>\n",
       "    <tr>\n",
       "      <th>mean</th>\n",
       "      <td>1.348529e+08</td>\n",
       "      <td>4.500048e+01</td>\n",
       "      <td>3.359174e+01</td>\n",
       "      <td>7.137574e-01</td>\n",
       "      <td>7.137281e-01</td>\n",
       "      <td>3.264504e+00</td>\n",
       "      <td>-4.565623e+00</td>\n",
       "      <td>2.119610e+00</td>\n",
       "      <td>3.418164e-01</td>\n",
       "      <td>1.175509e+01</td>\n",
       "      <td>3.145021e+01</td>\n",
       "      <td>-1.824804e+01</td>\n",
       "      <td>5.841298e-01</td>\n",
       "      <td>3.200667e+01</td>\n",
       "      <td>8.695910e+00</td>\n",
       "      <td>2.447747e+01</td>\n",
       "      <td>2.394322e+01</td>\n",
       "      <td>2.357304e+01</td>\n",
       "      <td>2.332859e+01</td>\n",
       "      <td>-1.543428e+01</td>\n",
       "    </tr>\n",
       "    <tr>\n",
       "      <th>std</th>\n",
       "      <td>9.760982e+07</td>\n",
       "      <td>2.566301e+01</td>\n",
       "      <td>2.161286e+01</td>\n",
       "      <td>3.448367e-01</td>\n",
       "      <td>3.448003e-01</td>\n",
       "      <td>2.887854e+02</td>\n",
       "      <td>2.881546e+02</td>\n",
       "      <td>2.929048e+02</td>\n",
       "      <td>4.743185e-01</td>\n",
       "      <td>8.488723e-01</td>\n",
       "      <td>2.102387e+02</td>\n",
       "      <td>1.733005e+00</td>\n",
       "      <td>2.276400e-01</td>\n",
       "      <td>1.054150e+01</td>\n",
       "      <td>3.439774e-01</td>\n",
       "      <td>1.139399e+00</td>\n",
       "      <td>1.197318e+00</td>\n",
       "      <td>1.215486e+00</td>\n",
       "      <td>1.227938e+00</td>\n",
       "      <td>5.098724e-01</td>\n",
       "    </tr>\n",
       "    <tr>\n",
       "      <th>min</th>\n",
       "      <td>2.581500e+04</td>\n",
       "      <td>-2.700000e+02</td>\n",
       "      <td>-5.120000e-04</td>\n",
       "      <td>6.651000e-02</td>\n",
       "      <td>7.296000e-02</td>\n",
       "      <td>-3.065000e+03</td>\n",
       "      <td>-3.709000e+03</td>\n",
       "      <td>-3.739000e+03</td>\n",
       "      <td>0.000000e+00</td>\n",
       "      <td>1.007700e+01</td>\n",
       "      <td>0.000000e+00</td>\n",
       "      <td>-2.305450e+01</td>\n",
       "      <td>-2.055000e-01</td>\n",
       "      <td>-5.000000e-01</td>\n",
       "      <td>6.201000e+00</td>\n",
       "      <td>1.553900e+01</td>\n",
       "      <td>1.450300e+01</td>\n",
       "      <td>1.410700e+01</td>\n",
       "      <td>1.375200e+01</td>\n",
       "      <td>-1.845200e+01</td>\n",
       "    </tr>\n",
       "    <tr>\n",
       "      <th>25%</th>\n",
       "      <td>4.988769e+07</td>\n",
       "      <td>2.307810e+01</td>\n",
       "      <td>1.530943e+01</td>\n",
       "      <td>4.282200e-01</td>\n",
       "      <td>4.282900e-01</td>\n",
       "      <td>-1.730000e+02</td>\n",
       "      <td>-1.800000e+02</td>\n",
       "      <td>-1.770000e+02</td>\n",
       "      <td>0.000000e+00</td>\n",
       "      <td>1.115810e+01</td>\n",
       "      <td>0.000000e+00</td>\n",
       "      <td>-1.952870e+01</td>\n",
       "      <td>4.030000e-01</td>\n",
       "      <td>2.486000e+01</td>\n",
       "      <td>8.529000e+00</td>\n",
       "      <td>2.394700e+01</td>\n",
       "      <td>2.342000e+01</td>\n",
       "      <td>2.299300e+01</td>\n",
       "      <td>2.272500e+01</td>\n",
       "      <td>-1.573100e+01</td>\n",
       "    </tr>\n",
       "    <tr>\n",
       "      <th>50%</th>\n",
       "      <td>1.163143e+08</td>\n",
       "      <td>4.503421e+01</td>\n",
       "      <td>3.126076e+01</td>\n",
       "      <td>7.005700e-01</td>\n",
       "      <td>7.005900e-01</td>\n",
       "      <td>3.000000e+00</td>\n",
       "      <td>-4.000000e+00</td>\n",
       "      <td>2.000000e+00</td>\n",
       "      <td>0.000000e+00</td>\n",
       "      <td>1.156260e+01</td>\n",
       "      <td>1.000000e+00</td>\n",
       "      <td>-1.850650e+01</td>\n",
       "      <td>5.484000e-01</td>\n",
       "      <td>3.013000e+01</td>\n",
       "      <td>8.768000e+00</td>\n",
       "      <td>2.467100e+01</td>\n",
       "      <td>2.427300e+01</td>\n",
       "      <td>2.391800e+01</td>\n",
       "      <td>2.362500e+01</td>\n",
       "      <td>-1.541700e+01</td>\n",
       "    </tr>\n",
       "    <tr>\n",
       "      <th>75%</th>\n",
       "      <td>2.152302e+08</td>\n",
       "      <td>6.687627e+01</td>\n",
       "      <td>4.973144e+01</td>\n",
       "      <td>9.796400e-01</td>\n",
       "      <td>9.795700e-01</td>\n",
       "      <td>1.800000e+02</td>\n",
       "      <td>1.710000e+02</td>\n",
       "      <td>1.820000e+02</td>\n",
       "      <td>1.000000e+00</td>\n",
       "      <td>1.220590e+01</td>\n",
       "      <td>4.000000e+00</td>\n",
       "      <td>-1.718910e+01</td>\n",
       "      <td>7.890000e-01</td>\n",
       "      <td>4.221000e+01</td>\n",
       "      <td>8.937000e+00</td>\n",
       "      <td>2.522900e+01</td>\n",
       "      <td>2.478500e+01</td>\n",
       "      <td>2.447000e+01</td>\n",
       "      <td>2.424200e+01</td>\n",
       "      <td>-1.510900e+01</td>\n",
       "    </tr>\n",
       "    <tr>\n",
       "      <th>max</th>\n",
       "      <td>3.318269e+08</td>\n",
       "      <td>9.000000e+01</td>\n",
       "      <td>8.987007e+01</td>\n",
       "      <td>1.425110e+00</td>\n",
       "      <td>1.417080e+00</td>\n",
       "      <td>3.919000e+03</td>\n",
       "      <td>3.022000e+03</td>\n",
       "      <td>3.652000e+03</td>\n",
       "      <td>1.000000e+00</td>\n",
       "      <td>1.526830e+01</td>\n",
       "      <td>1.038500e+04</td>\n",
       "      <td>-1.299840e+01</td>\n",
       "      <td>1.346700e+00</td>\n",
       "      <td>4.650000e+01</td>\n",
       "      <td>9.759000e+00</td>\n",
       "      <td>2.883000e+01</td>\n",
       "      <td>2.649200e+01</td>\n",
       "      <td>2.499900e+01</td>\n",
       "      <td>2.512200e+01</td>\n",
       "      <td>-1.277600e+01</td>\n",
       "    </tr>\n",
       "  </tbody>\n",
       "</table>\n",
       "</div>"
      ],
      "text/plain": [
       "       unique_halo_id        ra_gal       dec_gal      z_cgal_v        z_cgal  \\\n",
       "count    1.951650e+06  1.951650e+06  1.951650e+06  1.951650e+06  1.951650e+06   \n",
       "mean     1.348529e+08  4.500048e+01  3.359174e+01  7.137574e-01  7.137281e-01   \n",
       "std      9.760982e+07  2.566301e+01  2.161286e+01  3.448367e-01  3.448003e-01   \n",
       "min      2.581500e+04 -2.700000e+02 -5.120000e-04  6.651000e-02  7.296000e-02   \n",
       "25%      4.988769e+07  2.307810e+01  1.530943e+01  4.282200e-01  4.282900e-01   \n",
       "50%      1.163143e+08  4.503421e+01  3.126076e+01  7.005700e-01  7.005900e-01   \n",
       "75%      2.152302e+08  6.687627e+01  4.973144e+01  9.796400e-01  9.795700e-01   \n",
       "max      3.318269e+08  9.000000e+01  8.987007e+01  1.425110e+00  1.417080e+00   \n",
       "\n",
       "              vxgal         vygal         vzgal  flag_central        lmhalo  \\\n",
       "count  1.951650e+06  1.951650e+06  1.951650e+06  1.951650e+06  1.951650e+06   \n",
       "mean   3.264504e+00 -4.565623e+00  2.119610e+00  3.418164e-01  1.175509e+01   \n",
       "std    2.887854e+02  2.881546e+02  2.929048e+02  4.743185e-01  8.488723e-01   \n",
       "min   -3.065000e+03 -3.709000e+03 -3.739000e+03  0.000000e+00  1.007700e+01   \n",
       "25%   -1.730000e+02 -1.800000e+02 -1.770000e+02  0.000000e+00  1.115810e+01   \n",
       "50%    3.000000e+00 -4.000000e+00  2.000000e+00  0.000000e+00  1.156260e+01   \n",
       "75%    1.800000e+02  1.710000e+02  1.820000e+02  1.000000e+00  1.220590e+01   \n",
       "max    3.919000e+03  3.022000e+03  3.652000e+03  1.000000e+00  1.526830e+01   \n",
       "\n",
       "              nsats        mr_gal        gr_gal       sed_cos   metallicity  \\\n",
       "count  1.951650e+06  1.951650e+06  1.951650e+06  1.951650e+06  1.951650e+06   \n",
       "mean   3.145021e+01 -1.824804e+01  5.841298e-01  3.200667e+01  8.695910e+00   \n",
       "std    2.102387e+02  1.733005e+00  2.276400e-01  1.054150e+01  3.439774e-01   \n",
       "min    0.000000e+00 -2.305450e+01 -2.055000e-01 -5.000000e-01  6.201000e+00   \n",
       "25%    0.000000e+00 -1.952870e+01  4.030000e-01  2.486000e+01  8.529000e+00   \n",
       "50%    1.000000e+00 -1.850650e+01  5.484000e-01  3.013000e+01  8.768000e+00   \n",
       "75%    4.000000e+00 -1.718910e+01  7.890000e-01  4.221000e+01  8.937000e+00   \n",
       "max    1.038500e+04 -1.299840e+01  1.346700e+00  4.650000e+01  9.759000e+00   \n",
       "\n",
       "       des_asahi_full_g_true  des_asahi_full_r_true  des_asahi_full_i_true  \\\n",
       "count           1.951650e+06           1.951650e+06           1.951650e+06   \n",
       "mean            2.447747e+01           2.394322e+01           2.357304e+01   \n",
       "std             1.139399e+00           1.197318e+00           1.215486e+00   \n",
       "min             1.553900e+01           1.450300e+01           1.410700e+01   \n",
       "25%             2.394700e+01           2.342000e+01           2.299300e+01   \n",
       "50%             2.467100e+01           2.427300e+01           2.391800e+01   \n",
       "75%             2.522900e+01           2.478500e+01           2.447000e+01   \n",
       "max             2.883000e+01           2.649200e+01           2.499900e+01   \n",
       "\n",
       "       des_asahi_full_z_true  logf_halpha_ext  \n",
       "count           1.951650e+06     1.951650e+06  \n",
       "mean            2.332859e+01    -1.543428e+01  \n",
       "std             1.227938e+00     5.098724e-01  \n",
       "min             1.375200e+01    -1.845200e+01  \n",
       "25%             2.272500e+01    -1.573100e+01  \n",
       "50%             2.362500e+01    -1.541700e+01  \n",
       "75%             2.424200e+01    -1.510900e+01  \n",
       "max             2.512200e+01    -1.277600e+01  "
      ]
     },
     "execution_count": 246,
     "metadata": {},
     "output_type": "execute_result"
    }
   ],
   "source": [
    "galaxy_sample.describe()"
   ]
  },
  {
   "cell_type": "code",
   "execution_count": 247,
   "metadata": {
    "collapsed": false
   },
   "outputs": [
    {
     "name": "stdout",
     "output_type": "stream",
     "text": [
      "<class 'pandas.core.frame.DataFrame'>\n",
      "Int64Index: 1951650 entries, 28581888 to 63993856\n",
      "Data columns (total 20 columns):\n",
      "unique_halo_id           int64\n",
      "ra_gal                   float64\n",
      "dec_gal                  float64\n",
      "z_cgal_v                 float64\n",
      "z_cgal                   float64\n",
      "vxgal                    float64\n",
      "vygal                    float64\n",
      "vzgal                    float64\n",
      "flag_central             int64\n",
      "lmhalo                   float64\n",
      "nsats                    int64\n",
      "mr_gal                   float64\n",
      "gr_gal                   float64\n",
      "sed_cos                  float64\n",
      "metallicity              float64\n",
      "des_asahi_full_g_true    float64\n",
      "des_asahi_full_r_true    float64\n",
      "des_asahi_full_i_true    float64\n",
      "des_asahi_full_z_true    float64\n",
      "logf_halpha_ext          float64\n",
      "dtypes: float64(17), int64(3)\n",
      "memory usage: 312.7 MB\n"
     ]
    }
   ],
   "source": [
    "galaxy_sample.info()"
   ]
  },
  {
   "cell_type": "code",
   "execution_count": 248,
   "metadata": {
    "collapsed": true
   },
   "outputs": [],
   "source": [
    "galaxy_sample_bz2 = pd.read_csv(filename_bz2, sep=',', index_col = unique_gal_id_field, comment='#', na_values = '\\N')"
   ]
  },
  {
   "cell_type": "code",
   "execution_count": 63,
   "metadata": {
    "collapsed": false
   },
   "outputs": [
    {
     "data": {
      "text/html": [
       "<div>\n",
       "<table border=\"1\" class=\"dataframe\">\n",
       "  <thead>\n",
       "    <tr style=\"text-align: right;\">\n",
       "      <th></th>\n",
       "      <th>unique_halo_id</th>\n",
       "      <th>ra_gal</th>\n",
       "      <th>dec_gal</th>\n",
       "      <th>z_cgal_v</th>\n",
       "      <th>z_cgal</th>\n",
       "      <th>vxgal</th>\n",
       "      <th>vygal</th>\n",
       "      <th>vzgal</th>\n",
       "      <th>flag_central</th>\n",
       "      <th>lmhalo</th>\n",
       "      <th>nsats</th>\n",
       "      <th>mr_gal</th>\n",
       "      <th>gr_gal</th>\n",
       "      <th>sed_cos</th>\n",
       "      <th>metallicity</th>\n",
       "      <th>des_asahi_full_g_true</th>\n",
       "      <th>des_asahi_full_r_true</th>\n",
       "      <th>des_asahi_full_i_true</th>\n",
       "      <th>des_asahi_full_z_true</th>\n",
       "      <th>logf_halpha_ext</th>\n",
       "    </tr>\n",
       "    <tr>\n",
       "      <th>unique_gal_id</th>\n",
       "      <th></th>\n",
       "      <th></th>\n",
       "      <th></th>\n",
       "      <th></th>\n",
       "      <th></th>\n",
       "      <th></th>\n",
       "      <th></th>\n",
       "      <th></th>\n",
       "      <th></th>\n",
       "      <th></th>\n",
       "      <th></th>\n",
       "      <th></th>\n",
       "      <th></th>\n",
       "      <th></th>\n",
       "      <th></th>\n",
       "      <th></th>\n",
       "      <th></th>\n",
       "      <th></th>\n",
       "      <th></th>\n",
       "      <th></th>\n",
       "    </tr>\n",
       "  </thead>\n",
       "  <tbody>\n",
       "    <tr>\n",
       "      <th>28581888</th>\n",
       "      <td>6813671</td>\n",
       "      <td>6.322946</td>\n",
       "      <td>25.820680</td>\n",
       "      <td>0.30894</td>\n",
       "      <td>0.30917</td>\n",
       "      <td>-944.0</td>\n",
       "      <td>106.0</td>\n",
       "      <td>-126.0</td>\n",
       "      <td>1</td>\n",
       "      <td>13.5638</td>\n",
       "      <td>217</td>\n",
       "      <td>-18.8790</td>\n",
       "      <td>0.8683</td>\n",
       "      <td>1.49</td>\n",
       "      <td>9.204</td>\n",
       "      <td>22.708</td>\n",
       "      <td>21.427</td>\n",
       "      <td>21.002</td>\n",
       "      <td>20.795</td>\n",
       "      <td>-16.372</td>\n",
       "    </tr>\n",
       "    <tr>\n",
       "      <th>6513920</th>\n",
       "      <td>583531</td>\n",
       "      <td>31.918837</td>\n",
       "      <td>63.028902</td>\n",
       "      <td>0.21009</td>\n",
       "      <td>0.20998</td>\n",
       "      <td>-191.0</td>\n",
       "      <td>171.0</td>\n",
       "      <td>10.0</td>\n",
       "      <td>0</td>\n",
       "      <td>11.5184</td>\n",
       "      <td>3</td>\n",
       "      <td>-19.1841</td>\n",
       "      <td>0.4690</td>\n",
       "      <td>26.30</td>\n",
       "      <td>8.738</td>\n",
       "      <td>20.562</td>\n",
       "      <td>19.997</td>\n",
       "      <td>19.780</td>\n",
       "      <td>19.608</td>\n",
       "      <td>-14.172</td>\n",
       "    </tr>\n",
       "    <tr>\n",
       "      <th>28066816</th>\n",
       "      <td>6705885</td>\n",
       "      <td>2.814453</td>\n",
       "      <td>31.387212</td>\n",
       "      <td>0.28243</td>\n",
       "      <td>0.28162</td>\n",
       "      <td>-325.0</td>\n",
       "      <td>127.0</td>\n",
       "      <td>184.0</td>\n",
       "      <td>0</td>\n",
       "      <td>11.8192</td>\n",
       "      <td>3</td>\n",
       "      <td>-19.7774</td>\n",
       "      <td>0.6869</td>\n",
       "      <td>30.91</td>\n",
       "      <td>8.699</td>\n",
       "      <td>21.248</td>\n",
       "      <td>20.235</td>\n",
       "      <td>19.855</td>\n",
       "      <td>19.578</td>\n",
       "      <td>-14.408</td>\n",
       "    </tr>\n",
       "    <tr>\n",
       "      <th>31695360</th>\n",
       "      <td>7690292</td>\n",
       "      <td>11.170244</td>\n",
       "      <td>52.128139</td>\n",
       "      <td>0.53018</td>\n",
       "      <td>0.52944</td>\n",
       "      <td>88.0</td>\n",
       "      <td>35.0</td>\n",
       "      <td>143.0</td>\n",
       "      <td>0</td>\n",
       "      <td>12.1493</td>\n",
       "      <td>5</td>\n",
       "      <td>-20.4820</td>\n",
       "      <td>0.9445</td>\n",
       "      <td>10.57</td>\n",
       "      <td>9.051</td>\n",
       "      <td>23.285</td>\n",
       "      <td>21.732</td>\n",
       "      <td>20.991</td>\n",
       "      <td>20.590</td>\n",
       "      <td>-15.789</td>\n",
       "    </tr>\n",
       "    <tr>\n",
       "      <th>20980480</th>\n",
       "      <td>4143780</td>\n",
       "      <td>5.683928</td>\n",
       "      <td>60.137498</td>\n",
       "      <td>0.35974</td>\n",
       "      <td>0.36004</td>\n",
       "      <td>-223.0</td>\n",
       "      <td>69.0</td>\n",
       "      <td>-103.0</td>\n",
       "      <td>1</td>\n",
       "      <td>11.4320</td>\n",
       "      <td>2</td>\n",
       "      <td>-16.2978</td>\n",
       "      <td>0.4299</td>\n",
       "      <td>45.26</td>\n",
       "      <td>8.343</td>\n",
       "      <td>24.508</td>\n",
       "      <td>24.086</td>\n",
       "      <td>24.031</td>\n",
       "      <td>23.968</td>\n",
       "      <td>-15.527</td>\n",
       "    </tr>\n",
       "  </tbody>\n",
       "</table>\n",
       "</div>"
      ],
      "text/plain": [
       "               unique_halo_id     ra_gal    dec_gal  z_cgal_v   z_cgal  vxgal  \\\n",
       "unique_gal_id                                                                   \n",
       "28581888              6813671   6.322946  25.820680   0.30894  0.30917 -944.0   \n",
       "6513920                583531  31.918837  63.028902   0.21009  0.20998 -191.0   \n",
       "28066816              6705885   2.814453  31.387212   0.28243  0.28162 -325.0   \n",
       "31695360              7690292  11.170244  52.128139   0.53018  0.52944   88.0   \n",
       "20980480              4143780   5.683928  60.137498   0.35974  0.36004 -223.0   \n",
       "\n",
       "               vygal  vzgal  flag_central   lmhalo  nsats   mr_gal  gr_gal  \\\n",
       "unique_gal_id                                                                \n",
       "28581888       106.0 -126.0             1  13.5638    217 -18.8790  0.8683   \n",
       "6513920        171.0   10.0             0  11.5184      3 -19.1841  0.4690   \n",
       "28066816       127.0  184.0             0  11.8192      3 -19.7774  0.6869   \n",
       "31695360        35.0  143.0             0  12.1493      5 -20.4820  0.9445   \n",
       "20980480        69.0 -103.0             1  11.4320      2 -16.2978  0.4299   \n",
       "\n",
       "               sed_cos  metallicity  des_asahi_full_g_true  \\\n",
       "unique_gal_id                                                \n",
       "28581888          1.49        9.204                 22.708   \n",
       "6513920          26.30        8.738                 20.562   \n",
       "28066816         30.91        8.699                 21.248   \n",
       "31695360         10.57        9.051                 23.285   \n",
       "20980480         45.26        8.343                 24.508   \n",
       "\n",
       "               des_asahi_full_r_true  des_asahi_full_i_true  \\\n",
       "unique_gal_id                                                 \n",
       "28581888                      21.427                 21.002   \n",
       "6513920                       19.997                 19.780   \n",
       "28066816                      20.235                 19.855   \n",
       "31695360                      21.732                 20.991   \n",
       "20980480                      24.086                 24.031   \n",
       "\n",
       "               des_asahi_full_z_true  logf_halpha_ext  \n",
       "unique_gal_id                                          \n",
       "28581888                      20.795          -16.372  \n",
       "6513920                       19.608          -14.172  \n",
       "28066816                      19.578          -14.408  \n",
       "31695360                      20.590          -15.789  \n",
       "20980480                      23.968          -15.527  "
      ]
     },
     "execution_count": 63,
     "metadata": {},
     "output_type": "execute_result"
    }
   ],
   "source": [
    "galaxy_sample_bz2.head()"
   ]
  },
  {
   "cell_type": "markdown",
   "metadata": {},
   "source": [
    "#### [FITS file](https://fits.gsfc.nasa.gov/):\n",
    "\n",
    "- Pandas does not read directly FITS files so it is necessary to make some \"convertion\"\n",
    "\n",
    "- We have found 2 different approaches:\n",
    " - [Table](http://docs.astropy.org/en/stable/io/fits/usage/table.html) method from astropy [pyfits](https://pythonhosted.org/pyfits/)\n",
    " - fitsio (see \"Caveats and technicalities\" section below)\n",
    "\n",
    "- Not easy to read it by chunks (see also \"Caveats and technicalities\" section below)\n",
    "\n",
    "- Note: we strongly recommend to use CSV.BZ2!"
   ]
  },
  {
   "cell_type": "markdown",
   "metadata": {},
   "source": [
    "#### Using astropy (or pyfits)\n",
    "\n",
    "- This method does not support \"by chunks\" and therefore you have to read it all at once"
   ]
  },
  {
   "cell_type": "code",
   "execution_count": 250,
   "metadata": {
    "collapsed": true
   },
   "outputs": [],
   "source": [
    "from astropy.table import Table"
   ]
  },
  {
   "cell_type": "markdown",
   "metadata": {},
   "source": [
    "FITS file created using the same query as the CSV file:\n",
    "``` \n",
    "SELECT `unique_gal_id`, `unique_halo_id`, `ra_gal`, `dec_gal`, `z_cgal_v`, `z_cgal`, `vxgal`, `vygal`, `vzgal`, `flag_central`, `lmhalo`, `nsats`, `mr_gal`, `gr_gal`, `sed_cos`, `metallicity`, `des_asahi_full_g_true`, `des_asahi_full_r_true`, `des_asahi_full_i_true`, `des_asahi_full_z_true`, `logf_halpha_ext` FROM micecatv2_0_view TABLESAMPLE (BUCKET 1 OUT OF 256)\n",
    "```"
   ]
  },
  {
   "cell_type": "code",
   "execution_count": 251,
   "metadata": {
    "collapsed": true
   },
   "outputs": [],
   "source": [
    "filename = '/nfs/astro/jcarrete/sandbox/curso_python/1205.fits'"
   ]
  },
  {
   "cell_type": "code",
   "execution_count": 252,
   "metadata": {
    "collapsed": true
   },
   "outputs": [],
   "source": [
    "#?Table.read()"
   ]
  },
  {
   "cell_type": "code",
   "execution_count": 253,
   "metadata": {
    "collapsed": false
   },
   "outputs": [],
   "source": [
    "data = Table.read(filename)"
   ]
  },
  {
   "cell_type": "code",
   "execution_count": 254,
   "metadata": {
    "collapsed": false
   },
   "outputs": [
    {
     "data": {
      "text/plain": [
       "astropy.table.table.Table"
      ]
     },
     "execution_count": 254,
     "metadata": {},
     "output_type": "execute_result"
    }
   ],
   "source": [
    "type(data)"
   ]
  },
  {
   "cell_type": "code",
   "execution_count": 255,
   "metadata": {
    "collapsed": true
   },
   "outputs": [],
   "source": [
    "df = data.to_pandas()"
   ]
  },
  {
   "cell_type": "code",
   "execution_count": 256,
   "metadata": {
    "collapsed": false
   },
   "outputs": [
    {
     "data": {
      "text/html": [
       "<div>\n",
       "<table border=\"1\" class=\"dataframe\">\n",
       "  <thead>\n",
       "    <tr style=\"text-align: right;\">\n",
       "      <th></th>\n",
       "      <th>unique_gal_id</th>\n",
       "      <th>unique_halo_id</th>\n",
       "      <th>ra_gal</th>\n",
       "      <th>dec_gal</th>\n",
       "      <th>z_cgal_v</th>\n",
       "      <th>z_cgal</th>\n",
       "      <th>vxgal</th>\n",
       "      <th>vygal</th>\n",
       "      <th>vzgal</th>\n",
       "      <th>flag_central</th>\n",
       "      <th>...</th>\n",
       "      <th>nsats</th>\n",
       "      <th>mr_gal</th>\n",
       "      <th>gr_gal</th>\n",
       "      <th>sed_cos</th>\n",
       "      <th>metallicity</th>\n",
       "      <th>des_asahi_full_g_true</th>\n",
       "      <th>des_asahi_full_r_true</th>\n",
       "      <th>des_asahi_full_i_true</th>\n",
       "      <th>des_asahi_full_z_true</th>\n",
       "      <th>logf_halpha_ext</th>\n",
       "    </tr>\n",
       "  </thead>\n",
       "  <tbody>\n",
       "    <tr>\n",
       "      <th>0</th>\n",
       "      <td>244758784</td>\n",
       "      <td>112325853</td>\n",
       "      <td>72.523910</td>\n",
       "      <td>56.679344</td>\n",
       "      <td>1.33412</td>\n",
       "      <td>1.33596</td>\n",
       "      <td>-160.0</td>\n",
       "      <td>-227.0</td>\n",
       "      <td>-139.0</td>\n",
       "      <td>0</td>\n",
       "      <td>...</td>\n",
       "      <td>0</td>\n",
       "      <td>-19.831100</td>\n",
       "      <td>0.3665</td>\n",
       "      <td>45.150002</td>\n",
       "      <td>8.826</td>\n",
       "      <td>24.177999</td>\n",
       "      <td>24.048000</td>\n",
       "      <td>24.028000</td>\n",
       "      <td>23.679001</td>\n",
       "      <td>-15.038</td>\n",
       "    </tr>\n",
       "    <tr>\n",
       "      <th>1</th>\n",
       "      <td>240024064</td>\n",
       "      <td>109652573</td>\n",
       "      <td>83.130765</td>\n",
       "      <td>51.886039</td>\n",
       "      <td>1.23614</td>\n",
       "      <td>1.23616</td>\n",
       "      <td>-220.0</td>\n",
       "      <td>-36.0</td>\n",
       "      <td>171.0</td>\n",
       "      <td>0</td>\n",
       "      <td>...</td>\n",
       "      <td>0</td>\n",
       "      <td>-19.933399</td>\n",
       "      <td>0.5635</td>\n",
       "      <td>41.070000</td>\n",
       "      <td>9.302</td>\n",
       "      <td>24.416000</td>\n",
       "      <td>24.280001</td>\n",
       "      <td>24.097000</td>\n",
       "      <td>23.438000</td>\n",
       "      <td>-15.337</td>\n",
       "    </tr>\n",
       "    <tr>\n",
       "      <th>2</th>\n",
       "      <td>238642688</td>\n",
       "      <td>108797736</td>\n",
       "      <td>80.228331</td>\n",
       "      <td>38.759545</td>\n",
       "      <td>0.81996</td>\n",
       "      <td>0.82127</td>\n",
       "      <td>-334.0</td>\n",
       "      <td>239.0</td>\n",
       "      <td>16.0</td>\n",
       "      <td>0</td>\n",
       "      <td>...</td>\n",
       "      <td>0</td>\n",
       "      <td>-19.417200</td>\n",
       "      <td>0.5389</td>\n",
       "      <td>28.459999</td>\n",
       "      <td>8.913</td>\n",
       "      <td>23.792999</td>\n",
       "      <td>23.555000</td>\n",
       "      <td>22.983000</td>\n",
       "      <td>22.868000</td>\n",
       "      <td>-15.027</td>\n",
       "    </tr>\n",
       "    <tr>\n",
       "      <th>3</th>\n",
       "      <td>244315136</td>\n",
       "      <td>112008889</td>\n",
       "      <td>72.866419</td>\n",
       "      <td>48.212783</td>\n",
       "      <td>1.12479</td>\n",
       "      <td>1.12840</td>\n",
       "      <td>-471.0</td>\n",
       "      <td>40.0</td>\n",
       "      <td>-293.0</td>\n",
       "      <td>1</td>\n",
       "      <td>...</td>\n",
       "      <td>4</td>\n",
       "      <td>-18.857800</td>\n",
       "      <td>0.8112</td>\n",
       "      <td>45.779999</td>\n",
       "      <td>8.819</td>\n",
       "      <td>25.923000</td>\n",
       "      <td>25.257000</td>\n",
       "      <td>24.898001</td>\n",
       "      <td>24.395000</td>\n",
       "      <td>-15.184</td>\n",
       "    </tr>\n",
       "    <tr>\n",
       "      <th>4</th>\n",
       "      <td>238639360</td>\n",
       "      <td>108796187</td>\n",
       "      <td>79.762140</td>\n",
       "      <td>38.834107</td>\n",
       "      <td>0.81580</td>\n",
       "      <td>0.81729</td>\n",
       "      <td>-760.0</td>\n",
       "      <td>423.0</td>\n",
       "      <td>442.0</td>\n",
       "      <td>1</td>\n",
       "      <td>...</td>\n",
       "      <td>1</td>\n",
       "      <td>-17.753599</td>\n",
       "      <td>0.8610</td>\n",
       "      <td>22.120001</td>\n",
       "      <td>8.660</td>\n",
       "      <td>26.025999</td>\n",
       "      <td>25.570999</td>\n",
       "      <td>24.780001</td>\n",
       "      <td>24.552000</td>\n",
       "      <td>-16.226</td>\n",
       "    </tr>\n",
       "  </tbody>\n",
       "</table>\n",
       "<p>5 rows × 21 columns</p>\n",
       "</div>"
      ],
      "text/plain": [
       "   unique_gal_id  unique_halo_id     ra_gal    dec_gal  z_cgal_v   z_cgal  \\\n",
       "0      244758784       112325853  72.523910  56.679344   1.33412  1.33596   \n",
       "1      240024064       109652573  83.130765  51.886039   1.23614  1.23616   \n",
       "2      238642688       108797736  80.228331  38.759545   0.81996  0.82127   \n",
       "3      244315136       112008889  72.866419  48.212783   1.12479  1.12840   \n",
       "4      238639360       108796187  79.762140  38.834107   0.81580  0.81729   \n",
       "\n",
       "   vxgal  vygal  vzgal  flag_central       ...         nsats     mr_gal  \\\n",
       "0 -160.0 -227.0 -139.0             0       ...             0 -19.831100   \n",
       "1 -220.0  -36.0  171.0             0       ...             0 -19.933399   \n",
       "2 -334.0  239.0   16.0             0       ...             0 -19.417200   \n",
       "3 -471.0   40.0 -293.0             1       ...             4 -18.857800   \n",
       "4 -760.0  423.0  442.0             1       ...             1 -17.753599   \n",
       "\n",
       "   gr_gal    sed_cos  metallicity  des_asahi_full_g_true  \\\n",
       "0  0.3665  45.150002        8.826              24.177999   \n",
       "1  0.5635  41.070000        9.302              24.416000   \n",
       "2  0.5389  28.459999        8.913              23.792999   \n",
       "3  0.8112  45.779999        8.819              25.923000   \n",
       "4  0.8610  22.120001        8.660              26.025999   \n",
       "\n",
       "   des_asahi_full_r_true  des_asahi_full_i_true  des_asahi_full_z_true  \\\n",
       "0              24.048000              24.028000              23.679001   \n",
       "1              24.280001              24.097000              23.438000   \n",
       "2              23.555000              22.983000              22.868000   \n",
       "3              25.257000              24.898001              24.395000   \n",
       "4              25.570999              24.780001              24.552000   \n",
       "\n",
       "   logf_halpha_ext  \n",
       "0          -15.038  \n",
       "1          -15.337  \n",
       "2          -15.027  \n",
       "3          -15.184  \n",
       "4          -16.226  \n",
       "\n",
       "[5 rows x 21 columns]"
      ]
     },
     "execution_count": 256,
     "metadata": {},
     "output_type": "execute_result"
    }
   ],
   "source": [
    "df.head()"
   ]
  },
  {
   "cell_type": "code",
   "execution_count": 257,
   "metadata": {
    "collapsed": false
   },
   "outputs": [],
   "source": [
    "df = df.set_index('unique_gal_id')"
   ]
  },
  {
   "cell_type": "code",
   "execution_count": 259,
   "metadata": {
    "collapsed": false
   },
   "outputs": [
    {
     "data": {
      "text/html": [
       "<div>\n",
       "<table border=\"1\" class=\"dataframe\">\n",
       "  <thead>\n",
       "    <tr style=\"text-align: right;\">\n",
       "      <th></th>\n",
       "      <th>unique_halo_id</th>\n",
       "      <th>ra_gal</th>\n",
       "      <th>dec_gal</th>\n",
       "      <th>z_cgal_v</th>\n",
       "      <th>z_cgal</th>\n",
       "      <th>vxgal</th>\n",
       "      <th>vygal</th>\n",
       "      <th>vzgal</th>\n",
       "      <th>flag_central</th>\n",
       "      <th>lmhalo</th>\n",
       "      <th>nsats</th>\n",
       "      <th>mr_gal</th>\n",
       "      <th>gr_gal</th>\n",
       "      <th>sed_cos</th>\n",
       "      <th>metallicity</th>\n",
       "      <th>des_asahi_full_g_true</th>\n",
       "      <th>des_asahi_full_r_true</th>\n",
       "      <th>des_asahi_full_i_true</th>\n",
       "      <th>des_asahi_full_z_true</th>\n",
       "      <th>logf_halpha_ext</th>\n",
       "    </tr>\n",
       "    <tr>\n",
       "      <th>unique_gal_id</th>\n",
       "      <th></th>\n",
       "      <th></th>\n",
       "      <th></th>\n",
       "      <th></th>\n",
       "      <th></th>\n",
       "      <th></th>\n",
       "      <th></th>\n",
       "      <th></th>\n",
       "      <th></th>\n",
       "      <th></th>\n",
       "      <th></th>\n",
       "      <th></th>\n",
       "      <th></th>\n",
       "      <th></th>\n",
       "      <th></th>\n",
       "      <th></th>\n",
       "      <th></th>\n",
       "      <th></th>\n",
       "      <th></th>\n",
       "      <th></th>\n",
       "    </tr>\n",
       "  </thead>\n",
       "  <tbody>\n",
       "    <tr>\n",
       "      <th>244758784</th>\n",
       "      <td>112325853</td>\n",
       "      <td>72.523910</td>\n",
       "      <td>56.679344</td>\n",
       "      <td>1.33412</td>\n",
       "      <td>1.33596</td>\n",
       "      <td>-160.0</td>\n",
       "      <td>-227.0</td>\n",
       "      <td>-139.0</td>\n",
       "      <td>0</td>\n",
       "      <td>11.8079</td>\n",
       "      <td>0</td>\n",
       "      <td>-19.831100</td>\n",
       "      <td>0.3665</td>\n",
       "      <td>45.150002</td>\n",
       "      <td>8.826</td>\n",
       "      <td>24.177999</td>\n",
       "      <td>24.048000</td>\n",
       "      <td>24.028000</td>\n",
       "      <td>23.679001</td>\n",
       "      <td>-15.038</td>\n",
       "    </tr>\n",
       "    <tr>\n",
       "      <th>240024064</th>\n",
       "      <td>109652573</td>\n",
       "      <td>83.130765</td>\n",
       "      <td>51.886039</td>\n",
       "      <td>1.23614</td>\n",
       "      <td>1.23616</td>\n",
       "      <td>-220.0</td>\n",
       "      <td>-36.0</td>\n",
       "      <td>171.0</td>\n",
       "      <td>0</td>\n",
       "      <td>11.8553</td>\n",
       "      <td>0</td>\n",
       "      <td>-19.933399</td>\n",
       "      <td>0.5635</td>\n",
       "      <td>41.070000</td>\n",
       "      <td>9.302</td>\n",
       "      <td>24.416000</td>\n",
       "      <td>24.280001</td>\n",
       "      <td>24.097000</td>\n",
       "      <td>23.438000</td>\n",
       "      <td>-15.337</td>\n",
       "    </tr>\n",
       "    <tr>\n",
       "      <th>238642688</th>\n",
       "      <td>108797736</td>\n",
       "      <td>80.228331</td>\n",
       "      <td>38.759545</td>\n",
       "      <td>0.81996</td>\n",
       "      <td>0.82127</td>\n",
       "      <td>-334.0</td>\n",
       "      <td>239.0</td>\n",
       "      <td>16.0</td>\n",
       "      <td>0</td>\n",
       "      <td>11.6094</td>\n",
       "      <td>0</td>\n",
       "      <td>-19.417200</td>\n",
       "      <td>0.5389</td>\n",
       "      <td>28.459999</td>\n",
       "      <td>8.913</td>\n",
       "      <td>23.792999</td>\n",
       "      <td>23.555000</td>\n",
       "      <td>22.983000</td>\n",
       "      <td>22.868000</td>\n",
       "      <td>-15.027</td>\n",
       "    </tr>\n",
       "    <tr>\n",
       "      <th>244315136</th>\n",
       "      <td>112008889</td>\n",
       "      <td>72.866419</td>\n",
       "      <td>48.212783</td>\n",
       "      <td>1.12479</td>\n",
       "      <td>1.12840</td>\n",
       "      <td>-471.0</td>\n",
       "      <td>40.0</td>\n",
       "      <td>-293.0</td>\n",
       "      <td>1</td>\n",
       "      <td>12.5804</td>\n",
       "      <td>4</td>\n",
       "      <td>-18.857800</td>\n",
       "      <td>0.8112</td>\n",
       "      <td>45.779999</td>\n",
       "      <td>8.819</td>\n",
       "      <td>25.923000</td>\n",
       "      <td>25.257000</td>\n",
       "      <td>24.898001</td>\n",
       "      <td>24.395000</td>\n",
       "      <td>-15.184</td>\n",
       "    </tr>\n",
       "    <tr>\n",
       "      <th>238639360</th>\n",
       "      <td>108796187</td>\n",
       "      <td>79.762140</td>\n",
       "      <td>38.834107</td>\n",
       "      <td>0.81580</td>\n",
       "      <td>0.81729</td>\n",
       "      <td>-760.0</td>\n",
       "      <td>423.0</td>\n",
       "      <td>442.0</td>\n",
       "      <td>1</td>\n",
       "      <td>11.7356</td>\n",
       "      <td>1</td>\n",
       "      <td>-17.753599</td>\n",
       "      <td>0.8610</td>\n",
       "      <td>22.120001</td>\n",
       "      <td>8.660</td>\n",
       "      <td>26.025999</td>\n",
       "      <td>25.570999</td>\n",
       "      <td>24.780001</td>\n",
       "      <td>24.552000</td>\n",
       "      <td>-16.226</td>\n",
       "    </tr>\n",
       "  </tbody>\n",
       "</table>\n",
       "</div>"
      ],
      "text/plain": [
       "               unique_halo_id     ra_gal    dec_gal  z_cgal_v   z_cgal  vxgal  \\\n",
       "unique_gal_id                                                                   \n",
       "244758784           112325853  72.523910  56.679344   1.33412  1.33596 -160.0   \n",
       "240024064           109652573  83.130765  51.886039   1.23614  1.23616 -220.0   \n",
       "238642688           108797736  80.228331  38.759545   0.81996  0.82127 -334.0   \n",
       "244315136           112008889  72.866419  48.212783   1.12479  1.12840 -471.0   \n",
       "238639360           108796187  79.762140  38.834107   0.81580  0.81729 -760.0   \n",
       "\n",
       "               vygal  vzgal  flag_central   lmhalo  nsats     mr_gal  gr_gal  \\\n",
       "unique_gal_id                                                                  \n",
       "244758784     -227.0 -139.0             0  11.8079      0 -19.831100  0.3665   \n",
       "240024064      -36.0  171.0             0  11.8553      0 -19.933399  0.5635   \n",
       "238642688      239.0   16.0             0  11.6094      0 -19.417200  0.5389   \n",
       "244315136       40.0 -293.0             1  12.5804      4 -18.857800  0.8112   \n",
       "238639360      423.0  442.0             1  11.7356      1 -17.753599  0.8610   \n",
       "\n",
       "                 sed_cos  metallicity  des_asahi_full_g_true  \\\n",
       "unique_gal_id                                                  \n",
       "244758784      45.150002        8.826              24.177999   \n",
       "240024064      41.070000        9.302              24.416000   \n",
       "238642688      28.459999        8.913              23.792999   \n",
       "244315136      45.779999        8.819              25.923000   \n",
       "238639360      22.120001        8.660              26.025999   \n",
       "\n",
       "               des_asahi_full_r_true  des_asahi_full_i_true  \\\n",
       "unique_gal_id                                                 \n",
       "244758784                  24.048000              24.028000   \n",
       "240024064                  24.280001              24.097000   \n",
       "238642688                  23.555000              22.983000   \n",
       "244315136                  25.257000              24.898001   \n",
       "238639360                  25.570999              24.780001   \n",
       "\n",
       "               des_asahi_full_z_true  logf_halpha_ext  \n",
       "unique_gal_id                                          \n",
       "244758784                  23.679001          -15.038  \n",
       "240024064                  23.438000          -15.337  \n",
       "238642688                  22.868000          -15.027  \n",
       "244315136                  24.395000          -15.184  \n",
       "238639360                  24.552000          -16.226  "
      ]
     },
     "execution_count": 259,
     "metadata": {},
     "output_type": "execute_result"
    }
   ],
   "source": [
    "df.head()"
   ]
  },
  {
   "cell_type": "code",
   "execution_count": 260,
   "metadata": {
    "collapsed": false
   },
   "outputs": [
    {
     "data": {
      "text/plain": [
       "(1951650, 20)"
      ]
     },
     "execution_count": 260,
     "metadata": {},
     "output_type": "execute_result"
    }
   ],
   "source": [
    "df.shape"
   ]
  },
  {
   "cell_type": "code",
   "execution_count": 261,
   "metadata": {
    "collapsed": false
   },
   "outputs": [
    {
     "data": {
      "text/plain": [
       "dtype('<f8')"
      ]
     },
     "execution_count": 261,
     "metadata": {},
     "output_type": "execute_result"
    }
   ],
   "source": [
    "df.values.dtype"
   ]
  },
  {
   "cell_type": "code",
   "execution_count": 262,
   "metadata": {
    "collapsed": false
   },
   "outputs": [
    {
     "name": "stdout",
     "output_type": "stream",
     "text": [
      "<class 'pandas.core.frame.DataFrame'>\n",
      "Int64Index: 1951650 entries, 244758784 to 63993856\n",
      "Data columns (total 20 columns):\n",
      "unique_halo_id           int64\n",
      "ra_gal                   float64\n",
      "dec_gal                  float64\n",
      "z_cgal_v                 float64\n",
      "z_cgal                   float64\n",
      "vxgal                    float32\n",
      "vygal                    float32\n",
      "vzgal                    float32\n",
      "flag_central             int32\n",
      "lmhalo                   float32\n",
      "nsats                    int32\n",
      "mr_gal                   float32\n",
      "gr_gal                   float32\n",
      "sed_cos                  float32\n",
      "metallicity              float32\n",
      "des_asahi_full_g_true    float32\n",
      "des_asahi_full_r_true    float32\n",
      "des_asahi_full_i_true    float32\n",
      "des_asahi_full_z_true    float32\n",
      "logf_halpha_ext          float32\n",
      "dtypes: float32(13), float64(4), int32(2), int64(1)\n",
      "memory usage: 201.0 MB\n"
     ]
    }
   ],
   "source": [
    "df.info()"
   ]
  },
  {
   "cell_type": "markdown",
   "metadata": {},
   "source": [
    "#### - From Database:\n",
    "\n",
    "https://pandas.pydata.org/pandas-docs/stable/generated/pandas.read_sql.html"
   ]
  },
  {
   "cell_type": "code",
   "execution_count": 76,
   "metadata": {
    "collapsed": true
   },
   "outputs": [],
   "source": [
    "# For PostgreSQL access\n",
    "from sqlalchemy.engine import create_engine\n",
    "# Text wrapping\n",
    "import textwrap"
   ]
  },
  {
   "cell_type": "code",
   "execution_count": 275,
   "metadata": {
    "collapsed": false
   },
   "outputs": [],
   "source": [
    "# Database configuration parameters\n",
    "#db_url = '{scheme}://{user}:{password}@{host}/{database}'\n",
    "db_url = 'sqlite:////nfs/astro/jcarrete/sandbox/curso_python/pandas.sqlite'\n",
    "\n",
    "sql_sample = textwrap.dedent(\"\"\"\\\n",
    "SELECT *\n",
    "FROM micecatv1\n",
    "WHERE ABS(ra_mag-ra) > 0.05\n",
    "\"\"\")\n",
    "\n",
    "index_col = 'id'"
   ]
  },
  {
   "cell_type": "code",
   "execution_count": 276,
   "metadata": {
    "collapsed": false
   },
   "outputs": [],
   "source": [
    "# Create database connection\n",
    "engine = create_engine(db_url)\n",
    "df = pd.read_sql(sql_sample, engine,index_col = 'id')"
   ]
  },
  {
   "cell_type": "code",
   "execution_count": 277,
   "metadata": {
    "collapsed": false
   },
   "outputs": [
    {
     "data": {
      "text/html": [
       "<div>\n",
       "<table border=\"1\" class=\"dataframe\">\n",
       "  <thead>\n",
       "    <tr style=\"text-align: right;\">\n",
       "      <th></th>\n",
       "      <th>ra</th>\n",
       "      <th>dec</th>\n",
       "      <th>ra_mag</th>\n",
       "      <th>dec_mag</th>\n",
       "    </tr>\n",
       "    <tr>\n",
       "      <th>id</th>\n",
       "      <th></th>\n",
       "      <th></th>\n",
       "      <th></th>\n",
       "      <th></th>\n",
       "    </tr>\n",
       "  </thead>\n",
       "  <tbody>\n",
       "    <tr>\n",
       "      <th>12127906</th>\n",
       "      <td>29.710205</td>\n",
       "      <td>81.697731</td>\n",
       "      <td>29.830847</td>\n",
       "      <td>81.685196</td>\n",
       "    </tr>\n",
       "    <tr>\n",
       "      <th>12127907</th>\n",
       "      <td>29.94643</td>\n",
       "      <td>81.650085</td>\n",
       "      <td>30.069408</td>\n",
       "      <td>81.637154</td>\n",
       "    </tr>\n",
       "    <tr>\n",
       "      <th>12127908</th>\n",
       "      <td>28.911779</td>\n",
       "      <td>81.660011</td>\n",
       "      <td>29.037128</td>\n",
       "      <td>81.647942</td>\n",
       "    </tr>\n",
       "    <tr>\n",
       "      <th>12127909</th>\n",
       "      <td>29.008251</td>\n",
       "      <td>81.665115</td>\n",
       "      <td>29.130402</td>\n",
       "      <td>81.65284</td>\n",
       "    </tr>\n",
       "    <tr>\n",
       "      <th>12127910</th>\n",
       "      <td>28.810217</td>\n",
       "      <td>81.616325</td>\n",
       "      <td>28.933874</td>\n",
       "      <td>81.604515</td>\n",
       "    </tr>\n",
       "  </tbody>\n",
       "</table>\n",
       "</div>"
      ],
      "text/plain": [
       "                 ra        dec     ra_mag    dec_mag\n",
       "id                                                  \n",
       "12127906  29.710205  81.697731  29.830847  81.685196\n",
       "12127907   29.94643  81.650085  30.069408  81.637154\n",
       "12127908  28.911779  81.660011  29.037128  81.647942\n",
       "12127909  29.008251  81.665115  29.130402   81.65284\n",
       "12127910  28.810217  81.616325  28.933874  81.604515"
      ]
     },
     "execution_count": 277,
     "metadata": {},
     "output_type": "execute_result"
    }
   ],
   "source": [
    "df.head()"
   ]
  },
  {
   "cell_type": "markdown",
   "metadata": {},
   "source": [
    "#### Write to csv file:"
   ]
  },
  {
   "cell_type": "code",
   "execution_count": 273,
   "metadata": {
    "collapsed": false
   },
   "outputs": [],
   "source": [
    "outfile = '/nfs/astro/jcarrete/sandbox/curso_python/micecatv1_sample1.csv'"
   ]
  },
  {
   "cell_type": "code",
   "execution_count": 274,
   "metadata": {
    "collapsed": false
   },
   "outputs": [],
   "source": [
    "with open(outfile, 'w') as f_out:\n",
    "    df.to_csv(f_out,\n",
    "              columns = ['ra', 'dec','ra_mag','dec_mag'],\n",
    "              index=True,\n",
    "              header=True\n",
    "             )"
   ]
  },
  {
   "cell_type": "markdown",
   "metadata": {},
   "source": [
    "#### Advanced example: Reading and writing by chunks"
   ]
  },
  {
   "cell_type": "code",
   "execution_count": 216,
   "metadata": {
    "collapsed": true
   },
   "outputs": [],
   "source": [
    "filename = '/nfs/astro/jcarrete/sandbox/curso_python/1203.csv'\n",
    "outfile = '/nfs/astro/jcarrete/sandbox/curso_python/1023_some_columns.csv'"
   ]
  },
  {
   "cell_type": "code",
   "execution_count": 217,
   "metadata": {
    "collapsed": true
   },
   "outputs": [],
   "source": [
    "# chunk size\n",
    "gal_chunk = 300000"
   ]
  },
  {
   "cell_type": "code",
   "execution_count": 218,
   "metadata": {
    "collapsed": true
   },
   "outputs": [],
   "source": [
    "# Field index name (known a priori from the header or the file description)\n",
    "unique_gal_id_field = 'unique_gal_id'"
   ]
  },
  {
   "cell_type": "markdown",
   "metadata": {},
   "source": [
    "- Opening file with the *with* method\n",
    "\n",
    "- Creating a file object using [read_csv](<https://pandas.pydata.org/pandas-docs/stable/generated/pandas.read_csv.html>) method\n",
    "\n",
    "- Looping by chunks using enumerate in order to also have the chunk number"
   ]
  },
  {
   "cell_type": "code",
   "execution_count": 219,
   "metadata": {
    "collapsed": false
   },
   "outputs": [
    {
     "name": "stdout",
     "output_type": "stream",
     "text": [
      "0\n",
      "1\n",
      "2\n",
      "3\n",
      "4\n",
      "5\n",
      "6\n"
     ]
    }
   ],
   "source": [
    "with open(filename, 'r') as galaxy_fd, open (outfile, 'w') as f_out:\n",
    "    galaxy_sample_reader = pd.read_csv(\n",
    "        galaxy_fd, \n",
    "        sep=',', \n",
    "        index_col = unique_gal_id_field, \n",
    "        comment='#', \n",
    "        na_values = '\\N', \n",
    "        chunksize=gal_chunk\n",
    "    )\n",
    "    for chunk, block in enumerate(galaxy_sample_reader):\n",
    "        print chunk\n",
    "        # In order not to write n chunk times the header (HELP PAU!)\n",
    "        block.to_csv(f_out, \n",
    "            columns = ['ra_gal','dec_gal','z_cgal_v'], \n",
    "            index=True, \n",
    "            header= chunk==0, \n",
    "            mode='a'\n",
    "       )"
   ]
  },
  {
   "cell_type": "code",
   "execution_count": 86,
   "metadata": {
    "collapsed": false
   },
   "outputs": [
    {
     "data": {
      "text/html": [
       "<div>\n",
       "<table border=\"1\" class=\"dataframe\">\n",
       "  <thead>\n",
       "    <tr style=\"text-align: right;\">\n",
       "      <th></th>\n",
       "      <th>unique_halo_id</th>\n",
       "      <th>ra_gal</th>\n",
       "      <th>dec_gal</th>\n",
       "      <th>z_cgal_v</th>\n",
       "      <th>z_cgal</th>\n",
       "      <th>vxgal</th>\n",
       "      <th>vygal</th>\n",
       "      <th>vzgal</th>\n",
       "      <th>flag_central</th>\n",
       "      <th>lmhalo</th>\n",
       "      <th>nsats</th>\n",
       "      <th>mr_gal</th>\n",
       "      <th>gr_gal</th>\n",
       "      <th>sed_cos</th>\n",
       "      <th>metallicity</th>\n",
       "      <th>des_asahi_full_g_true</th>\n",
       "      <th>des_asahi_full_r_true</th>\n",
       "      <th>des_asahi_full_i_true</th>\n",
       "      <th>des_asahi_full_z_true</th>\n",
       "      <th>logf_halpha_ext</th>\n",
       "    </tr>\n",
       "    <tr>\n",
       "      <th>unique_gal_id</th>\n",
       "      <th></th>\n",
       "      <th></th>\n",
       "      <th></th>\n",
       "      <th></th>\n",
       "      <th></th>\n",
       "      <th></th>\n",
       "      <th></th>\n",
       "      <th></th>\n",
       "      <th></th>\n",
       "      <th></th>\n",
       "      <th></th>\n",
       "      <th></th>\n",
       "      <th></th>\n",
       "      <th></th>\n",
       "      <th></th>\n",
       "      <th></th>\n",
       "      <th></th>\n",
       "      <th></th>\n",
       "      <th></th>\n",
       "      <th></th>\n",
       "    </tr>\n",
       "  </thead>\n",
       "  <tbody>\n",
       "    <tr>\n",
       "      <th>218764032</th>\n",
       "      <td>96846802</td>\n",
       "      <td>59.788717</td>\n",
       "      <td>51.396742</td>\n",
       "      <td>1.10909</td>\n",
       "      <td>1.10875</td>\n",
       "      <td>-341.0</td>\n",
       "      <td>3.0</td>\n",
       "      <td>297.0</td>\n",
       "      <td>0</td>\n",
       "      <td>11.5340</td>\n",
       "      <td>0</td>\n",
       "      <td>-19.2259</td>\n",
       "      <td>0.5329</td>\n",
       "      <td>30.04</td>\n",
       "      <td>8.813</td>\n",
       "      <td>24.623</td>\n",
       "      <td>24.455</td>\n",
       "      <td>24.206</td>\n",
       "      <td>23.827</td>\n",
       "      <td>-15.066</td>\n",
       "    </tr>\n",
       "    <tr>\n",
       "      <th>265773824</th>\n",
       "      <td>125197434</td>\n",
       "      <td>80.104005</td>\n",
       "      <td>35.679136</td>\n",
       "      <td>1.08360</td>\n",
       "      <td>1.08294</td>\n",
       "      <td>-36.0</td>\n",
       "      <td>274.0</td>\n",
       "      <td>146.0</td>\n",
       "      <td>0</td>\n",
       "      <td>11.4380</td>\n",
       "      <td>0</td>\n",
       "      <td>-18.9564</td>\n",
       "      <td>0.6943</td>\n",
       "      <td>46.12</td>\n",
       "      <td>9.043</td>\n",
       "      <td>24.878</td>\n",
       "      <td>24.564</td>\n",
       "      <td>24.319</td>\n",
       "      <td>24.000</td>\n",
       "      <td>-15.098</td>\n",
       "    </tr>\n",
       "    <tr>\n",
       "      <th>263707392</th>\n",
       "      <td>123966391</td>\n",
       "      <td>89.653565</td>\n",
       "      <td>21.189685</td>\n",
       "      <td>0.95537</td>\n",
       "      <td>0.95646</td>\n",
       "      <td>-184.0</td>\n",
       "      <td>88.0</td>\n",
       "      <td>13.0</td>\n",
       "      <td>0</td>\n",
       "      <td>12.1655</td>\n",
       "      <td>1</td>\n",
       "      <td>-20.4576</td>\n",
       "      <td>0.7495</td>\n",
       "      <td>35.58</td>\n",
       "      <td>8.996</td>\n",
       "      <td>23.815</td>\n",
       "      <td>23.370</td>\n",
       "      <td>22.675</td>\n",
       "      <td>22.315</td>\n",
       "      <td>-14.813</td>\n",
       "    </tr>\n",
       "    <tr>\n",
       "      <th>219265536</th>\n",
       "      <td>97192465</td>\n",
       "      <td>55.697559</td>\n",
       "      <td>3.908250</td>\n",
       "      <td>0.63187</td>\n",
       "      <td>0.63230</td>\n",
       "      <td>-227.0</td>\n",
       "      <td>201.0</td>\n",
       "      <td>-76.0</td>\n",
       "      <td>0</td>\n",
       "      <td>11.8257</td>\n",
       "      <td>2</td>\n",
       "      <td>-19.8914</td>\n",
       "      <td>0.8780</td>\n",
       "      <td>22.76</td>\n",
       "      <td>9.128</td>\n",
       "      <td>23.383</td>\n",
       "      <td>22.502</td>\n",
       "      <td>21.950</td>\n",
       "      <td>21.732</td>\n",
       "      <td>-15.070</td>\n",
       "    </tr>\n",
       "    <tr>\n",
       "      <th>230516736</th>\n",
       "      <td>103668936</td>\n",
       "      <td>42.171417</td>\n",
       "      <td>40.309906</td>\n",
       "      <td>1.23585</td>\n",
       "      <td>1.23273</td>\n",
       "      <td>66.0</td>\n",
       "      <td>349.0</td>\n",
       "      <td>289.0</td>\n",
       "      <td>1</td>\n",
       "      <td>11.6166</td>\n",
       "      <td>2</td>\n",
       "      <td>-18.5868</td>\n",
       "      <td>0.5271</td>\n",
       "      <td>30.07</td>\n",
       "      <td>8.541</td>\n",
       "      <td>24.921</td>\n",
       "      <td>24.932</td>\n",
       "      <td>24.935</td>\n",
       "      <td>24.586</td>\n",
       "      <td>-15.408</td>\n",
       "    </tr>\n",
       "  </tbody>\n",
       "</table>\n",
       "</div>"
      ],
      "text/plain": [
       "               unique_halo_id     ra_gal    dec_gal  z_cgal_v   z_cgal  vxgal  \\\n",
       "unique_gal_id                                                                   \n",
       "218764032            96846802  59.788717  51.396742   1.10909  1.10875 -341.0   \n",
       "265773824           125197434  80.104005  35.679136   1.08360  1.08294  -36.0   \n",
       "263707392           123966391  89.653565  21.189685   0.95537  0.95646 -184.0   \n",
       "219265536            97192465  55.697559   3.908250   0.63187  0.63230 -227.0   \n",
       "230516736           103668936  42.171417  40.309906   1.23585  1.23273   66.0   \n",
       "\n",
       "               vygal  vzgal  flag_central   lmhalo  nsats   mr_gal  gr_gal  \\\n",
       "unique_gal_id                                                                \n",
       "218764032        3.0  297.0             0  11.5340      0 -19.2259  0.5329   \n",
       "265773824      274.0  146.0             0  11.4380      0 -18.9564  0.6943   \n",
       "263707392       88.0   13.0             0  12.1655      1 -20.4576  0.7495   \n",
       "219265536      201.0  -76.0             0  11.8257      2 -19.8914  0.8780   \n",
       "230516736      349.0  289.0             1  11.6166      2 -18.5868  0.5271   \n",
       "\n",
       "               sed_cos  metallicity  des_asahi_full_g_true  \\\n",
       "unique_gal_id                                                \n",
       "218764032        30.04        8.813                 24.623   \n",
       "265773824        46.12        9.043                 24.878   \n",
       "263707392        35.58        8.996                 23.815   \n",
       "219265536        22.76        9.128                 23.383   \n",
       "230516736        30.07        8.541                 24.921   \n",
       "\n",
       "               des_asahi_full_r_true  des_asahi_full_i_true  \\\n",
       "unique_gal_id                                                 \n",
       "218764032                     24.455                 24.206   \n",
       "265773824                     24.564                 24.319   \n",
       "263707392                     23.370                 22.675   \n",
       "219265536                     22.502                 21.950   \n",
       "230516736                     24.932                 24.935   \n",
       "\n",
       "               des_asahi_full_z_true  logf_halpha_ext  \n",
       "unique_gal_id                                          \n",
       "218764032                     23.827          -15.066  \n",
       "265773824                     24.000          -15.098  \n",
       "263707392                     22.315          -14.813  \n",
       "219265536                     21.732          -15.070  \n",
       "230516736                     24.586          -15.408  "
      ]
     },
     "execution_count": 86,
     "metadata": {},
     "output_type": "execute_result"
    }
   ],
   "source": [
    "block.head()"
   ]
  },
  {
   "cell_type": "code",
   "execution_count": 87,
   "metadata": {
    "collapsed": false
   },
   "outputs": [
    {
     "data": {
      "text/html": [
       "<div>\n",
       "<table border=\"1\" class=\"dataframe\">\n",
       "  <thead>\n",
       "    <tr style=\"text-align: right;\">\n",
       "      <th></th>\n",
       "      <th>unique_halo_id</th>\n",
       "      <th>ra_gal</th>\n",
       "      <th>dec_gal</th>\n",
       "      <th>z_cgal_v</th>\n",
       "      <th>z_cgal</th>\n",
       "      <th>vxgal</th>\n",
       "      <th>vygal</th>\n",
       "      <th>vzgal</th>\n",
       "      <th>flag_central</th>\n",
       "      <th>lmhalo</th>\n",
       "      <th>nsats</th>\n",
       "      <th>mr_gal</th>\n",
       "      <th>gr_gal</th>\n",
       "      <th>sed_cos</th>\n",
       "      <th>metallicity</th>\n",
       "      <th>des_asahi_full_g_true</th>\n",
       "      <th>des_asahi_full_r_true</th>\n",
       "      <th>des_asahi_full_i_true</th>\n",
       "      <th>des_asahi_full_z_true</th>\n",
       "      <th>logf_halpha_ext</th>\n",
       "    </tr>\n",
       "    <tr>\n",
       "      <th>unique_gal_id</th>\n",
       "      <th></th>\n",
       "      <th></th>\n",
       "      <th></th>\n",
       "      <th></th>\n",
       "      <th></th>\n",
       "      <th></th>\n",
       "      <th></th>\n",
       "      <th></th>\n",
       "      <th></th>\n",
       "      <th></th>\n",
       "      <th></th>\n",
       "      <th></th>\n",
       "      <th></th>\n",
       "      <th></th>\n",
       "      <th></th>\n",
       "      <th></th>\n",
       "      <th></th>\n",
       "      <th></th>\n",
       "      <th></th>\n",
       "      <th></th>\n",
       "    </tr>\n",
       "  </thead>\n",
       "  <tbody>\n",
       "    <tr>\n",
       "      <th>86145792</th>\n",
       "      <td>30639081</td>\n",
       "      <td>29.612805</td>\n",
       "      <td>45.073359</td>\n",
       "      <td>0.38299</td>\n",
       "      <td>0.38400</td>\n",
       "      <td>577.0</td>\n",
       "      <td>-518.0</td>\n",
       "      <td>-145.0</td>\n",
       "      <td>1</td>\n",
       "      <td>13.0326</td>\n",
       "      <td>53</td>\n",
       "      <td>-19.3365</td>\n",
       "      <td>0.9404</td>\n",
       "      <td>10.60</td>\n",
       "      <td>8.516</td>\n",
       "      <td>23.386</td>\n",
       "      <td>21.737</td>\n",
       "      <td>21.14</td>\n",
       "      <td>20.835</td>\n",
       "      <td>-15.955</td>\n",
       "    </tr>\n",
       "    <tr>\n",
       "      <th>72612608</th>\n",
       "      <td>26740864</td>\n",
       "      <td>34.613242</td>\n",
       "      <td>1.958016</td>\n",
       "      <td>0.19149</td>\n",
       "      <td>0.19050</td>\n",
       "      <td>-574.0</td>\n",
       "      <td>710.0</td>\n",
       "      <td>-293.0</td>\n",
       "      <td>1</td>\n",
       "      <td>11.8458</td>\n",
       "      <td>5</td>\n",
       "      <td>-18.7526</td>\n",
       "      <td>0.8544</td>\n",
       "      <td>2.87</td>\n",
       "      <td>8.697</td>\n",
       "      <td>21.303</td>\n",
       "      <td>20.241</td>\n",
       "      <td>19.88</td>\n",
       "      <td>19.655</td>\n",
       "      <td>-16.246</td>\n",
       "    </tr>\n",
       "    <tr>\n",
       "      <th>63993856</th>\n",
       "      <td>23935435</td>\n",
       "      <td>68.025492</td>\n",
       "      <td>34.740194</td>\n",
       "      <td>0.20466</td>\n",
       "      <td>0.20558</td>\n",
       "      <td>-438.0</td>\n",
       "      <td>858.0</td>\n",
       "      <td>-277.0</td>\n",
       "      <td>1</td>\n",
       "      <td>13.8767</td>\n",
       "      <td>411</td>\n",
       "      <td>-14.1441</td>\n",
       "      <td>0.3934</td>\n",
       "      <td>29.72</td>\n",
       "      <td>8.090</td>\n",
       "      <td>25.380</td>\n",
       "      <td>24.973</td>\n",
       "      <td>24.78</td>\n",
       "      <td>24.628</td>\n",
       "      <td>-15.869</td>\n",
       "    </tr>\n",
       "  </tbody>\n",
       "</table>\n",
       "</div>"
      ],
      "text/plain": [
       "               unique_halo_id     ra_gal    dec_gal  z_cgal_v   z_cgal  vxgal  \\\n",
       "unique_gal_id                                                                   \n",
       "86145792             30639081  29.612805  45.073359   0.38299  0.38400  577.0   \n",
       "72612608             26740864  34.613242   1.958016   0.19149  0.19050 -574.0   \n",
       "63993856             23935435  68.025492  34.740194   0.20466  0.20558 -438.0   \n",
       "\n",
       "               vygal  vzgal  flag_central   lmhalo  nsats   mr_gal  gr_gal  \\\n",
       "unique_gal_id                                                                \n",
       "86145792      -518.0 -145.0             1  13.0326     53 -19.3365  0.9404   \n",
       "72612608       710.0 -293.0             1  11.8458      5 -18.7526  0.8544   \n",
       "63993856       858.0 -277.0             1  13.8767    411 -14.1441  0.3934   \n",
       "\n",
       "               sed_cos  metallicity  des_asahi_full_g_true  \\\n",
       "unique_gal_id                                                \n",
       "86145792         10.60        8.516                 23.386   \n",
       "72612608          2.87        8.697                 21.303   \n",
       "63993856         29.72        8.090                 25.380   \n",
       "\n",
       "               des_asahi_full_r_true  des_asahi_full_i_true  \\\n",
       "unique_gal_id                                                 \n",
       "86145792                      21.737                  21.14   \n",
       "72612608                      20.241                  19.88   \n",
       "63993856                      24.973                  24.78   \n",
       "\n",
       "               des_asahi_full_z_true  logf_halpha_ext  \n",
       "unique_gal_id                                          \n",
       "86145792                      20.835          -15.955  \n",
       "72612608                      19.655          -16.246  \n",
       "63993856                      24.628          -15.869  "
      ]
     },
     "execution_count": 87,
     "metadata": {},
     "output_type": "execute_result"
    }
   ],
   "source": [
    "block.tail(3)"
   ]
  },
  {
   "cell_type": "markdown",
   "metadata": {},
   "source": [
    "- DataFrame *plot* method (just for curiosity!)"
   ]
  },
  {
   "cell_type": "code",
   "execution_count": 88,
   "metadata": {
    "collapsed": false
   },
   "outputs": [
    {
     "data": {
      "image/png": "[encoded data removed]",
      "text/plain": [
       "<matplotlib.figure.Figure at 0x7f6d76ecd4d0>"
      ]
     },
     "metadata": {},
     "output_type": "display_data"
    }
   ],
   "source": [
    "# DataFrame plot method\n",
    "%matplotlib inline\n",
    "import matplotlib.pyplot as plt\n",
    "block['lmhalo'].plot.hist(bins=100, logy = True)\n",
    "plt.show()"
   ]
  },
  {
   "cell_type": "markdown",
   "metadata": {},
   "source": [
    "### SELECTING AND SLICING\n",
    "\n",
    "- The idea of this section is to show how to slice and get and set subsets of pandas objects\n",
    "\n",
    "- The basics of indexing are as follows:"
   ]
  },
  {
   "cell_type": "markdown",
   "metadata": {},
   "source": [
    "| Operation                      | Syntax           | Result        |\n",
    "|--------------------------------|------------------|---------------|\n",
    "| Select column                  | df[column label] | Series        |\n",
    "| Select row by index            | df.loc[index]    | Series        |\n",
    "| Select row by integer location | df.iloc[pos]     | Series        |\n",
    "| Slice rows                     | df[5:10]         | DataFrame     |\n",
    "| Select rows by boolean vector  | df[bool_vec]     | DataFrame     |"
   ]
  },
  {
   "cell_type": "code",
   "execution_count": 89,
   "metadata": {
    "collapsed": false
   },
   "outputs": [],
   "source": [
    "# Same dataframe as before\n",
    "filename='/nfs/astro/jcarrete/sandbox/curso_python/1203.csv.bz2'\n",
    "galaxy_sample = pd.read_csv(filename, sep=',', index_col = unique_gal_id_field, comment='#', na_values = '\\N')"
   ]
  },
  {
   "cell_type": "code",
   "execution_count": 90,
   "metadata": {
    "collapsed": false
   },
   "outputs": [
    {
     "data": {
      "text/html": [
       "<div>\n",
       "<table border=\"1\" class=\"dataframe\">\n",
       "  <thead>\n",
       "    <tr style=\"text-align: right;\">\n",
       "      <th></th>\n",
       "      <th>unique_halo_id</th>\n",
       "      <th>ra_gal</th>\n",
       "      <th>dec_gal</th>\n",
       "      <th>z_cgal_v</th>\n",
       "      <th>z_cgal</th>\n",
       "      <th>vxgal</th>\n",
       "      <th>vygal</th>\n",
       "      <th>vzgal</th>\n",
       "      <th>flag_central</th>\n",
       "      <th>lmhalo</th>\n",
       "      <th>nsats</th>\n",
       "      <th>mr_gal</th>\n",
       "      <th>gr_gal</th>\n",
       "      <th>sed_cos</th>\n",
       "      <th>metallicity</th>\n",
       "      <th>des_asahi_full_g_true</th>\n",
       "      <th>des_asahi_full_r_true</th>\n",
       "      <th>des_asahi_full_i_true</th>\n",
       "      <th>des_asahi_full_z_true</th>\n",
       "      <th>logf_halpha_ext</th>\n",
       "    </tr>\n",
       "    <tr>\n",
       "      <th>unique_gal_id</th>\n",
       "      <th></th>\n",
       "      <th></th>\n",
       "      <th></th>\n",
       "      <th></th>\n",
       "      <th></th>\n",
       "      <th></th>\n",
       "      <th></th>\n",
       "      <th></th>\n",
       "      <th></th>\n",
       "      <th></th>\n",
       "      <th></th>\n",
       "      <th></th>\n",
       "      <th></th>\n",
       "      <th></th>\n",
       "      <th></th>\n",
       "      <th></th>\n",
       "      <th></th>\n",
       "      <th></th>\n",
       "      <th></th>\n",
       "      <th></th>\n",
       "    </tr>\n",
       "  </thead>\n",
       "  <tbody>\n",
       "    <tr>\n",
       "      <th>28581888</th>\n",
       "      <td>6813671</td>\n",
       "      <td>6.322946</td>\n",
       "      <td>25.820680</td>\n",
       "      <td>0.30894</td>\n",
       "      <td>0.30917</td>\n",
       "      <td>-944.0</td>\n",
       "      <td>106.0</td>\n",
       "      <td>-126.0</td>\n",
       "      <td>1</td>\n",
       "      <td>13.5638</td>\n",
       "      <td>217</td>\n",
       "      <td>-18.8790</td>\n",
       "      <td>0.8683</td>\n",
       "      <td>1.49</td>\n",
       "      <td>9.204</td>\n",
       "      <td>22.708</td>\n",
       "      <td>21.427</td>\n",
       "      <td>21.002</td>\n",
       "      <td>20.795</td>\n",
       "      <td>-16.372</td>\n",
       "    </tr>\n",
       "    <tr>\n",
       "      <th>6513920</th>\n",
       "      <td>583531</td>\n",
       "      <td>31.918837</td>\n",
       "      <td>63.028902</td>\n",
       "      <td>0.21009</td>\n",
       "      <td>0.20998</td>\n",
       "      <td>-191.0</td>\n",
       "      <td>171.0</td>\n",
       "      <td>10.0</td>\n",
       "      <td>0</td>\n",
       "      <td>11.5184</td>\n",
       "      <td>3</td>\n",
       "      <td>-19.1841</td>\n",
       "      <td>0.4690</td>\n",
       "      <td>26.30</td>\n",
       "      <td>8.738</td>\n",
       "      <td>20.562</td>\n",
       "      <td>19.997</td>\n",
       "      <td>19.780</td>\n",
       "      <td>19.608</td>\n",
       "      <td>-14.172</td>\n",
       "    </tr>\n",
       "    <tr>\n",
       "      <th>28066816</th>\n",
       "      <td>6705885</td>\n",
       "      <td>2.814453</td>\n",
       "      <td>31.387212</td>\n",
       "      <td>0.28243</td>\n",
       "      <td>0.28162</td>\n",
       "      <td>-325.0</td>\n",
       "      <td>127.0</td>\n",
       "      <td>184.0</td>\n",
       "      <td>0</td>\n",
       "      <td>11.8192</td>\n",
       "      <td>3</td>\n",
       "      <td>-19.7774</td>\n",
       "      <td>0.6869</td>\n",
       "      <td>30.91</td>\n",
       "      <td>8.699</td>\n",
       "      <td>21.248</td>\n",
       "      <td>20.235</td>\n",
       "      <td>19.855</td>\n",
       "      <td>19.578</td>\n",
       "      <td>-14.408</td>\n",
       "    </tr>\n",
       "    <tr>\n",
       "      <th>31695360</th>\n",
       "      <td>7690292</td>\n",
       "      <td>11.170244</td>\n",
       "      <td>52.128139</td>\n",
       "      <td>0.53018</td>\n",
       "      <td>0.52944</td>\n",
       "      <td>88.0</td>\n",
       "      <td>35.0</td>\n",
       "      <td>143.0</td>\n",
       "      <td>0</td>\n",
       "      <td>12.1493</td>\n",
       "      <td>5</td>\n",
       "      <td>-20.4820</td>\n",
       "      <td>0.9445</td>\n",
       "      <td>10.57</td>\n",
       "      <td>9.051</td>\n",
       "      <td>23.285</td>\n",
       "      <td>21.732</td>\n",
       "      <td>20.991</td>\n",
       "      <td>20.590</td>\n",
       "      <td>-15.789</td>\n",
       "    </tr>\n",
       "    <tr>\n",
       "      <th>20980480</th>\n",
       "      <td>4143780</td>\n",
       "      <td>5.683928</td>\n",
       "      <td>60.137498</td>\n",
       "      <td>0.35974</td>\n",
       "      <td>0.36004</td>\n",
       "      <td>-223.0</td>\n",
       "      <td>69.0</td>\n",
       "      <td>-103.0</td>\n",
       "      <td>1</td>\n",
       "      <td>11.4320</td>\n",
       "      <td>2</td>\n",
       "      <td>-16.2978</td>\n",
       "      <td>0.4299</td>\n",
       "      <td>45.26</td>\n",
       "      <td>8.343</td>\n",
       "      <td>24.508</td>\n",
       "      <td>24.086</td>\n",
       "      <td>24.031</td>\n",
       "      <td>23.968</td>\n",
       "      <td>-15.527</td>\n",
       "    </tr>\n",
       "  </tbody>\n",
       "</table>\n",
       "</div>"
      ],
      "text/plain": [
       "               unique_halo_id     ra_gal    dec_gal  z_cgal_v   z_cgal  vxgal  \\\n",
       "unique_gal_id                                                                   \n",
       "28581888              6813671   6.322946  25.820680   0.30894  0.30917 -944.0   \n",
       "6513920                583531  31.918837  63.028902   0.21009  0.20998 -191.0   \n",
       "28066816              6705885   2.814453  31.387212   0.28243  0.28162 -325.0   \n",
       "31695360              7690292  11.170244  52.128139   0.53018  0.52944   88.0   \n",
       "20980480              4143780   5.683928  60.137498   0.35974  0.36004 -223.0   \n",
       "\n",
       "               vygal  vzgal  flag_central   lmhalo  nsats   mr_gal  gr_gal  \\\n",
       "unique_gal_id                                                                \n",
       "28581888       106.0 -126.0             1  13.5638    217 -18.8790  0.8683   \n",
       "6513920        171.0   10.0             0  11.5184      3 -19.1841  0.4690   \n",
       "28066816       127.0  184.0             0  11.8192      3 -19.7774  0.6869   \n",
       "31695360        35.0  143.0             0  12.1493      5 -20.4820  0.9445   \n",
       "20980480        69.0 -103.0             1  11.4320      2 -16.2978  0.4299   \n",
       "\n",
       "               sed_cos  metallicity  des_asahi_full_g_true  \\\n",
       "unique_gal_id                                                \n",
       "28581888          1.49        9.204                 22.708   \n",
       "6513920          26.30        8.738                 20.562   \n",
       "28066816         30.91        8.699                 21.248   \n",
       "31695360         10.57        9.051                 23.285   \n",
       "20980480         45.26        8.343                 24.508   \n",
       "\n",
       "               des_asahi_full_r_true  des_asahi_full_i_true  \\\n",
       "unique_gal_id                                                 \n",
       "28581888                      21.427                 21.002   \n",
       "6513920                       19.997                 19.780   \n",
       "28066816                      20.235                 19.855   \n",
       "31695360                      21.732                 20.991   \n",
       "20980480                      24.086                 24.031   \n",
       "\n",
       "               des_asahi_full_z_true  logf_halpha_ext  \n",
       "unique_gal_id                                          \n",
       "28581888                      20.795          -16.372  \n",
       "6513920                       19.608          -14.172  \n",
       "28066816                      19.578          -14.408  \n",
       "31695360                      20.590          -15.789  \n",
       "20980480                      23.968          -15.527  "
      ]
     },
     "execution_count": 90,
     "metadata": {},
     "output_type": "execute_result"
    }
   ],
   "source": [
    "galaxy_sample.head()"
   ]
  },
  {
   "cell_type": "markdown",
   "metadata": {},
   "source": [
    "- Select a column"
   ]
  },
  {
   "cell_type": "code",
   "execution_count": 91,
   "metadata": {
    "collapsed": false
   },
   "outputs": [
    {
     "data": {
      "text/plain": [
       "unique_gal_id\n",
       "28581888     6.322946\n",
       "6513920     31.918837\n",
       "28066816     2.814453\n",
       "31695360    11.170244\n",
       "20980480     5.683928\n",
       "Name: ra_gal, dtype: float64"
      ]
     },
     "execution_count": 91,
     "metadata": {},
     "output_type": "execute_result"
    }
   ],
   "source": [
    "galaxy_sample['ra_gal'].head()"
   ]
  },
  {
   "cell_type": "code",
   "execution_count": 92,
   "metadata": {
    "collapsed": false
   },
   "outputs": [
    {
     "data": {
      "text/plain": [
       "pandas.core.series.Series"
      ]
     },
     "execution_count": 92,
     "metadata": {},
     "output_type": "execute_result"
    }
   ],
   "source": [
    "type(galaxy_sample['dec_gal'])"
   ]
  },
  {
   "cell_type": "code",
   "execution_count": 93,
   "metadata": {
    "collapsed": false
   },
   "outputs": [
    {
     "data": {
      "text/html": [
       "<div>\n",
       "<table border=\"1\" class=\"dataframe\">\n",
       "  <thead>\n",
       "    <tr style=\"text-align: right;\">\n",
       "      <th></th>\n",
       "      <th>ra_gal</th>\n",
       "      <th>dec_gal</th>\n",
       "      <th>lmhalo</th>\n",
       "    </tr>\n",
       "    <tr>\n",
       "      <th>unique_gal_id</th>\n",
       "      <th></th>\n",
       "      <th></th>\n",
       "      <th></th>\n",
       "    </tr>\n",
       "  </thead>\n",
       "  <tbody>\n",
       "    <tr>\n",
       "      <th>28581888</th>\n",
       "      <td>6.322946</td>\n",
       "      <td>25.820680</td>\n",
       "      <td>13.5638</td>\n",
       "    </tr>\n",
       "    <tr>\n",
       "      <th>6513920</th>\n",
       "      <td>31.918837</td>\n",
       "      <td>63.028902</td>\n",
       "      <td>11.5184</td>\n",
       "    </tr>\n",
       "    <tr>\n",
       "      <th>28066816</th>\n",
       "      <td>2.814453</td>\n",
       "      <td>31.387212</td>\n",
       "      <td>11.8192</td>\n",
       "    </tr>\n",
       "    <tr>\n",
       "      <th>31695360</th>\n",
       "      <td>11.170244</td>\n",
       "      <td>52.128139</td>\n",
       "      <td>12.1493</td>\n",
       "    </tr>\n",
       "    <tr>\n",
       "      <th>20980480</th>\n",
       "      <td>5.683928</td>\n",
       "      <td>60.137498</td>\n",
       "      <td>11.4320</td>\n",
       "    </tr>\n",
       "  </tbody>\n",
       "</table>\n",
       "</div>"
      ],
      "text/plain": [
       "                  ra_gal    dec_gal   lmhalo\n",
       "unique_gal_id                               \n",
       "28581888        6.322946  25.820680  13.5638\n",
       "6513920        31.918837  63.028902  11.5184\n",
       "28066816        2.814453  31.387212  11.8192\n",
       "31695360       11.170244  52.128139  12.1493\n",
       "20980480        5.683928  60.137498  11.4320"
      ]
     },
     "execution_count": 93,
     "metadata": {},
     "output_type": "execute_result"
    }
   ],
   "source": [
    "galaxy_sample[['ra_gal','dec_gal','lmhalo']].head()"
   ]
  },
  {
   "cell_type": "markdown",
   "metadata": {},
   "source": [
    "- Select a row by index"
   ]
  },
  {
   "cell_type": "code",
   "execution_count": 94,
   "metadata": {
    "collapsed": false
   },
   "outputs": [
    {
     "data": {
      "text/plain": [
       "unique_halo_id           6.813671e+06\n",
       "ra_gal                   6.322946e+00\n",
       "dec_gal                  2.582068e+01\n",
       "z_cgal_v                 3.089400e-01\n",
       "z_cgal                   3.091700e-01\n",
       "vxgal                   -9.440000e+02\n",
       "vygal                    1.060000e+02\n",
       "vzgal                   -1.260000e+02\n",
       "flag_central             1.000000e+00\n",
       "lmhalo                   1.356380e+01\n",
       "nsats                    2.170000e+02\n",
       "mr_gal                  -1.887900e+01\n",
       "gr_gal                   8.683000e-01\n",
       "sed_cos                  1.490000e+00\n",
       "metallicity              9.204000e+00\n",
       "des_asahi_full_g_true    2.270800e+01\n",
       "des_asahi_full_r_true    2.142700e+01\n",
       "des_asahi_full_i_true    2.100200e+01\n",
       "des_asahi_full_z_true    2.079500e+01\n",
       "logf_halpha_ext         -1.637200e+01\n",
       "Name: 28581888, dtype: float64"
      ]
     },
     "execution_count": 94,
     "metadata": {},
     "output_type": "execute_result"
    }
   ],
   "source": [
    "galaxy_sample.loc[28581888]"
   ]
  },
  {
   "cell_type": "code",
   "execution_count": 95,
   "metadata": {
    "collapsed": false
   },
   "outputs": [
    {
     "data": {
      "text/plain": [
       "pandas.core.series.Series"
      ]
     },
     "execution_count": 95,
     "metadata": {},
     "output_type": "execute_result"
    }
   ],
   "source": [
    "type(galaxy_sample.loc[28581888])"
   ]
  },
  {
   "cell_type": "markdown",
   "metadata": {},
   "source": [
    "- Select a row by integer location"
   ]
  },
  {
   "cell_type": "code",
   "execution_count": 96,
   "metadata": {
    "collapsed": false
   },
   "outputs": [
    {
     "data": {
      "text/plain": [
       "unique_halo_id           6.813671e+06\n",
       "ra_gal                   6.322946e+00\n",
       "dec_gal                  2.582068e+01\n",
       "z_cgal_v                 3.089400e-01\n",
       "z_cgal                   3.091700e-01\n",
       "vxgal                   -9.440000e+02\n",
       "vygal                    1.060000e+02\n",
       "vzgal                   -1.260000e+02\n",
       "flag_central             1.000000e+00\n",
       "lmhalo                   1.356380e+01\n",
       "nsats                    2.170000e+02\n",
       "mr_gal                  -1.887900e+01\n",
       "gr_gal                   8.683000e-01\n",
       "sed_cos                  1.490000e+00\n",
       "metallicity              9.204000e+00\n",
       "des_asahi_full_g_true    2.270800e+01\n",
       "des_asahi_full_r_true    2.142700e+01\n",
       "des_asahi_full_i_true    2.100200e+01\n",
       "des_asahi_full_z_true    2.079500e+01\n",
       "logf_halpha_ext         -1.637200e+01\n",
       "Name: 28581888, dtype: float64"
      ]
     },
     "execution_count": 96,
     "metadata": {},
     "output_type": "execute_result"
    }
   ],
   "source": [
    "galaxy_sample.iloc[0]"
   ]
  },
  {
   "cell_type": "code",
   "execution_count": 97,
   "metadata": {
    "collapsed": false
   },
   "outputs": [
    {
     "data": {
      "text/plain": [
       "pandas.core.series.Series"
      ]
     },
     "execution_count": 97,
     "metadata": {},
     "output_type": "execute_result"
    }
   ],
   "source": [
    "type(galaxy_sample.iloc[0])"
   ]
  },
  {
   "cell_type": "markdown",
   "metadata": {},
   "source": [
    "- Slice rows"
   ]
  },
  {
   "cell_type": "code",
   "execution_count": 98,
   "metadata": {
    "collapsed": false
   },
   "outputs": [
    {
     "data": {
      "text/html": [
       "<div>\n",
       "<table border=\"1\" class=\"dataframe\">\n",
       "  <thead>\n",
       "    <tr style=\"text-align: right;\">\n",
       "      <th></th>\n",
       "      <th>unique_halo_id</th>\n",
       "      <th>ra_gal</th>\n",
       "      <th>dec_gal</th>\n",
       "      <th>z_cgal_v</th>\n",
       "      <th>z_cgal</th>\n",
       "      <th>vxgal</th>\n",
       "      <th>vygal</th>\n",
       "      <th>vzgal</th>\n",
       "      <th>flag_central</th>\n",
       "      <th>lmhalo</th>\n",
       "      <th>nsats</th>\n",
       "      <th>mr_gal</th>\n",
       "      <th>gr_gal</th>\n",
       "      <th>sed_cos</th>\n",
       "      <th>metallicity</th>\n",
       "      <th>des_asahi_full_g_true</th>\n",
       "      <th>des_asahi_full_r_true</th>\n",
       "      <th>des_asahi_full_i_true</th>\n",
       "      <th>des_asahi_full_z_true</th>\n",
       "      <th>logf_halpha_ext</th>\n",
       "    </tr>\n",
       "    <tr>\n",
       "      <th>unique_gal_id</th>\n",
       "      <th></th>\n",
       "      <th></th>\n",
       "      <th></th>\n",
       "      <th></th>\n",
       "      <th></th>\n",
       "      <th></th>\n",
       "      <th></th>\n",
       "      <th></th>\n",
       "      <th></th>\n",
       "      <th></th>\n",
       "      <th></th>\n",
       "      <th></th>\n",
       "      <th></th>\n",
       "      <th></th>\n",
       "      <th></th>\n",
       "      <th></th>\n",
       "      <th></th>\n",
       "      <th></th>\n",
       "      <th></th>\n",
       "      <th></th>\n",
       "    </tr>\n",
       "  </thead>\n",
       "  <tbody>\n",
       "    <tr>\n",
       "      <th>31695360</th>\n",
       "      <td>7690292</td>\n",
       "      <td>11.170244</td>\n",
       "      <td>52.128139</td>\n",
       "      <td>0.53018</td>\n",
       "      <td>0.52944</td>\n",
       "      <td>88.0</td>\n",
       "      <td>35.0</td>\n",
       "      <td>143.0</td>\n",
       "      <td>0</td>\n",
       "      <td>12.1493</td>\n",
       "      <td>5</td>\n",
       "      <td>-20.4820</td>\n",
       "      <td>0.9445</td>\n",
       "      <td>10.57</td>\n",
       "      <td>9.051</td>\n",
       "      <td>23.285</td>\n",
       "      <td>21.732</td>\n",
       "      <td>20.991</td>\n",
       "      <td>20.590</td>\n",
       "      <td>-15.789</td>\n",
       "    </tr>\n",
       "    <tr>\n",
       "      <th>20980480</th>\n",
       "      <td>4143780</td>\n",
       "      <td>5.683928</td>\n",
       "      <td>60.137498</td>\n",
       "      <td>0.35974</td>\n",
       "      <td>0.36004</td>\n",
       "      <td>-223.0</td>\n",
       "      <td>69.0</td>\n",
       "      <td>-103.0</td>\n",
       "      <td>1</td>\n",
       "      <td>11.4320</td>\n",
       "      <td>2</td>\n",
       "      <td>-16.2978</td>\n",
       "      <td>0.4299</td>\n",
       "      <td>45.26</td>\n",
       "      <td>8.343</td>\n",
       "      <td>24.508</td>\n",
       "      <td>24.086</td>\n",
       "      <td>24.031</td>\n",
       "      <td>23.968</td>\n",
       "      <td>-15.527</td>\n",
       "    </tr>\n",
       "    <tr>\n",
       "      <th>17727232</th>\n",
       "      <td>3557072</td>\n",
       "      <td>15.329197</td>\n",
       "      <td>21.370674</td>\n",
       "      <td>0.22878</td>\n",
       "      <td>0.22906</td>\n",
       "      <td>-5.0</td>\n",
       "      <td>9.0</td>\n",
       "      <td>-212.0</td>\n",
       "      <td>0</td>\n",
       "      <td>12.4103</td>\n",
       "      <td>26</td>\n",
       "      <td>-20.8905</td>\n",
       "      <td>0.8485</td>\n",
       "      <td>10.51</td>\n",
       "      <td>8.936</td>\n",
       "      <td>19.812</td>\n",
       "      <td>18.611</td>\n",
       "      <td>18.175</td>\n",
       "      <td>17.919</td>\n",
       "      <td>-14.908</td>\n",
       "    </tr>\n",
       "    <tr>\n",
       "      <th>9050624</th>\n",
       "      <td>1004890</td>\n",
       "      <td>15.515433</td>\n",
       "      <td>73.343966</td>\n",
       "      <td>0.32613</td>\n",
       "      <td>0.32986</td>\n",
       "      <td>64.0</td>\n",
       "      <td>-242.0</td>\n",
       "      <td>-815.0</td>\n",
       "      <td>1</td>\n",
       "      <td>12.1488</td>\n",
       "      <td>9</td>\n",
       "      <td>-18.1710</td>\n",
       "      <td>0.3122</td>\n",
       "      <td>45.99</td>\n",
       "      <td>8.603</td>\n",
       "      <td>22.458</td>\n",
       "      <td>22.050</td>\n",
       "      <td>21.939</td>\n",
       "      <td>21.839</td>\n",
       "      <td>-14.564</td>\n",
       "    </tr>\n",
       "  </tbody>\n",
       "</table>\n",
       "</div>"
      ],
      "text/plain": [
       "               unique_halo_id     ra_gal    dec_gal  z_cgal_v   z_cgal  vxgal  \\\n",
       "unique_gal_id                                                                   \n",
       "31695360              7690292  11.170244  52.128139   0.53018  0.52944   88.0   \n",
       "20980480              4143780   5.683928  60.137498   0.35974  0.36004 -223.0   \n",
       "17727232              3557072  15.329197  21.370674   0.22878  0.22906   -5.0   \n",
       "9050624               1004890  15.515433  73.343966   0.32613  0.32986   64.0   \n",
       "\n",
       "               vygal  vzgal  flag_central   lmhalo  nsats   mr_gal  gr_gal  \\\n",
       "unique_gal_id                                                                \n",
       "31695360        35.0  143.0             0  12.1493      5 -20.4820  0.9445   \n",
       "20980480        69.0 -103.0             1  11.4320      2 -16.2978  0.4299   \n",
       "17727232         9.0 -212.0             0  12.4103     26 -20.8905  0.8485   \n",
       "9050624       -242.0 -815.0             1  12.1488      9 -18.1710  0.3122   \n",
       "\n",
       "               sed_cos  metallicity  des_asahi_full_g_true  \\\n",
       "unique_gal_id                                                \n",
       "31695360         10.57        9.051                 23.285   \n",
       "20980480         45.26        8.343                 24.508   \n",
       "17727232         10.51        8.936                 19.812   \n",
       "9050624          45.99        8.603                 22.458   \n",
       "\n",
       "               des_asahi_full_r_true  des_asahi_full_i_true  \\\n",
       "unique_gal_id                                                 \n",
       "31695360                      21.732                 20.991   \n",
       "20980480                      24.086                 24.031   \n",
       "17727232                      18.611                 18.175   \n",
       "9050624                       22.050                 21.939   \n",
       "\n",
       "               des_asahi_full_z_true  logf_halpha_ext  \n",
       "unique_gal_id                                          \n",
       "31695360                      20.590          -15.789  \n",
       "20980480                      23.968          -15.527  \n",
       "17727232                      17.919          -14.908  \n",
       "9050624                       21.839          -14.564  "
      ]
     },
     "execution_count": 98,
     "metadata": {},
     "output_type": "execute_result"
    }
   ],
   "source": [
    "galaxy_sample.iloc[3:7]"
   ]
  },
  {
   "cell_type": "code",
   "execution_count": 99,
   "metadata": {
    "collapsed": false
   },
   "outputs": [
    {
     "data": {
      "text/html": [
       "<div>\n",
       "<table border=\"1\" class=\"dataframe\">\n",
       "  <thead>\n",
       "    <tr style=\"text-align: right;\">\n",
       "      <th></th>\n",
       "      <th>unique_halo_id</th>\n",
       "      <th>ra_gal</th>\n",
       "      <th>dec_gal</th>\n",
       "      <th>z_cgal_v</th>\n",
       "      <th>z_cgal</th>\n",
       "      <th>vxgal</th>\n",
       "      <th>vygal</th>\n",
       "      <th>vzgal</th>\n",
       "      <th>flag_central</th>\n",
       "      <th>lmhalo</th>\n",
       "      <th>nsats</th>\n",
       "      <th>mr_gal</th>\n",
       "      <th>gr_gal</th>\n",
       "      <th>sed_cos</th>\n",
       "      <th>metallicity</th>\n",
       "      <th>des_asahi_full_g_true</th>\n",
       "      <th>des_asahi_full_r_true</th>\n",
       "      <th>des_asahi_full_i_true</th>\n",
       "      <th>des_asahi_full_z_true</th>\n",
       "      <th>logf_halpha_ext</th>\n",
       "    </tr>\n",
       "    <tr>\n",
       "      <th>unique_gal_id</th>\n",
       "      <th></th>\n",
       "      <th></th>\n",
       "      <th></th>\n",
       "      <th></th>\n",
       "      <th></th>\n",
       "      <th></th>\n",
       "      <th></th>\n",
       "      <th></th>\n",
       "      <th></th>\n",
       "      <th></th>\n",
       "      <th></th>\n",
       "      <th></th>\n",
       "      <th></th>\n",
       "      <th></th>\n",
       "      <th></th>\n",
       "      <th></th>\n",
       "      <th></th>\n",
       "      <th></th>\n",
       "      <th></th>\n",
       "      <th></th>\n",
       "    </tr>\n",
       "  </thead>\n",
       "  <tbody>\n",
       "    <tr>\n",
       "      <th>31695360</th>\n",
       "      <td>7690292</td>\n",
       "      <td>11.170244</td>\n",
       "      <td>52.128139</td>\n",
       "      <td>0.53018</td>\n",
       "      <td>0.52944</td>\n",
       "      <td>88.0</td>\n",
       "      <td>35.0</td>\n",
       "      <td>143.0</td>\n",
       "      <td>0</td>\n",
       "      <td>12.1493</td>\n",
       "      <td>5</td>\n",
       "      <td>-20.4820</td>\n",
       "      <td>0.9445</td>\n",
       "      <td>10.57</td>\n",
       "      <td>9.051</td>\n",
       "      <td>23.285</td>\n",
       "      <td>21.732</td>\n",
       "      <td>20.991</td>\n",
       "      <td>20.590</td>\n",
       "      <td>-15.789</td>\n",
       "    </tr>\n",
       "    <tr>\n",
       "      <th>20980480</th>\n",
       "      <td>4143780</td>\n",
       "      <td>5.683928</td>\n",
       "      <td>60.137498</td>\n",
       "      <td>0.35974</td>\n",
       "      <td>0.36004</td>\n",
       "      <td>-223.0</td>\n",
       "      <td>69.0</td>\n",
       "      <td>-103.0</td>\n",
       "      <td>1</td>\n",
       "      <td>11.4320</td>\n",
       "      <td>2</td>\n",
       "      <td>-16.2978</td>\n",
       "      <td>0.4299</td>\n",
       "      <td>45.26</td>\n",
       "      <td>8.343</td>\n",
       "      <td>24.508</td>\n",
       "      <td>24.086</td>\n",
       "      <td>24.031</td>\n",
       "      <td>23.968</td>\n",
       "      <td>-15.527</td>\n",
       "    </tr>\n",
       "    <tr>\n",
       "      <th>17727232</th>\n",
       "      <td>3557072</td>\n",
       "      <td>15.329197</td>\n",
       "      <td>21.370674</td>\n",
       "      <td>0.22878</td>\n",
       "      <td>0.22906</td>\n",
       "      <td>-5.0</td>\n",
       "      <td>9.0</td>\n",
       "      <td>-212.0</td>\n",
       "      <td>0</td>\n",
       "      <td>12.4103</td>\n",
       "      <td>26</td>\n",
       "      <td>-20.8905</td>\n",
       "      <td>0.8485</td>\n",
       "      <td>10.51</td>\n",
       "      <td>8.936</td>\n",
       "      <td>19.812</td>\n",
       "      <td>18.611</td>\n",
       "      <td>18.175</td>\n",
       "      <td>17.919</td>\n",
       "      <td>-14.908</td>\n",
       "    </tr>\n",
       "    <tr>\n",
       "      <th>9050624</th>\n",
       "      <td>1004890</td>\n",
       "      <td>15.515433</td>\n",
       "      <td>73.343966</td>\n",
       "      <td>0.32613</td>\n",
       "      <td>0.32986</td>\n",
       "      <td>64.0</td>\n",
       "      <td>-242.0</td>\n",
       "      <td>-815.0</td>\n",
       "      <td>1</td>\n",
       "      <td>12.1488</td>\n",
       "      <td>9</td>\n",
       "      <td>-18.1710</td>\n",
       "      <td>0.3122</td>\n",
       "      <td>45.99</td>\n",
       "      <td>8.603</td>\n",
       "      <td>22.458</td>\n",
       "      <td>22.050</td>\n",
       "      <td>21.939</td>\n",
       "      <td>21.839</td>\n",
       "      <td>-14.564</td>\n",
       "    </tr>\n",
       "  </tbody>\n",
       "</table>\n",
       "</div>"
      ],
      "text/plain": [
       "               unique_halo_id     ra_gal    dec_gal  z_cgal_v   z_cgal  vxgal  \\\n",
       "unique_gal_id                                                                   \n",
       "31695360              7690292  11.170244  52.128139   0.53018  0.52944   88.0   \n",
       "20980480              4143780   5.683928  60.137498   0.35974  0.36004 -223.0   \n",
       "17727232              3557072  15.329197  21.370674   0.22878  0.22906   -5.0   \n",
       "9050624               1004890  15.515433  73.343966   0.32613  0.32986   64.0   \n",
       "\n",
       "               vygal  vzgal  flag_central   lmhalo  nsats   mr_gal  gr_gal  \\\n",
       "unique_gal_id                                                                \n",
       "31695360        35.0  143.0             0  12.1493      5 -20.4820  0.9445   \n",
       "20980480        69.0 -103.0             1  11.4320      2 -16.2978  0.4299   \n",
       "17727232         9.0 -212.0             0  12.4103     26 -20.8905  0.8485   \n",
       "9050624       -242.0 -815.0             1  12.1488      9 -18.1710  0.3122   \n",
       "\n",
       "               sed_cos  metallicity  des_asahi_full_g_true  \\\n",
       "unique_gal_id                                                \n",
       "31695360         10.57        9.051                 23.285   \n",
       "20980480         45.26        8.343                 24.508   \n",
       "17727232         10.51        8.936                 19.812   \n",
       "9050624          45.99        8.603                 22.458   \n",
       "\n",
       "               des_asahi_full_r_true  des_asahi_full_i_true  \\\n",
       "unique_gal_id                                                 \n",
       "31695360                      21.732                 20.991   \n",
       "20980480                      24.086                 24.031   \n",
       "17727232                      18.611                 18.175   \n",
       "9050624                       22.050                 21.939   \n",
       "\n",
       "               des_asahi_full_z_true  logf_halpha_ext  \n",
       "unique_gal_id                                          \n",
       "31695360                      20.590          -15.789  \n",
       "20980480                      23.968          -15.527  \n",
       "17727232                      17.919          -14.908  \n",
       "9050624                       21.839          -14.564  "
      ]
     },
     "execution_count": 99,
     "metadata": {},
     "output_type": "execute_result"
    }
   ],
   "source": [
    "galaxy_sample[3:7]"
   ]
  },
  {
   "cell_type": "code",
   "execution_count": 100,
   "metadata": {
    "collapsed": false
   },
   "outputs": [
    {
     "data": {
      "text/plain": [
       "pandas.core.frame.DataFrame"
      ]
     },
     "execution_count": 100,
     "metadata": {},
     "output_type": "execute_result"
    }
   ],
   "source": [
    "type(galaxy_sample.iloc[3:7])"
   ]
  },
  {
   "cell_type": "markdown",
   "metadata": {},
   "source": [
    "- Select rows by boolean vector: \n",
    "\n",
    "The operators are: | for or, & for and, and ~ for not. These must be grouped by using parentheses."
   ]
  },
  {
   "cell_type": "code",
   "execution_count": 101,
   "metadata": {
    "collapsed": false
   },
   "outputs": [
    {
     "data": {
      "text/plain": [
       "unique_gal_id\n",
       "47809280     True\n",
       "72990720     True\n",
       "86145792     True\n",
       "72612608     True\n",
       "63993856    False\n",
       "Name: ra_gal, dtype: bool"
      ]
     },
     "execution_count": 101,
     "metadata": {},
     "output_type": "execute_result"
    }
   ],
   "source": [
    "# Boolean vector\n",
    "(galaxy_sample['ra_gal'] < 45).tail()"
   ]
  },
  {
   "cell_type": "code",
   "execution_count": 102,
   "metadata": {
    "collapsed": false
   },
   "outputs": [
    {
     "data": {
      "text/plain": [
       "pandas.core.series.Series"
      ]
     },
     "execution_count": 102,
     "metadata": {},
     "output_type": "execute_result"
    }
   ],
   "source": [
    "type(galaxy_sample['ra_gal'] < 45)"
   ]
  },
  {
   "cell_type": "code",
   "execution_count": 103,
   "metadata": {
    "collapsed": false
   },
   "outputs": [
    {
     "data": {
      "text/html": [
       "<div>\n",
       "<table border=\"1\" class=\"dataframe\">\n",
       "  <thead>\n",
       "    <tr style=\"text-align: right;\">\n",
       "      <th></th>\n",
       "      <th>unique_halo_id</th>\n",
       "      <th>ra_gal</th>\n",
       "      <th>dec_gal</th>\n",
       "      <th>z_cgal_v</th>\n",
       "      <th>z_cgal</th>\n",
       "      <th>vxgal</th>\n",
       "      <th>vygal</th>\n",
       "      <th>vzgal</th>\n",
       "      <th>flag_central</th>\n",
       "      <th>lmhalo</th>\n",
       "      <th>nsats</th>\n",
       "      <th>mr_gal</th>\n",
       "      <th>gr_gal</th>\n",
       "      <th>sed_cos</th>\n",
       "      <th>metallicity</th>\n",
       "      <th>des_asahi_full_g_true</th>\n",
       "      <th>des_asahi_full_r_true</th>\n",
       "      <th>des_asahi_full_i_true</th>\n",
       "      <th>des_asahi_full_z_true</th>\n",
       "      <th>logf_halpha_ext</th>\n",
       "    </tr>\n",
       "    <tr>\n",
       "      <th>unique_gal_id</th>\n",
       "      <th></th>\n",
       "      <th></th>\n",
       "      <th></th>\n",
       "      <th></th>\n",
       "      <th></th>\n",
       "      <th></th>\n",
       "      <th></th>\n",
       "      <th></th>\n",
       "      <th></th>\n",
       "      <th></th>\n",
       "      <th></th>\n",
       "      <th></th>\n",
       "      <th></th>\n",
       "      <th></th>\n",
       "      <th></th>\n",
       "      <th></th>\n",
       "      <th></th>\n",
       "      <th></th>\n",
       "      <th></th>\n",
       "      <th></th>\n",
       "    </tr>\n",
       "  </thead>\n",
       "  <tbody>\n",
       "    <tr>\n",
       "      <th>28581888</th>\n",
       "      <td>6813671</td>\n",
       "      <td>6.322946</td>\n",
       "      <td>25.820680</td>\n",
       "      <td>0.30894</td>\n",
       "      <td>0.30917</td>\n",
       "      <td>-944.0</td>\n",
       "      <td>106.0</td>\n",
       "      <td>-126.0</td>\n",
       "      <td>1</td>\n",
       "      <td>13.5638</td>\n",
       "      <td>217</td>\n",
       "      <td>-18.8790</td>\n",
       "      <td>0.8683</td>\n",
       "      <td>1.49</td>\n",
       "      <td>9.204</td>\n",
       "      <td>22.708</td>\n",
       "      <td>21.427</td>\n",
       "      <td>21.002</td>\n",
       "      <td>20.795</td>\n",
       "      <td>-16.372</td>\n",
       "    </tr>\n",
       "    <tr>\n",
       "      <th>6513920</th>\n",
       "      <td>583531</td>\n",
       "      <td>31.918837</td>\n",
       "      <td>63.028902</td>\n",
       "      <td>0.21009</td>\n",
       "      <td>0.20998</td>\n",
       "      <td>-191.0</td>\n",
       "      <td>171.0</td>\n",
       "      <td>10.0</td>\n",
       "      <td>0</td>\n",
       "      <td>11.5184</td>\n",
       "      <td>3</td>\n",
       "      <td>-19.1841</td>\n",
       "      <td>0.4690</td>\n",
       "      <td>26.30</td>\n",
       "      <td>8.738</td>\n",
       "      <td>20.562</td>\n",
       "      <td>19.997</td>\n",
       "      <td>19.780</td>\n",
       "      <td>19.608</td>\n",
       "      <td>-14.172</td>\n",
       "    </tr>\n",
       "    <tr>\n",
       "      <th>28066816</th>\n",
       "      <td>6705885</td>\n",
       "      <td>2.814453</td>\n",
       "      <td>31.387212</td>\n",
       "      <td>0.28243</td>\n",
       "      <td>0.28162</td>\n",
       "      <td>-325.0</td>\n",
       "      <td>127.0</td>\n",
       "      <td>184.0</td>\n",
       "      <td>0</td>\n",
       "      <td>11.8192</td>\n",
       "      <td>3</td>\n",
       "      <td>-19.7774</td>\n",
       "      <td>0.6869</td>\n",
       "      <td>30.91</td>\n",
       "      <td>8.699</td>\n",
       "      <td>21.248</td>\n",
       "      <td>20.235</td>\n",
       "      <td>19.855</td>\n",
       "      <td>19.578</td>\n",
       "      <td>-14.408</td>\n",
       "    </tr>\n",
       "    <tr>\n",
       "      <th>31695360</th>\n",
       "      <td>7690292</td>\n",
       "      <td>11.170244</td>\n",
       "      <td>52.128139</td>\n",
       "      <td>0.53018</td>\n",
       "      <td>0.52944</td>\n",
       "      <td>88.0</td>\n",
       "      <td>35.0</td>\n",
       "      <td>143.0</td>\n",
       "      <td>0</td>\n",
       "      <td>12.1493</td>\n",
       "      <td>5</td>\n",
       "      <td>-20.4820</td>\n",
       "      <td>0.9445</td>\n",
       "      <td>10.57</td>\n",
       "      <td>9.051</td>\n",
       "      <td>23.285</td>\n",
       "      <td>21.732</td>\n",
       "      <td>20.991</td>\n",
       "      <td>20.590</td>\n",
       "      <td>-15.789</td>\n",
       "    </tr>\n",
       "    <tr>\n",
       "      <th>20980480</th>\n",
       "      <td>4143780</td>\n",
       "      <td>5.683928</td>\n",
       "      <td>60.137498</td>\n",
       "      <td>0.35974</td>\n",
       "      <td>0.36004</td>\n",
       "      <td>-223.0</td>\n",
       "      <td>69.0</td>\n",
       "      <td>-103.0</td>\n",
       "      <td>1</td>\n",
       "      <td>11.4320</td>\n",
       "      <td>2</td>\n",
       "      <td>-16.2978</td>\n",
       "      <td>0.4299</td>\n",
       "      <td>45.26</td>\n",
       "      <td>8.343</td>\n",
       "      <td>24.508</td>\n",
       "      <td>24.086</td>\n",
       "      <td>24.031</td>\n",
       "      <td>23.968</td>\n",
       "      <td>-15.527</td>\n",
       "    </tr>\n",
       "  </tbody>\n",
       "</table>\n",
       "</div>"
      ],
      "text/plain": [
       "               unique_halo_id     ra_gal    dec_gal  z_cgal_v   z_cgal  vxgal  \\\n",
       "unique_gal_id                                                                   \n",
       "28581888              6813671   6.322946  25.820680   0.30894  0.30917 -944.0   \n",
       "6513920                583531  31.918837  63.028902   0.21009  0.20998 -191.0   \n",
       "28066816              6705885   2.814453  31.387212   0.28243  0.28162 -325.0   \n",
       "31695360              7690292  11.170244  52.128139   0.53018  0.52944   88.0   \n",
       "20980480              4143780   5.683928  60.137498   0.35974  0.36004 -223.0   \n",
       "\n",
       "               vygal  vzgal  flag_central   lmhalo  nsats   mr_gal  gr_gal  \\\n",
       "unique_gal_id                                                                \n",
       "28581888       106.0 -126.0             1  13.5638    217 -18.8790  0.8683   \n",
       "6513920        171.0   10.0             0  11.5184      3 -19.1841  0.4690   \n",
       "28066816       127.0  184.0             0  11.8192      3 -19.7774  0.6869   \n",
       "31695360        35.0  143.0             0  12.1493      5 -20.4820  0.9445   \n",
       "20980480        69.0 -103.0             1  11.4320      2 -16.2978  0.4299   \n",
       "\n",
       "               sed_cos  metallicity  des_asahi_full_g_true  \\\n",
       "unique_gal_id                                                \n",
       "28581888          1.49        9.204                 22.708   \n",
       "6513920          26.30        8.738                 20.562   \n",
       "28066816         30.91        8.699                 21.248   \n",
       "31695360         10.57        9.051                 23.285   \n",
       "20980480         45.26        8.343                 24.508   \n",
       "\n",
       "               des_asahi_full_r_true  des_asahi_full_i_true  \\\n",
       "unique_gal_id                                                 \n",
       "28581888                      21.427                 21.002   \n",
       "6513920                       19.997                 19.780   \n",
       "28066816                      20.235                 19.855   \n",
       "31695360                      21.732                 20.991   \n",
       "20980480                      24.086                 24.031   \n",
       "\n",
       "               des_asahi_full_z_true  logf_halpha_ext  \n",
       "unique_gal_id                                          \n",
       "28581888                      20.795          -16.372  \n",
       "6513920                       19.608          -14.172  \n",
       "28066816                      19.578          -14.408  \n",
       "31695360                      20.590          -15.789  \n",
       "20980480                      23.968          -15.527  "
      ]
     },
     "execution_count": 103,
     "metadata": {},
     "output_type": "execute_result"
    }
   ],
   "source": [
    "galaxy_sample[galaxy_sample['ra_gal'] < 45].head()"
   ]
  },
  {
   "cell_type": "code",
   "execution_count": 104,
   "metadata": {
    "collapsed": false
   },
   "outputs": [
    {
     "data": {
      "text/html": [
       "<div>\n",
       "<table border=\"1\" class=\"dataframe\">\n",
       "  <thead>\n",
       "    <tr style=\"text-align: right;\">\n",
       "      <th></th>\n",
       "      <th>unique_halo_id</th>\n",
       "      <th>ra_gal</th>\n",
       "      <th>dec_gal</th>\n",
       "      <th>z_cgal_v</th>\n",
       "      <th>z_cgal</th>\n",
       "      <th>vxgal</th>\n",
       "      <th>vygal</th>\n",
       "      <th>vzgal</th>\n",
       "      <th>flag_central</th>\n",
       "      <th>lmhalo</th>\n",
       "      <th>nsats</th>\n",
       "      <th>mr_gal</th>\n",
       "      <th>gr_gal</th>\n",
       "      <th>sed_cos</th>\n",
       "      <th>metallicity</th>\n",
       "      <th>des_asahi_full_g_true</th>\n",
       "      <th>des_asahi_full_r_true</th>\n",
       "      <th>des_asahi_full_i_true</th>\n",
       "      <th>des_asahi_full_z_true</th>\n",
       "      <th>logf_halpha_ext</th>\n",
       "    </tr>\n",
       "    <tr>\n",
       "      <th>unique_gal_id</th>\n",
       "      <th></th>\n",
       "      <th></th>\n",
       "      <th></th>\n",
       "      <th></th>\n",
       "      <th></th>\n",
       "      <th></th>\n",
       "      <th></th>\n",
       "      <th></th>\n",
       "      <th></th>\n",
       "      <th></th>\n",
       "      <th></th>\n",
       "      <th></th>\n",
       "      <th></th>\n",
       "      <th></th>\n",
       "      <th></th>\n",
       "      <th></th>\n",
       "      <th></th>\n",
       "      <th></th>\n",
       "      <th></th>\n",
       "      <th></th>\n",
       "    </tr>\n",
       "  </thead>\n",
       "  <tbody>\n",
       "    <tr>\n",
       "      <th>5670656</th>\n",
       "      <td>491819</td>\n",
       "      <td>77.520009</td>\n",
       "      <td>67.003535</td>\n",
       "      <td>0.17039</td>\n",
       "      <td>0.16942</td>\n",
       "      <td>543.0</td>\n",
       "      <td>157.0</td>\n",
       "      <td>30.0</td>\n",
       "      <td>1</td>\n",
       "      <td>11.6772</td>\n",
       "      <td>1</td>\n",
       "      <td>-17.0436</td>\n",
       "      <td>0.8849</td>\n",
       "      <td>12.01</td>\n",
       "      <td>8.358</td>\n",
       "      <td>22.667</td>\n",
       "      <td>21.651</td>\n",
       "      <td>21.280</td>\n",
       "      <td>20.991</td>\n",
       "      <td>-16.024</td>\n",
       "    </tr>\n",
       "    <tr>\n",
       "      <th>2320896</th>\n",
       "      <td>192012</td>\n",
       "      <td>44.974395</td>\n",
       "      <td>19.339001</td>\n",
       "      <td>0.11212</td>\n",
       "      <td>0.11159</td>\n",
       "      <td>138.0</td>\n",
       "      <td>140.0</td>\n",
       "      <td>-129.0</td>\n",
       "      <td>1</td>\n",
       "      <td>11.8812</td>\n",
       "      <td>4</td>\n",
       "      <td>-15.1444</td>\n",
       "      <td>0.4212</td>\n",
       "      <td>22.15</td>\n",
       "      <td>8.268</td>\n",
       "      <td>22.902</td>\n",
       "      <td>22.529</td>\n",
       "      <td>22.396</td>\n",
       "      <td>22.286</td>\n",
       "      <td>-15.680</td>\n",
       "    </tr>\n",
       "    <tr>\n",
       "      <th>13615360</th>\n",
       "      <td>2778894</td>\n",
       "      <td>25.933329</td>\n",
       "      <td>84.993563</td>\n",
       "      <td>1.09291</td>\n",
       "      <td>1.09288</td>\n",
       "      <td>-19.0</td>\n",
       "      <td>328.0</td>\n",
       "      <td>-21.0</td>\n",
       "      <td>1</td>\n",
       "      <td>12.2438</td>\n",
       "      <td>2</td>\n",
       "      <td>-19.9832</td>\n",
       "      <td>0.9017</td>\n",
       "      <td>15.68</td>\n",
       "      <td>8.912</td>\n",
       "      <td>26.237</td>\n",
       "      <td>25.238</td>\n",
       "      <td>24.430</td>\n",
       "      <td>23.534</td>\n",
       "      <td>-15.939</td>\n",
       "    </tr>\n",
       "    <tr>\n",
       "      <th>6063872</th>\n",
       "      <td>534415</td>\n",
       "      <td>58.001313</td>\n",
       "      <td>63.696729</td>\n",
       "      <td>0.19219</td>\n",
       "      <td>0.19561</td>\n",
       "      <td>-81.0</td>\n",
       "      <td>-412.0</td>\n",
       "      <td>-817.0</td>\n",
       "      <td>1</td>\n",
       "      <td>11.8853</td>\n",
       "      <td>4</td>\n",
       "      <td>-15.2035</td>\n",
       "      <td>0.3650</td>\n",
       "      <td>43.06</td>\n",
       "      <td>8.092</td>\n",
       "      <td>24.171</td>\n",
       "      <td>23.785</td>\n",
       "      <td>23.644</td>\n",
       "      <td>23.529</td>\n",
       "      <td>-15.652</td>\n",
       "    </tr>\n",
       "    <tr>\n",
       "      <th>3231232</th>\n",
       "      <td>268116</td>\n",
       "      <td>45.789139</td>\n",
       "      <td>52.770253</td>\n",
       "      <td>0.11941</td>\n",
       "      <td>0.12072</td>\n",
       "      <td>-115.0</td>\n",
       "      <td>-307.0</td>\n",
       "      <td>-217.0</td>\n",
       "      <td>1</td>\n",
       "      <td>12.2684</td>\n",
       "      <td>13</td>\n",
       "      <td>-20.0788</td>\n",
       "      <td>0.9073</td>\n",
       "      <td>4.76</td>\n",
       "      <td>8.926</td>\n",
       "      <td>18.716</td>\n",
       "      <td>17.754</td>\n",
       "      <td>17.400</td>\n",
       "      <td>17.143</td>\n",
       "      <td>-15.472</td>\n",
       "    </tr>\n",
       "  </tbody>\n",
       "</table>\n",
       "</div>"
      ],
      "text/plain": [
       "               unique_halo_id     ra_gal    dec_gal  z_cgal_v   z_cgal  vxgal  \\\n",
       "unique_gal_id                                                                   \n",
       "5670656                491819  77.520009  67.003535   0.17039  0.16942  543.0   \n",
       "2320896                192012  44.974395  19.339001   0.11212  0.11159  138.0   \n",
       "13615360              2778894  25.933329  84.993563   1.09291  1.09288  -19.0   \n",
       "6063872                534415  58.001313  63.696729   0.19219  0.19561  -81.0   \n",
       "3231232                268116  45.789139  52.770253   0.11941  0.12072 -115.0   \n",
       "\n",
       "               vygal  vzgal  flag_central   lmhalo  nsats   mr_gal  gr_gal  \\\n",
       "unique_gal_id                                                                \n",
       "5670656        157.0   30.0             1  11.6772      1 -17.0436  0.8849   \n",
       "2320896        140.0 -129.0             1  11.8812      4 -15.1444  0.4212   \n",
       "13615360       328.0  -21.0             1  12.2438      2 -19.9832  0.9017   \n",
       "6063872       -412.0 -817.0             1  11.8853      4 -15.2035  0.3650   \n",
       "3231232       -307.0 -217.0             1  12.2684     13 -20.0788  0.9073   \n",
       "\n",
       "               sed_cos  metallicity  des_asahi_full_g_true  \\\n",
       "unique_gal_id                                                \n",
       "5670656          12.01        8.358                 22.667   \n",
       "2320896          22.15        8.268                 22.902   \n",
       "13615360         15.68        8.912                 26.237   \n",
       "6063872          43.06        8.092                 24.171   \n",
       "3231232           4.76        8.926                 18.716   \n",
       "\n",
       "               des_asahi_full_r_true  des_asahi_full_i_true  \\\n",
       "unique_gal_id                                                 \n",
       "5670656                       21.651                 21.280   \n",
       "2320896                       22.529                 22.396   \n",
       "13615360                      25.238                 24.430   \n",
       "6063872                       23.785                 23.644   \n",
       "3231232                       17.754                 17.400   \n",
       "\n",
       "               des_asahi_full_z_true  logf_halpha_ext  \n",
       "unique_gal_id                                          \n",
       "5670656                       20.991          -16.024  \n",
       "2320896                       22.286          -15.680  \n",
       "13615360                      23.534          -15.939  \n",
       "6063872                       23.529          -15.652  \n",
       "3231232                       17.143          -15.472  "
      ]
     },
     "execution_count": 104,
     "metadata": {},
     "output_type": "execute_result"
    }
   ],
   "source": [
    "# redshift shell\n",
    "galaxy_sample[(galaxy_sample.z_cgal <= 0.2) | (galaxy_sample.z_cgal >= 1.0)].head()"
   ]
  },
  {
   "cell_type": "code",
   "execution_count": 105,
   "metadata": {
    "collapsed": false
   },
   "outputs": [
    {
     "data": {
      "text/html": [
       "<div>\n",
       "<table border=\"1\" class=\"dataframe\">\n",
       "  <thead>\n",
       "    <tr style=\"text-align: right;\">\n",
       "      <th></th>\n",
       "      <th>unique_halo_id</th>\n",
       "      <th>ra_gal</th>\n",
       "      <th>dec_gal</th>\n",
       "      <th>z_cgal_v</th>\n",
       "      <th>z_cgal</th>\n",
       "      <th>vxgal</th>\n",
       "      <th>vygal</th>\n",
       "      <th>vzgal</th>\n",
       "      <th>flag_central</th>\n",
       "      <th>lmhalo</th>\n",
       "      <th>nsats</th>\n",
       "      <th>mr_gal</th>\n",
       "      <th>gr_gal</th>\n",
       "      <th>sed_cos</th>\n",
       "      <th>metallicity</th>\n",
       "      <th>des_asahi_full_g_true</th>\n",
       "      <th>des_asahi_full_r_true</th>\n",
       "      <th>des_asahi_full_i_true</th>\n",
       "      <th>des_asahi_full_z_true</th>\n",
       "      <th>logf_halpha_ext</th>\n",
       "    </tr>\n",
       "    <tr>\n",
       "      <th>unique_gal_id</th>\n",
       "      <th></th>\n",
       "      <th></th>\n",
       "      <th></th>\n",
       "      <th></th>\n",
       "      <th></th>\n",
       "      <th></th>\n",
       "      <th></th>\n",
       "      <th></th>\n",
       "      <th></th>\n",
       "      <th></th>\n",
       "      <th></th>\n",
       "      <th></th>\n",
       "      <th></th>\n",
       "      <th></th>\n",
       "      <th></th>\n",
       "      <th></th>\n",
       "      <th></th>\n",
       "      <th></th>\n",
       "      <th></th>\n",
       "      <th></th>\n",
       "    </tr>\n",
       "  </thead>\n",
       "  <tbody>\n",
       "    <tr>\n",
       "      <th>5670656</th>\n",
       "      <td>491819</td>\n",
       "      <td>77.520009</td>\n",
       "      <td>67.003535</td>\n",
       "      <td>0.17039</td>\n",
       "      <td>0.16942</td>\n",
       "      <td>543.0</td>\n",
       "      <td>157.0</td>\n",
       "      <td>30.0</td>\n",
       "      <td>1</td>\n",
       "      <td>11.6772</td>\n",
       "      <td>1</td>\n",
       "      <td>-17.0436</td>\n",
       "      <td>0.8849</td>\n",
       "      <td>12.01</td>\n",
       "      <td>8.358</td>\n",
       "      <td>22.667</td>\n",
       "      <td>21.651</td>\n",
       "      <td>21.28</td>\n",
       "      <td>20.991</td>\n",
       "      <td>-16.024</td>\n",
       "    </tr>\n",
       "    <tr>\n",
       "      <th>3231232</th>\n",
       "      <td>268116</td>\n",
       "      <td>45.789139</td>\n",
       "      <td>52.770253</td>\n",
       "      <td>0.11941</td>\n",
       "      <td>0.12072</td>\n",
       "      <td>-115.0</td>\n",
       "      <td>-307.0</td>\n",
       "      <td>-217.0</td>\n",
       "      <td>1</td>\n",
       "      <td>12.2684</td>\n",
       "      <td>13</td>\n",
       "      <td>-20.0788</td>\n",
       "      <td>0.9073</td>\n",
       "      <td>4.76</td>\n",
       "      <td>8.926</td>\n",
       "      <td>18.716</td>\n",
       "      <td>17.754</td>\n",
       "      <td>17.40</td>\n",
       "      <td>17.143</td>\n",
       "      <td>-15.472</td>\n",
       "    </tr>\n",
       "  </tbody>\n",
       "</table>\n",
       "</div>"
      ],
      "text/plain": [
       "               unique_halo_id     ra_gal    dec_gal  z_cgal_v   z_cgal  vxgal  \\\n",
       "unique_gal_id                                                                   \n",
       "5670656                491819  77.520009  67.003535   0.17039  0.16942  543.0   \n",
       "3231232                268116  45.789139  52.770253   0.11941  0.12072 -115.0   \n",
       "\n",
       "               vygal  vzgal  flag_central   lmhalo  nsats   mr_gal  gr_gal  \\\n",
       "unique_gal_id                                                                \n",
       "5670656        157.0   30.0             1  11.6772      1 -17.0436  0.8849   \n",
       "3231232       -307.0 -217.0             1  12.2684     13 -20.0788  0.9073   \n",
       "\n",
       "               sed_cos  metallicity  des_asahi_full_g_true  \\\n",
       "unique_gal_id                                                \n",
       "5670656          12.01        8.358                 22.667   \n",
       "3231232           4.76        8.926                 18.716   \n",
       "\n",
       "               des_asahi_full_r_true  des_asahi_full_i_true  \\\n",
       "unique_gal_id                                                 \n",
       "5670656                       21.651                  21.28   \n",
       "3231232                       17.754                  17.40   \n",
       "\n",
       "               des_asahi_full_z_true  logf_halpha_ext  \n",
       "unique_gal_id                                          \n",
       "5670656                       20.991          -16.024  \n",
       "3231232                       17.143          -15.472  "
      ]
     },
     "execution_count": 105,
     "metadata": {},
     "output_type": "execute_result"
    }
   ],
   "source": [
    "galaxy_sample[(galaxy_sample.z_cgal <= 1.0) & (galaxy_sample.index.isin([5670656,13615360,3231232]))]"
   ]
  },
  {
   "cell_type": "code",
   "execution_count": 106,
   "metadata": {
    "collapsed": false
   },
   "outputs": [
    {
     "data": {
      "text/html": [
       "<div>\n",
       "<table border=\"1\" class=\"dataframe\">\n",
       "  <thead>\n",
       "    <tr style=\"text-align: right;\">\n",
       "      <th></th>\n",
       "      <th>ra_gal</th>\n",
       "      <th>dec_gal</th>\n",
       "    </tr>\n",
       "    <tr>\n",
       "      <th>unique_gal_id</th>\n",
       "      <th></th>\n",
       "      <th></th>\n",
       "    </tr>\n",
       "  </thead>\n",
       "  <tbody>\n",
       "    <tr>\n",
       "      <th>60252160</th>\n",
       "      <td>0.506340</td>\n",
       "      <td>0.603683</td>\n",
       "    </tr>\n",
       "    <tr>\n",
       "      <th>443736576</th>\n",
       "      <td>0.656398</td>\n",
       "      <td>0.543388</td>\n",
       "    </tr>\n",
       "    <tr>\n",
       "      <th>58349312</th>\n",
       "      <td>0.450907</td>\n",
       "      <td>0.022658</td>\n",
       "    </tr>\n",
       "    <tr>\n",
       "      <th>325529600</th>\n",
       "      <td>0.511039</td>\n",
       "      <td>0.443529</td>\n",
       "    </tr>\n",
       "    <tr>\n",
       "      <th>443926528</th>\n",
       "      <td>0.322707</td>\n",
       "      <td>0.102679</td>\n",
       "    </tr>\n",
       "  </tbody>\n",
       "</table>\n",
       "</div>"
      ],
      "text/plain": [
       "                 ra_gal   dec_gal\n",
       "unique_gal_id                    \n",
       "60252160       0.506340  0.603683\n",
       "443736576      0.656398  0.543388\n",
       "58349312       0.450907  0.022658\n",
       "325529600      0.511039  0.443529\n",
       "443926528      0.322707  0.102679"
      ]
     },
     "execution_count": 106,
     "metadata": {},
     "output_type": "execute_result"
    }
   ],
   "source": [
    "galaxy_sample[(galaxy_sample['ra_gal'] < 1.) & (galaxy_sample['dec_gal'] < 1.)][['ra_gal','dec_gal']].head()"
   ]
  },
  {
   "cell_type": "markdown",
   "metadata": {},
   "source": [
    "### Recap:\n",
    "- loc works on labels in the index.\n",
    "- iloc works on the positions in the index (so it only takes integers)."
   ]
  },
  {
   "cell_type": "markdown",
   "metadata": {},
   "source": [
    "### Advanced example: estimate the size of the disk (*disk_length*) for a set of galaxies\n",
    "\n",
    "- In this exercise we are going to use some of the previous examples. \n",
    "- Also we are going to introduce how to add a column and some other concepts\n",
    "\n",
    "    - We split the galaxies into two different populations, Ellipticals and Spirals, depending on the their color and absolute magnitude:\n",
    "        ```\n",
    "         if color - 0.29 + 0.03 * abs_mag < 0 then Spiral\n",
    "         else then Elliptical\n",
    "        ```\n",
    "\n",
    "    - How many galaxies are elliptical or spirals?\n",
    "\n",
    "    - Elliptical galaxies do not have any disk (and therefore disk_length = 0).\n",
    "\n",
    "    - The disk_length for spiral galaxies follows a normal distribution with mean = 0 and sigma = 0.15 (in arcsec). In addition, the minimum disk_length for a spiral galaxy is 1.e-3."
   ]
  },
  {
   "cell_type": "code",
   "execution_count": 107,
   "metadata": {
    "collapsed": false
   },
   "outputs": [],
   "source": [
    "filename='/nfs/astro/jcarrete/sandbox/curso_python/1329.csv'\n",
    "'''\n",
    "SELECT unique_gal_id, \n",
    "(mr_gal - 0.8 * (atan(1.5 * z_cgal)- 0.1489)) AS abs_mag, \n",
    "gr_gal AS color, \n",
    "(des_asahi_full_i_true - 0.8 * (atan(1.5 * z_cgal)- 0.1489)) AS app_mag \n",
    "FROM micecatv2_0_view \n",
    "LIMIT 1000\n",
    "\n",
    "catalog 1329\n",
    "'''\n",
    "\n",
    "unique_gal_id_field = 'unique_gal_id'\n",
    "galaxy_sample = pd.read_csv(\n",
    "        filename, \n",
    "        sep=',', \n",
    "        index_col = unique_gal_id_field, \n",
    "        comment='#', \n",
    "        na_values = '\\N', \n",
    "    )"
   ]
  },
  {
   "cell_type": "code",
   "execution_count": 108,
   "metadata": {
    "collapsed": false
   },
   "outputs": [
    {
     "data": {
      "text/html": [
       "<div>\n",
       "<table border=\"1\" class=\"dataframe\">\n",
       "  <thead>\n",
       "    <tr style=\"text-align: right;\">\n",
       "      <th></th>\n",
       "      <th>abs_mag</th>\n",
       "      <th>color</th>\n",
       "      <th>app_mag</th>\n",
       "    </tr>\n",
       "    <tr>\n",
       "      <th>unique_gal_id</th>\n",
       "      <th></th>\n",
       "      <th></th>\n",
       "      <th></th>\n",
       "    </tr>\n",
       "  </thead>\n",
       "  <tbody>\n",
       "    <tr>\n",
       "      <th>266930432</th>\n",
       "      <td>-21.720871</td>\n",
       "      <td>0.7693</td>\n",
       "      <td>21.178329</td>\n",
       "    </tr>\n",
       "    <tr>\n",
       "      <th>244782592</th>\n",
       "      <td>-20.564829</td>\n",
       "      <td>0.3700</td>\n",
       "      <td>23.249573</td>\n",
       "    </tr>\n",
       "    <tr>\n",
       "      <th>225208064</th>\n",
       "      <td>-17.888000</td>\n",
       "      <td>0.3709</td>\n",
       "      <td>24.266699</td>\n",
       "    </tr>\n",
       "    <tr>\n",
       "      <th>261874432</th>\n",
       "      <td>-20.711691</td>\n",
       "      <td>0.6040</td>\n",
       "      <td>23.875210</td>\n",
       "    </tr>\n",
       "    <tr>\n",
       "      <th>260952576</th>\n",
       "      <td>-20.162808</td>\n",
       "      <td>0.8380</td>\n",
       "      <td>23.574893</td>\n",
       "    </tr>\n",
       "    <tr>\n",
       "      <th>222255360</th>\n",
       "      <td>-19.983145</td>\n",
       "      <td>0.8812</td>\n",
       "      <td>23.232855</td>\n",
       "    </tr>\n",
       "    <tr>\n",
       "      <th>232096256</th>\n",
       "      <td>-19.743302</td>\n",
       "      <td>0.9105</td>\n",
       "      <td>23.679798</td>\n",
       "    </tr>\n",
       "    <tr>\n",
       "      <th>260299520</th>\n",
       "      <td>-20.217747</td>\n",
       "      <td>0.6072</td>\n",
       "      <td>23.329051</td>\n",
       "    </tr>\n",
       "    <tr>\n",
       "      <th>247799296</th>\n",
       "      <td>-19.684737</td>\n",
       "      <td>0.4154</td>\n",
       "      <td>23.648262</td>\n",
       "    </tr>\n",
       "    <tr>\n",
       "      <th>215520768</th>\n",
       "      <td>-21.310519</td>\n",
       "      <td>0.9260</td>\n",
       "      <td>20.620580</td>\n",
       "    </tr>\n",
       "  </tbody>\n",
       "</table>\n",
       "</div>"
      ],
      "text/plain": [
       "                 abs_mag   color    app_mag\n",
       "unique_gal_id                              \n",
       "266930432     -21.720871  0.7693  21.178329\n",
       "244782592     -20.564829  0.3700  23.249573\n",
       "225208064     -17.888000  0.3709  24.266699\n",
       "261874432     -20.711691  0.6040  23.875210\n",
       "260952576     -20.162808  0.8380  23.574893\n",
       "222255360     -19.983145  0.8812  23.232855\n",
       "232096256     -19.743302  0.9105  23.679798\n",
       "260299520     -20.217747  0.6072  23.329051\n",
       "247799296     -19.684737  0.4154  23.648262\n",
       "215520768     -21.310519  0.9260  20.620580"
      ]
     },
     "execution_count": 108,
     "metadata": {},
     "output_type": "execute_result"
    }
   ],
   "source": [
    "galaxy_sample.tail(10)"
   ]
  },
  {
   "cell_type": "code",
   "execution_count": 109,
   "metadata": {
    "collapsed": false
   },
   "outputs": [],
   "source": [
    "# Splitting the galaxies\n",
    "# Boolean mask\n",
    "has_disk_mask = (galaxy_sample['color']-0.29+0.03*galaxy_sample['abs_mag'] < 0)"
   ]
  },
  {
   "cell_type": "code",
   "execution_count": 110,
   "metadata": {
    "collapsed": false
   },
   "outputs": [
    {
     "data": {
      "text/plain": [
       "unique_gal_id\n",
       "266930432     True\n",
       "244782592     True\n",
       "225208064     True\n",
       "261874432     True\n",
       "260952576     True\n",
       "222255360     True\n",
       "232096256    False\n",
       "260299520     True\n",
       "247799296     True\n",
       "215520768     True\n",
       "dtype: bool"
      ]
     },
     "execution_count": 110,
     "metadata": {},
     "output_type": "execute_result"
    }
   ],
   "source": [
    "has_disk_mask.tail(10)"
   ]
  },
  {
   "cell_type": "code",
   "execution_count": 111,
   "metadata": {
    "collapsed": false
   },
   "outputs": [
    {
     "name": "stdout",
     "output_type": "stream",
     "text": [
      "1000\n",
      "<class 'pandas.core.series.Series'>\n"
     ]
    }
   ],
   "source": [
    "print len(has_disk_mask)\n",
    "print type(has_disk_mask)"
   ]
  },
  {
   "cell_type": "code",
   "execution_count": 112,
   "metadata": {
    "collapsed": true
   },
   "outputs": [],
   "source": [
    "# Counting how many spirals\n",
    "n_spiral = has_disk_mask.sum()"
   ]
  },
  {
   "cell_type": "code",
   "execution_count": 113,
   "metadata": {
    "collapsed": true
   },
   "outputs": [],
   "source": [
    "# Counting how many ellipticals\n",
    "n_elliptical = ~has_disk_mask.sum()"
   ]
  },
  {
   "cell_type": "code",
   "execution_count": 114,
   "metadata": {
    "collapsed": false
   },
   "outputs": [
    {
     "data": {
      "text/plain": [
       "abs_mag    885\n",
       "color      885\n",
       "app_mag    885\n",
       "dtype: int64"
      ]
     },
     "execution_count": 114,
     "metadata": {},
     "output_type": "execute_result"
    }
   ],
   "source": [
    "galaxy_sample[has_disk_mask].count()"
   ]
  },
  {
   "cell_type": "code",
   "execution_count": 115,
   "metadata": {
    "collapsed": false
   },
   "outputs": [
    {
     "name": "stderr",
     "output_type": "stream",
     "text": [
      "/software/astro/env/jcarrete/hod_new/lib/python2.7/site-packages/ipykernel/__main__.py:1: SettingWithCopyWarning: \n",
      "A value is trying to be set on a copy of a slice from a DataFrame.\n",
      "Try using .loc[row_indexer,col_indexer] = value instead\n",
      "\n",
      "See the caveats in the documentation: http://pandas.pydata.org/pandas-docs/stable/indexing.html#indexing-view-versus-copy\n",
      "  if __name__ == '__main__':\n"
     ]
    }
   ],
   "source": [
    "galaxy_sample[has_disk_mask]['hubble_type'] = 'Spiral'"
   ]
  },
  {
   "cell_type": "code",
   "execution_count": 116,
   "metadata": {
    "collapsed": false
   },
   "outputs": [
    {
     "data": {
      "text/html": [
       "<div>\n",
       "<table border=\"1\" class=\"dataframe\">\n",
       "  <thead>\n",
       "    <tr style=\"text-align: right;\">\n",
       "      <th></th>\n",
       "      <th>abs_mag</th>\n",
       "      <th>color</th>\n",
       "      <th>app_mag</th>\n",
       "    </tr>\n",
       "    <tr>\n",
       "      <th>unique_gal_id</th>\n",
       "      <th></th>\n",
       "      <th></th>\n",
       "      <th></th>\n",
       "    </tr>\n",
       "  </thead>\n",
       "  <tbody>\n",
       "    <tr>\n",
       "      <th>266930432</th>\n",
       "      <td>-21.720871</td>\n",
       "      <td>0.7693</td>\n",
       "      <td>21.178329</td>\n",
       "    </tr>\n",
       "    <tr>\n",
       "      <th>244782592</th>\n",
       "      <td>-20.564829</td>\n",
       "      <td>0.3700</td>\n",
       "      <td>23.249573</td>\n",
       "    </tr>\n",
       "    <tr>\n",
       "      <th>225208064</th>\n",
       "      <td>-17.888000</td>\n",
       "      <td>0.3709</td>\n",
       "      <td>24.266699</td>\n",
       "    </tr>\n",
       "    <tr>\n",
       "      <th>261874432</th>\n",
       "      <td>-20.711691</td>\n",
       "      <td>0.6040</td>\n",
       "      <td>23.875210</td>\n",
       "    </tr>\n",
       "    <tr>\n",
       "      <th>260952576</th>\n",
       "      <td>-20.162808</td>\n",
       "      <td>0.8380</td>\n",
       "      <td>23.574893</td>\n",
       "    </tr>\n",
       "    <tr>\n",
       "      <th>222255360</th>\n",
       "      <td>-19.983145</td>\n",
       "      <td>0.8812</td>\n",
       "      <td>23.232855</td>\n",
       "    </tr>\n",
       "    <tr>\n",
       "      <th>232096256</th>\n",
       "      <td>-19.743302</td>\n",
       "      <td>0.9105</td>\n",
       "      <td>23.679798</td>\n",
       "    </tr>\n",
       "    <tr>\n",
       "      <th>260299520</th>\n",
       "      <td>-20.217747</td>\n",
       "      <td>0.6072</td>\n",
       "      <td>23.329051</td>\n",
       "    </tr>\n",
       "    <tr>\n",
       "      <th>247799296</th>\n",
       "      <td>-19.684737</td>\n",
       "      <td>0.4154</td>\n",
       "      <td>23.648262</td>\n",
       "    </tr>\n",
       "    <tr>\n",
       "      <th>215520768</th>\n",
       "      <td>-21.310519</td>\n",
       "      <td>0.9260</td>\n",
       "      <td>20.620580</td>\n",
       "    </tr>\n",
       "  </tbody>\n",
       "</table>\n",
       "</div>"
      ],
      "text/plain": [
       "                 abs_mag   color    app_mag\n",
       "unique_gal_id                              \n",
       "266930432     -21.720871  0.7693  21.178329\n",
       "244782592     -20.564829  0.3700  23.249573\n",
       "225208064     -17.888000  0.3709  24.266699\n",
       "261874432     -20.711691  0.6040  23.875210\n",
       "260952576     -20.162808  0.8380  23.574893\n",
       "222255360     -19.983145  0.8812  23.232855\n",
       "232096256     -19.743302  0.9105  23.679798\n",
       "260299520     -20.217747  0.6072  23.329051\n",
       "247799296     -19.684737  0.4154  23.648262\n",
       "215520768     -21.310519  0.9260  20.620580"
      ]
     },
     "execution_count": 116,
     "metadata": {},
     "output_type": "execute_result"
    }
   ],
   "source": [
    "# It did not \n",
    "galaxy_sample.tail(10)"
   ]
  },
  {
   "cell_type": "code",
   "execution_count": 117,
   "metadata": {
    "collapsed": false
   },
   "outputs": [],
   "source": [
    "galaxy_sample.loc[has_disk_mask, 'hubble_type'] = 'Spiral'"
   ]
  },
  {
   "cell_type": "code",
   "execution_count": 118,
   "metadata": {
    "collapsed": false
   },
   "outputs": [],
   "source": [
    "galaxy_sample.loc[~has_disk_mask, 'hubble_type'] = 'Elliptical'"
   ]
  },
  {
   "cell_type": "code",
   "execution_count": 119,
   "metadata": {
    "collapsed": false
   },
   "outputs": [
    {
     "data": {
      "text/html": [
       "<div>\n",
       "<table border=\"1\" class=\"dataframe\">\n",
       "  <thead>\n",
       "    <tr style=\"text-align: right;\">\n",
       "      <th></th>\n",
       "      <th>abs_mag</th>\n",
       "      <th>color</th>\n",
       "      <th>app_mag</th>\n",
       "      <th>hubble_type</th>\n",
       "    </tr>\n",
       "    <tr>\n",
       "      <th>unique_gal_id</th>\n",
       "      <th></th>\n",
       "      <th></th>\n",
       "      <th></th>\n",
       "      <th></th>\n",
       "    </tr>\n",
       "  </thead>\n",
       "  <tbody>\n",
       "    <tr>\n",
       "      <th>266930432</th>\n",
       "      <td>-21.720871</td>\n",
       "      <td>0.7693</td>\n",
       "      <td>21.178329</td>\n",
       "      <td>Spiral</td>\n",
       "    </tr>\n",
       "    <tr>\n",
       "      <th>244782592</th>\n",
       "      <td>-20.564829</td>\n",
       "      <td>0.3700</td>\n",
       "      <td>23.249573</td>\n",
       "      <td>Spiral</td>\n",
       "    </tr>\n",
       "    <tr>\n",
       "      <th>225208064</th>\n",
       "      <td>-17.888000</td>\n",
       "      <td>0.3709</td>\n",
       "      <td>24.266699</td>\n",
       "      <td>Spiral</td>\n",
       "    </tr>\n",
       "    <tr>\n",
       "      <th>261874432</th>\n",
       "      <td>-20.711691</td>\n",
       "      <td>0.6040</td>\n",
       "      <td>23.875210</td>\n",
       "      <td>Spiral</td>\n",
       "    </tr>\n",
       "    <tr>\n",
       "      <th>260952576</th>\n",
       "      <td>-20.162808</td>\n",
       "      <td>0.8380</td>\n",
       "      <td>23.574893</td>\n",
       "      <td>Spiral</td>\n",
       "    </tr>\n",
       "    <tr>\n",
       "      <th>222255360</th>\n",
       "      <td>-19.983145</td>\n",
       "      <td>0.8812</td>\n",
       "      <td>23.232855</td>\n",
       "      <td>Spiral</td>\n",
       "    </tr>\n",
       "    <tr>\n",
       "      <th>232096256</th>\n",
       "      <td>-19.743302</td>\n",
       "      <td>0.9105</td>\n",
       "      <td>23.679798</td>\n",
       "      <td>Elliptical</td>\n",
       "    </tr>\n",
       "    <tr>\n",
       "      <th>260299520</th>\n",
       "      <td>-20.217747</td>\n",
       "      <td>0.6072</td>\n",
       "      <td>23.329051</td>\n",
       "      <td>Spiral</td>\n",
       "    </tr>\n",
       "    <tr>\n",
       "      <th>247799296</th>\n",
       "      <td>-19.684737</td>\n",
       "      <td>0.4154</td>\n",
       "      <td>23.648262</td>\n",
       "      <td>Spiral</td>\n",
       "    </tr>\n",
       "    <tr>\n",
       "      <th>215520768</th>\n",
       "      <td>-21.310519</td>\n",
       "      <td>0.9260</td>\n",
       "      <td>20.620580</td>\n",
       "      <td>Spiral</td>\n",
       "    </tr>\n",
       "  </tbody>\n",
       "</table>\n",
       "</div>"
      ],
      "text/plain": [
       "                 abs_mag   color    app_mag hubble_type\n",
       "unique_gal_id                                          \n",
       "266930432     -21.720871  0.7693  21.178329      Spiral\n",
       "244782592     -20.564829  0.3700  23.249573      Spiral\n",
       "225208064     -17.888000  0.3709  24.266699      Spiral\n",
       "261874432     -20.711691  0.6040  23.875210      Spiral\n",
       "260952576     -20.162808  0.8380  23.574893      Spiral\n",
       "222255360     -19.983145  0.8812  23.232855      Spiral\n",
       "232096256     -19.743302  0.9105  23.679798  Elliptical\n",
       "260299520     -20.217747  0.6072  23.329051      Spiral\n",
       "247799296     -19.684737  0.4154  23.648262      Spiral\n",
       "215520768     -21.310519  0.9260  20.620580      Spiral"
      ]
     },
     "execution_count": 119,
     "metadata": {},
     "output_type": "execute_result"
    }
   ],
   "source": [
    "galaxy_sample.tail(10)"
   ]
  },
  {
   "cell_type": "code",
   "execution_count": 120,
   "metadata": {
    "collapsed": false
   },
   "outputs": [],
   "source": [
    "# We can use the numpy where method to do the same:\n",
    "galaxy_sample['color_type'] = np.where(has_disk_mask, 'Blue', 'Red')"
   ]
  },
  {
   "cell_type": "code",
   "execution_count": 121,
   "metadata": {
    "collapsed": false
   },
   "outputs": [
    {
     "data": {
      "text/html": [
       "<div>\n",
       "<table border=\"1\" class=\"dataframe\">\n",
       "  <thead>\n",
       "    <tr style=\"text-align: right;\">\n",
       "      <th></th>\n",
       "      <th>abs_mag</th>\n",
       "      <th>color</th>\n",
       "      <th>app_mag</th>\n",
       "      <th>hubble_type</th>\n",
       "      <th>color_type</th>\n",
       "    </tr>\n",
       "    <tr>\n",
       "      <th>unique_gal_id</th>\n",
       "      <th></th>\n",
       "      <th></th>\n",
       "      <th></th>\n",
       "      <th></th>\n",
       "      <th></th>\n",
       "    </tr>\n",
       "  </thead>\n",
       "  <tbody>\n",
       "    <tr>\n",
       "      <th>266930432</th>\n",
       "      <td>-21.720871</td>\n",
       "      <td>0.7693</td>\n",
       "      <td>21.178329</td>\n",
       "      <td>Spiral</td>\n",
       "      <td>Blue</td>\n",
       "    </tr>\n",
       "    <tr>\n",
       "      <th>244782592</th>\n",
       "      <td>-20.564829</td>\n",
       "      <td>0.3700</td>\n",
       "      <td>23.249573</td>\n",
       "      <td>Spiral</td>\n",
       "      <td>Blue</td>\n",
       "    </tr>\n",
       "    <tr>\n",
       "      <th>225208064</th>\n",
       "      <td>-17.888000</td>\n",
       "      <td>0.3709</td>\n",
       "      <td>24.266699</td>\n",
       "      <td>Spiral</td>\n",
       "      <td>Blue</td>\n",
       "    </tr>\n",
       "    <tr>\n",
       "      <th>261874432</th>\n",
       "      <td>-20.711691</td>\n",
       "      <td>0.6040</td>\n",
       "      <td>23.875210</td>\n",
       "      <td>Spiral</td>\n",
       "      <td>Blue</td>\n",
       "    </tr>\n",
       "    <tr>\n",
       "      <th>260952576</th>\n",
       "      <td>-20.162808</td>\n",
       "      <td>0.8380</td>\n",
       "      <td>23.574893</td>\n",
       "      <td>Spiral</td>\n",
       "      <td>Blue</td>\n",
       "    </tr>\n",
       "    <tr>\n",
       "      <th>222255360</th>\n",
       "      <td>-19.983145</td>\n",
       "      <td>0.8812</td>\n",
       "      <td>23.232855</td>\n",
       "      <td>Spiral</td>\n",
       "      <td>Blue</td>\n",
       "    </tr>\n",
       "    <tr>\n",
       "      <th>232096256</th>\n",
       "      <td>-19.743302</td>\n",
       "      <td>0.9105</td>\n",
       "      <td>23.679798</td>\n",
       "      <td>Elliptical</td>\n",
       "      <td>Red</td>\n",
       "    </tr>\n",
       "    <tr>\n",
       "      <th>260299520</th>\n",
       "      <td>-20.217747</td>\n",
       "      <td>0.6072</td>\n",
       "      <td>23.329051</td>\n",
       "      <td>Spiral</td>\n",
       "      <td>Blue</td>\n",
       "    </tr>\n",
       "    <tr>\n",
       "      <th>247799296</th>\n",
       "      <td>-19.684737</td>\n",
       "      <td>0.4154</td>\n",
       "      <td>23.648262</td>\n",
       "      <td>Spiral</td>\n",
       "      <td>Blue</td>\n",
       "    </tr>\n",
       "    <tr>\n",
       "      <th>215520768</th>\n",
       "      <td>-21.310519</td>\n",
       "      <td>0.9260</td>\n",
       "      <td>20.620580</td>\n",
       "      <td>Spiral</td>\n",
       "      <td>Blue</td>\n",
       "    </tr>\n",
       "  </tbody>\n",
       "</table>\n",
       "</div>"
      ],
      "text/plain": [
       "                 abs_mag   color    app_mag hubble_type color_type\n",
       "unique_gal_id                                                     \n",
       "266930432     -21.720871  0.7693  21.178329      Spiral       Blue\n",
       "244782592     -20.564829  0.3700  23.249573      Spiral       Blue\n",
       "225208064     -17.888000  0.3709  24.266699      Spiral       Blue\n",
       "261874432     -20.711691  0.6040  23.875210      Spiral       Blue\n",
       "260952576     -20.162808  0.8380  23.574893      Spiral       Blue\n",
       "222255360     -19.983145  0.8812  23.232855      Spiral       Blue\n",
       "232096256     -19.743302  0.9105  23.679798  Elliptical        Red\n",
       "260299520     -20.217747  0.6072  23.329051      Spiral       Blue\n",
       "247799296     -19.684737  0.4154  23.648262      Spiral       Blue\n",
       "215520768     -21.310519  0.9260  20.620580      Spiral       Blue"
      ]
     },
     "execution_count": 121,
     "metadata": {},
     "output_type": "execute_result"
    }
   ],
   "source": [
    "galaxy_sample.tail(10)"
   ]
  },
  {
   "cell_type": "code",
   "execution_count": 122,
   "metadata": {
    "collapsed": false
   },
   "outputs": [],
   "source": [
    "# The proper way would be to use a boolean field\n",
    "galaxy_sample['has_disk'] = has_disk_mask"
   ]
  },
  {
   "cell_type": "code",
   "execution_count": 123,
   "metadata": {
    "collapsed": false
   },
   "outputs": [
    {
     "data": {
      "text/html": [
       "<div>\n",
       "<table border=\"1\" class=\"dataframe\">\n",
       "  <thead>\n",
       "    <tr style=\"text-align: right;\">\n",
       "      <th></th>\n",
       "      <th>abs_mag</th>\n",
       "      <th>color</th>\n",
       "      <th>app_mag</th>\n",
       "      <th>hubble_type</th>\n",
       "      <th>color_type</th>\n",
       "      <th>has_disk</th>\n",
       "    </tr>\n",
       "    <tr>\n",
       "      <th>unique_gal_id</th>\n",
       "      <th></th>\n",
       "      <th></th>\n",
       "      <th></th>\n",
       "      <th></th>\n",
       "      <th></th>\n",
       "      <th></th>\n",
       "    </tr>\n",
       "  </thead>\n",
       "  <tbody>\n",
       "    <tr>\n",
       "      <th>266930432</th>\n",
       "      <td>-21.720871</td>\n",
       "      <td>0.7693</td>\n",
       "      <td>21.178329</td>\n",
       "      <td>Spiral</td>\n",
       "      <td>Blue</td>\n",
       "      <td>True</td>\n",
       "    </tr>\n",
       "    <tr>\n",
       "      <th>244782592</th>\n",
       "      <td>-20.564829</td>\n",
       "      <td>0.3700</td>\n",
       "      <td>23.249573</td>\n",
       "      <td>Spiral</td>\n",
       "      <td>Blue</td>\n",
       "      <td>True</td>\n",
       "    </tr>\n",
       "    <tr>\n",
       "      <th>225208064</th>\n",
       "      <td>-17.888000</td>\n",
       "      <td>0.3709</td>\n",
       "      <td>24.266699</td>\n",
       "      <td>Spiral</td>\n",
       "      <td>Blue</td>\n",
       "      <td>True</td>\n",
       "    </tr>\n",
       "    <tr>\n",
       "      <th>261874432</th>\n",
       "      <td>-20.711691</td>\n",
       "      <td>0.6040</td>\n",
       "      <td>23.875210</td>\n",
       "      <td>Spiral</td>\n",
       "      <td>Blue</td>\n",
       "      <td>True</td>\n",
       "    </tr>\n",
       "    <tr>\n",
       "      <th>260952576</th>\n",
       "      <td>-20.162808</td>\n",
       "      <td>0.8380</td>\n",
       "      <td>23.574893</td>\n",
       "      <td>Spiral</td>\n",
       "      <td>Blue</td>\n",
       "      <td>True</td>\n",
       "    </tr>\n",
       "    <tr>\n",
       "      <th>222255360</th>\n",
       "      <td>-19.983145</td>\n",
       "      <td>0.8812</td>\n",
       "      <td>23.232855</td>\n",
       "      <td>Spiral</td>\n",
       "      <td>Blue</td>\n",
       "      <td>True</td>\n",
       "    </tr>\n",
       "    <tr>\n",
       "      <th>232096256</th>\n",
       "      <td>-19.743302</td>\n",
       "      <td>0.9105</td>\n",
       "      <td>23.679798</td>\n",
       "      <td>Elliptical</td>\n",
       "      <td>Red</td>\n",
       "      <td>False</td>\n",
       "    </tr>\n",
       "    <tr>\n",
       "      <th>260299520</th>\n",
       "      <td>-20.217747</td>\n",
       "      <td>0.6072</td>\n",
       "      <td>23.329051</td>\n",
       "      <td>Spiral</td>\n",
       "      <td>Blue</td>\n",
       "      <td>True</td>\n",
       "    </tr>\n",
       "    <tr>\n",
       "      <th>247799296</th>\n",
       "      <td>-19.684737</td>\n",
       "      <td>0.4154</td>\n",
       "      <td>23.648262</td>\n",
       "      <td>Spiral</td>\n",
       "      <td>Blue</td>\n",
       "      <td>True</td>\n",
       "    </tr>\n",
       "    <tr>\n",
       "      <th>215520768</th>\n",
       "      <td>-21.310519</td>\n",
       "      <td>0.9260</td>\n",
       "      <td>20.620580</td>\n",
       "      <td>Spiral</td>\n",
       "      <td>Blue</td>\n",
       "      <td>True</td>\n",
       "    </tr>\n",
       "  </tbody>\n",
       "</table>\n",
       "</div>"
      ],
      "text/plain": [
       "                 abs_mag   color    app_mag hubble_type color_type has_disk\n",
       "unique_gal_id                                                              \n",
       "266930432     -21.720871  0.7693  21.178329      Spiral       Blue     True\n",
       "244782592     -20.564829  0.3700  23.249573      Spiral       Blue     True\n",
       "225208064     -17.888000  0.3709  24.266699      Spiral       Blue     True\n",
       "261874432     -20.711691  0.6040  23.875210      Spiral       Blue     True\n",
       "260952576     -20.162808  0.8380  23.574893      Spiral       Blue     True\n",
       "222255360     -19.983145  0.8812  23.232855      Spiral       Blue     True\n",
       "232096256     -19.743302  0.9105  23.679798  Elliptical        Red    False\n",
       "260299520     -20.217747  0.6072  23.329051      Spiral       Blue     True\n",
       "247799296     -19.684737  0.4154  23.648262      Spiral       Blue     True\n",
       "215520768     -21.310519  0.9260  20.620580      Spiral       Blue     True"
      ]
     },
     "execution_count": 123,
     "metadata": {},
     "output_type": "execute_result"
    }
   ],
   "source": [
    "galaxy_sample.tail(10)"
   ]
  },
  {
   "cell_type": "code",
   "execution_count": 124,
   "metadata": {
    "collapsed": true
   },
   "outputs": [],
   "source": [
    "galaxy_sample.loc[~has_disk_mask, 'disk_length'] = 0."
   ]
  },
  {
   "cell_type": "code",
   "execution_count": 125,
   "metadata": {
    "collapsed": true
   },
   "outputs": [],
   "source": [
    "galaxy_sample.loc[has_disk_mask, 'disk_length'] = np.fabs(\n",
    "                np.random.normal(\n",
    "                    0., scale=0.15, size=n_spiral\n",
    "                )\n",
    "            )"
   ]
  },
  {
   "cell_type": "markdown",
   "metadata": {},
   "source": [
    "## DO NOT LOOP THE PANDAS DATAFRAME IN GENERAL!"
   ]
  },
  {
   "cell_type": "code",
   "execution_count": 126,
   "metadata": {
    "collapsed": false
   },
   "outputs": [
    {
     "data": {
      "text/html": [
       "<div>\n",
       "<table border=\"1\" class=\"dataframe\">\n",
       "  <thead>\n",
       "    <tr style=\"text-align: right;\">\n",
       "      <th></th>\n",
       "      <th>abs_mag</th>\n",
       "      <th>color</th>\n",
       "      <th>app_mag</th>\n",
       "      <th>hubble_type</th>\n",
       "      <th>color_type</th>\n",
       "      <th>has_disk</th>\n",
       "      <th>disk_length</th>\n",
       "    </tr>\n",
       "    <tr>\n",
       "      <th>unique_gal_id</th>\n",
       "      <th></th>\n",
       "      <th></th>\n",
       "      <th></th>\n",
       "      <th></th>\n",
       "      <th></th>\n",
       "      <th></th>\n",
       "      <th></th>\n",
       "    </tr>\n",
       "  </thead>\n",
       "  <tbody>\n",
       "    <tr>\n",
       "      <th>266930432</th>\n",
       "      <td>-21.720871</td>\n",
       "      <td>0.7693</td>\n",
       "      <td>21.178329</td>\n",
       "      <td>Spiral</td>\n",
       "      <td>Blue</td>\n",
       "      <td>True</td>\n",
       "      <td>0.237745</td>\n",
       "    </tr>\n",
       "    <tr>\n",
       "      <th>244782592</th>\n",
       "      <td>-20.564829</td>\n",
       "      <td>0.3700</td>\n",
       "      <td>23.249573</td>\n",
       "      <td>Spiral</td>\n",
       "      <td>Blue</td>\n",
       "      <td>True</td>\n",
       "      <td>0.039123</td>\n",
       "    </tr>\n",
       "    <tr>\n",
       "      <th>225208064</th>\n",
       "      <td>-17.888000</td>\n",
       "      <td>0.3709</td>\n",
       "      <td>24.266699</td>\n",
       "      <td>Spiral</td>\n",
       "      <td>Blue</td>\n",
       "      <td>True</td>\n",
       "      <td>0.161822</td>\n",
       "    </tr>\n",
       "    <tr>\n",
       "      <th>261874432</th>\n",
       "      <td>-20.711691</td>\n",
       "      <td>0.6040</td>\n",
       "      <td>23.875210</td>\n",
       "      <td>Spiral</td>\n",
       "      <td>Blue</td>\n",
       "      <td>True</td>\n",
       "      <td>0.065723</td>\n",
       "    </tr>\n",
       "    <tr>\n",
       "      <th>260952576</th>\n",
       "      <td>-20.162808</td>\n",
       "      <td>0.8380</td>\n",
       "      <td>23.574893</td>\n",
       "      <td>Spiral</td>\n",
       "      <td>Blue</td>\n",
       "      <td>True</td>\n",
       "      <td>0.058081</td>\n",
       "    </tr>\n",
       "    <tr>\n",
       "      <th>222255360</th>\n",
       "      <td>-19.983145</td>\n",
       "      <td>0.8812</td>\n",
       "      <td>23.232855</td>\n",
       "      <td>Spiral</td>\n",
       "      <td>Blue</td>\n",
       "      <td>True</td>\n",
       "      <td>0.044193</td>\n",
       "    </tr>\n",
       "    <tr>\n",
       "      <th>232096256</th>\n",
       "      <td>-19.743302</td>\n",
       "      <td>0.9105</td>\n",
       "      <td>23.679798</td>\n",
       "      <td>Elliptical</td>\n",
       "      <td>Red</td>\n",
       "      <td>False</td>\n",
       "      <td>0.000000</td>\n",
       "    </tr>\n",
       "    <tr>\n",
       "      <th>260299520</th>\n",
       "      <td>-20.217747</td>\n",
       "      <td>0.6072</td>\n",
       "      <td>23.329051</td>\n",
       "      <td>Spiral</td>\n",
       "      <td>Blue</td>\n",
       "      <td>True</td>\n",
       "      <td>0.333363</td>\n",
       "    </tr>\n",
       "    <tr>\n",
       "      <th>247799296</th>\n",
       "      <td>-19.684737</td>\n",
       "      <td>0.4154</td>\n",
       "      <td>23.648262</td>\n",
       "      <td>Spiral</td>\n",
       "      <td>Blue</td>\n",
       "      <td>True</td>\n",
       "      <td>0.066834</td>\n",
       "    </tr>\n",
       "    <tr>\n",
       "      <th>215520768</th>\n",
       "      <td>-21.310519</td>\n",
       "      <td>0.9260</td>\n",
       "      <td>20.620580</td>\n",
       "      <td>Spiral</td>\n",
       "      <td>Blue</td>\n",
       "      <td>True</td>\n",
       "      <td>0.001227</td>\n",
       "    </tr>\n",
       "  </tbody>\n",
       "</table>\n",
       "</div>"
      ],
      "text/plain": [
       "                 abs_mag   color    app_mag hubble_type color_type has_disk  \\\n",
       "unique_gal_id                                                                 \n",
       "266930432     -21.720871  0.7693  21.178329      Spiral       Blue     True   \n",
       "244782592     -20.564829  0.3700  23.249573      Spiral       Blue     True   \n",
       "225208064     -17.888000  0.3709  24.266699      Spiral       Blue     True   \n",
       "261874432     -20.711691  0.6040  23.875210      Spiral       Blue     True   \n",
       "260952576     -20.162808  0.8380  23.574893      Spiral       Blue     True   \n",
       "222255360     -19.983145  0.8812  23.232855      Spiral       Blue     True   \n",
       "232096256     -19.743302  0.9105  23.679798  Elliptical        Red    False   \n",
       "260299520     -20.217747  0.6072  23.329051      Spiral       Blue     True   \n",
       "247799296     -19.684737  0.4154  23.648262      Spiral       Blue     True   \n",
       "215520768     -21.310519  0.9260  20.620580      Spiral       Blue     True   \n",
       "\n",
       "               disk_length  \n",
       "unique_gal_id               \n",
       "266930432         0.237745  \n",
       "244782592         0.039123  \n",
       "225208064         0.161822  \n",
       "261874432         0.065723  \n",
       "260952576         0.058081  \n",
       "222255360         0.044193  \n",
       "232096256         0.000000  \n",
       "260299520         0.333363  \n",
       "247799296         0.066834  \n",
       "215520768         0.001227  "
      ]
     },
     "execution_count": 126,
     "metadata": {},
     "output_type": "execute_result"
    }
   ],
   "source": [
    "galaxy_sample.tail(10)"
   ]
  },
  {
   "cell_type": "code",
   "execution_count": 127,
   "metadata": {
    "collapsed": true
   },
   "outputs": [],
   "source": [
    "# Minimum value for disk_length for spirals\n",
    "dl_min = 1.e-3;"
   ]
  },
  {
   "cell_type": "code",
   "execution_count": 128,
   "metadata": {
    "collapsed": true
   },
   "outputs": [],
   "source": [
    "disk_too_small_mask = has_disk_mask & (galaxy_sample['disk_length'] < dl_min)"
   ]
  },
  {
   "cell_type": "code",
   "execution_count": 129,
   "metadata": {
    "collapsed": false
   },
   "outputs": [
    {
     "data": {
      "text/plain": [
       "4"
      ]
     },
     "execution_count": 129,
     "metadata": {},
     "output_type": "execute_result"
    }
   ],
   "source": [
    "disk_too_small_mask.sum()"
   ]
  },
  {
   "cell_type": "code",
   "execution_count": 130,
   "metadata": {
    "collapsed": false
   },
   "outputs": [
    {
     "data": {
      "text/plain": [
       "unique_gal_id\n",
       "402759680    0.000198\n",
       "457504512    0.000544\n",
       "427512832    0.000403\n",
       "349400064    0.000195\n",
       "Name: disk_length, dtype: float64"
      ]
     },
     "execution_count": 130,
     "metadata": {},
     "output_type": "execute_result"
    }
   ],
   "source": [
    "galaxy_sample.loc[disk_too_small_mask, 'disk_length']"
   ]
  },
  {
   "cell_type": "code",
   "execution_count": 131,
   "metadata": {
    "collapsed": true
   },
   "outputs": [],
   "source": [
    "galaxy_sample.loc[disk_too_small_mask, 'disk_length'] = dl_min"
   ]
  },
  {
   "cell_type": "code",
   "execution_count": 132,
   "metadata": {
    "collapsed": false
   },
   "outputs": [
    {
     "data": {
      "text/plain": [
       "unique_gal_id\n",
       "402759680    0.001\n",
       "457504512    0.001\n",
       "427512832    0.001\n",
       "349400064    0.001\n",
       "Name: disk_length, dtype: float64"
      ]
     },
     "execution_count": 132,
     "metadata": {},
     "output_type": "execute_result"
    }
   ],
   "source": [
    "galaxy_sample.loc[disk_too_small_mask, 'disk_length']"
   ]
  },
  {
   "cell_type": "code",
   "execution_count": 133,
   "metadata": {
    "collapsed": false
   },
   "outputs": [
    {
     "data": {
      "text/html": [
       "<div>\n",
       "<table border=\"1\" class=\"dataframe\">\n",
       "  <thead>\n",
       "    <tr style=\"text-align: right;\">\n",
       "      <th></th>\n",
       "      <th>abs_mag</th>\n",
       "      <th>color</th>\n",
       "      <th>app_mag</th>\n",
       "      <th>hubble_type</th>\n",
       "      <th>color_type</th>\n",
       "      <th>has_disk</th>\n",
       "      <th>disk_length</th>\n",
       "    </tr>\n",
       "    <tr>\n",
       "      <th>unique_gal_id</th>\n",
       "      <th></th>\n",
       "      <th></th>\n",
       "      <th></th>\n",
       "      <th></th>\n",
       "      <th></th>\n",
       "      <th></th>\n",
       "      <th></th>\n",
       "    </tr>\n",
       "  </thead>\n",
       "  <tbody>\n",
       "    <tr>\n",
       "      <th>266930432</th>\n",
       "      <td>-21.720871</td>\n",
       "      <td>0.7693</td>\n",
       "      <td>21.178329</td>\n",
       "      <td>Spiral</td>\n",
       "      <td>Blue</td>\n",
       "      <td>True</td>\n",
       "      <td>0.237745</td>\n",
       "    </tr>\n",
       "    <tr>\n",
       "      <th>244782592</th>\n",
       "      <td>-20.564829</td>\n",
       "      <td>0.3700</td>\n",
       "      <td>23.249573</td>\n",
       "      <td>Spiral</td>\n",
       "      <td>Blue</td>\n",
       "      <td>True</td>\n",
       "      <td>0.039123</td>\n",
       "    </tr>\n",
       "    <tr>\n",
       "      <th>225208064</th>\n",
       "      <td>-17.888000</td>\n",
       "      <td>0.3709</td>\n",
       "      <td>24.266699</td>\n",
       "      <td>Spiral</td>\n",
       "      <td>Blue</td>\n",
       "      <td>True</td>\n",
       "      <td>0.161822</td>\n",
       "    </tr>\n",
       "    <tr>\n",
       "      <th>261874432</th>\n",
       "      <td>-20.711691</td>\n",
       "      <td>0.6040</td>\n",
       "      <td>23.875210</td>\n",
       "      <td>Spiral</td>\n",
       "      <td>Blue</td>\n",
       "      <td>True</td>\n",
       "      <td>0.065723</td>\n",
       "    </tr>\n",
       "    <tr>\n",
       "      <th>260952576</th>\n",
       "      <td>-20.162808</td>\n",
       "      <td>0.8380</td>\n",
       "      <td>23.574893</td>\n",
       "      <td>Spiral</td>\n",
       "      <td>Blue</td>\n",
       "      <td>True</td>\n",
       "      <td>0.058081</td>\n",
       "    </tr>\n",
       "    <tr>\n",
       "      <th>222255360</th>\n",
       "      <td>-19.983145</td>\n",
       "      <td>0.8812</td>\n",
       "      <td>23.232855</td>\n",
       "      <td>Spiral</td>\n",
       "      <td>Blue</td>\n",
       "      <td>True</td>\n",
       "      <td>0.044193</td>\n",
       "    </tr>\n",
       "    <tr>\n",
       "      <th>232096256</th>\n",
       "      <td>-19.743302</td>\n",
       "      <td>0.9105</td>\n",
       "      <td>23.679798</td>\n",
       "      <td>Elliptical</td>\n",
       "      <td>Red</td>\n",
       "      <td>False</td>\n",
       "      <td>0.000000</td>\n",
       "    </tr>\n",
       "    <tr>\n",
       "      <th>260299520</th>\n",
       "      <td>-20.217747</td>\n",
       "      <td>0.6072</td>\n",
       "      <td>23.329051</td>\n",
       "      <td>Spiral</td>\n",
       "      <td>Blue</td>\n",
       "      <td>True</td>\n",
       "      <td>0.333363</td>\n",
       "    </tr>\n",
       "    <tr>\n",
       "      <th>247799296</th>\n",
       "      <td>-19.684737</td>\n",
       "      <td>0.4154</td>\n",
       "      <td>23.648262</td>\n",
       "      <td>Spiral</td>\n",
       "      <td>Blue</td>\n",
       "      <td>True</td>\n",
       "      <td>0.066834</td>\n",
       "    </tr>\n",
       "    <tr>\n",
       "      <th>215520768</th>\n",
       "      <td>-21.310519</td>\n",
       "      <td>0.9260</td>\n",
       "      <td>20.620580</td>\n",
       "      <td>Spiral</td>\n",
       "      <td>Blue</td>\n",
       "      <td>True</td>\n",
       "      <td>0.001227</td>\n",
       "    </tr>\n",
       "  </tbody>\n",
       "</table>\n",
       "</div>"
      ],
      "text/plain": [
       "                 abs_mag   color    app_mag hubble_type color_type has_disk  \\\n",
       "unique_gal_id                                                                 \n",
       "266930432     -21.720871  0.7693  21.178329      Spiral       Blue     True   \n",
       "244782592     -20.564829  0.3700  23.249573      Spiral       Blue     True   \n",
       "225208064     -17.888000  0.3709  24.266699      Spiral       Blue     True   \n",
       "261874432     -20.711691  0.6040  23.875210      Spiral       Blue     True   \n",
       "260952576     -20.162808  0.8380  23.574893      Spiral       Blue     True   \n",
       "222255360     -19.983145  0.8812  23.232855      Spiral       Blue     True   \n",
       "232096256     -19.743302  0.9105  23.679798  Elliptical        Red    False   \n",
       "260299520     -20.217747  0.6072  23.329051      Spiral       Blue     True   \n",
       "247799296     -19.684737  0.4154  23.648262      Spiral       Blue     True   \n",
       "215520768     -21.310519  0.9260  20.620580      Spiral       Blue     True   \n",
       "\n",
       "               disk_length  \n",
       "unique_gal_id               \n",
       "266930432         0.237745  \n",
       "244782592         0.039123  \n",
       "225208064         0.161822  \n",
       "261874432         0.065723  \n",
       "260952576         0.058081  \n",
       "222255360         0.044193  \n",
       "232096256         0.000000  \n",
       "260299520         0.333363  \n",
       "247799296         0.066834  \n",
       "215520768         0.001227  "
      ]
     },
     "execution_count": 133,
     "metadata": {},
     "output_type": "execute_result"
    }
   ],
   "source": [
    "galaxy_sample.tail(10)"
   ]
  },
  {
   "cell_type": "markdown",
   "metadata": {},
   "source": [
    "### Exercise:\n",
    "\n",
    "- What is the mean value and the standard deviation of the *disk_length* for spiral galaxies (Tip: use the .mean() and .std() methods)\n",
    "\n",
    "- Estimate the bulge_length for elliptical galaxies. The bulge_length depends on the absolute magnitude in the following way:\n",
    "    \n",
    "    bulge_length = exp(-1.145 - 0.269 * (abs_mag - 23.))\n",
    "    \n",
    "- How many galaxies have bulge_lenth > 0.5.?  \n",
    "\n",
    "- In our model the maximum bulge_length for an elliptical galaxy is 0.5 arcsec.\n",
    "\n",
    "- What is the mean value and the standard deviation of the *bulge_length* for elliptical galaxies. And for ellipticals with absolute magnitude brighter than -20?"
   ]
  },
  {
   "cell_type": "code",
   "execution_count": 134,
   "metadata": {
    "collapsed": false
   },
   "outputs": [
    {
     "name": "stdout",
     "output_type": "stream",
     "text": [
      "0.119067363788 0.0867744263148\n"
     ]
    }
   ],
   "source": [
    "mean_dl = galaxy_sample[has_disk_mask]['disk_length'].mean()\n",
    "std_dl = galaxy_sample[has_disk_mask]['disk_length'].std()\n",
    "print mean_dl, std_dl"
   ]
  },
  {
   "cell_type": "code",
   "execution_count": 135,
   "metadata": {
    "collapsed": false
   },
   "outputs": [
    {
     "data": {
      "image/png": "[encoded data removed]",
      "text/plain": [
       "<matplotlib.figure.Figure at 0x7f6d76e7d250>"
      ]
     },
     "metadata": {},
     "output_type": "display_data"
    }
   ],
   "source": [
    "# FULL POPULATION\n",
    "galaxy_sample['disk_length'].plot.hist(bins=20)#, logy = True)\n",
    "plt.show()"
   ]
  },
  {
   "cell_type": "code",
   "execution_count": 136,
   "metadata": {
    "collapsed": false
   },
   "outputs": [
    {
     "data": {
      "image/png": "[encoded data removed]",
      "text/plain": [
       "<matplotlib.figure.Figure at 0x7f6d5a2e00d0>"
      ]
     },
     "metadata": {},
     "output_type": "display_data"
    }
   ],
   "source": [
    "# SPIRAL GALAXIES\n",
    "galaxy_sample[has_disk_mask]['disk_length'].plot.hist(bins=20)#, logy = True)\n",
    "plt.show()"
   ]
  },
  {
   "cell_type": "code",
   "execution_count": 137,
   "metadata": {
    "collapsed": true
   },
   "outputs": [],
   "source": [
    "# bulge_length for Spiral galaxies = 0\n",
    "galaxy_sample.loc[has_disk_mask,'bulge_length'] = 0"
   ]
  },
  {
   "cell_type": "code",
   "execution_count": 138,
   "metadata": {
    "collapsed": true
   },
   "outputs": [],
   "source": [
    "# bulge_length for elliptical galaxies\n",
    "def bulge_length(mag):\n",
    "    return np.exp(\n",
    "        -1.145 - 0.269 * (mag - 23.)\n",
    "    )"
   ]
  },
  {
   "cell_type": "code",
   "execution_count": 139,
   "metadata": {
    "collapsed": false
   },
   "outputs": [],
   "source": [
    "# bulge_length for Spiral galaxies = 0\n",
    "galaxy_sample.loc[~has_disk_mask,'bulge_length'] = bulge_length(galaxy_sample['app_mag'])"
   ]
  },
  {
   "cell_type": "code",
   "execution_count": 140,
   "metadata": {
    "collapsed": false
   },
   "outputs": [
    {
     "data": {
      "text/html": [
       "<div>\n",
       "<table border=\"1\" class=\"dataframe\">\n",
       "  <thead>\n",
       "    <tr style=\"text-align: right;\">\n",
       "      <th></th>\n",
       "      <th>abs_mag</th>\n",
       "      <th>color</th>\n",
       "      <th>app_mag</th>\n",
       "      <th>hubble_type</th>\n",
       "      <th>color_type</th>\n",
       "      <th>has_disk</th>\n",
       "      <th>disk_length</th>\n",
       "      <th>bulge_length</th>\n",
       "    </tr>\n",
       "    <tr>\n",
       "      <th>unique_gal_id</th>\n",
       "      <th></th>\n",
       "      <th></th>\n",
       "      <th></th>\n",
       "      <th></th>\n",
       "      <th></th>\n",
       "      <th></th>\n",
       "      <th></th>\n",
       "      <th></th>\n",
       "    </tr>\n",
       "  </thead>\n",
       "  <tbody>\n",
       "    <tr>\n",
       "      <th>266930432</th>\n",
       "      <td>-21.720871</td>\n",
       "      <td>0.7693</td>\n",
       "      <td>21.178329</td>\n",
       "      <td>Spiral</td>\n",
       "      <td>Blue</td>\n",
       "      <td>True</td>\n",
       "      <td>0.237745</td>\n",
       "      <td>0.000000</td>\n",
       "    </tr>\n",
       "    <tr>\n",
       "      <th>244782592</th>\n",
       "      <td>-20.564829</td>\n",
       "      <td>0.3700</td>\n",
       "      <td>23.249573</td>\n",
       "      <td>Spiral</td>\n",
       "      <td>Blue</td>\n",
       "      <td>True</td>\n",
       "      <td>0.039123</td>\n",
       "      <td>0.000000</td>\n",
       "    </tr>\n",
       "    <tr>\n",
       "      <th>225208064</th>\n",
       "      <td>-17.888000</td>\n",
       "      <td>0.3709</td>\n",
       "      <td>24.266699</td>\n",
       "      <td>Spiral</td>\n",
       "      <td>Blue</td>\n",
       "      <td>True</td>\n",
       "      <td>0.161822</td>\n",
       "      <td>0.000000</td>\n",
       "    </tr>\n",
       "    <tr>\n",
       "      <th>261874432</th>\n",
       "      <td>-20.711691</td>\n",
       "      <td>0.6040</td>\n",
       "      <td>23.875210</td>\n",
       "      <td>Spiral</td>\n",
       "      <td>Blue</td>\n",
       "      <td>True</td>\n",
       "      <td>0.065723</td>\n",
       "      <td>0.000000</td>\n",
       "    </tr>\n",
       "    <tr>\n",
       "      <th>260952576</th>\n",
       "      <td>-20.162808</td>\n",
       "      <td>0.8380</td>\n",
       "      <td>23.574893</td>\n",
       "      <td>Spiral</td>\n",
       "      <td>Blue</td>\n",
       "      <td>True</td>\n",
       "      <td>0.058081</td>\n",
       "      <td>0.000000</td>\n",
       "    </tr>\n",
       "    <tr>\n",
       "      <th>222255360</th>\n",
       "      <td>-19.983145</td>\n",
       "      <td>0.8812</td>\n",
       "      <td>23.232855</td>\n",
       "      <td>Spiral</td>\n",
       "      <td>Blue</td>\n",
       "      <td>True</td>\n",
       "      <td>0.044193</td>\n",
       "      <td>0.000000</td>\n",
       "    </tr>\n",
       "    <tr>\n",
       "      <th>232096256</th>\n",
       "      <td>-19.743302</td>\n",
       "      <td>0.9105</td>\n",
       "      <td>23.679798</td>\n",
       "      <td>Elliptical</td>\n",
       "      <td>Red</td>\n",
       "      <td>False</td>\n",
       "      <td>0.000000</td>\n",
       "      <td>0.265042</td>\n",
       "    </tr>\n",
       "    <tr>\n",
       "      <th>260299520</th>\n",
       "      <td>-20.217747</td>\n",
       "      <td>0.6072</td>\n",
       "      <td>23.329051</td>\n",
       "      <td>Spiral</td>\n",
       "      <td>Blue</td>\n",
       "      <td>True</td>\n",
       "      <td>0.333363</td>\n",
       "      <td>0.000000</td>\n",
       "    </tr>\n",
       "    <tr>\n",
       "      <th>247799296</th>\n",
       "      <td>-19.684737</td>\n",
       "      <td>0.4154</td>\n",
       "      <td>23.648262</td>\n",
       "      <td>Spiral</td>\n",
       "      <td>Blue</td>\n",
       "      <td>True</td>\n",
       "      <td>0.066834</td>\n",
       "      <td>0.000000</td>\n",
       "    </tr>\n",
       "    <tr>\n",
       "      <th>215520768</th>\n",
       "      <td>-21.310519</td>\n",
       "      <td>0.9260</td>\n",
       "      <td>20.620580</td>\n",
       "      <td>Spiral</td>\n",
       "      <td>Blue</td>\n",
       "      <td>True</td>\n",
       "      <td>0.001227</td>\n",
       "      <td>0.000000</td>\n",
       "    </tr>\n",
       "  </tbody>\n",
       "</table>\n",
       "</div>"
      ],
      "text/plain": [
       "                 abs_mag   color    app_mag hubble_type color_type has_disk  \\\n",
       "unique_gal_id                                                                 \n",
       "266930432     -21.720871  0.7693  21.178329      Spiral       Blue     True   \n",
       "244782592     -20.564829  0.3700  23.249573      Spiral       Blue     True   \n",
       "225208064     -17.888000  0.3709  24.266699      Spiral       Blue     True   \n",
       "261874432     -20.711691  0.6040  23.875210      Spiral       Blue     True   \n",
       "260952576     -20.162808  0.8380  23.574893      Spiral       Blue     True   \n",
       "222255360     -19.983145  0.8812  23.232855      Spiral       Blue     True   \n",
       "232096256     -19.743302  0.9105  23.679798  Elliptical        Red    False   \n",
       "260299520     -20.217747  0.6072  23.329051      Spiral       Blue     True   \n",
       "247799296     -19.684737  0.4154  23.648262      Spiral       Blue     True   \n",
       "215520768     -21.310519  0.9260  20.620580      Spiral       Blue     True   \n",
       "\n",
       "               disk_length  bulge_length  \n",
       "unique_gal_id                             \n",
       "266930432         0.237745      0.000000  \n",
       "244782592         0.039123      0.000000  \n",
       "225208064         0.161822      0.000000  \n",
       "261874432         0.065723      0.000000  \n",
       "260952576         0.058081      0.000000  \n",
       "222255360         0.044193      0.000000  \n",
       "232096256         0.000000      0.265042  \n",
       "260299520         0.333363      0.000000  \n",
       "247799296         0.066834      0.000000  \n",
       "215520768         0.001227      0.000000  "
      ]
     },
     "execution_count": 140,
     "metadata": {},
     "output_type": "execute_result"
    }
   ],
   "source": [
    "galaxy_sample.tail(10)"
   ]
  },
  {
   "cell_type": "code",
   "execution_count": 141,
   "metadata": {
    "collapsed": true
   },
   "outputs": [],
   "source": [
    "bl_max = 0.5"
   ]
  },
  {
   "cell_type": "code",
   "execution_count": 142,
   "metadata": {
    "collapsed": false
   },
   "outputs": [],
   "source": [
    "bulge_too_large_mask = ~has_disk_mask & (galaxy_sample['bulge_length'] > bl_max)"
   ]
  },
  {
   "cell_type": "code",
   "execution_count": 143,
   "metadata": {
    "collapsed": false
   },
   "outputs": [
    {
     "data": {
      "text/plain": [
       "5"
      ]
     },
     "execution_count": 143,
     "metadata": {},
     "output_type": "execute_result"
    }
   ],
   "source": [
    "bulge_too_large_mask.sum()"
   ]
  },
  {
   "cell_type": "code",
   "execution_count": 144,
   "metadata": {
    "collapsed": false
   },
   "outputs": [
    {
     "data": {
      "text/plain": [
       "unique_gal_id\n",
       "334592256    0.642113\n",
       "329875968    0.586669\n",
       "310129408    0.539356\n",
       "310029568    0.641196\n",
       "215653888    0.576941\n",
       "Name: bulge_length, dtype: float64"
      ]
     },
     "execution_count": 144,
     "metadata": {},
     "output_type": "execute_result"
    }
   ],
   "source": [
    "galaxy_sample.loc[bulge_too_large_mask, 'bulge_length']"
   ]
  },
  {
   "cell_type": "code",
   "execution_count": 145,
   "metadata": {
    "collapsed": true
   },
   "outputs": [],
   "source": [
    "galaxy_sample.loc[bulge_too_large_mask, 'bulge_length'] = bl_max"
   ]
  },
  {
   "cell_type": "code",
   "execution_count": 146,
   "metadata": {
    "collapsed": false
   },
   "outputs": [
    {
     "data": {
      "text/plain": [
       "unique_gal_id\n",
       "334592256    0.5\n",
       "329875968    0.5\n",
       "310129408    0.5\n",
       "310029568    0.5\n",
       "215653888    0.5\n",
       "Name: bulge_length, dtype: float64"
      ]
     },
     "execution_count": 146,
     "metadata": {},
     "output_type": "execute_result"
    }
   ],
   "source": [
    "galaxy_sample.loc[bulge_too_large_mask, 'bulge_length']"
   ]
  },
  {
   "cell_type": "code",
   "execution_count": 147,
   "metadata": {
    "collapsed": false
   },
   "outputs": [
    {
     "name": "stdout",
     "output_type": "stream",
     "text": [
      "0.300451356126 0.0676609250028\n"
     ]
    }
   ],
   "source": [
    "mean_bl = galaxy_sample[~has_disk_mask]['bulge_length'].mean()\n",
    "std_bl = galaxy_sample[~has_disk_mask]['bulge_length'].std()\n",
    "print mean_bl, std_bl"
   ]
  },
  {
   "cell_type": "code",
   "execution_count": 148,
   "metadata": {
    "collapsed": false
   },
   "outputs": [
    {
     "data": {
      "image/png": "[encoded data removed]",
      "text/plain": [
       "<matplotlib.figure.Figure at 0x7f6d59739a50>"
      ]
     },
     "metadata": {},
     "output_type": "display_data"
    }
   ],
   "source": [
    "# SPIRAL GALAXIES\n",
    "galaxy_sample[~has_disk_mask]['bulge_length'].plot.hist(bins=20)#, logy = True)\n",
    "plt.show()"
   ]
  },
  {
   "cell_type": "code",
   "execution_count": 149,
   "metadata": {
    "collapsed": true
   },
   "outputs": [],
   "source": [
    "bulge_and_bright_mask = ~has_disk_mask & (galaxy_sample['abs_mag'] < -21.0)"
   ]
  },
  {
   "cell_type": "code",
   "execution_count": 150,
   "metadata": {
    "collapsed": false
   },
   "outputs": [
    {
     "data": {
      "image/png": "[encoded data removed]",
      "text/plain": [
       "<matplotlib.figure.Figure at 0x7f6d5a311bd0>"
      ]
     },
     "metadata": {},
     "output_type": "display_data"
    }
   ],
   "source": [
    "galaxy_sample[~has_disk_mask]['abs_mag'].plot.hist(bins=20)#, logy = True)\n",
    "plt.show()"
   ]
  },
  {
   "cell_type": "code",
   "execution_count": 151,
   "metadata": {
    "collapsed": false
   },
   "outputs": [
    {
     "name": "stdout",
     "output_type": "stream",
     "text": [
      "0.320771168963 0.0699171877075\n"
     ]
    }
   ],
   "source": [
    "mean_bl = galaxy_sample[bulge_and_bright_mask]['bulge_length'].mean()\n",
    "std_bl = galaxy_sample[bulge_and_bright_mask]['bulge_length'].std()\n",
    "print mean_bl, std_bl"
   ]
  },
  {
   "cell_type": "code",
   "execution_count": 152,
   "metadata": {
    "collapsed": false
   },
   "outputs": [
    {
     "data": {
      "image/png": "[encoded data removed]",
      "text/plain": [
       "<matplotlib.figure.Figure at 0x7f6d5971b9d0>"
      ]
     },
     "metadata": {},
     "output_type": "display_data"
    }
   ],
   "source": [
    "# SPIRAL GALAXIES\n",
    "galaxy_sample[~has_disk_mask]['bulge_length'].plot.hist(bins=20)#, logy = True)\n",
    "plt.show()"
   ]
  },
  {
   "cell_type": "markdown",
   "metadata": {},
   "source": [
    "### Merge, join, and concatenate\n",
    "\n",
    "<https://pandas.pydata.org/pandas-docs/stable/merging.html>\n",
    "\n",
    "- pandas provides various facilities for easily combining together Series, DataFrame, and Panel objects with various kinds of set logic for the indexes and relational algebra functionality in the case of join / merge-type operations.\n",
    "\n",
    "- *concat* method:\n",
    "```\n",
    "pd.concat(objs, axis=0, join='outer', join_axes=None, ignore_index=False,\n",
    "          keys=None, levels=None, names=None, verify_integrity=False,\n",
    "          copy=True)\n",
    "```"
   ]
  },
  {
   "cell_type": "code",
   "execution_count": 153,
   "metadata": {
    "collapsed": true
   },
   "outputs": [],
   "source": [
    "df1 = pd.DataFrame(\n",
    "    {'A': ['A0', 'A1', 'A2', 'A3'],\n",
    "     'B': ['B0', 'B1', 'B2', 'B3'],\n",
    "     'C': ['C0', 'C1', 'C2', 'C3'],\n",
    "     'D': ['D0', 'D1', 'D2', 'D3']},\n",
    "    index=[0, 1, 2, 3]\n",
    ")"
   ]
  },
  {
   "cell_type": "code",
   "execution_count": 154,
   "metadata": {
    "collapsed": true
   },
   "outputs": [],
   "source": [
    "df2 = pd.DataFrame(\n",
    "    {'A': ['A4', 'A5', 'A6', 'A7'],\n",
    "     'B': ['B4', 'B5', 'B6', 'B7'],\n",
    "     'C': ['C4', 'C5', 'C6', 'C7'],\n",
    "     'D': ['D4', 'D5', 'D6', 'D7']},\n",
    "    index=[4, 5, 6, 7]\n",
    ") "
   ]
  },
  {
   "cell_type": "code",
   "execution_count": 155,
   "metadata": {
    "collapsed": true
   },
   "outputs": [],
   "source": [
    "df3 = pd.DataFrame(\n",
    "    {'A': ['A8', 'A9', 'A10', 'A11'],\n",
    "     'B': ['B8', 'B9', 'B10', 'B11'],\n",
    "     'C': ['C8', 'C9', 'C10', 'C11'],\n",
    "     'D': ['D8', 'D9', 'D10', 'D11']},\n",
    "    index=[8, 9, 10, 11]\n",
    ")"
   ]
  },
  {
   "cell_type": "code",
   "execution_count": 156,
   "metadata": {
    "collapsed": true
   },
   "outputs": [],
   "source": [
    "frames = [df1, df2, df3]"
   ]
  },
  {
   "cell_type": "code",
   "execution_count": 157,
   "metadata": {
    "collapsed": false
   },
   "outputs": [
    {
     "data": {
      "text/html": [
       "<div>\n",
       "<table border=\"1\" class=\"dataframe\">\n",
       "  <thead>\n",
       "    <tr style=\"text-align: right;\">\n",
       "      <th></th>\n",
       "      <th>A</th>\n",
       "      <th>B</th>\n",
       "      <th>C</th>\n",
       "      <th>D</th>\n",
       "    </tr>\n",
       "  </thead>\n",
       "  <tbody>\n",
       "    <tr>\n",
       "      <th>0</th>\n",
       "      <td>A0</td>\n",
       "      <td>B0</td>\n",
       "      <td>C0</td>\n",
       "      <td>D0</td>\n",
       "    </tr>\n",
       "    <tr>\n",
       "      <th>1</th>\n",
       "      <td>A1</td>\n",
       "      <td>B1</td>\n",
       "      <td>C1</td>\n",
       "      <td>D1</td>\n",
       "    </tr>\n",
       "    <tr>\n",
       "      <th>2</th>\n",
       "      <td>A2</td>\n",
       "      <td>B2</td>\n",
       "      <td>C2</td>\n",
       "      <td>D2</td>\n",
       "    </tr>\n",
       "    <tr>\n",
       "      <th>3</th>\n",
       "      <td>A3</td>\n",
       "      <td>B3</td>\n",
       "      <td>C3</td>\n",
       "      <td>D3</td>\n",
       "    </tr>\n",
       "    <tr>\n",
       "      <th>4</th>\n",
       "      <td>A4</td>\n",
       "      <td>B4</td>\n",
       "      <td>C4</td>\n",
       "      <td>D4</td>\n",
       "    </tr>\n",
       "    <tr>\n",
       "      <th>5</th>\n",
       "      <td>A5</td>\n",
       "      <td>B5</td>\n",
       "      <td>C5</td>\n",
       "      <td>D5</td>\n",
       "    </tr>\n",
       "    <tr>\n",
       "      <th>6</th>\n",
       "      <td>A6</td>\n",
       "      <td>B6</td>\n",
       "      <td>C6</td>\n",
       "      <td>D6</td>\n",
       "    </tr>\n",
       "    <tr>\n",
       "      <th>7</th>\n",
       "      <td>A7</td>\n",
       "      <td>B7</td>\n",
       "      <td>C7</td>\n",
       "      <td>D7</td>\n",
       "    </tr>\n",
       "    <tr>\n",
       "      <th>8</th>\n",
       "      <td>A8</td>\n",
       "      <td>B8</td>\n",
       "      <td>C8</td>\n",
       "      <td>D8</td>\n",
       "    </tr>\n",
       "    <tr>\n",
       "      <th>9</th>\n",
       "      <td>A9</td>\n",
       "      <td>B9</td>\n",
       "      <td>C9</td>\n",
       "      <td>D9</td>\n",
       "    </tr>\n",
       "    <tr>\n",
       "      <th>10</th>\n",
       "      <td>A10</td>\n",
       "      <td>B10</td>\n",
       "      <td>C10</td>\n",
       "      <td>D10</td>\n",
       "    </tr>\n",
       "    <tr>\n",
       "      <th>11</th>\n",
       "      <td>A11</td>\n",
       "      <td>B11</td>\n",
       "      <td>C11</td>\n",
       "      <td>D11</td>\n",
       "    </tr>\n",
       "  </tbody>\n",
       "</table>\n",
       "</div>"
      ],
      "text/plain": [
       "      A    B    C    D\n",
       "0    A0   B0   C0   D0\n",
       "1    A1   B1   C1   D1\n",
       "2    A2   B2   C2   D2\n",
       "3    A3   B3   C3   D3\n",
       "4    A4   B4   C4   D4\n",
       "5    A5   B5   C5   D5\n",
       "6    A6   B6   C6   D6\n",
       "7    A7   B7   C7   D7\n",
       "8    A8   B8   C8   D8\n",
       "9    A9   B9   C9   D9\n",
       "10  A10  B10  C10  D10\n",
       "11  A11  B11  C11  D11"
      ]
     },
     "execution_count": 157,
     "metadata": {},
     "output_type": "execute_result"
    }
   ],
   "source": [
    "result = pd.concat(frames)\n",
    "result"
   ]
  },
  {
   "cell_type": "code",
   "execution_count": 158,
   "metadata": {
    "collapsed": false
   },
   "outputs": [],
   "source": [
    "# Multiindex\n",
    "result = pd.concat(frames, keys=['x', 'y','z'])"
   ]
  },
  {
   "cell_type": "code",
   "execution_count": 159,
   "metadata": {
    "collapsed": false
   },
   "outputs": [
    {
     "data": {
      "text/html": [
       "<div>\n",
       "<table border=\"1\" class=\"dataframe\">\n",
       "  <thead>\n",
       "    <tr style=\"text-align: right;\">\n",
       "      <th></th>\n",
       "      <th></th>\n",
       "      <th>A</th>\n",
       "      <th>B</th>\n",
       "      <th>C</th>\n",
       "      <th>D</th>\n",
       "    </tr>\n",
       "  </thead>\n",
       "  <tbody>\n",
       "    <tr>\n",
       "      <th rowspan=\"4\" valign=\"top\">x</th>\n",
       "      <th>0</th>\n",
       "      <td>A0</td>\n",
       "      <td>B0</td>\n",
       "      <td>C0</td>\n",
       "      <td>D0</td>\n",
       "    </tr>\n",
       "    <tr>\n",
       "      <th>1</th>\n",
       "      <td>A1</td>\n",
       "      <td>B1</td>\n",
       "      <td>C1</td>\n",
       "      <td>D1</td>\n",
       "    </tr>\n",
       "    <tr>\n",
       "      <th>2</th>\n",
       "      <td>A2</td>\n",
       "      <td>B2</td>\n",
       "      <td>C2</td>\n",
       "      <td>D2</td>\n",
       "    </tr>\n",
       "    <tr>\n",
       "      <th>3</th>\n",
       "      <td>A3</td>\n",
       "      <td>B3</td>\n",
       "      <td>C3</td>\n",
       "      <td>D3</td>\n",
       "    </tr>\n",
       "    <tr>\n",
       "      <th rowspan=\"4\" valign=\"top\">y</th>\n",
       "      <th>4</th>\n",
       "      <td>A4</td>\n",
       "      <td>B4</td>\n",
       "      <td>C4</td>\n",
       "      <td>D4</td>\n",
       "    </tr>\n",
       "    <tr>\n",
       "      <th>5</th>\n",
       "      <td>A5</td>\n",
       "      <td>B5</td>\n",
       "      <td>C5</td>\n",
       "      <td>D5</td>\n",
       "    </tr>\n",
       "    <tr>\n",
       "      <th>6</th>\n",
       "      <td>A6</td>\n",
       "      <td>B6</td>\n",
       "      <td>C6</td>\n",
       "      <td>D6</td>\n",
       "    </tr>\n",
       "    <tr>\n",
       "      <th>7</th>\n",
       "      <td>A7</td>\n",
       "      <td>B7</td>\n",
       "      <td>C7</td>\n",
       "      <td>D7</td>\n",
       "    </tr>\n",
       "    <tr>\n",
       "      <th rowspan=\"4\" valign=\"top\">z</th>\n",
       "      <th>8</th>\n",
       "      <td>A8</td>\n",
       "      <td>B8</td>\n",
       "      <td>C8</td>\n",
       "      <td>D8</td>\n",
       "    </tr>\n",
       "    <tr>\n",
       "      <th>9</th>\n",
       "      <td>A9</td>\n",
       "      <td>B9</td>\n",
       "      <td>C9</td>\n",
       "      <td>D9</td>\n",
       "    </tr>\n",
       "    <tr>\n",
       "      <th>10</th>\n",
       "      <td>A10</td>\n",
       "      <td>B10</td>\n",
       "      <td>C10</td>\n",
       "      <td>D10</td>\n",
       "    </tr>\n",
       "    <tr>\n",
       "      <th>11</th>\n",
       "      <td>A11</td>\n",
       "      <td>B11</td>\n",
       "      <td>C11</td>\n",
       "      <td>D11</td>\n",
       "    </tr>\n",
       "  </tbody>\n",
       "</table>\n",
       "</div>"
      ],
      "text/plain": [
       "        A    B    C    D\n",
       "x 0    A0   B0   C0   D0\n",
       "  1    A1   B1   C1   D1\n",
       "  2    A2   B2   C2   D2\n",
       "  3    A3   B3   C3   D3\n",
       "y 4    A4   B4   C4   D4\n",
       "  5    A5   B5   C5   D5\n",
       "  6    A6   B6   C6   D6\n",
       "  7    A7   B7   C7   D7\n",
       "z 8    A8   B8   C8   D8\n",
       "  9    A9   B9   C9   D9\n",
       "  10  A10  B10  C10  D10\n",
       "  11  A11  B11  C11  D11"
      ]
     },
     "execution_count": 159,
     "metadata": {},
     "output_type": "execute_result"
    }
   ],
   "source": [
    "result"
   ]
  },
  {
   "cell_type": "code",
   "execution_count": 160,
   "metadata": {
    "collapsed": false
   },
   "outputs": [
    {
     "data": {
      "text/plain": [
       "MultiIndex(levels=[[u'x', u'y', u'z'], [0, 1, 2, 3, 4, 5, 6, 7, 8, 9, 10, 11]],\n",
       "           labels=[[0, 0, 0, 0, 1, 1, 1, 1, 2, 2, 2, 2], [0, 1, 2, 3, 4, 5, 6, 7, 8, 9, 10, 11]])"
      ]
     },
     "execution_count": 160,
     "metadata": {},
     "output_type": "execute_result"
    }
   ],
   "source": [
    "result.index"
   ]
  },
  {
   "cell_type": "code",
   "execution_count": 161,
   "metadata": {
    "collapsed": false
   },
   "outputs": [
    {
     "data": {
      "text/html": [
       "<div>\n",
       "<table border=\"1\" class=\"dataframe\">\n",
       "  <thead>\n",
       "    <tr style=\"text-align: right;\">\n",
       "      <th></th>\n",
       "      <th>A</th>\n",
       "      <th>B</th>\n",
       "      <th>C</th>\n",
       "      <th>D</th>\n",
       "    </tr>\n",
       "  </thead>\n",
       "  <tbody>\n",
       "    <tr>\n",
       "      <th>4</th>\n",
       "      <td>A4</td>\n",
       "      <td>B4</td>\n",
       "      <td>C4</td>\n",
       "      <td>D4</td>\n",
       "    </tr>\n",
       "    <tr>\n",
       "      <th>5</th>\n",
       "      <td>A5</td>\n",
       "      <td>B5</td>\n",
       "      <td>C5</td>\n",
       "      <td>D5</td>\n",
       "    </tr>\n",
       "    <tr>\n",
       "      <th>6</th>\n",
       "      <td>A6</td>\n",
       "      <td>B6</td>\n",
       "      <td>C6</td>\n",
       "      <td>D6</td>\n",
       "    </tr>\n",
       "    <tr>\n",
       "      <th>7</th>\n",
       "      <td>A7</td>\n",
       "      <td>B7</td>\n",
       "      <td>C7</td>\n",
       "      <td>D7</td>\n",
       "    </tr>\n",
       "  </tbody>\n",
       "</table>\n",
       "</div>"
      ],
      "text/plain": [
       "    A   B   C   D\n",
       "4  A4  B4  C4  D4\n",
       "5  A5  B5  C5  D5\n",
       "6  A6  B6  C6  D6\n",
       "7  A7  B7  C7  D7"
      ]
     },
     "execution_count": 161,
     "metadata": {},
     "output_type": "execute_result"
    }
   ],
   "source": [
    "result.loc['y']"
   ]
  },
  {
   "cell_type": "code",
   "execution_count": 162,
   "metadata": {
    "collapsed": true
   },
   "outputs": [],
   "source": [
    "df4 = pd.DataFrame(\n",
    "    {'B': ['B2', 'B3', 'B6', 'B7'],\n",
    "     'D': ['D2', 'D3', 'D6', 'D7'],\n",
    "     'F': ['F2', 'F3', 'F6', 'F7']},\n",
    "    index=[2, 3, 6, 7]\n",
    ")"
   ]
  },
  {
   "cell_type": "code",
   "execution_count": 163,
   "metadata": {
    "collapsed": false
   },
   "outputs": [
    {
     "data": {
      "text/html": [
       "<div>\n",
       "<table border=\"1\" class=\"dataframe\">\n",
       "  <thead>\n",
       "    <tr style=\"text-align: right;\">\n",
       "      <th></th>\n",
       "      <th>B</th>\n",
       "      <th>D</th>\n",
       "      <th>F</th>\n",
       "    </tr>\n",
       "  </thead>\n",
       "  <tbody>\n",
       "    <tr>\n",
       "      <th>2</th>\n",
       "      <td>B2</td>\n",
       "      <td>D2</td>\n",
       "      <td>F2</td>\n",
       "    </tr>\n",
       "    <tr>\n",
       "      <th>3</th>\n",
       "      <td>B3</td>\n",
       "      <td>D3</td>\n",
       "      <td>F3</td>\n",
       "    </tr>\n",
       "    <tr>\n",
       "      <th>6</th>\n",
       "      <td>B6</td>\n",
       "      <td>D6</td>\n",
       "      <td>F6</td>\n",
       "    </tr>\n",
       "    <tr>\n",
       "      <th>7</th>\n",
       "      <td>B7</td>\n",
       "      <td>D7</td>\n",
       "      <td>F7</td>\n",
       "    </tr>\n",
       "  </tbody>\n",
       "</table>\n",
       "</div>"
      ],
      "text/plain": [
       "    B   D   F\n",
       "2  B2  D2  F2\n",
       "3  B3  D3  F3\n",
       "6  B6  D6  F6\n",
       "7  B7  D7  F7"
      ]
     },
     "execution_count": 163,
     "metadata": {},
     "output_type": "execute_result"
    }
   ],
   "source": [
    "df4"
   ]
  },
  {
   "cell_type": "code",
   "execution_count": 164,
   "metadata": {
    "collapsed": false
   },
   "outputs": [
    {
     "data": {
      "text/html": [
       "<div>\n",
       "<table border=\"1\" class=\"dataframe\">\n",
       "  <thead>\n",
       "    <tr style=\"text-align: right;\">\n",
       "      <th></th>\n",
       "      <th>A</th>\n",
       "      <th>B</th>\n",
       "      <th>C</th>\n",
       "      <th>D</th>\n",
       "    </tr>\n",
       "  </thead>\n",
       "  <tbody>\n",
       "    <tr>\n",
       "      <th>0</th>\n",
       "      <td>A0</td>\n",
       "      <td>B0</td>\n",
       "      <td>C0</td>\n",
       "      <td>D0</td>\n",
       "    </tr>\n",
       "    <tr>\n",
       "      <th>1</th>\n",
       "      <td>A1</td>\n",
       "      <td>B1</td>\n",
       "      <td>C1</td>\n",
       "      <td>D1</td>\n",
       "    </tr>\n",
       "    <tr>\n",
       "      <th>2</th>\n",
       "      <td>A2</td>\n",
       "      <td>B2</td>\n",
       "      <td>C2</td>\n",
       "      <td>D2</td>\n",
       "    </tr>\n",
       "    <tr>\n",
       "      <th>3</th>\n",
       "      <td>A3</td>\n",
       "      <td>B3</td>\n",
       "      <td>C3</td>\n",
       "      <td>D3</td>\n",
       "    </tr>\n",
       "  </tbody>\n",
       "</table>\n",
       "</div>"
      ],
      "text/plain": [
       "    A   B   C   D\n",
       "0  A0  B0  C0  D0\n",
       "1  A1  B1  C1  D1\n",
       "2  A2  B2  C2  D2\n",
       "3  A3  B3  C3  D3"
      ]
     },
     "execution_count": 164,
     "metadata": {},
     "output_type": "execute_result"
    }
   ],
   "source": [
    "df1"
   ]
  },
  {
   "cell_type": "code",
   "execution_count": 165,
   "metadata": {
    "collapsed": false
   },
   "outputs": [
    {
     "data": {
      "text/html": [
       "<div>\n",
       "<table border=\"1\" class=\"dataframe\">\n",
       "  <thead>\n",
       "    <tr style=\"text-align: right;\">\n",
       "      <th></th>\n",
       "      <th>A</th>\n",
       "      <th>B</th>\n",
       "      <th>C</th>\n",
       "      <th>D</th>\n",
       "      <th>F</th>\n",
       "    </tr>\n",
       "  </thead>\n",
       "  <tbody>\n",
       "    <tr>\n",
       "      <th>0</th>\n",
       "      <td>A0</td>\n",
       "      <td>B0</td>\n",
       "      <td>C0</td>\n",
       "      <td>D0</td>\n",
       "      <td>NaN</td>\n",
       "    </tr>\n",
       "    <tr>\n",
       "      <th>1</th>\n",
       "      <td>A1</td>\n",
       "      <td>B1</td>\n",
       "      <td>C1</td>\n",
       "      <td>D1</td>\n",
       "      <td>NaN</td>\n",
       "    </tr>\n",
       "    <tr>\n",
       "      <th>2</th>\n",
       "      <td>A2</td>\n",
       "      <td>B2</td>\n",
       "      <td>C2</td>\n",
       "      <td>D2</td>\n",
       "      <td>NaN</td>\n",
       "    </tr>\n",
       "    <tr>\n",
       "      <th>3</th>\n",
       "      <td>A3</td>\n",
       "      <td>B3</td>\n",
       "      <td>C3</td>\n",
       "      <td>D3</td>\n",
       "      <td>NaN</td>\n",
       "    </tr>\n",
       "    <tr>\n",
       "      <th>2</th>\n",
       "      <td>NaN</td>\n",
       "      <td>B2</td>\n",
       "      <td>NaN</td>\n",
       "      <td>D2</td>\n",
       "      <td>F2</td>\n",
       "    </tr>\n",
       "    <tr>\n",
       "      <th>3</th>\n",
       "      <td>NaN</td>\n",
       "      <td>B3</td>\n",
       "      <td>NaN</td>\n",
       "      <td>D3</td>\n",
       "      <td>F3</td>\n",
       "    </tr>\n",
       "    <tr>\n",
       "      <th>6</th>\n",
       "      <td>NaN</td>\n",
       "      <td>B6</td>\n",
       "      <td>NaN</td>\n",
       "      <td>D6</td>\n",
       "      <td>F6</td>\n",
       "    </tr>\n",
       "    <tr>\n",
       "      <th>7</th>\n",
       "      <td>NaN</td>\n",
       "      <td>B7</td>\n",
       "      <td>NaN</td>\n",
       "      <td>D7</td>\n",
       "      <td>F7</td>\n",
       "    </tr>\n",
       "  </tbody>\n",
       "</table>\n",
       "</div>"
      ],
      "text/plain": [
       "     A   B    C   D    F\n",
       "0   A0  B0   C0  D0  NaN\n",
       "1   A1  B1   C1  D1  NaN\n",
       "2   A2  B2   C2  D2  NaN\n",
       "3   A3  B3   C3  D3  NaN\n",
       "2  NaN  B2  NaN  D2   F2\n",
       "3  NaN  B3  NaN  D3   F3\n",
       "6  NaN  B6  NaN  D6   F6\n",
       "7  NaN  B7  NaN  D7   F7"
      ]
     },
     "execution_count": 165,
     "metadata": {},
     "output_type": "execute_result"
    }
   ],
   "source": [
    "result = pd.concat([df1, df4])\n",
    "result"
   ]
  },
  {
   "cell_type": "code",
   "execution_count": 166,
   "metadata": {
    "collapsed": false
   },
   "outputs": [
    {
     "data": {
      "text/html": [
       "<div>\n",
       "<table border=\"1\" class=\"dataframe\">\n",
       "  <thead>\n",
       "    <tr style=\"text-align: right;\">\n",
       "      <th></th>\n",
       "      <th>A</th>\n",
       "      <th>B</th>\n",
       "      <th>C</th>\n",
       "      <th>D</th>\n",
       "      <th>B</th>\n",
       "      <th>D</th>\n",
       "      <th>F</th>\n",
       "    </tr>\n",
       "  </thead>\n",
       "  <tbody>\n",
       "    <tr>\n",
       "      <th>0</th>\n",
       "      <td>A0</td>\n",
       "      <td>B0</td>\n",
       "      <td>C0</td>\n",
       "      <td>D0</td>\n",
       "      <td>NaN</td>\n",
       "      <td>NaN</td>\n",
       "      <td>NaN</td>\n",
       "    </tr>\n",
       "    <tr>\n",
       "      <th>1</th>\n",
       "      <td>A1</td>\n",
       "      <td>B1</td>\n",
       "      <td>C1</td>\n",
       "      <td>D1</td>\n",
       "      <td>NaN</td>\n",
       "      <td>NaN</td>\n",
       "      <td>NaN</td>\n",
       "    </tr>\n",
       "    <tr>\n",
       "      <th>2</th>\n",
       "      <td>A2</td>\n",
       "      <td>B2</td>\n",
       "      <td>C2</td>\n",
       "      <td>D2</td>\n",
       "      <td>B2</td>\n",
       "      <td>D2</td>\n",
       "      <td>F2</td>\n",
       "    </tr>\n",
       "    <tr>\n",
       "      <th>3</th>\n",
       "      <td>A3</td>\n",
       "      <td>B3</td>\n",
       "      <td>C3</td>\n",
       "      <td>D3</td>\n",
       "      <td>B3</td>\n",
       "      <td>D3</td>\n",
       "      <td>F3</td>\n",
       "    </tr>\n",
       "    <tr>\n",
       "      <th>6</th>\n",
       "      <td>NaN</td>\n",
       "      <td>NaN</td>\n",
       "      <td>NaN</td>\n",
       "      <td>NaN</td>\n",
       "      <td>B6</td>\n",
       "      <td>D6</td>\n",
       "      <td>F6</td>\n",
       "    </tr>\n",
       "    <tr>\n",
       "      <th>7</th>\n",
       "      <td>NaN</td>\n",
       "      <td>NaN</td>\n",
       "      <td>NaN</td>\n",
       "      <td>NaN</td>\n",
       "      <td>B7</td>\n",
       "      <td>D7</td>\n",
       "      <td>F7</td>\n",
       "    </tr>\n",
       "  </tbody>\n",
       "</table>\n",
       "</div>"
      ],
      "text/plain": [
       "     A    B    C    D    B    D    F\n",
       "0   A0   B0   C0   D0  NaN  NaN  NaN\n",
       "1   A1   B1   C1   D1  NaN  NaN  NaN\n",
       "2   A2   B2   C2   D2   B2   D2   F2\n",
       "3   A3   B3   C3   D3   B3   D3   F3\n",
       "6  NaN  NaN  NaN  NaN   B6   D6   F6\n",
       "7  NaN  NaN  NaN  NaN   B7   D7   F7"
      ]
     },
     "execution_count": 166,
     "metadata": {},
     "output_type": "execute_result"
    }
   ],
   "source": [
    "result = pd.concat([df1, df4], axis=1)\n",
    "result"
   ]
  },
  {
   "cell_type": "code",
   "execution_count": 167,
   "metadata": {
    "collapsed": false
   },
   "outputs": [
    {
     "data": {
      "text/html": [
       "<div>\n",
       "<table border=\"1\" class=\"dataframe\">\n",
       "  <thead>\n",
       "    <tr style=\"text-align: right;\">\n",
       "      <th></th>\n",
       "      <th>A</th>\n",
       "      <th>B</th>\n",
       "      <th>C</th>\n",
       "      <th>D</th>\n",
       "      <th>B</th>\n",
       "      <th>D</th>\n",
       "      <th>F</th>\n",
       "    </tr>\n",
       "  </thead>\n",
       "  <tbody>\n",
       "    <tr>\n",
       "      <th>2</th>\n",
       "      <td>A2</td>\n",
       "      <td>B2</td>\n",
       "      <td>C2</td>\n",
       "      <td>D2</td>\n",
       "      <td>B2</td>\n",
       "      <td>D2</td>\n",
       "      <td>F2</td>\n",
       "    </tr>\n",
       "    <tr>\n",
       "      <th>3</th>\n",
       "      <td>A3</td>\n",
       "      <td>B3</td>\n",
       "      <td>C3</td>\n",
       "      <td>D3</td>\n",
       "      <td>B3</td>\n",
       "      <td>D3</td>\n",
       "      <td>F3</td>\n",
       "    </tr>\n",
       "  </tbody>\n",
       "</table>\n",
       "</div>"
      ],
      "text/plain": [
       "    A   B   C   D   B   D   F\n",
       "2  A2  B2  C2  D2  B2  D2  F2\n",
       "3  A3  B3  C3  D3  B3  D3  F3"
      ]
     },
     "execution_count": 167,
     "metadata": {},
     "output_type": "execute_result"
    }
   ],
   "source": [
    "result = pd.concat([df1, df4], axis=1, join='inner')\n",
    "result"
   ]
  },
  {
   "cell_type": "markdown",
   "metadata": {},
   "source": [
    "- Using *append* method:"
   ]
  },
  {
   "cell_type": "code",
   "execution_count": 168,
   "metadata": {
    "collapsed": false
   },
   "outputs": [
    {
     "data": {
      "text/html": [
       "<div>\n",
       "<table border=\"1\" class=\"dataframe\">\n",
       "  <thead>\n",
       "    <tr style=\"text-align: right;\">\n",
       "      <th></th>\n",
       "      <th>A</th>\n",
       "      <th>B</th>\n",
       "      <th>C</th>\n",
       "      <th>D</th>\n",
       "    </tr>\n",
       "  </thead>\n",
       "  <tbody>\n",
       "    <tr>\n",
       "      <th>0</th>\n",
       "      <td>A0</td>\n",
       "      <td>B0</td>\n",
       "      <td>C0</td>\n",
       "      <td>D0</td>\n",
       "    </tr>\n",
       "    <tr>\n",
       "      <th>1</th>\n",
       "      <td>A1</td>\n",
       "      <td>B1</td>\n",
       "      <td>C1</td>\n",
       "      <td>D1</td>\n",
       "    </tr>\n",
       "    <tr>\n",
       "      <th>2</th>\n",
       "      <td>A2</td>\n",
       "      <td>B2</td>\n",
       "      <td>C2</td>\n",
       "      <td>D2</td>\n",
       "    </tr>\n",
       "    <tr>\n",
       "      <th>3</th>\n",
       "      <td>A3</td>\n",
       "      <td>B3</td>\n",
       "      <td>C3</td>\n",
       "      <td>D3</td>\n",
       "    </tr>\n",
       "  </tbody>\n",
       "</table>\n",
       "</div>"
      ],
      "text/plain": [
       "    A   B   C   D\n",
       "0  A0  B0  C0  D0\n",
       "1  A1  B1  C1  D1\n",
       "2  A2  B2  C2  D2\n",
       "3  A3  B3  C3  D3"
      ]
     },
     "execution_count": 168,
     "metadata": {},
     "output_type": "execute_result"
    }
   ],
   "source": [
    "df1"
   ]
  },
  {
   "cell_type": "code",
   "execution_count": 169,
   "metadata": {
    "collapsed": false
   },
   "outputs": [
    {
     "data": {
      "text/html": [
       "<div>\n",
       "<table border=\"1\" class=\"dataframe\">\n",
       "  <thead>\n",
       "    <tr style=\"text-align: right;\">\n",
       "      <th></th>\n",
       "      <th>A</th>\n",
       "      <th>B</th>\n",
       "      <th>C</th>\n",
       "      <th>D</th>\n",
       "    </tr>\n",
       "  </thead>\n",
       "  <tbody>\n",
       "    <tr>\n",
       "      <th>4</th>\n",
       "      <td>A4</td>\n",
       "      <td>B4</td>\n",
       "      <td>C4</td>\n",
       "      <td>D4</td>\n",
       "    </tr>\n",
       "    <tr>\n",
       "      <th>5</th>\n",
       "      <td>A5</td>\n",
       "      <td>B5</td>\n",
       "      <td>C5</td>\n",
       "      <td>D5</td>\n",
       "    </tr>\n",
       "    <tr>\n",
       "      <th>6</th>\n",
       "      <td>A6</td>\n",
       "      <td>B6</td>\n",
       "      <td>C6</td>\n",
       "      <td>D6</td>\n",
       "    </tr>\n",
       "    <tr>\n",
       "      <th>7</th>\n",
       "      <td>A7</td>\n",
       "      <td>B7</td>\n",
       "      <td>C7</td>\n",
       "      <td>D7</td>\n",
       "    </tr>\n",
       "  </tbody>\n",
       "</table>\n",
       "</div>"
      ],
      "text/plain": [
       "    A   B   C   D\n",
       "4  A4  B4  C4  D4\n",
       "5  A5  B5  C5  D5\n",
       "6  A6  B6  C6  D6\n",
       "7  A7  B7  C7  D7"
      ]
     },
     "execution_count": 169,
     "metadata": {},
     "output_type": "execute_result"
    }
   ],
   "source": [
    "df2"
   ]
  },
  {
   "cell_type": "code",
   "execution_count": 170,
   "metadata": {
    "collapsed": false
   },
   "outputs": [
    {
     "data": {
      "text/html": [
       "<div>\n",
       "<table border=\"1\" class=\"dataframe\">\n",
       "  <thead>\n",
       "    <tr style=\"text-align: right;\">\n",
       "      <th></th>\n",
       "      <th>A</th>\n",
       "      <th>B</th>\n",
       "      <th>C</th>\n",
       "      <th>D</th>\n",
       "    </tr>\n",
       "  </thead>\n",
       "  <tbody>\n",
       "    <tr>\n",
       "      <th>0</th>\n",
       "      <td>A0</td>\n",
       "      <td>B0</td>\n",
       "      <td>C0</td>\n",
       "      <td>D0</td>\n",
       "    </tr>\n",
       "    <tr>\n",
       "      <th>1</th>\n",
       "      <td>A1</td>\n",
       "      <td>B1</td>\n",
       "      <td>C1</td>\n",
       "      <td>D1</td>\n",
       "    </tr>\n",
       "    <tr>\n",
       "      <th>2</th>\n",
       "      <td>A2</td>\n",
       "      <td>B2</td>\n",
       "      <td>C2</td>\n",
       "      <td>D2</td>\n",
       "    </tr>\n",
       "    <tr>\n",
       "      <th>3</th>\n",
       "      <td>A3</td>\n",
       "      <td>B3</td>\n",
       "      <td>C3</td>\n",
       "      <td>D3</td>\n",
       "    </tr>\n",
       "    <tr>\n",
       "      <th>4</th>\n",
       "      <td>A4</td>\n",
       "      <td>B4</td>\n",
       "      <td>C4</td>\n",
       "      <td>D4</td>\n",
       "    </tr>\n",
       "    <tr>\n",
       "      <th>5</th>\n",
       "      <td>A5</td>\n",
       "      <td>B5</td>\n",
       "      <td>C5</td>\n",
       "      <td>D5</td>\n",
       "    </tr>\n",
       "    <tr>\n",
       "      <th>6</th>\n",
       "      <td>A6</td>\n",
       "      <td>B6</td>\n",
       "      <td>C6</td>\n",
       "      <td>D6</td>\n",
       "    </tr>\n",
       "    <tr>\n",
       "      <th>7</th>\n",
       "      <td>A7</td>\n",
       "      <td>B7</td>\n",
       "      <td>C7</td>\n",
       "      <td>D7</td>\n",
       "    </tr>\n",
       "  </tbody>\n",
       "</table>\n",
       "</div>"
      ],
      "text/plain": [
       "    A   B   C   D\n",
       "0  A0  B0  C0  D0\n",
       "1  A1  B1  C1  D1\n",
       "2  A2  B2  C2  D2\n",
       "3  A3  B3  C3  D3\n",
       "4  A4  B4  C4  D4\n",
       "5  A5  B5  C5  D5\n",
       "6  A6  B6  C6  D6\n",
       "7  A7  B7  C7  D7"
      ]
     },
     "execution_count": 170,
     "metadata": {},
     "output_type": "execute_result"
    }
   ],
   "source": [
    "result = df1.append(df2)\n",
    "result"
   ]
  },
  {
   "cell_type": "code",
   "execution_count": 171,
   "metadata": {
    "collapsed": false
   },
   "outputs": [
    {
     "data": {
      "text/html": [
       "<div>\n",
       "<table border=\"1\" class=\"dataframe\">\n",
       "  <thead>\n",
       "    <tr style=\"text-align: right;\">\n",
       "      <th></th>\n",
       "      <th>A</th>\n",
       "      <th>B</th>\n",
       "      <th>C</th>\n",
       "      <th>D</th>\n",
       "    </tr>\n",
       "  </thead>\n",
       "  <tbody>\n",
       "    <tr>\n",
       "      <th>0</th>\n",
       "      <td>A0</td>\n",
       "      <td>B0</td>\n",
       "      <td>C0</td>\n",
       "      <td>D0</td>\n",
       "    </tr>\n",
       "    <tr>\n",
       "      <th>1</th>\n",
       "      <td>A1</td>\n",
       "      <td>B1</td>\n",
       "      <td>C1</td>\n",
       "      <td>D1</td>\n",
       "    </tr>\n",
       "    <tr>\n",
       "      <th>2</th>\n",
       "      <td>A2</td>\n",
       "      <td>B2</td>\n",
       "      <td>C2</td>\n",
       "      <td>D2</td>\n",
       "    </tr>\n",
       "    <tr>\n",
       "      <th>3</th>\n",
       "      <td>A3</td>\n",
       "      <td>B3</td>\n",
       "      <td>C3</td>\n",
       "      <td>D3</td>\n",
       "    </tr>\n",
       "  </tbody>\n",
       "</table>\n",
       "</div>"
      ],
      "text/plain": [
       "    A   B   C   D\n",
       "0  A0  B0  C0  D0\n",
       "1  A1  B1  C1  D1\n",
       "2  A2  B2  C2  D2\n",
       "3  A3  B3  C3  D3"
      ]
     },
     "execution_count": 171,
     "metadata": {},
     "output_type": "execute_result"
    }
   ],
   "source": [
    "df1"
   ]
  },
  {
   "cell_type": "code",
   "execution_count": 172,
   "metadata": {
    "collapsed": false
   },
   "outputs": [
    {
     "data": {
      "text/html": [
       "<div>\n",
       "<table border=\"1\" class=\"dataframe\">\n",
       "  <thead>\n",
       "    <tr style=\"text-align: right;\">\n",
       "      <th></th>\n",
       "      <th>B</th>\n",
       "      <th>D</th>\n",
       "      <th>F</th>\n",
       "    </tr>\n",
       "  </thead>\n",
       "  <tbody>\n",
       "    <tr>\n",
       "      <th>2</th>\n",
       "      <td>B2</td>\n",
       "      <td>D2</td>\n",
       "      <td>F2</td>\n",
       "    </tr>\n",
       "    <tr>\n",
       "      <th>3</th>\n",
       "      <td>B3</td>\n",
       "      <td>D3</td>\n",
       "      <td>F3</td>\n",
       "    </tr>\n",
       "    <tr>\n",
       "      <th>6</th>\n",
       "      <td>B6</td>\n",
       "      <td>D6</td>\n",
       "      <td>F6</td>\n",
       "    </tr>\n",
       "    <tr>\n",
       "      <th>7</th>\n",
       "      <td>B7</td>\n",
       "      <td>D7</td>\n",
       "      <td>F7</td>\n",
       "    </tr>\n",
       "  </tbody>\n",
       "</table>\n",
       "</div>"
      ],
      "text/plain": [
       "    B   D   F\n",
       "2  B2  D2  F2\n",
       "3  B3  D3  F3\n",
       "6  B6  D6  F6\n",
       "7  B7  D7  F7"
      ]
     },
     "execution_count": 172,
     "metadata": {},
     "output_type": "execute_result"
    }
   ],
   "source": [
    "df4"
   ]
  },
  {
   "cell_type": "code",
   "execution_count": 173,
   "metadata": {
    "collapsed": false
   },
   "outputs": [
    {
     "data": {
      "text/html": [
       "<div>\n",
       "<table border=\"1\" class=\"dataframe\">\n",
       "  <thead>\n",
       "    <tr style=\"text-align: right;\">\n",
       "      <th></th>\n",
       "      <th>A</th>\n",
       "      <th>B</th>\n",
       "      <th>C</th>\n",
       "      <th>D</th>\n",
       "      <th>F</th>\n",
       "    </tr>\n",
       "  </thead>\n",
       "  <tbody>\n",
       "    <tr>\n",
       "      <th>0</th>\n",
       "      <td>A0</td>\n",
       "      <td>B0</td>\n",
       "      <td>C0</td>\n",
       "      <td>D0</td>\n",
       "      <td>NaN</td>\n",
       "    </tr>\n",
       "    <tr>\n",
       "      <th>1</th>\n",
       "      <td>A1</td>\n",
       "      <td>B1</td>\n",
       "      <td>C1</td>\n",
       "      <td>D1</td>\n",
       "      <td>NaN</td>\n",
       "    </tr>\n",
       "    <tr>\n",
       "      <th>2</th>\n",
       "      <td>A2</td>\n",
       "      <td>B2</td>\n",
       "      <td>C2</td>\n",
       "      <td>D2</td>\n",
       "      <td>NaN</td>\n",
       "    </tr>\n",
       "    <tr>\n",
       "      <th>3</th>\n",
       "      <td>A3</td>\n",
       "      <td>B3</td>\n",
       "      <td>C3</td>\n",
       "      <td>D3</td>\n",
       "      <td>NaN</td>\n",
       "    </tr>\n",
       "    <tr>\n",
       "      <th>2</th>\n",
       "      <td>NaN</td>\n",
       "      <td>B2</td>\n",
       "      <td>NaN</td>\n",
       "      <td>D2</td>\n",
       "      <td>F2</td>\n",
       "    </tr>\n",
       "    <tr>\n",
       "      <th>3</th>\n",
       "      <td>NaN</td>\n",
       "      <td>B3</td>\n",
       "      <td>NaN</td>\n",
       "      <td>D3</td>\n",
       "      <td>F3</td>\n",
       "    </tr>\n",
       "    <tr>\n",
       "      <th>6</th>\n",
       "      <td>NaN</td>\n",
       "      <td>B6</td>\n",
       "      <td>NaN</td>\n",
       "      <td>D6</td>\n",
       "      <td>F6</td>\n",
       "    </tr>\n",
       "    <tr>\n",
       "      <th>7</th>\n",
       "      <td>NaN</td>\n",
       "      <td>B7</td>\n",
       "      <td>NaN</td>\n",
       "      <td>D7</td>\n",
       "      <td>F7</td>\n",
       "    </tr>\n",
       "  </tbody>\n",
       "</table>\n",
       "</div>"
      ],
      "text/plain": [
       "     A   B    C   D    F\n",
       "0   A0  B0   C0  D0  NaN\n",
       "1   A1  B1   C1  D1  NaN\n",
       "2   A2  B2   C2  D2  NaN\n",
       "3   A3  B3   C3  D3  NaN\n",
       "2  NaN  B2  NaN  D2   F2\n",
       "3  NaN  B3  NaN  D3   F3\n",
       "6  NaN  B6  NaN  D6   F6\n",
       "7  NaN  B7  NaN  D7   F7"
      ]
     },
     "execution_count": 173,
     "metadata": {},
     "output_type": "execute_result"
    }
   ],
   "source": [
    "result = df1.append(df4)\n",
    "result"
   ]
  },
  {
   "cell_type": "code",
   "execution_count": 174,
   "metadata": {
    "collapsed": false
   },
   "outputs": [
    {
     "data": {
      "text/html": [
       "<div>\n",
       "<table border=\"1\" class=\"dataframe\">\n",
       "  <thead>\n",
       "    <tr style=\"text-align: right;\">\n",
       "      <th></th>\n",
       "      <th>A</th>\n",
       "      <th>B</th>\n",
       "      <th>C</th>\n",
       "      <th>D</th>\n",
       "      <th>F</th>\n",
       "    </tr>\n",
       "  </thead>\n",
       "  <tbody>\n",
       "    <tr>\n",
       "      <th>0</th>\n",
       "      <td>A0</td>\n",
       "      <td>B0</td>\n",
       "      <td>C0</td>\n",
       "      <td>D0</td>\n",
       "      <td>NaN</td>\n",
       "    </tr>\n",
       "    <tr>\n",
       "      <th>1</th>\n",
       "      <td>A1</td>\n",
       "      <td>B1</td>\n",
       "      <td>C1</td>\n",
       "      <td>D1</td>\n",
       "      <td>NaN</td>\n",
       "    </tr>\n",
       "    <tr>\n",
       "      <th>2</th>\n",
       "      <td>A2</td>\n",
       "      <td>B2</td>\n",
       "      <td>C2</td>\n",
       "      <td>D2</td>\n",
       "      <td>NaN</td>\n",
       "    </tr>\n",
       "    <tr>\n",
       "      <th>3</th>\n",
       "      <td>A3</td>\n",
       "      <td>B3</td>\n",
       "      <td>C3</td>\n",
       "      <td>D3</td>\n",
       "      <td>NaN</td>\n",
       "    </tr>\n",
       "    <tr>\n",
       "      <th>2</th>\n",
       "      <td>NaN</td>\n",
       "      <td>B2</td>\n",
       "      <td>NaN</td>\n",
       "      <td>D2</td>\n",
       "      <td>F2</td>\n",
       "    </tr>\n",
       "    <tr>\n",
       "      <th>3</th>\n",
       "      <td>NaN</td>\n",
       "      <td>B3</td>\n",
       "      <td>NaN</td>\n",
       "      <td>D3</td>\n",
       "      <td>F3</td>\n",
       "    </tr>\n",
       "    <tr>\n",
       "      <th>6</th>\n",
       "      <td>NaN</td>\n",
       "      <td>B6</td>\n",
       "      <td>NaN</td>\n",
       "      <td>D6</td>\n",
       "      <td>F6</td>\n",
       "    </tr>\n",
       "    <tr>\n",
       "      <th>7</th>\n",
       "      <td>NaN</td>\n",
       "      <td>B7</td>\n",
       "      <td>NaN</td>\n",
       "      <td>D7</td>\n",
       "      <td>F7</td>\n",
       "    </tr>\n",
       "  </tbody>\n",
       "</table>\n",
       "</div>"
      ],
      "text/plain": [
       "     A   B    C   D    F\n",
       "0   A0  B0   C0  D0  NaN\n",
       "1   A1  B1   C1  D1  NaN\n",
       "2   A2  B2   C2  D2  NaN\n",
       "3   A3  B3   C3  D3  NaN\n",
       "2  NaN  B2  NaN  D2   F2\n",
       "3  NaN  B3  NaN  D3   F3\n",
       "6  NaN  B6  NaN  D6   F6\n",
       "7  NaN  B7  NaN  D7   F7"
      ]
     },
     "execution_count": 174,
     "metadata": {},
     "output_type": "execute_result"
    }
   ],
   "source": [
    "result = pd.concat([df1,df4])\n",
    "result"
   ]
  },
  {
   "cell_type": "markdown",
   "metadata": {},
   "source": [
    "- Note: Unlike list.append method, which appends to the original list and returns nothing, append here does not modify df1 and returns its copy with df2 appended."
   ]
  },
  {
   "cell_type": "code",
   "execution_count": 175,
   "metadata": {
    "collapsed": false
   },
   "outputs": [
    {
     "data": {
      "text/html": [
       "<div>\n",
       "<table border=\"1\" class=\"dataframe\">\n",
       "  <thead>\n",
       "    <tr style=\"text-align: right;\">\n",
       "      <th></th>\n",
       "      <th>A</th>\n",
       "      <th>B</th>\n",
       "      <th>C</th>\n",
       "      <th>D</th>\n",
       "      <th>F</th>\n",
       "    </tr>\n",
       "  </thead>\n",
       "  <tbody>\n",
       "    <tr>\n",
       "      <th>0</th>\n",
       "      <td>A0</td>\n",
       "      <td>B0</td>\n",
       "      <td>C0</td>\n",
       "      <td>D0</td>\n",
       "      <td>NaN</td>\n",
       "    </tr>\n",
       "    <tr>\n",
       "      <th>1</th>\n",
       "      <td>A1</td>\n",
       "      <td>B1</td>\n",
       "      <td>C1</td>\n",
       "      <td>D1</td>\n",
       "      <td>NaN</td>\n",
       "    </tr>\n",
       "    <tr>\n",
       "      <th>2</th>\n",
       "      <td>A2</td>\n",
       "      <td>B2</td>\n",
       "      <td>C2</td>\n",
       "      <td>D2</td>\n",
       "      <td>NaN</td>\n",
       "    </tr>\n",
       "    <tr>\n",
       "      <th>3</th>\n",
       "      <td>A3</td>\n",
       "      <td>B3</td>\n",
       "      <td>C3</td>\n",
       "      <td>D3</td>\n",
       "      <td>NaN</td>\n",
       "    </tr>\n",
       "    <tr>\n",
       "      <th>4</th>\n",
       "      <td>NaN</td>\n",
       "      <td>B2</td>\n",
       "      <td>NaN</td>\n",
       "      <td>D2</td>\n",
       "      <td>F2</td>\n",
       "    </tr>\n",
       "    <tr>\n",
       "      <th>5</th>\n",
       "      <td>NaN</td>\n",
       "      <td>B3</td>\n",
       "      <td>NaN</td>\n",
       "      <td>D3</td>\n",
       "      <td>F3</td>\n",
       "    </tr>\n",
       "    <tr>\n",
       "      <th>6</th>\n",
       "      <td>NaN</td>\n",
       "      <td>B6</td>\n",
       "      <td>NaN</td>\n",
       "      <td>D6</td>\n",
       "      <td>F6</td>\n",
       "    </tr>\n",
       "    <tr>\n",
       "      <th>7</th>\n",
       "      <td>NaN</td>\n",
       "      <td>B7</td>\n",
       "      <td>NaN</td>\n",
       "      <td>D7</td>\n",
       "      <td>F7</td>\n",
       "    </tr>\n",
       "  </tbody>\n",
       "</table>\n",
       "</div>"
      ],
      "text/plain": [
       "     A   B    C   D    F\n",
       "0   A0  B0   C0  D0  NaN\n",
       "1   A1  B1   C1  D1  NaN\n",
       "2   A2  B2   C2  D2  NaN\n",
       "3   A3  B3   C3  D3  NaN\n",
       "4  NaN  B2  NaN  D2   F2\n",
       "5  NaN  B3  NaN  D3   F3\n",
       "6  NaN  B6  NaN  D6   F6\n",
       "7  NaN  B7  NaN  D7   F7"
      ]
     },
     "execution_count": 175,
     "metadata": {},
     "output_type": "execute_result"
    }
   ],
   "source": [
    "result = pd.concat([df1,df4], ignore_index=True)\n",
    "result"
   ]
  },
  {
   "cell_type": "markdown",
   "metadata": {},
   "source": [
    "- This is also a valid argument to DataFrame.append:"
   ]
  },
  {
   "cell_type": "code",
   "execution_count": 176,
   "metadata": {
    "collapsed": false
   },
   "outputs": [
    {
     "data": {
      "text/html": [
       "<div>\n",
       "<table border=\"1\" class=\"dataframe\">\n",
       "  <thead>\n",
       "    <tr style=\"text-align: right;\">\n",
       "      <th></th>\n",
       "      <th>A</th>\n",
       "      <th>B</th>\n",
       "      <th>C</th>\n",
       "      <th>D</th>\n",
       "      <th>F</th>\n",
       "    </tr>\n",
       "  </thead>\n",
       "  <tbody>\n",
       "    <tr>\n",
       "      <th>0</th>\n",
       "      <td>A0</td>\n",
       "      <td>B0</td>\n",
       "      <td>C0</td>\n",
       "      <td>D0</td>\n",
       "      <td>NaN</td>\n",
       "    </tr>\n",
       "    <tr>\n",
       "      <th>1</th>\n",
       "      <td>A1</td>\n",
       "      <td>B1</td>\n",
       "      <td>C1</td>\n",
       "      <td>D1</td>\n",
       "      <td>NaN</td>\n",
       "    </tr>\n",
       "    <tr>\n",
       "      <th>2</th>\n",
       "      <td>A2</td>\n",
       "      <td>B2</td>\n",
       "      <td>C2</td>\n",
       "      <td>D2</td>\n",
       "      <td>NaN</td>\n",
       "    </tr>\n",
       "    <tr>\n",
       "      <th>3</th>\n",
       "      <td>A3</td>\n",
       "      <td>B3</td>\n",
       "      <td>C3</td>\n",
       "      <td>D3</td>\n",
       "      <td>NaN</td>\n",
       "    </tr>\n",
       "    <tr>\n",
       "      <th>4</th>\n",
       "      <td>NaN</td>\n",
       "      <td>B2</td>\n",
       "      <td>NaN</td>\n",
       "      <td>D2</td>\n",
       "      <td>F2</td>\n",
       "    </tr>\n",
       "    <tr>\n",
       "      <th>5</th>\n",
       "      <td>NaN</td>\n",
       "      <td>B3</td>\n",
       "      <td>NaN</td>\n",
       "      <td>D3</td>\n",
       "      <td>F3</td>\n",
       "    </tr>\n",
       "    <tr>\n",
       "      <th>6</th>\n",
       "      <td>NaN</td>\n",
       "      <td>B6</td>\n",
       "      <td>NaN</td>\n",
       "      <td>D6</td>\n",
       "      <td>F6</td>\n",
       "    </tr>\n",
       "    <tr>\n",
       "      <th>7</th>\n",
       "      <td>NaN</td>\n",
       "      <td>B7</td>\n",
       "      <td>NaN</td>\n",
       "      <td>D7</td>\n",
       "      <td>F7</td>\n",
       "    </tr>\n",
       "  </tbody>\n",
       "</table>\n",
       "</div>"
      ],
      "text/plain": [
       "     A   B    C   D    F\n",
       "0   A0  B0   C0  D0  NaN\n",
       "1   A1  B1   C1  D1  NaN\n",
       "2   A2  B2   C2  D2  NaN\n",
       "3   A3  B3   C3  D3  NaN\n",
       "4  NaN  B2  NaN  D2   F2\n",
       "5  NaN  B3  NaN  D3   F3\n",
       "6  NaN  B6  NaN  D6   F6\n",
       "7  NaN  B7  NaN  D7   F7"
      ]
     },
     "execution_count": 176,
     "metadata": {},
     "output_type": "execute_result"
    }
   ],
   "source": [
    "result = df1.append(df4, ignore_index = True)\n",
    "result"
   ]
  },
  {
   "cell_type": "markdown",
   "metadata": {},
   "source": [
    "- Mixing dimensions"
   ]
  },
  {
   "cell_type": "code",
   "execution_count": 177,
   "metadata": {
    "collapsed": false
   },
   "outputs": [
    {
     "data": {
      "text/html": [
       "<div>\n",
       "<table border=\"1\" class=\"dataframe\">\n",
       "  <thead>\n",
       "    <tr style=\"text-align: right;\">\n",
       "      <th></th>\n",
       "      <th>A</th>\n",
       "      <th>B</th>\n",
       "      <th>C</th>\n",
       "      <th>D</th>\n",
       "    </tr>\n",
       "  </thead>\n",
       "  <tbody>\n",
       "    <tr>\n",
       "      <th>0</th>\n",
       "      <td>A0</td>\n",
       "      <td>B0</td>\n",
       "      <td>C0</td>\n",
       "      <td>D0</td>\n",
       "    </tr>\n",
       "    <tr>\n",
       "      <th>1</th>\n",
       "      <td>A1</td>\n",
       "      <td>B1</td>\n",
       "      <td>C1</td>\n",
       "      <td>D1</td>\n",
       "    </tr>\n",
       "    <tr>\n",
       "      <th>2</th>\n",
       "      <td>A2</td>\n",
       "      <td>B2</td>\n",
       "      <td>C2</td>\n",
       "      <td>D2</td>\n",
       "    </tr>\n",
       "    <tr>\n",
       "      <th>3</th>\n",
       "      <td>A3</td>\n",
       "      <td>B3</td>\n",
       "      <td>C3</td>\n",
       "      <td>D3</td>\n",
       "    </tr>\n",
       "  </tbody>\n",
       "</table>\n",
       "</div>"
      ],
      "text/plain": [
       "    A   B   C   D\n",
       "0  A0  B0  C0  D0\n",
       "1  A1  B1  C1  D1\n",
       "2  A2  B2  C2  D2\n",
       "3  A3  B3  C3  D3"
      ]
     },
     "execution_count": 177,
     "metadata": {},
     "output_type": "execute_result"
    }
   ],
   "source": [
    "df1"
   ]
  },
  {
   "cell_type": "code",
   "execution_count": 178,
   "metadata": {
    "collapsed": false
   },
   "outputs": [
    {
     "data": {
      "text/plain": [
       "0    X0\n",
       "1    X1\n",
       "2    X2\n",
       "3    X3\n",
       "Name: X, dtype: object"
      ]
     },
     "execution_count": 178,
     "metadata": {},
     "output_type": "execute_result"
    }
   ],
   "source": [
    "s1 = pd.Series(['X0', 'X1', 'X2', 'X3'], name='X')\n",
    "s1"
   ]
  },
  {
   "cell_type": "code",
   "execution_count": 179,
   "metadata": {
    "collapsed": false
   },
   "outputs": [
    {
     "data": {
      "text/html": [
       "<div>\n",
       "<table border=\"1\" class=\"dataframe\">\n",
       "  <thead>\n",
       "    <tr style=\"text-align: right;\">\n",
       "      <th></th>\n",
       "      <th>0</th>\n",
       "      <th>A</th>\n",
       "      <th>B</th>\n",
       "      <th>C</th>\n",
       "      <th>D</th>\n",
       "    </tr>\n",
       "  </thead>\n",
       "  <tbody>\n",
       "    <tr>\n",
       "      <th>0</th>\n",
       "      <td>X0</td>\n",
       "      <td>NaN</td>\n",
       "      <td>NaN</td>\n",
       "      <td>NaN</td>\n",
       "      <td>NaN</td>\n",
       "    </tr>\n",
       "    <tr>\n",
       "      <th>1</th>\n",
       "      <td>X1</td>\n",
       "      <td>NaN</td>\n",
       "      <td>NaN</td>\n",
       "      <td>NaN</td>\n",
       "      <td>NaN</td>\n",
       "    </tr>\n",
       "    <tr>\n",
       "      <th>2</th>\n",
       "      <td>X2</td>\n",
       "      <td>NaN</td>\n",
       "      <td>NaN</td>\n",
       "      <td>NaN</td>\n",
       "      <td>NaN</td>\n",
       "    </tr>\n",
       "    <tr>\n",
       "      <th>3</th>\n",
       "      <td>X3</td>\n",
       "      <td>NaN</td>\n",
       "      <td>NaN</td>\n",
       "      <td>NaN</td>\n",
       "      <td>NaN</td>\n",
       "    </tr>\n",
       "    <tr>\n",
       "      <th>0</th>\n",
       "      <td>NaN</td>\n",
       "      <td>A0</td>\n",
       "      <td>B0</td>\n",
       "      <td>C0</td>\n",
       "      <td>D0</td>\n",
       "    </tr>\n",
       "    <tr>\n",
       "      <th>1</th>\n",
       "      <td>NaN</td>\n",
       "      <td>A1</td>\n",
       "      <td>B1</td>\n",
       "      <td>C1</td>\n",
       "      <td>D1</td>\n",
       "    </tr>\n",
       "    <tr>\n",
       "      <th>2</th>\n",
       "      <td>NaN</td>\n",
       "      <td>A2</td>\n",
       "      <td>B2</td>\n",
       "      <td>C2</td>\n",
       "      <td>D2</td>\n",
       "    </tr>\n",
       "    <tr>\n",
       "      <th>3</th>\n",
       "      <td>NaN</td>\n",
       "      <td>A3</td>\n",
       "      <td>B3</td>\n",
       "      <td>C3</td>\n",
       "      <td>D3</td>\n",
       "    </tr>\n",
       "  </tbody>\n",
       "</table>\n",
       "</div>"
      ],
      "text/plain": [
       "     0    A    B    C    D\n",
       "0   X0  NaN  NaN  NaN  NaN\n",
       "1   X1  NaN  NaN  NaN  NaN\n",
       "2   X2  NaN  NaN  NaN  NaN\n",
       "3   X3  NaN  NaN  NaN  NaN\n",
       "0  NaN   A0   B0   C0   D0\n",
       "1  NaN   A1   B1   C1   D1\n",
       "2  NaN   A2   B2   C2   D2\n",
       "3  NaN   A3   B3   C3   D3"
      ]
     },
     "execution_count": 179,
     "metadata": {},
     "output_type": "execute_result"
    }
   ],
   "source": [
    "result = pd.concat([s1,df1])\n",
    "result"
   ]
  },
  {
   "cell_type": "code",
   "execution_count": 180,
   "metadata": {
    "collapsed": false
   },
   "outputs": [
    {
     "data": {
      "text/html": [
       "<div>\n",
       "<table border=\"1\" class=\"dataframe\">\n",
       "  <thead>\n",
       "    <tr style=\"text-align: right;\">\n",
       "      <th></th>\n",
       "      <th>A</th>\n",
       "      <th>B</th>\n",
       "      <th>C</th>\n",
       "      <th>D</th>\n",
       "      <th>X</th>\n",
       "    </tr>\n",
       "  </thead>\n",
       "  <tbody>\n",
       "    <tr>\n",
       "      <th>0</th>\n",
       "      <td>A0</td>\n",
       "      <td>B0</td>\n",
       "      <td>C0</td>\n",
       "      <td>D0</td>\n",
       "      <td>X0</td>\n",
       "    </tr>\n",
       "    <tr>\n",
       "      <th>1</th>\n",
       "      <td>A1</td>\n",
       "      <td>B1</td>\n",
       "      <td>C1</td>\n",
       "      <td>D1</td>\n",
       "      <td>X1</td>\n",
       "    </tr>\n",
       "    <tr>\n",
       "      <th>2</th>\n",
       "      <td>A2</td>\n",
       "      <td>B2</td>\n",
       "      <td>C2</td>\n",
       "      <td>D2</td>\n",
       "      <td>X2</td>\n",
       "    </tr>\n",
       "    <tr>\n",
       "      <th>3</th>\n",
       "      <td>A3</td>\n",
       "      <td>B3</td>\n",
       "      <td>C3</td>\n",
       "      <td>D3</td>\n",
       "      <td>X3</td>\n",
       "    </tr>\n",
       "  </tbody>\n",
       "</table>\n",
       "</div>"
      ],
      "text/plain": [
       "    A   B   C   D   X\n",
       "0  A0  B0  C0  D0  X0\n",
       "1  A1  B1  C1  D1  X1\n",
       "2  A2  B2  C2  D2  X2\n",
       "3  A3  B3  C3  D3  X3"
      ]
     },
     "execution_count": 180,
     "metadata": {},
     "output_type": "execute_result"
    }
   ],
   "source": [
    "result = pd.concat([df1,s1], axis = 1)\n",
    "result"
   ]
  },
  {
   "cell_type": "code",
   "execution_count": 181,
   "metadata": {
    "collapsed": true
   },
   "outputs": [],
   "source": [
    "s2 = pd.Series(['_0', '_1', '_2', '_3'])"
   ]
  },
  {
   "cell_type": "code",
   "execution_count": 182,
   "metadata": {
    "collapsed": false
   },
   "outputs": [
    {
     "data": {
      "text/html": [
       "<div>\n",
       "<table border=\"1\" class=\"dataframe\">\n",
       "  <thead>\n",
       "    <tr style=\"text-align: right;\">\n",
       "      <th></th>\n",
       "      <th>A</th>\n",
       "      <th>B</th>\n",
       "      <th>C</th>\n",
       "      <th>D</th>\n",
       "      <th>0</th>\n",
       "      <th>1</th>\n",
       "      <th>2</th>\n",
       "    </tr>\n",
       "  </thead>\n",
       "  <tbody>\n",
       "    <tr>\n",
       "      <th>0</th>\n",
       "      <td>A0</td>\n",
       "      <td>B0</td>\n",
       "      <td>C0</td>\n",
       "      <td>D0</td>\n",
       "      <td>_0</td>\n",
       "      <td>_0</td>\n",
       "      <td>_0</td>\n",
       "    </tr>\n",
       "    <tr>\n",
       "      <th>1</th>\n",
       "      <td>A1</td>\n",
       "      <td>B1</td>\n",
       "      <td>C1</td>\n",
       "      <td>D1</td>\n",
       "      <td>_1</td>\n",
       "      <td>_1</td>\n",
       "      <td>_1</td>\n",
       "    </tr>\n",
       "    <tr>\n",
       "      <th>2</th>\n",
       "      <td>A2</td>\n",
       "      <td>B2</td>\n",
       "      <td>C2</td>\n",
       "      <td>D2</td>\n",
       "      <td>_2</td>\n",
       "      <td>_2</td>\n",
       "      <td>_2</td>\n",
       "    </tr>\n",
       "    <tr>\n",
       "      <th>3</th>\n",
       "      <td>A3</td>\n",
       "      <td>B3</td>\n",
       "      <td>C3</td>\n",
       "      <td>D3</td>\n",
       "      <td>_3</td>\n",
       "      <td>_3</td>\n",
       "      <td>_3</td>\n",
       "    </tr>\n",
       "  </tbody>\n",
       "</table>\n",
       "</div>"
      ],
      "text/plain": [
       "    A   B   C   D   0   1   2\n",
       "0  A0  B0  C0  D0  _0  _0  _0\n",
       "1  A1  B1  C1  D1  _1  _1  _1\n",
       "2  A2  B2  C2  D2  _2  _2  _2\n",
       "3  A3  B3  C3  D3  _3  _3  _3"
      ]
     },
     "execution_count": 182,
     "metadata": {},
     "output_type": "execute_result"
    }
   ],
   "source": [
    "result = pd.concat([df1,s2,s2,s2], axis = 1)\n",
    "result"
   ]
  },
  {
   "cell_type": "markdown",
   "metadata": {
    "collapsed": true
   },
   "source": [
    "### Example: Generate a random catalog using concat method\n",
    "\n",
    "- In this exercise we will use the concat method and show a basic example of multiIndex.\n",
    "\n",
    "- Given a subset of 3 galaxies with the following properties ['halo_id', 'gal_id' ,'ra', 'dec', 'z', 'abs_mag'], create a random catalog with 50 times more galaxies than the subset keeping the properties of the galaxies but placing them randomly in the first octant of the sky. \n",
    "\n",
    "- The index of each galaxy is given by the tuple [halo_id, gal_id]"
   ]
  },
  {
   "cell_type": "code",
   "execution_count": 183,
   "metadata": {
    "collapsed": false
   },
   "outputs": [],
   "source": [
    "data =  [\n",
    "    # halo_id, gal_id, ra, dec, z, abs_mag'\n",
    "    [1, 1, 21.5, 30.1, 0.21, -21.2],\n",
    "    [1, 2, 21.6, 29.0, 0.21, -18.3],\n",
    "    [1, 3, 21.4, 30.0, 0.21, -18.5],\n",
    "    [2, 1, 45.0, 45.0, 0.42, -20.4],\n",
    "    [3, 1, 25.0, 33.1, 0.61, -21.2],\n",
    "    [3, 2, 25.1, 33.2, 0.61, -20.3]\n",
    "]\n",
    "\n",
    "nrandom = 50"
   ]
  },
  {
   "cell_type": "code",
   "execution_count": 184,
   "metadata": {
    "collapsed": false
   },
   "outputs": [
    {
     "data": {
      "text/html": [
       "<div>\n",
       "<table border=\"1\" class=\"dataframe\">\n",
       "  <thead>\n",
       "    <tr style=\"text-align: right;\">\n",
       "      <th></th>\n",
       "      <th></th>\n",
       "      <th>ra</th>\n",
       "      <th>dec</th>\n",
       "      <th>z</th>\n",
       "      <th>abs_mag</th>\n",
       "    </tr>\n",
       "    <tr>\n",
       "      <th>halo_id</th>\n",
       "      <th>gal_id</th>\n",
       "      <th></th>\n",
       "      <th></th>\n",
       "      <th></th>\n",
       "      <th></th>\n",
       "    </tr>\n",
       "  </thead>\n",
       "  <tbody>\n",
       "    <tr>\n",
       "      <th rowspan=\"3\" valign=\"top\">1</th>\n",
       "      <th>1</th>\n",
       "      <td>21.5</td>\n",
       "      <td>30.1</td>\n",
       "      <td>0.21</td>\n",
       "      <td>-21.2</td>\n",
       "    </tr>\n",
       "    <tr>\n",
       "      <th>2</th>\n",
       "      <td>21.6</td>\n",
       "      <td>29.0</td>\n",
       "      <td>0.21</td>\n",
       "      <td>-18.3</td>\n",
       "    </tr>\n",
       "    <tr>\n",
       "      <th>3</th>\n",
       "      <td>21.4</td>\n",
       "      <td>30.0</td>\n",
       "      <td>0.21</td>\n",
       "      <td>-18.5</td>\n",
       "    </tr>\n",
       "    <tr>\n",
       "      <th>2</th>\n",
       "      <th>1</th>\n",
       "      <td>45.0</td>\n",
       "      <td>45.0</td>\n",
       "      <td>0.42</td>\n",
       "      <td>-20.4</td>\n",
       "    </tr>\n",
       "    <tr>\n",
       "      <th rowspan=\"2\" valign=\"top\">3</th>\n",
       "      <th>1</th>\n",
       "      <td>25.0</td>\n",
       "      <td>33.1</td>\n",
       "      <td>0.61</td>\n",
       "      <td>-21.2</td>\n",
       "    </tr>\n",
       "    <tr>\n",
       "      <th>2</th>\n",
       "      <td>25.1</td>\n",
       "      <td>33.2</td>\n",
       "      <td>0.61</td>\n",
       "      <td>-20.3</td>\n",
       "    </tr>\n",
       "  </tbody>\n",
       "</table>\n",
       "</div>"
      ],
      "text/plain": [
       "                  ra   dec     z  abs_mag\n",
       "halo_id gal_id                           \n",
       "1       1       21.5  30.1  0.21    -21.2\n",
       "        2       21.6  29.0  0.21    -18.3\n",
       "        3       21.4  30.0  0.21    -18.5\n",
       "2       1       45.0  45.0  0.42    -20.4\n",
       "3       1       25.0  33.1  0.61    -21.2\n",
       "        2       25.1  33.2  0.61    -20.3"
      ]
     },
     "execution_count": 184,
     "metadata": {},
     "output_type": "execute_result"
    }
   ],
   "source": [
    "galaxies = pd.DataFrame(data, columns=['halo_id', 'gal_id', 'ra', 'dec', 'z', 'abs_mag'])\n",
    "galaxies = galaxies.set_index(['halo_id', 'gal_id'])\n",
    "galaxies"
   ]
  },
  {
   "cell_type": "code",
   "execution_count": 185,
   "metadata": {
    "collapsed": false
   },
   "outputs": [
    {
     "data": {
      "text/html": [
       "<div>\n",
       "<table border=\"1\" class=\"dataframe\">\n",
       "  <thead>\n",
       "    <tr style=\"text-align: right;\">\n",
       "      <th></th>\n",
       "      <th>ra</th>\n",
       "      <th>dec</th>\n",
       "      <th>z</th>\n",
       "      <th>abs_mag</th>\n",
       "    </tr>\n",
       "    <tr>\n",
       "      <th>gal_id</th>\n",
       "      <th></th>\n",
       "      <th></th>\n",
       "      <th></th>\n",
       "      <th></th>\n",
       "    </tr>\n",
       "  </thead>\n",
       "  <tbody>\n",
       "    <tr>\n",
       "      <th>1</th>\n",
       "      <td>25.0</td>\n",
       "      <td>33.1</td>\n",
       "      <td>0.61</td>\n",
       "      <td>-21.2</td>\n",
       "    </tr>\n",
       "    <tr>\n",
       "      <th>2</th>\n",
       "      <td>25.1</td>\n",
       "      <td>33.2</td>\n",
       "      <td>0.61</td>\n",
       "      <td>-20.3</td>\n",
       "    </tr>\n",
       "  </tbody>\n",
       "</table>\n",
       "</div>"
      ],
      "text/plain": [
       "          ra   dec     z  abs_mag\n",
       "gal_id                           \n",
       "1       25.0  33.1  0.61    -21.2\n",
       "2       25.1  33.2  0.61    -20.3"
      ]
     },
     "execution_count": 185,
     "metadata": {},
     "output_type": "execute_result"
    }
   ],
   "source": [
    "# Easy example of selecting all galaxies from one halo\n",
    "galaxies.loc[3]"
   ]
  },
  {
   "cell_type": "code",
   "execution_count": 186,
   "metadata": {
    "collapsed": false
   },
   "outputs": [
    {
     "data": {
      "text/html": [
       "<div>\n",
       "<table border=\"1\" class=\"dataframe\">\n",
       "  <thead>\n",
       "    <tr style=\"text-align: right;\">\n",
       "      <th></th>\n",
       "      <th>ra</th>\n",
       "      <th>dec</th>\n",
       "      <th>z</th>\n",
       "      <th>abs_mag</th>\n",
       "    </tr>\n",
       "    <tr>\n",
       "      <th>gal_id</th>\n",
       "      <th></th>\n",
       "      <th></th>\n",
       "      <th></th>\n",
       "      <th></th>\n",
       "    </tr>\n",
       "  </thead>\n",
       "  <tbody>\n",
       "    <tr>\n",
       "      <th>1</th>\n",
       "      <td>21.5</td>\n",
       "      <td>30.1</td>\n",
       "      <td>0.21</td>\n",
       "      <td>-21.2</td>\n",
       "    </tr>\n",
       "    <tr>\n",
       "      <th>2</th>\n",
       "      <td>21.6</td>\n",
       "      <td>29.0</td>\n",
       "      <td>0.21</td>\n",
       "      <td>-18.3</td>\n",
       "    </tr>\n",
       "    <tr>\n",
       "      <th>3</th>\n",
       "      <td>21.4</td>\n",
       "      <td>30.0</td>\n",
       "      <td>0.21</td>\n",
       "      <td>-18.5</td>\n",
       "    </tr>\n",
       "  </tbody>\n",
       "</table>\n",
       "</div>"
      ],
      "text/plain": [
       "          ra   dec     z  abs_mag\n",
       "gal_id                           \n",
       "1       21.5  30.1  0.21    -21.2\n",
       "2       21.6  29.0  0.21    -18.3\n",
       "3       21.4  30.0  0.21    -18.5"
      ]
     },
     "execution_count": 186,
     "metadata": {},
     "output_type": "execute_result"
    }
   ],
   "source": [
    "galaxies.loc[1]"
   ]
  },
  {
   "cell_type": "code",
   "execution_count": 187,
   "metadata": {
    "collapsed": false
   },
   "outputs": [
    {
     "data": {
      "text/plain": [
       "-19.333333333333332"
      ]
     },
     "execution_count": 187,
     "metadata": {},
     "output_type": "execute_result"
    }
   ],
   "source": [
    "galaxies.loc[1]['abs_mag'].mean()"
   ]
  },
  {
   "cell_type": "code",
   "execution_count": 188,
   "metadata": {
    "collapsed": false
   },
   "outputs": [
    {
     "data": {
      "text/html": [
       "<div>\n",
       "<table border=\"1\" class=\"dataframe\">\n",
       "  <thead>\n",
       "    <tr style=\"text-align: right;\">\n",
       "      <th></th>\n",
       "      <th></th>\n",
       "      <th>ra</th>\n",
       "      <th>dec</th>\n",
       "      <th>z</th>\n",
       "      <th>abs_mag</th>\n",
       "    </tr>\n",
       "    <tr>\n",
       "      <th>halo_id</th>\n",
       "      <th>gal_id</th>\n",
       "      <th></th>\n",
       "      <th></th>\n",
       "      <th></th>\n",
       "      <th></th>\n",
       "    </tr>\n",
       "  </thead>\n",
       "  <tbody>\n",
       "    <tr>\n",
       "      <th rowspan=\"3\" valign=\"top\">1</th>\n",
       "      <th>1</th>\n",
       "      <td>21.5</td>\n",
       "      <td>30.1</td>\n",
       "      <td>0.21</td>\n",
       "      <td>-21.2</td>\n",
       "    </tr>\n",
       "    <tr>\n",
       "      <th>2</th>\n",
       "      <td>21.6</td>\n",
       "      <td>29.0</td>\n",
       "      <td>0.21</td>\n",
       "      <td>-18.3</td>\n",
       "    </tr>\n",
       "    <tr>\n",
       "      <th>3</th>\n",
       "      <td>21.4</td>\n",
       "      <td>30.0</td>\n",
       "      <td>0.21</td>\n",
       "      <td>-18.5</td>\n",
       "    </tr>\n",
       "    <tr>\n",
       "      <th>2</th>\n",
       "      <th>1</th>\n",
       "      <td>45.0</td>\n",
       "      <td>45.0</td>\n",
       "      <td>0.42</td>\n",
       "      <td>-20.4</td>\n",
       "    </tr>\n",
       "    <tr>\n",
       "      <th rowspan=\"2\" valign=\"top\">3</th>\n",
       "      <th>1</th>\n",
       "      <td>25.0</td>\n",
       "      <td>33.1</td>\n",
       "      <td>0.61</td>\n",
       "      <td>-21.2</td>\n",
       "    </tr>\n",
       "    <tr>\n",
       "      <th>2</th>\n",
       "      <td>25.1</td>\n",
       "      <td>33.2</td>\n",
       "      <td>0.61</td>\n",
       "      <td>-20.3</td>\n",
       "    </tr>\n",
       "    <tr>\n",
       "      <th rowspan=\"3\" valign=\"top\">1</th>\n",
       "      <th>1</th>\n",
       "      <td>21.5</td>\n",
       "      <td>30.1</td>\n",
       "      <td>0.21</td>\n",
       "      <td>-21.2</td>\n",
       "    </tr>\n",
       "    <tr>\n",
       "      <th>2</th>\n",
       "      <td>21.6</td>\n",
       "      <td>29.0</td>\n",
       "      <td>0.21</td>\n",
       "      <td>-18.3</td>\n",
       "    </tr>\n",
       "    <tr>\n",
       "      <th>3</th>\n",
       "      <td>21.4</td>\n",
       "      <td>30.0</td>\n",
       "      <td>0.21</td>\n",
       "      <td>-18.5</td>\n",
       "    </tr>\n",
       "    <tr>\n",
       "      <th>2</th>\n",
       "      <th>1</th>\n",
       "      <td>45.0</td>\n",
       "      <td>45.0</td>\n",
       "      <td>0.42</td>\n",
       "      <td>-20.4</td>\n",
       "    </tr>\n",
       "    <tr>\n",
       "      <th rowspan=\"2\" valign=\"top\">3</th>\n",
       "      <th>1</th>\n",
       "      <td>25.0</td>\n",
       "      <td>33.1</td>\n",
       "      <td>0.61</td>\n",
       "      <td>-21.2</td>\n",
       "    </tr>\n",
       "    <tr>\n",
       "      <th>2</th>\n",
       "      <td>25.1</td>\n",
       "      <td>33.2</td>\n",
       "      <td>0.61</td>\n",
       "      <td>-20.3</td>\n",
       "    </tr>\n",
       "    <tr>\n",
       "      <th rowspan=\"3\" valign=\"top\">1</th>\n",
       "      <th>1</th>\n",
       "      <td>21.5</td>\n",
       "      <td>30.1</td>\n",
       "      <td>0.21</td>\n",
       "      <td>-21.2</td>\n",
       "    </tr>\n",
       "    <tr>\n",
       "      <th>2</th>\n",
       "      <td>21.6</td>\n",
       "      <td>29.0</td>\n",
       "      <td>0.21</td>\n",
       "      <td>-18.3</td>\n",
       "    </tr>\n",
       "    <tr>\n",
       "      <th>3</th>\n",
       "      <td>21.4</td>\n",
       "      <td>30.0</td>\n",
       "      <td>0.21</td>\n",
       "      <td>-18.5</td>\n",
       "    </tr>\n",
       "  </tbody>\n",
       "</table>\n",
       "</div>"
      ],
      "text/plain": [
       "                  ra   dec     z  abs_mag\n",
       "halo_id gal_id                           \n",
       "1       1       21.5  30.1  0.21    -21.2\n",
       "        2       21.6  29.0  0.21    -18.3\n",
       "        3       21.4  30.0  0.21    -18.5\n",
       "2       1       45.0  45.0  0.42    -20.4\n",
       "3       1       25.0  33.1  0.61    -21.2\n",
       "        2       25.1  33.2  0.61    -20.3\n",
       "1       1       21.5  30.1  0.21    -21.2\n",
       "        2       21.6  29.0  0.21    -18.3\n",
       "        3       21.4  30.0  0.21    -18.5\n",
       "2       1       45.0  45.0  0.42    -20.4\n",
       "3       1       25.0  33.1  0.61    -21.2\n",
       "        2       25.1  33.2  0.61    -20.3\n",
       "1       1       21.5  30.1  0.21    -21.2\n",
       "        2       21.6  29.0  0.21    -18.3\n",
       "        3       21.4  30.0  0.21    -18.5"
      ]
     },
     "execution_count": 188,
     "metadata": {},
     "output_type": "execute_result"
    }
   ],
   "source": [
    "random_galaxies = pd.concat([galaxies]*nrandom)\n",
    "random_galaxies.head(15)"
   ]
  },
  {
   "cell_type": "code",
   "execution_count": 189,
   "metadata": {
    "collapsed": false
   },
   "outputs": [
    {
     "data": {
      "text/html": [
       "<div>\n",
       "<table border=\"1\" class=\"dataframe\">\n",
       "  <thead>\n",
       "    <tr style=\"text-align: right;\">\n",
       "      <th></th>\n",
       "      <th>halo_id</th>\n",
       "      <th>gal_id</th>\n",
       "      <th>ra</th>\n",
       "      <th>dec</th>\n",
       "      <th>z</th>\n",
       "      <th>abs_mag</th>\n",
       "    </tr>\n",
       "  </thead>\n",
       "  <tbody>\n",
       "    <tr>\n",
       "      <th>0</th>\n",
       "      <td>1</td>\n",
       "      <td>1</td>\n",
       "      <td>21.5</td>\n",
       "      <td>30.1</td>\n",
       "      <td>0.21</td>\n",
       "      <td>-21.2</td>\n",
       "    </tr>\n",
       "    <tr>\n",
       "      <th>1</th>\n",
       "      <td>1</td>\n",
       "      <td>2</td>\n",
       "      <td>21.6</td>\n",
       "      <td>29.0</td>\n",
       "      <td>0.21</td>\n",
       "      <td>-18.3</td>\n",
       "    </tr>\n",
       "    <tr>\n",
       "      <th>2</th>\n",
       "      <td>1</td>\n",
       "      <td>3</td>\n",
       "      <td>21.4</td>\n",
       "      <td>30.0</td>\n",
       "      <td>0.21</td>\n",
       "      <td>-18.5</td>\n",
       "    </tr>\n",
       "    <tr>\n",
       "      <th>3</th>\n",
       "      <td>2</td>\n",
       "      <td>1</td>\n",
       "      <td>45.0</td>\n",
       "      <td>45.0</td>\n",
       "      <td>0.42</td>\n",
       "      <td>-20.4</td>\n",
       "    </tr>\n",
       "    <tr>\n",
       "      <th>4</th>\n",
       "      <td>3</td>\n",
       "      <td>1</td>\n",
       "      <td>25.0</td>\n",
       "      <td>33.1</td>\n",
       "      <td>0.61</td>\n",
       "      <td>-21.2</td>\n",
       "    </tr>\n",
       "    <tr>\n",
       "      <th>5</th>\n",
       "      <td>3</td>\n",
       "      <td>2</td>\n",
       "      <td>25.1</td>\n",
       "      <td>33.2</td>\n",
       "      <td>0.61</td>\n",
       "      <td>-20.3</td>\n",
       "    </tr>\n",
       "    <tr>\n",
       "      <th>6</th>\n",
       "      <td>1</td>\n",
       "      <td>1</td>\n",
       "      <td>21.5</td>\n",
       "      <td>30.1</td>\n",
       "      <td>0.21</td>\n",
       "      <td>-21.2</td>\n",
       "    </tr>\n",
       "    <tr>\n",
       "      <th>7</th>\n",
       "      <td>1</td>\n",
       "      <td>2</td>\n",
       "      <td>21.6</td>\n",
       "      <td>29.0</td>\n",
       "      <td>0.21</td>\n",
       "      <td>-18.3</td>\n",
       "    </tr>\n",
       "    <tr>\n",
       "      <th>8</th>\n",
       "      <td>1</td>\n",
       "      <td>3</td>\n",
       "      <td>21.4</td>\n",
       "      <td>30.0</td>\n",
       "      <td>0.21</td>\n",
       "      <td>-18.5</td>\n",
       "    </tr>\n",
       "    <tr>\n",
       "      <th>9</th>\n",
       "      <td>2</td>\n",
       "      <td>1</td>\n",
       "      <td>45.0</td>\n",
       "      <td>45.0</td>\n",
       "      <td>0.42</td>\n",
       "      <td>-20.4</td>\n",
       "    </tr>\n",
       "  </tbody>\n",
       "</table>\n",
       "</div>"
      ],
      "text/plain": [
       "   halo_id  gal_id    ra   dec     z  abs_mag\n",
       "0        1       1  21.5  30.1  0.21    -21.2\n",
       "1        1       2  21.6  29.0  0.21    -18.3\n",
       "2        1       3  21.4  30.0  0.21    -18.5\n",
       "3        2       1  45.0  45.0  0.42    -20.4\n",
       "4        3       1  25.0  33.1  0.61    -21.2\n",
       "5        3       2  25.1  33.2  0.61    -20.3\n",
       "6        1       1  21.5  30.1  0.21    -21.2\n",
       "7        1       2  21.6  29.0  0.21    -18.3\n",
       "8        1       3  21.4  30.0  0.21    -18.5\n",
       "9        2       1  45.0  45.0  0.42    -20.4"
      ]
     },
     "execution_count": 189,
     "metadata": {},
     "output_type": "execute_result"
    }
   ],
   "source": [
    "random_galaxies = random_galaxies.reset_index()\n",
    "random_galaxies.head(10)"
   ]
  },
  {
   "cell_type": "code",
   "execution_count": 190,
   "metadata": {
    "collapsed": false
   },
   "outputs": [
    {
     "data": {
      "text/html": [
       "<div>\n",
       "<table border=\"1\" class=\"dataframe\">\n",
       "  <thead>\n",
       "    <tr style=\"text-align: right;\">\n",
       "      <th></th>\n",
       "      <th>halo_id</th>\n",
       "      <th>gal_id</th>\n",
       "      <th>ra</th>\n",
       "      <th>dec</th>\n",
       "      <th>z</th>\n",
       "      <th>abs_mag</th>\n",
       "    </tr>\n",
       "    <tr>\n",
       "      <th>random_index</th>\n",
       "      <th></th>\n",
       "      <th></th>\n",
       "      <th></th>\n",
       "      <th></th>\n",
       "      <th></th>\n",
       "      <th></th>\n",
       "    </tr>\n",
       "  </thead>\n",
       "  <tbody>\n",
       "    <tr>\n",
       "      <th>0</th>\n",
       "      <td>1</td>\n",
       "      <td>1</td>\n",
       "      <td>21.5</td>\n",
       "      <td>30.1</td>\n",
       "      <td>0.21</td>\n",
       "      <td>-21.2</td>\n",
       "    </tr>\n",
       "    <tr>\n",
       "      <th>1</th>\n",
       "      <td>1</td>\n",
       "      <td>2</td>\n",
       "      <td>21.6</td>\n",
       "      <td>29.0</td>\n",
       "      <td>0.21</td>\n",
       "      <td>-18.3</td>\n",
       "    </tr>\n",
       "    <tr>\n",
       "      <th>2</th>\n",
       "      <td>1</td>\n",
       "      <td>3</td>\n",
       "      <td>21.4</td>\n",
       "      <td>30.0</td>\n",
       "      <td>0.21</td>\n",
       "      <td>-18.5</td>\n",
       "    </tr>\n",
       "    <tr>\n",
       "      <th>3</th>\n",
       "      <td>2</td>\n",
       "      <td>1</td>\n",
       "      <td>45.0</td>\n",
       "      <td>45.0</td>\n",
       "      <td>0.42</td>\n",
       "      <td>-20.4</td>\n",
       "    </tr>\n",
       "    <tr>\n",
       "      <th>4</th>\n",
       "      <td>3</td>\n",
       "      <td>1</td>\n",
       "      <td>25.0</td>\n",
       "      <td>33.1</td>\n",
       "      <td>0.61</td>\n",
       "      <td>-21.2</td>\n",
       "    </tr>\n",
       "    <tr>\n",
       "      <th>5</th>\n",
       "      <td>3</td>\n",
       "      <td>2</td>\n",
       "      <td>25.1</td>\n",
       "      <td>33.2</td>\n",
       "      <td>0.61</td>\n",
       "      <td>-20.3</td>\n",
       "    </tr>\n",
       "    <tr>\n",
       "      <th>6</th>\n",
       "      <td>1</td>\n",
       "      <td>1</td>\n",
       "      <td>21.5</td>\n",
       "      <td>30.1</td>\n",
       "      <td>0.21</td>\n",
       "      <td>-21.2</td>\n",
       "    </tr>\n",
       "    <tr>\n",
       "      <th>7</th>\n",
       "      <td>1</td>\n",
       "      <td>2</td>\n",
       "      <td>21.6</td>\n",
       "      <td>29.0</td>\n",
       "      <td>0.21</td>\n",
       "      <td>-18.3</td>\n",
       "    </tr>\n",
       "    <tr>\n",
       "      <th>8</th>\n",
       "      <td>1</td>\n",
       "      <td>3</td>\n",
       "      <td>21.4</td>\n",
       "      <td>30.0</td>\n",
       "      <td>0.21</td>\n",
       "      <td>-18.5</td>\n",
       "    </tr>\n",
       "    <tr>\n",
       "      <th>9</th>\n",
       "      <td>2</td>\n",
       "      <td>1</td>\n",
       "      <td>45.0</td>\n",
       "      <td>45.0</td>\n",
       "      <td>0.42</td>\n",
       "      <td>-20.4</td>\n",
       "    </tr>\n",
       "  </tbody>\n",
       "</table>\n",
       "</div>"
      ],
      "text/plain": [
       "              halo_id  gal_id    ra   dec     z  abs_mag\n",
       "random_index                                            \n",
       "0                   1       1  21.5  30.1  0.21    -21.2\n",
       "1                   1       2  21.6  29.0  0.21    -18.3\n",
       "2                   1       3  21.4  30.0  0.21    -18.5\n",
       "3                   2       1  45.0  45.0  0.42    -20.4\n",
       "4                   3       1  25.0  33.1  0.61    -21.2\n",
       "5                   3       2  25.1  33.2  0.61    -20.3\n",
       "6                   1       1  21.5  30.1  0.21    -21.2\n",
       "7                   1       2  21.6  29.0  0.21    -18.3\n",
       "8                   1       3  21.4  30.0  0.21    -18.5\n",
       "9                   2       1  45.0  45.0  0.42    -20.4"
      ]
     },
     "execution_count": 190,
     "metadata": {},
     "output_type": "execute_result"
    }
   ],
   "source": [
    "random_galaxies.index.names = ['random_index']\n",
    "random_galaxies.head(10)"
   ]
  },
  {
   "cell_type": "code",
   "execution_count": 191,
   "metadata": {
    "collapsed": false
   },
   "outputs": [],
   "source": [
    "import math\n",
    "random_galaxies['ra'] = 90.*np.random.random(len(random_galaxies))\n",
    "random_galaxies['dec'] = (180./math.pi)*np.arccos(np.random.random(len(random_galaxies))-1)-90"
   ]
  },
  {
   "cell_type": "code",
   "execution_count": 192,
   "metadata": {
    "collapsed": false
   },
   "outputs": [
    {
     "data": {
      "text/html": [
       "<div>\n",
       "<table border=\"1\" class=\"dataframe\">\n",
       "  <thead>\n",
       "    <tr style=\"text-align: right;\">\n",
       "      <th></th>\n",
       "      <th>halo_id</th>\n",
       "      <th>gal_id</th>\n",
       "      <th>ra</th>\n",
       "      <th>dec</th>\n",
       "      <th>z</th>\n",
       "      <th>abs_mag</th>\n",
       "    </tr>\n",
       "    <tr>\n",
       "      <th>random_index</th>\n",
       "      <th></th>\n",
       "      <th></th>\n",
       "      <th></th>\n",
       "      <th></th>\n",
       "      <th></th>\n",
       "      <th></th>\n",
       "    </tr>\n",
       "  </thead>\n",
       "  <tbody>\n",
       "    <tr>\n",
       "      <th>0</th>\n",
       "      <td>1</td>\n",
       "      <td>1</td>\n",
       "      <td>55.608383</td>\n",
       "      <td>22.468572</td>\n",
       "      <td>0.21</td>\n",
       "      <td>-21.2</td>\n",
       "    </tr>\n",
       "    <tr>\n",
       "      <th>1</th>\n",
       "      <td>1</td>\n",
       "      <td>2</td>\n",
       "      <td>60.728969</td>\n",
       "      <td>53.067785</td>\n",
       "      <td>0.21</td>\n",
       "      <td>-18.3</td>\n",
       "    </tr>\n",
       "    <tr>\n",
       "      <th>2</th>\n",
       "      <td>1</td>\n",
       "      <td>3</td>\n",
       "      <td>71.130816</td>\n",
       "      <td>21.754623</td>\n",
       "      <td>0.21</td>\n",
       "      <td>-18.5</td>\n",
       "    </tr>\n",
       "    <tr>\n",
       "      <th>3</th>\n",
       "      <td>2</td>\n",
       "      <td>1</td>\n",
       "      <td>13.801353</td>\n",
       "      <td>31.508948</td>\n",
       "      <td>0.42</td>\n",
       "      <td>-20.4</td>\n",
       "    </tr>\n",
       "    <tr>\n",
       "      <th>4</th>\n",
       "      <td>3</td>\n",
       "      <td>1</td>\n",
       "      <td>78.979044</td>\n",
       "      <td>52.767765</td>\n",
       "      <td>0.61</td>\n",
       "      <td>-21.2</td>\n",
       "    </tr>\n",
       "    <tr>\n",
       "      <th>5</th>\n",
       "      <td>3</td>\n",
       "      <td>2</td>\n",
       "      <td>30.806589</td>\n",
       "      <td>80.590357</td>\n",
       "      <td>0.61</td>\n",
       "      <td>-20.3</td>\n",
       "    </tr>\n",
       "    <tr>\n",
       "      <th>6</th>\n",
       "      <td>1</td>\n",
       "      <td>1</td>\n",
       "      <td>60.271709</td>\n",
       "      <td>64.294312</td>\n",
       "      <td>0.21</td>\n",
       "      <td>-21.2</td>\n",
       "    </tr>\n",
       "    <tr>\n",
       "      <th>7</th>\n",
       "      <td>1</td>\n",
       "      <td>2</td>\n",
       "      <td>37.018288</td>\n",
       "      <td>51.384333</td>\n",
       "      <td>0.21</td>\n",
       "      <td>-18.3</td>\n",
       "    </tr>\n",
       "    <tr>\n",
       "      <th>8</th>\n",
       "      <td>1</td>\n",
       "      <td>3</td>\n",
       "      <td>72.493251</td>\n",
       "      <td>54.833739</td>\n",
       "      <td>0.21</td>\n",
       "      <td>-18.5</td>\n",
       "    </tr>\n",
       "    <tr>\n",
       "      <th>9</th>\n",
       "      <td>2</td>\n",
       "      <td>1</td>\n",
       "      <td>7.270867</td>\n",
       "      <td>65.860622</td>\n",
       "      <td>0.42</td>\n",
       "      <td>-20.4</td>\n",
       "    </tr>\n",
       "  </tbody>\n",
       "</table>\n",
       "</div>"
      ],
      "text/plain": [
       "              halo_id  gal_id         ra        dec     z  abs_mag\n",
       "random_index                                                      \n",
       "0                   1       1  55.608383  22.468572  0.21    -21.2\n",
       "1                   1       2  60.728969  53.067785  0.21    -18.3\n",
       "2                   1       3  71.130816  21.754623  0.21    -18.5\n",
       "3                   2       1  13.801353  31.508948  0.42    -20.4\n",
       "4                   3       1  78.979044  52.767765  0.61    -21.2\n",
       "5                   3       2  30.806589  80.590357  0.61    -20.3\n",
       "6                   1       1  60.271709  64.294312  0.21    -21.2\n",
       "7                   1       2  37.018288  51.384333  0.21    -18.3\n",
       "8                   1       3  72.493251  54.833739  0.21    -18.5\n",
       "9                   2       1   7.270867  65.860622  0.42    -20.4"
      ]
     },
     "execution_count": 192,
     "metadata": {},
     "output_type": "execute_result"
    }
   ],
   "source": [
    "random_galaxies.head(10)"
   ]
  },
  {
   "cell_type": "markdown",
   "metadata": {},
   "source": [
    "#### Merge method: Database-style DataFrame joining/merging:\n",
    "\n",
    "- pandas has full-featured, high performance in-memory join operations idiomatically very similar to relational databases like SQL. These methods perform significantly better (in some cases well over an order of magnitude better) than other open source implementations (like base::merge.data.frame in R). The reason for this is careful algorithmic design and internal layout of the data in DataFrame\n",
    "\n",
    "- See the [cookbook](https://pandas.pydata.org/pandas-docs/stable/cookbook.html) for some advanced strategies\n",
    "\n",
    "- Users who are familiar with SQL but new to pandas might be interested in a [comparison with SQL](https://pandas.pydata.org/pandas-docs/stable/comparison_with_sql.html#compare-with-sql-join)\n",
    "\n",
    "```\n",
    "pd.merge(left, right, how='inner', on=None, left_on=None, right_on=None,\n",
    "         left_index=False, right_index=False, sort=True,\n",
    "         suffixes=('_x', '_y'), copy=True, indicator=False)\n",
    "```"
   ]
  },
  {
   "cell_type": "markdown",
   "metadata": {},
   "source": [
    "#### Example: PAU example\n",
    "\n",
    "- Goal: build a dataframe merging 2 different dataframes with complementary information, through the relation given by a third dataframe.\n",
    "\n",
    "    - df_stars contains information of stars magnitudes per sdss_star_id and per *filter*:\n",
    "        - ['sdss_star_id', 'filter', 'expected_mag', 'expected_mag_err']\n",
    "        - Note, the file is \"somehow\" corrupted and entries are duplicate several times\n",
    "        - Unique entries are characterized by *sdss_star_id* and *filter*\n",
    "    - df_spectra contains information of star *flux* per *band* (== *filter*) and per *spec_id* (!= *sdss_star_id*):\n",
    "        - ['spec_id', 'band', 'flux', 'flux_err']\n",
    "        - Unique entries are characterized by *spec_id* and *band*\n",
    "    - df_spec_IDs allows to make the correspondence between *sdss_star_id* (== *objID*) and *spec_id* (== *specObjID*):\n",
    "        - ['objID', 'specObjID']\n",
    "        - Unique entries are characterized by *objID*"
   ]
  },
  {
   "cell_type": "code",
   "execution_count": 193,
   "metadata": {
    "collapsed": true
   },
   "outputs": [],
   "source": [
    "star_filename = '/nfs/astro/jcarrete/sandbox/curso_python/df_star.ssv'\n",
    "spectra_filename = '/nfs/astro/jcarrete/sandbox/curso_python/df_spectra.ssv'\n",
    "starid_specid_filename = '/nfs/astro/jcarrete/sandbox/curso_python/df_starid_specid.ssv'"
   ]
  },
  {
   "cell_type": "code",
   "execution_count": 194,
   "metadata": {
    "collapsed": false
   },
   "outputs": [],
   "source": [
    "# Given that the file is somehow corrupted we open it without defining any index\n",
    "df_star = pd.read_csv(star_filename, sep=' ')"
   ]
  },
  {
   "cell_type": "code",
   "execution_count": 195,
   "metadata": {
    "collapsed": false
   },
   "outputs": [
    {
     "data": {
      "text/html": [
       "<div>\n",
       "<table border=\"1\" class=\"dataframe\">\n",
       "  <thead>\n",
       "    <tr style=\"text-align: right;\">\n",
       "      <th></th>\n",
       "      <th>sdss_star_id</th>\n",
       "      <th>filter</th>\n",
       "      <th>expected_mag</th>\n",
       "      <th>expected_mag_err</th>\n",
       "    </tr>\n",
       "  </thead>\n",
       "  <tbody>\n",
       "    <tr>\n",
       "      <th>0</th>\n",
       "      <td>1237653665258930303</td>\n",
       "      <td>NB455</td>\n",
       "      <td>14.1185</td>\n",
       "      <td>0.002498</td>\n",
       "    </tr>\n",
       "    <tr>\n",
       "      <th>1</th>\n",
       "      <td>1237651754534174862</td>\n",
       "      <td>NB455</td>\n",
       "      <td>16.0077</td>\n",
       "      <td>0.009613</td>\n",
       "    </tr>\n",
       "    <tr>\n",
       "      <th>2</th>\n",
       "      <td>1237651754534174868</td>\n",
       "      <td>NB455</td>\n",
       "      <td>16.4402</td>\n",
       "      <td>0.018096</td>\n",
       "    </tr>\n",
       "    <tr>\n",
       "      <th>3</th>\n",
       "      <td>1237653665258995739</td>\n",
       "      <td>NB455</td>\n",
       "      <td>18.0902</td>\n",
       "      <td>0.026920</td>\n",
       "    </tr>\n",
       "    <tr>\n",
       "      <th>4</th>\n",
       "      <td>1237653665258995741</td>\n",
       "      <td>NB455</td>\n",
       "      <td>18.1403</td>\n",
       "      <td>0.033415</td>\n",
       "    </tr>\n",
       "  </tbody>\n",
       "</table>\n",
       "</div>"
      ],
      "text/plain": [
       "          sdss_star_id filter  expected_mag  expected_mag_err\n",
       "0  1237653665258930303  NB455       14.1185          0.002498\n",
       "1  1237651754534174862  NB455       16.0077          0.009613\n",
       "2  1237651754534174868  NB455       16.4402          0.018096\n",
       "3  1237653665258995739  NB455       18.0902          0.026920\n",
       "4  1237653665258995741  NB455       18.1403          0.033415"
      ]
     },
     "execution_count": 195,
     "metadata": {},
     "output_type": "execute_result"
    }
   ],
   "source": [
    "df_star.head()"
   ]
  },
  {
   "cell_type": "code",
   "execution_count": 196,
   "metadata": {
    "collapsed": false
   },
   "outputs": [
    {
     "data": {
      "text/html": [
       "<div>\n",
       "<table border=\"1\" class=\"dataframe\">\n",
       "  <thead>\n",
       "    <tr style=\"text-align: right;\">\n",
       "      <th></th>\n",
       "      <th>sdss_star_id</th>\n",
       "      <th>filter</th>\n",
       "      <th>expected_mag</th>\n",
       "      <th>expected_mag_err</th>\n",
       "    </tr>\n",
       "  </thead>\n",
       "  <tbody>\n",
       "    <tr>\n",
       "      <th>0</th>\n",
       "      <td>1237653665258930303</td>\n",
       "      <td>NB455</td>\n",
       "      <td>14.1185</td>\n",
       "      <td>0.002498</td>\n",
       "    </tr>\n",
       "    <tr>\n",
       "      <th>14135</th>\n",
       "      <td>1237653665258930303</td>\n",
       "      <td>NB455</td>\n",
       "      <td>14.1185</td>\n",
       "      <td>0.002498</td>\n",
       "    </tr>\n",
       "    <tr>\n",
       "      <th>41578</th>\n",
       "      <td>1237653665258930303</td>\n",
       "      <td>NB455</td>\n",
       "      <td>14.1185</td>\n",
       "      <td>0.002498</td>\n",
       "    </tr>\n",
       "    <tr>\n",
       "      <th>69366</th>\n",
       "      <td>1237653665258930303</td>\n",
       "      <td>NB455</td>\n",
       "      <td>14.1185</td>\n",
       "      <td>0.002498</td>\n",
       "    </tr>\n",
       "    <tr>\n",
       "      <th>76098</th>\n",
       "      <td>1237653665258930303</td>\n",
       "      <td>NB455</td>\n",
       "      <td>14.1185</td>\n",
       "      <td>0.002498</td>\n",
       "    </tr>\n",
       "    <tr>\n",
       "      <th>92857</th>\n",
       "      <td>1237653665258930303</td>\n",
       "      <td>NB455</td>\n",
       "      <td>14.1185</td>\n",
       "      <td>0.002498</td>\n",
       "    </tr>\n",
       "    <tr>\n",
       "      <th>94740</th>\n",
       "      <td>1237653665258930303</td>\n",
       "      <td>NB455</td>\n",
       "      <td>14.1185</td>\n",
       "      <td>0.002498</td>\n",
       "    </tr>\n",
       "    <tr>\n",
       "      <th>102129</th>\n",
       "      <td>1237653665258930303</td>\n",
       "      <td>NB455</td>\n",
       "      <td>14.1185</td>\n",
       "      <td>0.002498</td>\n",
       "    </tr>\n",
       "  </tbody>\n",
       "</table>\n",
       "</div>"
      ],
      "text/plain": [
       "               sdss_star_id filter  expected_mag  expected_mag_err\n",
       "0       1237653665258930303  NB455       14.1185          0.002498\n",
       "14135   1237653665258930303  NB455       14.1185          0.002498\n",
       "41578   1237653665258930303  NB455       14.1185          0.002498\n",
       "69366   1237653665258930303  NB455       14.1185          0.002498\n",
       "76098   1237653665258930303  NB455       14.1185          0.002498\n",
       "92857   1237653665258930303  NB455       14.1185          0.002498\n",
       "94740   1237653665258930303  NB455       14.1185          0.002498\n",
       "102129  1237653665258930303  NB455       14.1185          0.002498"
      ]
     },
     "execution_count": 196,
     "metadata": {},
     "output_type": "execute_result"
    }
   ],
   "source": [
    "# We know there are duplicates, e.g:\n",
    "df_star[(df_star['sdss_star_id'] == 1237653665258930303) & (df_star['filter'] == 'NB455')]"
   ]
  },
  {
   "cell_type": "code",
   "execution_count": 197,
   "metadata": {
    "collapsed": false
   },
   "outputs": [],
   "source": [
    "# Drop duplicates:\n",
    "df_star.drop_duplicates(subset = ['sdss_star_id', 'filter'], inplace= True)"
   ]
  },
  {
   "cell_type": "code",
   "execution_count": 198,
   "metadata": {
    "collapsed": false
   },
   "outputs": [
    {
     "data": {
      "text/html": [
       "<div>\n",
       "<table border=\"1\" class=\"dataframe\">\n",
       "  <thead>\n",
       "    <tr style=\"text-align: right;\">\n",
       "      <th></th>\n",
       "      <th>sdss_star_id</th>\n",
       "      <th>filter</th>\n",
       "      <th>expected_mag</th>\n",
       "      <th>expected_mag_err</th>\n",
       "    </tr>\n",
       "  </thead>\n",
       "  <tbody>\n",
       "    <tr>\n",
       "      <th>0</th>\n",
       "      <td>1237653665258930303</td>\n",
       "      <td>NB455</td>\n",
       "      <td>14.1185</td>\n",
       "      <td>0.002498</td>\n",
       "    </tr>\n",
       "  </tbody>\n",
       "</table>\n",
       "</div>"
      ],
      "text/plain": [
       "          sdss_star_id filter  expected_mag  expected_mag_err\n",
       "0  1237653665258930303  NB455       14.1185          0.002498"
      ]
     },
     "execution_count": 198,
     "metadata": {},
     "output_type": "execute_result"
    }
   ],
   "source": [
    "df_star[(df_star['sdss_star_id'] == 1237653665258930303) & (df_star['filter'] == 'NB455')]"
   ]
  },
  {
   "cell_type": "code",
   "execution_count": 199,
   "metadata": {
    "collapsed": true
   },
   "outputs": [],
   "source": [
    "df_spectra = pd.read_csv(spectra_filename, index_col=['spec_id', 'band'], sep = ' ')"
   ]
  },
  {
   "cell_type": "code",
   "execution_count": 200,
   "metadata": {
    "collapsed": false
   },
   "outputs": [],
   "source": [
    "df_starid_specid = pd.read_csv(starid_specid_filename, sep=' ')"
   ]
  },
  {
   "cell_type": "markdown",
   "metadata": {},
   "source": [
    "#### NOTE: When sep = ' ' means ONE space, not \"several\" spaces!\n",
    "\n",
    "- See bad example in 'Caveats and technicalities' section below"
   ]
  },
  {
   "cell_type": "code",
   "execution_count": 201,
   "metadata": {
    "collapsed": false
   },
   "outputs": [
    {
     "data": {
      "text/html": [
       "<div>\n",
       "<table border=\"1\" class=\"dataframe\">\n",
       "  <thead>\n",
       "    <tr style=\"text-align: right;\">\n",
       "      <th></th>\n",
       "      <th>sdss_star_id</th>\n",
       "      <th>filter</th>\n",
       "      <th>expected_mag</th>\n",
       "      <th>expected_mag_err</th>\n",
       "    </tr>\n",
       "  </thead>\n",
       "  <tbody>\n",
       "    <tr>\n",
       "      <th>0</th>\n",
       "      <td>1237653665258930303</td>\n",
       "      <td>NB455</td>\n",
       "      <td>14.1185</td>\n",
       "      <td>0.002498</td>\n",
       "    </tr>\n",
       "    <tr>\n",
       "      <th>1</th>\n",
       "      <td>1237651754534174862</td>\n",
       "      <td>NB455</td>\n",
       "      <td>16.0077</td>\n",
       "      <td>0.009613</td>\n",
       "    </tr>\n",
       "    <tr>\n",
       "      <th>2</th>\n",
       "      <td>1237651754534174868</td>\n",
       "      <td>NB455</td>\n",
       "      <td>16.4402</td>\n",
       "      <td>0.018096</td>\n",
       "    </tr>\n",
       "    <tr>\n",
       "      <th>3</th>\n",
       "      <td>1237653665258995739</td>\n",
       "      <td>NB455</td>\n",
       "      <td>18.0902</td>\n",
       "      <td>0.026920</td>\n",
       "    </tr>\n",
       "    <tr>\n",
       "      <th>4</th>\n",
       "      <td>1237653665258995741</td>\n",
       "      <td>NB455</td>\n",
       "      <td>18.1403</td>\n",
       "      <td>0.033415</td>\n",
       "    </tr>\n",
       "    <tr>\n",
       "      <th>5</th>\n",
       "      <td>1237653665258995735</td>\n",
       "      <td>NB455</td>\n",
       "      <td>16.5273</td>\n",
       "      <td>0.019411</td>\n",
       "    </tr>\n",
       "    <tr>\n",
       "      <th>6</th>\n",
       "      <td>1237651754534174879</td>\n",
       "      <td>NB455</td>\n",
       "      <td>16.2990</td>\n",
       "      <td>0.021418</td>\n",
       "    </tr>\n",
       "    <tr>\n",
       "      <th>7</th>\n",
       "      <td>1237651754534175046</td>\n",
       "      <td>NB455</td>\n",
       "      <td>18.5312</td>\n",
       "      <td>0.018517</td>\n",
       "    </tr>\n",
       "    <tr>\n",
       "      <th>8</th>\n",
       "      <td>1237653665258995740</td>\n",
       "      <td>NB455</td>\n",
       "      <td>18.1420</td>\n",
       "      <td>0.013531</td>\n",
       "    </tr>\n",
       "    <tr>\n",
       "      <th>9</th>\n",
       "      <td>1237653665258995737</td>\n",
       "      <td>NB455</td>\n",
       "      <td>18.7606</td>\n",
       "      <td>0.018422</td>\n",
       "    </tr>\n",
       "  </tbody>\n",
       "</table>\n",
       "</div>"
      ],
      "text/plain": [
       "          sdss_star_id filter  expected_mag  expected_mag_err\n",
       "0  1237653665258930303  NB455       14.1185          0.002498\n",
       "1  1237651754534174862  NB455       16.0077          0.009613\n",
       "2  1237651754534174868  NB455       16.4402          0.018096\n",
       "3  1237653665258995739  NB455       18.0902          0.026920\n",
       "4  1237653665258995741  NB455       18.1403          0.033415\n",
       "5  1237653665258995735  NB455       16.5273          0.019411\n",
       "6  1237651754534174879  NB455       16.2990          0.021418\n",
       "7  1237651754534175046  NB455       18.5312          0.018517\n",
       "8  1237653665258995740  NB455       18.1420          0.013531\n",
       "9  1237653665258995737  NB455       18.7606          0.018422"
      ]
     },
     "execution_count": 201,
     "metadata": {},
     "output_type": "execute_result"
    }
   ],
   "source": [
    "df_star.head(10)"
   ]
  },
  {
   "cell_type": "code",
   "execution_count": 202,
   "metadata": {
    "collapsed": false
   },
   "outputs": [
    {
     "data": {
      "text/html": [
       "<div>\n",
       "<table border=\"1\" class=\"dataframe\">\n",
       "  <thead>\n",
       "    <tr style=\"text-align: right;\">\n",
       "      <th></th>\n",
       "      <th></th>\n",
       "      <th>flux</th>\n",
       "      <th>flux_err</th>\n",
       "    </tr>\n",
       "    <tr>\n",
       "      <th>spec_id</th>\n",
       "      <th>band</th>\n",
       "      <th></th>\n",
       "      <th></th>\n",
       "    </tr>\n",
       "  </thead>\n",
       "  <tbody>\n",
       "    <tr>\n",
       "      <th rowspan=\"40\" valign=\"top\">564125093970601984</th>\n",
       "      <th>NB575</th>\n",
       "      <td>118.439</td>\n",
       "      <td>5.82869</td>\n",
       "    </tr>\n",
       "    <tr>\n",
       "      <th>NB455</th>\n",
       "      <td>139.590</td>\n",
       "      <td>4.68904</td>\n",
       "    </tr>\n",
       "    <tr>\n",
       "      <th>NB555</th>\n",
       "      <td>131.690</td>\n",
       "      <td>5.15743</td>\n",
       "    </tr>\n",
       "    <tr>\n",
       "      <th>NB475</th>\n",
       "      <td>117.701</td>\n",
       "      <td>4.35988</td>\n",
       "    </tr>\n",
       "    <tr>\n",
       "      <th>NB795</th>\n",
       "      <td>153.804</td>\n",
       "      <td>10.49200</td>\n",
       "    </tr>\n",
       "    <tr>\n",
       "      <th>NB535</th>\n",
       "      <td>115.215</td>\n",
       "      <td>4.52892</td>\n",
       "    </tr>\n",
       "    <tr>\n",
       "      <th>NB725</th>\n",
       "      <td>166.609</td>\n",
       "      <td>6.41391</td>\n",
       "    </tr>\n",
       "    <tr>\n",
       "      <th>NB765</th>\n",
       "      <td>148.803</td>\n",
       "      <td>8.70154</td>\n",
       "    </tr>\n",
       "    <tr>\n",
       "      <th>NB815</th>\n",
       "      <td>159.590</td>\n",
       "      <td>9.24626</td>\n",
       "    </tr>\n",
       "    <tr>\n",
       "      <th>NB485</th>\n",
       "      <td>112.973</td>\n",
       "      <td>4.42662</td>\n",
       "    </tr>\n",
       "    <tr>\n",
       "      <th>NB685</th>\n",
       "      <td>193.392</td>\n",
       "      <td>5.02416</td>\n",
       "    </tr>\n",
       "    <tr>\n",
       "      <th>NB705</th>\n",
       "      <td>154.606</td>\n",
       "      <td>5.02007</td>\n",
       "    </tr>\n",
       "    <tr>\n",
       "      <th>NB835</th>\n",
       "      <td>193.390</td>\n",
       "      <td>13.89030</td>\n",
       "    </tr>\n",
       "    <tr>\n",
       "      <th>NB645</th>\n",
       "      <td>133.584</td>\n",
       "      <td>4.41329</td>\n",
       "    </tr>\n",
       "    <tr>\n",
       "      <th>NB585</th>\n",
       "      <td>123.810</td>\n",
       "      <td>6.51806</td>\n",
       "    </tr>\n",
       "    <tr>\n",
       "      <th>NB505</th>\n",
       "      <td>124.124</td>\n",
       "      <td>4.26728</td>\n",
       "    </tr>\n",
       "    <tr>\n",
       "      <th>NB695</th>\n",
       "      <td>159.519</td>\n",
       "      <td>5.38121</td>\n",
       "    </tr>\n",
       "    <tr>\n",
       "      <th>NB625</th>\n",
       "      <td>142.537</td>\n",
       "      <td>5.04128</td>\n",
       "    </tr>\n",
       "    <tr>\n",
       "      <th>NB745</th>\n",
       "      <td>140.507</td>\n",
       "      <td>6.48958</td>\n",
       "    </tr>\n",
       "    <tr>\n",
       "      <th>NB605</th>\n",
       "      <td>130.867</td>\n",
       "      <td>5.19826</td>\n",
       "    </tr>\n",
       "    <tr>\n",
       "      <th>NB565</th>\n",
       "      <td>130.628</td>\n",
       "      <td>5.44442</td>\n",
       "    </tr>\n",
       "    <tr>\n",
       "      <th>NB465</th>\n",
       "      <td>146.835</td>\n",
       "      <td>4.58899</td>\n",
       "    </tr>\n",
       "    <tr>\n",
       "      <th>NB545</th>\n",
       "      <td>111.936</td>\n",
       "      <td>4.69258</td>\n",
       "    </tr>\n",
       "    <tr>\n",
       "      <th>NB525</th>\n",
       "      <td>110.591</td>\n",
       "      <td>4.36454</td>\n",
       "    </tr>\n",
       "    <tr>\n",
       "      <th>NB665</th>\n",
       "      <td>151.969</td>\n",
       "      <td>4.31910</td>\n",
       "    </tr>\n",
       "    <tr>\n",
       "      <th>NB785</th>\n",
       "      <td>166.931</td>\n",
       "      <td>10.25410</td>\n",
       "    </tr>\n",
       "    <tr>\n",
       "      <th>NB805</th>\n",
       "      <td>153.564</td>\n",
       "      <td>9.49142</td>\n",
       "    </tr>\n",
       "    <tr>\n",
       "      <th>NB615</th>\n",
       "      <td>137.293</td>\n",
       "      <td>4.74815</td>\n",
       "    </tr>\n",
       "    <tr>\n",
       "      <th>NB635</th>\n",
       "      <td>133.074</td>\n",
       "      <td>4.73063</td>\n",
       "    </tr>\n",
       "    <tr>\n",
       "      <th>NB715</th>\n",
       "      <td>166.483</td>\n",
       "      <td>5.05375</td>\n",
       "    </tr>\n",
       "    <tr>\n",
       "      <th>NB825</th>\n",
       "      <td>160.063</td>\n",
       "      <td>10.96990</td>\n",
       "    </tr>\n",
       "    <tr>\n",
       "      <th>NB495</th>\n",
       "      <td>112.334</td>\n",
       "      <td>4.30512</td>\n",
       "    </tr>\n",
       "    <tr>\n",
       "      <th>NB595</th>\n",
       "      <td>122.645</td>\n",
       "      <td>5.97710</td>\n",
       "    </tr>\n",
       "    <tr>\n",
       "      <th>NB675</th>\n",
       "      <td>200.884</td>\n",
       "      <td>4.21519</td>\n",
       "    </tr>\n",
       "    <tr>\n",
       "      <th>NB845</th>\n",
       "      <td>191.830</td>\n",
       "      <td>14.44110</td>\n",
       "    </tr>\n",
       "    <tr>\n",
       "      <th>NB655</th>\n",
       "      <td>140.002</td>\n",
       "      <td>4.60485</td>\n",
       "    </tr>\n",
       "    <tr>\n",
       "      <th>NB515</th>\n",
       "      <td>110.836</td>\n",
       "      <td>4.26808</td>\n",
       "    </tr>\n",
       "    <tr>\n",
       "      <th>NB755</th>\n",
       "      <td>140.380</td>\n",
       "      <td>7.14257</td>\n",
       "    </tr>\n",
       "    <tr>\n",
       "      <th>NB735</th>\n",
       "      <td>156.592</td>\n",
       "      <td>7.43371</td>\n",
       "    </tr>\n",
       "    <tr>\n",
       "      <th>NB775</th>\n",
       "      <td>164.835</td>\n",
       "      <td>8.71259</td>\n",
       "    </tr>\n",
       "    <tr>\n",
       "      <th>564125643726415872</th>\n",
       "      <th>NB575</th>\n",
       "      <td>376.499</td>\n",
       "      <td>6.55297</td>\n",
       "    </tr>\n",
       "  </tbody>\n",
       "</table>\n",
       "</div>"
      ],
      "text/plain": [
       "                             flux  flux_err\n",
       "spec_id            band                    \n",
       "564125093970601984 NB575  118.439   5.82869\n",
       "                   NB455  139.590   4.68904\n",
       "                   NB555  131.690   5.15743\n",
       "                   NB475  117.701   4.35988\n",
       "                   NB795  153.804  10.49200\n",
       "                   NB535  115.215   4.52892\n",
       "                   NB725  166.609   6.41391\n",
       "                   NB765  148.803   8.70154\n",
       "                   NB815  159.590   9.24626\n",
       "                   NB485  112.973   4.42662\n",
       "                   NB685  193.392   5.02416\n",
       "                   NB705  154.606   5.02007\n",
       "                   NB835  193.390  13.89030\n",
       "                   NB645  133.584   4.41329\n",
       "                   NB585  123.810   6.51806\n",
       "                   NB505  124.124   4.26728\n",
       "                   NB695  159.519   5.38121\n",
       "                   NB625  142.537   5.04128\n",
       "                   NB745  140.507   6.48958\n",
       "                   NB605  130.867   5.19826\n",
       "                   NB565  130.628   5.44442\n",
       "                   NB465  146.835   4.58899\n",
       "                   NB545  111.936   4.69258\n",
       "                   NB525  110.591   4.36454\n",
       "                   NB665  151.969   4.31910\n",
       "                   NB785  166.931  10.25410\n",
       "                   NB805  153.564   9.49142\n",
       "                   NB615  137.293   4.74815\n",
       "                   NB635  133.074   4.73063\n",
       "                   NB715  166.483   5.05375\n",
       "                   NB825  160.063  10.96990\n",
       "                   NB495  112.334   4.30512\n",
       "                   NB595  122.645   5.97710\n",
       "                   NB675  200.884   4.21519\n",
       "                   NB845  191.830  14.44110\n",
       "                   NB655  140.002   4.60485\n",
       "                   NB515  110.836   4.26808\n",
       "                   NB755  140.380   7.14257\n",
       "                   NB735  156.592   7.43371\n",
       "                   NB775  164.835   8.71259\n",
       "564125643726415872 NB575  376.499   6.55297"
      ]
     },
     "execution_count": 202,
     "metadata": {},
     "output_type": "execute_result"
    }
   ],
   "source": [
    "df_spectra.head(41)"
   ]
  },
  {
   "cell_type": "code",
   "execution_count": 203,
   "metadata": {
    "collapsed": false
   },
   "outputs": [
    {
     "data": {
      "text/html": [
       "<div>\n",
       "<table border=\"1\" class=\"dataframe\">\n",
       "  <thead>\n",
       "    <tr style=\"text-align: right;\">\n",
       "      <th></th>\n",
       "      <th>objID</th>\n",
       "      <th>specObjID</th>\n",
       "    </tr>\n",
       "  </thead>\n",
       "  <tbody>\n",
       "    <tr>\n",
       "      <th>0</th>\n",
       "      <td>1237653664722386988</td>\n",
       "      <td>564125918604322816</td>\n",
       "    </tr>\n",
       "    <tr>\n",
       "      <th>1</th>\n",
       "      <td>1237648722828460042</td>\n",
       "      <td>564133065429903360</td>\n",
       "    </tr>\n",
       "    <tr>\n",
       "      <th>2</th>\n",
       "      <td>1237651752923758623</td>\n",
       "      <td>564134714697345024</td>\n",
       "    </tr>\n",
       "    <tr>\n",
       "      <th>3</th>\n",
       "      <td>1237651752923758661</td>\n",
       "      <td>564134989575251968</td>\n",
       "    </tr>\n",
       "    <tr>\n",
       "      <th>4</th>\n",
       "      <td>1237653664722190405</td>\n",
       "      <td>564137188598507520</td>\n",
       "    </tr>\n",
       "  </tbody>\n",
       "</table>\n",
       "</div>"
      ],
      "text/plain": [
       "                 objID           specObjID\n",
       "0  1237653664722386988  564125918604322816\n",
       "1  1237648722828460042  564133065429903360\n",
       "2  1237651752923758623  564134714697345024\n",
       "3  1237651752923758661  564134989575251968\n",
       "4  1237653664722190405  564137188598507520"
      ]
     },
     "execution_count": 203,
     "metadata": {},
     "output_type": "execute_result"
    }
   ],
   "source": [
    "df_starid_specid.head(5)"
   ]
  },
  {
   "cell_type": "code",
   "execution_count": 204,
   "metadata": {
    "collapsed": true
   },
   "outputs": [],
   "source": [
    "# We are going to unset the index and rename the columsn in order to use the \"on\" argument:"
   ]
  },
  {
   "cell_type": "code",
   "execution_count": 205,
   "metadata": {
    "collapsed": false
   },
   "outputs": [
    {
     "data": {
      "text/html": [
       "<div>\n",
       "<table border=\"1\" class=\"dataframe\">\n",
       "  <thead>\n",
       "    <tr style=\"text-align: right;\">\n",
       "      <th></th>\n",
       "      <th>spec_id</th>\n",
       "      <th>band</th>\n",
       "      <th>flux</th>\n",
       "      <th>flux_err</th>\n",
       "    </tr>\n",
       "  </thead>\n",
       "  <tbody>\n",
       "    <tr>\n",
       "      <th>0</th>\n",
       "      <td>564125093970601984</td>\n",
       "      <td>NB575</td>\n",
       "      <td>118.439</td>\n",
       "      <td>5.82869</td>\n",
       "    </tr>\n",
       "    <tr>\n",
       "      <th>1</th>\n",
       "      <td>564125093970601984</td>\n",
       "      <td>NB455</td>\n",
       "      <td>139.590</td>\n",
       "      <td>4.68904</td>\n",
       "    </tr>\n",
       "    <tr>\n",
       "      <th>2</th>\n",
       "      <td>564125093970601984</td>\n",
       "      <td>NB555</td>\n",
       "      <td>131.690</td>\n",
       "      <td>5.15743</td>\n",
       "    </tr>\n",
       "    <tr>\n",
       "      <th>3</th>\n",
       "      <td>564125093970601984</td>\n",
       "      <td>NB475</td>\n",
       "      <td>117.701</td>\n",
       "      <td>4.35988</td>\n",
       "    </tr>\n",
       "    <tr>\n",
       "      <th>4</th>\n",
       "      <td>564125093970601984</td>\n",
       "      <td>NB795</td>\n",
       "      <td>153.804</td>\n",
       "      <td>10.49200</td>\n",
       "    </tr>\n",
       "  </tbody>\n",
       "</table>\n",
       "</div>"
      ],
      "text/plain": [
       "              spec_id   band     flux  flux_err\n",
       "0  564125093970601984  NB575  118.439   5.82869\n",
       "1  564125093970601984  NB455  139.590   4.68904\n",
       "2  564125093970601984  NB555  131.690   5.15743\n",
       "3  564125093970601984  NB475  117.701   4.35988\n",
       "4  564125093970601984  NB795  153.804  10.49200"
      ]
     },
     "execution_count": 205,
     "metadata": {},
     "output_type": "execute_result"
    }
   ],
   "source": [
    "df_spectra.reset_index(inplace = True)\n",
    "df_spectra.head()"
   ]
  },
  {
   "cell_type": "code",
   "execution_count": 206,
   "metadata": {
    "collapsed": false
   },
   "outputs": [
    {
     "data": {
      "text/html": [
       "<div>\n",
       "<table border=\"1\" class=\"dataframe\">\n",
       "  <thead>\n",
       "    <tr style=\"text-align: right;\">\n",
       "      <th></th>\n",
       "      <th>spec_id</th>\n",
       "      <th>filter</th>\n",
       "      <th>flux</th>\n",
       "      <th>flux_err</th>\n",
       "    </tr>\n",
       "  </thead>\n",
       "  <tbody>\n",
       "    <tr>\n",
       "      <th>0</th>\n",
       "      <td>564125093970601984</td>\n",
       "      <td>NB575</td>\n",
       "      <td>118.439</td>\n",
       "      <td>5.82869</td>\n",
       "    </tr>\n",
       "    <tr>\n",
       "      <th>1</th>\n",
       "      <td>564125093970601984</td>\n",
       "      <td>NB455</td>\n",
       "      <td>139.590</td>\n",
       "      <td>4.68904</td>\n",
       "    </tr>\n",
       "    <tr>\n",
       "      <th>2</th>\n",
       "      <td>564125093970601984</td>\n",
       "      <td>NB555</td>\n",
       "      <td>131.690</td>\n",
       "      <td>5.15743</td>\n",
       "    </tr>\n",
       "    <tr>\n",
       "      <th>3</th>\n",
       "      <td>564125093970601984</td>\n",
       "      <td>NB475</td>\n",
       "      <td>117.701</td>\n",
       "      <td>4.35988</td>\n",
       "    </tr>\n",
       "    <tr>\n",
       "      <th>4</th>\n",
       "      <td>564125093970601984</td>\n",
       "      <td>NB795</td>\n",
       "      <td>153.804</td>\n",
       "      <td>10.49200</td>\n",
       "    </tr>\n",
       "  </tbody>\n",
       "</table>\n",
       "</div>"
      ],
      "text/plain": [
       "              spec_id filter     flux  flux_err\n",
       "0  564125093970601984  NB575  118.439   5.82869\n",
       "1  564125093970601984  NB455  139.590   4.68904\n",
       "2  564125093970601984  NB555  131.690   5.15743\n",
       "3  564125093970601984  NB475  117.701   4.35988\n",
       "4  564125093970601984  NB795  153.804  10.49200"
      ]
     },
     "execution_count": 206,
     "metadata": {},
     "output_type": "execute_result"
    }
   ],
   "source": [
    "df_spectra.rename(columns={'band': 'filter'}, inplace = True)\n",
    "df_spectra.head()"
   ]
  },
  {
   "cell_type": "code",
   "execution_count": 207,
   "metadata": {
    "collapsed": false
   },
   "outputs": [
    {
     "data": {
      "text/html": [
       "<div>\n",
       "<table border=\"1\" class=\"dataframe\">\n",
       "  <thead>\n",
       "    <tr style=\"text-align: right;\">\n",
       "      <th></th>\n",
       "      <th>sdss_star_id</th>\n",
       "      <th>spec_id</th>\n",
       "    </tr>\n",
       "  </thead>\n",
       "  <tbody>\n",
       "    <tr>\n",
       "      <th>0</th>\n",
       "      <td>1237653664722386988</td>\n",
       "      <td>564125918604322816</td>\n",
       "    </tr>\n",
       "    <tr>\n",
       "      <th>1</th>\n",
       "      <td>1237648722828460042</td>\n",
       "      <td>564133065429903360</td>\n",
       "    </tr>\n",
       "    <tr>\n",
       "      <th>2</th>\n",
       "      <td>1237651752923758623</td>\n",
       "      <td>564134714697345024</td>\n",
       "    </tr>\n",
       "    <tr>\n",
       "      <th>3</th>\n",
       "      <td>1237651752923758661</td>\n",
       "      <td>564134989575251968</td>\n",
       "    </tr>\n",
       "    <tr>\n",
       "      <th>4</th>\n",
       "      <td>1237653664722190405</td>\n",
       "      <td>564137188598507520</td>\n",
       "    </tr>\n",
       "  </tbody>\n",
       "</table>\n",
       "</div>"
      ],
      "text/plain": [
       "          sdss_star_id             spec_id\n",
       "0  1237653664722386988  564125918604322816\n",
       "1  1237648722828460042  564133065429903360\n",
       "2  1237651752923758623  564134714697345024\n",
       "3  1237651752923758661  564134989575251968\n",
       "4  1237653664722190405  564137188598507520"
      ]
     },
     "execution_count": 207,
     "metadata": {},
     "output_type": "execute_result"
    }
   ],
   "source": [
    "df_starid_specid.rename(columns={'objID':'sdss_star_id', 'specObjID':'spec_id'}, inplace = True)\n",
    "df_starid_specid.head()"
   ]
  },
  {
   "cell_type": "code",
   "execution_count": 208,
   "metadata": {
    "collapsed": true
   },
   "outputs": [],
   "source": [
    "# Now we have everything ready to make the JOINs"
   ]
  },
  {
   "cell_type": "code",
   "execution_count": 209,
   "metadata": {
    "collapsed": true
   },
   "outputs": [],
   "source": [
    "df_star_merged = pd.merge(df_star, df_starid_specid, on='sdss_star_id')"
   ]
  },
  {
   "cell_type": "code",
   "execution_count": 210,
   "metadata": {
    "collapsed": false
   },
   "outputs": [
    {
     "data": {
      "text/html": [
       "<div>\n",
       "<table border=\"1\" class=\"dataframe\">\n",
       "  <thead>\n",
       "    <tr style=\"text-align: right;\">\n",
       "      <th></th>\n",
       "      <th>sdss_star_id</th>\n",
       "      <th>filter</th>\n",
       "      <th>expected_mag</th>\n",
       "      <th>expected_mag_err</th>\n",
       "      <th>spec_id</th>\n",
       "    </tr>\n",
       "  </thead>\n",
       "  <tbody>\n",
       "    <tr>\n",
       "      <th>0</th>\n",
       "      <td>1237653665259061426</td>\n",
       "      <td>NB455</td>\n",
       "      <td>17.0845</td>\n",
       "      <td>0.008731</td>\n",
       "      <td>563122610200668160</td>\n",
       "    </tr>\n",
       "    <tr>\n",
       "      <th>1</th>\n",
       "      <td>1237653665259061426</td>\n",
       "      <td>NB475</td>\n",
       "      <td>16.9845</td>\n",
       "      <td>0.008731</td>\n",
       "      <td>563122610200668160</td>\n",
       "    </tr>\n",
       "    <tr>\n",
       "      <th>2</th>\n",
       "      <td>1237653665259061426</td>\n",
       "      <td>NB535</td>\n",
       "      <td>16.7995</td>\n",
       "      <td>0.008731</td>\n",
       "      <td>563122610200668160</td>\n",
       "    </tr>\n",
       "    <tr>\n",
       "      <th>3</th>\n",
       "      <td>1237653665259061426</td>\n",
       "      <td>NB685</td>\n",
       "      <td>16.5315</td>\n",
       "      <td>0.008731</td>\n",
       "      <td>563122610200668160</td>\n",
       "    </tr>\n",
       "    <tr>\n",
       "      <th>4</th>\n",
       "      <td>1237653665259061426</td>\n",
       "      <td>NB655</td>\n",
       "      <td>16.5745</td>\n",
       "      <td>0.008731</td>\n",
       "      <td>563122610200668160</td>\n",
       "    </tr>\n",
       "  </tbody>\n",
       "</table>\n",
       "</div>"
      ],
      "text/plain": [
       "          sdss_star_id filter  expected_mag  expected_mag_err  \\\n",
       "0  1237653665259061426  NB455       17.0845          0.008731   \n",
       "1  1237653665259061426  NB475       16.9845          0.008731   \n",
       "2  1237653665259061426  NB535       16.7995          0.008731   \n",
       "3  1237653665259061426  NB685       16.5315          0.008731   \n",
       "4  1237653665259061426  NB655       16.5745          0.008731   \n",
       "\n",
       "              spec_id  \n",
       "0  563122610200668160  \n",
       "1  563122610200668160  \n",
       "2  563122610200668160  \n",
       "3  563122610200668160  \n",
       "4  563122610200668160  "
      ]
     },
     "execution_count": 210,
     "metadata": {},
     "output_type": "execute_result"
    }
   ],
   "source": [
    "df_star_merged.head()"
   ]
  },
  {
   "cell_type": "code",
   "execution_count": 211,
   "metadata": {
    "collapsed": true
   },
   "outputs": [],
   "source": [
    "df_star_merged = pd.merge(df_star_merged, df_spectra, on=['spec_id','filter'])"
   ]
  },
  {
   "cell_type": "code",
   "execution_count": 212,
   "metadata": {
    "collapsed": false
   },
   "outputs": [
    {
     "data": {
      "text/html": [
       "<div>\n",
       "<table border=\"1\" class=\"dataframe\">\n",
       "  <thead>\n",
       "    <tr style=\"text-align: right;\">\n",
       "      <th></th>\n",
       "      <th>sdss_star_id</th>\n",
       "      <th>filter</th>\n",
       "      <th>expected_mag</th>\n",
       "      <th>expected_mag_err</th>\n",
       "      <th>spec_id</th>\n",
       "      <th>flux</th>\n",
       "      <th>flux_err</th>\n",
       "    </tr>\n",
       "  </thead>\n",
       "  <tbody>\n",
       "    <tr>\n",
       "      <th>0</th>\n",
       "      <td>1237653665259061426</td>\n",
       "      <td>NB455</td>\n",
       "      <td>17.0845</td>\n",
       "      <td>0.008731</td>\n",
       "      <td>563122610200668160</td>\n",
       "      <td>3449.55</td>\n",
       "      <td>14.09800</td>\n",
       "    </tr>\n",
       "    <tr>\n",
       "      <th>1</th>\n",
       "      <td>1237653665259061426</td>\n",
       "      <td>NB475</td>\n",
       "      <td>16.9845</td>\n",
       "      <td>0.008731</td>\n",
       "      <td>563122610200668160</td>\n",
       "      <td>3787.50</td>\n",
       "      <td>14.22110</td>\n",
       "    </tr>\n",
       "    <tr>\n",
       "      <th>2</th>\n",
       "      <td>1237653665259061426</td>\n",
       "      <td>NB535</td>\n",
       "      <td>16.7995</td>\n",
       "      <td>0.008731</td>\n",
       "      <td>563122610200668160</td>\n",
       "      <td>4294.29</td>\n",
       "      <td>15.15040</td>\n",
       "    </tr>\n",
       "    <tr>\n",
       "      <th>3</th>\n",
       "      <td>1237653665259061426</td>\n",
       "      <td>NB685</td>\n",
       "      <td>16.5315</td>\n",
       "      <td>0.008731</td>\n",
       "      <td>563122610200668160</td>\n",
       "      <td>5159.24</td>\n",
       "      <td>16.80340</td>\n",
       "    </tr>\n",
       "    <tr>\n",
       "      <th>4</th>\n",
       "      <td>1237653665259061426</td>\n",
       "      <td>NB655</td>\n",
       "      <td>16.5745</td>\n",
       "      <td>0.008731</td>\n",
       "      <td>563122610200668160</td>\n",
       "      <td>4901.12</td>\n",
       "      <td>15.64510</td>\n",
       "    </tr>\n",
       "    <tr>\n",
       "      <th>5</th>\n",
       "      <td>1237653665259061426</td>\n",
       "      <td>NB765</td>\n",
       "      <td>16.4835</td>\n",
       "      <td>0.008731</td>\n",
       "      <td>563122610200668160</td>\n",
       "      <td>5256.04</td>\n",
       "      <td>22.53470</td>\n",
       "    </tr>\n",
       "    <tr>\n",
       "      <th>6</th>\n",
       "      <td>1237653665259061426</td>\n",
       "      <td>NB845</td>\n",
       "      <td>16.4475</td>\n",
       "      <td>0.008731</td>\n",
       "      <td>563122610200668160</td>\n",
       "      <td>5224.63</td>\n",
       "      <td>27.16950</td>\n",
       "    </tr>\n",
       "    <tr>\n",
       "      <th>7</th>\n",
       "      <td>1237653665259061426</td>\n",
       "      <td>NB545</td>\n",
       "      <td>16.7635</td>\n",
       "      <td>0.008731</td>\n",
       "      <td>563122610200668160</td>\n",
       "      <td>4381.42</td>\n",
       "      <td>15.48150</td>\n",
       "    </tr>\n",
       "    <tr>\n",
       "      <th>8</th>\n",
       "      <td>1237653665259061426</td>\n",
       "      <td>NB745</td>\n",
       "      <td>16.4945</td>\n",
       "      <td>0.008731</td>\n",
       "      <td>563122610200668160</td>\n",
       "      <td>5204.17</td>\n",
       "      <td>18.33640</td>\n",
       "    </tr>\n",
       "    <tr>\n",
       "      <th>9</th>\n",
       "      <td>1237653665259061426</td>\n",
       "      <td>NB565</td>\n",
       "      <td>16.7105</td>\n",
       "      <td>0.008731</td>\n",
       "      <td>563122610200668160</td>\n",
       "      <td>4548.09</td>\n",
       "      <td>16.60220</td>\n",
       "    </tr>\n",
       "    <tr>\n",
       "      <th>10</th>\n",
       "      <td>1237653665259061426</td>\n",
       "      <td>NB555</td>\n",
       "      <td>16.7305</td>\n",
       "      <td>0.008731</td>\n",
       "      <td>563122610200668160</td>\n",
       "      <td>4491.97</td>\n",
       "      <td>16.29800</td>\n",
       "    </tr>\n",
       "    <tr>\n",
       "      <th>11</th>\n",
       "      <td>1237653665259061426</td>\n",
       "      <td>NB665</td>\n",
       "      <td>16.5435</td>\n",
       "      <td>0.008731</td>\n",
       "      <td>563122610200668160</td>\n",
       "      <td>5085.41</td>\n",
       "      <td>15.77950</td>\n",
       "    </tr>\n",
       "    <tr>\n",
       "      <th>12</th>\n",
       "      <td>1237653665259061426</td>\n",
       "      <td>NB825</td>\n",
       "      <td>16.4655</td>\n",
       "      <td>0.008731</td>\n",
       "      <td>563122610200668160</td>\n",
       "      <td>5297.80</td>\n",
       "      <td>25.23520</td>\n",
       "    </tr>\n",
       "    <tr>\n",
       "      <th>13</th>\n",
       "      <td>1237653665259061426</td>\n",
       "      <td>NB675</td>\n",
       "      <td>16.5325</td>\n",
       "      <td>0.008731</td>\n",
       "      <td>563122610200668160</td>\n",
       "      <td>5141.74</td>\n",
       "      <td>15.91610</td>\n",
       "    </tr>\n",
       "    <tr>\n",
       "      <th>14</th>\n",
       "      <td>1237653665259061426</td>\n",
       "      <td>NB815</td>\n",
       "      <td>16.4715</td>\n",
       "      <td>0.008731</td>\n",
       "      <td>563122610200668160</td>\n",
       "      <td>5276.75</td>\n",
       "      <td>22.64830</td>\n",
       "    </tr>\n",
       "    <tr>\n",
       "      <th>15</th>\n",
       "      <td>1237653665259061426</td>\n",
       "      <td>NB485</td>\n",
       "      <td>16.9695</td>\n",
       "      <td>0.008731</td>\n",
       "      <td>563122610200668160</td>\n",
       "      <td>3739.33</td>\n",
       "      <td>14.26410</td>\n",
       "    </tr>\n",
       "    <tr>\n",
       "      <th>16</th>\n",
       "      <td>1237653665259061426</td>\n",
       "      <td>NB465</td>\n",
       "      <td>17.0365</td>\n",
       "      <td>0.008731</td>\n",
       "      <td>563122610200668160</td>\n",
       "      <td>3610.98</td>\n",
       "      <td>14.20580</td>\n",
       "    </tr>\n",
       "    <tr>\n",
       "      <th>17</th>\n",
       "      <td>1237653665259061426</td>\n",
       "      <td>NB755</td>\n",
       "      <td>16.4875</td>\n",
       "      <td>0.008731</td>\n",
       "      <td>563122610200668160</td>\n",
       "      <td>5266.75</td>\n",
       "      <td>20.44540</td>\n",
       "    </tr>\n",
       "    <tr>\n",
       "      <th>18</th>\n",
       "      <td>1237653665259061426</td>\n",
       "      <td>NB735</td>\n",
       "      <td>16.5025</td>\n",
       "      <td>0.008731</td>\n",
       "      <td>563122610200668160</td>\n",
       "      <td>5244.81</td>\n",
       "      <td>19.18760</td>\n",
       "    </tr>\n",
       "    <tr>\n",
       "      <th>19</th>\n",
       "      <td>1237653665259061426</td>\n",
       "      <td>NB645</td>\n",
       "      <td>16.5725</td>\n",
       "      <td>0.008731</td>\n",
       "      <td>563122610200668160</td>\n",
       "      <td>5010.37</td>\n",
       "      <td>15.67430</td>\n",
       "    </tr>\n",
       "    <tr>\n",
       "      <th>20</th>\n",
       "      <td>1237653665259061426</td>\n",
       "      <td>NB805</td>\n",
       "      <td>16.4655</td>\n",
       "      <td>0.008731</td>\n",
       "      <td>563122610200668160</td>\n",
       "      <td>5322.51</td>\n",
       "      <td>22.29840</td>\n",
       "    </tr>\n",
       "    <tr>\n",
       "      <th>21</th>\n",
       "      <td>1237653665259061426</td>\n",
       "      <td>NB615</td>\n",
       "      <td>16.6085</td>\n",
       "      <td>0.008731</td>\n",
       "      <td>563122610200668160</td>\n",
       "      <td>4875.83</td>\n",
       "      <td>15.66670</td>\n",
       "    </tr>\n",
       "    <tr>\n",
       "      <th>22</th>\n",
       "      <td>1237653665259061426</td>\n",
       "      <td>NB585</td>\n",
       "      <td>16.6535</td>\n",
       "      <td>0.008731</td>\n",
       "      <td>563122610200668160</td>\n",
       "      <td>4765.66</td>\n",
       "      <td>18.57490</td>\n",
       "    </tr>\n",
       "    <tr>\n",
       "      <th>23</th>\n",
       "      <td>1237653665259061426</td>\n",
       "      <td>NB695</td>\n",
       "      <td>16.5275</td>\n",
       "      <td>0.008731</td>\n",
       "      <td>563122610200668160</td>\n",
       "      <td>5179.30</td>\n",
       "      <td>17.03480</td>\n",
       "    </tr>\n",
       "    <tr>\n",
       "      <th>24</th>\n",
       "      <td>1237653665259061426</td>\n",
       "      <td>NB495</td>\n",
       "      <td>16.9285</td>\n",
       "      <td>0.008731</td>\n",
       "      <td>563122610200668160</td>\n",
       "      <td>3864.57</td>\n",
       "      <td>14.46440</td>\n",
       "    </tr>\n",
       "    <tr>\n",
       "      <th>25</th>\n",
       "      <td>1237653665259061426</td>\n",
       "      <td>NB595</td>\n",
       "      <td>16.6345</td>\n",
       "      <td>0.008731</td>\n",
       "      <td>563122610200668160</td>\n",
       "      <td>4830.88</td>\n",
       "      <td>15.61010</td>\n",
       "    </tr>\n",
       "    <tr>\n",
       "      <th>26</th>\n",
       "      <td>1237653665259061426</td>\n",
       "      <td>NB625</td>\n",
       "      <td>16.6045</td>\n",
       "      <td>0.008731</td>\n",
       "      <td>563122610200668160</td>\n",
       "      <td>4915.07</td>\n",
       "      <td>16.08010</td>\n",
       "    </tr>\n",
       "    <tr>\n",
       "      <th>27</th>\n",
       "      <td>1237653665259061426</td>\n",
       "      <td>NB715</td>\n",
       "      <td>16.4985</td>\n",
       "      <td>0.008731</td>\n",
       "      <td>563122610200668160</td>\n",
       "      <td>5181.73</td>\n",
       "      <td>16.91540</td>\n",
       "    </tr>\n",
       "    <tr>\n",
       "      <th>28</th>\n",
       "      <td>1237653665259061426</td>\n",
       "      <td>NB795</td>\n",
       "      <td>16.4755</td>\n",
       "      <td>0.008731</td>\n",
       "      <td>563122610200668160</td>\n",
       "      <td>5302.65</td>\n",
       "      <td>22.89990</td>\n",
       "    </tr>\n",
       "    <tr>\n",
       "      <th>29</th>\n",
       "      <td>1237653665259061426</td>\n",
       "      <td>NB725</td>\n",
       "      <td>16.5075</td>\n",
       "      <td>0.008731</td>\n",
       "      <td>563122610200668160</td>\n",
       "      <td>5178.91</td>\n",
       "      <td>18.68880</td>\n",
       "    </tr>\n",
       "    <tr>\n",
       "      <th>30</th>\n",
       "      <td>1237653665259061426</td>\n",
       "      <td>NB575</td>\n",
       "      <td>16.6815</td>\n",
       "      <td>0.008731</td>\n",
       "      <td>563122610200668160</td>\n",
       "      <td>4664.69</td>\n",
       "      <td>17.61180</td>\n",
       "    </tr>\n",
       "    <tr>\n",
       "      <th>31</th>\n",
       "      <td>1237653665259061426</td>\n",
       "      <td>NB635</td>\n",
       "      <td>16.5875</td>\n",
       "      <td>0.008731</td>\n",
       "      <td>563122610200668160</td>\n",
       "      <td>4988.68</td>\n",
       "      <td>16.21160</td>\n",
       "    </tr>\n",
       "    <tr>\n",
       "      <th>32</th>\n",
       "      <td>1237653665259061426</td>\n",
       "      <td>NB515</td>\n",
       "      <td>16.8985</td>\n",
       "      <td>0.008731</td>\n",
       "      <td>563122610200668160</td>\n",
       "      <td>3876.26</td>\n",
       "      <td>14.21120</td>\n",
       "    </tr>\n",
       "    <tr>\n",
       "      <th>33</th>\n",
       "      <td>1237653665259061426</td>\n",
       "      <td>NB505</td>\n",
       "      <td>16.9025</td>\n",
       "      <td>0.008731</td>\n",
       "      <td>563122610200668160</td>\n",
       "      <td>3952.84</td>\n",
       "      <td>14.38460</td>\n",
       "    </tr>\n",
       "    <tr>\n",
       "      <th>34</th>\n",
       "      <td>1237653665259061426</td>\n",
       "      <td>NB835</td>\n",
       "      <td>16.4505</td>\n",
       "      <td>0.008731</td>\n",
       "      <td>563122610200668160</td>\n",
       "      <td>5305.91</td>\n",
       "      <td>27.22990</td>\n",
       "    </tr>\n",
       "    <tr>\n",
       "      <th>35</th>\n",
       "      <td>1237653665259061426</td>\n",
       "      <td>NB525</td>\n",
       "      <td>16.8535</td>\n",
       "      <td>0.008731</td>\n",
       "      <td>563122610200668160</td>\n",
       "      <td>4056.67</td>\n",
       "      <td>14.62560</td>\n",
       "    </tr>\n",
       "    <tr>\n",
       "      <th>36</th>\n",
       "      <td>1237653665259061426</td>\n",
       "      <td>NB705</td>\n",
       "      <td>16.5035</td>\n",
       "      <td>0.008731</td>\n",
       "      <td>563122610200668160</td>\n",
       "      <td>5190.41</td>\n",
       "      <td>16.46000</td>\n",
       "    </tr>\n",
       "    <tr>\n",
       "      <th>37</th>\n",
       "      <td>1237653665259061426</td>\n",
       "      <td>NB785</td>\n",
       "      <td>16.4775</td>\n",
       "      <td>0.008731</td>\n",
       "      <td>563122610200668160</td>\n",
       "      <td>5309.64</td>\n",
       "      <td>21.99720</td>\n",
       "    </tr>\n",
       "    <tr>\n",
       "      <th>38</th>\n",
       "      <td>1237653665259061426</td>\n",
       "      <td>NB775</td>\n",
       "      <td>16.4855</td>\n",
       "      <td>0.008731</td>\n",
       "      <td>563122610200668160</td>\n",
       "      <td>5278.10</td>\n",
       "      <td>20.78290</td>\n",
       "    </tr>\n",
       "    <tr>\n",
       "      <th>39</th>\n",
       "      <td>1237653665259192332</td>\n",
       "      <td>NB465</td>\n",
       "      <td>16.9587</td>\n",
       "      <td>0.024258</td>\n",
       "      <td>3551240669425147904</td>\n",
       "      <td>4012.72</td>\n",
       "      <td>8.19151</td>\n",
       "    </tr>\n",
       "  </tbody>\n",
       "</table>\n",
       "</div>"
      ],
      "text/plain": [
       "           sdss_star_id filter  expected_mag  expected_mag_err  \\\n",
       "0   1237653665259061426  NB455       17.0845          0.008731   \n",
       "1   1237653665259061426  NB475       16.9845          0.008731   \n",
       "2   1237653665259061426  NB535       16.7995          0.008731   \n",
       "3   1237653665259061426  NB685       16.5315          0.008731   \n",
       "4   1237653665259061426  NB655       16.5745          0.008731   \n",
       "5   1237653665259061426  NB765       16.4835          0.008731   \n",
       "6   1237653665259061426  NB845       16.4475          0.008731   \n",
       "7   1237653665259061426  NB545       16.7635          0.008731   \n",
       "8   1237653665259061426  NB745       16.4945          0.008731   \n",
       "9   1237653665259061426  NB565       16.7105          0.008731   \n",
       "10  1237653665259061426  NB555       16.7305          0.008731   \n",
       "11  1237653665259061426  NB665       16.5435          0.008731   \n",
       "12  1237653665259061426  NB825       16.4655          0.008731   \n",
       "13  1237653665259061426  NB675       16.5325          0.008731   \n",
       "14  1237653665259061426  NB815       16.4715          0.008731   \n",
       "15  1237653665259061426  NB485       16.9695          0.008731   \n",
       "16  1237653665259061426  NB465       17.0365          0.008731   \n",
       "17  1237653665259061426  NB755       16.4875          0.008731   \n",
       "18  1237653665259061426  NB735       16.5025          0.008731   \n",
       "19  1237653665259061426  NB645       16.5725          0.008731   \n",
       "20  1237653665259061426  NB805       16.4655          0.008731   \n",
       "21  1237653665259061426  NB615       16.6085          0.008731   \n",
       "22  1237653665259061426  NB585       16.6535          0.008731   \n",
       "23  1237653665259061426  NB695       16.5275          0.008731   \n",
       "24  1237653665259061426  NB495       16.9285          0.008731   \n",
       "25  1237653665259061426  NB595       16.6345          0.008731   \n",
       "26  1237653665259061426  NB625       16.6045          0.008731   \n",
       "27  1237653665259061426  NB715       16.4985          0.008731   \n",
       "28  1237653665259061426  NB795       16.4755          0.008731   \n",
       "29  1237653665259061426  NB725       16.5075          0.008731   \n",
       "30  1237653665259061426  NB575       16.6815          0.008731   \n",
       "31  1237653665259061426  NB635       16.5875          0.008731   \n",
       "32  1237653665259061426  NB515       16.8985          0.008731   \n",
       "33  1237653665259061426  NB505       16.9025          0.008731   \n",
       "34  1237653665259061426  NB835       16.4505          0.008731   \n",
       "35  1237653665259061426  NB525       16.8535          0.008731   \n",
       "36  1237653665259061426  NB705       16.5035          0.008731   \n",
       "37  1237653665259061426  NB785       16.4775          0.008731   \n",
       "38  1237653665259061426  NB775       16.4855          0.008731   \n",
       "39  1237653665259192332  NB465       16.9587          0.024258   \n",
       "\n",
       "                spec_id     flux  flux_err  \n",
       "0    563122610200668160  3449.55  14.09800  \n",
       "1    563122610200668160  3787.50  14.22110  \n",
       "2    563122610200668160  4294.29  15.15040  \n",
       "3    563122610200668160  5159.24  16.80340  \n",
       "4    563122610200668160  4901.12  15.64510  \n",
       "5    563122610200668160  5256.04  22.53470  \n",
       "6    563122610200668160  5224.63  27.16950  \n",
       "7    563122610200668160  4381.42  15.48150  \n",
       "8    563122610200668160  5204.17  18.33640  \n",
       "9    563122610200668160  4548.09  16.60220  \n",
       "10   563122610200668160  4491.97  16.29800  \n",
       "11   563122610200668160  5085.41  15.77950  \n",
       "12   563122610200668160  5297.80  25.23520  \n",
       "13   563122610200668160  5141.74  15.91610  \n",
       "14   563122610200668160  5276.75  22.64830  \n",
       "15   563122610200668160  3739.33  14.26410  \n",
       "16   563122610200668160  3610.98  14.20580  \n",
       "17   563122610200668160  5266.75  20.44540  \n",
       "18   563122610200668160  5244.81  19.18760  \n",
       "19   563122610200668160  5010.37  15.67430  \n",
       "20   563122610200668160  5322.51  22.29840  \n",
       "21   563122610200668160  4875.83  15.66670  \n",
       "22   563122610200668160  4765.66  18.57490  \n",
       "23   563122610200668160  5179.30  17.03480  \n",
       "24   563122610200668160  3864.57  14.46440  \n",
       "25   563122610200668160  4830.88  15.61010  \n",
       "26   563122610200668160  4915.07  16.08010  \n",
       "27   563122610200668160  5181.73  16.91540  \n",
       "28   563122610200668160  5302.65  22.89990  \n",
       "29   563122610200668160  5178.91  18.68880  \n",
       "30   563122610200668160  4664.69  17.61180  \n",
       "31   563122610200668160  4988.68  16.21160  \n",
       "32   563122610200668160  3876.26  14.21120  \n",
       "33   563122610200668160  3952.84  14.38460  \n",
       "34   563122610200668160  5305.91  27.22990  \n",
       "35   563122610200668160  4056.67  14.62560  \n",
       "36   563122610200668160  5190.41  16.46000  \n",
       "37   563122610200668160  5309.64  21.99720  \n",
       "38   563122610200668160  5278.10  20.78290  \n",
       "39  3551240669425147904  4012.72   8.19151  "
      ]
     },
     "execution_count": 212,
     "metadata": {},
     "output_type": "execute_result"
    }
   ],
   "source": [
    "df_star_merged.head(40)"
   ]
  },
  {
   "cell_type": "code",
   "execution_count": 213,
   "metadata": {
    "collapsed": false
   },
   "outputs": [],
   "source": [
    "df_star_merged.set_index(['sdss_star_id', 'filter'], inplace = True)"
   ]
  },
  {
   "cell_type": "code",
   "execution_count": 214,
   "metadata": {
    "collapsed": false
   },
   "outputs": [
    {
     "data": {
      "text/html": [
       "<div>\n",
       "<table border=\"1\" class=\"dataframe\">\n",
       "  <thead>\n",
       "    <tr style=\"text-align: right;\">\n",
       "      <th></th>\n",
       "      <th></th>\n",
       "      <th>expected_mag</th>\n",
       "      <th>expected_mag_err</th>\n",
       "      <th>spec_id</th>\n",
       "      <th>flux</th>\n",
       "      <th>flux_err</th>\n",
       "    </tr>\n",
       "    <tr>\n",
       "      <th>sdss_star_id</th>\n",
       "      <th>filter</th>\n",
       "      <th></th>\n",
       "      <th></th>\n",
       "      <th></th>\n",
       "      <th></th>\n",
       "      <th></th>\n",
       "    </tr>\n",
       "  </thead>\n",
       "  <tbody>\n",
       "    <tr>\n",
       "      <th rowspan=\"5\" valign=\"top\">1237653665259061426</th>\n",
       "      <th>NB455</th>\n",
       "      <td>17.0845</td>\n",
       "      <td>0.008731</td>\n",
       "      <td>563122610200668160</td>\n",
       "      <td>3449.55</td>\n",
       "      <td>14.0980</td>\n",
       "    </tr>\n",
       "    <tr>\n",
       "      <th>NB475</th>\n",
       "      <td>16.9845</td>\n",
       "      <td>0.008731</td>\n",
       "      <td>563122610200668160</td>\n",
       "      <td>3787.50</td>\n",
       "      <td>14.2211</td>\n",
       "    </tr>\n",
       "    <tr>\n",
       "      <th>NB535</th>\n",
       "      <td>16.7995</td>\n",
       "      <td>0.008731</td>\n",
       "      <td>563122610200668160</td>\n",
       "      <td>4294.29</td>\n",
       "      <td>15.1504</td>\n",
       "    </tr>\n",
       "    <tr>\n",
       "      <th>NB685</th>\n",
       "      <td>16.5315</td>\n",
       "      <td>0.008731</td>\n",
       "      <td>563122610200668160</td>\n",
       "      <td>5159.24</td>\n",
       "      <td>16.8034</td>\n",
       "    </tr>\n",
       "    <tr>\n",
       "      <th>NB655</th>\n",
       "      <td>16.5745</td>\n",
       "      <td>0.008731</td>\n",
       "      <td>563122610200668160</td>\n",
       "      <td>4901.12</td>\n",
       "      <td>15.6451</td>\n",
       "    </tr>\n",
       "  </tbody>\n",
       "</table>\n",
       "</div>"
      ],
      "text/plain": [
       "                            expected_mag  expected_mag_err  \\\n",
       "sdss_star_id        filter                                   \n",
       "1237653665259061426 NB455        17.0845          0.008731   \n",
       "                    NB475        16.9845          0.008731   \n",
       "                    NB535        16.7995          0.008731   \n",
       "                    NB685        16.5315          0.008731   \n",
       "                    NB655        16.5745          0.008731   \n",
       "\n",
       "                                       spec_id     flux  flux_err  \n",
       "sdss_star_id        filter                                         \n",
       "1237653665259061426 NB455   563122610200668160  3449.55   14.0980  \n",
       "                    NB475   563122610200668160  3787.50   14.2211  \n",
       "                    NB535   563122610200668160  4294.29   15.1504  \n",
       "                    NB685   563122610200668160  5159.24   16.8034  \n",
       "                    NB655   563122610200668160  4901.12   15.6451  "
      ]
     },
     "execution_count": 214,
     "metadata": {},
     "output_type": "execute_result"
    }
   ],
   "source": [
    "df_star_merged.head()"
   ]
  },
  {
   "cell_type": "code",
   "execution_count": 261,
   "metadata": {
    "collapsed": false
   },
   "outputs": [],
   "source": [
    "# Contar cuántas bandas tiene cada objeto:\n",
    "count_bands = df_star_merged.groupby(level=0)['flux'].count()"
   ]
  },
  {
   "cell_type": "code",
   "execution_count": 262,
   "metadata": {
    "collapsed": false
   },
   "outputs": [
    {
     "data": {
      "text/plain": [
       "sdss_star_id\n",
       "1237648722827870212     5\n",
       "1237648722827870237     5\n",
       "1237648722827870367     5\n",
       "1237648722827870374     3\n",
       "1237648722827935750     5\n",
       "1237648722827935861     5\n",
       "1237648722827935902     5\n",
       "1237648722827935914     4\n",
       "1237648722827935919     5\n",
       "1237648722827935932     4\n",
       "1237648722828001327    10\n",
       "1237648722828001339    10\n",
       "1237648722828001342    10\n",
       "1237648722828001410     6\n",
       "1237648722828001419    10\n",
       "1237648722828066862    10\n",
       "1237648722828066938    10\n",
       "1237648722828066958    10\n",
       "1237648722828132369    10\n",
       "1237648722828132408    10\n",
       "1237648722828132435    10\n",
       "1237648722828132438    10\n",
       "1237648722828198076    10\n",
       "1237648722828263440    10\n",
       "1237648722828263481    10\n",
       "1237648722828263521    10\n",
       "1237648722828263523    10\n",
       "1237648722828263602     6\n",
       "1237648722828263614    10\n",
       "1237648722828329092    10\n",
       "                       ..\n",
       "1237654604247466078    10\n",
       "1237654604247466134     3\n",
       "1237654604247466168    16\n",
       "1237654604247466172    20\n",
       "1237654604247531890     7\n",
       "1237654604247597374    10\n",
       "1237654604247662638    20\n",
       "1237654604247662697    20\n",
       "1237654604247662824    10\n",
       "1237654604247662861    16\n",
       "1237654604247728404    20\n",
       "1237654604247728407    10\n",
       "1237654604247793831    10\n",
       "1237654604247793923    10\n",
       "1237654604247793926     8\n",
       "1237654604247859263    10\n",
       "1237654604247859271     2\n",
       "1237654604247859280    10\n",
       "1237654604247859291    20\n",
       "1237654604247859364    10\n",
       "1237654604247859431    20\n",
       "1237654604247924750    10\n",
       "1237654604247924762    20\n",
       "1237654604247924780     3\n",
       "1237654604247924796     5\n",
       "1237654604247990384     4\n",
       "1237654604247990503     3\n",
       "1237654604248055879    10\n",
       "1237654604248055895    10\n",
       "1237654604248055917     5\n",
       "Name: flux, dtype: int64"
      ]
     },
     "execution_count": 262,
     "metadata": {},
     "output_type": "execute_result"
    }
   ],
   "source": [
    "count_bands"
   ]
  },
  {
   "cell_type": "code",
   "execution_count": 234,
   "metadata": {
    "collapsed": false
   },
   "outputs": [
    {
     "data": {
      "text/plain": [
       "filter\n",
       "NB455     7.725166\n",
       "NB465     7.935421\n",
       "NB475     7.720782\n",
       "NB485     7.795951\n",
       "NB495     7.964259\n",
       "NB505     8.040383\n",
       "NB515     8.438551\n",
       "NB525     8.940733\n",
       "NB535     8.088588\n",
       "NB545     8.619306\n",
       "NB555     9.083655\n",
       "NB565     9.613539\n",
       "NB575    10.318009\n",
       "NB585    10.342649\n",
       "NB595    10.308725\n",
       "NB605     9.807679\n",
       "NB615    10.619302\n",
       "NB625    16.008395\n",
       "NB635    10.317289\n",
       "NB645    12.569120\n",
       "NB655     9.659645\n",
       "NB665     9.435924\n",
       "NB675    10.929055\n",
       "NB685    10.279040\n",
       "NB695    12.367022\n",
       "NB705    11.891626\n",
       "NB715    11.338523\n",
       "NB725    12.615749\n",
       "NB735    23.549662\n",
       "NB745    11.983545\n",
       "NB755    14.055974\n",
       "NB765    16.201618\n",
       "NB775    16.564160\n",
       "NB785    17.578066\n",
       "NB795    16.955163\n",
       "NB805    52.108339\n",
       "NB815    16.590055\n",
       "NB825    31.830149\n",
       "NB835    20.219658\n",
       "NB845    22.697244\n",
       "Name: flux_err, dtype: float64"
      ]
     },
     "execution_count": 234,
     "metadata": {},
     "output_type": "execute_result"
    }
   ],
   "source": [
    "df_star_merged.groupby(level=1)['flux_err'].mean()"
   ]
  },
  {
   "cell_type": "markdown",
   "metadata": {},
   "source": [
    "### More functions\n",
    "- Looping a dataframe (iterrows)\n",
    "\n",
    "<https://pandas.pydata.org/pandas-docs/stable/generated/pandas.DataFrame.iterrows.html>"
   ]
  },
  {
   "cell_type": "markdown",
   "metadata": {
    "collapsed": true
   },
   "source": [
    "- sample method\n",
    "\n",
    "<https://pandas.pydata.org/pandas-docs/stable/generated/pandas.DataFrame.sample.html>"
   ]
  },
  {
   "cell_type": "markdown",
   "metadata": {},
   "source": [
    "- Reshape dataframes (pivot, stack, unstack):\n",
    "\n",
    "<http://nikgrozev.com/2015/07/01/reshaping-in-pandas-pivot-pivot-table-stack-and-unstack-explained-with-pictures/>"
   ]
  },
  {
   "cell_type": "markdown",
   "metadata": {
    "collapsed": true
   },
   "source": [
    "## Ideas to get home:\n",
    "\n",
    "- Do not loop a dataframe! (try to find any loop in this notebook!)\n",
    "\n",
    "- Try to work by chunks; create functions that work with chunks (even vectorize the function if it is not developed to do it)\n",
    "\n",
    "- Work with standard formats and \"already implemented\" functions"
   ]
  },
  {
   "cell_type": "markdown",
   "metadata": {},
   "source": [
    "### Caveats and technicalities"
   ]
  },
  {
   "cell_type": "markdown",
   "metadata": {},
   "source": [
    "### [Floating point limitations](<https://docs.python.org/2/tutorial/floatingpoint.html>):\n",
    "\n",
    "- Be careful with exact comparisons!"
   ]
  },
  {
   "cell_type": "code",
   "execution_count": 220,
   "metadata": {
    "collapsed": false
   },
   "outputs": [
    {
     "data": {
      "text/plain": [
       "False"
      ]
     },
     "execution_count": 220,
     "metadata": {},
     "output_type": "execute_result"
    }
   ],
   "source": [
    "# e.g.: the decimal value 0.1 cannot be represented exactly as a base 2 fraction\n",
    "(0.1 + 0.2) == 0.3"
   ]
  },
  {
   "cell_type": "code",
   "execution_count": 221,
   "metadata": {
    "collapsed": false
   },
   "outputs": [
    {
     "data": {
      "text/plain": [
       "5.551115123125783e-17"
      ]
     },
     "execution_count": 221,
     "metadata": {},
     "output_type": "execute_result"
    }
   ],
   "source": [
    "(0.1 + 0.2) - 0.3"
   ]
  },
  {
   "cell_type": "markdown",
   "metadata": {
    "collapsed": true
   },
   "source": [
    "### FITS files\n",
    "\n",
    "- [fitsio](<https://pypi.python.org/pypi/fitsio/>)\n",
    "\n",
    "- And working by chunks"
   ]
  },
  {
   "cell_type": "code",
   "execution_count": 224,
   "metadata": {
    "collapsed": true
   },
   "outputs": [],
   "source": [
    "import fitsio"
   ]
  },
  {
   "cell_type": "code",
   "execution_count": 225,
   "metadata": {
    "collapsed": true
   },
   "outputs": [],
   "source": [
    "filename = '/nfs/astro/jcarrete/sandbox/curso_python/1205.fits'"
   ]
  },
  {
   "cell_type": "code",
   "execution_count": 226,
   "metadata": {
    "collapsed": false
   },
   "outputs": [],
   "source": [
    "fits=fitsio.FITS(filename)"
   ]
  },
  {
   "cell_type": "code",
   "execution_count": 227,
   "metadata": {
    "collapsed": true
   },
   "outputs": [],
   "source": [
    "data = fits[1]"
   ]
  },
  {
   "cell_type": "code",
   "execution_count": 231,
   "metadata": {
    "collapsed": false
   },
   "outputs": [
    {
     "data": {
      "text/plain": [
       "1951650L"
      ]
     },
     "execution_count": 231,
     "metadata": {},
     "output_type": "execute_result"
    }
   ],
   "source": [
    "# Number of rows\n",
    "data.get_nrows()"
   ]
  },
  {
   "cell_type": "code",
   "execution_count": 232,
   "metadata": {
    "collapsed": true
   },
   "outputs": [],
   "source": [
    "# chunk size\n",
    "gal_chunk = 1000000"
   ]
  },
  {
   "cell_type": "code",
   "execution_count": 233,
   "metadata": {
    "collapsed": false
   },
   "outputs": [
    {
     "name": "stdout",
     "output_type": "stream",
     "text": [
      "0\n",
      "<type 'numpy.ndarray'>\n",
      "[('unique_gal_id', '>i8'), ('unique_halo_id', '>i8'), ('ra_gal', '>f8'), ('dec_gal', '>f8'), ('z_cgal_v', '>f8'), ('z_cgal', '>f8'), ('vxgal', '>f4'), ('vygal', '>f4'), ('vzgal', '>f4'), ('flag_central', '>i4'), ('lmhalo', '>f4'), ('nsats', '>i4'), ('mr_gal', '>f4'), ('gr_gal', '>f4'), ('sed_cos', '>f4'), ('metallicity', '>f4'), ('des_asahi_full_g_true', '>f4'), ('des_asahi_full_r_true', '>f4'), ('des_asahi_full_i_true', '>f4'), ('des_asahi_full_z_true', '>f4'), ('logf_halpha_ext', '>f4')]\n",
      "<class 'pandas.core.frame.DataFrame'>\n",
      "unique_gal_id            >i8\n",
      "unique_halo_id           >i8\n",
      "ra_gal                   >f8\n",
      "dec_gal                  >f8\n",
      "z_cgal_v                 >f8\n",
      "z_cgal                   >f8\n",
      "vxgal                    >f4\n",
      "vygal                    >f4\n",
      "vzgal                    >f4\n",
      "flag_central             >i4\n",
      "lmhalo                   >f4\n",
      "nsats                    >i4\n",
      "mr_gal                   >f4\n",
      "gr_gal                   >f4\n",
      "sed_cos                  >f4\n",
      "metallicity              >f4\n",
      "des_asahi_full_g_true    >f4\n",
      "des_asahi_full_r_true    >f4\n",
      "des_asahi_full_i_true    >f4\n",
      "des_asahi_full_z_true    >f4\n",
      "logf_halpha_ext          >f4\n",
      "dtype: object\n",
      "               unique_halo_id     ra_gal    dec_gal  z_cgal_v   z_cgal  vxgal  \\\n",
      "unique_gal_id                                                                   \n",
      "244758784           112325853  72.523910  56.679344   1.33412  1.33596 -160.0   \n",
      "240024064           109652573  83.130765  51.886039   1.23614  1.23616 -220.0   \n",
      "238642688           108797736  80.228331  38.759545   0.81996  0.82127 -334.0   \n",
      "244315136           112008889  72.866419  48.212783   1.12479  1.12840 -471.0   \n",
      "238639360           108796187  79.762140  38.834107   0.81580  0.81729 -760.0   \n",
      "\n",
      "               vygal  vzgal  flag_central   lmhalo  nsats     mr_gal  gr_gal  \\\n",
      "unique_gal_id                                                                  \n",
      "244758784     -227.0 -139.0             0  11.8079      0 -19.831100  0.3665   \n",
      "240024064      -36.0  171.0             0  11.8553      0 -19.933399  0.5635   \n",
      "238642688      239.0   16.0             0  11.6094      0 -19.417200  0.5389   \n",
      "244315136       40.0 -293.0             1  12.5804      4 -18.857800  0.8112   \n",
      "238639360      423.0  442.0             1  11.7356      1 -17.753599  0.8610   \n",
      "\n",
      "                 sed_cos  metallicity  des_asahi_full_g_true  \\\n",
      "unique_gal_id                                                  \n",
      "244758784      45.150002        8.826              24.177999   \n",
      "240024064      41.070000        9.302              24.416000   \n",
      "238642688      28.459999        8.913              23.792999   \n",
      "244315136      45.779999        8.819              25.923000   \n",
      "238639360      22.120001        8.660              26.025999   \n",
      "\n",
      "               des_asahi_full_r_true  des_asahi_full_i_true  \\\n",
      "unique_gal_id                                                 \n",
      "244758784                  24.048000              24.028000   \n",
      "240024064                  24.280001              24.097000   \n",
      "238642688                  23.555000              22.983000   \n",
      "244315136                  25.257000              24.898001   \n",
      "238639360                  25.570999              24.780001   \n",
      "\n",
      "               des_asahi_full_z_true  logf_halpha_ext  \n",
      "unique_gal_id                                          \n",
      "244758784                  23.679001          -15.038  \n",
      "240024064                  23.438000          -15.337  \n",
      "238642688                  22.868000          -15.027  \n",
      "244315136                  24.395000          -15.184  \n",
      "238639360                  24.552000          -16.226  \n",
      "1\n",
      "<type 'numpy.ndarray'>\n",
      "[('unique_gal_id', '>i8'), ('unique_halo_id', '>i8'), ('ra_gal', '>f8'), ('dec_gal', '>f8'), ('z_cgal_v', '>f8'), ('z_cgal', '>f8'), ('vxgal', '>f4'), ('vygal', '>f4'), ('vzgal', '>f4'), ('flag_central', '>i4'), ('lmhalo', '>f4'), ('nsats', '>i4'), ('mr_gal', '>f4'), ('gr_gal', '>f4'), ('sed_cos', '>f4'), ('metallicity', '>f4'), ('des_asahi_full_g_true', '>f4'), ('des_asahi_full_r_true', '>f4'), ('des_asahi_full_i_true', '>f4'), ('des_asahi_full_z_true', '>f4'), ('logf_halpha_ext', '>f4')]\n",
      "<class 'pandas.core.frame.DataFrame'>\n",
      "unique_gal_id            >i8\n",
      "unique_halo_id           >i8\n",
      "ra_gal                   >f8\n",
      "dec_gal                  >f8\n",
      "z_cgal_v                 >f8\n",
      "z_cgal                   >f8\n",
      "vxgal                    >f4\n",
      "vygal                    >f4\n",
      "vzgal                    >f4\n",
      "flag_central             >i4\n",
      "lmhalo                   >f4\n",
      "nsats                    >i4\n",
      "mr_gal                   >f4\n",
      "gr_gal                   >f4\n",
      "sed_cos                  >f4\n",
      "metallicity              >f4\n",
      "des_asahi_full_g_true    >f4\n",
      "des_asahi_full_r_true    >f4\n",
      "des_asahi_full_i_true    >f4\n",
      "des_asahi_full_z_true    >f4\n",
      "logf_halpha_ext          >f4\n",
      "dtype: object\n",
      "               unique_halo_id     ra_gal    dec_gal  z_cgal_v   z_cgal  vxgal  \\\n",
      "unique_gal_id                                                                   \n",
      "242372864           110878847  73.403115  26.256095   0.78871  0.78780  149.0   \n",
      "257236992           119726636  46.370070  21.122292   1.07158  1.06885  164.0   \n",
      "242369024           110877017  72.773986  25.341828   0.79005  0.78520  538.0   \n",
      "231718656           104454436  34.008909  15.358469   1.02183  1.02429 -645.0   \n",
      "219756544            97426577  52.824699   1.874765   0.74408  0.74561 -174.0   \n",
      "\n",
      "               vygal  vzgal  flag_central   lmhalo  nsats     mr_gal  gr_gal  \\\n",
      "unique_gal_id                                                                  \n",
      "242372864      130.0  -23.0             1  12.3468      2 -20.188200  0.8994   \n",
      "257236992      345.0  174.0             0  12.1669      0 -20.613800  0.6871   \n",
      "242369024      674.0  391.0             0  11.4543      0 -19.004499  0.4954   \n",
      "231718656       13.0 -105.0             0  11.7296      0 -19.697300  0.9581   \n",
      "219756544     -207.0   -2.0             0  11.5381      0 -19.236500  0.2843   \n",
      "\n",
      "                 sed_cos  metallicity  des_asahi_full_g_true  \\\n",
      "unique_gal_id                                                  \n",
      "242372864      37.740002        8.855              23.841999   \n",
      "257236992      43.119999        8.981              23.469999   \n",
      "242369024      39.700001        8.626              24.184000   \n",
      "231718656      40.459999        8.839              25.511999   \n",
      "219756544      30.230000        9.004              22.551001   \n",
      "\n",
      "               des_asahi_full_r_true  des_asahi_full_i_true  \\\n",
      "unique_gal_id                                                 \n",
      "242372864                  23.141001              22.417000   \n",
      "257236992                  23.195000              22.774000   \n",
      "242369024                  23.872999              23.233000   \n",
      "231718656                  24.787001              23.974001   \n",
      "219756544                  22.707001              22.603001   \n",
      "\n",
      "               des_asahi_full_z_true  logf_halpha_ext  \n",
      "unique_gal_id                                          \n",
      "242372864                  22.112000          -14.492  \n",
      "257236992                  22.330000          -14.823  \n",
      "242369024                  23.149000          -15.570  \n",
      "231718656                  23.389999          -15.339  \n",
      "219756544                  22.723000          -14.860  \n"
     ]
    }
   ],
   "source": [
    "import math\n",
    "\n",
    "# e.g.to create the ranges!\n",
    "niter = int(math.ceil(data.get_nrows() / float(gal_chunk)))\n",
    "\n",
    "for i in xrange(niter):\n",
    "    s = i*gal_chunk\n",
    "    f = min((i+1)*gal_chunk, data.get_nrows())\n",
    "    chunk = data[s:f]\n",
    "    print i\n",
    "    print type(chunk)\n",
    "    print chunk.dtype\n",
    "    df_chunk = pd.DataFrame(chunk)\n",
    "    print type(df_chunk)\n",
    "    print df_chunk.dtypes\n",
    "    df_chunk = df_chunk.set_index('unique_gal_id')\n",
    "    print df_chunk.head()"
   ]
  },
  {
   "cell_type": "markdown",
   "metadata": {},
   "source": [
    "#### [.values](https://pandas.pydata.org/pandas-docs/stable/generated/pandas.DataFrame.values.html) DataFrame attribute \n",
    "\n",
    "- Some scipy functions do not allow to use pandas dataframe as arguments and therefore it is useful to use the values atribute, which is the numpy representation of NDFrame\n",
    "\n",
    "- The dtype will be a lower-common-denominator dtype (implicit upcasting); that is to say if the dtypes (even of numeric types) are mixed, the one that accommodates all will be chosen. Use this with care if you are not dealing with the blocks."
   ]
  },
  {
   "cell_type": "markdown",
   "metadata": {},
   "source": [
    "#### View vs. Copy\n",
    "\n",
    "<https://pandas.pydata.org/pandas-docs/stable/indexing.html#returning-a-view-versus-a-copy>"
   ]
  },
  {
   "cell_type": "markdown",
   "metadata": {
    "collapsed": true
   },
   "source": [
    "#### Wrong input example:\n",
    "- .dat\n",
    "\n",
    "- Look at the file using e.g. *head* bash command\n",
    "\n",
    "- Note that there are more than one space, and if you do *tail filename*, different number of \"spaces\""
   ]
  },
  {
   "cell_type": "code",
   "execution_count": 235,
   "metadata": {
    "collapsed": true
   },
   "outputs": [],
   "source": [
    "bad_filename = '/nfs/astro/jcarrete/sandbox/curso_python/steps.flagship.dat'"
   ]
  },
  {
   "cell_type": "code",
   "execution_count": 236,
   "metadata": {
    "collapsed": false
   },
   "outputs": [
    {
     "data": {
      "text/html": [
       "<div>\n",
       "<table border=\"1\" class=\"dataframe\">\n",
       "  <thead>\n",
       "    <tr style=\"text-align: right;\">\n",
       "      <th></th>\n",
       "      <th>400  0.000000000000E+00  3.788230419159E+00  1.894401788712E+00  9.993683695793E-01  6.319999811240E-04</th>\n",
       "    </tr>\n",
       "  </thead>\n",
       "  <tbody>\n",
       "    <tr>\n",
       "      <th>0</th>\n",
       "      <td>399  3.788230419159E+00  1.137576389313E+01  ...</td>\n",
       "    </tr>\n",
       "    <tr>\n",
       "      <th>1</th>\n",
       "      <td>398  1.137576389313E+01  1.898096656799E+01  ...</td>\n",
       "    </tr>\n",
       "    <tr>\n",
       "      <th>2</th>\n",
       "      <td>397  1.898096656799E+01  2.660372543335E+01  ...</td>\n",
       "    </tr>\n",
       "    <tr>\n",
       "      <th>3</th>\n",
       "      <td>396  2.660372543335E+01  3.424393081665E+01  ...</td>\n",
       "    </tr>\n",
       "    <tr>\n",
       "      <th>4</th>\n",
       "      <td>395  3.424393081665E+01  4.190146636963E+01  ...</td>\n",
       "    </tr>\n",
       "  </tbody>\n",
       "</table>\n",
       "</div>"
      ],
      "text/plain": [
       "   400  0.000000000000E+00  3.788230419159E+00  1.894401788712E+00  9.993683695793E-01  6.319999811240E-04\n",
       "0   399  3.788230419159E+00  1.137576389313E+01  ...                                                      \n",
       "1   398  1.137576389313E+01  1.898096656799E+01  ...                                                      \n",
       "2   397  1.898096656799E+01  2.660372543335E+01  ...                                                      \n",
       "3   396  2.660372543335E+01  3.424393081665E+01  ...                                                      \n",
       "4   395  3.424393081665E+01  4.190146636963E+01  ...                                                      "
      ]
     },
     "execution_count": 236,
     "metadata": {},
     "output_type": "execute_result"
    }
   ],
   "source": [
    "df_bad = pd.read_csv(bad_filename)\n",
    "df_bad.head()"
   ]
  },
  {
   "cell_type": "code",
   "execution_count": 237,
   "metadata": {
    "collapsed": false
   },
   "outputs": [
    {
     "ename": "CParserError",
     "evalue": "Error tokenizing data. C error: Expected 12 fields in line 302, saw 13\n",
     "output_type": "error",
     "traceback": [
      "\u001b[0;31m---------------------------------------------------------------------------\u001b[0m",
      "\u001b[0;31mCParserError\u001b[0m                              Traceback (most recent call last)",
      "\u001b[0;32m<ipython-input-237-6b849bde1ebe>\u001b[0m in \u001b[0;36m<module>\u001b[0;34m()\u001b[0m\n\u001b[0;32m----> 1\u001b[0;31m \u001b[0mdf_bad\u001b[0m \u001b[0;34m=\u001b[0m  \u001b[0mpd\u001b[0m\u001b[0;34m.\u001b[0m\u001b[0mread_csv\u001b[0m\u001b[0;34m(\u001b[0m\u001b[0mbad_filename\u001b[0m\u001b[0;34m,\u001b[0m \u001b[0msep\u001b[0m \u001b[0;34m=\u001b[0m \u001b[0;34m' '\u001b[0m\u001b[0;34m)\u001b[0m\u001b[0;34m\u001b[0m\u001b[0m\n\u001b[0m",
      "\u001b[0;32m/software/astro/env/jcarrete/hod_new/lib/python2.7/site-packages/pandas/io/parsers.pyc\u001b[0m in \u001b[0;36mparser_f\u001b[0;34m(filepath_or_buffer, sep, delimiter, header, names, index_col, usecols, squeeze, prefix, mangle_dupe_cols, dtype, engine, converters, true_values, false_values, skipinitialspace, skiprows, skipfooter, nrows, na_values, keep_default_na, na_filter, verbose, skip_blank_lines, parse_dates, infer_datetime_format, keep_date_col, date_parser, dayfirst, iterator, chunksize, compression, thousands, decimal, lineterminator, quotechar, quoting, escapechar, comment, encoding, dialect, tupleize_cols, error_bad_lines, warn_bad_lines, skip_footer, doublequote, delim_whitespace, as_recarray, compact_ints, use_unsigned, low_memory, buffer_lines, memory_map, float_precision)\u001b[0m\n\u001b[1;32m    560\u001b[0m                     skip_blank_lines=skip_blank_lines)\n\u001b[1;32m    561\u001b[0m \u001b[0;34m\u001b[0m\u001b[0m\n\u001b[0;32m--> 562\u001b[0;31m         \u001b[0;32mreturn\u001b[0m \u001b[0m_read\u001b[0m\u001b[0;34m(\u001b[0m\u001b[0mfilepath_or_buffer\u001b[0m\u001b[0;34m,\u001b[0m \u001b[0mkwds\u001b[0m\u001b[0;34m)\u001b[0m\u001b[0;34m\u001b[0m\u001b[0m\n\u001b[0m\u001b[1;32m    563\u001b[0m \u001b[0;34m\u001b[0m\u001b[0m\n\u001b[1;32m    564\u001b[0m     \u001b[0mparser_f\u001b[0m\u001b[0;34m.\u001b[0m\u001b[0m__name__\u001b[0m \u001b[0;34m=\u001b[0m \u001b[0mname\u001b[0m\u001b[0;34m\u001b[0m\u001b[0m\n",
      "\u001b[0;32m/software/astro/env/jcarrete/hod_new/lib/python2.7/site-packages/pandas/io/parsers.pyc\u001b[0m in \u001b[0;36m_read\u001b[0;34m(filepath_or_buffer, kwds)\u001b[0m\n\u001b[1;32m    323\u001b[0m         \u001b[0;32mreturn\u001b[0m \u001b[0mparser\u001b[0m\u001b[0;34m\u001b[0m\u001b[0m\n\u001b[1;32m    324\u001b[0m \u001b[0;34m\u001b[0m\u001b[0m\n\u001b[0;32m--> 325\u001b[0;31m     \u001b[0;32mreturn\u001b[0m \u001b[0mparser\u001b[0m\u001b[0;34m.\u001b[0m\u001b[0mread\u001b[0m\u001b[0;34m(\u001b[0m\u001b[0;34m)\u001b[0m\u001b[0;34m\u001b[0m\u001b[0m\n\u001b[0m\u001b[1;32m    326\u001b[0m \u001b[0;34m\u001b[0m\u001b[0m\n\u001b[1;32m    327\u001b[0m _parser_defaults = {\n",
      "\u001b[0;32m/software/astro/env/jcarrete/hod_new/lib/python2.7/site-packages/pandas/io/parsers.pyc\u001b[0m in \u001b[0;36mread\u001b[0;34m(self, nrows)\u001b[0m\n\u001b[1;32m    813\u001b[0m                 \u001b[0;32mraise\u001b[0m \u001b[0mValueError\u001b[0m\u001b[0;34m(\u001b[0m\u001b[0;34m'skip_footer not supported for iteration'\u001b[0m\u001b[0;34m)\u001b[0m\u001b[0;34m\u001b[0m\u001b[0m\n\u001b[1;32m    814\u001b[0m \u001b[0;34m\u001b[0m\u001b[0m\n\u001b[0;32m--> 815\u001b[0;31m         \u001b[0mret\u001b[0m \u001b[0;34m=\u001b[0m \u001b[0mself\u001b[0m\u001b[0;34m.\u001b[0m\u001b[0m_engine\u001b[0m\u001b[0;34m.\u001b[0m\u001b[0mread\u001b[0m\u001b[0;34m(\u001b[0m\u001b[0mnrows\u001b[0m\u001b[0;34m)\u001b[0m\u001b[0;34m\u001b[0m\u001b[0m\n\u001b[0m\u001b[1;32m    816\u001b[0m \u001b[0;34m\u001b[0m\u001b[0m\n\u001b[1;32m    817\u001b[0m         \u001b[0;32mif\u001b[0m \u001b[0mself\u001b[0m\u001b[0;34m.\u001b[0m\u001b[0moptions\u001b[0m\u001b[0;34m.\u001b[0m\u001b[0mget\u001b[0m\u001b[0;34m(\u001b[0m\u001b[0;34m'as_recarray'\u001b[0m\u001b[0;34m)\u001b[0m\u001b[0;34m:\u001b[0m\u001b[0;34m\u001b[0m\u001b[0m\n",
      "\u001b[0;32m/software/astro/env/jcarrete/hod_new/lib/python2.7/site-packages/pandas/io/parsers.pyc\u001b[0m in \u001b[0;36mread\u001b[0;34m(self, nrows)\u001b[0m\n\u001b[1;32m   1312\u001b[0m     \u001b[0;32mdef\u001b[0m \u001b[0mread\u001b[0m\u001b[0;34m(\u001b[0m\u001b[0mself\u001b[0m\u001b[0;34m,\u001b[0m \u001b[0mnrows\u001b[0m\u001b[0;34m=\u001b[0m\u001b[0mNone\u001b[0m\u001b[0;34m)\u001b[0m\u001b[0;34m:\u001b[0m\u001b[0;34m\u001b[0m\u001b[0m\n\u001b[1;32m   1313\u001b[0m         \u001b[0;32mtry\u001b[0m\u001b[0;34m:\u001b[0m\u001b[0;34m\u001b[0m\u001b[0m\n\u001b[0;32m-> 1314\u001b[0;31m             \u001b[0mdata\u001b[0m \u001b[0;34m=\u001b[0m \u001b[0mself\u001b[0m\u001b[0;34m.\u001b[0m\u001b[0m_reader\u001b[0m\u001b[0;34m.\u001b[0m\u001b[0mread\u001b[0m\u001b[0;34m(\u001b[0m\u001b[0mnrows\u001b[0m\u001b[0;34m)\u001b[0m\u001b[0;34m\u001b[0m\u001b[0m\n\u001b[0m\u001b[1;32m   1315\u001b[0m         \u001b[0;32mexcept\u001b[0m \u001b[0mStopIteration\u001b[0m\u001b[0;34m:\u001b[0m\u001b[0;34m\u001b[0m\u001b[0m\n\u001b[1;32m   1316\u001b[0m             \u001b[0;32mif\u001b[0m \u001b[0mself\u001b[0m\u001b[0;34m.\u001b[0m\u001b[0m_first_chunk\u001b[0m\u001b[0;34m:\u001b[0m\u001b[0;34m\u001b[0m\u001b[0m\n",
      "\u001b[0;32mpandas/parser.pyx\u001b[0m in \u001b[0;36mpandas.parser.TextReader.read (pandas/parser.c:8748)\u001b[0;34m()\u001b[0m\n",
      "\u001b[0;32mpandas/parser.pyx\u001b[0m in \u001b[0;36mpandas.parser.TextReader._read_low_memory (pandas/parser.c:9003)\u001b[0;34m()\u001b[0m\n",
      "\u001b[0;32mpandas/parser.pyx\u001b[0m in \u001b[0;36mpandas.parser.TextReader._read_rows (pandas/parser.c:9731)\u001b[0;34m()\u001b[0m\n",
      "\u001b[0;32mpandas/parser.pyx\u001b[0m in \u001b[0;36mpandas.parser.TextReader._tokenize_rows (pandas/parser.c:9602)\u001b[0;34m()\u001b[0m\n",
      "\u001b[0;32mpandas/parser.pyx\u001b[0m in \u001b[0;36mpandas.parser.raise_parser_error (pandas/parser.c:23325)\u001b[0;34m()\u001b[0m\n",
      "\u001b[0;31mCParserError\u001b[0m: Error tokenizing data. C error: Expected 12 fields in line 302, saw 13\n"
     ]
    }
   ],
   "source": [
    "df_bad =  pd.read_csv(bad_filename, sep = ' ')"
   ]
  },
  {
   "cell_type": "markdown",
   "metadata": {},
   "source": [
    "- Necessary to \"modify\" the file in order to convert it into a standard csv file, e.g.:\n",
    "\n",
    "```\n",
    "cat steps.flagship.dat | tr -s \" \" | sed 's/^ *//g' > steps.flagship.ssv\n",
    "```"
   ]
  },
  {
   "cell_type": "raw",
   "metadata": {
    "collapsed": true
   },
   "source": [
    "filename = '/nfs/astro/jcarrete/sandbox/curso_python/steps.flagship.ssv'"
   ]
  },
  {
   "cell_type": "code",
   "execution_count": 300,
   "metadata": {
    "collapsed": true
   },
   "outputs": [],
   "source": [
    "columns = ['step_num', 'r_min', 'r_max', 'r_med', 'a_med', 'z_med']"
   ]
  },
  {
   "cell_type": "code",
   "execution_count": 301,
   "metadata": {
    "collapsed": false
   },
   "outputs": [],
   "source": [
    "df = pd.read_csv(filename, sep = ' ', header = None, names = columns, index_col = 'step_num')"
   ]
  },
  {
   "cell_type": "code",
   "execution_count": 302,
   "metadata": {
    "collapsed": false
   },
   "outputs": [
    {
     "data": {
      "text/html": [
       "<div>\n",
       "<table border=\"1\" class=\"dataframe\">\n",
       "  <thead>\n",
       "    <tr style=\"text-align: right;\">\n",
       "      <th></th>\n",
       "      <th>r_min</th>\n",
       "      <th>r_max</th>\n",
       "      <th>r_med</th>\n",
       "      <th>a_med</th>\n",
       "      <th>z_med</th>\n",
       "    </tr>\n",
       "    <tr>\n",
       "      <th>step_num</th>\n",
       "      <th></th>\n",
       "      <th></th>\n",
       "      <th></th>\n",
       "      <th></th>\n",
       "      <th></th>\n",
       "    </tr>\n",
       "  </thead>\n",
       "  <tbody>\n",
       "    <tr>\n",
       "      <th>400</th>\n",
       "      <td>0.000000</td>\n",
       "      <td>3.788230</td>\n",
       "      <td>1.894402</td>\n",
       "      <td>0.999368</td>\n",
       "      <td>0.000632</td>\n",
       "    </tr>\n",
       "    <tr>\n",
       "      <th>399</th>\n",
       "      <td>3.788230</td>\n",
       "      <td>11.375764</td>\n",
       "      <td>7.583150</td>\n",
       "      <td>0.997475</td>\n",
       "      <td>0.002531</td>\n",
       "    </tr>\n",
       "    <tr>\n",
       "      <th>398</th>\n",
       "      <td>11.375764</td>\n",
       "      <td>18.980967</td>\n",
       "      <td>15.179528</td>\n",
       "      <td>0.994956</td>\n",
       "      <td>0.005069</td>\n",
       "    </tr>\n",
       "    <tr>\n",
       "      <th>397</th>\n",
       "      <td>18.980967</td>\n",
       "      <td>26.603725</td>\n",
       "      <td>22.793518</td>\n",
       "      <td>0.992441</td>\n",
       "      <td>0.007617</td>\n",
       "    </tr>\n",
       "    <tr>\n",
       "      <th>396</th>\n",
       "      <td>26.603725</td>\n",
       "      <td>34.243931</td>\n",
       "      <td>30.425011</td>\n",
       "      <td>0.989929</td>\n",
       "      <td>0.010173</td>\n",
       "    </tr>\n",
       "  </tbody>\n",
       "</table>\n",
       "</div>"
      ],
      "text/plain": [
       "              r_min      r_max      r_med     a_med     z_med\n",
       "step_num                                                     \n",
       "400        0.000000   3.788230   1.894402  0.999368  0.000632\n",
       "399        3.788230  11.375764   7.583150  0.997475  0.002531\n",
       "398       11.375764  18.980967  15.179528  0.994956  0.005069\n",
       "397       18.980967  26.603725  22.793518  0.992441  0.007617\n",
       "396       26.603725  34.243931  30.425011  0.989929  0.010173"
      ]
     },
     "execution_count": 302,
     "metadata": {},
     "output_type": "execute_result"
    }
   ],
   "source": [
    "df.head()"
   ]
  },
  {
   "cell_type": "markdown",
   "metadata": {
    "collapsed": true
   },
   "source": [
    "### Starting reading from a CosmoHub csv.bz2 file (Big Data platform)\n",
    "- Bzip2 compressed Comma-separated values file (please check Help [#4](https://cosmohub.pic.es/help) if using Pandas DataFrame)"
   ]
  },
  {
   "cell_type": "code",
   "execution_count": 128,
   "metadata": {
    "collapsed": false
   },
   "outputs": [],
   "source": [
    "import bz2file\n",
    "import pandas as pd\n",
    "\n",
    "catalog_filename='/nfs/astro/jcarrete/sandbox/curso_python/1203.csv.bz2'\n",
    "#unique_gal_id_field = 'unique_gal_id'\n",
    "\n",
    "with bz2file.BZ2File(catalog_filename) as galaxy_fd:\n",
    "    galaxy_sample = pd.read_csv(galaxy_fd, sep=',', index_col = 'unique_gal_id', comment='#', na_values = '\\N')"
   ]
  },
  {
   "cell_type": "code",
   "execution_count": null,
   "metadata": {
    "collapsed": true
   },
   "outputs": [],
   "source": []
  },
  {
   "cell_type": "code",
   "execution_count": null,
   "metadata": {
    "collapsed": true
   },
   "outputs": [],
   "source": []
  }
 ],
 "metadata": {
  "kernelspec": {
   "display_name": "Python 2",
   "language": "python",
   "name": "python2"
  },
  "language_info": {
   "codemirror_mode": {
    "name": "ipython",
    "version": 2
   },
   "file_extension": ".py",
   "mimetype": "text/x-python",
   "name": "python",
   "nbconvert_exporter": "python",
   "pygments_lexer": "ipython2",
   "version": "2.7.11"
  }
 },
 "nbformat": 4,
 "nbformat_minor": 1
}
