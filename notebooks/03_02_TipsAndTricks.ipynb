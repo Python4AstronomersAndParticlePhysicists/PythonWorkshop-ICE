{
 "cells": [
  {
   "cell_type": "markdown",
   "metadata": {},
   "source": [
    "# Tips and tricks:\n",
    "\n",
    "1. [Comprehensions (list/dict/set)](#comprehensions)\n",
    "2. [String formatting](#string_formatting)\n",
    "3. [`lambda` functions](#lambda)\n",
    "4. [Variable length arguments (AKA `*args` and `**kwargs`)](#args)\n",
    "5. [Disquisitions on Truth and Falsehood](#logical)\n",
    "6. [Variable scope and lifetime](#scope)\n",
    "7. [Mutable vs immutable](#mutable)\n",
    "8. [Floating point arithmetic](#floating)\n",
    "9. [Decorators](#decorators)\n",
    "10. [Solutions](#solutions)\n"
   ]
  },
  {
   "cell_type": "markdown",
   "metadata": {},
   "source": [
    "<a id=comprehensions></a>\n",
    "## 1. Comprehensions\n",
    "Comprehensions provide a concise way of creating lists (dictionaries or sets). They do not necessarily improve performance with respect to traditional *for* loops. \n",
    "\n",
    "They reduce the amount of code and make it more readable."
   ]
  },
  {
   "cell_type": "code",
   "execution_count": null,
   "metadata": {
    "collapsed": true
   },
   "outputs": [],
   "source": [
    "N_SQUARES = 10\n",
    "\n",
    "# Don't do this!!!\n",
    "ugly_list = []\n",
    "for i in range(N_SQUARES):\n",
    "    ugly_list.append(i**2)\n",
    "print('ugly list = {}'.format(ugly_list))\n",
    "    \n",
    "# You can do the same in one line\n",
    "wonderful_list = [ i**2 for i in range(N_SQUARES) ]\n",
    "print('wonderful list = {}'.format(wonderful_list))"
   ]
  },
  {
   "cell_type": "markdown",
   "metadata": {},
   "source": [
    "### if clauses and embedded lists"
   ]
  },
  {
   "cell_type": "code",
   "execution_count": null,
   "metadata": {
    "collapsed": true
   },
   "outputs": [],
   "source": [
    "# List comprehensions can contain if clauses after the for clause\n",
    "even_list = [ i**2 for i in range(N_SQUARES) if i % 2 == 0]\n",
    "print('even list = {}'.format(even_list))\n",
    "\n",
    "# List comprehensions can be embedded within one another\n",
    "IN_LEN = 3\n",
    "embedded_list = [ [ j**2 for j in range(i, i + IN_LEN) ] for i in range(0, N_SQUARES, IN_LEN)]\n",
    "print('embedded list = {}'.format(embedded_list))"
   ]
  },
  {
   "cell_type": "markdown",
   "metadata": {},
   "source": [
    "### dictionary and set comprehensions"
   ]
  },
  {
   "cell_type": "code",
   "execution_count": null,
   "metadata": {
    "collapsed": true
   },
   "outputs": [],
   "source": [
    "# You can use a similar syntax to create dictionaries\n",
    "fancy_dict = {'square of {}'.format(i): i**2 for i in range(N_SQUARES)}\n",
    "print('fancy dict = {}'.format(fancy_dict))\n",
    "\n",
    "# and sets\n",
    "fancy_set = {i**2 for i in range(N_SQUARES)}\n",
    "print('fancy set = {}'.format(fancy_set))"
   ]
  },
  {
   "cell_type": "markdown",
   "metadata": {},
   "source": [
    "<a id='exercise_1_1'></a>\n",
    "### Exercise 1.1: Can you rewrite this into a single line of code?\n",
    "For the N lower integers, find all their divisors."
   ]
  },
  {
   "cell_type": "code",
   "execution_count": null,
   "metadata": {},
   "outputs": [],
   "source": [
    "N = 100\n",
    "all_divisors_list = []\n",
    "for i in range(1, N + 1):\n",
    "    divisors_list = []\n",
    "    for j in range(1, i + 1):\n",
    "        if i % j == 0:\n",
    "            divisors_list.append(j)\n",
    "    all_divisors_list.append(divisors_list)\n",
    "print('list of divisors = {}'.format(all_divisors_list))"
   ]
  },
  {
   "cell_type": "code",
   "execution_count": null,
   "metadata": {
    "collapsed": true
   },
   "outputs": [],
   "source": [
    "# Place your code here"
   ]
  },
  {
   "cell_type": "markdown",
   "metadata": {},
   "source": [
    "<a id=\"string_formatting\"></a>\n",
    "## 2. String formatting"
   ]
  },
  {
   "cell_type": "markdown",
   "metadata": {},
   "source": [
    "The built-in `str` type contains a `format` method that allows complex variable substitutions and value formatting"
   ]
  },
  {
   "cell_type": "code",
   "execution_count": null,
   "metadata": {},
   "outputs": [],
   "source": [
    "from datetime import datetime\n",
    "an_int = 1\n",
    "a_float = 0.123456\n",
    "a_datetime = datetime.now()\n",
    "a_string = 'foo'\n",
    "a_list = list('abcd')\n",
    "\n",
    "print('''This is a string formatting example:\n",
    "\n",
    "* An integer formatted to a fixed length string filled with leading 0s: {0:06}\n",
    "\n",
    "* A float formatted as a percentage with 2 decimal positions: {1:0.2%}, or as a float with 4 decimal places: {1:0.4f}\n",
    "\n",
    "* Extract attributes from an object: the year \"{2.year}\" and the month \"{2.month:02}\" in a date\n",
    "\n",
    "* Align a text filling it with hyphens\n",
    "    - to the left: \n",
    "        {3:-<32}\n",
    "    - to the right:\n",
    "        {3:->32}\n",
    "\n",
    "* Access the values in a list: {4[0]}, {4[2]}\n",
    "'''.format(an_int, a_float, a_datetime, a_string, a_list))"
   ]
  },
  {
   "cell_type": "markdown",
   "metadata": {},
   "source": [
    "You can identify the variables to be replaced by:\n",
    "* the index of the argument in the required arguments\n",
    "* the name of the argument in the keyword arguments"
   ]
  },
  {
   "cell_type": "code",
   "execution_count": null,
   "metadata": {
    "collapsed": true
   },
   "outputs": [],
   "source": [
    "# an example of arguments referenced by their index\n",
    "print('Example 1: 1st arg: {0}, 2nd arg: {1}, referencing the indexes'.format('a', 'b'))\n",
    "\n",
    "# Empty brackets are filled with a list of indexes:\n",
    "print('Example 2: 1st arg: {}, 2nd arg: {}, without referencing the indexes'.format('a', 'b'))\n",
    "\n",
    "# If an argument is not referenced in the string, it is ignored\n",
    "print('Example 3: 1st arg: {0}, 2nd arg: {1}, other arguments are ignored'.format('a', 'b', 'c', 'd', 'e', 'f'))\n",
    "\n",
    "# You can also use keyword arguments:\n",
    "print('Example 4: keyword arg \"a\": {a}, keyword arg \"b\": {b}, \"c\" is ignored'.format(a='a', b='b', c='c'))\n",
    "\n",
    "# You can also mix non-keyword and keyword arguments\n",
    "print('Example 5: 1st arg: {0}, keyword arg \"b\": {b}'.format('a', 'c', b='b', d='d'))"
   ]
  },
  {
   "cell_type": "markdown",
   "metadata": {},
   "source": [
    "<a id='exercise_2_1'></a>\n",
    "### Exercise 2.1: use string formatting to enhance the messaging\n",
    "Imagine we want to print a message informing about the CI of the estimation of a parameter `mu` in terms of the sample mean (`x`) and the error margin (`m`), with a significance level (`r`)."
   ]
  },
  {
   "cell_type": "code",
   "execution_count": null,
   "metadata": {},
   "outputs": [],
   "source": [
    "x = 12.3456789012345678901234567890\n",
    "m = 0.98765432109876543210987654321\n",
    "r = 0.05\n",
    "print('The CI for mu is {} \\xb1 {} with a significance level of {}'.format(x, m, r))"
   ]
  },
  {
   "cell_type": "markdown",
   "metadata": {},
   "source": [
    "You could enhance the readability of this message by formatting `x` and `m` to 2 decimal places and `r` as a percentage"
   ]
  },
  {
   "cell_type": "code",
   "execution_count": null,
   "metadata": {
    "collapsed": true
   },
   "outputs": [],
   "source": [
    "# Place your code here"
   ]
  },
  {
   "cell_type": "markdown",
   "metadata": {},
   "source": [
    "### Warning\n",
    "For those familiar with Python 2, be aware that the % operator is still available in Python 3 but \" will eventually be removed from the language\" so: "
   ]
  },
  {
   "cell_type": "code",
   "execution_count": null,
   "metadata": {
    "collapsed": true
   },
   "outputs": [],
   "source": [
    "moan = ''.join([x*5 for x in 'ARGH!'])\n",
    "print('In the future this may crash!!\\n\\n%s' %moan)"
   ]
  },
  {
   "cell_type": "markdown",
   "metadata": {},
   "source": [
    "<a id='lambda'></a>\n",
    "## 3. Lambda functions (or expression or operator!!??)\n",
    "Lambda expressions are used to create anonymous functions. The syntax of the a lambda expression is:\n",
    "```\n",
    "lambda arguments: expression\n",
    "```\n",
    "This expression yields an unnamed function object. This object behaves like a function object defined with:\n",
    "\n",
    "```def <something>(arguments):\n",
    "    return expression\n",
    "```"
   ]
  },
  {
   "cell_type": "code",
   "execution_count": null,
   "metadata": {
    "collapsed": true
   },
   "outputs": [],
   "source": [
    "# This expressions are equivalent\n",
    "sum_ = lambda x, y: x + y\n",
    "print('This is the result of the lambda function: {}'.format(sum_(1., 2.)))\n",
    "\n",
    "def sum__(x, y):\n",
    "    return x + y\n",
    "print('And this is the result of the standard defined function: {}'.format(sum__(1., 2.)))\n"
   ]
  },
  {
   "cell_type": "markdown",
   "metadata": {},
   "source": [
    "### When do you want to use `lambda`?\n",
    "In some cases, lambda expressions are good for making your code a bit cleaner. \n",
    "**When?**\n",
    ">When you want to a fairly **simple function** that is going to be **called once**.\n",
    "\n",
    "**simple** means that it contains **only one expression**.\n",
    "\n",
    "It is commonly used together with some functions that take another function as an argument: map, reduce, filter, ..."
   ]
  },
  {
   "cell_type": "code",
   "execution_count": null,
   "metadata": {
    "collapsed": true
   },
   "outputs": [],
   "source": [
    "# Back to the squares example, using lambda and the map function \n",
    "list_of_squares = list(map(lambda x: x**2, range(10))) # not a very good example ... better with comprehensions\n",
    "print(list_of_squares) "
   ]
  },
  {
   "cell_type": "code",
   "execution_count": null,
   "metadata": {
    "collapsed": true
   },
   "outputs": [],
   "source": [
    "# Let's try with another one: compute the sum of the squares of all the numbers up to 10\n",
    "import functools\n",
    "sum_of_list_of_squares = functools.reduce(lambda x, y: x + y, map(lambda x: x**2, range(10)))\n",
    "print(sum_of_list_of_squares)"
   ]
  },
  {
   "cell_type": "code",
   "execution_count": null,
   "metadata": {
    "collapsed": true
   },
   "outputs": [],
   "source": [
    "# Let's check if the result is ok\n",
    "sum_of_list_of_squares == sum(list_of_squares)"
   ]
  },
  {
   "cell_type": "markdown",
   "metadata": {},
   "source": [
    "<a id='exercise_3_1'></a>\n",
    "### Exercise 3.1: Use lambda with filter function\n",
    "Use a lambda function as an argument to the filter function to creat a string with all the vocals (upper and lower case) in *\"This course is ridiculous. I wish I had not enrolled\"*.\n",
    "\n",
    "You can type `filter?` to get some help.\n",
    "\n",
    "Be aware that the ouput of the `filter` function is an iterator, so you will have to manipulate it in order to turn it into a string."
   ]
  },
  {
   "cell_type": "code",
   "execution_count": null,
   "metadata": {
    "collapsed": true
   },
   "outputs": [],
   "source": [
    "# Place your code here"
   ]
  },
  {
   "cell_type": "markdown",
   "metadata": {},
   "source": [
    "<a id='args'></a>\n",
    "## 4. Variable length arguments (AKA `*args` and `**kwargs`)\n",
    "\n",
    "The special syntax, `*` and `**` in function definitions is used to pass a variable number of arguments to a function. So the definition of the function would look like this:\n",
    "\n",
    "```def foo(arg_1, arg_2, ..., *args, kwarg_1=kwval_1, kwarg_2=kwval_2, ..., **kwargs)```\n",
    "\n",
    "The single asterisk form (\\*) is used to pass a non-keyworded, variable-length argument list, and the double asterisk form (\\*\\*) is used to pass a keyworded, variable-length argument list.\n",
    "\n",
    "Inside the function definition, `*args` are tuples and `**kwargs` are dictionaries, so you can access them as usual.\n",
    "\n",
    "The names `args` and `kwargs` are not mandatory, but they are the most commonly used."
   ]
  },
  {
   "cell_type": "code",
   "execution_count": null,
   "metadata": {
    "collapsed": true
   },
   "outputs": [],
   "source": [
    "# An example\n",
    "def sample_function(*args, **kwargs):\n",
    "    \n",
    "    print('These are the arguments of my function:')\n",
    "    \n",
    "    for i, arg in enumerate(args):        \n",
    "        print('    Variable non keyword argument {}: {}'.format(i, arg))\n",
    "    \n",
    "    for karg, varg in kwargs.items():\n",
    "        print('    Variable keyword argument: {}:{}'.format(karg, varg))\n",
    "    \n",
    "    print('-'*36 + '\\n')\n",
    "\n",
    "sample_function(1, 2, kwarg_1=3, kwarg_2=4)\n",
    "sample_function(6, 5, 4, 3, 2, 1)"
   ]
  },
  {
   "cell_type": "markdown",
   "metadata": {},
   "source": [
    "You can also use the `*args` and `**kwargs` syntax in the function calls"
   ]
  },
  {
   "cell_type": "code",
   "execution_count": null,
   "metadata": {
    "collapsed": true
   },
   "outputs": [],
   "source": [
    "args = range(5)\n",
    "kwargs = {'kwarg_{}'.format(x): x for x in range(5)}\n",
    "sample_function(*args, **kwargs)"
   ]
  },
  {
   "cell_type": "markdown",
   "metadata": {},
   "source": [
    "You can mix fixed arguments and variable length arguments"
   ]
  },
  {
   "cell_type": "code",
   "execution_count": null,
   "metadata": {
    "collapsed": true
   },
   "outputs": [],
   "source": [
    "# We want to force arg1 and arg2\n",
    "def resample_function(arg1, arg2, *args, **kwargs):\n",
    "    return sample_function(arg1, arg2, *args, **kwargs)\n",
    "\n",
    "sample_function()\n",
    "resample_function(1, 2)\n",
    "resample_function()"
   ]
  },
  {
   "cell_type": "markdown",
   "metadata": {},
   "source": [
    "### When can/shall we use them?"
   ]
  },
  {
   "cell_type": "markdown",
   "metadata": {},
   "source": [
    "When we want to build a function with variable arguments length"
   ]
  },
  {
   "cell_type": "code",
   "execution_count": null,
   "metadata": {
    "collapsed": true
   },
   "outputs": [],
   "source": [
    "def multiplication(*args):\n",
    "    z = 1\n",
    "    for arg in args:\n",
    "        z *= arg\n",
    "    return z\n",
    "\n",
    "print(multiplication(1, 2, 3, 4, 5, 6, 7, 8, 9, 10))\n",
    "print(multiplication(0.1, 4, 6.7))"
   ]
  },
  {
   "cell_type": "markdown",
   "metadata": {},
   "source": [
    "Whenever we inherit a class and override some of the methods of inherited class, we should use `*args` and `**kwargs` and pass the received positional and keyword arguments to the superclass method.\n",
    "\n",
    "This could also apply to methods being \"re-used\" by other methods (if they are not contained in a class)."
   ]
  },
  {
   "cell_type": "code",
   "execution_count": null,
   "metadata": {
    "collapsed": true
   },
   "outputs": [],
   "source": [
    "class ValueLogger():\n",
    "    \n",
    "    def print_values(self, *values):\n",
    "    \n",
    "        print('These are my values:')\n",
    "        for value in values:\n",
    "            print('    {}'.format(value))\n",
    "        self.print_separator()\n",
    "    \n",
    "    def print_separator(self):\n",
    "        print('-'*64)\n",
    "\n",
    "\n",
    "class AdvancedValueLogger(ValueLogger):\n",
    "    \n",
    "    def print_values(self, *values):\n",
    "        if len(values) == 0:\n",
    "            print('There are no values')\n",
    "            self.print_separator()\n",
    "        else:\n",
    "            super().print_values(*values)\n",
    "\n",
    "primitive_logger =  ValueLogger()\n",
    "primitive_logger.print_values()\n",
    "primitive_logger.print_values(1, 2, 3, 4, 5)\n",
    "            \n",
    "            \n",
    "advanced_logger = AdvancedValueLogger()\n",
    "advanced_logger.print_values()"
   ]
  },
  {
   "cell_type": "markdown",
   "metadata": {},
   "source": [
    "<a id='logical'></a>\n",
    "## 5. Disquisitions on Truth and Falsehood"
   ]
  },
  {
   "cell_type": "markdown",
   "metadata": {},
   "source": [
    "### Boolean operators"
   ]
  },
  {
   "cell_type": "markdown",
   "metadata": {},
   "source": [
    "These are the Boolean operations, ordered by ascending priority:\n",
    "\n",
    "| Operation | Result | Notes |\n",
    "|:---:|:---:|:--- |\n",
    "|`x or y`|if x is false, then y, else x|This is a short-circuit operator, so it only evaluates the second argument if the first one is false.|\n",
    "|`x and y`|if x is false, then x, else y|This is a short-circuit operator, so it only evaluates the second argument if the first one is true.|\n",
    "|`not x`|if x is false, then True, else False|(not has a lower priority than non-Boolean operators, so not a == b is interpreted as not (a == b), and a == not b is a syntax error.)|\n",
    "\n",
    "\n",
    "\n"
   ]
  },
  {
   "cell_type": "code",
   "execution_count": null,
   "metadata": {
    "collapsed": true
   },
   "outputs": [],
   "source": [
    "ex_dict_1 = {'k_1': {'k_1_1': 1, 'k_1_2':2}, 'k_2': 3}\n",
    "\n",
    "# we can use this to simplify our code\n",
    "# we can rewrite this\n",
    "if ex_dict_1.get('k_1'):\n",
    "    if ex_dict_1['k_1'].get('k_1_1'):\n",
    "        print(ex_dict_1['k_1']['k_1_1'])\n",
    "    else:\n",
    "        print(False)\n",
    "else:\n",
    "    print(False)\n",
    "    \n",
    "# like this\n",
    "print(ex_dict_1.get('k_1') and ex_dict_1['k_1'].get('k_1_1') or False)\n"
   ]
  },
  {
   "cell_type": "markdown",
   "metadata": {},
   "source": [
    "<a id='exercise_5_1'></a>\n",
    "### Exercise 5.1: rewrite in a single line"
   ]
  },
  {
   "cell_type": "code",
   "execution_count": null,
   "metadata": {},
   "outputs": [],
   "source": [
    "ex_dict_2 = {'type': 'sum', 'data': [1, 2, 3, 4, 5] }\n",
    "\n",
    "# This code can be reformatted into a single line\n",
    "if ex_dict_2['type'] == 'raw':\n",
    "    res_1 = ex_dict_2['data']\n",
    "elif ex_dict_2['type'] == 'sum':\n",
    "    res_1 = sum(ex_dict_2['data'])\n",
    "else:\n",
    "    res_1 = None\n",
    "print(res_1)"
   ]
  },
  {
   "cell_type": "code",
   "execution_count": null,
   "metadata": {
    "collapsed": true
   },
   "outputs": [],
   "source": [
    "# Place your code here"
   ]
  },
  {
   "cell_type": "markdown",
   "metadata": {},
   "source": [
    "### Truth value testing\n",
    "Then tested the truth value of an object (inside an `if`, a `while`, or as a boolean operator), this values are considered false:\n",
    "\n",
    "* `None`\n",
    "* `False`\n",
    "* zero of any numeric type, for example, `0`, `0.0`, `0j`.\n",
    "* any empty sequence, for example, `''`, `()`, `[]`.\n",
    "* any empty mapping, for example, `{}`.\n",
    "* instances of user-defined classes, if the class defines a `__bool__()` or `__len__()` method, when that method returns the integer zero or bool value False\n",
    "\n",
    "All the other ones are considered true."
   ]
  },
  {
   "cell_type": "code",
   "execution_count": null,
   "metadata": {
    "collapsed": true
   },
   "outputs": [],
   "source": [
    "a = ''\n",
    "if a:\n",
    "    res = 'true'\n",
    "else:\n",
    "    res = 'false'\n",
    "print('{!r} has been interpreted as {}'.format(a, res))"
   ]
  },
  {
   "cell_type": "markdown",
   "metadata": {},
   "source": [
    "Be careful when handling this. It can lead to weird behaviours"
   ]
  },
  {
   "cell_type": "code",
   "execution_count": null,
   "metadata": {
    "collapsed": true
   },
   "outputs": [],
   "source": [
    "def sum_function(list_of_values):\n",
    "    if len(list_of_values) > 0:\n",
    "        return sum(list_of_values)\n",
    "\n",
    "def wrap_around_sum(list_of_values):\n",
    "    s = sum_function(list_of_values)\n",
    "    if not s:\n",
    "        print('error!!')\n",
    "    else:\n",
    "        print('Here is your result {}'.format(s))\n",
    "\n",
    "wrap_around_sum([1, 2, 3, 4, 5])\n",
    "    "
   ]
  },
  {
   "cell_type": "code",
   "execution_count": null,
   "metadata": {
    "collapsed": true
   },
   "outputs": [],
   "source": [
    "wrap_around_sum([-1, -3, 4])"
   ]
  },
  {
   "cell_type": "markdown",
   "metadata": {},
   "source": [
    "### Comparisons\n",
    "The difference between equality and identity"
   ]
  },
  {
   "cell_type": "code",
   "execution_count": null,
   "metadata": {
    "collapsed": true
   },
   "outputs": [],
   "source": [
    "a = 0\n",
    "b = 0.\n",
    "c = 4 - 4\n",
    "print('0 and 0. are equal: {}'.format(a == b))\n",
    "print('0 and 0. are not the same object: {}'.format(a is b))\n",
    "print('But two different instances of 0, point to the same object: {}'.format(a is c))"
   ]
  },
  {
   "cell_type": "code",
   "execution_count": null,
   "metadata": {
    "collapsed": true
   },
   "outputs": [],
   "source": [
    "class Dummy():\n",
    "    def __init__(self, val):\n",
    "        self.val = val\n",
    "\n",
    "a = Dummy(0)\n",
    "b = Dummy(0)\n",
    "c = 0\n",
    "print('Two instances of the same class are not equal: {}'.format(a == b))\n",
    "print('or two instances of different classes: {}'.format(a == c))"
   ]
  },
  {
   "cell_type": "code",
   "execution_count": null,
   "metadata": {
    "collapsed": true
   },
   "outputs": [],
   "source": [
    "# Unless we define the __eq__ method\n",
    "class NotSoDummy(Dummy):\n",
    "    def __eq__(self, other):\n",
    "        if other == self.val:\n",
    "            return True\n",
    "        else:\n",
    "            return False\n",
    "\n",
    "a = NotSoDummy(0)\n",
    "b = NotSoDummy(0)\n",
    "c = 0\n",
    "print('Now the two instances of the same class are tested equal: {}'.format(a == b))\n",
    "print('even the two of different classes: {}'.format(a == c))\n",
    "print('But they are not the same object: {}'.format(a is b))"
   ]
  },
  {
   "cell_type": "markdown",
   "metadata": {},
   "source": [
    "In the next example, `a` and `b` point to different memory locations, each of them containing the same information. Whereas `c`, points to the same location as `a`."
   ]
  },
  {
   "cell_type": "code",
   "execution_count": null,
   "metadata": {
    "collapsed": true
   },
   "outputs": [],
   "source": [
    "a = [1, 2, 3] \n",
    "b = [1, 2, 3]\n",
    "c = a\n",
    "print('a and b are equal: {}, but are they the same instance? {}'.format(a == b, a is b))\n",
    "print('but a and c are both equal: {}, and the same instance: {}'.format(a == c, a is c))"
   ]
  },
  {
   "cell_type": "markdown",
   "metadata": {},
   "source": [
    "When we modify a, we modify the memory location where it is pointing. So, when we modify `a`, we also modify `c`. In the other hand, nothing happens to `b`."
   ]
  },
  {
   "cell_type": "code",
   "execution_count": null,
   "metadata": {
    "collapsed": true
   },
   "outputs": [],
   "source": [
    "a[0] = 0\n",
    "print('c = {}'.format(c))\n",
    "print('b = {}'.format(b))"
   ]
  },
  {
   "cell_type": "code",
   "execution_count": null,
   "metadata": {
    "collapsed": true
   },
   "outputs": [],
   "source": [
    "# This behaviour does not happen with numbers though\n",
    "a_1 = 1\n",
    "a_2 = a_1\n",
    "a_1 = 2\n",
    "print(a_2)"
   ]
  },
  {
   "cell_type": "markdown",
   "metadata": {},
   "source": [
    "<a id='scope'></a>\n",
    "## 6. Variable scope and lifetime\n",
    "We call the part of a program where a variable is accessible its **scope**, and the duration for which the variable exists its **lifetime**."
   ]
  },
  {
   "cell_type": "markdown",
   "metadata": {},
   "source": [
    "### Global and local variables\n",
    "A variable which is defined in the main body of a file is called a **global** variable. It will be visible throughout the file, and also inside any file which imports that file. We should restrict their use. Only objects which are intended to be used globally, like functions and classes, should be put in the global namespace.\n",
    "\n",
    "A variable which is defined inside a function is **local** to that function. It is accessible from the point at which it is defined until the end of the function, and exists for as long as the function is executing."
   ]
  },
  {
   "cell_type": "code",
   "execution_count": null,
   "metadata": {
    "collapsed": true
   },
   "outputs": [],
   "source": [
    "global_var = 'foo'\n",
    "print('global outside: {}'.format(global_var))\n",
    "def my_func():\n",
    "    local_var = 'bar'\n",
    "    print('global inside: {}'.format(global_var))\n",
    "    print('local inside: {}'.format(local_var))\n",
    "my_func()\n",
    "print('local outside: {}'.format(local_var))"
   ]
  },
  {
   "cell_type": "markdown",
   "metadata": {},
   "source": [
    "You should not declare a local variable with the same name as a global one.\n",
    "\n",
    "In this case, within `my_func`, `global_var` is a local variable so, it can't be referenced before its declaration."
   ]
  },
  {
   "cell_type": "code",
   "execution_count": null,
   "metadata": {
    "collapsed": true
   },
   "outputs": [],
   "source": [
    "global_var = 'foo'\n",
    "\n",
    "def my_func():\n",
    "    print(global_var)\n",
    "    global_var = 'bar'\n",
    "\n",
    "my_func()\n"
   ]
  },
  {
   "cell_type": "markdown",
   "metadata": {},
   "source": [
    "If what you want to do is modify the global variable, you can use the `global` keyword at the beginning of the function body.\n",
    "\n",
    "\"You can use\" means \"you have the possibility\", but its a **VERY BAD PRACTICE**"
   ]
  },
  {
   "cell_type": "code",
   "execution_count": null,
   "metadata": {
    "collapsed": true
   },
   "outputs": [],
   "source": [
    "global_var = 'foo'\n",
    "\n",
    "def my_func():\n",
    "    global global_var\n",
    "    \n",
    "    print('original global variable value: {}'.format(global_var))\n",
    "    global_var = 'bar'\n",
    "    print('new global variable value: {}'.format(global_var))\n",
    "\n",
    "my_func()"
   ]
  },
  {
   "cell_type": "markdown",
   "metadata": {
    "collapsed": true
   },
   "source": [
    "### Class and Instance variables\n",
    "\n",
    "**class variables** are those attributes of a class that existed in the class definition. Class variables are shared by all instances of a class.\n",
    "\n",
    "**instance variables** are set when the class has been already instantiated and are unique to each instance."
   ]
  },
  {
   "cell_type": "code",
   "execution_count": null,
   "metadata": {
    "collapsed": true
   },
   "outputs": [],
   "source": [
    "class MySampleClass():\n",
    "    class_var = 'foo'\n",
    "    class_list = [] # wrong placement of a mutable object\n",
    "    \n",
    "    def __init__(self, instance_var):\n",
    "        self.instance_var = instance_var\n",
    "        self.instance_list = []"
   ]
  },
  {
   "cell_type": "code",
   "execution_count": null,
   "metadata": {
    "collapsed": true
   },
   "outputs": [],
   "source": [
    "inst_1 = MySampleClass('bar')\n",
    "inst_2 = MySampleClass('bar bar')\n",
    "print('Inst 1 - class var value: {}, instance var value: {}'.format(inst_1.class_var, inst_1.instance_var))\n",
    "print('Inst 2 - class var value: {}, instance var value: {}'.format(inst_2.class_var, inst_2.instance_var))"
   ]
  },
  {
   "cell_type": "markdown",
   "metadata": {},
   "source": [
    "Not using class and instance variables as detailed above, can lead to weird behaviors, specially with mutable objects"
   ]
  },
  {
   "cell_type": "code",
   "execution_count": null,
   "metadata": {
    "collapsed": true
   },
   "outputs": [],
   "source": [
    "inst_1.class_list.append('foo')\n",
    "inst_1.instance_list.append('foo')\n",
    "\n",
    "inst_2.class_list.append('bar')\n",
    "inst_2.instance_list.append('bar')\n",
    "print('class_list is shared by all instances. inst_1: {}, inst_2: {}'.format(inst_1.class_list, inst_2.class_list))\n",
    "print('instance_list is not: inst_1: {}, inst_2: {}'.format(inst_1.instance_list, inst_2.instance_list))"
   ]
  },
  {
   "cell_type": "markdown",
   "metadata": {},
   "source": [
    "<a id='mutable'></a>\n",
    "## 7. Mutable vs immutable\n",
    "An **immutable** object is an object whose state cannot be modified after it is created. This is in contrast to a **mutable** object, which can be modified after it is created.\n",
    "\n",
    "Main data types in python:\n",
    "\n",
    "| Immutable | Mutable |\n",
    "|:---:|:---:|\n",
    "|int|list|\n",
    "|float|dict|\n",
    "|decimal|set|\n",
    "|complex|custom class (by default)|\n",
    "|bool| |\n",
    "|string| |\n",
    "|tuple| |\n",
    "\n",
    "This implies that lists can be modified and tuples can not"
   ]
  },
  {
   "cell_type": "code",
   "execution_count": null,
   "metadata": {
    "collapsed": true
   },
   "outputs": [],
   "source": [
    "my_list = [1, 2, 3]\n",
    "my_tuple = (1, 2, 3)\n",
    "\n",
    "# we can modify a value in a list\n",
    "my_list[2] = 4\n",
    "# or we can extend it, drop some value, ...\n",
    "my_list.append(5)\n",
    "my_list.remove(1)\n",
    "print('my_list: {}'.format(my_list))\n",
    "\n",
    "# We can not do that with tuples\n",
    "my_tuple[2] = 4\n",
    "\n",
    "# Tuples don't have any append, remove,... methods"
   ]
  },
  {
   "cell_type": "markdown",
   "metadata": {},
   "source": [
    "### Why does mutability matter?\n",
    "\n",
    "As long as our code works, why should we matter about mutability?\n",
    "\n",
    "Let's see an example"
   ]
  },
  {
   "cell_type": "code",
   "execution_count": null,
   "metadata": {
    "collapsed": true
   },
   "outputs": [],
   "source": [
    "# We can do this:\n",
    "x = 'foo'\n",
    "print('old value of x: {}'.format(x))\n",
    "x += ' bar'\n",
    "print('new value of x: {}'.format(x))"
   ]
  },
  {
   "cell_type": "markdown",
   "metadata": {},
   "source": [
    "What have we done here? Have we modified the value of x?\n",
    "\n",
    "The answer is **NO**\n",
    "\n",
    "What we have done is:\n",
    "* create a string with value 'foo' and point `x` to it\n",
    "* create a string with value 'foo bar', point `x` to it and throw away the old one.\n",
    "\n",
    "In some cases this may add a lot of overhead because we are allocating and throwing lots of large objects.\n",
    "\n",
    "Let's see an example:"
   ]
  },
  {
   "cell_type": "code",
   "execution_count": null,
   "metadata": {},
   "outputs": [],
   "source": [
    "import csv\n",
    "import time\n",
    "with open('../resources/iris.csv', 'r') as f:\n",
    "    reader = csv.reader(f)\n",
    "    iris_lines = list(reader)\n",
    "\n",
    "iris_lines = iris_lines*100 # artificially increase the size of the data\n",
    "    \n",
    "print(iris_lines[:10])"
   ]
  },
  {
   "cell_type": "code",
   "execution_count": null,
   "metadata": {},
   "outputs": [],
   "source": [
    "# if we want to build a string with the concatenation of all the 'species' we could to this\n",
    "init = time.clock()\n",
    "species = iris_lines[1][4]\n",
    "for iris_line in iris_lines[2:]:\n",
    "    species += ',' + iris_line[4]\n",
    "end = time.clock()\n",
    "comp_time = end - init\n",
    "print('computation took {:0.8} seconds\\n'.format(comp_time))"
   ]
  },
  {
   "cell_type": "markdown",
   "metadata": {},
   "source": [
    "### Exercise 7.1\n",
    "Try to improve the performance by avoiding to allocate and drop so many objects\n",
    "\n",
    "**Hint:** use the `str.join` function (call `?str.join` to see its docstring)"
   ]
  },
  {
   "cell_type": "code",
   "execution_count": null,
   "metadata": {},
   "outputs": [],
   "source": [
    "# or this\n",
    "init = time.clock()\n",
    "# ------------------------------- put your code here --------------------------------------\n",
    "# new_species = .....\n",
    "end = time.clock()\n",
    "new_comp_time = end - init\n",
    "print('computation took {:0.8} seconds'.format(end - init))\n",
    "print('Is it the same? {}'.format(new_species == species))\n",
    "print('{:0.8} times faster!!!'.format(comp_time/new_comp_time))"
   ]
  },
  {
   "cell_type": "markdown",
   "metadata": {},
   "source": [
    "<a id='floating'></a>\n",
    "## 8. Floating point arithmetics\n",
    "\n",
    "As most of the programming languages (Java, C++, Fortran, Matlab, ...), python floats are mapped to IEEE-754 \"double precision\" format.\n",
    "\n",
    "In summary, a floating-point number ($f$) is rounded to its nearest binary representation with the expression: \n",
    "\n",
    "$$f \\simeq s\\frac{J}{2^N}$$\n",
    "\n",
    "Where:\n",
    "\n",
    "|  | Sign (s) | Exponent (N) | Fraction (J) |\n",
    "|:---:|:---:|:---:|:---:|\n",
    "| Number of bits | 1 | 11 | 52 |\n",
    "\n",
    "You can find more information about floating-point arithmetics in python in the [official python documentation](https://docs.python.org/3/tutorial/floatingpoint.html) and more details on the IEEE-754 standard in [Wikipedia](https://en.wikipedia.org/wiki/IEEE_754) and a [quite extense paper on the subject](https://ece.uwaterloo.ca/~dwharder/NumericalAnalysis/02Numerics/Double/paper.pdf)\n",
    "\n",
    "### Why do we show this?\n",
    "\n",
    "This implementation may lead to non-intuitive behaviors:"
   ]
  },
  {
   "cell_type": "markdown",
   "metadata": {
    "collapsed": true
   },
   "source": [
    "Some real numbers can not be exactly represented as a float, this may throw some rounding errors"
   ]
  },
  {
   "cell_type": "code",
   "execution_count": null,
   "metadata": {
    "collapsed": true
   },
   "outputs": [],
   "source": [
    "0.1 + 0.1 + 0.1 == 0.3"
   ]
  },
  {
   "cell_type": "markdown",
   "metadata": {},
   "source": [
    "Order of operations can matter"
   ]
  },
  {
   "cell_type": "code",
   "execution_count": null,
   "metadata": {
    "collapsed": true
   },
   "outputs": [],
   "source": [
    "b = 1e-16 + 1 - 1e-16\n",
    "c = 1e-16 - 1e-16 + 1\n",
    "b == c"
   ]
  },
  {
   "cell_type": "markdown",
   "metadata": {},
   "source": [
    "Since $\\pi$ can not be exactly represented it is not surprising that $sin(\\pi)$ is not $0$"
   ]
  },
  {
   "cell_type": "code",
   "execution_count": null,
   "metadata": {
    "collapsed": true
   },
   "outputs": [],
   "source": [
    "from math import sin, pi, sqrt\n",
    "sin(pi)"
   ]
  },
  {
   "cell_type": "markdown",
   "metadata": {},
   "source": [
    "Unexpected cancellation due to loss of precision"
   ]
  },
  {
   "cell_type": "code",
   "execution_count": null,
   "metadata": {
    "collapsed": true
   },
   "outputs": [],
   "source": [
    "sqrt(1e-16 + 1) - 1 == 0."
   ]
  },
  {
   "cell_type": "markdown",
   "metadata": {},
   "source": [
    "Operating numbers of very different magnitudes"
   ]
  },
  {
   "cell_type": "code",
   "execution_count": null,
   "metadata": {
    "collapsed": true
   },
   "outputs": [],
   "source": [
    "1e+12 + 1e-5 == 1e+12"
   ]
  },
  {
   "cell_type": "markdown",
   "metadata": {},
   "source": [
    "Overflow and underflow (reaching the maximum and minimum limits)"
   ]
  },
  {
   "cell_type": "markdown",
   "metadata": {},
   "source": [
    "**Overflow** Looking for the nth fibonacci number"
   ]
  },
  {
   "cell_type": "code",
   "execution_count": null,
   "metadata": {
    "collapsed": true
   },
   "outputs": [],
   "source": [
    "def fib(n):\n",
    "    return ((1. + sqrt(5.))**n - (1. - sqrt(5.))**n)/(2**n*sqrt(5.))\n",
    "print([int(fib(i)) for i in range(1, 20)])"
   ]
  },
  {
   "cell_type": "code",
   "execution_count": null,
   "metadata": {
    "collapsed": true
   },
   "outputs": [],
   "source": [
    "fib(700)"
   ]
  },
  {
   "cell_type": "markdown",
   "metadata": {},
   "source": [
    "Starting with version 3.1, when printing, python displays the shortest number that maps to the same floating-point representation."
   ]
  },
  {
   "cell_type": "code",
   "execution_count": null,
   "metadata": {
    "collapsed": true
   },
   "outputs": [],
   "source": [
    "# This numbers have all the same binary representation\n",
    "a = 0.1\n",
    "b = 0.10000000000000000001\n",
    "c = 0.1000000000000000055511151231257827021181583404541015625\n",
    "print(a, b, c)"
   ]
  },
  {
   "cell_type": "code",
   "execution_count": null,
   "metadata": {
    "collapsed": true
   },
   "outputs": [],
   "source": [
    "# However, they are not exactly 0.1\n",
    "print('{:0.24} {:0.24} {:0.24}'.format(a, b, c))"
   ]
  },
  {
   "cell_type": "markdown",
   "metadata": {},
   "source": [
    "### Some hints"
   ]
  },
  {
   "cell_type": "markdown",
   "metadata": {},
   "source": [
    "Use some error margin if you have to check for equality between two floats.\n",
    "\n",
    "In Python 3.5, the math.is_close function was introduced, which does exactly that:\n",
    "\n",
    "```python\n",
    "def math.isclose(a, b, *, rel_tol=1e-09, abs_tol=0.0):```\n"
   ]
  },
  {
   "cell_type": "code",
   "execution_count": null,
   "metadata": {
    "collapsed": true
   },
   "outputs": [],
   "source": [
    "from math import isclose, sin, pi\n",
    "print(isclose(0.1 + 0.1 + 0.1, 0.3))\n",
    "print(isclose(sin(pi), 0., abs_tol=1e-09))"
   ]
  },
  {
   "cell_type": "markdown",
   "metadata": {},
   "source": [
    "In case you really need correctly-rounded decimal floating point arithmetic, check the built-in [decimal](https://docs.python.org/3/library/decimal.html) library."
   ]
  },
  {
   "cell_type": "code",
   "execution_count": null,
   "metadata": {
    "collapsed": true
   },
   "outputs": [],
   "source": [
    "from decimal import Decimal\n",
    "a = Decimal(1)\n",
    "b = Decimal(10)\n",
    "c = Decimal(3)\n",
    "print(a/b, c/b)"
   ]
  },
  {
   "cell_type": "code",
   "execution_count": null,
   "metadata": {
    "collapsed": true
   },
   "outputs": [],
   "source": [
    "a/b + a/b + a/b == c/b"
   ]
  },
  {
   "cell_type": "markdown",
   "metadata": {},
   "source": [
    "<a id='decorators'></a>\n",
    "## 9. Decorators\n",
    "\n",
    "Let's see what [the official doc](https://docs.python.org/3/glossary.html#term-decorator) says about decorators:\n",
    "\n",
    "----\n",
    "\n",
    "A function returning another function, usually applied as a function transformation using the @wrapper syntax. Common examples for decorators are `classmethod()` and `staticmethod()`.\n",
    "\n",
    "The decorator syntax is merely syntactic sugar, the following two function definitions are semantically equivalent:\n",
    "\n",
    "```python\n",
    "def f(...):\n",
    "    ...\n",
    "f = staticmethod(f)\n",
    "\n",
    "@staticmethod\n",
    "def f(...):\n",
    "    ...\n",
    "```\n",
    "The same concept exists for classes, but is less commonly used there. See the documentation for function definitions and class definitions for more about decorators.\n"
   ]
  },
  {
   "cell_type": "markdown",
   "metadata": {},
   "source": [
    "#### Example 9.1\n",
    "Let's see the simplest possible example (not simple though)"
   ]
  },
  {
   "cell_type": "code",
   "execution_count": null,
   "metadata": {
    "collapsed": true
   },
   "outputs": [],
   "source": [
    "def p_a_d(some_func):\n",
    "   def wrapped(*args, **kwargs):\n",
    "       print(\"going to run function '{}' with arguments: {}, {}\".format(some_func.__name__, args, kwargs))\n",
    "       res = some_func(*args, **kwargs)\n",
    "       print(\"the result of '{}' is: {}\".format(some_func.__name__, res))\n",
    "   \n",
    "   return wrapped\n",
    "\n",
    "@p_a_d\n",
    "def dummy(i):\n",
    "   return i*10\n",
    "\n",
    "dummy(1)"
   ]
  },
  {
   "cell_type": "markdown",
   "metadata": {},
   "source": [
    "Remember we are doing: `dummy = p_a_d(dummy)`\n",
    "\n",
    "So calling: \n",
    "\n",
    "```python\n",
    "dummy(1)\n",
    "``` \n",
    "\n",
    "is the same as:\n",
    "\n",
    "```python\n",
    "wrapped_func = p_a_d(dummy)\n",
    "wrapped_func(1)\n",
    "```"
   ]
  },
  {
   "cell_type": "markdown",
   "metadata": {},
   "source": [
    "#### Example 9.2\n",
    "Let's see a more useful (and complicated) example.\n",
    "\n",
    "We will implement a simple authentication system.\n",
    "\n",
    "We want to run the functions in our API only if the user is correctly authenticated. Let's assume that all the functions in our API have a `request` dictionary as input. The authentication data is stored in the `user` and `token` keys of the request. And we need to check the autenticity of this information against the information in our backend before running the function.\n",
    "\n",
    "We could implement it as follows"
   ]
  },
  {
   "cell_type": "code",
   "execution_count": null,
   "metadata": {
    "collapsed": true
   },
   "outputs": [],
   "source": [
    "auth_tokens = {'user1': 'CLb3MML7GEXoaElk0DFtxuS0uhzYsDOHmdsj',\n",
    "              'user2': 'uuR4QxFQtwMp5RCVEZTh93lAeLnV1sQF1ZTk'}\n",
    "\n",
    "def check_authentication(request):\n",
    "    ''' Check if the token in the request correspond to the one stored'''\n",
    "    user = request.get('user')\n",
    "    token = request.get('token')\n",
    "    \n",
    "    if auth_tokens.get(user) and auth_tokens[user] == token:\n",
    "        return True\n",
    "    else:\n",
    "        return False\n",
    "\n",
    "def authenticate(func):\n",
    "    '''Decorator to add authentication checking'''\n",
    "    def authenticate_and_call(request):\n",
    "        if not check_authentication(request): \n",
    "            raise Exception('Authentication Failed.')\n",
    "        return func(request)\n",
    "    return authenticate_and_call"
   ]
  },
  {
   "cell_type": "markdown",
   "metadata": {},
   "source": [
    "![GoToHellYouBastard](../resources/monkey-funny.jpg)"
   ]
  },
  {
   "cell_type": "markdown",
   "metadata": {},
   "source": [
    "It may look complicated (and it is), but don't panic. It's the same as in the previous example.\n",
    "\n",
    "We would use the decorator like this:\n",
    "```python\n",
    "@authenticate\n",
    "def some_func(request):\n",
    "    ...\n",
    "```\n",
    "and call the decorated function: `some_func(request)`\n",
    "\n",
    "\n",
    "Keep in mind that what you are doing is this:\n",
    "```python\n",
    "def some_func(request):\n",
    "    ...\n",
    "    \n",
    "some_func = authenticate(some_func)\n",
    "```\n",
    "so `some_func(request)` is the same as `authenticate(some_func)(request)`\n",
    "\n",
    "We create a dummy function to test the authentication decorator"
   ]
  },
  {
   "cell_type": "code",
   "execution_count": null,
   "metadata": {
    "collapsed": true
   },
   "outputs": [],
   "source": [
    "@authenticate\n",
    "def dummy_sum(request):\n",
    "    return request.get('param1', 0.0) + request.get('param2', 0.0)"
   ]
  },
  {
   "cell_type": "markdown",
   "metadata": {},
   "source": [
    "Let's see what happens if the authentication **is not** correct"
   ]
  },
  {
   "cell_type": "code",
   "execution_count": null,
   "metadata": {
    "collapsed": true
   },
   "outputs": [],
   "source": [
    "dummy_sum({'user': 'user1', 'token': '7jHeWjvt5qAn281eLHbnwKApay2rggAlrbOk', 'param1': 2.0, 'param2': 3.0})"
   ]
  },
  {
   "cell_type": "markdown",
   "metadata": {},
   "source": [
    "And what happens if the authentication **is** correct"
   ]
  },
  {
   "cell_type": "code",
   "execution_count": null,
   "metadata": {
    "collapsed": true
   },
   "outputs": [],
   "source": [
    "dummy_sum({'user': 'user1', 'token': 'CLb3MML7GEXoaElk0DFtxuS0uhzYsDOHmdsj', 'param1': 2.0, 'param2': 3.0})"
   ]
  },
  {
   "cell_type": "markdown",
   "metadata": {},
   "source": [
    "#### Example 9.3\n",
    "\n",
    "In some cases you may want a decorator that accepts input arguments.\n",
    "\n",
    "For example, we can implement a decorator to check if the input arguments of a function have the desired type. Resulting in something like this:\n",
    "```python\n",
    "@accepts(type1, type2, ...)\n",
    "def some_func(arg1, arg2, ...):\n",
    "    ...\n",
    "```\n",
    "\n",
    "That would be called: `some_func(arg1, arg2, ...)`"
   ]
  },
  {
   "cell_type": "code",
   "execution_count": null,
   "metadata": {
    "collapsed": true
   },
   "outputs": [],
   "source": [
    "def accepts(*wrapper_args):\n",
    "    def wrapper(f):\n",
    "        def check_input_and_call(*func_args):\n",
    "            for func_arg, wrapper_arg in zip(func_args, wrapper_args):\n",
    "                if type(func_arg) != wrapper_arg:\n",
    "                    raise Exception('wrong type for argument {}'.format(func_arg))\n",
    "            return f(*func_args)\n",
    "        return check_input_and_call\n",
    "    return wrapper"
   ]
  },
  {
   "cell_type": "markdown",
   "metadata": {},
   "source": [
    "![ImGoingToJumpOutTheWindow](../resources/monkey-finger.jpg)"
   ]
  },
  {
   "cell_type": "markdown",
   "metadata": {},
   "source": [
    "Ok, now you can panic a little bit.\n",
    "\n",
    "Remember the definition of decorator. What you are doing is this:\n",
    "\n",
    "`some_func = accepts(type1, type2, ...)(some_func)`\n",
    "\n",
    "So `some_func(arg1, arg2, ...)` is the same as `accepts(type1, type2, ...)(some_func)(arg1, arg2, ...)`\n",
    "\n",
    "Pffffffffff\n",
    "\n",
    "We apply this decorator to a function that calculates the root of a float. We want the degree of the root to be an integer "
   ]
  },
  {
   "cell_type": "code",
   "execution_count": null,
   "metadata": {
    "collapsed": true
   },
   "outputs": [],
   "source": [
    "@accepts(float, int)\n",
    "def compute_root(base, degree):\n",
    "    return base**(1./float(degree))"
   ]
  },
  {
   "cell_type": "code",
   "execution_count": null,
   "metadata": {
    "collapsed": true
   },
   "outputs": [],
   "source": [
    "compute_root(4., 2.)"
   ]
  },
  {
   "cell_type": "code",
   "execution_count": null,
   "metadata": {
    "collapsed": true
   },
   "outputs": [],
   "source": [
    "compute_root(4., 2)"
   ]
  },
  {
   "cell_type": "markdown",
   "metadata": {},
   "source": [
    "## Exercise solutions"
   ]
  },
  {
   "cell_type": "markdown",
   "metadata": {},
   "source": [
    "Solution to [Exercise 1.1](#exercise_1_1)"
   ]
  },
  {
   "cell_type": "code",
   "execution_count": null,
   "metadata": {},
   "outputs": [],
   "source": [
    "N = 100\n",
    "new_divisors_list = [[j for j in range(1, i + 1) if i % j == 0] for i in range(1, N + 1)]\n",
    "print('The two lists are equal: {}'.format(all_divisors_list == new_divisors_list))"
   ]
  },
  {
   "cell_type": "markdown",
   "metadata": {},
   "source": [
    "Solution to [Exercise 2.1](#exercise_2_1)"
   ]
  },
  {
   "cell_type": "code",
   "execution_count": null,
   "metadata": {},
   "outputs": [],
   "source": [
    "print('The CI for mu is {:.2f} \\xb1 {:.2f} with a significance level of {:.0%}'.format(x, m, r))"
   ]
  },
  {
   "cell_type": "markdown",
   "metadata": {},
   "source": [
    "Solution to [Exercise 3.1](#exercise_3_1)"
   ]
  },
  {
   "cell_type": "code",
   "execution_count": null,
   "metadata": {},
   "outputs": [],
   "source": [
    "s = 'This course is ridiculous. I wish I had not enrolled'\n",
    "print(''.join(filter(lambda x: x in 'aeiouAEIOU', s)))"
   ]
  },
  {
   "cell_type": "markdown",
   "metadata": {},
   "source": [
    "Solution to [Exercise 5.1](#exercise_5_1)"
   ]
  },
  {
   "cell_type": "code",
   "execution_count": null,
   "metadata": {},
   "outputs": [],
   "source": [
    "(ex_dict_2['type'] == 'raw' and ex_dict_2['data']) or (ex_dict_2['type'] == 'sum' and sum(ex_dict_2['data'])) or None"
   ]
  },
  {
   "cell_type": "markdown",
   "metadata": {},
   "source": [
    "Solution to [Exercise 7.1](#exercise_7_1)"
   ]
  },
  {
   "cell_type": "code",
   "execution_count": null,
   "metadata": {
    "collapsed": true
   },
   "outputs": [],
   "source": [
    "new_species = ','.join([l[4] for l in iris_lines[1:]])"
   ]
  }
 ],
 "metadata": {
  "kernelspec": {
   "display_name": "Python 3",
   "language": "python",
   "name": "python3"
  },
  "language_info": {
   "codemirror_mode": {
    "name": "ipython",
    "version": 3
   },
   "file_extension": ".py",
   "mimetype": "text/x-python",
   "name": "python",
   "nbconvert_exporter": "python",
   "pygments_lexer": "ipython3",
   "version": "3.5.2"
  }
 },
 "nbformat": 4,
 "nbformat_minor": 2
}
