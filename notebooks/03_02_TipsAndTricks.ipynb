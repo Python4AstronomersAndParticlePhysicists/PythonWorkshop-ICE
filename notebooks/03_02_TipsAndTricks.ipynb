{
 "cells": [
  {
   "cell_type": "markdown",
   "metadata": {},
   "source": [
    "# Tips and tricks:\n",
    "\n",
    "1. [Comprehensions (list/dict/set)](#comprehensions)\n",
    "2. [String formatting](#string_formatting)\n",
    "3. [`lambda` functions](#lambda)\n",
    "4. [Variable length arguments (AKA `*args` and `**kwargs`)](#args)\n",
    "5. [Disquisitions on Truth and Falsehood](#logical)\n",
    "6. [Variable scope and lifetime](#scope)\n",
    "7. [Mutable vs immutable](#mutable)\n",
    "8. [Floating point arithmetic](#floating)\n",
    "9. [Decorators](#decorators)\n"
   ]
  },
  {
   "cell_type": "markdown",
   "metadata": {},
   "source": [
    "## Some imports"
   ]
  },
  {
   "cell_type": "code",
   "execution_count": 127,
   "metadata": {
    "collapsed": true
   },
   "outputs": [],
   "source": [
    "from datetime import datetime\n",
    "import functools"
   ]
  },
  {
   "cell_type": "markdown",
   "metadata": {},
   "source": [
    "<a id=comprehensions></a>\n",
    "## 1. Comprehensions\n",
    "List comprehensions provide a concise way of creating lists (dictionaries or sets). They do not necessarily improve performance with respect to traditional *for* loops. \n",
    "\n",
    "They reduce the amount of code and make it more readable."
   ]
  },
  {
   "cell_type": "code",
   "execution_count": 5,
   "metadata": {},
   "outputs": [
    {
     "name": "stdout",
     "output_type": "stream",
     "text": [
      "ugly list = [0, 1, 4, 9, 16, 25, 36, 49, 64, 81]\n",
      "wonderful list = [0, 1, 4, 9, 16, 25, 36, 49, 64, 81]\n"
     ]
    }
   ],
   "source": [
    "N_SQUARES = 10\n",
    "\n",
    "# Don't do this!!!\n",
    "ugly_list = []\n",
    "for i in range(N_SQUARES):\n",
    "    ugly_list.append(i**2)\n",
    "print('ugly list = {}'.format(ugly_list))\n",
    "    \n",
    "# You can do the same in one line\n",
    "wonderful_list = [ i**2 for i in range(N_SQUARES) ]\n",
    "print('wonderful list = {}'.format(wonderful_list))"
   ]
  },
  {
   "cell_type": "markdown",
   "metadata": {},
   "source": [
    "### if clauses and embedded lists"
   ]
  },
  {
   "cell_type": "code",
   "execution_count": 15,
   "metadata": {},
   "outputs": [
    {
     "name": "stdout",
     "output_type": "stream",
     "text": [
      "even list = [0, 4, 16, 36, 64]\n",
      "embedded list = [[0, 1, 4], [9, 16, 25], [36, 49, 64], [81, 100, 121]]\n"
     ]
    }
   ],
   "source": [
    "# List comprehensions can contain if clauses after the for clause\n",
    "even_list = [ i**2 for i in range(N_SQUARES) if i % 2 == 0]\n",
    "print('even list = {}'.format(even_list))\n",
    "\n",
    "# List comprehensions can be embedded within one another\n",
    "IN_LEN = 3\n",
    "embedded_list = [ [ j**2 for j in range(i, i + IN_LEN) ] for i in range(0, N_SQUARES, IN_LEN)]\n",
    "print('embedded list = {}'.format(embedded_list))"
   ]
  },
  {
   "cell_type": "markdown",
   "metadata": {},
   "source": [
    "### dictionary and set comprehensions"
   ]
  },
  {
   "cell_type": "code",
   "execution_count": 16,
   "metadata": {},
   "outputs": [
    {
     "name": "stdout",
     "output_type": "stream",
     "text": [
      "fancy dict = {'square of 5': 25, 'square of 1': 1, 'square of 7': 49, 'square of 0': 0, 'square of 8': 64, 'square of 4': 16, 'square of 3': 9, 'square of 2': 4, 'square of 6': 36, 'square of 9': 81}\n",
      "fancy set = {0, 1, 64, 4, 36, 9, 16, 49, 81, 25}\n"
     ]
    }
   ],
   "source": [
    "# You can use a similar syntax to create dictionaries\n",
    "fancy_dict = {'square of {}'.format(i): i**2 for i in range(N_SQUARES)}\n",
    "print('fancy dict = {}'.format(fancy_dict))\n",
    "\n",
    "# and sets\n",
    "fancy_set = {i**2 for i in range(N_SQUARES)}\n",
    "print('fancy set = {}'.format(fancy_set))"
   ]
  },
  {
   "cell_type": "markdown",
   "metadata": {},
   "source": [
    "### Exercise: Can you rewrite this into a single line of code?\n",
    "For the N lower integers, find all their divisors."
   ]
  },
  {
   "cell_type": "code",
   "execution_count": 18,
   "metadata": {},
   "outputs": [
    {
     "name": "stdout",
     "output_type": "stream",
     "text": [
      "list of divisors = [[1], [1, 2], [1, 3], [1, 2, 4], [1, 5], [1, 2, 3, 6], [1, 7], [1, 2, 4, 8], [1, 3, 9], [1, 2, 5, 10], [1, 11], [1, 2, 3, 4, 6, 12], [1, 13], [1, 2, 7, 14], [1, 3, 5, 15], [1, 2, 4, 8, 16], [1, 17], [1, 2, 3, 6, 9, 18], [1, 19], [1, 2, 4, 5, 10, 20], [1, 3, 7, 21], [1, 2, 11, 22], [1, 23], [1, 2, 3, 4, 6, 8, 12, 24], [1, 5, 25], [1, 2, 13, 26], [1, 3, 9, 27], [1, 2, 4, 7, 14, 28], [1, 29], [1, 2, 3, 5, 6, 10, 15, 30], [1, 31], [1, 2, 4, 8, 16, 32], [1, 3, 11, 33], [1, 2, 17, 34], [1, 5, 7, 35], [1, 2, 3, 4, 6, 9, 12, 18, 36], [1, 37], [1, 2, 19, 38], [1, 3, 13, 39], [1, 2, 4, 5, 8, 10, 20, 40], [1, 41], [1, 2, 3, 6, 7, 14, 21, 42], [1, 43], [1, 2, 4, 11, 22, 44], [1, 3, 5, 9, 15, 45], [1, 2, 23, 46], [1, 47], [1, 2, 3, 4, 6, 8, 12, 16, 24, 48], [1, 7, 49], [1, 2, 5, 10, 25, 50], [1, 3, 17, 51], [1, 2, 4, 13, 26, 52], [1, 53], [1, 2, 3, 6, 9, 18, 27, 54], [1, 5, 11, 55], [1, 2, 4, 7, 8, 14, 28, 56], [1, 3, 19, 57], [1, 2, 29, 58], [1, 59], [1, 2, 3, 4, 5, 6, 10, 12, 15, 20, 30, 60], [1, 61], [1, 2, 31, 62], [1, 3, 7, 9, 21, 63], [1, 2, 4, 8, 16, 32, 64], [1, 5, 13, 65], [1, 2, 3, 6, 11, 22, 33, 66], [1, 67], [1, 2, 4, 17, 34, 68], [1, 3, 23, 69], [1, 2, 5, 7, 10, 14, 35, 70], [1, 71], [1, 2, 3, 4, 6, 8, 9, 12, 18, 24, 36, 72], [1, 73], [1, 2, 37, 74], [1, 3, 5, 15, 25, 75], [1, 2, 4, 19, 38, 76], [1, 7, 11, 77], [1, 2, 3, 6, 13, 26, 39, 78], [1, 79], [1, 2, 4, 5, 8, 10, 16, 20, 40, 80], [1, 3, 9, 27, 81], [1, 2, 41, 82], [1, 83], [1, 2, 3, 4, 6, 7, 12, 14, 21, 28, 42, 84], [1, 5, 17, 85], [1, 2, 43, 86], [1, 3, 29, 87], [1, 2, 4, 8, 11, 22, 44, 88], [1, 89], [1, 2, 3, 5, 6, 9, 10, 15, 18, 30, 45, 90], [1, 7, 13, 91], [1, 2, 4, 23, 46, 92], [1, 3, 31, 93], [1, 2, 47, 94], [1, 5, 19, 95], [1, 2, 3, 4, 6, 8, 12, 16, 24, 32, 48, 96], [1, 97], [1, 2, 7, 14, 49, 98], [1, 3, 9, 11, 33, 99], [1, 2, 4, 5, 10, 20, 25, 50, 100]]\n"
     ]
    }
   ],
   "source": [
    "N = 100\n",
    "all_divisors_list = []\n",
    "for i in range(1, N + 1):\n",
    "    divisors_list = []\n",
    "    for j in range(1, i + 1):\n",
    "        if i % j == 0:\n",
    "            divisors_list.append(j)\n",
    "    all_divisors_list.append(divisors_list)\n",
    "print('list of divisors = {}'.format(all_divisors_list))"
   ]
  },
  {
   "cell_type": "code",
   "execution_count": null,
   "metadata": {
    "collapsed": true
   },
   "outputs": [],
   "source": [
    "# Place your code here"
   ]
  },
  {
   "cell_type": "markdown",
   "metadata": {},
   "source": [
    "<a id=\"string_formatting\"></a>\n",
    "## 2. String formatting"
   ]
  },
  {
   "cell_type": "markdown",
   "metadata": {},
   "source": [
    "The built-in `str` type contains a `format` method that allows complex variable substitutions and value formatting"
   ]
  },
  {
   "cell_type": "code",
   "execution_count": 97,
   "metadata": {},
   "outputs": [
    {
     "name": "stdout",
     "output_type": "stream",
     "text": [
      "This is a string formatting example:\n",
      "\n",
      "* An integer formatted to a fixed length string filled with leading 0s: 000001\n",
      "\n",
      "* A float formatted as a percentage with 2 decimal positions: 12.35%\n",
      "\n",
      "* Extract attributes from an object: the year \"2017\" and the month \"07\" in a date\n",
      "\n",
      "* Align a text filling it with hyphens\n",
      "    - to the left: \n",
      "        foo-----------------------------\n",
      "    - to the right:\n",
      "        -----------------------------foo\n",
      "\n",
      "* Access the values in a list: a, c\n",
      "\n"
     ]
    }
   ],
   "source": [
    "a = 1\n",
    "b = 0.123456\n",
    "c = datetime.now()\n",
    "d = 'foo'\n",
    "e = list('abcd')\n",
    "\n",
    "print('''This is a string formatting example:\n",
    "\n",
    "* An integer formatted to a fixed length string filled with leading 0s: {0:06}\n",
    "\n",
    "* A float formatted as a percentage with 2 decimal positions: {1:0.2%}\n",
    "\n",
    "* Extract attributes from an object: the year \"{2.year}\" and the month \"{2.month:02}\" in a date\n",
    "\n",
    "* Align a text filling it with hyphens\n",
    "    - to the left: \n",
    "        {3:-<32}\n",
    "    - to the right:\n",
    "        {3:->32}\n",
    "\n",
    "* Access the values in a list: {4[0]}, {4[2]}\n",
    "'''.format(a, b, c, d, e))"
   ]
  },
  {
   "cell_type": "markdown",
   "metadata": {},
   "source": [
    "You can identify the variables to be replaced by:\n",
    "* the index of the argument in the required arguments\n",
    "* the name of the argument in the keyword arguments"
   ]
  },
  {
   "cell_type": "code",
   "execution_count": 89,
   "metadata": {},
   "outputs": [
    {
     "name": "stdout",
     "output_type": "stream",
     "text": [
      "Example 1: var 1: a, var 2: b\n",
      "Example 2: var 1: a, var 2: b\n",
      "Example 3: var 1: a, var 2: b\n",
      "Example 4: var 1: a, var 2: b\n",
      "Example 5: var 1: a, var 2: b\n"
     ]
    }
   ],
   "source": [
    "# an example of arguments referenced by their index\n",
    "print('Example 1: var 1: {0}, var 2: {1}'.format('a', 'b'))\n",
    "\n",
    "# If an argument is not referenced in the string, it is ignored\n",
    "print('Example 2: var 1: {0}, var 2: {1}'.format('a', 'b', 'c', 'd', 'e', 'f'))\n",
    "\n",
    "# Empty brackets are filled with a list of indexes:\n",
    "print('Example 3: var 1: {}, var 2: {}'.format('a', 'b'))\n",
    "\n",
    "# You can also use keyword arguments:\n",
    "print('Example 4: var 1: {a}, var 2: {b}'.format(a='a', b='b', c='c'))\n",
    "\n",
    "# You can also mix non-keyword and keyword arguments\n",
    "print('Example 5: var 1: {0}, var 2: {b}'.format('a', 'c', b='b', d='d'))"
   ]
  },
  {
   "cell_type": "markdown",
   "metadata": {},
   "source": [
    "### Exercise: use string formatting to enhance the messaging\n",
    "Imagine we want to print a message informing about the CI of the estimation of a parameter `mu` in terms of the sample mean (`x`) and the error margin (`m`), with a significance level (`r`)."
   ]
  },
  {
   "cell_type": "code",
   "execution_count": 106,
   "metadata": {},
   "outputs": [
    {
     "name": "stdout",
     "output_type": "stream",
     "text": [
      "The CI for mu is 12.345678901234567 ± 0.9876543210987654 with a significance level of 0.05\n"
     ]
    }
   ],
   "source": [
    "x = 12.3456789012345678901234567890\n",
    "m = 0.98765432109876543210987654321\n",
    "r = 0.05\n",
    "print('The CI for mu is {} \\xb1 {} with a significance level of {}'.format(x, m, r))"
   ]
  },
  {
   "cell_type": "markdown",
   "metadata": {},
   "source": [
    "You could enhance the readability of this message by formatting `x` and `m` to 2 decimal places and `r` as a percentage"
   ]
  },
  {
   "cell_type": "code",
   "execution_count": 107,
   "metadata": {
    "collapsed": true
   },
   "outputs": [],
   "source": [
    "# Place your code here"
   ]
  },
  {
   "cell_type": "markdown",
   "metadata": {},
   "source": [
    "### Warning\n",
    "For those familiar with Python 2, be aware that the % operator is still available in Python 3 but \" will eventually be removed from the language\" so: "
   ]
  },
  {
   "cell_type": "code",
   "execution_count": 113,
   "metadata": {},
   "outputs": [
    {
     "name": "stdout",
     "output_type": "stream",
     "text": [
      "In the future this may crash!!\n",
      "\n",
      "AAAAARRRRRGGGGGHHHHH!!!!!\n"
     ]
    }
   ],
   "source": [
    "moan = ''.join([x*5 for x in 'ARGH!'])\n",
    "print('In the future this may crash!!\\n\\n%s' %moan)"
   ]
  },
  {
   "cell_type": "markdown",
   "metadata": {},
   "source": [
    "## 3. Lambda functions (or expression or operator!!??)\n",
    "Lambda expressions are used to create anonymous functions. The syntax of the a lambda expression is:\n",
    "```\n",
    "lambda arguments: expression\n",
    "```\n",
    "This expression yields an unnamed function object. This object behaves like a function object defined with:\n",
    "\n",
    "```def <something>(arguments):\n",
    "    return expression\n",
    "```"
   ]
  },
  {
   "cell_type": "code",
   "execution_count": 119,
   "metadata": {},
   "outputs": [
    {
     "name": "stdout",
     "output_type": "stream",
     "text": [
      "This is the result of the lambda function: 3.0\n",
      "And this is the result of the standard defined function: 3.0\n"
     ]
    }
   ],
   "source": [
    "# This expressions are equivalent\n",
    "sum_ = lambda x, y: x + y\n",
    "print('This is the result of the lambda function: {}'.format(sum_(1., 2.)))\n",
    "\n",
    "def sum__(x, y):\n",
    "    return x + y\n",
    "print('And this is the result of the standard defined function: {}'.format(sum__(1., 2.)))\n"
   ]
  },
  {
   "cell_type": "markdown",
   "metadata": {},
   "source": [
    "### When do you want to use `lambda`?\n",
    "In some cases, lambda expressions are good for making your code a bit cleaner. \n",
    "**When?**\n",
    ">When you want to a fairly **simple function** that is going to be **called once**.\n",
    "\n",
    "**simple** means that it contains **only one expression**.\n",
    "\n",
    "It is commonly used together with some functions that take another function as an argument: map, reduce, filter, ..."
   ]
  },
  {
   "cell_type": "code",
   "execution_count": 130,
   "metadata": {},
   "outputs": [
    {
     "name": "stdout",
     "output_type": "stream",
     "text": [
      "[0, 1, 4, 9, 16, 25, 36, 49, 64, 81]\n"
     ]
    }
   ],
   "source": [
    "# Back to the squares example, using lambda and the map function \n",
    "list_of_squares = list(map(lambda x: x**2, range(10))) # not a very good example ... better with comprehensions\n",
    "print(list_of_squares) "
   ]
  },
  {
   "cell_type": "code",
   "execution_count": 133,
   "metadata": {},
   "outputs": [
    {
     "name": "stdout",
     "output_type": "stream",
     "text": [
      "285\n"
     ]
    }
   ],
   "source": [
    "# Let's try with another one: compute the sum of the squares of all the numbers up to 10\n",
    "sum_of_list_of_squares = functools.reduce(lambda x, y: x + y, map(lambda x: x**2, range(10)))\n",
    "print(sum_of_list_of_squares)"
   ]
  },
  {
   "cell_type": "code",
   "execution_count": 136,
   "metadata": {},
   "outputs": [
    {
     "data": {
      "text/plain": [
       "True"
      ]
     },
     "execution_count": 136,
     "metadata": {},
     "output_type": "execute_result"
    }
   ],
   "source": [
    "# Let's check if the result is ok\n",
    "sum_of_list_of_squares == sum(list_of_squares)"
   ]
  },
  {
   "cell_type": "markdown",
   "metadata": {},
   "source": [
    "### Exercise: Use lambda with filter function\n",
    "Use a lambda function as an argument to the filter function to find all the vocals (upper and lower case) in *\"This course is a ridiculous. I wish I had not enrolled\"*.\n",
    "\n",
    "You can type `filter?` to get some help.\n",
    "\n",
    "Be aware that the ouput of the `filter` function is an iterator, so you will have to manipulate it in order to show the results."
   ]
  },
  {
   "cell_type": "code",
   "execution_count": 142,
   "metadata": {},
   "outputs": [],
   "source": [
    "# Place your code here"
   ]
  },
  {
   "cell_type": "markdown",
   "metadata": {},
   "source": [
    "<a id='args'></a>\n",
    "## 4. Variable length arguments (AKA `*args` and `**kwargs`)\n",
    "\n",
    "The special syntax, `*args` and `**kwargs` in function definitions is used to pass a variable number of arguments to a function. So the definition of the function would look like this:\n",
    "\n",
    "```def foo(arg_1, arg_2, ..., *args, kwarg_1=kwval_1, kwarg_2=kwval_2, ..., **kwargs)```\n",
    "\n",
    "The single asterisk form (*args) is used to pass a non-keyworded, variable-length argument list, and the double asterisk form is used to pass a keyworded, variable-length argument list.\n",
    "\n",
    "Inside the function definition, `*args` are tuples and `**kwargs` are dictionaries, so you can access them as usual."
   ]
  },
  {
   "cell_type": "code",
   "execution_count": 185,
   "metadata": {},
   "outputs": [
    {
     "name": "stdout",
     "output_type": "stream",
     "text": [
      "These are the arguments of my function:\n",
      "    Variable non keyword argument 0: 1\n",
      "    Variable non keyword argument 1: 2\n",
      "    Variable keyword argument: kwarg_2:4\n",
      "    Variable keyword argument: kwarg_1:3\n",
      "------------------------------------\n",
      "\n",
      "These are the arguments of my function:\n",
      "    Variable non keyword argument 0: 6\n",
      "    Variable non keyword argument 1: 5\n",
      "    Variable non keyword argument 2: 4\n",
      "    Variable non keyword argument 3: 3\n",
      "    Variable non keyword argument 4: 2\n",
      "    Variable non keyword argument 5: 1\n",
      "------------------------------------\n",
      "\n"
     ]
    }
   ],
   "source": [
    "# An example\n",
    "def sample_function(*args, **kwargs):\n",
    "    \n",
    "    print('These are the arguments of my function:')\n",
    "    \n",
    "    for i, arg in enumerate(args):        \n",
    "        print('    Variable non keyword argument {}: {}'.format(i, arg))\n",
    "    \n",
    "    for karg, varg in kwargs.items():\n",
    "        print('    Variable keyword argument: {}:{}'.format(karg, varg))\n",
    "    \n",
    "    print('-'*36 + '\\n')\n",
    "\n",
    "sample_function(1, 2, kwarg_1=3, kwarg_2=4)\n",
    "sample_function(6, 5, 4, 3, 2, 1)"
   ]
  },
  {
   "cell_type": "markdown",
   "metadata": {},
   "source": [
    "You can also use the `*args` and `**kwargs` syntax in the function calls"
   ]
  },
  {
   "cell_type": "code",
   "execution_count": 175,
   "metadata": {},
   "outputs": [
    {
     "name": "stdout",
     "output_type": "stream",
     "text": [
      "These are the arguments of my function:\n",
      "    Variable non keyword argument 0: 0\n",
      "    Variable non keyword argument 1: 1\n",
      "    Variable non keyword argument 2: 2\n",
      "    Variable non keyword argument 3: 3\n",
      "    Variable non keyword argument 4: 4\n",
      "    Variable keyword argument: kwarg_2:2\n",
      "    Variable keyword argument: kwarg_1:1\n",
      "    Variable keyword argument: kwarg_3:3\n",
      "    Variable keyword argument: kwarg_4:4\n",
      "    Variable keyword argument: kwarg_0:0\n",
      "------------------------------------\n",
      "\n"
     ]
    }
   ],
   "source": [
    "args = range(5)\n",
    "kwargs = {'kwarg_{}'.format(x): x for x in range(5)}\n",
    "sample_function(*args, **kwargs)"
   ]
  },
  {
   "cell_type": "markdown",
   "metadata": {},
   "source": [
    "You can mix fixed arguments and variable length arguments"
   ]
  },
  {
   "cell_type": "code",
   "execution_count": 186,
   "metadata": {},
   "outputs": [
    {
     "name": "stdout",
     "output_type": "stream",
     "text": [
      "These are the arguments of my function:\n",
      "------------------------------------\n",
      "\n",
      "These are the arguments of my function:\n",
      "    Variable non keyword argument 0: 1\n",
      "    Variable non keyword argument 1: 2\n",
      "------------------------------------\n",
      "\n"
     ]
    },
    {
     "ename": "TypeError",
     "evalue": "resample_function() missing 2 required positional arguments: 'arg1' and 'arg2'",
     "output_type": "error",
     "traceback": [
      "\u001b[0;31m---------------------------------------------------------------------------\u001b[0m",
      "\u001b[0;31mTypeError\u001b[0m                                 Traceback (most recent call last)",
      "\u001b[0;32m<ipython-input-186-4845c8c4b5b8>\u001b[0m in \u001b[0;36m<module>\u001b[0;34m()\u001b[0m\n\u001b[1;32m      5\u001b[0m \u001b[0msample_function\u001b[0m\u001b[0;34m(\u001b[0m\u001b[0;34m)\u001b[0m\u001b[0;34m\u001b[0m\u001b[0m\n\u001b[1;32m      6\u001b[0m \u001b[0mresample_function\u001b[0m\u001b[0;34m(\u001b[0m\u001b[0;36m1\u001b[0m\u001b[0;34m,\u001b[0m \u001b[0;36m2\u001b[0m\u001b[0;34m)\u001b[0m\u001b[0;34m\u001b[0m\u001b[0m\n\u001b[0;32m----> 7\u001b[0;31m \u001b[0mresample_function\u001b[0m\u001b[0;34m(\u001b[0m\u001b[0;34m)\u001b[0m\u001b[0;34m\u001b[0m\u001b[0m\n\u001b[0m",
      "\u001b[0;31mTypeError\u001b[0m: resample_function() missing 2 required positional arguments: 'arg1' and 'arg2'"
     ]
    }
   ],
   "source": [
    "# We want to force arg1 and arg2\n",
    "def resample_function(arg1, arg2, *args, **kwargs):\n",
    "    return sample_function(arg1, arg2, *args, **kwargs)\n",
    "\n",
    "sample_function()\n",
    "resample_function(1, 2)\n",
    "resample_function()"
   ]
  },
  {
   "cell_type": "markdown",
   "metadata": {},
   "source": [
    "### When can/shall we use them?"
   ]
  },
  {
   "cell_type": "markdown",
   "metadata": {},
   "source": [
    "When we want to build a function with variable arguments length"
   ]
  },
  {
   "cell_type": "code",
   "execution_count": 184,
   "metadata": {},
   "outputs": [
    {
     "name": "stdout",
     "output_type": "stream",
     "text": [
      "3628800\n",
      "2.68\n"
     ]
    }
   ],
   "source": [
    "def multiplication(*args):\n",
    "    z = 1\n",
    "    for arg in args:\n",
    "        z *= arg\n",
    "    return z\n",
    "\n",
    "print(multiplication(1, 2, 3, 4, 5, 6, 7, 8, 9, 10))\n",
    "print(multiplication(0.1, 4, 6.7))"
   ]
  },
  {
   "cell_type": "markdown",
   "metadata": {},
   "source": [
    "Whenever we inherit a class and override some of the methods of inherited class, we should use `*args` and `**kwargs` and pass the received positional and keyword arguments to the superclass method.\n",
    "\n",
    "This could also apply to methods being \"re-used\" by other methods (if they are not contained in a class)."
   ]
  },
  {
   "cell_type": "code",
   "execution_count": 198,
   "metadata": {},
   "outputs": [
    {
     "name": "stdout",
     "output_type": "stream",
     "text": [
      "These are my values:\n",
      "----------------------------------------------------------------\n",
      "These are my values:\n",
      "    1\n",
      "    2\n",
      "    3\n",
      "    4\n",
      "    5\n",
      "----------------------------------------------------------------\n",
      "There are no values\n",
      "----------------------------------------------------------------\n"
     ]
    }
   ],
   "source": [
    "class ValueLogger():\n",
    "    \n",
    "    def print_values(self, *values):\n",
    "    \n",
    "        print('These are my values:')\n",
    "        for value in values:\n",
    "            print('    {}'.format(value))\n",
    "        self.print_separator()\n",
    "    \n",
    "    def print_separator(self):\n",
    "        print('-'*64)\n",
    "\n",
    "\n",
    "class AdvancedValueLogger(ValueLogger):\n",
    "    \n",
    "    def print_values(self, *values):\n",
    "        if len(values) == 0:\n",
    "            print('There are no values')\n",
    "            self.print_separator()\n",
    "        else:\n",
    "            super().print_values(*values)\n",
    "\n",
    "primitive_logger =  ValueLogger()\n",
    "primitive_logger.print_values()\n",
    "primitive_logger.print_values(1, 2, 3, 4, 5)\n",
    "            \n",
    "            \n",
    "advanced_logger = AdvancedValueLogger()\n",
    "advanced_logger.print_values()"
   ]
  },
  {
   "cell_type": "markdown",
   "metadata": {},
   "source": [
    "<a id='logical'></a>\n",
    "## 5. Disquisitions on Truth and Falsehood"
   ]
  },
  {
   "cell_type": "markdown",
   "metadata": {},
   "source": [
    "### Boolean operators"
   ]
  },
  {
   "cell_type": "markdown",
   "metadata": {},
   "source": [
    "These are the Boolean operations, ordered by ascending priority:\n",
    "\n",
    "| Operation | Result | Notes |\n",
    "|:---:|:---:|:--- |\n",
    "|`x or y`|if x is false, then y, else x|This is a short-circuit operator, so it only evaluates the second argument if the first one is false.|\n",
    "|`x and y`|if x is false, then x, else y|This is a short-circuit operator, so it only evaluates the second argument if the first one is true.|\n",
    "|`not x`|if x is false, then True, else False|(not has a lower priority than non-Boolean operators, so not a == b is interpreted as not (a == b), and a == not b is a syntax error.)|\n",
    "\n",
    "\n",
    "\n"
   ]
  },
  {
   "cell_type": "code",
   "execution_count": 219,
   "metadata": {},
   "outputs": [
    {
     "name": "stdout",
     "output_type": "stream",
     "text": [
      "1\n",
      "1\n"
     ]
    }
   ],
   "source": [
    "ex_dict_1 = {'k_1': {'k_1_1': 1, 'k_1_2':2}, 'k_2': 3}\n",
    "\n",
    "# we can use this to simplify our code\n",
    "# we can rewrite this\n",
    "if ex_dict_1.get('k_1'):\n",
    "    if ex_dict_1['k_1'].get('k_1_1'):\n",
    "        print(ex_dict_1['k_1']['k_1_1'])\n",
    "    else:\n",
    "        print(False)\n",
    "else:\n",
    "    print(False)\n",
    "    \n",
    "# like this\n",
    "print(ex_dict_1.get('k_1') and ex_dict_1['k_1'].get('k_1_1') or False)\n"
   ]
  },
  {
   "cell_type": "markdown",
   "metadata": {},
   "source": [
    "### Exercise: rewrite in a single line"
   ]
  },
  {
   "cell_type": "code",
   "execution_count": 214,
   "metadata": {},
   "outputs": [
    {
     "name": "stdout",
     "output_type": "stream",
     "text": [
      "15\n"
     ]
    }
   ],
   "source": [
    "ex_dict_2 = {'type': 'sum', 'data': [1, 2, 3, 4, 5] }\n",
    "\n",
    "# This code can be reformatted into a single line\n",
    "if ex_dict_2['type'] == 'raw':\n",
    "    res_1 = ex_dict_2['data']\n",
    "elif ex_dict_2['type'] == 'sum':\n",
    "    res_1 = sum(ex_dict_2['data'])\n",
    "else:\n",
    "    res_1 = None\n",
    "print(res_1)"
   ]
  },
  {
   "cell_type": "code",
   "execution_count": 220,
   "metadata": {},
   "outputs": [],
   "source": [
    "# Place your code here"
   ]
  },
  {
   "cell_type": "markdown",
   "metadata": {},
   "source": [
    "### Truth value testing\n",
    "Then tested the truth value of an object (inside an `if`, a `while`, or as a boolean operator), this values are considered false:\n",
    "\n",
    "* `None`\n",
    "* `False`\n",
    "* zero of any numeric type, for example, `0`, `0.0`, `0j`.\n",
    "* any empty sequence, for example, `''`, `()`, `[]`.\n",
    "* any empty mapping, for example, `{}`.\n",
    "* instances of user-defined classes, if the class defines a `__bool__()` or `__len__()` method, when that method returns the integer zero or bool value False\n",
    "\n",
    "All the other ones are considered true."
   ]
  },
  {
   "cell_type": "code",
   "execution_count": 233,
   "metadata": {},
   "outputs": [
    {
     "name": "stdout",
     "output_type": "stream",
     "text": [
      "'' has been interpreted as false\n"
     ]
    }
   ],
   "source": [
    "a = ''\n",
    "if a:\n",
    "    res = 'true'\n",
    "else:\n",
    "    res = 'false'\n",
    "print('{!r} has been interpreted as {}'.format(a, res))"
   ]
  },
  {
   "cell_type": "markdown",
   "metadata": {},
   "source": [
    "Be careful when handling this. It can lead to weird behaviours"
   ]
  },
  {
   "cell_type": "code",
   "execution_count": 237,
   "metadata": {},
   "outputs": [
    {
     "name": "stdout",
     "output_type": "stream",
     "text": [
      "Here is your result 15\n"
     ]
    }
   ],
   "source": [
    "def sum_function(list_of_values):\n",
    "    if len(list_of_values) > 0:\n",
    "        return sum(list_of_values)\n",
    "\n",
    "def wrap_around_sum(list_of_values):\n",
    "    s = sum_function(list_of_values)\n",
    "    if not s:\n",
    "        print('error!!')\n",
    "    else:\n",
    "        print('Here is your result {}'.format(s))\n",
    "\n",
    "wrap_around_sum([1, 2, 3, 4, 5])\n",
    "    "
   ]
  },
  {
   "cell_type": "code",
   "execution_count": 238,
   "metadata": {},
   "outputs": [
    {
     "name": "stdout",
     "output_type": "stream",
     "text": [
      "error!!\n"
     ]
    }
   ],
   "source": [
    "wrap_around_sum([-1, -3, 4])"
   ]
  },
  {
   "cell_type": "markdown",
   "metadata": {},
   "source": [
    "### Comparisons\n",
    "The difference between equality and identity"
   ]
  },
  {
   "cell_type": "code",
   "execution_count": 256,
   "metadata": {},
   "outputs": [
    {
     "name": "stdout",
     "output_type": "stream",
     "text": [
      "0 and 0. are equal: True\n",
      "0 and 0. are not the same object: False\n",
      "But two different instances of 0, point to the same object: True\n"
     ]
    }
   ],
   "source": [
    "a = 0\n",
    "b = 0.\n",
    "c = 4 - 4\n",
    "print('0 and 0. are equal: {}'.format(a == b))\n",
    "print('0 and 0. are not the same object: {}'.format(a is b))\n",
    "print('But two different instances of 0, point to the same object: {}'.format(a is c))"
   ]
  },
  {
   "cell_type": "code",
   "execution_count": 260,
   "metadata": {},
   "outputs": [
    {
     "name": "stdout",
     "output_type": "stream",
     "text": [
      "Two instances of the same class are always different: False\n",
      "or two instances of different classes: False\n"
     ]
    }
   ],
   "source": [
    "class Dummy():\n",
    "    def __init__(self, val):\n",
    "        self.val = val\n",
    "\n",
    "a = Dummy(0)\n",
    "b = Dummy(0)\n",
    "c = 0\n",
    "print('Two instances of the same class are not equal: {}'.format(a == b))\n",
    "print('or two instances of different classes: {}'.format(a == c))"
   ]
  },
  {
   "cell_type": "code",
   "execution_count": 263,
   "metadata": {},
   "outputs": [
    {
     "name": "stdout",
     "output_type": "stream",
     "text": [
      "Now the two instances of the same class are tested equal: True\n",
      "even the two of different classes: True\n",
      "But they are not the same object: False\n"
     ]
    }
   ],
   "source": [
    "# Unless we define the __eq__ method\n",
    "class NotSoDummy(Dummy):\n",
    "    def __eq__(self, other):\n",
    "        if other == self.val:\n",
    "            return True\n",
    "        else:\n",
    "            return False\n",
    "\n",
    "a = NotSoDummy(0)\n",
    "b = NotSoDummy(0)\n",
    "c = 0\n",
    "print('Now the two instances of the same class are tested equal: {}'.format(a == b))\n",
    "print('even the two of different classes: {}'.format(a == c))\n",
    "print('But they are not the same object: {}'.format(a is b))"
   ]
  },
  {
   "cell_type": "markdown",
   "metadata": {},
   "source": [
    "In the next example, `a` and `b` point to different memory locations, each of them containing the same information. Whereas `c`, points to the same location as `a`."
   ]
  },
  {
   "cell_type": "code",
   "execution_count": 270,
   "metadata": {},
   "outputs": [
    {
     "name": "stdout",
     "output_type": "stream",
     "text": [
      "a and b are equal: True, but are they the same instance? False\n",
      "but a and c are both equal: True, and the same instance: True\n"
     ]
    }
   ],
   "source": [
    "a = [1, 2, 3] \n",
    "b = [1, 2, 3]\n",
    "c = a\n",
    "print('a and b are equal: {}, but are they the same instance? {}'.format(a == b, a is b))\n",
    "print('but a and c are both equal: {}, and the same instance: {}'.format(a == c, a is c))"
   ]
  },
  {
   "cell_type": "markdown",
   "metadata": {},
   "source": [
    "When we modify a, we modify the memory location where it is pointing. So, when we modify `a`, we also modify `c`. In the other hand, nothing happens to `b`."
   ]
  },
  {
   "cell_type": "code",
   "execution_count": 271,
   "metadata": {},
   "outputs": [
    {
     "name": "stdout",
     "output_type": "stream",
     "text": [
      "c = [0, 2, 3]\n",
      "b = [1, 2, 3]\n"
     ]
    }
   ],
   "source": [
    "a[0] = 0\n",
    "print('c = {}'.format(c))\n",
    "print('b = {}'.format(b))"
   ]
  },
  {
   "cell_type": "code",
   "execution_count": 272,
   "metadata": {},
   "outputs": [
    {
     "name": "stdout",
     "output_type": "stream",
     "text": [
      "1\n"
     ]
    }
   ],
   "source": [
    "# This behaviour does not happen with numbers though\n",
    "a_1 = 1\n",
    "a_2 = a_1\n",
    "a_1 = 2\n",
    "print(a_2)"
   ]
  },
  {
   "cell_type": "markdown",
   "metadata": {},
   "source": [
    "<a id='scope'></a>\n",
    "## Variable scope and lifetime\n",
    "We call the part of a program where a variable is accessible its **scope**, and the duration for which the variable exists its **lifetime**."
   ]
  },
  {
   "cell_type": "markdown",
   "metadata": {},
   "source": [
    "### Global and local variables\n",
    "A variable which is defined in the main body of a file is called a **global** variable. It will be visible throughout the file, and also inside any file which imports that file. We should restrict their use. Only objects which are intended to be used globally, like functions and classes, should be put in the global namespace.\n",
    "\n",
    "A variable which is defined inside a function is **local** to that function. It is accessible from the point at which it is defined until the end of the function, and exists for as long as the function is executing."
   ]
  },
  {
   "cell_type": "code",
   "execution_count": 281,
   "metadata": {},
   "outputs": [
    {
     "name": "stdout",
     "output_type": "stream",
     "text": [
      "global outside: foo\n",
      "global inside: foo\n",
      "local inside: bar\n"
     ]
    },
    {
     "ename": "NameError",
     "evalue": "name 'local_var' is not defined",
     "output_type": "error",
     "traceback": [
      "\u001b[0;31m---------------------------------------------------------------------------\u001b[0m",
      "\u001b[0;31mNameError\u001b[0m                                 Traceback (most recent call last)",
      "\u001b[0;32m<ipython-input-281-847cf8c0ed71>\u001b[0m in \u001b[0;36m<module>\u001b[0;34m()\u001b[0m\n\u001b[1;32m      6\u001b[0m     \u001b[0mprint\u001b[0m\u001b[0;34m(\u001b[0m\u001b[0;34m'local inside: {}'\u001b[0m\u001b[0;34m.\u001b[0m\u001b[0mformat\u001b[0m\u001b[0;34m(\u001b[0m\u001b[0mlocal_var\u001b[0m\u001b[0;34m)\u001b[0m\u001b[0;34m)\u001b[0m\u001b[0;34m\u001b[0m\u001b[0m\n\u001b[1;32m      7\u001b[0m \u001b[0mmy_func\u001b[0m\u001b[0;34m(\u001b[0m\u001b[0;34m)\u001b[0m\u001b[0;34m\u001b[0m\u001b[0m\n\u001b[0;32m----> 8\u001b[0;31m \u001b[0mprint\u001b[0m\u001b[0;34m(\u001b[0m\u001b[0;34m'local outside: {}'\u001b[0m\u001b[0;34m.\u001b[0m\u001b[0mformat\u001b[0m\u001b[0;34m(\u001b[0m\u001b[0mlocal_var\u001b[0m\u001b[0;34m)\u001b[0m\u001b[0;34m)\u001b[0m\u001b[0;34m\u001b[0m\u001b[0m\n\u001b[0m",
      "\u001b[0;31mNameError\u001b[0m: name 'local_var' is not defined"
     ]
    }
   ],
   "source": [
    "global_var = 'foo'\n",
    "print('global outside: {}'.format(global_var))\n",
    "def my_func():\n",
    "    local_var = 'bar'\n",
    "    print('global inside: {}'.format(global_var))\n",
    "    print('local inside: {}'.format(local_var))\n",
    "my_func()\n",
    "print('local outside: {}'.format(local_var))"
   ]
  },
  {
   "cell_type": "code",
   "execution_count": null,
   "metadata": {
    "collapsed": true
   },
   "outputs": [],
   "source": []
  }
 ],
 "metadata": {
  "kernelspec": {
   "display_name": "Python 3",
   "language": "python",
   "name": "python3"
  },
  "language_info": {
   "codemirror_mode": {
    "name": "ipython",
    "version": 3
   },
   "file_extension": ".py",
   "mimetype": "text/x-python",
   "name": "python",
   "nbconvert_exporter": "python",
   "pygments_lexer": "ipython3",
   "version": "3.5.2"
  }
 },
 "nbformat": 4,
 "nbformat_minor": 2
}
