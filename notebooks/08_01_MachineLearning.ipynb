{
 "cells": [
  {
   "cell_type": "markdown",
   "metadata": {
    "slideshow": {
     "slide_type": "slide"
    }
   },
   "source": [
    "# Machine Learning with Python\n",
    "\n",
    "Have not yet decided which data sets im going to use. probably the typical example sets like Iris, Titanic etc. \n",
    "Notation will be mostly based on scikit_learn convetions and the book 'Elements of statisitical learning' by Hasties. \n",
    "Most probably I will steal some content from this guy https://github.com/donnemartin/data-science-ipython-notebooks\n",
    "\n",
    "\n",
    "My draft for an outline:\n",
    "\n",
    "    1. Start with very short primer on the mathematical formulation of the problem so everybody is familar with common notations often found in books or tutorials elsewhere. (Maybe 10 Minutes)     \n",
    "    2. Some general remarks on scikit-learn and its structure. \n",
    "    3. Read and visualize an example data set (don't know which yet. Maybe Iris.)\n",
    "    4. Unsuppervised Learning aka. clustering algorithms like KNN (and maybe  density based clustering like DBscan)\n",
    "    5. Supervised Learning example and general formulation (loss functions and such). \n",
    "    6. Show some algorithms like naive bayes, SVMs, decission trees, neural nets..\n",
    "    7. Validation. Cross validation, RoC curves etc. \n",
    "    \n",
    " "
   ]
  },
  {
   "cell_type": "markdown",
   "metadata": {
    "slideshow": {
     "slide_type": "slide"
    }
   },
   "source": [
    "# A word on what machines can (and cannot) do\n",
    "\n",
    "The term *Artifical Inteligence* was coined by John McArthy for the 1956 Dartmouth Conference. \n",
    "\n",
    "The idea of a *mechanical brain* is much older. \n",
    "\n",
    "![The Turk](https://upload.wikimedia.org/wikipedia/commons/8/8b/Tuerkischer_schachspieler_windisch4.jpg)   \n"
   ]
  },
  {
   "cell_type": "markdown",
   "metadata": {
    "slideshow": {
     "slide_type": "subslide"
    }
   },
   "source": [
    "The Church-Turing Thesis\n",
    "\n",
    "> Every effectively calculable function is a computable function.\n",
    "\n",
    "Using Turings definitions of computability\n",
    "\n",
    "> \"We shall use the expression 'computable function' to mean a function calculable by a machine, and let 'effectively calculable' refer to the intuitive idea without particular identification with any one of these definitions.\""
   ]
  },
  {
   "cell_type": "markdown",
   "metadata": {
    "slideshow": {
     "slide_type": "subslide"
    }
   },
   "source": [
    "In other words:\n",
    "\n",
    "> If something is intuitivly calculable (in whatever manner you can think of), it can be computed by a machine. \n",
    "\n",
    "> If something can be computed by a machine, it can be computed by a brain. (given enough time)"
   ]
  },
  {
   "cell_type": "markdown",
   "metadata": {
    "slideshow": {
     "slide_type": "subslide"
    }
   },
   "source": [
    "__Are computers just as good as human brains then?__\n",
    "\n",
    "They seem to work well together."
   ]
  },
  {
   "cell_type": "markdown",
   "metadata": {
    "slideshow": {
     "slide_type": "fragment"
    }
   },
   "source": [
    "Computer assisted proof of the Four-Color-Problem in 1989:\n",
    "    \n",
    ">  ...part of the proof was verified in over 400 pages of microfiche, which had to be checked by hand with the assistance of Haken's daughter...\n"
   ]
  },
  {
   "cell_type": "markdown",
   "metadata": {
    "slideshow": {
     "slide_type": "subslide"
    }
   },
   "source": [
    "__Well, no.__\n",
    "\n",
    "Easy problem for machines:\n",
    "\n",
    "* Is this text written in the english language?\n",
    "\n",
    "Unsolvable problem for machines:\n",
    "\n",
    "* What does this text mean?\n",
    "\n",
    "![Alice checking for Poison](../resources/alice.jpg)"
   ]
  },
  {
   "cell_type": "markdown",
   "metadata": {
    "slideshow": {
     "slide_type": "subslide"
    }
   },
   "source": [
    "Machines are limited\n",
    "\n",
    "* Mapping syntax and symbols to semantics and objects in the real world is something inherently human (or intelligent).\n",
    "\n",
    "* Some problems are not computable (for either man or machine) however humans can write these problems (not the solutions) and mathematically __prove__ that they cannot be computed."
   ]
  },
  {
   "cell_type": "markdown",
   "metadata": {
    "slideshow": {
     "slide_type": "fragment"
    }
   },
   "source": [
    "* Machines cannot \"learn\""
   ]
  },
  {
   "cell_type": "markdown",
   "metadata": {
    "slideshow": {
     "slide_type": "slide"
    }
   },
   "source": [
    "# Machine Learning\n"
   ]
  },
  {
   "cell_type": "markdown",
   "metadata": {
    "slideshow": {
     "slide_type": "subslide"
    }
   },
   "source": [
    "\n",
    "## Mathematical Notation and Problem Description\n",
    "\n",
    "*For more details see \"Elements of statistical Learning\" by Trevor Hastie.* \n",
    "\n",
    "\n",
    "#### Supervised Machine Learning\n",
    "\n",
    "Given a $N \\times p$ matrix $\\mathbf{X}$ matrix and some associated output vector $\\mathbf{Y}$,\n",
    "find a function that takes a vector $X \\in \\mathbb{R}^p$ and returns a prediction for $Y$,  $\\hat{Y} \\in \\mathbb{R}$ i.e. \n",
    "$f(X) = \\hat{Y}$ where some \"loss function\" $L(Y, f(X))$ is minimized for all $X$."
   ]
  },
  {
   "cell_type": "markdown",
   "metadata": {
    "slideshow": {
     "slide_type": "subslide"
    }
   },
   "source": [
    "##### The Titanic Example\n",
    "\n",
    "Passenger list of name, gender, age and the booked class on board.  \n",
    "\n",
    "![Much Wow](../resources/nyt_titanic.jpg)"
   ]
  },
  {
   "cell_type": "code",
   "execution_count": 1,
   "metadata": {
    "slideshow": {
     "slide_type": "subslide"
    }
   },
   "outputs": [
    {
     "data": {
      "text/html": [
       "<div>\n",
       "<style>\n",
       "    .dataframe thead tr:only-child th {\n",
       "        text-align: right;\n",
       "    }\n",
       "\n",
       "    .dataframe thead th {\n",
       "        text-align: left;\n",
       "    }\n",
       "\n",
       "    .dataframe tbody tr th {\n",
       "        vertical-align: top;\n",
       "    }\n",
       "</style>\n",
       "<table border=\"1\" class=\"dataframe\">\n",
       "  <thead>\n",
       "    <tr style=\"text-align: right;\">\n",
       "      <th></th>\n",
       "      <th>Name</th>\n",
       "      <th>Class</th>\n",
       "      <th>Age</th>\n",
       "      <th>Sex</th>\n",
       "      <th>Survived</th>\n",
       "    </tr>\n",
       "  </thead>\n",
       "  <tbody>\n",
       "    <tr>\n",
       "      <th>0</th>\n",
       "      <td>Allen, Miss Elisabeth Walton</td>\n",
       "      <td>1st</td>\n",
       "      <td>29.00</td>\n",
       "      <td>female</td>\n",
       "      <td>Yes</td>\n",
       "    </tr>\n",
       "    <tr>\n",
       "      <th>1</th>\n",
       "      <td>Allison, Miss Helen Loraine</td>\n",
       "      <td>1st</td>\n",
       "      <td>2.00</td>\n",
       "      <td>female</td>\n",
       "      <td>No</td>\n",
       "    </tr>\n",
       "    <tr>\n",
       "      <th>2</th>\n",
       "      <td>Allison, Mr Hudson Joshua Creighton</td>\n",
       "      <td>1st</td>\n",
       "      <td>30.00</td>\n",
       "      <td>male</td>\n",
       "      <td>No</td>\n",
       "    </tr>\n",
       "    <tr>\n",
       "      <th>3</th>\n",
       "      <td>Allison, Mrs Hudson JC (Bessie Waldo Daniels)</td>\n",
       "      <td>1st</td>\n",
       "      <td>25.00</td>\n",
       "      <td>female</td>\n",
       "      <td>No</td>\n",
       "    </tr>\n",
       "    <tr>\n",
       "      <th>4</th>\n",
       "      <td>Allison, Master Hudson Trevor</td>\n",
       "      <td>1st</td>\n",
       "      <td>0.92</td>\n",
       "      <td>male</td>\n",
       "      <td>Yes</td>\n",
       "    </tr>\n",
       "    <tr>\n",
       "      <th>...</th>\n",
       "      <td>...</td>\n",
       "      <td>...</td>\n",
       "      <td>...</td>\n",
       "      <td>...</td>\n",
       "      <td>...</td>\n",
       "    </tr>\n",
       "    <tr>\n",
       "      <th>1308</th>\n",
       "      <td>Zakarian, Mr Artun</td>\n",
       "      <td>3rd</td>\n",
       "      <td>27.00</td>\n",
       "      <td>male</td>\n",
       "      <td>No</td>\n",
       "    </tr>\n",
       "    <tr>\n",
       "      <th>1309</th>\n",
       "      <td>Zakarian, Mr Maprieder</td>\n",
       "      <td>3rd</td>\n",
       "      <td>26.00</td>\n",
       "      <td>male</td>\n",
       "      <td>No</td>\n",
       "    </tr>\n",
       "    <tr>\n",
       "      <th>1310</th>\n",
       "      <td>Zenni, Mr Philip</td>\n",
       "      <td>3rd</td>\n",
       "      <td>22.00</td>\n",
       "      <td>male</td>\n",
       "      <td>No</td>\n",
       "    </tr>\n",
       "    <tr>\n",
       "      <th>1311</th>\n",
       "      <td>Lievens, Mr Rene</td>\n",
       "      <td>3rd</td>\n",
       "      <td>24.00</td>\n",
       "      <td>male</td>\n",
       "      <td>No</td>\n",
       "    </tr>\n",
       "    <tr>\n",
       "      <th>1312</th>\n",
       "      <td>Zimmerman, Leo</td>\n",
       "      <td>3rd</td>\n",
       "      <td>29.00</td>\n",
       "      <td>male</td>\n",
       "      <td>No</td>\n",
       "    </tr>\n",
       "  </tbody>\n",
       "</table>\n",
       "<p>1313 rows × 5 columns</p>\n",
       "</div>"
      ],
      "text/plain": [
       "                                               Name Class    Age     Sex  \\\n",
       "0                      Allen, Miss Elisabeth Walton   1st  29.00  female   \n",
       "1                       Allison, Miss Helen Loraine   1st   2.00  female   \n",
       "2               Allison, Mr Hudson Joshua Creighton   1st  30.00    male   \n",
       "3     Allison, Mrs Hudson JC (Bessie Waldo Daniels)   1st  25.00  female   \n",
       "4                     Allison, Master Hudson Trevor   1st   0.92    male   \n",
       "...                                             ...   ...    ...     ...   \n",
       "1308                             Zakarian, Mr Artun   3rd  27.00    male   \n",
       "1309                         Zakarian, Mr Maprieder   3rd  26.00    male   \n",
       "1310                               Zenni, Mr Philip   3rd  22.00    male   \n",
       "1311                               Lievens, Mr Rene   3rd  24.00    male   \n",
       "1312                                 Zimmerman, Leo   3rd  29.00    male   \n",
       "\n",
       "     Survived  \n",
       "0         Yes  \n",
       "1          No  \n",
       "2          No  \n",
       "3          No  \n",
       "4         Yes  \n",
       "...       ...  \n",
       "1308       No  \n",
       "1309       No  \n",
       "1310       No  \n",
       "1311       No  \n",
       "1312       No  \n",
       "\n",
       "[1313 rows x 5 columns]"
      ]
     },
     "execution_count": 1,
     "metadata": {},
     "output_type": "execute_result"
    }
   ],
   "source": [
    "%matplotlib inline\n",
    "import matplotlib.pyplot as plt\n",
    "import seaborn as sns\n",
    "import pandas as pd\n",
    "import numpy as np\n",
    "sns.set()\n",
    "pd.options.display.max_rows = 10\n",
    "data = pd.read_csv('../resources/titanic.csv')\n",
    "data.Survived = pd.Categorical(data.Survived)\n",
    "data.Class = pd.Categorical(data.Class)\n",
    "data.Sex = pd.Categorical(data.Sex)\n",
    "data"
   ]
  },
  {
   "cell_type": "code",
   "execution_count": 2,
   "metadata": {
    "slideshow": {
     "slide_type": "subslide"
    }
   },
   "outputs": [
    {
     "data": {
      "text/plain": [
       "<matplotlib.axes._subplots.AxesSubplot at 0x10de4edd8>"
      ]
     },
     "execution_count": 2,
     "metadata": {},
     "output_type": "execute_result"
    },
    {
     "data": {
      "image/png": "[encoded data removed]",
      "text/plain": [
       "<matplotlib.figure.Figure at 0x108f06e48>"
      ]
     },
     "metadata": {},
     "output_type": "display_data"
    }
   ],
   "source": [
    "data.Survived.value_counts().plot.pie()"
   ]
  },
  {
   "cell_type": "markdown",
   "metadata": {
    "slideshow": {
     "slide_type": "subslide"
    }
   },
   "source": [
    "Given a new vector $X = (Name, Class, Age, Sex)$ can we find a function $f_{survival}(X) \\in \\{{yes, no}\\}$ that accurately predicts the survival of the passengers in most cases?\n"
   ]
  },
  {
   "cell_type": "markdown",
   "metadata": {
    "slideshow": {
     "slide_type": "fragment"
    }
   },
   "source": [
    "Well yes. Let's presume rich people get to go into lifeboats.\n",
    "\n",
    "```\n",
    "def f_survival(passenger):\n",
    "    if passenger.Class == '1st':\n",
    "        return 'yes'\n",
    "    else:\n",
    "        return 'no'\n",
    "```\n",
    "\n",
    "But how do we know whether that predictor is any good?"
   ]
  },
  {
   "cell_type": "code",
   "execution_count": 3,
   "metadata": {
    "slideshow": {
     "slide_type": "fragment"
    }
   },
   "outputs": [
    {
     "data": {
      "text/plain": [
       "<matplotlib.axes._subplots.AxesSubplot at 0x10de960f0>"
      ]
     },
     "execution_count": 3,
     "metadata": {},
     "output_type": "execute_result"
    },
    {
     "data": {
      "image/png": "[encoded data removed]",
      "text/plain": [
       "<matplotlib.figure.Figure at 0x10dd96ef0>"
      ]
     },
     "metadata": {},
     "output_type": "display_data"
    }
   ],
   "source": [
    "data['prediction'] = data.apply(lambda p: 'Yes' if p['Class'] == '1st' else 'No', axis='columns')\n",
    "cm = pd.crosstab(data.Survived, data.prediction, rownames=['Actual'], colnames=['Predicted'])\n",
    "\n",
    "fig, (ax1, ax2) = plt.subplots(1,2)\n",
    "sns.heatmap(cm, annot=True, fmt='d', ax=ax1)\n",
    "(data.prediction == data.Survived).value_counts().plot.barh(ax=ax2)"
   ]
  },
  {
   "cell_type": "markdown",
   "metadata": {
    "slideshow": {
     "slide_type": "subslide"
    }
   },
   "source": [
    "What about the women? Maybe we get a better predictor.\n",
    " \n",
    "```\n",
    "def f_survival(passenger):\n",
    "    if passenger.Sex == 'female':\n",
    "        return 'yes'\n",
    "    else:\n",
    "        return 'no'\n",
    "```"
   ]
  },
  {
   "cell_type": "code",
   "execution_count": 4,
   "metadata": {
    "slideshow": {
     "slide_type": "fragment"
    }
   },
   "outputs": [
    {
     "data": {
      "text/plain": [
       "<matplotlib.axes._subplots.AxesSubplot at 0x10e0c0c88>"
      ]
     },
     "execution_count": 4,
     "metadata": {},
     "output_type": "execute_result"
    },
    {
     "data": {
      "image/png": "[encoded data removed]",
      "text/plain": [
       "<matplotlib.figure.Figure at 0x108f9f2b0>"
      ]
     },
     "metadata": {},
     "output_type": "display_data"
    }
   ],
   "source": [
    "data['prediction'] = data.apply(lambda p: 'Yes' if p['Sex'] == 'female' else 'No', axis='columns')\n",
    "cm = pd.crosstab(data.Survived, data.prediction, rownames=['Actual'], colnames=['Predicted'])\n",
    "\n",
    "fig, (ax1, ax2) = plt.subplots(1,2)\n",
    "sns.heatmap(cm, annot=True, fmt='d', ax=ax1)\n",
    "(data.prediction == data.Survived).value_counts().plot.barh(ax=ax2)"
   ]
  },
  {
   "cell_type": "markdown",
   "metadata": {
    "slideshow": {
     "slide_type": "subslide"
    }
   },
   "source": [
    "Can we improve our predictor by combining more variables into one predictor.\n",
    "\n",
    "Lets presume a linear weighted combination of variables:\n",
    "\n",
    "$$\n",
    "f(X)= \\hat{β}_0 + \\sum_{j=1}^p X_j \\hat{β}_j\n",
    "$$\n",
    "\n",
    "or in our case when combining sex and money:\n",
    "\n",
    "$$\n",
    "f(X)= \\hat{β}_0 + X_{Class} \\hat{β}_{Class} + X_{Sex} \\hat{β}_{Sex}  \n",
    "$$"
   ]
  },
  {
   "cell_type": "markdown",
   "metadata": {
    "slideshow": {
     "slide_type": "fragment"
    }
   },
   "source": [
    "How do you find those weights?\n",
    "\n",
    "Choose and then optimize a loss function. In this case the popular residual sum of squares \n",
    "\n",
    "$$L(\\beta) = RSS(\\mathbf{\\beta}) = \\sum_{i=1}^N (Y_i - X_i^T \\beta)^2 $$\n",
    "\n"
   ]
  },
  {
   "cell_type": "markdown",
   "metadata": {
    "slideshow": {
     "slide_type": "subslide"
    }
   },
   "source": [
    "Rewrite the problem in matrix form:\n",
    "\n",
    "\\begin{align}\n",
    "X^T &= (1, Class, Sex) \\\\ \n",
    "\\mathbf{\\hat{\\beta}}^T &= (\\hat{β}_0, \\hat{β}_{Class}, \\hat{β}_{Sex}) \\\\\n",
    "\\mathbf{y} &= {Y_1, \\ldots, Y_N} \n",
    "\\end{align}\n",
    "\n",
    "Makes the formulation more compact for the predictor\n",
    "\n",
    "$$\n",
    "\\hat{\\mathbf{y}} = X^T \\hat{β}\n",
    "$$\n",
    "\n",
    "and the loss function\n",
    "\n",
    "$$\n",
    "RSS(\\beta) = (\\mathbf{y} - \\mathbf{X} \\beta)^T (\\mathbf{y} - \\mathbf{X} \\beta )\n",
    "$$\n"
   ]
  },
  {
   "cell_type": "markdown",
   "metadata": {
    "slideshow": {
     "slide_type": "subslide"
    }
   },
   "source": [
    "Optimize loss function just like any other function. Set the derivative equals to zero.\n",
    "\n",
    "$$\n",
    "{RSS}^\\prime(\\beta) =  \\mathbf{X}^T (\\mathbf{y} - \\mathbf{X} \\beta ) \\stackrel{!}{=} 0\n",
    "$$\n",
    "\n",
    "Solving for $\\beta$ leads to\n",
    "\n",
    "$$\n",
    "\\hat{β} = (\\mathbf{X}^T \\mathbf{X})^{-1} \\mathbf{X}^T \\mathbf{y}\n",
    "$$"
   ]
  },
  {
   "cell_type": "markdown",
   "metadata": {
    "slideshow": {
     "slide_type": "fragment"
    }
   },
   "source": [
    "You just invented Linear Least Squares regression."
   ]
  },
  {
   "cell_type": "markdown",
   "metadata": {},
   "source": [
    "Now we can define a function to predict passenger survival according to\n",
    "\n",
    "$$\n",
    "\\hat{Y} = \\begin{cases}\n",
    "\\text{Yes}, & \\text{if $ f(X) \\gt 0.5$} \\\\\n",
    "\\text{No}, & \\text{if $ f(X) \\le 0.5$}\n",
    "\\end{cases}\n",
    "$$ \n",
    "\n",
    "Does it get any better though?"
   ]
  },
  {
   "cell_type": "code",
   "execution_count": 5,
   "metadata": {},
   "outputs": [
    {
     "name": "stderr",
     "output_type": "stream",
     "text": [
      "/usr/local/lib/python3.6/site-packages/scipy/linalg/basic.py:1018: RuntimeWarning: internal gelsd driver lwork query error, required iwork dimension not returned. This is likely the result of LAPACK bug 0038, fixed in LAPACK 3.2.2 (released July 21, 2010). Falling back to 'gelss' driver.\n",
      "  warnings.warn(mesg, RuntimeWarning)\n"
     ]
    },
    {
     "name": "stdout",
     "output_type": "stream",
     "text": [
      "[-0.4617364  -0.16969731]\n"
     ]
    },
    {
     "data": {
      "text/plain": [
       "<matplotlib.axes._subplots.AxesSubplot at 0x10e9cec18>"
      ]
     },
     "execution_count": 5,
     "metadata": {},
     "output_type": "execute_result"
    },
    {
     "data": {
      "image/png": "[encoded data removed]",
      "text/plain": [
       "<matplotlib.figure.Figure at 0x10df98f98>"
      ]
     },
     "metadata": {},
     "output_type": "display_data"
    }
   ],
   "source": [
    "from sklearn import linear_model\n",
    "from sklearn import preprocessing\n",
    "le = preprocessing.LabelEncoder()\n",
    "\n",
    "X = data[['Sex', 'Class']].copy()\n",
    "X.Sex = le.fit_transform(data.Sex)\n",
    "X.Class = le.fit_transform(data.Class)\n",
    "\n",
    "Y = le.fit_transform(data['Survived'])\n",
    "\n",
    "reg = linear_model.LinearRegression()\n",
    "reg.fit(X, Y)\n",
    "print(reg.coef_)\n",
    "\n",
    "data['prediction'] = ['Yes' if p > 0.5 else 'No' for p  in reg.predict(X) > 0.5]\n",
    "cm = pd.crosstab(data.Survived, data.prediction, rownames=['Actual'], colnames=['Predicted'])\n",
    "fig, (ax1, ax2) = plt.subplots(1,2)\n",
    "sns.heatmap(cm, annot=True, fmt='d', ax=ax1)\n",
    "(data['prediction'] == data.Survived).value_counts().plot.barh(ax=ax2)"
   ]
  },
  {
   "cell_type": "code",
   "execution_count": null,
   "metadata": {},
   "outputs": [],
   "source": []
  },
  {
   "cell_type": "markdown",
   "metadata": {
    "slideshow": {
     "slide_type": "slide"
    }
   },
   "source": [
    "## Overview of SKlearn "
   ]
  },
  {
   "cell_type": "markdown",
   "metadata": {},
   "source": [
    "## Read and Visualize"
   ]
  },
  {
   "cell_type": "code",
   "execution_count": null,
   "metadata": {
    "collapsed": true
   },
   "outputs": [],
   "source": [
    "\n"
   ]
  },
  {
   "cell_type": "code",
   "execution_count": 7,
   "metadata": {},
   "outputs": [
    {
     "data": {
      "text/html": [
       "<div>\n",
       "<style>\n",
       "    .dataframe thead tr:only-child th {\n",
       "        text-align: right;\n",
       "    }\n",
       "\n",
       "    .dataframe thead th {\n",
       "        text-align: left;\n",
       "    }\n",
       "\n",
       "    .dataframe tbody tr th {\n",
       "        vertical-align: top;\n",
       "    }\n",
       "</style>\n",
       "<table border=\"1\" class=\"dataframe\">\n",
       "  <thead>\n",
       "    <tr style=\"text-align: right;\">\n",
       "      <th></th>\n",
       "      <th>sepal_length</th>\n",
       "      <th>sepal_width</th>\n",
       "      <th>petal_length</th>\n",
       "      <th>petal_width</th>\n",
       "      <th>species</th>\n",
       "    </tr>\n",
       "  </thead>\n",
       "  <tbody>\n",
       "    <tr>\n",
       "      <th>0</th>\n",
       "      <td>5.1</td>\n",
       "      <td>3.5</td>\n",
       "      <td>1.4</td>\n",
       "      <td>0.2</td>\n",
       "      <td>setosa</td>\n",
       "    </tr>\n",
       "    <tr>\n",
       "      <th>1</th>\n",
       "      <td>4.9</td>\n",
       "      <td>3.0</td>\n",
       "      <td>1.4</td>\n",
       "      <td>0.2</td>\n",
       "      <td>setosa</td>\n",
       "    </tr>\n",
       "    <tr>\n",
       "      <th>2</th>\n",
       "      <td>4.7</td>\n",
       "      <td>3.2</td>\n",
       "      <td>1.3</td>\n",
       "      <td>0.2</td>\n",
       "      <td>setosa</td>\n",
       "    </tr>\n",
       "    <tr>\n",
       "      <th>3</th>\n",
       "      <td>4.6</td>\n",
       "      <td>3.1</td>\n",
       "      <td>1.5</td>\n",
       "      <td>0.2</td>\n",
       "      <td>setosa</td>\n",
       "    </tr>\n",
       "    <tr>\n",
       "      <th>4</th>\n",
       "      <td>5.0</td>\n",
       "      <td>3.6</td>\n",
       "      <td>1.4</td>\n",
       "      <td>0.2</td>\n",
       "      <td>setosa</td>\n",
       "    </tr>\n",
       "    <tr>\n",
       "      <th>...</th>\n",
       "      <td>...</td>\n",
       "      <td>...</td>\n",
       "      <td>...</td>\n",
       "      <td>...</td>\n",
       "      <td>...</td>\n",
       "    </tr>\n",
       "    <tr>\n",
       "      <th>145</th>\n",
       "      <td>6.7</td>\n",
       "      <td>3.0</td>\n",
       "      <td>5.2</td>\n",
       "      <td>2.3</td>\n",
       "      <td>virginica</td>\n",
       "    </tr>\n",
       "    <tr>\n",
       "      <th>146</th>\n",
       "      <td>6.3</td>\n",
       "      <td>2.5</td>\n",
       "      <td>5.0</td>\n",
       "      <td>1.9</td>\n",
       "      <td>virginica</td>\n",
       "    </tr>\n",
       "    <tr>\n",
       "      <th>147</th>\n",
       "      <td>6.5</td>\n",
       "      <td>3.0</td>\n",
       "      <td>5.2</td>\n",
       "      <td>2.0</td>\n",
       "      <td>virginica</td>\n",
       "    </tr>\n",
       "    <tr>\n",
       "      <th>148</th>\n",
       "      <td>6.2</td>\n",
       "      <td>3.4</td>\n",
       "      <td>5.4</td>\n",
       "      <td>2.3</td>\n",
       "      <td>virginica</td>\n",
       "    </tr>\n",
       "    <tr>\n",
       "      <th>149</th>\n",
       "      <td>5.9</td>\n",
       "      <td>3.0</td>\n",
       "      <td>5.1</td>\n",
       "      <td>1.8</td>\n",
       "      <td>virginica</td>\n",
       "    </tr>\n",
       "  </tbody>\n",
       "</table>\n",
       "<p>150 rows × 5 columns</p>\n",
       "</div>"
      ],
      "text/plain": [
       "     sepal_length  sepal_width  petal_length  petal_width    species\n",
       "0             5.1          3.5           1.4          0.2     setosa\n",
       "1             4.9          3.0           1.4          0.2     setosa\n",
       "2             4.7          3.2           1.3          0.2     setosa\n",
       "3             4.6          3.1           1.5          0.2     setosa\n",
       "4             5.0          3.6           1.4          0.2     setosa\n",
       "..            ...          ...           ...          ...        ...\n",
       "145           6.7          3.0           5.2          2.3  virginica\n",
       "146           6.3          2.5           5.0          1.9  virginica\n",
       "147           6.5          3.0           5.2          2.0  virginica\n",
       "148           6.2          3.4           5.4          2.3  virginica\n",
       "149           5.9          3.0           5.1          1.8  virginica\n",
       "\n",
       "[150 rows x 5 columns]"
      ]
     },
     "execution_count": 7,
     "metadata": {},
     "output_type": "execute_result"
    }
   ],
   "source": [
    "iris = pd.read_csv('../resources/iris.csv')\n",
    "iris.species = pd.Categorical(iris.species)\n",
    "iris"
   ]
  },
  {
   "cell_type": "code",
   "execution_count": 8,
   "metadata": {},
   "outputs": [
    {
     "data": {
      "text/plain": [
       "<matplotlib.text.Text at 0x10eb859e8>"
      ]
     },
     "execution_count": 8,
     "metadata": {},
     "output_type": "execute_result"
    },
    {
     "data": {
      "image/png": "[encoded data removed]",
      "text/plain": [
       "<matplotlib.figure.Figure at 0x10e19f198>"
      ]
     },
     "metadata": {},
     "output_type": "display_data"
    }
   ],
   "source": [
    "plt.scatter(iris.sepal_length,iris.sepal_width, c=iris.species.cat.codes)\n",
    "plt.xlabel('Sepal Length / cm')\n",
    "plt.ylabel('Sepal Width / cm')"
   ]
  },
  {
   "cell_type": "code",
   "execution_count": null,
   "metadata": {
    "collapsed": true
   },
   "outputs": [],
   "source": []
  }
 ],
 "metadata": {
  "celltoolbar": "Slideshow",
  "kernelspec": {
   "display_name": "Python 3",
   "language": "python",
   "name": "python3"
  },
  "language_info": {
   "codemirror_mode": {
    "name": "ipython",
    "version": 3
   },
   "file_extension": ".py",
   "mimetype": "text/x-python",
   "name": "python",
   "nbconvert_exporter": "python",
   "pygments_lexer": "ipython3",
   "version": "3.6.1"
  }
 },
 "nbformat": 4,
 "nbformat_minor": 2
}
