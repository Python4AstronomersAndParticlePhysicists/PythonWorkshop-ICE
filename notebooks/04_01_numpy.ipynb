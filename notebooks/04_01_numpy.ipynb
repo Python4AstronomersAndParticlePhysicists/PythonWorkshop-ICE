{
 "cells": [
  {
   "cell_type": "markdown",
   "metadata": {
    "slideshow": {
     "slide_type": "fragment"
    }
   },
   "source": [
    "# <img width=400 src=\"http://www.numpy.org/_static/numpy_logo.png\" alt=\"Numpy\"/>\n",
    "\n",
    "\n",
    "## Why do we need numpy?\n",
    "\n",
    "* You may have heard \"Python is slow\", this is true when it concerns looping over many small python objects\n",
    "* Python is dynamically typed and everything is an object, even an `int`. There are no primitive types.\n",
    "* Numpy's main feature is the `ndarray` class, a fixed length, homogeniously typed array class.\n",
    "* Numpy implements a lot of functionality in fast c, cython and fortran code to work on these arrays\n",
    "* python with vectorized operations using numpy can be blazingly fast\n",
    "\n",
    "See: [Python is not C](https://www.ibm.com/developerworks/community/blogs/jfp/entry/Python_Is_Not_C?lang=en)\n",
    "\n",
    "But the most important reason:\n",
    "\n",
    "* More beautiful code"
   ]
  },
  {
   "cell_type": "code",
   "execution_count": 1,
   "metadata": {
    "collapsed": true,
    "slideshow": {
     "slide_type": "fragment"
    }
   },
   "outputs": [],
   "source": [
    "import numpy as np"
   ]
  },
  {
   "cell_type": "markdown",
   "metadata": {},
   "source": [
    "## More beautiful code through vectorisation\n",
    "\n",
    "pure python with list comprehension"
   ]
  },
  {
   "cell_type": "code",
   "execution_count": 2,
   "metadata": {},
   "outputs": [
    {
     "data": {
      "text/plain": [
       "[12.12, 36.239999999999995, 49.4]"
      ]
     },
     "execution_count": 2,
     "metadata": {},
     "output_type": "execute_result"
    }
   ],
   "source": [
    "voltages = [10.1, 15.1, 9.5]\n",
    "currents = [1.2, 2.4, 5.2]\n",
    "\n",
    "resistances = [U * I for U, I in zip(voltages, currents)]\n",
    "resistances"
   ]
  },
  {
   "cell_type": "markdown",
   "metadata": {},
   "source": [
    "Using numpy"
   ]
  },
  {
   "cell_type": "code",
   "execution_count": 3,
   "metadata": {},
   "outputs": [
    {
     "data": {
      "text/plain": [
       "array([ 12.12,  36.24,  49.4 ])"
      ]
     },
     "execution_count": 3,
     "metadata": {},
     "output_type": "execute_result"
    }
   ],
   "source": [
    "U = np.array([10.1, 15.1, 9.5])\n",
    "I = np.array([1.2, 2.4, 5.2])\n",
    "\n",
    "R = U * I\n",
    "R"
   ]
  },
  {
   "cell_type": "markdown",
   "metadata": {},
   "source": [
    "### Finding the point with the smallest distance"
   ]
  },
  {
   "cell_type": "code",
   "execution_count": 4,
   "metadata": {},
   "outputs": [
    {
     "name": "stdout",
     "output_type": "stream",
     "text": [
      "2.0 (3, 2)\n"
     ]
    }
   ],
   "source": [
    "import math\n",
    "\n",
    "def euclidean_distance(p1, p2):\n",
    "    return math.sqrt((p1[0] - p2[0])**2 + (p1[1] - p2[1])**2)\n",
    "\n",
    "point = (1, 2)\n",
    "points = [(3, 2), (4, 2), (3, 0)]\n",
    "\n",
    "min_distance = float('inf')\n",
    "for other in points:\n",
    "    distance = euclidean_distance(point, other)\n",
    "    if distance < min_distance:\n",
    "        closest = other\n",
    "        min_distance = distance \n",
    "\n",
    "print(min_distance, closest)"
   ]
  },
  {
   "cell_type": "code",
   "execution_count": 5,
   "metadata": {},
   "outputs": [
    {
     "name": "stdout",
     "output_type": "stream",
     "text": [
      "2.0 [3 2]\n"
     ]
    }
   ],
   "source": [
    "point = np.array([1, 2])\n",
    "points = np.array([(3, 2), (4, 2), (3, 0)])\n",
    "\n",
    "distance = np.linalg.norm(point - points, axis=1)\n",
    "idx = np.argmin(distance)\n",
    "\n",
    "print(distance[idx], points[idx])"
   ]
  },
  {
   "cell_type": "markdown",
   "metadata": {},
   "source": [
    "## Small example timings"
   ]
  },
  {
   "cell_type": "code",
   "execution_count": 6,
   "metadata": {
    "collapsed": true
   },
   "outputs": [],
   "source": [
    "import math\n",
    "\n",
    "\n",
    "def var(data):\n",
    "    '''\n",
    "    knuth's algorithm for one-pass calculation of the variance\n",
    "    Avoids rounding errors of large numbers when doing the naive\n",
    "    approach of `sum(v**2 for v in data) - sum(v)**2`\n",
    "    '''\n",
    "    \n",
    "    n = 0\n",
    "    mean = 0.0\n",
    "    m2 = 0.0\n",
    "    \n",
    "    if len(data) < 2:\n",
    "        return float('nan')\n",
    "\n",
    "    for value in data:\n",
    "        n += 1\n",
    "        delta = value - mean\n",
    "        mean += delta / n\n",
    "        delta2 = value - mean\n",
    "        m2 += delta * delta2\n",
    "\n",
    "    return m2 / n "
   ]
  },
  {
   "cell_type": "code",
   "execution_count": 7,
   "metadata": {},
   "outputs": [
    {
     "data": {
      "text/plain": [
       "[0, 1, 2, 3, 4, 5, 6, 7, 8, 9]"
      ]
     },
     "execution_count": 7,
     "metadata": {},
     "output_type": "execute_result"
    }
   ],
   "source": [
    "list(range(10))"
   ]
  },
  {
   "cell_type": "code",
   "execution_count": 8,
   "metadata": {},
   "outputs": [
    {
     "name": "stdout",
     "output_type": "stream",
     "text": [
      "231 µs ± 11.5 µs per loop (mean ± std. dev. of 7 runs, 1000 loops each)\n"
     ]
    }
   ],
   "source": [
    "%%timeit\n",
    "\n",
    "l = list(range(1000))\n",
    "var(l)"
   ]
  },
  {
   "cell_type": "code",
   "execution_count": 9,
   "metadata": {},
   "outputs": [
    {
     "name": "stdout",
     "output_type": "stream",
     "text": [
      "31.1 µs ± 7.2 µs per loop (mean ± std. dev. of 7 runs, 10000 loops each)\n"
     ]
    }
   ],
   "source": [
    "%%timeit\n",
    "\n",
    "a = np.arange(1000)  # array with numbers 0,...,999\n",
    "\n",
    "np.var(a)"
   ]
  },
  {
   "cell_type": "markdown",
   "metadata": {},
   "source": [
    "## Basic math: vectorized\n",
    "\n",
    "Operations on numpy arrays work vectorized, element-by-element\n",
    "\n",
    "** Lose your loops **"
   ]
  },
  {
   "cell_type": "code",
   "execution_count": 10,
   "metadata": {
    "collapsed": true
   },
   "outputs": [],
   "source": [
    "# create a numpy array from a python a python list\n",
    "a = np.array([1.0, 3.5, 7.1, 4, 6])"
   ]
  },
  {
   "cell_type": "code",
   "execution_count": 11,
   "metadata": {},
   "outputs": [
    {
     "data": {
      "text/plain": [
       "array([  2. ,   7. ,  14.2,   8. ,  12. ])"
      ]
     },
     "execution_count": 11,
     "metadata": {},
     "output_type": "execute_result"
    }
   ],
   "source": [
    "2 * a"
   ]
  },
  {
   "cell_type": "code",
   "execution_count": 12,
   "metadata": {},
   "outputs": [
    {
     "data": {
      "text/plain": [
       "array([  1.  ,  12.25,  50.41,  16.  ,  36.  ])"
      ]
     },
     "execution_count": 12,
     "metadata": {},
     "output_type": "execute_result"
    }
   ],
   "source": [
    "a**2"
   ]
  },
  {
   "cell_type": "code",
   "execution_count": 13,
   "metadata": {},
   "outputs": [
    {
     "data": {
      "text/plain": [
       "array([  1.00000000e+00,   8.02117802e+01,   1.10645633e+06,\n",
       "         2.56000000e+02,   4.66560000e+04])"
      ]
     },
     "execution_count": 13,
     "metadata": {},
     "output_type": "execute_result"
    }
   ],
   "source": [
    "a**a"
   ]
  },
  {
   "cell_type": "code",
   "execution_count": 14,
   "metadata": {},
   "outputs": [
    {
     "data": {
      "text/plain": [
       "array([ 0.54030231, -0.93645669,  0.68454667, -0.65364362,  0.96017029])"
      ]
     },
     "execution_count": 14,
     "metadata": {},
     "output_type": "execute_result"
    }
   ],
   "source": [
    "np.cos(a)"
   ]
  },
  {
   "cell_type": "markdown",
   "metadata": {},
   "source": [
    "**Attention: You need the `cos` from numpy!**"
   ]
  },
  {
   "cell_type": "code",
   "execution_count": 15,
   "metadata": {},
   "outputs": [
    {
     "ename": "TypeError",
     "evalue": "only length-1 arrays can be converted to Python scalars",
     "output_type": "error",
     "traceback": [
      "\u001b[0;31m---------------------------------------------------------------------------\u001b[0m",
      "\u001b[0;31mTypeError\u001b[0m                                 Traceback (most recent call last)",
      "\u001b[0;32m<ipython-input-15-6e3042d4a5de>\u001b[0m in \u001b[0;36m<module>\u001b[0;34m()\u001b[0m\n\u001b[0;32m----> 1\u001b[0;31m \u001b[0mmath\u001b[0m\u001b[0;34m.\u001b[0m\u001b[0mcos\u001b[0m\u001b[0;34m(\u001b[0m\u001b[0ma\u001b[0m\u001b[0;34m)\u001b[0m\u001b[0;34m\u001b[0m\u001b[0m\n\u001b[0m",
      "\u001b[0;31mTypeError\u001b[0m: only length-1 arrays can be converted to Python scalars"
     ]
    }
   ],
   "source": [
    "math.cos(a)"
   ]
  },
  {
   "cell_type": "markdown",
   "metadata": {},
   "source": [
    "Most normal python functions with basic operators like `*`, `+`, `**` simply work because\n",
    "of operator overloading:"
   ]
  },
  {
   "cell_type": "code",
   "execution_count": 16,
   "metadata": {},
   "outputs": [
    {
     "data": {
      "text/plain": [
       "array([   2.   ,  -14.875, -249.991,  -28.   , -138.   ])"
      ]
     },
     "execution_count": 16,
     "metadata": {},
     "output_type": "execute_result"
    }
   ],
   "source": [
    "def poly(x):\n",
    "    return x + 2 * x**2 - x**3\n",
    "\n",
    "poly(a)"
   ]
  },
  {
   "cell_type": "code",
   "execution_count": 18,
   "metadata": {},
   "outputs": [
    {
     "data": {
      "text/plain": [
       "(-2.589142896867319, -8.125475224531307)"
      ]
     },
     "execution_count": 18,
     "metadata": {},
     "output_type": "execute_result"
    }
   ],
   "source": [
    "poly(np.e), poly(np.pi)"
   ]
  },
  {
   "cell_type": "markdown",
   "metadata": {},
   "source": [
    "## Useful properties"
   ]
  },
  {
   "cell_type": "code",
   "execution_count": 19,
   "metadata": {},
   "outputs": [
    {
     "data": {
      "text/plain": [
       "5"
      ]
     },
     "execution_count": 19,
     "metadata": {},
     "output_type": "execute_result"
    }
   ],
   "source": [
    "len(a)"
   ]
  },
  {
   "cell_type": "code",
   "execution_count": 20,
   "metadata": {},
   "outputs": [
    {
     "data": {
      "text/plain": [
       "(5,)"
      ]
     },
     "execution_count": 20,
     "metadata": {},
     "output_type": "execute_result"
    }
   ],
   "source": [
    "a.shape"
   ]
  },
  {
   "cell_type": "code",
   "execution_count": 21,
   "metadata": {},
   "outputs": [
    {
     "data": {
      "text/plain": [
       "dtype('float64')"
      ]
     },
     "execution_count": 21,
     "metadata": {},
     "output_type": "execute_result"
    }
   ],
   "source": [
    "a.dtype"
   ]
  },
  {
   "cell_type": "code",
   "execution_count": 22,
   "metadata": {},
   "outputs": [
    {
     "data": {
      "text/plain": [
       "1"
      ]
     },
     "execution_count": 22,
     "metadata": {},
     "output_type": "execute_result"
    }
   ],
   "source": [
    "a.ndim"
   ]
  },
  {
   "cell_type": "markdown",
   "metadata": {},
   "source": [
    "## Arbitrary dimension arrays"
   ]
  },
  {
   "cell_type": "code",
   "execution_count": 23,
   "metadata": {},
   "outputs": [
    {
     "data": {
      "text/plain": [
       "array([[ 2,  4,  6],\n",
       "       [ 8, 10, 12],\n",
       "       [14, 16, 18]])"
      ]
     },
     "execution_count": 23,
     "metadata": {},
     "output_type": "execute_result"
    }
   ],
   "source": [
    "# two-dimensional array\n",
    "y = np.array([[1, 2, 3],\n",
    "              [4, 5, 6],\n",
    "              [7, 8, 9]])\n",
    "\n",
    "y + y"
   ]
  },
  {
   "cell_type": "code",
   "execution_count": 24,
   "metadata": {},
   "outputs": [
    {
     "data": {
      "text/plain": [
       "array([[ 30,  36,  42],\n",
       "       [ 66,  81,  96],\n",
       "       [102, 126, 150]])"
      ]
     },
     "execution_count": 24,
     "metadata": {},
     "output_type": "execute_result"
    }
   ],
   "source": [
    "## since python 3.5 @ is matrix product\n",
    "y @ y"
   ]
  },
  {
   "cell_type": "code",
   "execution_count": 25,
   "metadata": {},
   "outputs": [
    {
     "data": {
      "text/plain": [
       "array([[ 2,  4,  6],\n",
       "       [ 5,  7,  9],\n",
       "       [ 8, 10, 12]])"
      ]
     },
     "execution_count": 25,
     "metadata": {},
     "output_type": "execute_result"
    }
   ],
   "source": [
    "# Broadcasting, changing array dimensions to fit the larger one\n",
    "\n",
    "y + np.array([1, 2, 3])"
   ]
  },
  {
   "cell_type": "markdown",
   "metadata": {},
   "source": [
    "## Reduction operations\n",
    "\n",
    "Numpy has many operations, which reduce dimensionality of arrays"
   ]
  },
  {
   "cell_type": "code",
   "execution_count": 26,
   "metadata": {
    "collapsed": true
   },
   "outputs": [],
   "source": [
    "x = np.random.normal(0, 1, 1000)"
   ]
  },
  {
   "cell_type": "code",
   "execution_count": 28,
   "metadata": {},
   "outputs": [
    {
     "data": {
      "text/plain": [
       "19.655378655439939"
      ]
     },
     "execution_count": 28,
     "metadata": {},
     "output_type": "execute_result"
    }
   ],
   "source": [
    "np.sum(x)"
   ]
  },
  {
   "cell_type": "code",
   "execution_count": 29,
   "metadata": {},
   "outputs": [
    {
     "data": {
      "text/plain": [
       "-1.0344065546056501e-293"
      ]
     },
     "execution_count": 29,
     "metadata": {},
     "output_type": "execute_result"
    }
   ],
   "source": [
    "np.prod(x)"
   ]
  },
  {
   "cell_type": "code",
   "execution_count": 30,
   "metadata": {},
   "outputs": [
    {
     "data": {
      "text/plain": [
       "0.01965537865543994"
      ]
     },
     "execution_count": 30,
     "metadata": {},
     "output_type": "execute_result"
    }
   ],
   "source": [
    "np.mean(x)"
   ]
  },
  {
   "cell_type": "markdown",
   "metadata": {},
   "source": [
    "Standard Deviation"
   ]
  },
  {
   "cell_type": "code",
   "execution_count": 31,
   "metadata": {},
   "outputs": [
    {
     "data": {
      "text/plain": [
       "0.96830751222407152"
      ]
     },
     "execution_count": 31,
     "metadata": {},
     "output_type": "execute_result"
    }
   ],
   "source": [
    "np.std(x)"
   ]
  },
  {
   "cell_type": "markdown",
   "metadata": {},
   "source": [
    "Standard error of the mean"
   ]
  },
  {
   "cell_type": "code",
   "execution_count": 32,
   "metadata": {},
   "outputs": [
    {
     "data": {
      "text/plain": [
       "0.030635893919156273"
      ]
     },
     "execution_count": 32,
     "metadata": {},
     "output_type": "execute_result"
    }
   ],
   "source": [
    "np.std(x, ddof=1) / np.sqrt(len(x))"
   ]
  },
  {
   "cell_type": "markdown",
   "metadata": {},
   "source": [
    "Sample Standard Deviation"
   ]
  },
  {
   "cell_type": "code",
   "execution_count": 33,
   "metadata": {},
   "outputs": [
    {
     "data": {
      "text/plain": [
       "0.96879202939836173"
      ]
     },
     "execution_count": 33,
     "metadata": {},
     "output_type": "execute_result"
    }
   ],
   "source": [
    "np.std(x, ddof=1)"
   ]
  },
  {
   "cell_type": "markdown",
   "metadata": {},
   "source": [
    "Most of the numpy functions are also methods of the array"
   ]
  },
  {
   "cell_type": "code",
   "execution_count": 34,
   "metadata": {},
   "outputs": [
    {
     "data": {
      "text/plain": [
       "(0.01965537865543994,\n",
       " 0.96830751222407152,\n",
       " 3.29685437238488,\n",
       " -2.4088194062162374)"
      ]
     },
     "execution_count": 34,
     "metadata": {},
     "output_type": "execute_result"
    }
   ],
   "source": [
    "x.mean(), x.std(), x.max(), x.min()"
   ]
  },
  {
   "cell_type": "markdown",
   "metadata": {},
   "source": [
    "Difference between neighbor elements"
   ]
  },
  {
   "cell_type": "code",
   "execution_count": 37,
   "metadata": {},
   "outputs": [
    {
     "name": "stdout",
     "output_type": "stream",
     "text": [
      "[ 0  1  4  9 16 25 36 49 64 81]\n",
      "[ 1  3  5  7  9 11 13 15 17]\n"
     ]
    }
   ],
   "source": [
    "z = np.arange(10)**2\n",
    "diff_z = np.diff(z)\n",
    "\n",
    "print(z)\n",
    "print(diff_z)"
   ]
  },
  {
   "cell_type": "markdown",
   "metadata": {},
   "source": [
    "### Reductions on multi-dimensional arrays\n"
   ]
  },
  {
   "cell_type": "code",
   "execution_count": 39,
   "metadata": {},
   "outputs": [
    {
     "data": {
      "text/plain": [
       "array([[ 0,  1,  2,  3,  4],\n",
       "       [ 5,  6,  7,  8,  9],\n",
       "       [10, 11, 12, 13, 14],\n",
       "       [15, 16, 17, 18, 19]])"
      ]
     },
     "execution_count": 39,
     "metadata": {},
     "output_type": "execute_result"
    }
   ],
   "source": [
    "array2d = np.arange(20).reshape(4, 5)\n",
    "\n",
    "array2d"
   ]
  },
  {
   "cell_type": "code",
   "execution_count": 40,
   "metadata": {},
   "outputs": [
    {
     "data": {
      "text/plain": [
       "array([30, 34, 38, 42, 46])"
      ]
     },
     "execution_count": 40,
     "metadata": {},
     "output_type": "execute_result"
    }
   ],
   "source": [
    "np.sum(array2d, axis=0)"
   ]
  },
  {
   "cell_type": "code",
   "execution_count": 41,
   "metadata": {},
   "outputs": [
    {
     "data": {
      "text/plain": [
       "array([ 2.,  2.,  2.,  2.])"
      ]
     },
     "execution_count": 41,
     "metadata": {},
     "output_type": "execute_result"
    }
   ],
   "source": [
    "np.var(array2d, axis=1)"
   ]
  },
  {
   "cell_type": "markdown",
   "metadata": {},
   "source": [
    "## Exercise 1\n",
    "\n",
    "Write a function that calculates the analytical linear regression for a set of\n",
    "x and y values.\n",
    "\n",
    "Reminder:\n",
    "\n",
    "$$ f(x) = a \\cdot x + b$$\n",
    "\n",
    "with \n",
    "\n",
    "$$\n",
    "\\hat{a} = \\frac{\\mathrm{Cov}(x, y)}{\\mathrm{Var}(x)} \\\\\n",
    "\\hat{b} = \\bar{y} - \\hat{a} \\cdot \\bar{x}\n",
    "$$"
   ]
  },
  {
   "cell_type": "code",
   "execution_count": 42,
   "metadata": {
    "collapsed": true
   },
   "outputs": [],
   "source": [
    "# %load 04_01_numpy_solutions/exercise_linear.py"
   ]
  },
  {
   "cell_type": "code",
   "execution_count": null,
   "metadata": {},
   "outputs": [],
   "source": [
    "x = np.linspace(0, 1, 50)\n",
    "y = 5 * np.random.normal(x, 0.1) + 2  # see section on random numbers later\n",
    "\n",
    "a, b = linear_regression(x, y)\n",
    "a, b"
   ]
  },
  {
   "cell_type": "markdown",
   "metadata": {},
   "source": [
    "## Helpers for creating arrays"
   ]
  },
  {
   "cell_type": "code",
   "execution_count": 44,
   "metadata": {},
   "outputs": [
    {
     "data": {
      "text/plain": [
       "array([ 0.,  0.,  0.,  0.,  0.,  0.,  0.,  0.,  0.,  0.])"
      ]
     },
     "execution_count": 44,
     "metadata": {},
     "output_type": "execute_result"
    }
   ],
   "source": [
    "np.zeros(10)"
   ]
  },
  {
   "cell_type": "code",
   "execution_count": 45,
   "metadata": {},
   "outputs": [
    {
     "data": {
      "text/plain": [
       "array([[ 1.,  1.],\n",
       "       [ 1.,  1.],\n",
       "       [ 1.,  1.],\n",
       "       [ 1.,  1.],\n",
       "       [ 1.,  1.]])"
      ]
     },
     "execution_count": 45,
     "metadata": {},
     "output_type": "execute_result"
    }
   ],
   "source": [
    "np.ones((5, 2))"
   ]
  },
  {
   "cell_type": "code",
   "execution_count": 47,
   "metadata": {},
   "outputs": [
    {
     "data": {
      "text/plain": [
       "array([ nan,  nan,  nan,  nan,  nan])"
      ]
     },
     "execution_count": 47,
     "metadata": {},
     "output_type": "execute_result"
    }
   ],
   "source": [
    "np.full(5, np.nan)"
   ]
  },
  {
   "cell_type": "code",
   "execution_count": 48,
   "metadata": {},
   "outputs": [
    {
     "data": {
      "text/plain": [
       "array([ 0.,  0.,  0.,  0.,  0.,  0.,  0.,  0.,  0.,  0.])"
      ]
     },
     "execution_count": 48,
     "metadata": {},
     "output_type": "execute_result"
    }
   ],
   "source": [
    "np.empty(10)  # attention, uninitialised memory, be carefull"
   ]
  },
  {
   "cell_type": "code",
   "execution_count": 49,
   "metadata": {},
   "outputs": [
    {
     "data": {
      "text/plain": [
       "array([-2.])"
      ]
     },
     "execution_count": 49,
     "metadata": {},
     "output_type": "execute_result"
    }
   ],
   "source": [
    "np.linspace(-2, 1, 1)"
   ]
  },
  {
   "cell_type": "code",
   "execution_count": 55,
   "metadata": {},
   "outputs": [
    {
     "data": {
      "text/plain": [
       "array([0, 1, 2, 3, 4])"
      ]
     },
     "execution_count": 55,
     "metadata": {},
     "output_type": "execute_result"
    }
   ],
   "source": [
    "# like range() for arrays:\n",
    "np.arange(5)"
   ]
  },
  {
   "cell_type": "code",
   "execution_count": 56,
   "metadata": {},
   "outputs": [
    {
     "data": {
      "text/plain": [
       "array([2, 4, 6, 8])"
      ]
     },
     "execution_count": 56,
     "metadata": {},
     "output_type": "execute_result"
    }
   ],
   "source": [
    "np.arange(2, 10, 2)"
   ]
  },
  {
   "cell_type": "code",
   "execution_count": 57,
   "metadata": {},
   "outputs": [
    {
     "data": {
      "text/plain": [
       "array([  1.00000000e-04,   1.00000000e-03,   1.00000000e-02,\n",
       "         1.00000000e-01,   1.00000000e+00,   1.00000000e+01,\n",
       "         1.00000000e+02,   1.00000000e+03,   1.00000000e+04,\n",
       "         1.00000000e+05])"
      ]
     },
     "execution_count": 57,
     "metadata": {},
     "output_type": "execute_result"
    }
   ],
   "source": [
    "np.logspace(-4, 5, 10)"
   ]
  },
  {
   "cell_type": "code",
   "execution_count": 61,
   "metadata": {},
   "outputs": [
    {
     "data": {
      "text/plain": [
       "array([  2.,   4.,   8.,  16.])"
      ]
     },
     "execution_count": 61,
     "metadata": {},
     "output_type": "execute_result"
    }
   ],
   "source": [
    "np.logspace(1, 4, 4, base=2)"
   ]
  },
  {
   "cell_type": "markdown",
   "metadata": {},
   "source": [
    "## Numpy Indexing\n",
    "\n",
    "* Element access\n",
    "* Slicing"
   ]
  },
  {
   "cell_type": "code",
   "execution_count": 62,
   "metadata": {},
   "outputs": [
    {
     "data": {
      "text/plain": [
       "array([0, 1, 2, 3, 4, 5, 6, 7, 8, 9])"
      ]
     },
     "execution_count": 62,
     "metadata": {},
     "output_type": "execute_result"
    }
   ],
   "source": [
    "x = np.arange(0, 10)\n",
    "\n",
    "# like lists:\n",
    "x"
   ]
  },
  {
   "cell_type": "code",
   "execution_count": 63,
   "metadata": {},
   "outputs": [
    {
     "data": {
      "text/plain": [
       "0"
      ]
     },
     "execution_count": 63,
     "metadata": {},
     "output_type": "execute_result"
    }
   ],
   "source": [
    "# like lists:\n",
    "x[0]"
   ]
  },
  {
   "cell_type": "code",
   "execution_count": 64,
   "metadata": {},
   "outputs": [
    {
     "data": {
      "text/plain": [
       "array([1, 2, 3])"
      ]
     },
     "execution_count": 64,
     "metadata": {},
     "output_type": "execute_result"
    }
   ],
   "source": [
    "# all elements with indices ≥1 and <4:\n",
    "x[1:4]"
   ]
  },
  {
   "cell_type": "code",
   "execution_count": 65,
   "metadata": {},
   "outputs": [
    {
     "data": {
      "text/plain": [
       "(9, 8)"
      ]
     },
     "execution_count": 65,
     "metadata": {},
     "output_type": "execute_result"
    }
   ],
   "source": [
    "# negative indices count from the end\n",
    "x[-1], x[-2]"
   ]
  },
  {
   "cell_type": "code",
   "execution_count": 66,
   "metadata": {},
   "outputs": [
    {
     "data": {
      "text/plain": [
       "array([3, 4, 5, 6, 7])"
      ]
     },
     "execution_count": 66,
     "metadata": {},
     "output_type": "execute_result"
    }
   ],
   "source": [
    "# combination:\n",
    "x[3:-2]"
   ]
  },
  {
   "cell_type": "code",
   "execution_count": 67,
   "metadata": {},
   "outputs": [
    {
     "data": {
      "text/plain": [
       "array([0, 2, 4, 6, 8])"
      ]
     },
     "execution_count": 67,
     "metadata": {},
     "output_type": "execute_result"
    }
   ],
   "source": [
    "# step size\n",
    "x[::2]"
   ]
  },
  {
   "cell_type": "code",
   "execution_count": 68,
   "metadata": {},
   "outputs": [
    {
     "data": {
      "text/plain": [
       "array([9, 8, 7, 6, 5, 4, 3, 2, 1, 0])"
      ]
     },
     "execution_count": 68,
     "metadata": {},
     "output_type": "execute_result"
    }
   ],
   "source": [
    "# trick for reversal: negative step\n",
    "x[::-1]"
   ]
  },
  {
   "cell_type": "code",
   "execution_count": 69,
   "metadata": {},
   "outputs": [
    {
     "data": {
      "text/plain": [
       "array([[ 0,  1,  2,  3,  4,  5,  6,  7,  8,  9],\n",
       "       [10, 11, 12, 13, 14, 15, 16, 17, 18, 19],\n",
       "       [20, 21, 22, 23, 24, 25, 26, 27, 28, 29],\n",
       "       [30, 31, 32, 33, 34, 35, 36, 37, 38, 39]])"
      ]
     },
     "execution_count": 69,
     "metadata": {},
     "output_type": "execute_result"
    }
   ],
   "source": [
    "y = np.array([x, x + 10, x + 20, x + 30])\n",
    "y"
   ]
  },
  {
   "cell_type": "code",
   "execution_count": 70,
   "metadata": {},
   "outputs": [
    {
     "data": {
      "text/plain": [
       "array([20, 21, 22, 23, 24, 25, 26, 27, 28, 29])"
      ]
     },
     "execution_count": 70,
     "metadata": {},
     "output_type": "execute_result"
    }
   ],
   "source": [
    "# only one index ⇒ one-dimensional array\n",
    "y[2]"
   ]
  },
  {
   "cell_type": "code",
   "execution_count": 71,
   "metadata": {},
   "outputs": [
    {
     "data": {
      "text/plain": [
       "array([ 3, 13, 23, 33])"
      ]
     },
     "execution_count": 71,
     "metadata": {},
     "output_type": "execute_result"
    }
   ],
   "source": [
    "# other axis: (: alone means the whole axis)\n",
    "y[:, 3]"
   ]
  },
  {
   "cell_type": "code",
   "execution_count": 72,
   "metadata": {},
   "outputs": [
    {
     "data": {
      "text/plain": [
       "(4, 2)"
      ]
     },
     "execution_count": 72,
     "metadata": {},
     "output_type": "execute_result"
    }
   ],
   "source": [
    "# inspecting the number of elements per axis:\n",
    "y[:, 1:3].shape"
   ]
  },
  {
   "cell_type": "markdown",
   "metadata": {},
   "source": [
    "# Changing array content"
   ]
  },
  {
   "cell_type": "code",
   "execution_count": 73,
   "metadata": {},
   "outputs": [
    {
     "data": {
      "text/plain": [
       "array([[ 0,  1,  2,  3,  4,  5,  6,  7,  8,  9],\n",
       "       [10, 11, 12, 13, 14, 15, 16, 17, 18, 19],\n",
       "       [20, 21, 22, 23, 24, 25, 26, 27, 28, 29],\n",
       "       [30, 31, 32, 33, 34, 35, 36, 37, 38, 39]])"
      ]
     },
     "execution_count": 73,
     "metadata": {},
     "output_type": "execute_result"
    }
   ],
   "source": [
    "y"
   ]
  },
  {
   "cell_type": "code",
   "execution_count": 74,
   "metadata": {},
   "outputs": [
    {
     "data": {
      "text/plain": [
       "array([[ 0,  1,  2,  0,  4,  5,  6,  7,  8,  9],\n",
       "       [10, 11, 12,  0, 14, 15, 16, 17, 18, 19],\n",
       "       [20, 21, 22,  0, 24, 25, 26, 27, 28, 29],\n",
       "       [30, 31, 32,  0, 34, 35, 36, 37, 38, 39]])"
      ]
     },
     "execution_count": 74,
     "metadata": {},
     "output_type": "execute_result"
    }
   ],
   "source": [
    "y[:, 3] = 0\n",
    "y"
   ]
  },
  {
   "cell_type": "markdown",
   "metadata": {},
   "source": [
    "Using slices on both sides"
   ]
  },
  {
   "cell_type": "code",
   "execution_count": 75,
   "metadata": {},
   "outputs": [
    {
     "data": {
      "text/plain": [
       "array([[ 3,  1,  2,  0,  4,  5,  6,  7,  8,  9],\n",
       "       [ 4, 11, 12,  0, 14, 15, 16, 17, 18, 19],\n",
       "       [ 5, 21, 22,  0, 24, 25, 26, 27, 28, 29],\n",
       "       [ 6, 31, 32,  0, 34, 35, 36, 37, 38, 39]])"
      ]
     },
     "execution_count": 75,
     "metadata": {},
     "output_type": "execute_result"
    }
   ],
   "source": [
    "y[:,0] = x[3:7]\n",
    "y"
   ]
  },
  {
   "cell_type": "markdown",
   "metadata": {},
   "source": [
    "Transposing inverts the order of the dimensions"
   ]
  },
  {
   "cell_type": "code",
   "execution_count": 76,
   "metadata": {},
   "outputs": [
    {
     "data": {
      "text/plain": [
       "array([[ 3,  1,  2,  0,  4,  5,  6,  7,  8,  9],\n",
       "       [ 4, 11, 12,  0, 14, 15, 16, 17, 18, 19],\n",
       "       [ 5, 21, 22,  0, 24, 25, 26, 27, 28, 29],\n",
       "       [ 6, 31, 32,  0, 34, 35, 36, 37, 38, 39]])"
      ]
     },
     "execution_count": 76,
     "metadata": {},
     "output_type": "execute_result"
    }
   ],
   "source": [
    "y"
   ]
  },
  {
   "cell_type": "code",
   "execution_count": 77,
   "metadata": {},
   "outputs": [
    {
     "data": {
      "text/plain": [
       "(4, 10)"
      ]
     },
     "execution_count": 77,
     "metadata": {},
     "output_type": "execute_result"
    }
   ],
   "source": [
    "y.shape"
   ]
  },
  {
   "cell_type": "code",
   "execution_count": 78,
   "metadata": {},
   "outputs": [
    {
     "data": {
      "text/plain": [
       "array([[ 3,  4,  5,  6],\n",
       "       [ 1, 11, 21, 31],\n",
       "       [ 2, 12, 22, 32],\n",
       "       [ 0,  0,  0,  0],\n",
       "       [ 4, 14, 24, 34],\n",
       "       [ 5, 15, 25, 35],\n",
       "       [ 6, 16, 26, 36],\n",
       "       [ 7, 17, 27, 37],\n",
       "       [ 8, 18, 28, 38],\n",
       "       [ 9, 19, 29, 39]])"
      ]
     },
     "execution_count": 78,
     "metadata": {},
     "output_type": "execute_result"
    }
   ],
   "source": [
    "y.T"
   ]
  },
  {
   "cell_type": "code",
   "execution_count": 79,
   "metadata": {},
   "outputs": [
    {
     "data": {
      "text/plain": [
       "(10, 4)"
      ]
     },
     "execution_count": 79,
     "metadata": {},
     "output_type": "execute_result"
    }
   ],
   "source": [
    "y.T.shape"
   ]
  },
  {
   "cell_type": "markdown",
   "metadata": {},
   "source": [
    "# Masks\n",
    "\n",
    "* A boolean array can be used to select only the element where it contains `True`.\n",
    "* Very powerfull tool to select certain elements that fullfill a certain condition"
   ]
  },
  {
   "cell_type": "code",
   "execution_count": 80,
   "metadata": {},
   "outputs": [
    {
     "name": "stdout",
     "output_type": "stream",
     "text": [
      "[False  True False False False  True False False  True  True False]\n",
      "[ 0.2  1.   1.6  1.8]\n"
     ]
    }
   ],
   "source": [
    "a = np.linspace(0, 2, 11)\n",
    "b = np.random.normal(0, 1, 11)\n",
    "\n",
    "print(b >= 0)\n",
    "print(a[b >= 0])"
   ]
  },
  {
   "cell_type": "code",
   "execution_count": 81,
   "metadata": {},
   "outputs": [
    {
     "data": {
      "text/plain": [
       "array([ nan,  0.2,  nan,  0.6,  0.8,  1. ,  1.2,  1.4,  1.6,  1.8,  2. ])"
      ]
     },
     "execution_count": 81,
     "metadata": {},
     "output_type": "execute_result"
    }
   ],
   "source": [
    "a[[0, 2]] = np.nan\n",
    "a"
   ]
  },
  {
   "cell_type": "code",
   "execution_count": 82,
   "metadata": {},
   "outputs": [
    {
     "data": {
      "text/plain": [
       "array([-1. ,  0.2, -1. ,  0.6,  0.8,  1. ,  1.2,  1.4,  1.6,  1.8,  2. ])"
      ]
     },
     "execution_count": 82,
     "metadata": {},
     "output_type": "execute_result"
    }
   ],
   "source": [
    "a[np.isnan(a)] = -1\n",
    "a"
   ]
  },
  {
   "cell_type": "markdown",
   "metadata": {},
   "source": [
    "### Random numbers\n",
    "\n",
    "* numpy has a larger number of distributions builtin"
   ]
  },
  {
   "cell_type": "code",
   "execution_count": 84,
   "metadata": {},
   "outputs": [
    {
     "data": {
      "text/plain": [
       "array([-0.57514278, -0.2541962 , -0.27138755, -0.46221023, -0.32766479,\n",
       "        0.51027397, -0.73860296, -0.75342314, -0.33284773, -0.53300585])"
      ]
     },
     "execution_count": 84,
     "metadata": {},
     "output_type": "execute_result"
    }
   ],
   "source": [
    "np.random.uniform(-1, 1, 10)"
   ]
  },
  {
   "cell_type": "code",
   "execution_count": 86,
   "metadata": {},
   "outputs": [
    {
     "data": {
      "text/plain": [
       "array([[-7.82113651, -4.07681928, -9.61873752,  0.51879634,  6.27890798,\n",
       "        -0.52368003,  7.96228987, -3.38776995, -3.12163582,  0.18131958],\n",
       "       [-5.44323931,  3.48815262,  5.24580562,  4.48100025,  3.16809322,\n",
       "         4.93363756, -5.9652398 ,  2.35107774,  6.62356386, -1.99691584]])"
      ]
     },
     "execution_count": 86,
     "metadata": {},
     "output_type": "execute_result"
    }
   ],
   "source": [
    "np.random.normal(0, 5, (2, 10))"
   ]
  },
  {
   "cell_type": "code",
   "execution_count": 89,
   "metadata": {},
   "outputs": [
    {
     "data": {
      "text/plain": [
       "array([5, 2])"
      ]
     },
     "execution_count": 89,
     "metadata": {},
     "output_type": "execute_result"
    }
   ],
   "source": [
    "np.random.poisson(5, 2)"
   ]
  },
  {
   "cell_type": "markdown",
   "metadata": {},
   "source": [
    "## Calculating pi through monte-carlo simulation\n",
    "\n",
    "* We draw random numbers in a square with length of the sides of 2\n",
    "* We count the points which are inside the circle of radius 1\n",
    "\n",
    "The area of the square is\n",
    "\n",
    "$$\n",
    "A_\\mathrm{square} = a^2 = 4\n",
    "$$\n",
    "\n",
    "The area of the circle is\n",
    "$$\n",
    "A_\\mathrm{circle} = \\pi r^2 = \\pi\n",
    "$$\n",
    "\n",
    "With \n",
    "$$\n",
    "\\frac{n_\\mathrm{circle}}{n_\\mathrm{square}} = \\frac{A_\\mathrm{circle}}{A_\\mathrm{square}}\n",
    "$$\n",
    "We can calculate pi:\n",
    "\n",
    "$$\n",
    "\\pi = 4 \\frac{n_\\mathrm{circle}}{n_\\mathrm{square}}\n",
    "$$"
   ]
  },
  {
   "cell_type": "code",
   "execution_count": 90,
   "metadata": {},
   "outputs": [
    {
     "name": "stdout",
     "output_type": "stream",
     "text": [
      "3.1424804\n"
     ]
    }
   ],
   "source": [
    "n_square = 10000000\n",
    "\n",
    "x = np.random.uniform(-1, 1, n_square)\n",
    "y = np.random.uniform(-1, 1, n_square)\n",
    "\n",
    "radius = np.sqrt(x**2 + y**2)\n",
    "\n",
    "n_circle = np.sum(radius <= 1.0)\n",
    "\n",
    "print(4 * n_circle / n_square)"
   ]
  },
  {
   "cell_type": "markdown",
   "metadata": {},
   "source": [
    "## Exercise\n",
    "\n",
    "1. Draw 10000 gaussian random numbers with mean of $\\mu = 2$ and standard deviation of $\\sigma = 3$\n",
    "2. Calculate the mean and the standard deviation of the sample\n",
    "3. What percentage of the numbers are outside of $[\\mu - \\sigma, \\mu + \\sigma]$?\n",
    "4. How many of the numbers are $> 0$?\n",
    "5. Calculate the mean and the standard deviation of all numbers ${} > 0$"
   ]
  },
  {
   "cell_type": "code",
   "execution_count": 91,
   "metadata": {},
   "outputs": [],
   "source": [
    "# %load 04_01_numpy_solutions/exercise_gaussian.py"
   ]
  },
  {
   "cell_type": "markdown",
   "metadata": {},
   "source": [
    "## Exercise\n",
    "\n",
    "Monte-Carlo uncertainty propagation\n",
    "\n",
    "* The hubble constant as measured by PLANCK is\n",
    "$$\n",
    "H_0 = (67.74 \\pm 0.47)\\,\\frac{\\mathrm{km}}{\\mathrm{s}\\cdot\\mathrm{Mpc}}\n",
    "$$\n",
    "\n",
    "* Estimate mean and the uncertainty of the velocity of a galaxy which is measured to be $(500 \\pm 100)\\,\\mathrm{Mpc}$ away\n",
    "using monte carlo methods"
   ]
  },
  {
   "cell_type": "code",
   "execution_count": null,
   "metadata": {},
   "outputs": [],
   "source": [
    "# %load 04_01_numpy_solutions/exercise_hubble.py"
   ]
  },
  {
   "cell_type": "markdown",
   "metadata": {},
   "source": [
    "## Simple io functions"
   ]
  },
  {
   "cell_type": "code",
   "execution_count": 92,
   "metadata": {
    "collapsed": true
   },
   "outputs": [],
   "source": [
    "idx = np.arange(100)\n",
    "x = np.random.normal(0, 1e5, 100)\n",
    "y = np.random.normal(0, 1, 100)\n",
    "n = np.random.poisson(20, 100)"
   ]
  },
  {
   "cell_type": "code",
   "execution_count": 93,
   "metadata": {},
   "outputs": [
    {
     "data": {
      "text/plain": [
       "((100,), (100,), (100,), (100,))"
      ]
     },
     "execution_count": 93,
     "metadata": {},
     "output_type": "execute_result"
    }
   ],
   "source": [
    "idx.shape, x.shape, y.shape, n.shape"
   ]
  },
  {
   "cell_type": "code",
   "execution_count": 94,
   "metadata": {
    "collapsed": true
   },
   "outputs": [],
   "source": [
    "np.savetxt(\n",
    "    'data.txt',\n",
    "    np.column_stack([idx, x, y, n]),\n",
    ")"
   ]
  },
  {
   "cell_type": "code",
   "execution_count": 95,
   "metadata": {},
   "outputs": [
    {
     "name": "stdout",
     "output_type": "stream",
     "text": [
      "0.000000000000000000e+00 7.944321587100188481e+04 -1.284045279035829490e-01 2.000000000000000000e+01\r\n",
      "1.000000000000000000e+00 2.076340267666639702e+05 -6.483008418687143948e-01 2.700000000000000000e+01\r\n",
      "2.000000000000000000e+00 -5.231002174333899893e+04 6.020768043670414738e-01 2.100000000000000000e+01\r\n",
      "3.000000000000000000e+00 -1.089939124044197815e+05 2.578496397826560704e-01 2.000000000000000000e+01\r\n",
      "4.000000000000000000e+00 1.320775145982903487e+05 -8.199118552380195435e-02 2.300000000000000000e+01\r\n",
      "5.000000000000000000e+00 1.133857155710812367e+05 -6.675446289695297075e-02 1.900000000000000000e+01\r\n",
      "6.000000000000000000e+00 4.443019883437853423e+04 -1.587392758883499067e-01 2.200000000000000000e+01\r\n",
      "7.000000000000000000e+00 -6.791210829997497785e+04 5.009403846673653460e-01 1.400000000000000000e+01\r\n",
      "8.000000000000000000e+00 -3.258680175104660157e+04 -7.370906456484876967e-01 2.500000000000000000e+01\r\n",
      "9.000000000000000000e+00 -1.120390914855147857e+05 -2.079417428930444289e-01 1.500000000000000000e+01\r\n"
     ]
    }
   ],
   "source": [
    "!head data.txt"
   ]
  },
  {
   "cell_type": "code",
   "execution_count": 97,
   "metadata": {},
   "outputs": [
    {
     "data": {
      "text/plain": [
       "(dtype('float64'), dtype('float64'))"
      ]
     },
     "execution_count": 97,
     "metadata": {},
     "output_type": "execute_result"
    }
   ],
   "source": [
    "# Load back the data, unpack=True is needed to read the data columnwise and not row-wise\n",
    "idx, x, y, n = np.genfromtxt('data.txt', unpack=True)\n",
    "\n",
    "idx.dtype, x.dtype"
   ]
  },
  {
   "cell_type": "markdown",
   "metadata": {},
   "source": [
    "### Problems\n",
    "\n",
    "* Everything is a float\n",
    "* Way larger file than necessary because of too much digits for floats\n",
    "* No column names"
   ]
  },
  {
   "cell_type": "markdown",
   "metadata": {},
   "source": [
    "## Numpy recarrays\n",
    "\n",
    "* Numpy recarrays can store columns of different types\n",
    "* Rows are addressed by integer index\n",
    "* Columns are addressed by strings\n",
    "\n",
    "Solution for our io problem → Column names, different types"
   ]
  },
  {
   "cell_type": "code",
   "execution_count": 98,
   "metadata": {
    "collapsed": true
   },
   "outputs": [],
   "source": [
    "# for more options on formatting see\n",
    "# https://docs.scipy.org/doc/numpy/reference/generated/numpy.savetxt.html\n",
    "\n",
    "data = np.savetxt(\n",
    "    'data.csv',\n",
    "    np.column_stack([idx, x, y, n]),\n",
    "    delimiter=',', # true csv file\n",
    "    header=','.join(['idx', 'x', 'y', 'n']),\n",
    "    fmt=['%d', '%.4g', '%.4g', '%d'],  # One formatter for each column\n",
    ")"
   ]
  },
  {
   "cell_type": "code",
   "execution_count": 100,
   "metadata": {},
   "outputs": [
    {
     "name": "stdout",
     "output_type": "stream",
     "text": [
      "# idx,x,y,n\r\n",
      "0,7.944e+04,-0.1284,20\r\n",
      "1,2.076e+05,-0.6483,27\r\n",
      "2,-5.231e+04,0.6021,21\r\n",
      "3,-1.09e+05,0.2578,20\r\n",
      "4,1.321e+05,-0.08199,23\r\n",
      "5,1.134e+05,-0.06675,19\r\n",
      "6,4.443e+04,-0.1587,22\r\n",
      "7,-6.791e+04,0.5009,14\r\n",
      "8,-3.259e+04,-0.7371,25\r\n"
     ]
    }
   ],
   "source": [
    "!head data.csv"
   ]
  },
  {
   "cell_type": "code",
   "execution_count": 101,
   "metadata": {
    "collapsed": true
   },
   "outputs": [],
   "source": [
    "data = np.genfromtxt(\n",
    "    'data.csv',\n",
    "    names=True, # load column names from first row\n",
    "    dtype=None, # Automagically determince best data type for each column\n",
    "    delimiter=',',\n",
    ")"
   ]
  },
  {
   "cell_type": "code",
   "execution_count": 103,
   "metadata": {},
   "outputs": [
    {
     "data": {
      "text/plain": [
       "array([(0,   79440., -0.1284 , 20), (1,  207600., -0.6483 , 27),\n",
       "       (2,  -52310.,  0.6021 , 21), (3, -109000.,  0.2578 , 20),\n",
       "       (4,  132100., -0.08199, 23), (5,  113400., -0.06675, 19),\n",
       "       (6,   44430., -0.1587 , 22), (7,  -67910.,  0.5009 , 14),\n",
       "       (8,  -32590., -0.7371 , 25), (9, -112000., -0.2079 , 15)], \n",
       "      dtype=[('idx', '<i8'), ('x', '<f8'), ('y', '<f8'), ('n', '<i8')])"
      ]
     },
     "execution_count": 103,
     "metadata": {},
     "output_type": "execute_result"
    }
   ],
   "source": [
    "data[:10]"
   ]
  },
  {
   "cell_type": "code",
   "execution_count": 104,
   "metadata": {},
   "outputs": [
    {
     "data": {
      "text/plain": [
       "(0,  79440., -0.1284, 20)"
      ]
     },
     "execution_count": 104,
     "metadata": {},
     "output_type": "execute_result"
    }
   ],
   "source": [
    "data[0]"
   ]
  },
  {
   "cell_type": "code",
   "execution_count": 105,
   "metadata": {},
   "outputs": [
    {
     "data": {
      "text/plain": [
       "array([20, 27, 21, 20, 23, 19, 22, 14, 25, 15, 17, 20, 22, 16, 18, 23, 15,\n",
       "       27, 19, 20, 14, 23, 15, 25, 22, 13, 21, 18, 29, 21, 14, 14, 14, 13,\n",
       "       21, 17, 25, 19, 19, 17, 20, 18, 17, 19, 26, 23, 20, 17, 15, 24, 19,\n",
       "       25, 16, 17, 28, 14, 19, 16, 24, 19, 25, 16, 22, 18, 20, 22, 19, 21,\n",
       "       15, 20, 24, 13, 14, 26, 15, 26, 21, 14, 21, 19, 20, 14, 22, 26, 15,\n",
       "       19, 23, 20, 15, 25, 14, 23, 33, 17, 20, 24, 19, 21, 18, 20])"
      ]
     },
     "execution_count": 105,
     "metadata": {},
     "output_type": "execute_result"
    }
   ],
   "source": [
    "data['n']"
   ]
  },
  {
   "cell_type": "code",
   "execution_count": 106,
   "metadata": {},
   "outputs": [
    {
     "data": {
      "text/plain": [
       "dtype([('idx', '<i8'), ('x', '<f8'), ('y', '<f8'), ('n', '<i8')])"
      ]
     },
     "execution_count": 106,
     "metadata": {},
     "output_type": "execute_result"
    }
   ],
   "source": [
    "data.dtype"
   ]
  },
  {
   "cell_type": "markdown",
   "metadata": {},
   "source": [
    "## Linear algebra\n",
    "\n",
    "Numpy offers a lot of linear algebra functionality, mostly wrapping LAPACK"
   ]
  },
  {
   "cell_type": "code",
   "execution_count": 109,
   "metadata": {},
   "outputs": [
    {
     "data": {
      "text/plain": [
       "(array([-1.40512484,  4.        ,  6.40512484]),\n",
       " array([[ -3.07818468e-01,   8.32050294e-01,   4.61454330e-01],\n",
       "        [  8.31898624e-01,  -5.10993288e-17,   5.54927635e-01],\n",
       "        [  4.61727702e-01,   5.54700196e-01,  -6.92181495e-01]]))"
      ]
     },
     "execution_count": 109,
     "metadata": {},
     "output_type": "execute_result"
    }
   ],
   "source": [
    "# symmetric matrix, use eigh\n",
    "# If not symmetric, use eig\n",
    "mat = np.array([\n",
    "    [4, 2, 0],\n",
    "    [2, 1, -3],\n",
    "    [0, -3, 4]\n",
    "])\n",
    "\n",
    "eig_vals, eig_vecs = np.linalg.eigh(mat)\n",
    "\n",
    "eig_vals, eig_vecs"
   ]
  },
  {
   "cell_type": "code",
   "execution_count": 110,
   "metadata": {},
   "outputs": [
    {
     "data": {
      "text/plain": [
       "array([[ 0.13888889,  0.22222222,  0.16666667],\n",
       "       [ 0.22222222, -0.44444444, -0.33333333],\n",
       "       [ 0.16666667, -0.33333333,  0.        ]])"
      ]
     },
     "execution_count": 110,
     "metadata": {},
     "output_type": "execute_result"
    }
   ],
   "source": [
    "np.linalg.inv(mat)"
   ]
  },
  {
   "cell_type": "markdown",
   "metadata": {},
   "source": [
    "## Numpy matrices\n",
    "\n",
    "Numpy also has a matrix class, with operator overloading suited for matrices"
   ]
  },
  {
   "cell_type": "code",
   "execution_count": 111,
   "metadata": {
    "collapsed": true
   },
   "outputs": [],
   "source": [
    "mat = np.matrix(mat)"
   ]
  },
  {
   "cell_type": "code",
   "execution_count": 112,
   "metadata": {},
   "outputs": [
    {
     "data": {
      "text/plain": [
       "matrix([[ 4,  2,  0],\n",
       "        [ 2,  1, -3],\n",
       "        [ 0, -3,  4]])"
      ]
     },
     "execution_count": 112,
     "metadata": {},
     "output_type": "execute_result"
    }
   ],
   "source": [
    "mat.T"
   ]
  },
  {
   "cell_type": "code",
   "execution_count": 113,
   "metadata": {},
   "outputs": [
    {
     "data": {
      "text/plain": [
       "matrix([[ 20,  10,  -6],\n",
       "        [ 10,  14, -15],\n",
       "        [ -6, -15,  25]])"
      ]
     },
     "execution_count": 113,
     "metadata": {},
     "output_type": "execute_result"
    }
   ],
   "source": [
    "mat ** 2"
   ]
  },
  {
   "cell_type": "code",
   "execution_count": 114,
   "metadata": {},
   "outputs": [
    {
     "data": {
      "text/plain": [
       "matrix([[ 20,  10,   0],\n",
       "        [ 10,   5, -15],\n",
       "        [  0, -15,  20]])"
      ]
     },
     "execution_count": 114,
     "metadata": {},
     "output_type": "execute_result"
    }
   ],
   "source": [
    "mat * 5"
   ]
  },
  {
   "cell_type": "code",
   "execution_count": 115,
   "metadata": {},
   "outputs": [
    {
     "data": {
      "text/plain": [
       "matrix([[ 0.13888889,  0.22222222,  0.16666667],\n",
       "        [ 0.22222222, -0.44444444, -0.33333333],\n",
       "        [ 0.16666667, -0.33333333,  0.        ]])"
      ]
     },
     "execution_count": 115,
     "metadata": {},
     "output_type": "execute_result"
    }
   ],
   "source": [
    "mat.I"
   ]
  },
  {
   "cell_type": "code",
   "execution_count": 116,
   "metadata": {},
   "outputs": [
    {
     "data": {
      "text/plain": [
       "matrix([[ 8],\n",
       "        [-5],\n",
       "        [ 6]])"
      ]
     },
     "execution_count": 116,
     "metadata": {},
     "output_type": "execute_result"
    }
   ],
   "source": [
    "mat * np.matrix([1, 2, 3]).T"
   ]
  },
  {
   "cell_type": "code",
   "execution_count": null,
   "metadata": {
    "collapsed": true
   },
   "outputs": [],
   "source": []
  }
 ],
 "metadata": {
  "anaconda-cloud": {},
  "kernelspec": {
   "display_name": "Python [default]",
   "language": "python",
   "name": "python3"
  },
  "language_info": {
   "codemirror_mode": {
    "name": "ipython",
    "version": 3
   },
   "file_extension": ".py",
   "mimetype": "text/x-python",
   "name": "python",
   "nbconvert_exporter": "python",
   "pygments_lexer": "ipython3",
   "version": "3.6.1"
  }
 },
 "nbformat": 4,
 "nbformat_minor": 1
}
