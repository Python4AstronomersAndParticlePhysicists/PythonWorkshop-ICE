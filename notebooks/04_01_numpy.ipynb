{
 "cells": [
  {
   "cell_type": "markdown",
   "metadata": {
    "slideshow": {
     "slide_type": "fragment"
    }
   },
   "source": [
    "# <img width=400 src=\"http://www.numpy.org/_static/numpy_logo.png\" alt=\"Numpy\"/>\n",
    "\n",
    "\n",
    "## Why do we need numpy?\n",
    "\n",
    "* You may have heard \"Python is slow\", this is true when it concerns looping over many small python objects\n",
    "* Python is dynamically typed and everything is an object, even an `int`. There are no primitive types.\n",
    "* Numpy's main feature is the `ndarray` class, a fixed length, homogeniously typed array class.\n",
    "* Numpy implements a lot of functionality in fast c, cython and fortran code to work on these arrays\n",
    "* python with vectorized operations using numpy can be blazingly fast\n",
    "\n",
    "See: [Python is not C](https://www.ibm.com/developerworks/community/blogs/jfp/entry/Python_Is_Not_C?lang=en)\n",
    "\n",
    "But the most important reason:\n",
    "\n",
    "* More beautiful code"
   ]
  },
  {
   "cell_type": "code",
   "execution_count": 1,
   "metadata": {
    "collapsed": true,
    "slideshow": {
     "slide_type": "fragment"
    }
   },
   "outputs": [],
   "source": [
    "import numpy as np"
   ]
  },
  {
   "cell_type": "markdown",
   "metadata": {},
   "source": [
    "## More beautiful code through vectorisation\n",
    "\n",
    "pure python with list comprehension"
   ]
  },
  {
   "cell_type": "code",
   "execution_count": 2,
   "metadata": {},
   "outputs": [
    {
     "data": {
      "text/plain": [
       "[12.12, 36.239999999999995, 49.4]"
      ]
     },
     "execution_count": 2,
     "metadata": {},
     "output_type": "execute_result"
    }
   ],
   "source": [
    "voltages = [10.1, 15.1, 9.5]\n",
    "currents = [1.2, 2.4, 5.2]\n",
    "\n",
    "resistances = [U * I for U, I in zip(voltages, currents)]\n",
    "resistances"
   ]
  },
  {
   "cell_type": "markdown",
   "metadata": {},
   "source": [
    "Using numpy"
   ]
  },
  {
   "cell_type": "code",
   "execution_count": 3,
   "metadata": {},
   "outputs": [
    {
     "data": {
      "text/plain": [
       "array([ 12.12,  36.24,  49.4 ])"
      ]
     },
     "execution_count": 3,
     "metadata": {},
     "output_type": "execute_result"
    }
   ],
   "source": [
    "U = np.array([10.1, 15.1, 9.5])\n",
    "I = np.array([1.2, 2.4, 5.2])\n",
    "\n",
    "R = U * I\n",
    "R"
   ]
  },
  {
   "cell_type": "markdown",
   "metadata": {},
   "source": [
    "### Finding the point with the smallest distance"
   ]
  },
  {
   "cell_type": "code",
   "execution_count": 4,
   "metadata": {},
   "outputs": [
    {
     "name": "stdout",
     "output_type": "stream",
     "text": [
      "2.0 (3, 2)\n"
     ]
    }
   ],
   "source": [
    "import math\n",
    "\n",
    "def euclidean_distance(p1, p2):\n",
    "    return math.sqrt((p1[0] - p2[0])**2 + (p1[1] - p2[1])**2)\n",
    "\n",
    "point = (1, 2)\n",
    "points = [(3, 2), (4, 2), (3, 0)]\n",
    "\n",
    "min_distance = float('inf')\n",
    "for other in points:\n",
    "    distance = euclidean_distance(point, other)\n",
    "    if distance < min_distance:\n",
    "        closest = other\n",
    "        min_distance = distance \n",
    "\n",
    "print(min_distance, closest)"
   ]
  },
  {
   "cell_type": "code",
   "execution_count": 5,
   "metadata": {},
   "outputs": [
    {
     "name": "stdout",
     "output_type": "stream",
     "text": [
      "2.0 [3 2]\n"
     ]
    }
   ],
   "source": [
    "point = np.array([1, 2])\n",
    "points = np.array([(3, 2), (4, 2), (3, 0)])\n",
    "\n",
    "distance = np.linalg.norm(point - points, axis=1)\n",
    "idx = np.argmin(distance)\n",
    "\n",
    "print(distance[idx], points[idx])"
   ]
  },
  {
   "cell_type": "markdown",
   "metadata": {},
   "source": [
    "## Small example timings"
   ]
  },
  {
   "cell_type": "code",
   "execution_count": 6,
   "metadata": {
    "collapsed": true
   },
   "outputs": [],
   "source": [
    "import math\n",
    "\n",
    "\n",
    "def var(data):\n",
    "    '''\n",
    "    knuth's algorithm for one-pass calculation of the variance\n",
    "    Avoids rounding errors of large numbers when doing the naive\n",
    "    approach of `sum(v**2 for v in data) - sum(v)**2`\n",
    "    '''\n",
    "    \n",
    "    n = 0\n",
    "    mean = 0.0\n",
    "    m2 = 0.0\n",
    "    \n",
    "    if len(data) < 2:\n",
    "        return float('nan')\n",
    "\n",
    "    for value in data:\n",
    "        n += 1\n",
    "        delta = value - mean\n",
    "        mean += delta / n\n",
    "        delta2 = value - mean\n",
    "        m2 += delta * delta2\n",
    "\n",
    "    return m2 / n "
   ]
  },
  {
   "cell_type": "code",
   "execution_count": 7,
   "metadata": {},
   "outputs": [
    {
     "name": "stdout",
     "output_type": "stream",
     "text": [
      "246 µs ± 5.06 µs per loop (mean ± std. dev. of 7 runs, 1000 loops each)\n"
     ]
    }
   ],
   "source": [
    "%%timeit\n",
    "\n",
    "l = list(range(1000))\n",
    "var(l)"
   ]
  },
  {
   "cell_type": "code",
   "execution_count": 8,
   "metadata": {},
   "outputs": [
    {
     "name": "stdout",
     "output_type": "stream",
     "text": [
      "30.5 µs ± 241 ns per loop (mean ± std. dev. of 7 runs, 10000 loops each)\n"
     ]
    }
   ],
   "source": [
    "%%timeit\n",
    "\n",
    "a = np.arange(1000)  # array with numbers 0,...,999\n",
    "\n",
    "np.var(a)"
   ]
  },
  {
   "cell_type": "markdown",
   "metadata": {},
   "source": [
    "## Basic math: vectorized\n",
    "\n",
    "Operations on numpy arrays work vectorized, element-by-element\n",
    "\n",
    "** Lose your loops **"
   ]
  },
  {
   "cell_type": "code",
   "execution_count": 9,
   "metadata": {
    "collapsed": true
   },
   "outputs": [],
   "source": [
    "# create a numpy array from a python a python list\n",
    "a = np.array([1.0, 3.5, 7.1, 4, 6])"
   ]
  },
  {
   "cell_type": "code",
   "execution_count": 10,
   "metadata": {},
   "outputs": [
    {
     "data": {
      "text/plain": [
       "array([  2. ,   7. ,  14.2,   8. ,  12. ])"
      ]
     },
     "execution_count": 10,
     "metadata": {},
     "output_type": "execute_result"
    }
   ],
   "source": [
    "2 * a"
   ]
  },
  {
   "cell_type": "code",
   "execution_count": 11,
   "metadata": {},
   "outputs": [
    {
     "data": {
      "text/plain": [
       "array([  1.  ,  12.25,  50.41,  16.  ,  36.  ])"
      ]
     },
     "execution_count": 11,
     "metadata": {},
     "output_type": "execute_result"
    }
   ],
   "source": [
    "a**2"
   ]
  },
  {
   "cell_type": "code",
   "execution_count": 12,
   "metadata": {},
   "outputs": [
    {
     "data": {
      "text/plain": [
       "array([  1.00000000e+00,   8.02117802e+01,   1.10645633e+06,\n",
       "         2.56000000e+02,   4.66560000e+04])"
      ]
     },
     "execution_count": 12,
     "metadata": {},
     "output_type": "execute_result"
    }
   ],
   "source": [
    "a**a"
   ]
  },
  {
   "cell_type": "code",
   "execution_count": 13,
   "metadata": {},
   "outputs": [
    {
     "data": {
      "text/plain": [
       "array([ 0.54030231, -0.93645669,  0.68454667, -0.65364362,  0.96017029])"
      ]
     },
     "execution_count": 13,
     "metadata": {},
     "output_type": "execute_result"
    }
   ],
   "source": [
    "np.cos(a)"
   ]
  },
  {
   "cell_type": "markdown",
   "metadata": {},
   "source": [
    "**Attention: You need the `cos` from numpy!**"
   ]
  },
  {
   "cell_type": "code",
   "execution_count": 14,
   "metadata": {},
   "outputs": [
    {
     "ename": "TypeError",
     "evalue": "only length-1 arrays can be converted to Python scalars",
     "output_type": "error",
     "traceback": [
      "\u001b[0;31m---------------------------------------------------------------------------\u001b[0m",
      "\u001b[0;31mTypeError\u001b[0m                                 Traceback (most recent call last)",
      "\u001b[0;32m<ipython-input-14-6e3042d4a5de>\u001b[0m in \u001b[0;36m<module>\u001b[0;34m()\u001b[0m\n\u001b[0;32m----> 1\u001b[0;31m \u001b[0mmath\u001b[0m\u001b[0;34m.\u001b[0m\u001b[0mcos\u001b[0m\u001b[0;34m(\u001b[0m\u001b[0ma\u001b[0m\u001b[0;34m)\u001b[0m\u001b[0;34m\u001b[0m\u001b[0m\n\u001b[0m",
      "\u001b[0;31mTypeError\u001b[0m: only length-1 arrays can be converted to Python scalars"
     ]
    }
   ],
   "source": [
    "math.cos(a)"
   ]
  },
  {
   "cell_type": "markdown",
   "metadata": {},
   "source": [
    "Most normal python functions with basic operators like `*`, `+`, `**` simply work because\n",
    "of operator overloading:"
   ]
  },
  {
   "cell_type": "code",
   "execution_count": 15,
   "metadata": {},
   "outputs": [
    {
     "data": {
      "text/plain": [
       "array([   2.   ,  -14.875, -249.991,  -28.   , -138.   ])"
      ]
     },
     "execution_count": 15,
     "metadata": {},
     "output_type": "execute_result"
    }
   ],
   "source": [
    "def poly(x):\n",
    "    return x + 2 * x**2 - x**3\n",
    "\n",
    "poly(a)"
   ]
  },
  {
   "cell_type": "code",
   "execution_count": 16,
   "metadata": {},
   "outputs": [
    {
     "data": {
      "text/plain": [
       "-8.125475224531307"
      ]
     },
     "execution_count": 16,
     "metadata": {},
     "output_type": "execute_result"
    }
   ],
   "source": [
    "poly(np.pi)"
   ]
  },
  {
   "cell_type": "markdown",
   "metadata": {},
   "source": [
    "## Useful properties"
   ]
  },
  {
   "cell_type": "code",
   "execution_count": 17,
   "metadata": {},
   "outputs": [
    {
     "data": {
      "text/plain": [
       "5"
      ]
     },
     "execution_count": 17,
     "metadata": {},
     "output_type": "execute_result"
    }
   ],
   "source": [
    "len(a)"
   ]
  },
  {
   "cell_type": "code",
   "execution_count": 18,
   "metadata": {},
   "outputs": [
    {
     "data": {
      "text/plain": [
       "(5,)"
      ]
     },
     "execution_count": 18,
     "metadata": {},
     "output_type": "execute_result"
    }
   ],
   "source": [
    "a.shape"
   ]
  },
  {
   "cell_type": "code",
   "execution_count": 19,
   "metadata": {},
   "outputs": [
    {
     "data": {
      "text/plain": [
       "dtype('float64')"
      ]
     },
     "execution_count": 19,
     "metadata": {},
     "output_type": "execute_result"
    }
   ],
   "source": [
    "a.dtype"
   ]
  },
  {
   "cell_type": "code",
   "execution_count": 20,
   "metadata": {},
   "outputs": [
    {
     "data": {
      "text/plain": [
       "1"
      ]
     },
     "execution_count": 20,
     "metadata": {},
     "output_type": "execute_result"
    }
   ],
   "source": [
    "a.ndim"
   ]
  },
  {
   "cell_type": "markdown",
   "metadata": {},
   "source": [
    "## Arbitrary dimension arrays"
   ]
  },
  {
   "cell_type": "code",
   "execution_count": 21,
   "metadata": {},
   "outputs": [
    {
     "data": {
      "text/plain": [
       "array([[ 2,  4,  6],\n",
       "       [ 8, 10, 12],\n",
       "       [14, 16, 18]])"
      ]
     },
     "execution_count": 21,
     "metadata": {},
     "output_type": "execute_result"
    }
   ],
   "source": [
    "# two-dimensional array\n",
    "y = np.array([[1, 2, 3],\n",
    "              [4, 5, 6],\n",
    "              [7, 8, 9]])\n",
    "\n",
    "y + y"
   ]
  },
  {
   "cell_type": "code",
   "execution_count": 22,
   "metadata": {},
   "outputs": [
    {
     "data": {
      "text/plain": [
       "array([[ 30,  36,  42],\n",
       "       [ 66,  81,  96],\n",
       "       [102, 126, 150]])"
      ]
     },
     "execution_count": 22,
     "metadata": {},
     "output_type": "execute_result"
    }
   ],
   "source": [
    "## since python 3.5 @ is matrix product\n",
    "y @ y"
   ]
  },
  {
   "cell_type": "code",
   "execution_count": 23,
   "metadata": {},
   "outputs": [
    {
     "data": {
      "text/plain": [
       "array([[ 2,  4,  6],\n",
       "       [ 5,  7,  9],\n",
       "       [ 8, 10, 12]])"
      ]
     },
     "execution_count": 23,
     "metadata": {},
     "output_type": "execute_result"
    }
   ],
   "source": [
    "# Broadcasting, changing array dimensions to fit the larger one\n",
    "\n",
    "y + np.array([1, 2, 3])"
   ]
  },
  {
   "cell_type": "markdown",
   "metadata": {},
   "source": [
    "## Reduction operations\n",
    "\n",
    "Numpy has many operations, which reduce dimensionality of arrays"
   ]
  },
  {
   "cell_type": "code",
   "execution_count": 24,
   "metadata": {
    "collapsed": true
   },
   "outputs": [],
   "source": [
    "x = np.random.normal(0, 1, 10)"
   ]
  },
  {
   "cell_type": "code",
   "execution_count": 25,
   "metadata": {},
   "outputs": [
    {
     "data": {
      "text/plain": [
       "-0.024680822025888283"
      ]
     },
     "execution_count": 25,
     "metadata": {},
     "output_type": "execute_result"
    }
   ],
   "source": [
    "np.sum(x)"
   ]
  },
  {
   "cell_type": "code",
   "execution_count": 26,
   "metadata": {},
   "outputs": [
    {
     "data": {
      "text/plain": [
       "0.0081579549254615063"
      ]
     },
     "execution_count": 26,
     "metadata": {},
     "output_type": "execute_result"
    }
   ],
   "source": [
    "np.prod(x)"
   ]
  },
  {
   "cell_type": "code",
   "execution_count": 27,
   "metadata": {},
   "outputs": [
    {
     "data": {
      "text/plain": [
       "-0.0024680822025888284"
      ]
     },
     "execution_count": 27,
     "metadata": {},
     "output_type": "execute_result"
    }
   ],
   "source": [
    "np.mean(x)"
   ]
  },
  {
   "cell_type": "markdown",
   "metadata": {},
   "source": [
    "Standard Deviation"
   ]
  },
  {
   "cell_type": "code",
   "execution_count": 28,
   "metadata": {},
   "outputs": [
    {
     "data": {
      "text/plain": [
       "1.3637117096754443"
      ]
     },
     "execution_count": 28,
     "metadata": {},
     "output_type": "execute_result"
    }
   ],
   "source": [
    "np.std(x)"
   ]
  },
  {
   "cell_type": "markdown",
   "metadata": {},
   "source": [
    "Standard error of the mean"
   ]
  },
  {
   "cell_type": "code",
   "execution_count": 29,
   "metadata": {},
   "outputs": [
    {
     "data": {
      "text/plain": [
       "0.45457056989181471"
      ]
     },
     "execution_count": 29,
     "metadata": {},
     "output_type": "execute_result"
    }
   ],
   "source": [
    "np.std(x, ddof=1) / np.sqrt(len(x))"
   ]
  },
  {
   "cell_type": "markdown",
   "metadata": {},
   "source": [
    "Sample Standard Deviation"
   ]
  },
  {
   "cell_type": "code",
   "execution_count": 30,
   "metadata": {},
   "outputs": [
    {
     "data": {
      "text/plain": [
       "1.4374783581388946"
      ]
     },
     "execution_count": 30,
     "metadata": {},
     "output_type": "execute_result"
    }
   ],
   "source": [
    "np.std(x, ddof=1)"
   ]
  },
  {
   "cell_type": "markdown",
   "metadata": {},
   "source": [
    "Difference between neighbor elements"
   ]
  },
  {
   "cell_type": "code",
   "execution_count": 31,
   "metadata": {},
   "outputs": [
    {
     "data": {
      "text/plain": [
       "array([ 1,  3,  5,  7,  9, 11, 13, 15, 17])"
      ]
     },
     "execution_count": 31,
     "metadata": {},
     "output_type": "execute_result"
    }
   ],
   "source": [
    "z = np.arange(10)**2\n",
    "np.diff(z)"
   ]
  },
  {
   "cell_type": "markdown",
   "metadata": {},
   "source": [
    "### Reductions on multi-dimensional arrays\n"
   ]
  },
  {
   "cell_type": "code",
   "execution_count": 32,
   "metadata": {},
   "outputs": [
    {
     "data": {
      "text/plain": [
       "array([[ 0,  1,  2,  3,  4],\n",
       "       [ 5,  6,  7,  8,  9],\n",
       "       [10, 11, 12, 13, 14],\n",
       "       [15, 16, 17, 18, 19]])"
      ]
     },
     "execution_count": 32,
     "metadata": {},
     "output_type": "execute_result"
    }
   ],
   "source": [
    "array2d = np.arange(20).reshape(4, 5)\n",
    "\n",
    "array2d"
   ]
  },
  {
   "cell_type": "code",
   "execution_count": 33,
   "metadata": {},
   "outputs": [
    {
     "data": {
      "text/plain": [
       "array([30, 34, 38, 42, 46])"
      ]
     },
     "execution_count": 33,
     "metadata": {},
     "output_type": "execute_result"
    }
   ],
   "source": [
    "np.sum(array2d, axis=0)"
   ]
  },
  {
   "cell_type": "code",
   "execution_count": 34,
   "metadata": {},
   "outputs": [
    {
     "data": {
      "text/plain": [
       "array([  2.,   7.,  12.,  17.])"
      ]
     },
     "execution_count": 34,
     "metadata": {},
     "output_type": "execute_result"
    }
   ],
   "source": [
    "np.mean(array2d, axis=1)"
   ]
  },
  {
   "cell_type": "markdown",
   "metadata": {},
   "source": [
    "## Exercise 1\n",
    "\n",
    "Write a function that calculates the analytical linear regression for a set of\n",
    "x and y values.\n",
    "\n",
    "Reminder:\n",
    "\n",
    "$$ f(x) = a \\cdot x + b$$\n",
    "\n",
    "with \n",
    "\n",
    "$$\n",
    "\\hat{b} = \\frac{\\mathrm{Cov}(x, y)}{\\mathrm{Var}(x)} \\\\\n",
    "\\hat{a} = \\bar{y} - \\hat{b} \\cdot \\hat{x}\n",
    "$$"
   ]
  },
  {
   "cell_type": "code",
   "execution_count": null,
   "metadata": {
    "collapsed": true
   },
   "outputs": [],
   "source": [
    "# %load 04_01_numpy_solutions/exercise_linear.py"
   ]
  },
  {
   "cell_type": "code",
   "execution_count": null,
   "metadata": {},
   "outputs": [],
   "source": [
    "x = np.linspace(0, 1, 50)\n",
    "y = 5 * np.random.normal(x, 0.1) + 2  # see section on random numbers later\n",
    "\n",
    "print(linear_regression(x, y))"
   ]
  },
  {
   "cell_type": "markdown",
   "metadata": {},
   "source": [
    "## Helpers for creating arrays"
   ]
  },
  {
   "cell_type": "code",
   "execution_count": 35,
   "metadata": {},
   "outputs": [
    {
     "data": {
      "text/plain": [
       "array([ 0.,  0.,  0.,  0.,  0.,  0.,  0.,  0.,  0.,  0.])"
      ]
     },
     "execution_count": 35,
     "metadata": {},
     "output_type": "execute_result"
    }
   ],
   "source": [
    "np.zeros(10)"
   ]
  },
  {
   "cell_type": "code",
   "execution_count": 36,
   "metadata": {},
   "outputs": [
    {
     "data": {
      "text/plain": [
       "array([[ 1.,  1.],\n",
       "       [ 1.,  1.],\n",
       "       [ 1.,  1.],\n",
       "       [ 1.,  1.],\n",
       "       [ 1.,  1.]])"
      ]
     },
     "execution_count": 36,
     "metadata": {},
     "output_type": "execute_result"
    }
   ],
   "source": [
    "np.ones((5, 2))"
   ]
  },
  {
   "cell_type": "code",
   "execution_count": 37,
   "metadata": {},
   "outputs": [
    {
     "data": {
      "text/plain": [
       "array([ nan,  nan,  nan,  nan,  nan])"
      ]
     },
     "execution_count": 37,
     "metadata": {},
     "output_type": "execute_result"
    }
   ],
   "source": [
    "np.full(5, np.nan)"
   ]
  },
  {
   "cell_type": "code",
   "execution_count": 38,
   "metadata": {},
   "outputs": [
    {
     "data": {
      "text/plain": [
       "array([ 0.,  0.,  0.,  0.,  0.])"
      ]
     },
     "execution_count": 38,
     "metadata": {},
     "output_type": "execute_result"
    }
   ],
   "source": [
    "np.empty(5)  # attention, uninitialised memory, be carefull"
   ]
  },
  {
   "cell_type": "code",
   "execution_count": 39,
   "metadata": {},
   "outputs": [
    {
     "data": {
      "text/plain": [
       "array([ 0. ,  0.1,  0.2,  0.3,  0.4,  0.5,  0.6,  0.7,  0.8,  0.9,  1. ])"
      ]
     },
     "execution_count": 39,
     "metadata": {},
     "output_type": "execute_result"
    }
   ],
   "source": [
    "np.linspace(0, 1, 11)"
   ]
  },
  {
   "cell_type": "code",
   "execution_count": 40,
   "metadata": {},
   "outputs": [
    {
     "data": {
      "text/plain": [
       "array([0, 1, 2, 3, 4, 5, 6, 7, 8, 9])"
      ]
     },
     "execution_count": 40,
     "metadata": {},
     "output_type": "execute_result"
    }
   ],
   "source": [
    "# like range() for arrays:\n",
    "np.arange(0, 10)"
   ]
  },
  {
   "cell_type": "code",
   "execution_count": 41,
   "metadata": {},
   "outputs": [
    {
     "data": {
      "text/plain": [
       "array([  1.00000000e-04,   1.00000000e-03,   1.00000000e-02,\n",
       "         1.00000000e-01,   1.00000000e+00,   1.00000000e+01,\n",
       "         1.00000000e+02,   1.00000000e+03,   1.00000000e+04,\n",
       "         1.00000000e+05])"
      ]
     },
     "execution_count": 41,
     "metadata": {},
     "output_type": "execute_result"
    }
   ],
   "source": [
    "np.logspace(-4, 5, 10)"
   ]
  },
  {
   "cell_type": "markdown",
   "metadata": {},
   "source": [
    "## Numpy Indexing\n",
    "\n",
    "* Element access\n",
    "* Slicing"
   ]
  },
  {
   "cell_type": "code",
   "execution_count": 42,
   "metadata": {},
   "outputs": [
    {
     "data": {
      "text/plain": [
       "4"
      ]
     },
     "execution_count": 42,
     "metadata": {},
     "output_type": "execute_result"
    }
   ],
   "source": [
    "x = np.arange(0, 10)\n",
    "\n",
    "# like lists:\n",
    "x[4]"
   ]
  },
  {
   "cell_type": "code",
   "execution_count": 43,
   "metadata": {},
   "outputs": [
    {
     "data": {
      "text/plain": [
       "array([1, 2, 3])"
      ]
     },
     "execution_count": 43,
     "metadata": {},
     "output_type": "execute_result"
    }
   ],
   "source": [
    "# all elements with indices ≥1 and <4:\n",
    "x[1:4]"
   ]
  },
  {
   "cell_type": "code",
   "execution_count": 44,
   "metadata": {},
   "outputs": [
    {
     "data": {
      "text/plain": [
       "(9, 8)"
      ]
     },
     "execution_count": 44,
     "metadata": {},
     "output_type": "execute_result"
    }
   ],
   "source": [
    "# negative indices count from the end\n",
    "x[-1], x[-2]"
   ]
  },
  {
   "cell_type": "code",
   "execution_count": 45,
   "metadata": {},
   "outputs": [
    {
     "data": {
      "text/plain": [
       "array([3, 4, 5, 6, 7])"
      ]
     },
     "execution_count": 45,
     "metadata": {},
     "output_type": "execute_result"
    }
   ],
   "source": [
    "# combination:\n",
    "x[3:-2]"
   ]
  },
  {
   "cell_type": "code",
   "execution_count": 46,
   "metadata": {},
   "outputs": [
    {
     "data": {
      "text/plain": [
       "array([0, 2, 4, 6, 8])"
      ]
     },
     "execution_count": 46,
     "metadata": {},
     "output_type": "execute_result"
    }
   ],
   "source": [
    "# step size\n",
    "x[::2]"
   ]
  },
  {
   "cell_type": "code",
   "execution_count": 47,
   "metadata": {},
   "outputs": [
    {
     "data": {
      "text/plain": [
       "array([9, 8, 7, 6, 5, 4, 3, 2, 1, 0])"
      ]
     },
     "execution_count": 47,
     "metadata": {},
     "output_type": "execute_result"
    }
   ],
   "source": [
    "# trick for reversal: negative step\n",
    "x[::-1]"
   ]
  },
  {
   "cell_type": "code",
   "execution_count": 48,
   "metadata": {},
   "outputs": [
    {
     "data": {
      "text/plain": [
       "array([[ 0,  1,  2,  3,  4,  5,  6,  7,  8,  9],\n",
       "       [10, 11, 12, 13, 14, 15, 16, 17, 18, 19],\n",
       "       [20, 21, 22, 23, 24, 25, 26, 27, 28, 29],\n",
       "       [30, 31, 32, 33, 34, 35, 36, 37, 38, 39]])"
      ]
     },
     "execution_count": 48,
     "metadata": {},
     "output_type": "execute_result"
    }
   ],
   "source": [
    "y = np.array([x, x + 10, x + 20, x + 30])\n",
    "y"
   ]
  },
  {
   "cell_type": "code",
   "execution_count": 49,
   "metadata": {},
   "outputs": [
    {
     "data": {
      "text/plain": [
       "array([32, 33, 34, 35, 36, 37, 38])"
      ]
     },
     "execution_count": 49,
     "metadata": {},
     "output_type": "execute_result"
    }
   ],
   "source": [
    "# comma between indices\n",
    "y[3, 2:-1]"
   ]
  },
  {
   "cell_type": "code",
   "execution_count": 50,
   "metadata": {},
   "outputs": [
    {
     "data": {
      "text/plain": [
       "array([20, 21, 22, 23, 24, 25, 26, 27, 28, 29])"
      ]
     },
     "execution_count": 50,
     "metadata": {},
     "output_type": "execute_result"
    }
   ],
   "source": [
    "# only one index ⇒ one-dimensional array\n",
    "y[2]"
   ]
  },
  {
   "cell_type": "code",
   "execution_count": 51,
   "metadata": {},
   "outputs": [
    {
     "data": {
      "text/plain": [
       "array([ 3, 13, 23, 33])"
      ]
     },
     "execution_count": 51,
     "metadata": {},
     "output_type": "execute_result"
    }
   ],
   "source": [
    "# other axis: (: alone means the whole axis)\n",
    "y[:, 3]"
   ]
  },
  {
   "cell_type": "code",
   "execution_count": 52,
   "metadata": {},
   "outputs": [
    {
     "data": {
      "text/plain": [
       "(4, 10)"
      ]
     },
     "execution_count": 52,
     "metadata": {},
     "output_type": "execute_result"
    }
   ],
   "source": [
    "# inspecting the number of elements per axis:\n",
    "y.shape"
   ]
  },
  {
   "cell_type": "markdown",
   "metadata": {},
   "source": [
    "# Changing array content"
   ]
  },
  {
   "cell_type": "code",
   "execution_count": 53,
   "metadata": {},
   "outputs": [
    {
     "data": {
      "text/plain": [
       "array([[ 0,  1,  2,  3,  4,  5,  6,  7,  8,  9],\n",
       "       [10, 11, 12, 13, 14, 15, 16, 17, 18, 19],\n",
       "       [20, 21, 22, 23, 24, 25, 26, 27, 28, 29],\n",
       "       [30, 31, 32, 33, 34, 35, 36, 37, 38, 39]])"
      ]
     },
     "execution_count": 53,
     "metadata": {},
     "output_type": "execute_result"
    }
   ],
   "source": [
    "y"
   ]
  },
  {
   "cell_type": "code",
   "execution_count": 54,
   "metadata": {},
   "outputs": [
    {
     "data": {
      "text/plain": [
       "array([[ 0,  1,  2,  0,  4,  5,  6,  7,  8,  9],\n",
       "       [10, 11, 12,  0, 14, 15, 16, 17, 18, 19],\n",
       "       [20, 21, 22,  0, 24, 25, 26, 27, 28, 29],\n",
       "       [30, 31, 32,  0, 34, 35, 36, 37, 38, 39]])"
      ]
     },
     "execution_count": 54,
     "metadata": {},
     "output_type": "execute_result"
    }
   ],
   "source": [
    "y[:, 3] = 0\n",
    "y"
   ]
  },
  {
   "cell_type": "markdown",
   "metadata": {},
   "source": [
    "Using slices on both sides"
   ]
  },
  {
   "cell_type": "code",
   "execution_count": 55,
   "metadata": {},
   "outputs": [
    {
     "data": {
      "text/plain": [
       "array([[ 3,  1,  2,  0,  4,  5,  6,  7,  8,  9],\n",
       "       [ 4, 11, 12,  0, 14, 15, 16, 17, 18, 19],\n",
       "       [ 5, 21, 22,  0, 24, 25, 26, 27, 28, 29],\n",
       "       [ 6, 31, 32,  0, 34, 35, 36, 37, 38, 39]])"
      ]
     },
     "execution_count": 55,
     "metadata": {},
     "output_type": "execute_result"
    }
   ],
   "source": [
    "y[:,0] = x[3:7]\n",
    "y"
   ]
  },
  {
   "cell_type": "markdown",
   "metadata": {},
   "source": [
    "Transposing inverts the order of the dimensions"
   ]
  },
  {
   "cell_type": "code",
   "execution_count": 56,
   "metadata": {},
   "outputs": [
    {
     "data": {
      "text/plain": [
       "array([[ 3,  1,  2,  0,  4,  5,  6,  7,  8,  9],\n",
       "       [ 4, 11, 12,  0, 14, 15, 16, 17, 18, 19],\n",
       "       [ 5, 21, 22,  0, 24, 25, 26, 27, 28, 29],\n",
       "       [ 6, 31, 32,  0, 34, 35, 36, 37, 38, 39]])"
      ]
     },
     "execution_count": 56,
     "metadata": {},
     "output_type": "execute_result"
    }
   ],
   "source": [
    "y"
   ]
  },
  {
   "cell_type": "code",
   "execution_count": 57,
   "metadata": {},
   "outputs": [
    {
     "data": {
      "text/plain": [
       "(4, 10)"
      ]
     },
     "execution_count": 57,
     "metadata": {},
     "output_type": "execute_result"
    }
   ],
   "source": [
    "y.shape"
   ]
  },
  {
   "cell_type": "code",
   "execution_count": 58,
   "metadata": {},
   "outputs": [
    {
     "data": {
      "text/plain": [
       "array([[ 3,  4,  5,  6],\n",
       "       [ 1, 11, 21, 31],\n",
       "       [ 2, 12, 22, 32],\n",
       "       [ 0,  0,  0,  0],\n",
       "       [ 4, 14, 24, 34],\n",
       "       [ 5, 15, 25, 35],\n",
       "       [ 6, 16, 26, 36],\n",
       "       [ 7, 17, 27, 37],\n",
       "       [ 8, 18, 28, 38],\n",
       "       [ 9, 19, 29, 39]])"
      ]
     },
     "execution_count": 58,
     "metadata": {},
     "output_type": "execute_result"
    }
   ],
   "source": [
    "y.T"
   ]
  },
  {
   "cell_type": "code",
   "execution_count": 59,
   "metadata": {},
   "outputs": [
    {
     "data": {
      "text/plain": [
       "(10, 4)"
      ]
     },
     "execution_count": 59,
     "metadata": {},
     "output_type": "execute_result"
    }
   ],
   "source": [
    "y.T.shape"
   ]
  },
  {
   "cell_type": "markdown",
   "metadata": {},
   "source": [
    "# Masks\n",
    "\n",
    "* A boolean array can be used to select only the element where it contains `True`.\n",
    "* Very powerfull tool to select certain elements that fullfill a certain condition"
   ]
  },
  {
   "cell_type": "code",
   "execution_count": 60,
   "metadata": {},
   "outputs": [
    {
     "name": "stdout",
     "output_type": "stream",
     "text": [
      "[ True  True False False False False False False  True  True False]\n",
      "[ 0.   0.2  1.6  1.8]\n"
     ]
    }
   ],
   "source": [
    "a = np.linspace(0, 2, 11)\n",
    "b = np.random.normal(0, 1, 11)\n",
    "\n",
    "print(b >= 0)\n",
    "print(a[b >= 0])"
   ]
  },
  {
   "cell_type": "code",
   "execution_count": 61,
   "metadata": {},
   "outputs": [
    {
     "data": {
      "text/plain": [
       "array([ 0. ,  0.2,  0. ,  0. ,  0. ,  0. ,  0. ,  0. ,  1.6,  1.8,  0. ])"
      ]
     },
     "execution_count": 61,
     "metadata": {},
     "output_type": "execute_result"
    }
   ],
   "source": [
    "a[b < 0] = 0\n",
    "a"
   ]
  },
  {
   "cell_type": "markdown",
   "metadata": {},
   "source": [
    "### Random numbers\n",
    "\n",
    "* numpy has a larger number of distributions builtin"
   ]
  },
  {
   "cell_type": "code",
   "execution_count": 62,
   "metadata": {},
   "outputs": [
    {
     "data": {
      "text/plain": [
       "array([ 0.25654407,  0.32331758,  0.13005964,  0.77651708,  0.43568895])"
      ]
     },
     "execution_count": 62,
     "metadata": {},
     "output_type": "execute_result"
    }
   ],
   "source": [
    "np.random.uniform(0, 1, 5)"
   ]
  },
  {
   "cell_type": "code",
   "execution_count": 63,
   "metadata": {},
   "outputs": [
    {
     "data": {
      "text/plain": [
       "array([ 18.51156958,  20.70294055,  28.79179598,  20.25547234,  -0.80456926])"
      ]
     },
     "execution_count": 63,
     "metadata": {},
     "output_type": "execute_result"
    }
   ],
   "source": [
    "np.random.normal(5, 10, 5)"
   ]
  },
  {
   "cell_type": "markdown",
   "metadata": {},
   "source": [
    "## Calculating pi through monte-carlo simulation\n",
    "\n",
    "* We draw random numbers in a square with length of the sides of 2\n",
    "* We count the points which are inside the circle of radius 1\n",
    "\n",
    "The area of the square is\n",
    "\n",
    "$$\n",
    "A_\\mathrm{square} = a^2 = 4\n",
    "$$\n",
    "\n",
    "The area of the circle is\n",
    "$$\n",
    "A_\\mathrm{circle} = \\pi r^2 = \\pi\n",
    "$$\n",
    "\n",
    "With \n",
    "$$\n",
    "\\frac{n_\\mathrm{circle}}{n_\\mathrm{square}} = \\frac{A_\\mathrm{circle}}{A_\\mathrm{square}}\n",
    "$$\n",
    "We can calculate pi:\n",
    "\n",
    "$$\n",
    "\\pi = 4 \\frac{n_\\mathrm{circle}}{n_\\mathrm{square}}\n",
    "$$"
   ]
  },
  {
   "cell_type": "code",
   "execution_count": 64,
   "metadata": {},
   "outputs": [
    {
     "name": "stdout",
     "output_type": "stream",
     "text": [
      "3.232\n"
     ]
    }
   ],
   "source": [
    "n_square = 1000\n",
    "\n",
    "x = np.random.uniform(-1, 1, n_square)\n",
    "y = np.random.uniform(-1, 1, n_square)\n",
    "\n",
    "radius = np.sqrt(x**2 + y**2)\n",
    "\n",
    "n_circle = np.sum(radius <= 1.0)\n",
    "\n",
    "print(4 * n_circle / n_square)"
   ]
  },
  {
   "cell_type": "markdown",
   "metadata": {},
   "source": [
    "## Exercise\n",
    "\n",
    "1. Draw 10000 gaussian random numbers with mean of $\\mu = 2$ and standard deviation of $\\sigma = 3$\n",
    "2. Calculate the mean and the standard deviation of the sample\n",
    "3. What percentage of the numbers are outside of $[\\mu - \\sigma, \\mu + \\sigma]$?\n",
    "4. How many of the numbers are $> 0$?\n",
    "5. Calculate the mean and the standard deviation of all numbers ${} > 0$"
   ]
  },
  {
   "cell_type": "code",
   "execution_count": null,
   "metadata": {
    "collapsed": true
   },
   "outputs": [],
   "source": [
    "# %load 04_01_numpy_solutions/exercise_gaussian.py"
   ]
  },
  {
   "cell_type": "markdown",
   "metadata": {},
   "source": [
    "## Exercise\n",
    "\n",
    "Monte-Carlo uncertainty propagation\n",
    "\n",
    "* The hubble constant as measured by PLANCK is\n",
    "$$\n",
    "H_0 = (67.74 \\pm 0.47)\\,\\frac{\\mathrm{km}}{\\mathrm{s}\\cdot\\mathrm{Mpc}}\n",
    "$$\n",
    "\n",
    "* Estimate mean and the uncertainty of the velocity of a galaxy which is measured to be $(500 \\pm 100)\\,\\mathrm{Mpc}$ away\n",
    "using monte carlo methods"
   ]
  },
  {
   "cell_type": "code",
   "execution_count": null,
   "metadata": {
    "collapsed": true
   },
   "outputs": [],
   "source": [
    "# %load 04_01_numpy_solutions/exercise_hubble.py"
   ]
  },
  {
   "cell_type": "markdown",
   "metadata": {},
   "source": [
    "## Simple io functions"
   ]
  },
  {
   "cell_type": "code",
   "execution_count": 65,
   "metadata": {
    "collapsed": true
   },
   "outputs": [],
   "source": [
    "idx = np.arange(100)\n",
    "x = np.random.normal(0, 1, 100)\n",
    "y = np.random.normal(0, 1, 100)\n",
    "n = np.random.poisson(20, 100)"
   ]
  },
  {
   "cell_type": "code",
   "execution_count": 66,
   "metadata": {},
   "outputs": [
    {
     "data": {
      "text/plain": [
       "((100,), (100,), (100,), (100,))"
      ]
     },
     "execution_count": 66,
     "metadata": {},
     "output_type": "execute_result"
    }
   ],
   "source": [
    "idx.shape, x.shape, y.shape, n.shape"
   ]
  },
  {
   "cell_type": "code",
   "execution_count": 67,
   "metadata": {
    "collapsed": true
   },
   "outputs": [],
   "source": [
    "np.savetxt(\n",
    "    'data.csv',\n",
    "    np.column_stack([idx, x, y, n]),\n",
    ")"
   ]
  },
  {
   "cell_type": "code",
   "execution_count": 68,
   "metadata": {},
   "outputs": [
    {
     "name": "stdout",
     "output_type": "stream",
     "text": [
      "0.000000000000000000e+00 -1.529859849792397641e+00 -1.346633221801033509e+00 2.200000000000000000e+01\r\n",
      "1.000000000000000000e+00 4.775451075390010902e-01 -1.306694848450834945e+00 2.600000000000000000e+01\r\n",
      "2.000000000000000000e+00 -1.690626910510918679e-01 6.779331676877842217e-01 2.400000000000000000e+01\r\n",
      "3.000000000000000000e+00 1.121437405207876825e+00 7.708619707025609058e-01 1.600000000000000000e+01\r\n",
      "4.000000000000000000e+00 -2.030737918333696754e-02 5.706135626028785435e-02 1.900000000000000000e+01\r\n",
      "5.000000000000000000e+00 -5.908230846100721162e-02 -3.212971407863245421e-01 2.500000000000000000e+01\r\n",
      "6.000000000000000000e+00 1.127029026127312372e+00 -1.179714443119899592e+00 2.100000000000000000e+01\r\n",
      "7.000000000000000000e+00 -1.474054551318914330e-01 7.510778439090134428e-01 1.200000000000000000e+01\r\n",
      "8.000000000000000000e+00 3.676016464617179458e-01 -2.099218886099579462e-01 1.800000000000000000e+01\r\n",
      "9.000000000000000000e+00 -1.618980010227883071e+00 -5.598392315439133515e-01 2.700000000000000000e+01\r\n"
     ]
    }
   ],
   "source": [
    "!head data.csv"
   ]
  },
  {
   "cell_type": "code",
   "execution_count": 69,
   "metadata": {},
   "outputs": [
    {
     "data": {
      "text/plain": [
       "(dtype('float64'), dtype('float64'))"
      ]
     },
     "execution_count": 69,
     "metadata": {},
     "output_type": "execute_result"
    }
   ],
   "source": [
    "# Load back the data, unpack=True is needed to read the data columnwise and not row-wise\n",
    "idx, x, y, n = np.genfromtxt('data.csv', unpack=True)\n",
    "\n",
    "idx.dtype, x.dtype"
   ]
  },
  {
   "cell_type": "markdown",
   "metadata": {},
   "source": [
    "### Problems\n",
    "\n",
    "* Everything is a float\n",
    "* Way larger file than necessary because of too much digits for floats\n",
    "* No column names"
   ]
  },
  {
   "cell_type": "markdown",
   "metadata": {},
   "source": [
    "## Numpy recarrays\n",
    "\n",
    "* Numpy recarrays can store columns of different types\n",
    "* Rows are addressed by integer index\n",
    "* Columns are addressed by strings\n",
    "\n",
    "Solution for our io problem → Column names, different types"
   ]
  },
  {
   "cell_type": "code",
   "execution_count": 70,
   "metadata": {
    "collapsed": true
   },
   "outputs": [],
   "source": [
    "data = np.savetxt(\n",
    "    'data.csv',\n",
    "    np.column_stack([idx, x, y, n]),\n",
    "    delimiter=',', # true csv file\n",
    "    header=','.join(['idx', 'x', 'y', 'n']),\n",
    "    fmt=['%d', '%.4g', '%.4g', '%d'],\n",
    ")"
   ]
  },
  {
   "cell_type": "code",
   "execution_count": 71,
   "metadata": {},
   "outputs": [
    {
     "name": "stdout",
     "output_type": "stream",
     "text": [
      "# idx,x,y,n\r\n",
      "0,-1.53,-1.347,22\r\n",
      "1,0.4775,-1.307,26\r\n",
      "2,-0.1691,0.6779,24\r\n",
      "3,1.121,0.7709,16\r\n",
      "4,-0.02031,0.05706,19\r\n",
      "5,-0.05908,-0.3213,25\r\n",
      "6,1.127,-1.18,21\r\n",
      "7,-0.1474,0.7511,12\r\n",
      "8,0.3676,-0.2099,18\r\n"
     ]
    }
   ],
   "source": [
    "!head data.csv"
   ]
  },
  {
   "cell_type": "code",
   "execution_count": 72,
   "metadata": {
    "collapsed": true
   },
   "outputs": [],
   "source": [
    "data = np.genfromtxt(\n",
    "    'data.csv',\n",
    "    names=True, # load column names from first row\n",
    "    dtype=None, # Automagically determince best data type for each column\n",
    "    delimiter=',',\n",
    ")"
   ]
  },
  {
   "cell_type": "code",
   "execution_count": 73,
   "metadata": {},
   "outputs": [
    {
     "data": {
      "text/plain": [
       "(0, -1.53, -1.347, 22)"
      ]
     },
     "execution_count": 73,
     "metadata": {},
     "output_type": "execute_result"
    }
   ],
   "source": [
    "data[0]"
   ]
  },
  {
   "cell_type": "code",
   "execution_count": 74,
   "metadata": {},
   "outputs": [
    {
     "data": {
      "text/plain": [
       "array([-1.53    ,  0.4775  , -0.1691  ,  1.121   , -0.02031 , -0.05908 ,\n",
       "        1.127   , -0.1474  ,  0.3676  , -1.619   ,  1.949   ,  1.153   ,\n",
       "       -0.9683  , -1.132   ,  1.932   , -0.09299 ,  0.2614  , -1.056   ,\n",
       "       -1.657   ,  0.2081  , -1.002   , -0.7782  ,  0.008113,  1.471   ,\n",
       "       -0.7393  , -0.4474  , -0.9282  , -0.3941  , -0.1501  ,  0.5381  ,\n",
       "        0.5312  ,  0.1197  ,  1.545   ,  1.206   ,  0.5824  ,  0.129   ,\n",
       "       -0.4185  , -1.229   , -1.687   ,  1.022   ,  0.6689  ,  0.2608  ,\n",
       "       -0.8049  , -1.266   ,  0.2501  ,  0.1878  , -1.412   ,  0.8199  ,\n",
       "        0.06454 ,  0.2893  ,  1.325   ,  0.9386  , -2.475   , -0.6142  ,\n",
       "        0.7134  , -0.08336 , -0.848   ,  1.103   ,  1.617   , -1.083   ,\n",
       "        0.1603  , -0.2387  , -0.9139  ,  0.8258  , -0.8514  , -1.275   ,\n",
       "        1.052   , -1.83    , -1.078   ,  0.578   ,  0.1427  ,  0.297   ,\n",
       "       -0.04243 , -0.3932  , -0.1027  ,  0.4139  , -0.9673  ,  0.2329  ,\n",
       "       -0.4204  ,  1.651   , -1.811   ,  0.5557  , -0.4164  , -0.3307  ,\n",
       "        0.3902  ,  1.424   ,  0.2796  , -1.116   , -0.6718  , -0.05385 ,\n",
       "       -1.676   ,  1.93    ,  1.428   , -1.289   , -0.9934  ,  0.3673  ,\n",
       "        0.1044  ,  0.3184  , -0.5802  ,  0.6564  ])"
      ]
     },
     "execution_count": 74,
     "metadata": {},
     "output_type": "execute_result"
    }
   ],
   "source": [
    "data['x']"
   ]
  },
  {
   "cell_type": "code",
   "execution_count": 75,
   "metadata": {},
   "outputs": [
    {
     "data": {
      "text/plain": [
       "dtype([('idx', '<i8'), ('x', '<f8'), ('y', '<f8'), ('n', '<i8')])"
      ]
     },
     "execution_count": 75,
     "metadata": {},
     "output_type": "execute_result"
    }
   ],
   "source": [
    "data.dtype"
   ]
  },
  {
   "cell_type": "markdown",
   "metadata": {},
   "source": [
    "## Linear algebra\n",
    "\n",
    "Numpy offers a lot of linear algebra functionality, mostly wrapping LAPACK"
   ]
  },
  {
   "cell_type": "code",
   "execution_count": 76,
   "metadata": {},
   "outputs": [
    {
     "data": {
      "text/plain": [
       "(array([-1.40512484,  4.        ,  6.40512484]),\n",
       " array([[  3.07818468e-01,   8.32050294e-01,  -4.61454330e-01],\n",
       "        [ -8.31898624e-01,  -1.93604245e-16,  -5.54927635e-01],\n",
       "        [ -4.61727702e-01,   5.54700196e-01,   6.92181495e-01]]))"
      ]
     },
     "execution_count": 76,
     "metadata": {},
     "output_type": "execute_result"
    }
   ],
   "source": [
    "# symmetrix matrix, use eigh\n",
    "mat = np.array([\n",
    "    [4, 2, 0],\n",
    "    [2, 1, -3],\n",
    "    [0, -3, 4]\n",
    "])\n",
    "\n",
    "eig_vals, eig_vecs = np.linalg.eig(mat)\n",
    "\n",
    "eig_vals, eig_vecs"
   ]
  },
  {
   "cell_type": "code",
   "execution_count": 77,
   "metadata": {},
   "outputs": [
    {
     "data": {
      "text/plain": [
       "array([[ 0.13888889,  0.22222222,  0.16666667],\n",
       "       [ 0.22222222, -0.44444444, -0.33333333],\n",
       "       [ 0.16666667, -0.33333333,  0.        ]])"
      ]
     },
     "execution_count": 77,
     "metadata": {},
     "output_type": "execute_result"
    }
   ],
   "source": [
    "np.linalg.inv(mat)"
   ]
  },
  {
   "cell_type": "markdown",
   "metadata": {},
   "source": [
    "## Numpy matrices\n",
    "\n",
    "Numpy also has a matrix class, with operator overloading suited for matrices"
   ]
  },
  {
   "cell_type": "code",
   "execution_count": 78,
   "metadata": {
    "collapsed": true
   },
   "outputs": [],
   "source": [
    "mat = np.matrix(mat)"
   ]
  },
  {
   "cell_type": "code",
   "execution_count": 79,
   "metadata": {},
   "outputs": [
    {
     "data": {
      "text/plain": [
       "matrix([[ 4,  2,  0],\n",
       "        [ 2,  1, -3],\n",
       "        [ 0, -3,  4]])"
      ]
     },
     "execution_count": 79,
     "metadata": {},
     "output_type": "execute_result"
    }
   ],
   "source": [
    "mat.T"
   ]
  },
  {
   "cell_type": "code",
   "execution_count": 80,
   "metadata": {},
   "outputs": [
    {
     "data": {
      "text/plain": [
       "matrix([[ 20,  10,  -6],\n",
       "        [ 10,  14, -15],\n",
       "        [ -6, -15,  25]])"
      ]
     },
     "execution_count": 80,
     "metadata": {},
     "output_type": "execute_result"
    }
   ],
   "source": [
    "mat * mat"
   ]
  },
  {
   "cell_type": "code",
   "execution_count": 81,
   "metadata": {},
   "outputs": [
    {
     "data": {
      "text/plain": [
       "matrix([[ 20,  10,   0],\n",
       "        [ 10,   5, -15],\n",
       "        [  0, -15,  20]])"
      ]
     },
     "execution_count": 81,
     "metadata": {},
     "output_type": "execute_result"
    }
   ],
   "source": [
    "mat * 5"
   ]
  },
  {
   "cell_type": "code",
   "execution_count": 82,
   "metadata": {},
   "outputs": [
    {
     "data": {
      "text/plain": [
       "matrix([[ 0.13888889,  0.22222222,  0.16666667],\n",
       "        [ 0.22222222, -0.44444444, -0.33333333],\n",
       "        [ 0.16666667, -0.33333333,  0.        ]])"
      ]
     },
     "execution_count": 82,
     "metadata": {},
     "output_type": "execute_result"
    }
   ],
   "source": [
    "mat.I"
   ]
  },
  {
   "cell_type": "code",
   "execution_count": 83,
   "metadata": {},
   "outputs": [
    {
     "data": {
      "text/plain": [
       "matrix([[ 8],\n",
       "        [-5],\n",
       "        [ 6]])"
      ]
     },
     "execution_count": 83,
     "metadata": {},
     "output_type": "execute_result"
    }
   ],
   "source": [
    "mat * np.matrix([1, 2, 3]).T"
   ]
  },
  {
   "cell_type": "code",
   "execution_count": null,
   "metadata": {
    "collapsed": true
   },
   "outputs": [],
   "source": []
  }
 ],
 "metadata": {
  "anaconda-cloud": {},
  "kernelspec": {
   "display_name": "Python 3",
   "language": "python",
   "name": "python3"
  },
  "language_info": {
   "codemirror_mode": {
    "name": "ipython",
    "version": 3
   },
   "file_extension": ".py",
   "mimetype": "text/x-python",
   "name": "python",
   "nbconvert_exporter": "python",
   "pygments_lexer": "ipython3",
   "version": "3.6.1"
  }
 },
 "nbformat": 4,
 "nbformat_minor": 1
}
