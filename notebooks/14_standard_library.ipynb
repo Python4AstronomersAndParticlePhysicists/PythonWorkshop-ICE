{
 "cells": [
  {
   "cell_type": "markdown",
   "metadata": {},
   "source": [
    "# A tour through the python standard library\n",
    "\n",
    "python comes with \"batteries included\", the standard library is extremely \n",
    "rich and powerfull"
   ]
  },
  {
   "cell_type": "code",
   "execution_count": 1,
   "metadata": {},
   "outputs": [
    {
     "data": {
      "application/javascript": [
       "\n",
       "$.getScript('https://kmahelona.github.io/ipython_notebook_goodies/ipython_notebook_toc.js')"
      ],
      "text/plain": [
       "<IPython.core.display.Javascript object>"
      ]
     },
     "metadata": {},
     "output_type": "display_data"
    }
   ],
   "source": [
    "%%javascript\n",
    "\n",
    "$.getScript('https://kmahelona.github.io/ipython_notebook_goodies/ipython_notebook_toc.js')"
   ]
  },
  {
   "cell_type": "markdown",
   "metadata": {},
   "source": [
    "<h1 id=\"tocheading\">Table of Contents</h1>\n",
    "<div id=\"toc\"></div>"
   ]
  },
  {
   "cell_type": "markdown",
   "metadata": {},
   "source": [
    "# `os`, `os.path`: Accessing the operation system"
   ]
  },
  {
   "cell_type": "code",
   "execution_count": 2,
   "metadata": {
    "collapsed": true
   },
   "outputs": [],
   "source": [
    "import os"
   ]
  },
  {
   "cell_type": "markdown",
   "metadata": {},
   "source": [
    "## environment variables\n",
    "\n",
    "useful for configs"
   ]
  },
  {
   "cell_type": "code",
   "execution_count": 3,
   "metadata": {},
   "outputs": [
    {
     "data": {
      "text/plain": [
       "(None, 'foo')"
      ]
     },
     "execution_count": 3,
     "metadata": {},
     "output_type": "execute_result"
    }
   ],
   "source": [
    "os.getenv('STUFF'), os.getenv('STUFF', default='foo')"
   ]
  },
  {
   "cell_type": "code",
   "execution_count": 4,
   "metadata": {},
   "outputs": [
    {
     "data": {
      "text/plain": [
       "'bar'"
      ]
     },
     "execution_count": 4,
     "metadata": {},
     "output_type": "execute_result"
    }
   ],
   "source": [
    "os.environ['STUFF'] = 'bar'\n",
    "os.getenv('STUFF', default='foo')"
   ]
  },
  {
   "cell_type": "code",
   "execution_count": 5,
   "metadata": {},
   "outputs": [],
   "source": [
    "del os.environ['STUFF']"
   ]
  },
  {
   "cell_type": "markdown",
   "metadata": {},
   "source": [
    "## pwd, cwd"
   ]
  },
  {
   "cell_type": "code",
   "execution_count": 6,
   "metadata": {},
   "outputs": [
    {
     "name": "stdout",
     "output_type": "stream",
     "text": [
      "/home/maxnoe/Uni/CTA/PythonWorkshop-ICE/notebooks\n",
      "/home/maxnoe/Uni/CTA/PythonWorkshop-ICE\n"
     ]
    }
   ],
   "source": [
    "print(os.getcwd())\n",
    "\n",
    "os.chdir('..')\n",
    "\n",
    "print(os.getcwd())\n",
    "\n",
    "os.chdir('notebooks')"
   ]
  },
  {
   "cell_type": "markdown",
   "metadata": {},
   "source": [
    "## Manipulating files"
   ]
  },
  {
   "cell_type": "code",
   "execution_count": 7,
   "metadata": {},
   "outputs": [],
   "source": [
    "os.makedirs('example', exist_ok=True)"
   ]
  },
  {
   "cell_type": "code",
   "execution_count": 8,
   "metadata": {},
   "outputs": [],
   "source": [
    "fname = 'example/test.txt'\n",
    "with open(fname, 'w') as f:\n",
    "    f.write('Hello World\\n')"
   ]
  },
  {
   "cell_type": "code",
   "execution_count": 9,
   "metadata": {},
   "outputs": [
    {
     "data": {
      "text/plain": [
       "'100644'"
      ]
     },
     "execution_count": 9,
     "metadata": {},
     "output_type": "execute_result"
    }
   ],
   "source": [
    "stat_res = os.stat(fname)\n",
    "'{:o}'.format(stat_res.st_mode)"
   ]
  },
  {
   "cell_type": "code",
   "execution_count": 10,
   "metadata": {},
   "outputs": [],
   "source": [
    "# use an octal integer\n",
    "os.chmod(fname, 0o600) # equivalent to chmod 666 <filename>"
   ]
  },
  {
   "cell_type": "code",
   "execution_count": 11,
   "metadata": {},
   "outputs": [
    {
     "data": {
      "text/plain": [
       "'100600'"
      ]
     },
     "execution_count": 11,
     "metadata": {},
     "output_type": "execute_result"
    }
   ],
   "source": [
    "stat_res = os.stat(fname)\n",
    "'{:o}'.format(stat_res.st_mode)"
   ]
  },
  {
   "cell_type": "code",
   "execution_count": 12,
   "metadata": {},
   "outputs": [
    {
     "name": "stdout",
     "output_type": "stream",
     "text": [
      "['test.txt', 'build']\n",
      "['test.txt']\n",
      "[]\n"
     ]
    }
   ],
   "source": [
    "os.makedirs('example/build')\n",
    "\n",
    "print(os.listdir('example/'))\n",
    "\n",
    "if os.path.exists('example/build'):\n",
    "    os.rmdir('example/build')\n",
    "\n",
    "print(os.listdir('example'))\n",
    "\n",
    "if os.path.isfile('example/test.txt'):\n",
    "    os.remove('example/test.txt')\n",
    "    \n",
    "print(os.listdir('example'))"
   ]
  },
  {
   "cell_type": "code",
   "execution_count": 13,
   "metadata": {},
   "outputs": [
    {
     "data": {
      "text/plain": [
       "'build/example/test.txt'"
      ]
     },
     "execution_count": 13,
     "metadata": {},
     "output_type": "execute_result"
    }
   ],
   "source": [
    "os.path.join('build', 'example', 'test.txt')"
   ]
  },
  {
   "cell_type": "code",
   "execution_count": 14,
   "metadata": {},
   "outputs": [
    {
     "data": {
      "text/plain": [
       "('test', '.txt')"
      ]
     },
     "execution_count": 14,
     "metadata": {},
     "output_type": "execute_result"
    }
   ],
   "source": [
    "os.path.splitext('test.txt')"
   ]
  },
  {
   "cell_type": "markdown",
   "metadata": {},
   "source": [
    "# `subprocess`, calling shell commands"
   ]
  },
  {
   "cell_type": "code",
   "execution_count": 15,
   "metadata": {
    "collapsed": true
   },
   "outputs": [],
   "source": [
    "import subprocess as sp"
   ]
  },
  {
   "cell_type": "code",
   "execution_count": 16,
   "metadata": {},
   "outputs": [
    {
     "name": "stdout",
     "output_type": "stream",
     "text": [
      "b'# packages in environment at /home/maxnoe/.local/anaconda3:\\n#\\nnumpy                     1.12.1                   py36_0  \\nnumpydoc                  0.6.0                    py36_0  \\n'\n",
      "\n",
      "# packages in environment at /home/maxnoe/.local/anaconda3:\n",
      "#\n",
      "numpy                     1.12.1                   py36_0  \n",
      "numpydoc                  0.6.0                    py36_0  \n",
      "\n"
     ]
    }
   ],
   "source": [
    "result = sp.check_output(['conda', 'list', 'numpy'])\n",
    "\n",
    "print(result)\n",
    "print()\n",
    "print(result.decode())"
   ]
  },
  {
   "cell_type": "markdown",
   "metadata": {},
   "source": [
    "more complex task, provide read stdout"
   ]
  },
  {
   "cell_type": "code",
   "execution_count": 17,
   "metadata": {},
   "outputs": [],
   "source": [
    "url = 'https://upload.wikimedia.org/wikipedia/commons/thumb/0/00/Crab_Nebula.jpg/480px-Crab_Nebula.jpg'\n",
    "    \n",
    "process = sp.run(\n",
    "    ['curl', url],\n",
    "    stdout=sp.PIPE,\n",
    "    stderr=sp.PIPE,    \n",
    ")"
   ]
  },
  {
   "cell_type": "code",
   "execution_count": 18,
   "metadata": {},
   "outputs": [
    {
     "data": {
      "text/plain": [
       "<matplotlib.image.AxesImage at 0x7eff83813da0>"
      ]
     },
     "execution_count": 18,
     "metadata": {},
     "output_type": "execute_result"
    },
    {
     "data": {
      "image/png": "[encoded data removed]",
      "text/plain": [
       "<matplotlib.figure.Figure at 0x7effa5773080>"
      ]
     },
     "metadata": {},
     "output_type": "display_data"
    }
   ],
   "source": [
    "import matplotlib.pyplot as plt\n",
    "from scipy.misc import imread\n",
    "%matplotlib inline\n",
    "\n",
    "from io import BytesIO # File-Like object in memory\n",
    "\n",
    "img = BytesIO(process.stdout)\n",
    "\n",
    "plt.imshow(imread(img))"
   ]
  },
  {
   "cell_type": "markdown",
   "metadata": {},
   "source": [
    "# `threading`, `multiprocessing`: Doing stuff in parallel\n",
    "\n",
    "There are much more advanced libraries for this, e.g. `joblib`\n",
    "\n",
    "https://pythonhosted.org/joblib/\n",
    "\n",
    "Python can only run one python statement at a time through one interpreter, even\n",
    "when using multiple threads, only one thread at a time will be executed. \n",
    "This is called the **Global Interpreter Lock** (GIL).\n",
    "\n",
    "So you only gain in perfomance using threads, when:\n",
    "\n",
    "* there are I/O bound operations (Reading files, downloads, waiting on sockets)\n",
    "* When you use a lot of c-extensions (like numpy, pandas and basically all the scientific python stack)\n",
    "* sleeping\n",
    "\n",
    "For truly parallel operations, you need new python processes, this can be done with the `multiprocessing` module."
   ]
  },
  {
   "cell_type": "code",
   "execution_count": 19,
   "metadata": {},
   "outputs": [
    {
     "name": "stdout",
     "output_type": "stream",
     "text": [
      "hello\n",
      "world\n",
      "hello\n",
      "world\n",
      "hello\n",
      "world\n"
     ]
    }
   ],
   "source": [
    "from random import random\n",
    "import time\n",
    "\n",
    "def do_work():\n",
    "    time.sleep(random())\n",
    "    print('hello')\n",
    "    time.sleep(1)\n",
    "    print('world')\n",
    "\n",
    "for i in range(3):\n",
    "    do_work()"
   ]
  },
  {
   "cell_type": "code",
   "execution_count": 20,
   "metadata": {},
   "outputs": [
    {
     "name": "stdout",
     "output_type": "stream",
     "text": [
      "hello\n",
      "hello\n",
      "hello\n",
      "world\n",
      "world\n",
      "world\n"
     ]
    }
   ],
   "source": [
    "from threading import Thread\n",
    "\n",
    "for i in range(3):\n",
    "    t = Thread(target=do_work)\n",
    "    t.start()"
   ]
  },
  {
   "cell_type": "code",
   "execution_count": 21,
   "metadata": {},
   "outputs": [],
   "source": [
    "import random\n",
    "\n",
    "\n",
    "def pi_mc(n):\n",
    "    n_circle = 0\n",
    "    for i in range(n):\n",
    "        x = random.uniform(-1, 1)\n",
    "        y = random.uniform(-1, 1)\n",
    "        \n",
    "        if (x**2 + y**2) <= 1:\n",
    "            n_circle += 1\n",
    "    \n",
    "    return 4 * n_circle / n\n"
   ]
  },
  {
   "cell_type": "code",
   "execution_count": 22,
   "metadata": {},
   "outputs": [
    {
     "name": "stdout",
     "output_type": "stream",
     "text": [
      "[100000, 100000, 100000, 100000, 100000, 100000, 100000, 100000, 100000, 100000, 100000, 100000, 100000, 100000, 100000, 100000, 100000, 100000, 100000, 100000, 100000, 100000, 100000, 100000, 100000, 100000, 100000, 100000, 100000, 100000, 100000, 100000, 100000, 100000, 100000, 100000, 100000, 100000, 100000, 100000, 100000, 100000, 100000, 100000, 100000, 100000, 100000, 100000, 100000, 100000, 100000, 100000, 100000, 100000, 100000, 100000, 100000, 100000, 100000, 100000, 100000, 100000, 100000, 100000, 100000, 100000, 100000, 100000, 100000, 100000, 100000, 100000, 100000, 100000, 100000, 100000, 100000, 100000, 100000, 100000, 100000, 100000, 100000, 100000, 100000, 100000, 100000, 100000, 100000, 100000, 100000, 100000, 100000, 100000, 100000, 100000, 100000, 100000, 100000, 100000]\n",
      "3.1420195999999976\n"
     ]
    }
   ],
   "source": [
    "from multiprocessing import Pool\n",
    "\n",
    "n_jobs = 100\n",
    "n_iters = 100000\n",
    "iterable = [n_iters] * n_jobs\n",
    "\n",
    "print(iterable)\n",
    "\n",
    "with Pool(4) as pool:\n",
    "    results = pool.map(pi_mc, iterable)\n",
    "  \n",
    "print(sum(results) / len(results))"
   ]
  },
  {
   "cell_type": "markdown",
   "metadata": {},
   "source": [
    "# `collections`: Useful Containers\n",
    "\n",
    "example: count words"
   ]
  },
  {
   "cell_type": "code",
   "execution_count": 23,
   "metadata": {
    "collapsed": true
   },
   "outputs": [],
   "source": [
    "text = '''Alice was beginning to get very tired of sitting by her sister on the bank,\n",
    "and of having nothing to do:\n",
    "once or twice she had peeped into the book her sister was reading,\n",
    "but it had no pictures or conversations in it,\n",
    "`and what is the use of a book,'\n",
    "thought Alice\n",
    "`without pictures or conversation?'\n",
    "So she was considering in her own mind (as well as she could,\n",
    "for the hot day made her feel very sleepy and stupid),\n",
    "whether the pleasure of making a daisy-chain would be worth the trouble of getting up and picking the daisies,\n",
    "when suddenly a White Rabbit with pink eyes ran close by her.\n",
    "\n",
    "There was nothing so very remarkable in that;\n",
    "nor did Alice think it so very much out of the way to hear the Rabbit say to itself,\n",
    "`Oh dear! Oh dear! I shall be late!' (when she thought it over afterwards,\n",
    "it occurred to her that she ought to have wondered at this, but at the time it all seemed quite natural);\n",
    "but when the Rabbit actually took a watch out of its waistcoat-pocket, and looked at it, and then hurried on,\n",
    "Alice started to her feet,\n",
    "for it flashed across her mind that she had never before seen a rabbit with either a waistcoat-pocket,\n",
    "or a watch to take out of it, and burning with curiosity, she ran across the field after it,\n",
    "and fortunately was just in time to see it pop down a large rabbit-hole under the hedge.\n",
    "'''"
   ]
  },
  {
   "cell_type": "code",
   "execution_count": 24,
   "metadata": {},
   "outputs": [
    {
     "name": "stdout",
     "output_type": "stream",
     "text": [
      "Alice was beginning to get very tired of sitting by her sister on the bank\n",
      "and of having nothing to do\n",
      "once or twice she had peeped into the book her sister was reading\n",
      "but it had no pictures or conversations in it\n",
      "and what is the use of a book\n",
      "thought Alice\n",
      "without pictures or conversation\n",
      "So she was considering in her own mind as well as she could\n",
      "for the hot day made her feel very sleepy and stupid\n",
      "whether the pleasure of making a daisy-chain would be worth the trouble of getting up and picking the daisies\n",
      "when suddenly a White Rabbit with pink eyes ran close by her\n",
      "\n",
      "There was nothing so very remarkable in that\n",
      "nor did Alice think it so very much out of the way to hear the Rabbit say to itself\n",
      "Oh dear Oh dear I shall be late when she thought it over afterwards\n",
      "it occurred to her that she ought to have wondered at this but at the time it all seemed quite natural\n",
      "but when the Rabbit actually took a watch out of its waistcoat-pocket and looked at it and then hurried on\n",
      "Alice started to her feet\n",
      "for it flashed across her mind that she had never before seen a rabbit with either a waistcoat-pocket\n",
      "or a watch to take out of it and burning with curiosity she ran across the field after it\n",
      "and fortunately was just in time to see it pop down a large rabbit-hole under the hedge\n",
      "\n"
     ]
    }
   ],
   "source": [
    "# remove punctuation\n",
    "text = text.translate({ord(c): None for c in ',`;.!:?()\\''})\n",
    "print(text)"
   ]
  },
  {
   "cell_type": "code",
   "execution_count": 25,
   "metadata": {},
   "outputs": [
    {
     "name": "stdout",
     "output_type": "stream",
     "text": [
      "the 13\n",
      "it 11\n",
      "to 9\n",
      "of 8\n",
      "her 8\n",
      "and 8\n",
      "a 8\n",
      "she 7\n",
      "was 5\n",
      "Alice 4\n"
     ]
    }
   ],
   "source": [
    "# solution one, pure python\n",
    "\n",
    "counts = {}\n",
    "for word in text.split():\n",
    "    if word not in counts:\n",
    "        counts[word] = 0\n",
    "    counts[word] += 1\n",
    "\n",
    "for name, count in sorted(counts.items(), key=lambda s: s[1], reverse=True)[:10]:\n",
    "    print(name, count)"
   ]
  },
  {
   "cell_type": "markdown",
   "metadata": {},
   "source": [
    "`collections.defaultdict` takes a function that initialises entries"
   ]
  },
  {
   "cell_type": "code",
   "execution_count": 26,
   "metadata": {},
   "outputs": [
    {
     "name": "stdout",
     "output_type": "stream",
     "text": [
      "the 13\n",
      "it 11\n",
      "to 9\n",
      "of 8\n",
      "her 8\n",
      "and 8\n",
      "a 8\n",
      "she 7\n",
      "was 5\n",
      "Alice 4\n"
     ]
    }
   ],
   "source": [
    "# solution 2, using default dict\n",
    "from collections import defaultdict\n",
    "\n",
    "counts = defaultdict(int)  # int() returns 0\n",
    "\n",
    "for word in text.split():\n",
    "    counts[word] += 1\n",
    "\n",
    "for name, count in sorted(counts.items(), key=lambda s: s[1], reverse=True)[:10]:\n",
    "    print(name, count)"
   ]
  },
  {
   "cell_type": "code",
   "execution_count": 27,
   "metadata": {},
   "outputs": [
    {
     "name": "stdout",
     "output_type": "stream",
     "text": [
      "the 13\n",
      "it 11\n",
      "to 9\n",
      "of 8\n",
      "her 8\n",
      "and 8\n",
      "a 8\n",
      "she 7\n",
      "was 5\n",
      "Alice 4\n"
     ]
    }
   ],
   "source": [
    "# solution 3, Counter\n",
    "from collections import Counter\n",
    "\n",
    "counts = Counter(text.split())\n",
    "for word, count in counts.most_common(10):\n",
    "    print(word, count)"
   ]
  },
  {
   "cell_type": "code",
   "execution_count": 28,
   "metadata": {
    "collapsed": true
   },
   "outputs": [],
   "source": [
    "color = (1.0, 0, 0, 1.0) ## what is this? RGBA? CMYK? Something else"
   ]
  },
  {
   "cell_type": "code",
   "execution_count": 29,
   "metadata": {},
   "outputs": [
    {
     "data": {
      "text/plain": [
       "Color(r=1.0, g=0, b=0, a=1.0)"
      ]
     },
     "execution_count": 29,
     "metadata": {},
     "output_type": "execute_result"
    }
   ],
   "source": [
    "from collections import namedtuple\n",
    "\n",
    "Color = namedtuple('Color', ['r', 'g', 'b', 'a'])\n",
    "color = Color(1.0, 0, 0, 1.0)\n",
    "color"
   ]
  },
  {
   "cell_type": "markdown",
   "metadata": {},
   "source": [
    "# itertools, more iterations"
   ]
  },
  {
   "cell_type": "code",
   "execution_count": 30,
   "metadata": {
    "collapsed": true
   },
   "outputs": [],
   "source": [
    "import itertools"
   ]
  },
  {
   "cell_type": "code",
   "execution_count": 31,
   "metadata": {},
   "outputs": [
    {
     "name": "stdout",
     "output_type": "stream",
     "text": [
      "----------------- zip ------------------\n",
      "1 a\n",
      "2 b\n",
      "3 c\n",
      "------------- zip_longest --------------\n",
      "1 a\n",
      "2 b\n",
      "3 c\n",
      "4 None\n",
      "5 None\n",
      "------ zip_longest, with fillvalue------\n",
      "1 a\n",
      "2 b\n",
      "3 c\n",
      "4 z\n",
      "5 z\n"
     ]
    }
   ],
   "source": [
    "longer = [1, 2, 3, 4, 5]\n",
    "shorter = ['a', 'b', 'c']\n",
    "\n",
    "print('{:-^40}'.format(' zip '))\n",
    "for l, s in zip(longer, shorter):\n",
    "    print(l, s)\n",
    "\n",
    "print('{:-^40}'.format(' zip_longest '))\n",
    "for l, s in itertools.zip_longest(longer, shorter):\n",
    "    print(l, s)\n",
    "    \n",
    "print('{:-^40}'.format(' zip_longest, with fillvalue'))\n",
    "for l, s in itertools.zip_longest(longer, shorter, fillvalue='z'):\n",
    "    print(l, s)"
   ]
  },
  {
   "cell_type": "code",
   "execution_count": 32,
   "metadata": {},
   "outputs": [
    {
     "data": {
      "text/plain": [
       "[('A', 'B', 'C'),\n",
       " ('A', 'C', 'B'),\n",
       " ('B', 'A', 'C'),\n",
       " ('B', 'C', 'A'),\n",
       " ('C', 'A', 'B'),\n",
       " ('C', 'B', 'A')]"
      ]
     },
     "execution_count": 32,
     "metadata": {},
     "output_type": "execute_result"
    }
   ],
   "source": [
    "list(itertools.permutations('ABC'))"
   ]
  },
  {
   "cell_type": "code",
   "execution_count": 33,
   "metadata": {},
   "outputs": [
    {
     "data": {
      "text/plain": [
       "[('A', 'B'), ('A', 'C'), ('B', 'C')]"
      ]
     },
     "execution_count": 33,
     "metadata": {},
     "output_type": "execute_result"
    }
   ],
   "source": [
    "list(itertools.combinations('ABC', 2))"
   ]
  },
  {
   "cell_type": "markdown",
   "metadata": {},
   "source": [
    "# `argparse`: commandline options\n",
    "\n",
    "Alternatives:\n",
    "\n",
    "- `click`: http://click.pocoo.org/5/\n",
    "- `docopt`: http://docopt.org/"
   ]
  },
  {
   "cell_type": "code",
   "execution_count": 34,
   "metadata": {},
   "outputs": [],
   "source": [
    "from argparse import ArgumentParser\n",
    "\n",
    "parser = ArgumentParser()\n",
    "parser.add_argument('inputfile') # positional argument\n",
    "parser.add_argument('-o', '--output') # option\n",
    "parser.add_argument('-n', '--number', default=0, type=int) # option with default value and type\n",
    "\n",
    "None"
   ]
  },
  {
   "cell_type": "code",
   "execution_count": 35,
   "metadata": {},
   "outputs": [
    {
     "name": "stdout",
     "output_type": "stream",
     "text": [
      "0 data.csv None\n"
     ]
    }
   ],
   "source": [
    "args = parser.parse_args(['data.csv']) # of no arguments give,  use sys.argv\n",
    "print(args.number, args.inputfile, args.output)"
   ]
  },
  {
   "cell_type": "code",
   "execution_count": 36,
   "metadata": {},
   "outputs": [
    {
     "name": "stdout",
     "output_type": "stream",
     "text": [
      "5 data.csv test.csv\n"
     ]
    }
   ],
   "source": [
    "args = parser.parse_args(['data.csv', '--number=5', '-o',  'test.csv'])\n",
    "\n",
    "print(args.number, args.inputfile, args.output)"
   ]
  },
  {
   "cell_type": "markdown",
   "metadata": {},
   "source": [
    "# `copy`, copy operations"
   ]
  },
  {
   "cell_type": "code",
   "execution_count": 37,
   "metadata": {},
   "outputs": [
    {
     "name": "stdout",
     "output_type": "stream",
     "text": [
      "[1, 3, [4, 'Hello']]\n",
      "[1, 3, [4, 'Hello']]\n"
     ]
    }
   ],
   "source": [
    "a = [1, 2, [4, 5]]\n",
    "b = a\n",
    "b[1] = 3\n",
    "b[2][1] = 'Hello'\n",
    "\n",
    "print(a)\n",
    "print(b)"
   ]
  },
  {
   "cell_type": "code",
   "execution_count": 38,
   "metadata": {},
   "outputs": [
    {
     "name": "stdout",
     "output_type": "stream",
     "text": [
      "[1, 2, [4, 'Hello']]\n",
      "[1, 3, [4, 'Hello']]\n"
     ]
    }
   ],
   "source": [
    "from copy import copy\n",
    "\n",
    "a = [1, 2, [4, 5]]\n",
    "b = copy(a)\n",
    "b[1] = 3\n",
    "b[2][1] = 'Hello'\n",
    "\n",
    "print(a)\n",
    "print(b)"
   ]
  },
  {
   "cell_type": "code",
   "execution_count": 39,
   "metadata": {},
   "outputs": [
    {
     "name": "stdout",
     "output_type": "stream",
     "text": [
      "[1, 2, [4, 5]]\n",
      "[1, 3, [4, 'Hello']]\n"
     ]
    }
   ],
   "source": [
    "from copy import deepcopy\n",
    "\n",
    "a = [1, 2, [4, 5]]\n",
    "b = deepcopy(a)\n",
    "b[1] = 3\n",
    "b[2][1] = 'Hello'\n",
    "\n",
    "print(a)\n",
    "print(b)"
   ]
  },
  {
   "cell_type": "markdown",
   "metadata": {},
   "source": [
    "# `tempfile`, Tempory Files and Directories"
   ]
  },
  {
   "cell_type": "code",
   "execution_count": 40,
   "metadata": {},
   "outputs": [
    {
     "name": "stdout",
     "output_type": "stream",
     "text": [
      "/tmp\n",
      "f exists: True\n",
      "f exists: False\n"
     ]
    }
   ],
   "source": [
    "import tempfile\n",
    "import os\n",
    "\n",
    "print(tempfile.gettempdir())\n",
    "\n",
    "# file will be deleted when exiting the with block\n",
    "with tempfile.NamedTemporaryFile(prefix='python_course_', suffix='.txt', mode='w') as f:\n",
    "    path = f.name\n",
    "    f.write('Hello World')\n",
    "\n",
    "    print('f exists:', os.path.exists(path))\n",
    "\n",
    "print('f exists:', os.path.exists(path))"
   ]
  },
  {
   "cell_type": "code",
   "execution_count": 41,
   "metadata": {},
   "outputs": [
    {
     "name": "stdout",
     "output_type": "stream",
     "text": [
      "/tmp/tmpbso9xl9s\n",
      "/tmp/tmpbso9xl9s/myfile.txt\n",
      "d exists: True\n",
      "d exists: False\n"
     ]
    }
   ],
   "source": [
    "# directory with all contents will be deleted when we exit the with block\n",
    "with tempfile.TemporaryDirectory() as d:\n",
    "    print(d)\n",
    "    \n",
    "    with open(os.path.join(d, 'myfile.txt'), 'w') as f:\n",
    "        print(f.name)\n",
    "        f.write('Hello World')\n",
    "        \n",
    "        print('d exists:', os.path.exists(d))\n",
    "\n",
    "print('d exists:', os.path.exists(d))"
   ]
  },
  {
   "cell_type": "markdown",
   "metadata": {},
   "source": [
    "# `email`, `smtplib`, `getpass`"
   ]
  },
  {
   "cell_type": "code",
   "execution_count": null,
   "metadata": {},
   "outputs": [],
   "source": [
    "import smtplib\n",
    "from email.message import EmailMessage\n",
    "from getpass import getpass\n",
    "\n",
    "text = '''Hello Participants,\n",
    "\n",
    "Thanks for attending!\n",
    "Do not forget to provide feedback\n",
    "\n",
    "Cheers,\n",
    "Max\n",
    "'''\n",
    "\n",
    "msg = EmailMessage()\n",
    "msg.set_content(text)\n",
    "\n",
    "\n",
    "msg['Subject'] = 'Email demonstration at the Python Course'\n",
    "msg['From'] = ...\n",
    "msg['To'] = ...\n",
    "\n",
    "# Send the message via our own SMTP server.\n",
    "s = smtplib.SMTP_SSL(host='unimail.tu-dortmund.de')\n",
    "\n",
    "\n",
    "\n",
    "s.login(input('Username: '), getpass('Enter password: '))\n",
    "\n",
    "s.send_message(\n",
    "    from_addr=..., \n",
    "    to_addrs=...,\n",
    "    msg=...,\n",
    ")\n",
    "s.quit()"
   ]
  },
  {
   "cell_type": "code",
   "execution_count": null,
   "metadata": {
    "collapsed": true
   },
   "outputs": [],
   "source": []
  }
 ],
 "metadata": {
  "kernelspec": {
   "display_name": "Python [default]",
   "language": "python",
   "name": "python3"
  },
  "language_info": {
   "codemirror_mode": {
    "name": "ipython",
    "version": 3
   },
   "file_extension": ".py",
   "mimetype": "text/x-python",
   "name": "python",
   "nbconvert_exporter": "python",
   "pygments_lexer": "ipython3",
   "version": "3.6.1"
  }
 },
 "nbformat": 4,
 "nbformat_minor": 2
}
