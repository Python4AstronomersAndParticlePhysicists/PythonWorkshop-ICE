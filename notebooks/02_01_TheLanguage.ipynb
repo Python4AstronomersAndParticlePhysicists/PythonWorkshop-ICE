{
 "cells": [
  {
   "cell_type": "markdown",
   "metadata": {},
   "source": [
    "The language (1h)\n",
    "=========\n",
    "\n",
    "1) Short historical overview (5m)\n",
    "\n",
    "2) Briefly talk about python 2/3 (5m)\n",
    "\n",
    "3) Getting started with pyhton (15m)\n",
    " * Python terminal\n",
    " * iPython\n",
    " * Script with plain editors\n",
    " * Scripts with pycharm\n",
    "\n",
    "4) How python works (20m)\n",
    " * binaries, libraries and environments\n",
    " * exercises/examples\n",
    "     * example: import library included\n",
    "     * example: import library not installed\n",
    "     * exercice: install library manually\n",
    "     * example: install library pip\n",
    "\n",
    "5) Explain/show what jupyter notebooks are (15m)\n",
    "\n",
    "* Code is running locally\n",
    "* Typical shortcuts\n",
    "* Is possible to add comments, etc...\n",
    "* Plots are properly shown, etc...\n"
   ]
  },
  {
   "cell_type": "markdown",
   "metadata": {
    "collapsed": true
   },
   "source": [
    "The language\n",
    "============\n",
    "\n",
    "To follow the first part of the tutorial (points 1 to 4), take a look at [this presentation](presentations/02_01_TheLanguage.pdf).\n",
    "\n"
   ]
  },
  {
   "cell_type": "markdown",
   "metadata": {},
   "source": [
    "5) Jupyter notebooks\n",
    "--------------------\n",
    "\n",
    "The [Jupyter Notebook](http://jupyter.org/) is an open-source web application that allows you to create and share documents that contain live code, equations, visualizations and explanatory text.\n",
    "\n",
    "These notebooks are composed by \"cells\" of code (or comments, as this one, in [\"markdown\" format](https://github.com/adam-p/markdown-here/wiki/Markdown-Cheatsheet)). "
   ]
  },
  {
   "cell_type": "markdown",
   "metadata": {},
   "source": [
    "You can (and are **encouraged** to) take a look at the keyboard shortcut list, by going to **Help -> \"Keyboard Shortcuts\"**"
   ]
  },
  {
   "cell_type": "code",
   "execution_count": 1,
   "metadata": {
    "collapsed": false
   },
   "outputs": [
    {
     "name": "stdout",
     "output_type": "stream",
     "text": [
      "3.5.1 |Continuum Analytics, Inc.| (default, Jun 15 2016, 15:32:45) \n",
      "[GCC 4.4.7 20120313 (Red Hat 4.4.7-1)]\n"
     ]
    }
   ],
   "source": [
    "# While in a \"code cell\" (like this one) you may execute the content by pressing Cntrl+Enter\n",
    "import sys\n",
    "print(sys.version)"
   ]
  },
  {
   "cell_type": "markdown",
   "metadata": {},
   "source": [
    "By clicking (once) on a \"cell\" you are selecting it. You may use some keyboard shortcuts:\n",
    "* Add a new cell below with typing \"**B**\"\n",
    "* Add a new cell above with typing \"**A**\"\n",
    "You may also change the cell type:\n",
    "* Turn selected cell into markdown: \"**M**\"\n",
    "* Turn selected cell into code: \"**Y**\""
   ]
  },
  {
   "cell_type": "markdown",
   "metadata": {},
   "source": [
    "The very basics\n",
    "---------------\n",
    "\n",
    "There are several things you should remember while using jupyter notebooks:\n",
    "\n",
    "* Code is beeing executed locally in your machine, under the python environment in which jupyter is installed (even if you are using your browser)\n",
    "* The cells are supposed to be executed **sequencially**. If you execute the cells in a different order, errors may occur!\n",
    "\n",
    "A couple of examples:"
   ]
  },
  {
   "cell_type": "code",
   "execution_count": 2,
   "metadata": {
    "collapsed": false
   },
   "outputs": [
    {
     "ename": "NameError",
     "evalue": "name 'random' is not defined",
     "output_type": "error",
     "traceback": [
      "\u001b[0;31m---------------------------------------------------------------------------\u001b[0m",
      "\u001b[0;31mNameError\u001b[0m                                 Traceback (most recent call last)",
      "\u001b[0;32m<ipython-input-2-9719b9a7c01e>\u001b[0m in \u001b[0;36m<module>\u001b[0;34m()\u001b[0m\n\u001b[1;32m      1\u001b[0m \u001b[0;31m# If we try to get a random number from the \"random\" package:\u001b[0m\u001b[0;34m\u001b[0m\u001b[0;34m\u001b[0m\u001b[0m\n\u001b[0;32m----> 2\u001b[0;31m \u001b[0mprint\u001b[0m\u001b[0;34m(\u001b[0m\u001b[0mrandom\u001b[0m\u001b[0;34m.\u001b[0m\u001b[0mrandint\u001b[0m\u001b[0;34m(\u001b[0m\u001b[0;36m1\u001b[0m\u001b[0;34m,\u001b[0m\u001b[0;36m6\u001b[0m\u001b[0;34m)\u001b[0m\u001b[0;34m)\u001b[0m\u001b[0;34m\u001b[0m\u001b[0m\n\u001b[0m",
      "\u001b[0;31mNameError\u001b[0m: name 'random' is not defined"
     ]
    }
   ],
   "source": [
    "# If we try to get a random number from the \"random\" package:\n",
    "print(random.randint(1,6))"
   ]
  },
  {
   "cell_type": "code",
   "execution_count": 3,
   "metadata": {
    "collapsed": true
   },
   "outputs": [],
   "source": [
    "# Ops! We forgot to import the package (you are executing normal sequencial python code)\n",
    "# If you execute this cell, you will import the random package\n",
    "import random"
   ]
  },
  {
   "cell_type": "code",
   "execution_count": 4,
   "metadata": {
    "collapsed": false,
    "scrolled": true
   },
   "outputs": [
    {
     "name": "stdout",
     "output_type": "stream",
     "text": [
      "1\n"
     ]
    }
   ],
   "source": [
    "# If you try now to execute this cell again (identical to the one from before):\n",
    "print(random.randint(1,6))"
   ]
  },
  {
   "cell_type": "code",
   "execution_count": 5,
   "metadata": {
    "collapsed": true
   },
   "outputs": [],
   "source": [
    "# Now it works!"
   ]
  },
  {
   "cell_type": "markdown",
   "metadata": {},
   "source": [
    "Plots\n",
    "-----\n",
    "When producing plots, jupyter notebooks nicely accomodate them within the notebook.\n",
    "\n",
    "As an example, execute the following code:"
   ]
  },
  {
   "cell_type": "code",
   "execution_count": 6,
   "metadata": {
    "collapsed": false
   },
   "outputs": [
    {
     "data": {
      "text/plain": [
       "[<matplotlib.lines.Line2D at 0x7fe961fef4e0>]"
      ]
     },
     "execution_count": 6,
     "metadata": {},
     "output_type": "execute_result"
    },
    {
     "data": {
      "image/png": "[encoded data removed]",
      "text/plain": [
       "<matplotlib.figure.Figure at 0x7fe965632ef0>"
      ]
     },
     "metadata": {},
     "output_type": "display_data"
    }
   ],
   "source": [
    "# To show plots inline:\n",
    "%matplotlib inline\n",
    "\n",
    "import numpy as np\n",
    "import matplotlib.pyplot as plt\n",
    "# If you want different plotting style, uncomment the following line. Useful to have large readable fonts\n",
    "#plt.style.use('seaborn-talk') \n",
    "x=np.linspace(0,100)\n",
    "plt.plot(x,x**2,'b.')"
   ]
  },
  {
   "cell_type": "markdown",
   "metadata": {},
   "source": [
    "Notebooks are also able to execute HTML code:"
   ]
  },
  {
   "cell_type": "code",
   "execution_count": 18,
   "metadata": {
    "collapsed": false,
    "scrolled": false
   },
   "outputs": [
    {
     "data": {
      "text/html": [
       "<img src=https://freethoughtblogs.com/affinity/files/2017/06/good-news-everyone.jpg >\n",
       "<b>Jupyter notebooks are able to render HTML</b>"
      ],
      "text/plain": [
       "<IPython.core.display.HTML object>"
      ]
     },
     "metadata": {},
     "output_type": "display_data"
    }
   ],
   "source": [
    "%%HTML\n",
    "<img src=https://freethoughtblogs.com/affinity/files/2017/06/good-news-everyone.jpg >\n",
    "<b>Jupyter notebooks are able to render HTML</b>"
   ]
  },
  {
   "cell_type": "markdown",
   "metadata": {},
   "source": [
    "You can also show code in a formatted style (taking profit from the markdown format power):\n",
    "\n",
    "```python\n",
    "import sys\n",
    "print(sys.version)\n",
    "```"
   ]
  },
  {
   "cell_type": "markdown",
   "metadata": {},
   "source": [
    "In the following, the whole workshop will be using these notebooks. Before each lecture, remember several steps:\n",
    "* Organizers may update (many times, last minute) their notebooks, so remember to update your local project by executing:\n",
    "```bash\n",
    "# First go to the path where you cloned the gitHub repository:\n",
    "cd PythonWorkshop-ICE\n",
    "git pull\n",
    "```\n",
    "In case these commands show conflicts, and you **don't want to change the changes you applied to the notebooks**, execute the following code to discard your changes and update the local notebooks to the latest version:\n",
    "```bash\n",
    "git reset --hard origin/master\n",
    "git pull origin master\n",
    "```"
   ]
  },
  {
   "cell_type": "markdown",
   "metadata": {},
   "source": [
    "Back-up material\n",
    "------------------\n",
    "\n",
    "**Much** fancier things can be done with jupyter notebooks. If you want to check for more features, you can take a look to the following resources:\n",
    "* Most viewed notebooks: http://nb.bianp.net/sort/views/\n",
    "* https://github.com/cta-observatory/training-material/blob/master/tutorials/01_Intro_Python_fabio.ipynb\n",
    "* Advanced tricks: https://blog.dominodatalab.com/lesser-known-ways-of-using-notebooks/\n",
    "* Example: Interactive map https://app.dominodatalab.com/u/r00sj3/jupyter/view/batchdemo.ipynb"
   ]
  },
  {
   "cell_type": "code",
   "execution_count": null,
   "metadata": {
    "collapsed": true
   },
   "outputs": [],
   "source": []
  }
 ],
 "metadata": {
  "kernelspec": {
   "display_name": "Python 3",
   "language": "python",
   "name": "python3"
  },
  "language_info": {
   "codemirror_mode": {
    "name": "ipython",
    "version": 3
   },
   "file_extension": ".py",
   "mimetype": "text/x-python",
   "name": "python",
   "nbconvert_exporter": "python",
   "pygments_lexer": "ipython3",
   "version": "3.5.1"
  }
 },
 "nbformat": 4,
 "nbformat_minor": 2
}
