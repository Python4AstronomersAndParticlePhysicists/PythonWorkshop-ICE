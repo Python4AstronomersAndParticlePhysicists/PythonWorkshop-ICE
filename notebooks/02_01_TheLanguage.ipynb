{
 "cells": [
  {
   "cell_type": "markdown",
   "metadata": {},
   "source": [
    "The language (1h)\n",
    "=========\n",
    "\n",
    "1) Short historical overview (5m)\n",
    "\n",
    "2) Briefly talk about python 2/3 (5m)\n",
    "\n",
    "3) Getting started with pyhton (15m)\n",
    " * Python terminal\n",
    " * iPython\n",
    " * Script with plain editors\n",
    " * Scripts with pycharm\n",
    "\n",
    "4) How python works (20m)\n",
    " * binaries, libraries and environments\n",
    " * exercises/examples\n",
    "     * example: import library included\n",
    "     * example: import library not installed\n",
    "     * exercice: install library manually\n",
    "     * example: install library pip\n",
    "\n",
    "5) Explain/show what jupyter notebooks are (15m)\n",
    "\n",
    "* Code is running locally\n",
    "* Typical shortcuts\n",
    "* Is possible to add comments, etc...\n",
    "* Plots are properly shown, etc...\n"
   ]
  },
  {
   "cell_type": "code",
   "execution_count": null,
   "metadata": {
    "collapsed": true
   },
   "outputs": [],
   "source": []
  }
 ],
 "metadata": {
  "kernelspec": {
   "display_name": "Python 2",
   "language": "python",
   "name": "python2"
  },
  "language_info": {
   "codemirror_mode": {
    "name": "ipython",
    "version": 2
   },
   "file_extension": ".py",
   "mimetype": "text/x-python",
   "name": "python",
   "nbconvert_exporter": "python",
   "pygments_lexer": "ipython2",
   "version": "2.7.13"
  }
 },
 "nbformat": 4,
 "nbformat_minor": 2
}
