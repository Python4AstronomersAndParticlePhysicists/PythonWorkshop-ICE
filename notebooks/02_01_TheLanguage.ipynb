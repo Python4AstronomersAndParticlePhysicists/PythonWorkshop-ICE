{
 "cells": [
  {
   "cell_type": "markdown",
   "metadata": {},
   "source": [
    "Table of Contents\n",
    "=========\n",
    "\n",
    "1) Short historical overview\n",
    "\n",
    "2) Briefly talk about python 2/3\n",
    "\n",
    "3) Explain/show what jupyter notebooks are\n",
    "\n",
    "* Code is running locally\n",
    "* Typical shortcuts\n",
    "* Is possible to add comments, etc...\n",
    "* Plots are properly shown, etc...\n",
    "\n",
    "4) Explain/show some other methods to program with python (gedit/vim/pyCharm/¿?)\n",
    "\n",
    "* Go from the simplest (vim/gedit?), to more complex ones (pyCharm/¿?)\n"
   ]
  },
  {
   "cell_type": "code",
   "execution_count": null,
   "metadata": {
    "collapsed": true
   },
   "outputs": [],
   "source": []
  }
 ],
 "metadata": {
  "kernelspec": {
   "display_name": "Python 3",
   "language": "python",
   "name": "python3"
  },
  "language_info": {
   "codemirror_mode": {
    "name": "ipython",
    "version": 3
   },
   "file_extension": ".py",
   "mimetype": "text/x-python",
   "name": "python",
   "nbconvert_exporter": "python",
   "pygments_lexer": "ipython3",
   "version": "3.5.1"
  }
 },
 "nbformat": 4,
 "nbformat_minor": 2
}
