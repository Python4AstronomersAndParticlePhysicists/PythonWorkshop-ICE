{
 "cells": [
  {
   "cell_type": "markdown",
   "metadata": {},
   "source": [
    "The language (1h)\n",
    "=========\n",
    "\n",
    "1) Short historical overview (5m)\n",
    "\n",
    "2) Briefly talk about python 2/3 (5m)\n",
    "\n",
    "3) Getting started with pyhton (15m)\n",
    " * Python terminal\n",
    " * iPython\n",
    " * Script with plain editors\n",
    " * Scripts with pycharm\n",
    "\n",
    "4) How python works (20m)\n",
    " * binaries, libraries and environments\n",
    " * exercises/examples\n",
    "     * example: import library included\n",
    "     * example: import library not installed\n",
    "     * exercice: install library manually\n",
    "     * example: install library pip\n",
    "\n",
    "5) Explain/show what jupyter notebooks are (15m)\n",
    "\n",
    "* Code is running locally\n",
    "* Typical shortcuts\n",
    "* Is possible to add comments, etc...\n",
    "* Plots are properly shown, etc...\n"
   ]
  },
  {
   "cell_type": "markdown",
   "metadata": {
    "collapsed": true
   },
   "source": [
    "The language\n",
    "============\n",
    "\n",
    "To follow the first part of the tutorial (points 1 to 4), take a look at [this presentation](presentations/02_01_TheLanguage.pdf).\n",
    "\n"
   ]
  },
  {
   "cell_type": "markdown",
   "metadata": {},
   "source": [
    "5) Jupyter notebooks\n",
    "--------------------\n",
    "\n",
    "The [Jupyter Notebook](http://jupyter.org/) is an open-source web application that allows you to create and share documents that contain live code, equations, visualizations and explanatory text.\n",
    "\n",
    "These notebooks are composed by \"cells\" of code (or comments, as this one, in [\"markdown\" format](https://github.com/adam-p/markdown-here/wiki/Markdown-Cheatsheet)). \n",
    "\n",
    "There are several things you should remember while using jupyter notebooks:\n",
    "\n",
    "* Code is beeing executed locally in your machine, under the python environment in which jupyter is installed (even if you are using your browser)\n",
    "* The cells are supposed to be executed in order. You may execute the cells in a different order and find errors!"
   ]
  },
  {
   "cell_type": "markdown",
   "metadata": {},
   "source": [
    "You can (and are **encouraged** to) take a look at the keyboard shortcut list, by going to Help -> \"Keyboard Shortcuts\""
   ]
  },
  {
   "cell_type": "markdown",
   "metadata": {},
   "source": [
    "By clicking (once) on a \"cell\" you are selecting it. You may use some keyboard shortcuts:\n",
    "* Add a new cell below with typing \"**B**\"\n",
    "* Add a new cell above with typing \"**A**\"\n",
    "You may also change the cell type:\n",
    "* Turn selected cell into markdown: \"**M**\"\n",
    "* Turn selected cell into code: \"**Y**\""
   ]
  },
  {
   "cell_type": "code",
   "execution_count": 4,
   "metadata": {
    "collapsed": false
   },
   "outputs": [
    {
     "name": "stdout",
     "output_type": "stream",
     "text": [
      "3.5.1 |Continuum Analytics, Inc.| (default, Jun 15 2016, 15:32:45) \n",
      "[GCC 4.4.7 20120313 (Red Hat 4.4.7-1)]\n"
     ]
    }
   ],
   "source": [
    "# While in a \"code cell\" (like this one) you may execute the content by pressing Cntrl+Enter\n",
    "import sys\n",
    "print(sys.version)"
   ]
  },
  {
   "cell_type": "code",
   "execution_count": null,
   "metadata": {
    "collapsed": true
   },
   "outputs": [],
   "source": []
  }
 ],
 "metadata": {
  "kernelspec": {
   "display_name": "Python 3",
   "language": "python",
   "name": "python3"
  },
  "language_info": {
   "codemirror_mode": {
    "name": "ipython",
    "version": 3
   },
   "file_extension": ".py",
   "mimetype": "text/x-python",
   "name": "python",
   "nbconvert_exporter": "python",
   "pygments_lexer": "ipython3",
   "version": "3.5.1"
  }
 },
 "nbformat": 4,
 "nbformat_minor": 2
}
