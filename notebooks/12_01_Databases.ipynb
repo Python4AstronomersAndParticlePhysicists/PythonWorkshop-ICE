{
 "cells": [
  {
   "cell_type": "code",
   "execution_count": null,
   "metadata": {
    "collapsed": true
   },
   "outputs": [],
   "source": [
    "'''\n",
    "Table of Contents:\n",
    "1. Introduction to DBs (ACID concept)\n",
    "2. Relational Databases\n",
    "    2.1 Introduction: key concepts (table, record, field, view, index, key, relationship)\n",
    "    2.2 Most popular RDBMS (Oracle, MySQL, SQL Server, PostgreSQL, SQLite, Hive)\n",
    "    2.3 SQL language\n",
    "    2.4 Data Model definition - Good practices\n",
    "    2.5 ORM - SQLAlchemy (any alternatives? Django ORM?)\n",
    "3. Non-relational databases (brief introduction)\n",
    "    3.1 MongoDB \n",
    "    3.2 Cassandra (pycassa)\n",
    "    3.3 Redis\n",
    "'''"
   ]
  }
 ],
 "metadata": {
  "kernelspec": {
   "display_name": "Python 3",
   "language": "python",
   "name": "python3"
  },
  "language_info": {
   "codemirror_mode": {
    "name": "ipython",
    "version": 3
   },
   "file_extension": ".py",
   "mimetype": "text/x-python",
   "name": "python",
   "nbconvert_exporter": "python",
   "pygments_lexer": "ipython3",
   "version": "3.5.2"
  }
 },
 "nbformat": 4,
 "nbformat_minor": 2
}
