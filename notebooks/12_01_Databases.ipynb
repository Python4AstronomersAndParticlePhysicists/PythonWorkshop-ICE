{
 "cells": [
  {
   "cell_type": "markdown",
   "metadata": {},
   "source": [
    "# Index\n",
    "1. Modeling\n",
    "  1. E-R Diagrams\n",
    "  2. Relational model\n",
    "2. SQL\n",
    "  1. SELECT\n",
    "  2. JOIN\n",
    "  3. Exercises\n",
    "3. Using SQLAlchemy\n",
    "4. Why do we normalize?\n",
    "5. SQL security issues"
   ]
  },
  {
   "cell_type": "markdown",
   "metadata": {},
   "source": [
    "# 1) Modeling"
   ]
  },
  {
   "cell_type": "markdown",
   "metadata": {},
   "source": [
    "![a](http://actuallydata.co.uk/wordpress/wp-content/uploads/2015/02/databasecartoon-300x234.jpg)\n",
    "When the amount or the complexity of the data we work with overwhelms us, we look for tools able to help us. Databases are one of the greatest tools for this job. There are several kinds of them, depending on the data they are designed to work with:\n",
    "\n",
    " - document database: books, blog posts, scientific papers, tweets, ...\n",
    " - timeseries database: weather station readings\n",
    " - graph database: friendships, likes, retweets\n",
    " - relational databases: customers, orders, providers, ...\n",
    " - and many more!\n",
    "\n",
    "Even if in this course we will only discuss relational databases, it is important for you to know that other alternatives exists, and that they might be more suitable for some problem of yours in the future.\n",
    "\n",
    "Relational databases are the ones mostly used because they are very versatile and can accommodate a very broad spectrum of data."
   ]
  },
  {
   "cell_type": "markdown",
   "metadata": {},
   "source": [
    "## 1.A) E-R Diagrams"
   ]
  },
  {
   "cell_type": "markdown",
   "metadata": {},
   "source": [
    "![Data meaning](http://www.bigdata-madesimple.com/wp-content/uploads/2015/01/Accuracy-check.jpg)\n",
    "\n",
    "To be able to store information in a relational database, it is essential to define the structure of the data, also called relational model. For this, we will use Entity-Relationship (E-R) diagrams.\n",
    "\n",
    "An E-R diagram is composed from:\n",
    " - Entities: shall refer to common real-world concepts, and are describet by a set of attributes.\n",
    " - Relations: logical associations between entities, which may also have attributes. By cardinality, we find:\n",
    "    - `1-1  -----`\n",
    "    - `1-N  ----<`\n",
    "    - `N-1  >----`\n",
    "    - `N-N  >---<`\n",
    "\n",
    "We will start with a basic example, defining the E-R diagram of the data needed to handle the enrollments of students in a university. As the starting point, we shall have a textual description of the problem:\n",
    "\n",
    "*UAB offers a broad range of subjects for its students.\n",
    "For each student, we must store their DNI, full name and birth date.\n",
    "For each subject, we must store the name and its price.\n",
    "Also, each subject is divided in several groups, so that we can adapt to the number and different schedule of the students. For each group, we must store its name, the schedule (either morning, afternoon or evening) and the teacher's name.\n",
    "Finally, for each time a student enrolls in a subject, we must store a unique code, the date of the enrollment and whether they have paid yet or not.*\n",
    "\n",
    "With this, we have enough information to build our E-R diagram. First, we shall identify the entities and its corresponding attributes:\n",
    " - student: dni, full name, birth date\n",
    " - subject: name, price\n",
    " - group: name, schedule, teacher name\n",
    "\n",
    "We proceed identifying the relations:\n",
    " - A subject has several groups, but a group only corresponds to a unique subject\n",
    " - A student may be taking several subjects, enrolling on those groups which fit their schedule. In every group, there may be multiple students enrolled. Attributes: code, enrollment date, whether has been paid or not.\n",
    "\n",
    "The resulting E-R diagram is a follows:\n",
    "\n",
    "    Subject          Group                                  Student\n",
    "    =======   ---<   ================   >---------------<   =======\n",
    "     name             name               code                dni\n",
    "     price            schedule           enrollment date     full name\n",
    "                      teacher's name     has paid            birth date"
   ]
  },
  {
   "cell_type": "markdown",
   "metadata": {},
   "source": [
    "## 1.B) Relational model"
   ]
  },
  {
   "cell_type": "markdown",
   "metadata": {},
   "source": [
    "![ff](https://www.database-genius.com/cartoons/not_at_home/DBGenius_cartoon_not_at_home_screenres.png)\n",
    "\n",
    "Next step is to transform that E-R diagram into a relational model specification. We shall adhere to the following convention:\n",
    " - Each entity becomes a table, mapping each attribute to a different column.\n",
    " - All values of a column belong to the same data domain (data type).\n",
    " - For each table, there shall be at least one subset of columns that uniquely identifies each row: it is called the primary key.\n",
    " - 1-1 / 1-N / N-1 relationships between tables are implemented by adding a subset of columns (at least the primary key) from the referenced table into the referencing one. These subsets are called foreign keys.\n",
    " - N-N relationships are implemented by unfolding them into a pair of 1-N / N-1 relationships with an intermediate table. This table will contain a foreign key to each of the referencing tables and any additional attribute defined for that relationship.\n",
    "\n",
    "Among all the guidelines a good model should follow, the ones refering to \"normalization\" are a MUST. The science behind the normalization of a model is vast and complex, for now we can think of it as:\n",
    " - Values in a cell must be atomic\n",
    " - Values are stored in only one \"place\"\n",
    " - Columns not part of the PK, must depend ONLY on the PK\n",
    "\n",
    "First, we define the tables:\n",
    " - Student: dni, full_name, birth_date\n",
    " - Subject: name, price\n",
    " - Group: name, schedule, teacher_name\n",
    " - Enrollment: code, enrollment_date, has_paid\n",
    "\n",
    "Then, we define the primary keys (*) and foreign keys (~):\n",
    " - Student: *dni, full_name, birth_date\n",
    " - Subject: *name, price\n",
    " - Group: *name, schedule, teacher_name, ~subject_name\n",
    " - Enrollment: *code, date, has_paid, ~student_dni, ~group_name\n",
    "\n",
    "And the diagram:\n",
    "\n",
    "    Subject          Group                   Enrollment             Student\n",
    "    =======   ---<   ==============   ---<   =============   >---   =======\n",
    "    *name            *name                   *code                  *dni\n",
    "     price            schedule                date                   full_name\n",
    "                      teacher_name            has_paid               birth_date\n",
    "                     ~subject_name           ~group_name\n",
    "                                             ~student_dni"
   ]
  },
  {
   "cell_type": "markdown",
   "metadata": {},
   "source": [
    "### Exercise"
   ]
  },
  {
   "cell_type": "markdown",
   "metadata": {},
   "source": [
    "We will describe the data model of an online show shop:\n",
    "\n",
    "*Our shop sells lots of different shoes. Each shoe has a brand, model and its price.\n",
    "To be able to buy in our shop, customers must register their personal data, such as full name, email and password.\n",
    "Customers may order multiple shoes, indicating the number of pairs for each shoe, the size and the color. For each order, we will store a unique code, the date and the shipping address.*"
   ]
  },
  {
   "cell_type": "markdown",
   "metadata": {},
   "source": []
  },
  {
   "cell_type": "markdown",
   "metadata": {},
   "source": [
    "###  Solution (E-R)"
   ]
  },
  {
   "cell_type": "code",
   "execution_count": null,
   "metadata": {
    "collapsed": true
   },
   "outputs": [],
   "source": [
    "%load -r 1-16 solutions/12_01_Databases.py"
   ]
  },
  {
   "cell_type": "markdown",
   "metadata": {},
   "source": [
    "### Solution (Relational model)"
   ]
  },
  {
   "cell_type": "code",
   "execution_count": null,
   "metadata": {
    "collapsed": true
   },
   "outputs": [],
   "source": [
    "%load -r 20-41 solutions/12_01_Databases.py"
   ]
  },
  {
   "cell_type": "markdown",
   "metadata": {},
   "source": [
    "# 2) SQL"
   ]
  },
  {
   "cell_type": "markdown",
   "metadata": {},
   "source": [
    "![a](https://comic.browserling.com/tables.png)\n",
    "\n",
    "Once the relational model has been defined it needs to be implemented into the relational database.\n",
    "Most interactions with relational databases are done through textual commands using a specific declarative language called SQL (Structured Query Language)."
   ]
  },
  {
   "cell_type": "markdown",
   "metadata": {},
   "source": [
    "## 2.A) SELECT"
   ]
  },
  {
   "cell_type": "markdown",
   "metadata": {},
   "source": [
    "SQL is very powerful, but for this course we will only have a look at the SELECT statement to filter, group, aggregate and retrieve information from the database.\n",
    "\n",
    "Here is a simplified syntax of the SELECT statement:\n",
    "\n",
    "    SELECT expression [, ...] \n",
    "    FROM table\n",
    "    [ JOIN table ON condition ] \n",
    "    WHERE condition\n",
    "    GROUP BY expression\n",
    "    HAVING condition\n",
    "    ORDER BY expression\n",
    "    LIMIT number\n",
    "\n",
    "\n",
    "To learn how to use the SELECT statement, we will use examples on top the relational models previously described."
   ]
  },
  {
   "cell_type": "markdown",
   "metadata": {},
   "source": [
    "### Select all columns from `student` table"
   ]
  },
  {
   "cell_type": "markdown",
   "metadata": {},
   "source": [
    "    SELECT *\n",
    "    FROM student"
   ]
  },
  {
   "cell_type": "markdown",
   "metadata": {},
   "source": [
    "### Select the `name` of all `Subjects`, and retrieve only 3 entries"
   ]
  },
  {
   "cell_type": "markdown",
   "metadata": {},
   "source": [
    "    SELECT name\n",
    "    FROM subject\n",
    "    LIMIT 3"
   ]
  },
  {
   "cell_type": "markdown",
   "metadata": {},
   "source": [
    "### Select the average price of all `Subjects`"
   ]
  },
  {
   "cell_type": "markdown",
   "metadata": {},
   "source": [
    "    SELECT AVG(price)\n",
    "    FROM subject"
   ]
  },
  {
   "cell_type": "markdown",
   "metadata": {},
   "source": [
    "### Select the name and price of the most expensive `Subject`"
   ]
  },
  {
   "cell_type": "markdown",
   "metadata": {},
   "source": [
    "    SELECT name, price\n",
    "    FROM subject\n",
    "    ORDER BY price DESC\n",
    "    LIMIT 1"
   ]
  },
  {
   "cell_type": "markdown",
   "metadata": {},
   "source": [
    "### Select the names of all `Subjects` cheaper than 1000"
   ]
  },
  {
   "cell_type": "markdown",
   "metadata": {},
   "source": [
    "    SELECT name\n",
    "    FROM subject\n",
    "    WHERE price < 1000"
   ]
  },
  {
   "cell_type": "markdown",
   "metadata": {},
   "source": [
    "### Select how many `Students` we have"
   ]
  },
  {
   "cell_type": "markdown",
   "metadata": {},
   "source": [
    "    SELECT COUNT(*)\n",
    "    FROM student"
   ]
  },
  {
   "cell_type": "markdown",
   "metadata": {},
   "source": [
    "### Select how many `Groups` we have, grouped by schedule"
   ]
  },
  {
   "cell_type": "markdown",
   "metadata": {},
   "source": [
    "    SELECT schedule, COUNT(*)\n",
    "    FROM group\n",
    "    GROUP BY schedule"
   ]
  },
  {
   "cell_type": "markdown",
   "metadata": {},
   "source": [
    "## 2.B) JOIN"
   ]
  },
  {
   "cell_type": "markdown",
   "metadata": {},
   "source": [
    "We can also combine data from more than one table. Here is how we can use JOIN to achieve this."
   ]
  },
  {
   "cell_type": "markdown",
   "metadata": {},
   "source": [
    "### Select all the `Groups` with its corresponding `Subject`"
   ]
  },
  {
   "cell_type": "markdown",
   "metadata": {},
   "source": [
    "    SELECT *\n",
    "    FROM group\n",
    "    JOIN subject\n",
    "      ON group.subject_name = subject.name"
   ]
  },
  {
   "cell_type": "markdown",
   "metadata": {},
   "source": [
    "### Select all `Subject` names given by a teacher named 'Ada Lovelace'"
   ]
  },
  {
   "cell_type": "markdown",
   "metadata": {},
   "source": [
    "    SELECT subject.name\n",
    "    FROM subject\n",
    "    JOIN group\n",
    "      ON subject.name = group.subject_name\n",
    "    WHERE group.teacher = 'Ada Lovelace'"
   ]
  },
  {
   "cell_type": "markdown",
   "metadata": {},
   "source": [
    "### Select the names of all `Students` who have some pending payment"
   ]
  },
  {
   "cell_type": "markdown",
   "metadata": {},
   "source": [
    "    SELECT name\n",
    "    FROM student\n",
    "    JOIN enrollment\n",
    "      ON student.id = enrollment.student_id\n",
    "    GROUP BY student.id\n",
    "    HAVING bool_and(group.has_paid) = FALSE"
   ]
  },
  {
   "cell_type": "markdown",
   "metadata": {},
   "source": [
    "### Select the teachers of a `Student` with id 1234"
   ]
  },
  {
   "cell_type": "markdown",
   "metadata": {},
   "source": [
    "    SELECT group.teacher\n",
    "    FROM student\n",
    "    JOIN enrollment\n",
    "      ON student.id = enrollment.student_id\n",
    "    JOIN group\n",
    "      ON group.name = enrollment.group_name\n",
    "    WHERE student.id = 1234"
   ]
  },
  {
   "cell_type": "markdown",
   "metadata": {},
   "source": [
    "## 2.C) Exercises"
   ]
  },
  {
   "cell_type": "code",
   "execution_count": null,
   "metadata": {
    "collapsed": true
   },
   "outputs": [],
   "source": [
    "%load_ext sql"
   ]
  },
  {
   "cell_type": "code",
   "execution_count": null,
   "metadata": {},
   "outputs": [],
   "source": [
    "%sql sqlite:///../resources/shop.sqlite"
   ]
  },
  {
   "cell_type": "markdown",
   "metadata": {},
   "source": [
    "### Select the brand, model and price of the cheapest shoe"
   ]
  },
  {
   "cell_type": "code",
   "execution_count": null,
   "metadata": {},
   "outputs": [],
   "source": [
    "%load -r 50-59 solutions/12_01_Databases.py"
   ]
  },
  {
   "cell_type": "markdown",
   "metadata": {},
   "source": [
    "### Count how many different models does each brand have"
   ]
  },
  {
   "cell_type": "code",
   "execution_count": null,
   "metadata": {
    "scrolled": false
   },
   "outputs": [],
   "source": [
    "%load -r 60-69 solutions/12_01_Databases.py"
   ]
  },
  {
   "cell_type": "markdown",
   "metadata": {},
   "source": [
    "### Select how many pairs of shoes were sold in order number 4521"
   ]
  },
  {
   "cell_type": "code",
   "execution_count": null,
   "metadata": {},
   "outputs": [],
   "source": [
    "%load -r 70-79 solutions/12_01_Databases.py"
   ]
  },
  {
   "cell_type": "markdown",
   "metadata": {},
   "source": [
    "### How many shoes have been sold per brand?"
   ]
  },
  {
   "cell_type": "code",
   "execution_count": null,
   "metadata": {},
   "outputs": [],
   "source": [
    "%load -r 80-89 solutions/12_01_Databases.py"
   ]
  },
  {
   "cell_type": "markdown",
   "metadata": {},
   "source": [
    "### And per brand and model?"
   ]
  },
  {
   "cell_type": "code",
   "execution_count": null,
   "metadata": {},
   "outputs": [],
   "source": [
    "%load -r 90-99 solutions/12_01_Databases.py"
   ]
  },
  {
   "cell_type": "markdown",
   "metadata": {},
   "source": [
    "### Select the shipping address of the last 3 orders placed by the customer named 'Joan Clarke'"
   ]
  },
  {
   "cell_type": "code",
   "execution_count": null,
   "metadata": {},
   "outputs": [],
   "source": [
    "%load -r 100-109 solutions/12_01_Databases.py"
   ]
  },
  {
   "cell_type": "markdown",
   "metadata": {},
   "source": [
    "### Select the brand, model, color and size of all shows ever bought by the customer named 'Grace Hopper'"
   ]
  },
  {
   "cell_type": "code",
   "execution_count": null,
   "metadata": {},
   "outputs": [],
   "source": [
    "%load -r 110-119 solutions/12_01_Databases.py"
   ]
  },
  {
   "cell_type": "markdown",
   "metadata": {},
   "source": [
    "### How much did she spent?"
   ]
  },
  {
   "cell_type": "code",
   "execution_count": null,
   "metadata": {},
   "outputs": [],
   "source": [
    "%load -r 130-139 solutions/12_01_Databases.py"
   ]
  },
  {
   "cell_type": "markdown",
   "metadata": {},
   "source": [
    "# 3) Using SQLAlchemy"
   ]
  },
  {
   "cell_type": "markdown",
   "metadata": {},
   "source": [
    "SQLAlchemy is a Python database toolkit that provides a unified and very powerful API for database access.\n",
    "\n",
    "These are the steps to connect to a database and issue SQL statements:\n",
    "\n",
    "### 1. Build a DSN (Data Source Name)"
   ]
  },
  {
   "cell_type": "code",
   "execution_count": null,
   "metadata": {
    "collapsed": true
   },
   "outputs": [],
   "source": [
    "dsn = \"sqlite:///../resources/shop.sqlite\""
   ]
  },
  {
   "cell_type": "markdown",
   "metadata": {},
   "source": [
    "### 2. Create an Engine and establish a connection"
   ]
  },
  {
   "cell_type": "code",
   "execution_count": null,
   "metadata": {
    "collapsed": true
   },
   "outputs": [],
   "source": [
    "from sqlalchemy import create_engine\n",
    "\n",
    "engine = create_engine(dsn)\n",
    "conn = engine.connect()"
   ]
  },
  {
   "cell_type": "markdown",
   "metadata": {},
   "source": [
    "### 3. Build the SQL statement"
   ]
  },
  {
   "cell_type": "code",
   "execution_count": null,
   "metadata": {
    "collapsed": true
   },
   "outputs": [],
   "source": [
    "from sqlalchemy.sql import text\n",
    "\n",
    "sql = text(\n",
    "    \"SELECT * FROM shoe WHERE brand = :name\"\n",
    ").bindparams(\n",
    "    name = 'Maggio'\n",
    ")"
   ]
  },
  {
   "cell_type": "markdown",
   "metadata": {},
   "source": [
    "### 4. Execute and retrieve results"
   ]
  },
  {
   "cell_type": "code",
   "execution_count": null,
   "metadata": {},
   "outputs": [],
   "source": [
    "for shoe in conn.execute(sql):\n",
    "    print(\"The «{name}» model from Maggio costs {price}\".format(\n",
    "        name = shoe.model,\n",
    "        price = shoe.price\n",
    "    ))"
   ]
  },
  {
   "cell_type": "markdown",
   "metadata": {},
   "source": [
    "# 4) Why do we normalize?"
   ]
  },
  {
   "cell_type": "markdown",
   "metadata": {},
   "source": [
    "Suppose you have the following table. Each row stores a galaxy id, its position and measured fluxes in several bands. Not all fluxes may be present, those missing will have a NULL value.\n",
    "\n",
    "    Galaxy\n",
    "    ===========\n",
    "    *id\n",
    "     ra\n",
    "     dec\n",
    "     flux_g\n",
    "     flug_r\n",
    "     flux_i\n",
    "     flux_z\n",
    "     flux_y"
   ]
  },
  {
   "cell_type": "markdown",
   "metadata": {},
   "source": [
    "Before going on resolving the following SQL sentences, think about:\n",
    " - Is this model normalized?\n",
    " - What do we do if we want to measure on more bands?\n",
    " - How can we store also the flux_error for every band?"
   ]
  },
  {
   "cell_type": "markdown",
   "metadata": {},
   "source": [
    "## Exercise"
   ]
  },
  {
   "cell_type": "markdown",
   "metadata": {},
   "source": [
    "### Select id from galaxies with non-null flux on `g` band"
   ]
  },
  {
   "cell_type": "code",
   "execution_count": null,
   "metadata": {
    "collapsed": true
   },
   "outputs": [],
   "source": [
    "%load -r 150-159 solutions/12_01_Databases.py"
   ]
  },
  {
   "cell_type": "markdown",
   "metadata": {},
   "source": [
    "### Select id from galaxies with all fluxes present"
   ]
  },
  {
   "cell_type": "code",
   "execution_count": null,
   "metadata": {
    "collapsed": true
   },
   "outputs": [],
   "source": [
    "%load -r 160-169 solutions/12_01_Databases.py"
   ]
  },
  {
   "cell_type": "markdown",
   "metadata": {},
   "source": [
    "### Select all galaxies with 3 fluxes present"
   ]
  },
  {
   "cell_type": "code",
   "execution_count": null,
   "metadata": {
    "collapsed": true
   },
   "outputs": [],
   "source": [
    "%load -r 170-179 solutions/12_01_Databases.py"
   ]
  },
  {
   "cell_type": "markdown",
   "metadata": {},
   "source": [
    "## Considerations"
   ]
  },
  {
   "cell_type": "markdown",
   "metadata": {},
   "source": [
    "I cannot stress too much how important it is to have a good relational model in order to be able to work efficiently with all the data. \n",
    "\n",
    "Non-normalized models may appear \"simpler\" and \"easier\", but it is just a mirage. Behind the simple facade, such models are more difficult to maintain and evolve. Also, information present in them can be very hard to extract.\n",
    "\n",
    "Not all data model requirements cannot be determined at the beginning. That means we must plan and prepare our data models for change. CHANGE IS UNAVOIDABLE, and data models must be able to adapt to the evolution of requirements."
   ]
  },
  {
   "cell_type": "markdown",
   "metadata": {},
   "source": [
    "## Exercise"
   ]
  },
  {
   "cell_type": "markdown",
   "metadata": {},
   "source": [
    "Could you propose a normalized model?"
   ]
  },
  {
   "cell_type": "markdown",
   "metadata": {},
   "source": [
    "### Solution"
   ]
  },
  {
   "cell_type": "code",
   "execution_count": null,
   "metadata": {
    "collapsed": true
   },
   "outputs": [],
   "source": [
    "%load -r 180-189 solutions/12_01_Databases.py"
   ]
  },
  {
   "cell_type": "markdown",
   "metadata": {},
   "source": [
    "## Exercise"
   ]
  },
  {
   "cell_type": "markdown",
   "metadata": {},
   "source": [
    "### Select id from galaxies with non-null flux on `g` band"
   ]
  },
  {
   "cell_type": "code",
   "execution_count": null,
   "metadata": {
    "collapsed": true
   },
   "outputs": [],
   "source": [
    "%load -r 190-199 solutions/12_01_Databases.py"
   ]
  },
  {
   "cell_type": "markdown",
   "metadata": {},
   "source": [
    "### Select id from galaxies with 3 fluxes present"
   ]
  },
  {
   "cell_type": "code",
   "execution_count": null,
   "metadata": {
    "collapsed": true
   },
   "outputs": [],
   "source": [
    "%load -r 200-209 solutions/12_01_Databases.py"
   ]
  },
  {
   "cell_type": "markdown",
   "metadata": {},
   "source": [
    "### Select id from galaxies with at least 3 fluxes present"
   ]
  },
  {
   "cell_type": "code",
   "execution_count": null,
   "metadata": {
    "collapsed": true
   },
   "outputs": [],
   "source": [
    "%load -r 210-219 solutions/12_01_Databases.py"
   ]
  },
  {
   "cell_type": "markdown",
   "metadata": {},
   "source": [
    "## Considerations"
   ]
  },
  {
   "cell_type": "markdown",
   "metadata": {},
   "source": [
    " - What do we do if we want to measure on more bands?\n",
    " - How can we store also the flux_error for every band?\n",
    " - And the magnitude?\n",
    " - And the magnitude error?"
   ]
  },
  {
   "cell_type": "markdown",
   "metadata": {},
   "source": [
    "# 5) SQL security issues\n",
    "\n",
    "![SQL Injection](https://imgs.xkcd.com/comics/exploits_of_a_mom.png)\n",
    "\n",
    "Although mastering SQL is a must if we work with relational databases, it becomes tedious to manually write all those queries. Also, it is prone to errors and one has to validate each and every user-provided input or it could suffer from massive and fata security issues.\n",
    "\n",
    "The most common security problem with hand-crafted SQL is SQL injection, where user provides some kind of parameter to the query. If this parameter is not secured enough or does not pass the proper validation, the user is efectibly able to run ANY statement on OUR database. It could steal our customers, our credentials, delete all our data, or worse, modifying critical data without our knowledge.\n",
    "\n",
    "As an example, in our online shop we have a section to browse the shoes we sell. When a user select a particular brand, we display all the models and their price. Suppose we use the following query:\n",
    "\n",
    "If we have a query like this one:\n",
    "\n",
    "    SELECT brand, model, price\n",
    "    FROM shoe\n",
    "    WHERE brand = {$ parameter $}\n",
    "\n",
    "### Normal use\n",
    "\n",
    "    parameter = 'Maggio'"
   ]
  },
  {
   "cell_type": "code",
   "execution_count": null,
   "metadata": {},
   "outputs": [],
   "source": [
    "%%sql    \n",
    "    SELECT brand, model, price\n",
    "    FROM shoe\n",
    "    WHERE brand = 'Maggio'"
   ]
  },
  {
   "cell_type": "markdown",
   "metadata": {},
   "source": [
    "### Issue 1: Ask for a non existing brand\n",
    "\n",
    "    parameter = 'TheBestBrandInDaWorld'"
   ]
  },
  {
   "cell_type": "code",
   "execution_count": null,
   "metadata": {},
   "outputs": [],
   "source": [
    "%%sql\n",
    "    SELECT brand, model, price\n",
    "    FROM shoe\n",
    "    WHERE brand = 'TheBestBrandInDaWorld'"
   ]
  },
  {
   "cell_type": "markdown",
   "metadata": {},
   "source": [
    "### Issue 2: Make the query fail\n",
    "\n",
    "    parameter = ;"
   ]
  },
  {
   "cell_type": "code",
   "execution_count": null,
   "metadata": {},
   "outputs": [],
   "source": [
    "%%sql\n",
    "    SELECT brand, model, price\n",
    "    FROM shoe\n",
    "    WHERE brand = ;"
   ]
  },
  {
   "cell_type": "markdown",
   "metadata": {},
   "source": [
    "### Issue 3: Select anything else\n",
    "\n",
    "    parameter = '';SELECT * FROM customer"
   ]
  },
  {
   "cell_type": "code",
   "execution_count": null,
   "metadata": {},
   "outputs": [],
   "source": [
    "%%sql\n",
    "    SELECT brand, model, price\n",
    "    FROM shoe\n",
    "    WHERE brand = '';SELECT * FROM customer"
   ]
  },
  {
   "cell_type": "markdown",
   "metadata": {},
   "source": [
    "### Issue 4: DO anything else\n",
    "\n",
    "    parameter = '';DROP TABLE you_are_lucky_this_table_does_not_exist"
   ]
  },
  {
   "cell_type": "code",
   "execution_count": null,
   "metadata": {},
   "outputs": [],
   "source": [
    "%%sql\n",
    "    SELECT brand, model, price\n",
    "    FROM shoe\n",
    "    WHERE brand = '';DROP TABLE you_are_lucky_this_table_does_not_exist"
   ]
  }
 ],
 "metadata": {
  "kernelspec": {
   "display_name": "Python 3",
   "language": "python",
   "name": "python3"
  },
  "language_info": {
   "codemirror_mode": {
    "name": "ipython",
    "version": 3
   },
   "file_extension": ".py",
   "mimetype": "text/x-python",
   "name": "python",
   "nbconvert_exporter": "python",
   "pygments_lexer": "ipython3",
   "version": "3.5.2"
  }
 },
 "nbformat": 4,
 "nbformat_minor": 1
}
