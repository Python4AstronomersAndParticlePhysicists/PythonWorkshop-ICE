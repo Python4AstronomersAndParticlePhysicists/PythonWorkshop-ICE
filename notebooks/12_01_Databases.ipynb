{
 "cells": [
  {
   "cell_type": "markdown",
   "metadata": {},
   "source": [
    "# Modeling"
   ]
  },
  {
   "cell_type": "markdown",
   "metadata": {},
   "source": [
    "When the amount or the complexity of the data we work with overwhelms us, we look for tools able to help us. Databases are one of the greatest tools for this job. There are several kinds of them, depending on the data they are designed to work with:\n",
    "\n",
    " - document database: books, blog posts, scientific papers, tweets, ...\n",
    " - timeseries database: weather station readings\n",
    " - spatial database: position and tracking a fleet of vehicles\n",
    " - graph database: friendships, likes, retweets\n",
    " - relational databases: customers, orders, providers, ...\n",
    " - and many more!\n",
    "\n",
    "Even if in this course we will only discuss relational databases, it is important for you to know that other alternatives exists, and that they might be more suitable for some problem of yours in the future.\n",
    "\n",
    "Relational databases are the ones mostly used because they are very versatile and can accommodate a very broad spectrum of data."
   ]
  },
  {
   "cell_type": "markdown",
   "metadata": {},
   "source": [
    "## E-R Diagrams"
   ]
  },
  {
   "cell_type": "markdown",
   "metadata": {},
   "source": [
    "To be able to store information in a relational database, it is essential to define the structure of the data, also called relational model. For this, we will use Entity-Relationship (E-R) diagrams.\n",
    "\n",
    "An E-R diagram is composed from:\n",
    " - Entities: shall refer to common real-world concepts, and are describet by a set of attributes.\n",
    " - Relations: logical associations between entities, which may also have attributes. By cardinality, we find:\n",
    "    - `1-1  -----`\n",
    "    - `1-N  ----<`\n",
    "    - `N-1  >----`\n",
    "    - `N-N  >---<`\n",
    "\n",
    "We will start with a basic example, defining the E-R diagram of the data needed to handle the enrollments of students in a university. As the starting point, we shall have a textual description of the problem:\n",
    "\n",
    "*UAB offers a broad range of subjects for its students.\n",
    "For each student, we must store their DNI, full name and birth date.\n",
    "For each subject, we must store the name and its price.\n",
    "Also, each subject is divided in several groups, so that we can adapt to the number and different schedule of the students. For each group, we must store its name, the schedule (either morning, afternoon or evening) and the teacher's name.\n",
    "Finally, for each time a student enrolls in a subject, we must store a unique code, the date of the enrollment and whether they have paid yet or not.*\n",
    "\n",
    "With this, we have enough information to build our E-R diagram. First, we shall identify the entities and its corresponding attributes:\n",
    " - student: dni, full name, birth date\n",
    " - subject: name, price\n",
    " - group: name, schedule, teacher name\n",
    "\n",
    "We proceed identifying the relations:\n",
    " - A subject has several groups, but a group only corresponds to a unique subject\n",
    " - A student may be taking several subjects, enrolling on those groups which fit their schedule. In every group, there may be multiple students enrolled. Attributes: code, enrollment date, whether has been paid or not.\n",
    "\n",
    "The resulting E-R diagram is a follows:\n",
    "\n",
    "    Subject          Group                                  Student\n",
    "    =======   ---<   ================   >---------------<   =======\n",
    "     name             name               code                dni\n",
    "     price            schedule           enrollment date     full name\n",
    "                      teacher's name     has paid            birth date"
   ]
  },
  {
   "cell_type": "markdown",
   "metadata": {},
   "source": [
    "## Relational model"
   ]
  },
  {
   "cell_type": "markdown",
   "metadata": {},
   "source": [
    "Next step is to transform that E-R diagram into a relational model specification. We shall adhere to the following convention:\n",
    " - Each entity becomes a table, mapping each attribute to a different column.\n",
    " - All values of a column belong to the same data domain (data type).\n",
    " - For each table, there shall be at least one subset of columns that uniquely identifies each row: it is called the primary key.\n",
    " - 1-1 / 1-N / N-1 relationships between tables are implemented by adding a subset of columns (at least the primary key) from the referenced table into the referencing one. These subsets are called foreign keys.\n",
    " - N-N relationships are implemented by unfolding them into a pair of 1-N / N-1 relationships with an intermediate table. This table will contain a foreign key to each of the referencing tables and any additional attribute defined for that relationship.\n",
    "\n",
    "Among all the guidelines a good model should follow, the ones refering to \"normalization\" are a MUST. The science behind the normalization of a model is vast and complex, for now we can think of it as:\n",
    " - Values in a cell must be atomic\n",
    " - Values are stored in only one \"place\"\n",
    " - Columns not part of the PK, must depend ONLY on the PK\n",
    "\n",
    "First, we define the tables:\n",
    " - Student: dni, full_name, birth_date\n",
    " - Subject: name, price\n",
    " - Group: name, schedule, teacher_name\n",
    " - Enrollment: code, enrollment_date, has_paid\n",
    "\n",
    "Then, we define the primary keys (*) and foreign keys (~):\n",
    " - Student: *dni, full_name, birth_date\n",
    " - Subject: *name, price\n",
    " - Group: *name, schedule, teacher_name, ~subject_name\n",
    " - Enrollment: *code, date, has_paid, ~student_dni, ~group_name\n",
    "\n",
    "And the diagram:\n",
    "\n",
    "    Subject          Group                   Enrollment             Student\n",
    "    =======   ---<   ==============   ---<   =============   >---   =======\n",
    "    *name            *name                   *code                  *dni\n",
    "     price            schedule                date                   full_name\n",
    "                      teacher_name            has_paid               birth_date\n",
    "                     ~subject_name           ~group_name\n",
    "                                             ~student_dni"
   ]
  },
  {
   "cell_type": "markdown",
   "metadata": {},
   "source": [
    "### Exercise"
   ]
  },
  {
   "cell_type": "markdown",
   "metadata": {},
   "source": [
    "We will describe the data model of an online show shop:\n",
    "\n",
    "*Our shop sells lots of different shoes. Each shoe has a brand, model and its price.\n",
    "To be able to buy in our shop, customers must register their personal data, such as full name, email and password.\n",
    "Customers may order multiple shoes, indicating the number of pairs for each shoe, the size and the color. For each order, we will store a unique code, the date and the shipping address.*"
   ]
  },
  {
   "cell_type": "markdown",
   "metadata": {},
   "source": [
    "###  Solution"
   ]
  },
  {
   "cell_type": "markdown",
   "metadata": {},
   "source": [
    "Entities:\n",
    " - shoe: brand, model, price\n",
    " - customer: full name, email, password\n",
    " - order: code, date, address\n",
    "\n",
    "Relations:\n",
    " - A customer may place many orders, but one order belongs to one customer only.\n",
    " - An order may include multiple shoes, and one shoe may be present in several orders. Attributes: size and color\n",
    " \n",
    "E-R diagram:\n",
    "\n",
    "    Customer              Order                Shoe\n",
    "    ===========   ---<   =========   >-----<   =======\n",
    "     full name            code        size      brand\n",
    "     email                date        color     model\n",
    "     password             address     units     price\n",
    "\n",
    "Tables:\n",
    " - Shoe: brand, model, price\n",
    " - Customer: full_name, email, password\n",
    " - Order: code, date, address\n",
    " - Item: size, color, units\n",
    " \n",
    "Keys:\n",
    " - Shoe: *brand, *model, price\n",
    " - Customer: full_name, *email, password\n",
    " - Order: *code, date, address, ~customer_email\n",
    " - Item: *size, *color, units, *~shoe_brand, *~shoe_model, *~order_code\n",
    " \n",
    "Relational diagram:\n",
    "\n",
    "    Customer             Order                     Item                   Shoe\n",
    "    ===========   ---<   ================   ---<   =============   >---   =======\n",
    "     full_name           *code                     *size                  *brand\n",
    "    *email                date                     *color                 *model\n",
    "     password             address                   units                  price\n",
    "                         ~customer_email           *~shoe_brand\n",
    "                                                   *~shoe_model\n",
    "                                                   *~order_code"
   ]
  },
  {
   "cell_type": "markdown",
   "metadata": {},
   "source": [
    "# SQL"
   ]
  },
  {
   "cell_type": "markdown",
   "metadata": {},
   "source": [
    "Once the relational model has been defined it needs to be implemented into the relational database.\n",
    "Most interactions with relational databases are done through textual commands using a specific declarative language called SQL (Structured Query Language)."
   ]
  },
  {
   "cell_type": "markdown",
   "metadata": {},
   "source": [
    "## SELECT"
   ]
  },
  {
   "cell_type": "markdown",
   "metadata": {},
   "source": [
    "SQL is very powerful, but for this course we will only have a look at the SELECT statement to filter, group, aggregate and retrieve information from the database.\n",
    "\n",
    "Here is a simplified syntax of the SELECT statement:\n",
    "\n",
    "    SELECT expression [, ...] \n",
    "    FROM table\n",
    "    [ JOIN table ON condition ] \n",
    "    WHERE condition\n",
    "    GROUP BY expression\n",
    "    HAVING condition\n",
    "    ORDER BY expression\n",
    "    LIMIT number\n",
    "\n",
    "\n",
    "To learn how to use the SELECT statement, we will use examples on top the relational models previously described."
   ]
  },
  {
   "cell_type": "markdown",
   "metadata": {},
   "source": [
    "### Select all columns from `student` table"
   ]
  },
  {
   "cell_type": "markdown",
   "metadata": {},
   "source": [
    "    SELECT *\n",
    "    FROM student"
   ]
  },
  {
   "cell_type": "markdown",
   "metadata": {},
   "source": [
    "### Select the `name` of all `Subjects`, and retrieve only 3 entries"
   ]
  },
  {
   "cell_type": "markdown",
   "metadata": {},
   "source": [
    "    SELECT name\n",
    "    FROM subject\n",
    "    LIMIT 3"
   ]
  },
  {
   "cell_type": "markdown",
   "metadata": {},
   "source": [
    "### Select the average price of all `Subjects`"
   ]
  },
  {
   "cell_type": "markdown",
   "metadata": {},
   "source": [
    "    SELECT AVG(price)\n",
    "    FROM subject"
   ]
  },
  {
   "cell_type": "markdown",
   "metadata": {},
   "source": [
    "### Select the name and price of the most expensive `Subject`"
   ]
  },
  {
   "cell_type": "markdown",
   "metadata": {},
   "source": [
    "    SELECT name, price\n",
    "    FROM subject\n",
    "    ORDER BY price DESC\n",
    "    LIMIT 1"
   ]
  },
  {
   "cell_type": "markdown",
   "metadata": {},
   "source": [
    "### Select the names of all `Subjects` cheaper than 1000"
   ]
  },
  {
   "cell_type": "markdown",
   "metadata": {},
   "source": [
    "    SELECT name\n",
    "    FROM subject\n",
    "    WHERE price < 1000"
   ]
  },
  {
   "cell_type": "markdown",
   "metadata": {},
   "source": [
    "### Select how many `Students` we have"
   ]
  },
  {
   "cell_type": "markdown",
   "metadata": {},
   "source": [
    "    SELECT COUNT(*)\n",
    "    FROM student"
   ]
  },
  {
   "cell_type": "markdown",
   "metadata": {},
   "source": [
    "### Select how many `Groups` we have, grouped by schedule"
   ]
  },
  {
   "cell_type": "markdown",
   "metadata": {},
   "source": [
    "    SELECT schedule, COUNT(*)\n",
    "    FROM group\n",
    "    GROUP BY schedule"
   ]
  },
  {
   "cell_type": "markdown",
   "metadata": {},
   "source": [
    "## JOIN"
   ]
  },
  {
   "cell_type": "markdown",
   "metadata": {},
   "source": [
    "We can also combine data from more than one table. Here is how we can use JOIN to achieve this."
   ]
  },
  {
   "cell_type": "markdown",
   "metadata": {},
   "source": [
    "### Select all the `Groups` with its corresponding `Subject`"
   ]
  },
  {
   "cell_type": "markdown",
   "metadata": {},
   "source": [
    "    SELECT *\n",
    "    FROM group\n",
    "    JOIN subject\n",
    "      ON group.subject_name = subject.name"
   ]
  },
  {
   "cell_type": "markdown",
   "metadata": {},
   "source": [
    "### Select all `Subject` names given by a teacher named 'Ada Lovelace'"
   ]
  },
  {
   "cell_type": "markdown",
   "metadata": {},
   "source": [
    "    SELECT subject.name\n",
    "    FROM subject\n",
    "    JOIN group\n",
    "      ON subject.name = group.subject_name\n",
    "    WHERE group.teacher = 'Ada Lovelace'"
   ]
  },
  {
   "cell_type": "markdown",
   "metadata": {},
   "source": [
    "### Select the names of all `Students` who have some pending payment"
   ]
  },
  {
   "cell_type": "markdown",
   "metadata": {},
   "source": [
    "    SELECT name\n",
    "    FROM student\n",
    "    JOIN enrollment\n",
    "      ON student.id = enrollment.student_id\n",
    "    GROUP BY student.id\n",
    "    HAVING bool_and(group.has_paid) = FALSE"
   ]
  },
  {
   "cell_type": "markdown",
   "metadata": {},
   "source": [
    "### Select the teachers of a `Student` with id 1234"
   ]
  },
  {
   "cell_type": "markdown",
   "metadata": {},
   "source": [
    "    SELECT group.teacher\n",
    "    FROM student\n",
    "    JOIN enrollment\n",
    "      ON student.id = enrollment.student_id\n",
    "    JOIN group\n",
    "      ON group.name = enrollment.group_name\n",
    "    WHERE student.id = 1234"
   ]
  },
  {
   "cell_type": "markdown",
   "metadata": {},
   "source": [
    "## Exercise"
   ]
  },
  {
   "cell_type": "code",
   "execution_count": 20,
   "metadata": {
    "collapsed": false
   },
   "outputs": [
    {
     "name": "stdout",
     "output_type": "stream",
     "text": [
      "The sql extension is already loaded. To reload it, use:\n",
      "  %reload_ext sql\n"
     ]
    }
   ],
   "source": [
    "%load_ext sql"
   ]
  },
  {
   "cell_type": "code",
   "execution_count": 21,
   "metadata": {
    "collapsed": false
   },
   "outputs": [
    {
     "data": {
      "text/plain": [
       "u'Connected: None@../resources/shop.sqlite'"
      ]
     },
     "execution_count": 21,
     "metadata": {},
     "output_type": "execute_result"
    }
   ],
   "source": [
    "%sql sqlite:///../resources/shop.sqlite"
   ]
  },
  {
   "cell_type": "markdown",
   "metadata": {},
   "source": [
    "### Select the brand, model and price of the cheapest shoe"
   ]
  },
  {
   "cell_type": "code",
   "execution_count": 22,
   "metadata": {
    "collapsed": false
   },
   "outputs": [
    {
     "name": "stdout",
     "output_type": "stream",
     "text": [
      "Done.\n"
     ]
    },
    {
     "data": {
      "text/html": [
       "<table>\n",
       "    <tr>\n",
       "        <th>brand</th>\n",
       "        <th>model</th>\n",
       "        <th>price</th>\n",
       "    </tr>\n",
       "    <tr>\n",
       "        <td>Maggio</td>\n",
       "        <td>Christmouth</td>\n",
       "        <td>30</td>\n",
       "    </tr>\n",
       "</table>"
      ],
      "text/plain": [
       "[(u'Maggio', u'Christmouth', 30)]"
      ]
     },
     "execution_count": 22,
     "metadata": {},
     "output_type": "execute_result"
    }
   ],
   "source": [
    "%%sql\n",
    "    SELECT brand, model, price\n",
    "    FROM shoe\n",
    "    ORDER BY price ASC\n",
    "    LIMIT 1"
   ]
  },
  {
   "cell_type": "markdown",
   "metadata": {},
   "source": [
    "### Count how many different models does each brand have"
   ]
  },
  {
   "cell_type": "code",
   "execution_count": 23,
   "metadata": {
    "collapsed": false,
    "scrolled": false
   },
   "outputs": [
    {
     "name": "stdout",
     "output_type": "stream",
     "text": [
      "Done.\n"
     ]
    },
    {
     "data": {
      "text/html": [
       "<table>\n",
       "    <tr>\n",
       "        <th>brand</th>\n",
       "        <th>COUNT(*)</th>\n",
       "    </tr>\n",
       "    <tr>\n",
       "        <td>Boehm</td>\n",
       "        <td>4</td>\n",
       "    </tr>\n",
       "    <tr>\n",
       "        <td>Effertz</td>\n",
       "        <td>3</td>\n",
       "    </tr>\n",
       "    <tr>\n",
       "        <td>Maggio</td>\n",
       "        <td>5</td>\n",
       "    </tr>\n",
       "</table>"
      ],
      "text/plain": [
       "[(u'Boehm', 4), (u'Effertz', 3), (u'Maggio', 5)]"
      ]
     },
     "execution_count": 23,
     "metadata": {},
     "output_type": "execute_result"
    }
   ],
   "source": [
    "%%sql\n",
    "    SELECT brand, COUNT(*)\n",
    "    FROM shoe\n",
    "    GROUP BY brand"
   ]
  },
  {
   "cell_type": "markdown",
   "metadata": {},
   "source": [
    "### Select how many pairs of shoes were sold in order number 4521"
   ]
  },
  {
   "cell_type": "code",
   "execution_count": 24,
   "metadata": {
    "collapsed": false
   },
   "outputs": [
    {
     "name": "stdout",
     "output_type": "stream",
     "text": [
      "Done.\n"
     ]
    },
    {
     "data": {
      "text/html": [
       "<table>\n",
       "    <tr>\n",
       "        <th>SUM(units)</th>\n",
       "    </tr>\n",
       "    <tr>\n",
       "        <td>4</td>\n",
       "    </tr>\n",
       "</table>"
      ],
      "text/plain": [
       "[(4,)]"
      ]
     },
     "execution_count": 24,
     "metadata": {},
     "output_type": "execute_result"
    }
   ],
   "source": [
    "%%sql\n",
    "    SELECT SUM(units)\n",
    "    FROM \"order\"\n",
    "    JOIN item\n",
    "      ON \"order\".code = item.order_code\n",
    "    WHERE code = 4521"
   ]
  },
  {
   "cell_type": "markdown",
   "metadata": {},
   "source": [
    "### How many shoes have been sold per brand?"
   ]
  },
  {
   "cell_type": "code",
   "execution_count": 25,
   "metadata": {
    "collapsed": false
   },
   "outputs": [
    {
     "name": "stdout",
     "output_type": "stream",
     "text": [
      "Done.\n"
     ]
    },
    {
     "data": {
      "text/html": [
       "<table>\n",
       "    <tr>\n",
       "        <th>brand</th>\n",
       "        <th>COUNT(*)</th>\n",
       "    </tr>\n",
       "    <tr>\n",
       "        <td>Boehm</td>\n",
       "        <td>6</td>\n",
       "    </tr>\n",
       "    <tr>\n",
       "        <td>Effertz</td>\n",
       "        <td>5</td>\n",
       "    </tr>\n",
       "    <tr>\n",
       "        <td>Maggio</td>\n",
       "        <td>8</td>\n",
       "    </tr>\n",
       "</table>"
      ],
      "text/plain": [
       "[(u'Boehm', 6), (u'Effertz', 5), (u'Maggio', 8)]"
      ]
     },
     "execution_count": 25,
     "metadata": {},
     "output_type": "execute_result"
    }
   ],
   "source": [
    "%%sql\n",
    "    SELECT brand, COUNT(*)\n",
    "    FROM shoe\n",
    "    JOIN item\n",
    "      ON item.shoe_brand = shoe.brand AND item.shoe_model = shoe.model\n",
    "    GROUP BY shoe.brand"
   ]
  },
  {
   "cell_type": "markdown",
   "metadata": {},
   "source": [
    "### And per brand and model?"
   ]
  },
  {
   "cell_type": "code",
   "execution_count": 26,
   "metadata": {
    "collapsed": false
   },
   "outputs": [
    {
     "name": "stdout",
     "output_type": "stream",
     "text": [
      "Done.\n"
     ]
    },
    {
     "data": {
      "text/html": [
       "<table>\n",
       "    <tr>\n",
       "        <th>brand</th>\n",
       "        <th>model</th>\n",
       "        <th>COUNT(*)</th>\n",
       "    </tr>\n",
       "    <tr>\n",
       "        <td>Boehm</td>\n",
       "        <td>Cruz</td>\n",
       "        <td>2</td>\n",
       "    </tr>\n",
       "    <tr>\n",
       "        <td>Boehm</td>\n",
       "        <td>Nathanielville</td>\n",
       "        <td>1</td>\n",
       "    </tr>\n",
       "    <tr>\n",
       "        <td>Boehm</td>\n",
       "        <td>Tierraland</td>\n",
       "        <td>1</td>\n",
       "    </tr>\n",
       "    <tr>\n",
       "        <td>Boehm</td>\n",
       "        <td>Westralia</td>\n",
       "        <td>2</td>\n",
       "    </tr>\n",
       "    <tr>\n",
       "        <td>Effertz</td>\n",
       "        <td>Bergnaumstad</td>\n",
       "        <td>1</td>\n",
       "    </tr>\n",
       "    <tr>\n",
       "        <td>Effertz</td>\n",
       "        <td>Citadel</td>\n",
       "        <td>3</td>\n",
       "    </tr>\n",
       "    <tr>\n",
       "        <td>Effertz</td>\n",
       "        <td>Hazelmouth</td>\n",
       "        <td>1</td>\n",
       "    </tr>\n",
       "    <tr>\n",
       "        <td>Maggio</td>\n",
       "        <td>Asiashire</td>\n",
       "        <td>2</td>\n",
       "    </tr>\n",
       "    <tr>\n",
       "        <td>Maggio</td>\n",
       "        <td>Braulio</td>\n",
       "        <td>2</td>\n",
       "    </tr>\n",
       "    <tr>\n",
       "        <td>Maggio</td>\n",
       "        <td>Christmouth</td>\n",
       "        <td>1</td>\n",
       "    </tr>\n",
       "    <tr>\n",
       "        <td>Maggio</td>\n",
       "        <td>Gunnarport</td>\n",
       "        <td>1</td>\n",
       "    </tr>\n",
       "    <tr>\n",
       "        <td>Maggio</td>\n",
       "        <td>Hyman</td>\n",
       "        <td>2</td>\n",
       "    </tr>\n",
       "</table>"
      ],
      "text/plain": [
       "[(u'Boehm', u'Cruz', 2),\n",
       " (u'Boehm', u'Nathanielville', 1),\n",
       " (u'Boehm', u'Tierraland', 1),\n",
       " (u'Boehm', u'Westralia', 2),\n",
       " (u'Effertz', u'Bergnaumstad', 1),\n",
       " (u'Effertz', u'Citadel', 3),\n",
       " (u'Effertz', u'Hazelmouth', 1),\n",
       " (u'Maggio', u'Asiashire', 2),\n",
       " (u'Maggio', u'Braulio', 2),\n",
       " (u'Maggio', u'Christmouth', 1),\n",
       " (u'Maggio', u'Gunnarport', 1),\n",
       " (u'Maggio', u'Hyman', 2)]"
      ]
     },
     "execution_count": 26,
     "metadata": {},
     "output_type": "execute_result"
    }
   ],
   "source": [
    "%%sql\n",
    "    SELECT brand, model, COUNT(*)\n",
    "    FROM shoe\n",
    "    JOIN item\n",
    "      ON item.shoe_brand = shoe.brand AND item.shoe_model = shoe.model\n",
    "    GROUP BY shoe.brand, shoe.model"
   ]
  },
  {
   "cell_type": "markdown",
   "metadata": {},
   "source": [
    "### Select the shipping address of the last 3 orders placed by the customer named 'Joan Clarke'"
   ]
  },
  {
   "cell_type": "code",
   "execution_count": 27,
   "metadata": {
    "collapsed": false
   },
   "outputs": [
    {
     "name": "stdout",
     "output_type": "stream",
     "text": [
      "Done.\n"
     ]
    },
    {
     "data": {
      "text/html": [
       "<table>\n",
       "    <tr>\n",
       "        <th>address</th>\n",
       "    </tr>\n",
       "    <tr>\n",
       "        <td>1931 Mi Ave<br></td>\n",
       "    </tr>\n",
       "    <tr>\n",
       "        <td>1931 Mi Ave<br></td>\n",
       "    </tr>\n",
       "    <tr>\n",
       "        <td>9592 Volutpat Ave<br></td>\n",
       "    </tr>\n",
       "</table>"
      ],
      "text/plain": [
       "[(u'1931 Mi Ave\\n',), (u'1931 Mi Ave\\n',), (u'9592 Volutpat Ave\\n',)]"
      ]
     },
     "execution_count": 27,
     "metadata": {},
     "output_type": "execute_result"
    }
   ],
   "source": [
    "%%sql\n",
    "    SELECT address\n",
    "    FROM \"order\"\n",
    "    JOIN customer\n",
    "      ON customer.email = \"order\".customer_email\n",
    "    WHERE customer.full_name = 'Joan Clarke'\n",
    "    ORDER BY \"order\".date DESC\n",
    "    LIMIT 3"
   ]
  },
  {
   "cell_type": "markdown",
   "metadata": {},
   "source": [
    "### Select the brand, model, color and size of all shows ever bought by the customer named 'Grace Hopper'"
   ]
  },
  {
   "cell_type": "code",
   "execution_count": 28,
   "metadata": {
    "collapsed": false
   },
   "outputs": [
    {
     "name": "stdout",
     "output_type": "stream",
     "text": [
      "Done.\n"
     ]
    },
    {
     "data": {
      "text/html": [
       "<table>\n",
       "    <tr>\n",
       "        <th>brand</th>\n",
       "        <th>model</th>\n",
       "        <th>color</th>\n",
       "        <th>size</th>\n",
       "    </tr>\n",
       "    <tr>\n",
       "        <td>Effertz</td>\n",
       "        <td>Citadel</td>\n",
       "        <td>white</td>\n",
       "        <td>38</td>\n",
       "    </tr>\n",
       "    <tr>\n",
       "        <td>Maggio</td>\n",
       "        <td>Christmouth</td>\n",
       "        <td>blue</td>\n",
       "        <td>37</td>\n",
       "    </tr>\n",
       "    <tr>\n",
       "        <td>Effertz</td>\n",
       "        <td>Hazelmouth</td>\n",
       "        <td>brown</td>\n",
       "        <td>42</td>\n",
       "    </tr>\n",
       "    <tr>\n",
       "        <td>Boehm</td>\n",
       "        <td>Tierraland</td>\n",
       "        <td>white</td>\n",
       "        <td>41</td>\n",
       "    </tr>\n",
       "    <tr>\n",
       "        <td>Boehm</td>\n",
       "        <td>Westralia</td>\n",
       "        <td>black</td>\n",
       "        <td>40</td>\n",
       "    </tr>\n",
       "    <tr>\n",
       "        <td>Boehm</td>\n",
       "        <td>Westralia</td>\n",
       "        <td>red</td>\n",
       "        <td>37</td>\n",
       "    </tr>\n",
       "    <tr>\n",
       "        <td>Effertz</td>\n",
       "        <td>Bergnaumstad</td>\n",
       "        <td>brown</td>\n",
       "        <td>38</td>\n",
       "    </tr>\n",
       "    <tr>\n",
       "        <td>Maggio</td>\n",
       "        <td>Asiashire</td>\n",
       "        <td>blue</td>\n",
       "        <td>39</td>\n",
       "    </tr>\n",
       "    <tr>\n",
       "        <td>Boehm</td>\n",
       "        <td>Cruz</td>\n",
       "        <td>black</td>\n",
       "        <td>36</td>\n",
       "    </tr>\n",
       "    <tr>\n",
       "        <td>Effertz</td>\n",
       "        <td>Citadel</td>\n",
       "        <td>blue</td>\n",
       "        <td>37</td>\n",
       "    </tr>\n",
       "    <tr>\n",
       "        <td>Maggio</td>\n",
       "        <td>Braulio</td>\n",
       "        <td>white</td>\n",
       "        <td>38</td>\n",
       "    </tr>\n",
       "    <tr>\n",
       "        <td>Maggio</td>\n",
       "        <td>Gunnarport</td>\n",
       "        <td>brown</td>\n",
       "        <td>39</td>\n",
       "    </tr>\n",
       "</table>"
      ],
      "text/plain": [
       "[(u'Effertz', u'Citadel', u'white', 38),\n",
       " (u'Maggio', u'Christmouth', u'blue', 37),\n",
       " (u'Effertz', u'Hazelmouth', u'brown', 42),\n",
       " (u'Boehm', u'Tierraland', u'white', 41),\n",
       " (u'Boehm', u'Westralia', u'black', 40),\n",
       " (u'Boehm', u'Westralia', u'red', 37),\n",
       " (u'Effertz', u'Bergnaumstad', u'brown', 38),\n",
       " (u'Maggio', u'Asiashire', u'blue', 39),\n",
       " (u'Boehm', u'Cruz', u'black', 36),\n",
       " (u'Effertz', u'Citadel', u'blue', 37),\n",
       " (u'Maggio', u'Braulio', u'white', 38),\n",
       " (u'Maggio', u'Gunnarport', u'brown', 39)]"
      ]
     },
     "execution_count": 28,
     "metadata": {},
     "output_type": "execute_result"
    }
   ],
   "source": [
    "%%sql\n",
    "    SELECT shoe.brand, shoe.model, item.color, item.size\n",
    "    FROM customer\n",
    "    JOIN \"order\"\n",
    "      ON customer.email = \"order\".customer_email\n",
    "    JOIN item\n",
    "      ON \"order\".code = item.order_code\n",
    "    JOIN shoe\n",
    "      ON shoe.brand = item.shoe_brand AND shoe.model = item.shoe_model\n",
    "    WHERE customer.full_name = 'Grace Hopper'"
   ]
  },
  {
   "cell_type": "markdown",
   "metadata": {},
   "source": [
    "### How much did she spent?"
   ]
  },
  {
   "cell_type": "code",
   "execution_count": 29,
   "metadata": {
    "collapsed": false
   },
   "outputs": [
    {
     "name": "stdout",
     "output_type": "stream",
     "text": [
      "Done.\n"
     ]
    },
    {
     "data": {
      "text/html": [
       "<table>\n",
       "    <tr>\n",
       "        <th>amount</th>\n",
       "    </tr>\n",
       "    <tr>\n",
       "        <td>1314</td>\n",
       "    </tr>\n",
       "</table>"
      ],
      "text/plain": [
       "[(1314,)]"
      ]
     },
     "execution_count": 29,
     "metadata": {},
     "output_type": "execute_result"
    }
   ],
   "source": [
    "%%sql\n",
    "    SELECT SUM(shoe.price) AS amount\n",
    "    FROM customer\n",
    "    JOIN \"order\"\n",
    "      ON customer.email = \"order\".customer_email\n",
    "    JOIN item\n",
    "      ON \"order\".code = item.order_code\n",
    "    JOIN shoe\n",
    "      ON shoe.brand = item.shoe_brand AND shoe.model = item.shoe_model\n",
    "    WHERE customer.full_name = 'Grace Hopper'"
   ]
  },
  {
   "cell_type": "markdown",
   "metadata": {},
   "source": [
    "# The importance of normalization"
   ]
  },
  {
   "cell_type": "markdown",
   "metadata": {},
   "source": [
    "Suppose you have the following table. Each row stores a galaxy id, its position and measured fluxes in several bands. Not all fluxes may be present, those missing will have a NULL value.\n",
    "\n",
    "    Galaxy\n",
    "    ===========\n",
    "    *id\n",
    "     ra\n",
    "     dec\n",
    "     flux_g\n",
    "     flug_r\n",
    "     flux_i\n",
    "     flux_z\n",
    "     flux_y"
   ]
  },
  {
   "cell_type": "markdown",
   "metadata": {},
   "source": [
    "## Exercise"
   ]
  },
  {
   "cell_type": "markdown",
   "metadata": {},
   "source": [
    "Before going on resolving the following SQL sentences, think about:\n",
    " - Is this model normalized?\n",
    " - What do we do if we want to measure on more bands?\n",
    " - How can we store also the flux_error for every band?"
   ]
  },
  {
   "cell_type": "markdown",
   "metadata": {},
   "source": [
    "### Select id from galaxies with non-null flux on `g` band"
   ]
  },
  {
   "cell_type": "markdown",
   "metadata": {},
   "source": [
    "    SELECT id\n",
    "    FROM galaxy\n",
    "    WHERE flux_g != NULL"
   ]
  },
  {
   "cell_type": "markdown",
   "metadata": {},
   "source": [
    "### Select id from galaxies with all fluxes present"
   ]
  },
  {
   "cell_type": "markdown",
   "metadata": {},
   "source": [
    "    SELECT id\n",
    "    FROM galaxy\n",
    "    WHERE flux_g != NULL\n",
    "      AND flux_r != NULL\n",
    "      AND flux_i != NULL\n",
    "      AND flux_z != NULL\n",
    "      AND flux_y != NULL"
   ]
  },
  {
   "cell_type": "markdown",
   "metadata": {},
   "source": [
    "### Select all galaxies with 3 fluxes present"
   ]
  },
  {
   "cell_type": "markdown",
   "metadata": {},
   "source": [
    "!!!"
   ]
  },
  {
   "cell_type": "markdown",
   "metadata": {},
   "source": [
    "## Considerations"
   ]
  },
  {
   "cell_type": "markdown",
   "metadata": {},
   "source": [
    "I cannot stress too much how important it is to have a good relational model in order to be able to work efficiently with all the data. \n",
    "\n",
    "Non-normalized models may appear \"simpler\" and \"easier\", but it is just a mirage. Behind the simple facade, such models are more difficult to maintain and evolve. Also, information present in them can be very hard to extract.\n",
    "\n",
    "Not all data model requirements cannot be determined at the beginning. That means we must plan and prepare our data models for change. CHANGE IS UNAVOIDABLE, and data models must be able to adapt to the evolution of requirements."
   ]
  },
  {
   "cell_type": "markdown",
   "metadata": {},
   "source": [
    "## Exercise"
   ]
  },
  {
   "cell_type": "markdown",
   "metadata": {},
   "source": [
    "Could you propose a normalized model?"
   ]
  },
  {
   "cell_type": "markdown",
   "metadata": {},
   "source": [
    "### Solution"
   ]
  },
  {
   "cell_type": "markdown",
   "metadata": {},
   "source": [
    "    Galaxy          Measure\n",
    "    ======   ---<   ============\n",
    "    *id             *~galaxy_id\n",
    "     ra             *band\n",
    "     dec             flux"
   ]
  },
  {
   "cell_type": "markdown",
   "metadata": {},
   "source": [
    "## Exercise"
   ]
  },
  {
   "cell_type": "markdown",
   "metadata": {},
   "source": [
    "### Select id from galaxies with non-null flux on `g` band"
   ]
  },
  {
   "cell_type": "markdown",
   "metadata": {},
   "source": [
    "    SELECT galaxy_id\n",
    "    FROM measure\n",
    "    WHERE band = 'g'"
   ]
  },
  {
   "cell_type": "markdown",
   "metadata": {},
   "source": [
    "### Select id from galaxies with 3 fluxes present"
   ]
  },
  {
   "cell_type": "markdown",
   "metadata": {},
   "source": [
    "    SELECT galaxy_id\n",
    "    FROM measure\n",
    "    GROUP BY galaxy_id\n",
    "    HAVING COUNT(flux) = 3"
   ]
  },
  {
   "cell_type": "markdown",
   "metadata": {},
   "source": [
    "### Select id from galaxies with at least 3 fluxes present"
   ]
  },
  {
   "cell_type": "markdown",
   "metadata": {},
   "source": [
    "    SELECT galaxy_id\n",
    "    FROM measure\n",
    "    GROUP BY galaxy_id\n",
    "    HAVING COUNT(flux) >= 3"
   ]
  },
  {
   "cell_type": "markdown",
   "metadata": {},
   "source": [
    "## Considerations"
   ]
  },
  {
   "cell_type": "markdown",
   "metadata": {},
   "source": [
    " - What do we do if we want to measure on more bands?\n",
    " - How can we store also the flux_error for every band?\n",
    " - And the magnitude?\n",
    " - And the magnitude error?"
   ]
  },
  {
   "cell_type": "markdown",
   "metadata": {},
   "source": [
    "## Security\n",
    "\n",
    "Although mastering SQL is a must if we work with relational databases, it becomes tedious to manually write all those queries. Also, it is prone to errors and one has to validate each and every user-provided input or it could suffer from massive and fata security issues.\n",
    "\n",
    "The most common security problem with hand-crafted SQL is SQL injection, where user provides some kind of parameter to the query. If this parameter is not secured enough or does not pass the proper validation, the user is efectibly able to run ANY statement on OUR database. It could steal our customers, our credentials, delete all our data, or worse, modifying critical data without our knowledge.\n",
    "\n",
    "As an example, in our online shop we have a section to browse the shoes we sell. When a user select a particular brand, we display all the models and their price. Suppose we use the following query:\n",
    "\n",
    "If we have a query like this one:\n",
    "\n",
    "    SELECT brand, model, price\n",
    "    FROM shoe\n",
    "    WHERE brand = {$ parameter $}\n",
    "\n",
    "### Normal use\n",
    "\n",
    "    parameter = 'Maggio'"
   ]
  },
  {
   "cell_type": "code",
   "execution_count": 30,
   "metadata": {
    "collapsed": false
   },
   "outputs": [
    {
     "name": "stdout",
     "output_type": "stream",
     "text": [
      "Done.\n"
     ]
    },
    {
     "data": {
      "text/html": [
       "<table>\n",
       "    <tr>\n",
       "        <th>brand</th>\n",
       "        <th>model</th>\n",
       "        <th>price</th>\n",
       "    </tr>\n",
       "    <tr>\n",
       "        <td>Maggio</td>\n",
       "        <td>Asiashire</td>\n",
       "        <td>119</td>\n",
       "    </tr>\n",
       "    <tr>\n",
       "        <td>Maggio</td>\n",
       "        <td>Braulio</td>\n",
       "        <td>80</td>\n",
       "    </tr>\n",
       "    <tr>\n",
       "        <td>Maggio</td>\n",
       "        <td>Christmouth</td>\n",
       "        <td>30</td>\n",
       "    </tr>\n",
       "    <tr>\n",
       "        <td>Maggio</td>\n",
       "        <td>Gunnarport</td>\n",
       "        <td>70</td>\n",
       "    </tr>\n",
       "    <tr>\n",
       "        <td>Maggio</td>\n",
       "        <td>Hyman</td>\n",
       "        <td>147</td>\n",
       "    </tr>\n",
       "</table>"
      ],
      "text/plain": [
       "[(u'Maggio', u'Asiashire', 119),\n",
       " (u'Maggio', u'Braulio', 80),\n",
       " (u'Maggio', u'Christmouth', 30),\n",
       " (u'Maggio', u'Gunnarport', 70),\n",
       " (u'Maggio', u'Hyman', 147)]"
      ]
     },
     "execution_count": 30,
     "metadata": {},
     "output_type": "execute_result"
    }
   ],
   "source": [
    "%%sql    \n",
    "    SELECT brand, model, price\n",
    "    FROM shoe\n",
    "    WHERE brand = 'Maggio'"
   ]
  },
  {
   "cell_type": "markdown",
   "metadata": {},
   "source": [
    "### Issue 1: Ask for a non existing brand\n",
    "\n",
    "    parameter = 'TheBestBrandInDaWorld'"
   ]
  },
  {
   "cell_type": "code",
   "execution_count": 31,
   "metadata": {
    "collapsed": false
   },
   "outputs": [
    {
     "name": "stdout",
     "output_type": "stream",
     "text": [
      "Done.\n"
     ]
    },
    {
     "data": {
      "text/html": [
       "<table>\n",
       "    <tr>\n",
       "        <th>brand</th>\n",
       "        <th>model</th>\n",
       "        <th>price</th>\n",
       "    </tr>\n",
       "</table>"
      ],
      "text/plain": [
       "[]"
      ]
     },
     "execution_count": 31,
     "metadata": {},
     "output_type": "execute_result"
    }
   ],
   "source": [
    "%%sql\n",
    "    SELECT brand, model, price\n",
    "    FROM shoe\n",
    "    WHERE brand = 'TheBestBrandInDaWorld'"
   ]
  },
  {
   "cell_type": "markdown",
   "metadata": {},
   "source": [
    "### Issue 2: Make the query fail\n",
    "\n",
    "    parameter = ;"
   ]
  },
  {
   "cell_type": "code",
   "execution_count": 32,
   "metadata": {
    "collapsed": false
   },
   "outputs": [
    {
     "name": "stdout",
     "output_type": "stream",
     "text": [
      "(sqlite3.OperationalError) near \";\": syntax error [SQL: u'SELECT brand, model, price\\n    FROM shoe\\n    WHERE brand = ;']\n"
     ]
    }
   ],
   "source": [
    "%%sql\n",
    "    SELECT brand, model, price\n",
    "    FROM shoe\n",
    "    WHERE brand = ;"
   ]
  },
  {
   "cell_type": "markdown",
   "metadata": {},
   "source": [
    "### Issue 3: Select anything else\n",
    "\n",
    "    parameter = '';SELECT * FROM customer"
   ]
  },
  {
   "cell_type": "code",
   "execution_count": 33,
   "metadata": {
    "collapsed": false
   },
   "outputs": [
    {
     "name": "stdout",
     "output_type": "stream",
     "text": [
      "Done.\n",
      "Done.\n"
     ]
    },
    {
     "data": {
      "text/html": [
       "<table>\n",
       "    <tr>\n",
       "        <th>full_name</th>\n",
       "        <th>email</th>\n",
       "        <th>password</th>\n",
       "    </tr>\n",
       "    <tr>\n",
       "        <td>Grace Hopper</td>\n",
       "        <td>grace.hooper@example.com</td>\n",
       "        <td>85fe339c5c2678ed62e5c25c832d88665e6b25a2</td>\n",
       "    </tr>\n",
       "    <tr>\n",
       "        <td>Joan Clarke</td>\n",
       "        <td>joan.clarke@example.com</td>\n",
       "        <td>cdfaa02667f3fa7ceea7d86c30619b71965e4d6d</td>\n",
       "    </tr>\n",
       "    <tr>\n",
       "        <td>Ada Lovelace</td>\n",
       "        <td>ada.lovelace@example.com</td>\n",
       "        <td>243d943367175e42269a2d447a3ac3c0ae0d38ad</td>\n",
       "    </tr>\n",
       "</table>"
      ],
      "text/plain": [
       "[(u'Grace Hopper', u'grace.hooper@example.com', u'85fe339c5c2678ed62e5c25c832d88665e6b25a2'),\n",
       " (u'Joan Clarke', u'joan.clarke@example.com', u'cdfaa02667f3fa7ceea7d86c30619b71965e4d6d'),\n",
       " (u'Ada Lovelace', u'ada.lovelace@example.com', u'243d943367175e42269a2d447a3ac3c0ae0d38ad')]"
      ]
     },
     "execution_count": 33,
     "metadata": {},
     "output_type": "execute_result"
    }
   ],
   "source": [
    "%%sql\n",
    "    SELECT brand, model, price\n",
    "    FROM shoe\n",
    "    WHERE brand = '';SELECT * FROM customer\n",
    "    "
   ]
  },
  {
   "cell_type": "markdown",
   "metadata": {},
   "source": [
    "### Issue 4: DO anything else\n",
    "\n",
    "    parameter = '';DROP TABLE you_are_lucky_this_table_does_not_exist"
   ]
  },
  {
   "cell_type": "code",
   "execution_count": 34,
   "metadata": {
    "collapsed": false
   },
   "outputs": [
    {
     "name": "stdout",
     "output_type": "stream",
     "text": [
      "Done.\n",
      "(sqlite3.OperationalError) no such table: you_are_lucky_this_table_does_not_exist [SQL: u'DROP TABLE you_are_lucky_this_table_does_not_exist']\n"
     ]
    }
   ],
   "source": [
    "%%sql\n",
    "    SELECT brand, model, price\n",
    "    FROM shoe\n",
    "    WHERE brand = '';DROP TABLE you_are_lucky_this_table_does_not_exist"
   ]
  }
 ],
 "metadata": {
  "kernelspec": {
   "display_name": "Python 2",
   "language": "python",
   "name": "python2"
  }
 },
 "nbformat": 4,
 "nbformat_minor": 1
}
