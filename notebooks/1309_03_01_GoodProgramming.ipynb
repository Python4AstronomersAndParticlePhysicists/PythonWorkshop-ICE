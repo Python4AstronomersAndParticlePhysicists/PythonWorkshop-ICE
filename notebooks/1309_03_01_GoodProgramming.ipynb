{
 "cells": [
  {
   "cell_type": "code",
   "execution_count": null,
   "metadata": {
    "collapsed": true
   },
   "outputs": [],
   "source": [
    "'''\n",
    "Table of Contents:\n",
    "\n",
    "1. General characteristics\n",
    "2. Types\n",
    "3. Classes\n",
    "    3.1. Inheritance\n",
    "    3.2. super function\n",
    "4. Flow Control\n",
    "5. Exceptions\n",
    "6. Documentation / comments\n",
    "7. Modules and packages\n",
    "8. Standard libraries (Intro): os, sys, datetime, shutil, glob, re, logging, urllib, subprocess, pickle, ...\n",
    "9. Testing\n",
    "10. PEP8 - coding conventions\n",
    "11. Version Control Tools (Git)\n",
    "12. Virtual environments\n",
    "13. ...\n",
    "14. Miscellany:\n",
    "    14.1. comprehensions (list/dict/set)\n",
    "    14.2. string formatting\n",
    "    14.3. lambda functions\n",
    "    14.4. decorators\n",
    "    14.5. logical operators\n",
    "    14.6. variable scope\n",
    "    14.7. mutable vs immutable\n",
    "    14.8. *args and **kwargs\n",
    "    14.9. floating point arithmetic\n",
    "    \n",
    "'''"
   ]
  }
 ],
 "metadata": {
  "kernelspec": {
   "display_name": "Python 3",
   "language": "python",
   "name": "python3"
  },
  "language_info": {
   "codemirror_mode": {
    "name": "ipython",
    "version": 3
   },
   "file_extension": ".py",
   "mimetype": "text/x-python",
   "name": "python",
   "nbconvert_exporter": "python",
   "pygments_lexer": "ipython3",
   "version": "3.5.2"
  }
 },
 "nbformat": 4,
 "nbformat_minor": 2
}
