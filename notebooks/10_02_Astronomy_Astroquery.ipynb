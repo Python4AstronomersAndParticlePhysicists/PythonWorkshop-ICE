{
 "cells": [
  {
   "cell_type": "markdown",
   "metadata": {},
   "source": [
    "# Astroquery\n",
    "\n",
    "Astroquery is a set of tools for querying astronomical web forms and databases.\n",
    "\n",
    "Generally it is used to query both **Vizier** and **Simbad** catalogs from python scripts. If you have some experience in the astronomy field, you probably already know how vast is the amount of information within these catalogs.\n",
    "\n",
    "Note these queries use Simbad/Vizier online services, so **you need a working internet connection** to run this notebook.\n"
   ]
  },
  {
   "cell_type": "markdown",
   "metadata": {},
   "source": [
    "## Simbad catalog queries with astroquery\n",
    "\n",
    "The easiest way to show the potential of astroquery is to show how it works:"
   ]
  },
  {
   "cell_type": "code",
   "execution_count": null,
   "metadata": {
    "collapsed": true
   },
   "outputs": [],
   "source": [
    "from astroquery.simbad import Simbad\n",
    "result_table = Simbad.query_object(\"Crab Nebula\")\n",
    "result_table.pprint(show_unit=True)\n",
    "result_table.colnames"
   ]
  },
  {
   "cell_type": "markdown",
   "metadata": {},
   "source": [
    "The VOTable fields that are currently returned in the result are set to `main_id` and `coordinates`. However you can specify other fields to be added to the resulting table. To see the complete list of these fields:"
   ]
  },
  {
   "cell_type": "code",
   "execution_count": null,
   "metadata": {
    "collapsed": true
   },
   "outputs": [],
   "source": [
    "Simbad.list_votable_fields()"
   ]
  },
  {
   "cell_type": "markdown",
   "metadata": {},
   "source": [
    "Whaaaaaaaat?! I have no idea what all these fields mean... Specially \"coo_err_maja\"!"
   ]
  },
  {
   "cell_type": "code",
   "execution_count": null,
   "metadata": {
    "collapsed": true
   },
   "outputs": [],
   "source": [
    "Simbad.get_field_description('coo_err_maja')"
   ]
  },
  {
   "cell_type": "markdown",
   "metadata": {},
   "source": [
    "I see... Let's do another query on the Crab Nebula, but this time with some more \"votable fields\":"
   ]
  },
  {
   "cell_type": "code",
   "execution_count": null,
   "metadata": {
    "collapsed": true
   },
   "outputs": [],
   "source": [
    "customSimbad = Simbad()\n",
    "customSimbad.add_votable_fields('otype','distance', 'velocity')"
   ]
  },
  {
   "cell_type": "markdown",
   "metadata": {},
   "source": [
    "Remember to use the customized instance of Simbad for the new query:"
   ]
  },
  {
   "cell_type": "code",
   "execution_count": null,
   "metadata": {
    "collapsed": true
   },
   "outputs": [],
   "source": [
    "result_table = customSimbad.query_object(\"Crab Nebula\")\n",
    "result_table.pprint(show_unit=True)\n",
    "result_table.colnames"
   ]
  },
  {
   "cell_type": "code",
   "execution_count": null,
   "metadata": {
    "collapsed": true
   },
   "outputs": [],
   "source": [
    "print(\"The Crab Nebula is a {} at a distance of {} {}\".format(result_table['OTYPE'][0], \n",
    "                                                              result_table['distance_distance'][0], \n",
    "                                                              result_table['distance_unit'][0]))"
   ]
  },
  {
   "cell_type": "markdown",
   "metadata": {},
   "source": [
    "Astroquery allows more complex queries, as for example a region around a sky coordinate:"
   ]
  },
  {
   "cell_type": "code",
   "execution_count": null,
   "metadata": {
    "collapsed": true
   },
   "outputs": [],
   "source": [
    "from astropy.coordinates import SkyCoord\n",
    "crab_coord = SkyCoord.from_name('Crab Nebula')  \n",
    "result_table = customSimbad.query_region(crab_coord, radius='2d0m0s')\n",
    "result_table.pprint()"
   ]
  },
  {
   "cell_type": "markdown",
   "metadata": {},
   "source": [
    "This is already too much information. By using pandas, we can easily take a peek at what we queried.\n",
    "\n",
    "You probably won't need it, but remember you can take a look at the definition of the different Simbad otypes [here](http://simbad.u-strasbg.fr/simbad/sim-display?data=otypes)."
   ]
  },
  {
   "cell_type": "code",
   "execution_count": null,
   "metadata": {
    "collapsed": true
   },
   "outputs": [],
   "source": [
    "pandas_table = result_table.to_pandas()\n",
    "pandas_table['OTYPE'].value_counts()"
   ]
  },
  {
   "cell_type": "markdown",
   "metadata": {},
   "source": [
    "## Vizier catalog queries with astroquery\n",
    "\n",
    "Similarly as described above, astroquery can be used to query within any Vizier catalog.\n",
    "\n",
    "The possibilities are enormous, here just some examples are listed:\n"
   ]
  },
  {
   "cell_type": "markdown",
   "metadata": {},
   "source": [
    "#### Query an object"
   ]
  },
  {
   "cell_type": "markdown",
   "metadata": {},
   "source": [
    "We can search over the huge amount of catalogs within Vizier for a specific object:"
   ]
  },
  {
   "cell_type": "code",
   "execution_count": null,
   "metadata": {
    "collapsed": true
   },
   "outputs": [],
   "source": [
    "# The crab pulsar is too famous! 225 catalogs contain information of the CP...\n",
    "# result = Vizier.query_object(\"Crab pulsar\")\n",
    "\n",
    "result = Vizier.query_object(\"FRB121102\")\n",
    "print(result)"
   ]
  },
  {
   "cell_type": "code",
   "execution_count": null,
   "metadata": {
    "collapsed": true
   },
   "outputs": [],
   "source": [
    "result[0] # Equivalent to result['I/197A/tic']"
   ]
  },
  {
   "cell_type": "markdown",
   "metadata": {},
   "source": [
    "#### Finding catalogs by keyword\n",
    "\n",
    "You can also search through the Vizier catalogs through keywords (e. g. authors, title, etc...):"
   ]
  },
  {
   "cell_type": "code",
   "execution_count": null,
   "metadata": {
    "collapsed": true
   },
   "outputs": [],
   "source": [
    "from astroquery.vizier import Vizier\n",
    "# Let's try to find some Fermi-LAT catalogs.\n",
    "\n",
    "# This query is probably too broad... 391 available catalogs with the keyword \"gamma\"\n",
    "# catalog_list = Vizier.find_catalogs('Gamma', max_catalogs=10000)\n",
    "\n",
    "# Fewer results if we directly search for the author name:\n",
    "catalog_list = Vizier.find_catalogs('Abdo', max_catalogs=10000)\n",
    "print({k:v.description for k,v in catalog_list.items()})"
   ]
  },
  {
   "cell_type": "markdown",
   "metadata": {},
   "source": [
    "Let's take a look at the 2nd Fermi-LAT catalog of gamma-ray pulsars (key = 'J/ApJS/208/17')"
   ]
  },
  {
   "cell_type": "code",
   "execution_count": null,
   "metadata": {
    "collapsed": true
   },
   "outputs": [],
   "source": [
    "catalog = Vizier.get_catalogs('J/ApJS/208/17')"
   ]
  },
  {
   "cell_type": "code",
   "execution_count": null,
   "metadata": {
    "collapsed": true
   },
   "outputs": [],
   "source": [
    "catalog.pprint()"
   ]
  },
  {
   "cell_type": "code",
   "execution_count": null,
   "metadata": {
    "collapsed": true
   },
   "outputs": [],
   "source": [
    "catalog[0]"
   ]
  },
  {
   "cell_type": "markdown",
   "metadata": {},
   "source": [
    "#### Query a region using Vizier catalogs\n",
    "\n",
    "Similar as with Simbad, let's do a query around a sky region:"
   ]
  },
  {
   "cell_type": "code",
   "execution_count": null,
   "metadata": {
    "collapsed": true
   },
   "outputs": [],
   "source": [
    "from astroquery.vizier import Vizier\n",
    "from astropy.coordinates import SkyCoord\n",
    "from astropy import units as u\n",
    "\n",
    "# Select only bright stars\n",
    "v = Vizier(column_filters={\"Bmag\":\"<9\"})\n",
    "v.ROW_LIMIT = -1\n",
    "crabNebula = SkyCoord.from_name('Crab Nebula')  \n",
    "result = v.query_region(crabNebula, radius=2.0*u.deg, catalog='NOMAD')\n",
    "result[0]"
   ]
  },
  {
   "cell_type": "code",
   "execution_count": null,
   "metadata": {
    "collapsed": true
   },
   "outputs": [],
   "source": [
    "nomad_query = result[0]\n",
    "nomad_query['RAJ2000', 'DEJ2000','Bmag']"
   ]
  },
  {
   "cell_type": "markdown",
   "metadata": {},
   "source": [
    "Classic problem: convert ra/dec into alt/az, and see which star is bothering you within your field of view:"
   ]
  },
  {
   "cell_type": "code",
   "execution_count": null,
   "metadata": {
    "collapsed": true
   },
   "outputs": [],
   "source": [
    "from astropy import coordinates as c\n",
    "from astropy.coordinates import SkyCoord\n",
    "from astropy import time as t\n",
    "\n",
    "magicSite = c.EarthLocation( lat=28.76194399284443*u.deg, lon=-17.890066533603996*u.deg )\n",
    "star_coord = SkyCoord(ra=nomad_query['RAJ2000'], dec=nomad_query['DEJ2000'], frame='icrs')\n",
    "star_coord_altAz = star_coord.transform_to( c.AltAz(obstime=t.Time.now(), location=magicSite) )\n",
    "nomad_query['alt'] = star_coord_altAz.alt\n",
    "nomad_query['az'] = star_coord_altAz.az"
   ]
  },
  {
   "cell_type": "code",
   "execution_count": null,
   "metadata": {
    "collapsed": true
   },
   "outputs": [],
   "source": [
    "nomad_query.sort('Bmag')\n",
    "nomad_query['Bmag', 'alt', 'az'].pprint()"
   ]
  },
  {
   "cell_type": "markdown",
   "metadata": {},
   "source": [
    "### Resources:\n",
    "\n",
    "* [Astroquery documentation](http://astroquery.readthedocs.io/en/latest/)\n",
    "* [Astroquery Vizier docs](http://astroquery.readthedocs.io/en/latest/vizier/vizier.html)\n",
    "* [Astroquery Simbad docs](http://astroquery.readthedocs.io/en/latest/simbad/simbad.html)\n",
    "* [Simple examples](http://astroquery.readthedocs.io/en/latest/gallery.html)\n",
    "* [The Naval Observatory Merged Astrometric Dataset (NOMAD)](http://www.usno.navy.mil/USNO/astrometry/optical-IR-prod/nomad)\n"
   ]
  },
  {
   "cell_type": "code",
   "execution_count": null,
   "metadata": {
    "collapsed": true
   },
   "outputs": [],
   "source": []
  }
 ],
 "metadata": {
  "kernelspec": {
   "display_name": "Python 3",
   "language": "python",
   "name": "python3"
  },
  "language_info": {
   "codemirror_mode": {
    "name": "ipython",
    "version": 3
   },
   "file_extension": ".py",
   "mimetype": "text/x-python",
   "name": "python",
   "nbconvert_exporter": "python",
   "pygments_lexer": "ipython3",
   "version": "3.6.1"
  }
 },
 "nbformat": 4,
 "nbformat_minor": 2
}
