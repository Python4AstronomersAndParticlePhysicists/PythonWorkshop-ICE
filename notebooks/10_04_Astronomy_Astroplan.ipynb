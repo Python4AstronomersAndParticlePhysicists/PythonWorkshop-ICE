{
 "cells": [
  {
   "cell_type": "markdown",
   "metadata": {},
   "source": [
    "![astroplanlogo](../resources/monty_python_small.jpg)\n",
    "\n",
    "\n",
    "# Planning Observations"
   ]
  },
  {
   "cell_type": "markdown",
   "metadata": {},
   "source": [
    "Planning of observations is currently a weakness in python. We have the following packages to perform this task:\n",
    "\n",
    "* [pyephem](http://rhodesmill.org/pyephem/) - works well, but is not maitained anymore and a bit obsolete\n",
    "* astropy - has basic operations (i.e. compute altaz of sources) but has no high-level functionalities\n",
    "* [astroplan](https://astroplan.readthedocs.io/en/latest/) - aims many interesting and useful features but it is at a very early stage and some features do not work (and it is slow!) \n",
    "\n",
    "Here we will mostly review astroplan as we believe it will be adopted by astropy and possibly become a reference.  "
   ]
  },
  {
   "cell_type": "code",
   "execution_count": null,
   "metadata": {
    "collapsed": true
   },
   "outputs": [],
   "source": [
    "%matplotlib inline\n",
    "import numpy as np\n",
    "import math\n",
    "import matplotlib.pyplot as plt\n",
    "import seaborn\n",
    "from astropy.io import fits\n",
    "from astropy import units as u\n",
    "from astropy.coordinates import SkyCoord\n",
    "plt.rcParams['figure.figsize'] = (12, 8)\n",
    "plt.rcParams['font.size'] = 14\n",
    "plt.rcParams['lines.linewidth'] = 2\n",
    "plt.rcParams['xtick.labelsize'] = 13\n",
    "plt.rcParams['ytick.labelsize'] = 13\n",
    "plt.rcParams['axes.titlesize'] = 14\n",
    "plt.rcParams['legend.fontsize'] = 13"
   ]
  },
  {
   "cell_type": "markdown",
   "metadata": {
    "collapsed": true
   },
   "source": [
    "In order to know the altitude and azimuth of a fixed target in the sky we will mainly need to know:\n",
    "\n",
    " * The location of the target (on Sky)\n",
    " * The location of the observer (on Earth)\n",
    " * The time\n",
    "\n",
    "Let's define first the **target** we want to observe:"
   ]
  },
  {
   "cell_type": "code",
   "execution_count": null,
   "metadata": {},
   "outputs": [],
   "source": [
    "from astropy.coordinates import SkyCoord\n",
    "from astroplan import FixedTarget\n",
    "\n",
    "coordinates = SkyCoord('18h18m48.0s', '−13d49m0.0s', frame='icrs')\n",
    "eagle_nebula = FixedTarget(name='M16', coord=coordinates)\n",
    "print (eagle_nebula)"
   ]
  },
  {
   "cell_type": "markdown",
   "metadata": {},
   "source": [
    "You can also search by its name if it is in CDS..."
   ]
  },
  {
   "cell_type": "code",
   "execution_count": null,
   "metadata": {},
   "outputs": [],
   "source": [
    "eagle_nebula = FixedTarget.from_name('M16')\n",
    "print (eagle_nebula)"
   ]
  },
  {
   "cell_type": "markdown",
   "metadata": {},
   "source": [
    "Now we should specify where the **observer** will be on Earth:"
   ]
  },
  {
   "cell_type": "code",
   "execution_count": null,
   "metadata": {},
   "outputs": [],
   "source": [
    "from astroplan import Observer\n",
    "observer = Observer.at_site('lapalma')\n",
    "print (observer)"
   ]
  },
  {
   "cell_type": "markdown",
   "metadata": {},
   "source": [
    "But maybe we are picky and want the exact location (or specify a different location that is not present in the database...)"
   ]
  },
  {
   "cell_type": "code",
   "execution_count": null,
   "metadata": {},
   "outputs": [],
   "source": [
    "import astropy.units as u\n",
    "from astropy.coordinates import EarthLocation\n",
    "#from pytz import timezone\n",
    "from astroplan import Observer\n",
    "\n",
    "longitude = '-17d52m54s'\n",
    "latitude = '28d45m38s'\n",
    "elevation = 2344 * u.m\n",
    "location = EarthLocation.from_geodetic(longitude, latitude, elevation)\n",
    "\n",
    "observer = Observer(name='WHT',\n",
    "                    location=location,\n",
    "                    pressure=0.615 * u.bar,\n",
    "                    relative_humidity=0.04,\n",
    "                    temperature=18 * u.deg_C,\n",
    "                    #timezone=timezone('US/Hawaii'),\n",
    "                    description=\"Our beloved William Herschel Telescope\")\n",
    "print (observer)"
   ]
  },
  {
   "cell_type": "markdown",
   "metadata": {},
   "source": [
    "Finally we need to set up the **time**, which by default is set in UTC."
   ]
  },
  {
   "cell_type": "code",
   "execution_count": null,
   "metadata": {
    "collapsed": true
   },
   "outputs": [],
   "source": [
    "from astropy.time import Time\n",
    "time = Time('2017-09-15 23:30:00')"
   ]
  },
  {
   "cell_type": "markdown",
   "metadata": {
    "collapsed": true
   },
   "source": [
    "Let's ask python if we can see the Nebula tonight from la palma:"
   ]
  },
  {
   "cell_type": "code",
   "execution_count": null,
   "metadata": {},
   "outputs": [],
   "source": [
    "observer.target_is_up(time, eagle_nebula)"
   ]
  },
  {
   "cell_type": "markdown",
   "metadata": {
    "collapsed": true
   },
   "source": [
    "We assume that at 11.30 pm will be dark, but let's make sure..."
   ]
  },
  {
   "cell_type": "code",
   "execution_count": null,
   "metadata": {},
   "outputs": [],
   "source": [
    "observer.is_night(time)"
   ]
  },
  {
   "cell_type": "markdown",
   "metadata": {},
   "source": [
    "You might get an IERS warning (International Earth Rotation and Reference Systems Service) to update the Earth Location.\n",
    "For more info: http://astroplan.readthedocs.io/en/latest/faq/iers.html \n",
    "\n",
    "Let's do it:"
   ]
  },
  {
   "cell_type": "code",
   "execution_count": null,
   "metadata": {},
   "outputs": [],
   "source": [
    "from astroplan import download_IERS_A\n",
    "download_IERS_A()"
   ]
  },
  {
   "cell_type": "markdown",
   "metadata": {},
   "source": [
    "### Calculate rise/set/meridian transit times"
   ]
  },
  {
   "cell_type": "markdown",
   "metadata": {},
   "source": [
    "It can also provide information about all the twilight times:"
   ]
  },
  {
   "cell_type": "code",
   "execution_count": null,
   "metadata": {},
   "outputs": [],
   "source": [
    "observer.sun_set_time(time, which='nearest').iso"
   ]
  },
  {
   "cell_type": "markdown",
   "metadata": {},
   "source": [
    "By default it set's the **nearest** sunset but you can specify also **next** or **previous**."
   ]
  },
  {
   "cell_type": "code",
   "execution_count": null,
   "metadata": {},
   "outputs": [],
   "source": [
    "observer.sun_set_time(time, which='next').iso"
   ]
  },
  {
   "cell_type": "code",
   "execution_count": null,
   "metadata": {},
   "outputs": [],
   "source": [
    "observer.twilight_evening_civil(time, which='nearest').iso"
   ]
  },
  {
   "cell_type": "code",
   "execution_count": null,
   "metadata": {},
   "outputs": [],
   "source": [
    "observer.twilight_evening_nautical(time, which='nearest').iso"
   ]
  },
  {
   "cell_type": "code",
   "execution_count": null,
   "metadata": {},
   "outputs": [],
   "source": [
    "observer.twilight_evening_astronomical(time, which='nearest').iso"
   ]
  },
  {
   "cell_type": "markdown",
   "metadata": {
    "collapsed": true
   },
   "source": [
    "Similarly, we can ask when the target will be raising or setting:"
   ]
  },
  {
   "cell_type": "code",
   "execution_count": null,
   "metadata": {},
   "outputs": [],
   "source": [
    "observer.target_rise_time(time, eagle_nebula).iso"
   ]
  },
  {
   "cell_type": "code",
   "execution_count": null,
   "metadata": {},
   "outputs": [],
   "source": [
    "observer.target_set_time(time, eagle_nebula).iso"
   ]
  },
  {
   "cell_type": "markdown",
   "metadata": {},
   "source": [
    "### Calculate alt/az positions for targets and Airmass"
   ]
  },
  {
   "cell_type": "markdown",
   "metadata": {},
   "source": [
    "With this information we can also ask what is the **Altitute and Azimuth** of our target at that specific time"
   ]
  },
  {
   "cell_type": "code",
   "execution_count": null,
   "metadata": {},
   "outputs": [],
   "source": [
    "altaz_eagle = observer.altaz(time, eagle_nebula)\n",
    "altaz_eagle.alt, altaz_eagle.az"
   ]
  },
  {
   "cell_type": "markdown",
   "metadata": {},
   "source": [
    " With the integrated sec function we can easily get the **Airmass**\n"
   ]
  },
  {
   "cell_type": "code",
   "execution_count": null,
   "metadata": {},
   "outputs": [],
   "source": [
    "altaz_eagle.secz"
   ]
  },
  {
   "cell_type": "markdown",
   "metadata": {},
   "source": [
    "We can now aim to make an altitude plot scanning the altitude of our target every hour"
   ]
  },
  {
   "cell_type": "code",
   "execution_count": null,
   "metadata": {},
   "outputs": [],
   "source": [
    "from astropy.time import TimeDelta\n",
    "\n",
    "time_list = []\n",
    "airmass_list = []\n",
    "current_time = observer.sun_set_time(time, which='nearest') \n",
    "\n",
    "while current_time < observer.sun_rise_time(time, which='nearest'):\n",
    "    current_altaz = observer.altaz(current_time, eagle_nebula)\n",
    "    if current_altaz.alt > 0:\n",
    "        airmass_list.append(current_altaz.alt.value)\n",
    "    else:\n",
    "        airmass_list.append(0)\n",
    "    time_list.append(current_time.datetime)\n",
    "    current_time += TimeDelta(3600, format='sec')    \n",
    "    \n",
    "plt.plot(time_list, airmass_list)\n"
   ]
  },
  {
   "cell_type": "markdown",
   "metadata": {},
   "source": [
    "Fortunately, there is a function that does it (much faster) within the day around the date we provide:"
   ]
  },
  {
   "cell_type": "code",
   "execution_count": null,
   "metadata": {},
   "outputs": [],
   "source": [
    "from astroplan.plots import plot_airmass\n",
    "\n",
    "middle_of_the_night = Time('2017-09-16 01:00:00')\n",
    "\n",
    "plot_airmass(targets=eagle_nebula, \n",
    "             observer=observer, \n",
    "             time=middle_of_the_night, \n",
    "             #brightness_shading=True,\n",
    "             #altitude_yaxis=True\n",
    "            )   \n",
    "plt.legend() "
   ]
  },
  {
   "cell_type": "markdown",
   "metadata": {},
   "source": [
    "We can also give a range of dates to focus on a specific region of time (dark time)"
   ]
  },
  {
   "cell_type": "code",
   "execution_count": null,
   "metadata": {
    "scrolled": false
   },
   "outputs": [],
   "source": [
    "from astroplan.plots import dark_style_sheet\n",
    "\n",
    "start_time = observer.sun_set_time(time, which='nearest') \n",
    "end_time = observer.sun_rise_time(time, which='nearest') \n",
    "delta_t = end_time - start_time\n",
    "observe_time = start_time + delta_t*np.linspace(0, 1, 75)\n",
    "\n",
    "andromeda = FixedTarget.from_name('M31')\n",
    "pleiades = FixedTarget.from_name('M45')\n",
    "\n",
    "some_nice_stuff_to_look_tonight = [eagle_nebula, andromeda, pleiades]\n",
    "\n",
    "plot_airmass(targets=some_nice_stuff_to_look_tonight, \n",
    "             observer=observer, \n",
    "             time=observe_time, \n",
    "             brightness_shading=True,\n",
    "             altitude_yaxis=True,\n",
    "             #style_sheet=dark_style_sheet\n",
    "            )   \n",
    "plt.legend() "
   ]
  },
  {
   "cell_type": "markdown",
   "metadata": {},
   "source": [
    "### Making sky charts"
   ]
  },
  {
   "cell_type": "code",
   "execution_count": null,
   "metadata": {},
   "outputs": [],
   "source": [
    "from astroplan.plots import plot_sky\n",
    "\n",
    "plot_sky(eagle_nebula, observer, middle_of_the_night)\n",
    "plot_sky(pleiades, observer, middle_of_the_night)\n",
    "plot_sky(andromeda, observer, middle_of_the_night)\n",
    "\n",
    "plt.legend()"
   ]
  },
  {
   "cell_type": "code",
   "execution_count": null,
   "metadata": {},
   "outputs": [],
   "source": [
    "observe_time = Time('2000-03-15 17:00:00')\n",
    "observe_time = observe_time + np.linspace(-4, 5, 10)*u.hour\n",
    "\n",
    "plot_sky(pleiades, observer, observe_time)\n",
    "\n",
    "plt.legend(loc='center left', bbox_to_anchor=(1.25, 0.5))\n",
    "plt.show()"
   ]
  },
  {
   "cell_type": "markdown",
   "metadata": {},
   "source": [
    "### Finder Chart Image"
   ]
  },
  {
   "cell_type": "markdown",
   "metadata": {},
   "source": [
    "Astroplan also provides the option to display sky charts from a list of surveys (but it goes really slow..)"
   ]
  },
  {
   "cell_type": "code",
   "execution_count": null,
   "metadata": {},
   "outputs": [],
   "source": [
    "from astroplan.plots import plot_finder_image\n",
    "\n",
    "plot_finder_image(eagle_nebula, survey='DSS', log=True)"
   ]
  },
  {
   "cell_type": "markdown",
   "metadata": {},
   "source": [
    "### Defining constraints"
   ]
  },
  {
   "cell_type": "markdown",
   "metadata": {
    "collapsed": true
   },
   "source": [
    "If this would work we could run it here but...\n",
    "\n",
    "https://astroplan.readthedocs.io/en/latest/tutorials/constraints.html "
   ]
  },
  {
   "cell_type": "markdown",
   "metadata": {},
   "source": [
    "### Scheduling observations"
   ]
  },
  {
   "cell_type": "markdown",
   "metadata": {
    "collapsed": true
   },
   "source": [
    "If this would work we could run it here but...\n",
    "\n",
    "https://astroplan.readthedocs.io/en/latest/tutorials/scheduling.html"
   ]
  }
 ],
 "metadata": {
  "kernelspec": {
   "display_name": "Python 3",
   "language": "python",
   "name": "python3"
  },
  "language_info": {
   "codemirror_mode": {
    "name": "ipython",
    "version": 3
   },
   "file_extension": ".py",
   "mimetype": "text/x-python",
   "name": "python",
   "nbconvert_exporter": "python",
   "pygments_lexer": "ipython3",
   "version": "3.6.1"
  }
 },
 "nbformat": 4,
 "nbformat_minor": 1
}
