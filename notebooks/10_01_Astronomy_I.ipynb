{
 "cells": [
  {
   "cell_type": "markdown",
   "metadata": {},
   "source": [
    "# Astronomy I & II\n",
    "\n",
    "* Astropy Basics\n",
    " * Units and coordinates\n",
    " * FITS files\n",
    "  * Tables\n",
    "  * Spectra\n",
    "  * Images & WCS\n",
    "\n",
    "\n",
    "* Astroquery\n",
    " * \n",
    "\n",
    "\n",
    "* Photutils\n",
    " * Source detection (DAO vs SExtractor)\n",
    " * Modelling: Measuring the PSF FHWM with a moffat profile\n",
    " * Background modelling and aperture Photometry\n",
    "\n",
    "\n",
    "* Astropy: Matching catalogues\n",
    " * Exercice: match catalogue of sextracted sourced with one made with astroquery\n",
    "   * Bad way: direct search on a loop.\n",
    "   * Good way: use astropy's matching method \n",
    "\n",
    "\n",
    "* Pyephem/Astroplan (TBD)\n",
    " * Earth, Time and Fixed Bodies\n",
    " * Sun rising, setting and dark time\n",
    " * Night planning: objects visibility and distance to moon\n",
    " * Exercice: Make plan to observe 3 objects\n",
    "\n",
    "\n",
    "\n",
    "#### (Optional if time)\n",
    "\n",
    "* Astroscrappy: Cosmic ray detection / rejection / masking\n",
    "* Cosmology in astropy\n",
    "* Data reduction example. From Raw optical imaging to reduced catalogue\n",
    "* Sewpy: Sextractor wrapper\n",
    "* GlueViz in Plotting or Astronomy?\n",
    "* Want to discover a gravitational wave? -> https://losc.ligo.org/tutorials/\n",
    "    * You can follow several notebooks on how to analyze different LIGO events "
   ]
  },
  {
   "cell_type": "code",
   "execution_count": null,
   "metadata": {
    "collapsed": true
   },
   "outputs": [],
   "source": []
  }
 ],
 "metadata": {
  "kernelspec": {
   "display_name": "Python 3",
   "language": "python",
   "name": "python3"
  },
  "language_info": {
   "codemirror_mode": {
    "name": "ipython",
    "version": 3
   },
   "file_extension": ".py",
   "mimetype": "text/x-python",
   "name": "python",
   "nbconvert_exporter": "python",
   "pygments_lexer": "ipython3",
   "version": "3.5.1"
  }
 },
 "nbformat": 4,
 "nbformat_minor": 2
}
