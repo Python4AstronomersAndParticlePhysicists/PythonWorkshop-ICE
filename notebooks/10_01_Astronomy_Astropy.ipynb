{
 "cells": [
  {
   "cell_type": "markdown",
   "metadata": {},
   "source": [
    "![astropylogo](../resources/astropy_logo.svg)"
   ]
  },
  {
   "cell_type": "markdown",
   "metadata": {},
   "source": [
    "# Astronomy I & II sessions\n",
    "\n",
    "\n",
    "1. [Astropy Basics]\n",
    " \n",
    "    * Constants and units\n",
    "    * Celestial Coordinates\n",
    "    * Time and dates\n",
    "    * FITS files\n",
    "         * FITS Tables (and other common formats)\n",
    "         * Spectra\n",
    "         * Images & WCS\n",
    "\n",
    "2. [Astroquery]\n",
    " * Query to CVS/Vizier catalogues \n",
    "\n",
    "3. [Photutils]\n",
    " * Source detection (DAO vs SExtractor)\n",
    " * Modelling: Measuring the PSF FHWM with a moffat profile\n",
    " * Background modelling and aperture Photometry\n",
    "\n",
    "5. [Pyephem/Astroplan]\n",
    " * Earth, Time and Fixed Bodies\n",
    " * Sun rising, setting and dark time\n",
    " * Night planning: objects visibility and distance to moon\n",
    "\n",
    "\n",
    "## Other interesting packages not covered in this workshop\n",
    "\n",
    "* [Astroscrappy](https://github.com/astropy/astroscrappy): Cosmic ray detection / rejection / masking \n",
    "* [Astropy-Cosmology](http://docs.astropy.org/en/stable/cosmology/): Cosmology utility functions \n",
    "* [Astropy-ccdproc](http://ccdproc.readthedocs.io/en/latest/): Data reduction of CCD images\n",
    "* [Sewpy](https://github.com/megalut/sewpy): Sextractor wrapper\n",
    "* [Naima](https://naima.readthedocs.io/en/latest/):Derivation of non-thermal particle distributions through MCMC spectral fitting\n",
    "* [Reproject](http://reproject.readthedocs.io/en/stable/): Astronomical image reprojection\n",
    "* [gammapy](https://gammapy.readthedocs.io/en/latest/): Gamma-ray astronomy\n",
    "* [sncosmo](https://sncosmo.github.io/): Supernova cosmology"
   ]
  },
  {
   "cell_type": "code",
   "execution_count": null,
   "metadata": {},
   "outputs": [],
   "source": [
    "%matplotlib inline\n",
    "import numpy as np\n",
    "import math\n",
    "import matplotlib.pyplot as plt\n",
    "import seaborn\n",
    "plt.rcParams['figure.figsize'] = (12, 8)\n",
    "plt.rcParams['font.size'] = 14\n",
    "plt.rcParams['lines.linewidth'] = 2\n",
    "plt.rcParams['xtick.labelsize'] = 13\n",
    "plt.rcParams['ytick.labelsize'] = 13\n",
    "plt.rcParams['axes.titlesize'] = 14\n",
    "plt.rcParams['legend.fontsize'] = 13"
   ]
  },
  {
   "cell_type": "markdown",
   "metadata": {},
   "source": [
    "# Astropy Basics\n",
    "In this section, we will explain the basics of what can be done with Astropy, such as working with internal units, opening FITS files, tables, spectra and WCS."
   ]
  },
  {
   "cell_type": "markdown",
   "metadata": {},
   "source": [
    "## Constants and Units\n",
    "Astropy provides a large amount of astronomical constants... \n",
    "\n",
    "but warning: The use of units can slow down the processing of a large data set."
   ]
  },
  {
   "cell_type": "code",
   "execution_count": null,
   "metadata": {
    "collapsed": true
   },
   "outputs": [],
   "source": [
    "from astropy import constants as const\n",
    "from astropy import units as u"
   ]
  },
  {
   "cell_type": "markdown",
   "metadata": {},
   "source": [
    "By default astropy constants uses S.I. units..."
   ]
  },
  {
   "cell_type": "code",
   "execution_count": null,
   "metadata": {},
   "outputs": [],
   "source": [
    "print(const.c)"
   ]
  },
  {
   "cell_type": "markdown",
   "metadata": {},
   "source": [
    "It can be transformed to any units..."
   ]
  },
  {
   "cell_type": "code",
   "execution_count": null,
   "metadata": {},
   "outputs": [],
   "source": [
    "const.c.to('km/s')"
   ]
  },
  {
   "cell_type": "code",
   "execution_count": null,
   "metadata": {},
   "outputs": [],
   "source": [
    "const.c.to('pc/yr')"
   ]
  },
  {
   "cell_type": "markdown",
   "metadata": {
    "collapsed": true
   },
   "source": [
    "You can also define your own constant using astropy Units"
   ]
  },
  {
   "cell_type": "code",
   "execution_count": null,
   "metadata": {},
   "outputs": [],
   "source": [
    "my_emission_line_flux = 12.32 * u.erg / u.cm ** 2 / u.s\n",
    "my_emission_line_flux"
   ]
  },
  {
   "cell_type": "markdown",
   "metadata": {},
   "source": [
    "Here we can compute earth's orbit speed using astropy constants..."
   ]
  },
  {
   "cell_type": "code",
   "execution_count": null,
   "metadata": {
    "hideCode": false
   },
   "outputs": [],
   "source": [
    "speed_of_earth = const.au * 2 * math.pi / u.yr\n",
    "speed_of_earth.to('km/s')"
   ]
  },
  {
   "cell_type": "markdown",
   "metadata": {},
   "source": [
    "### <span style=\"color:blue\">Exercise Astropy 1:</span> Working with astronomy constants\n",
    "Compute (approximately) the speed of the earth's orbit using the gravitational force between the two."
   ]
  },
  {
   "cell_type": "code",
   "execution_count": null,
   "metadata": {
    "hideCode": true,
    "hidePrompt": false
   },
   "outputs": [],
   "source": [
    "# %load -r 2-3 solutions/10_Astronomy.py"
   ]
  },
  {
   "cell_type": "markdown",
   "metadata": {},
   "source": [
    "### Celestial Coordinates"
   ]
  },
  {
   "cell_type": "markdown",
   "metadata": {},
   "source": [
    "The simplest coordinate we can define is a single point in the sky, by default in the ICRS frame."
   ]
  },
  {
   "cell_type": "code",
   "execution_count": null,
   "metadata": {
    "collapsed": true
   },
   "outputs": [],
   "source": [
    "from astropy.coordinates import SkyCoord\n",
    "c = SkyCoord(ra=10.625*u.degree, dec=41.2*u.degree, frame='icrs')"
   ]
  },
  {
   "cell_type": "markdown",
   "metadata": {},
   "source": [
    "#### Definition\n",
    "It can be defined in almost any format used in astronomy (and there are many, as usual...) all representing the same location."
   ]
  },
  {
   "cell_type": "code",
   "execution_count": null,
   "metadata": {},
   "outputs": [],
   "source": [
    "c = SkyCoord(10.625, 41.2, frame='icrs', unit='deg')\n",
    "c = SkyCoord('00h42m30s', '+41d12m00s', frame='icrs')\n",
    "c = SkyCoord('00h42.5m', '+41d12m')\n",
    "c = SkyCoord('00 42 30 +41 12 00', unit=(u.hourangle, u.deg))\n",
    "c = SkyCoord('00:42.5 +41:12', unit=(u.hourangle, u.deg))\n",
    "c"
   ]
  },
  {
   "cell_type": "markdown",
   "metadata": {},
   "source": [
    "Astropy also has a significantly large list of sources than can be retrieved by its name:"
   ]
  },
  {
   "cell_type": "code",
   "execution_count": null,
   "metadata": {},
   "outputs": [],
   "source": [
    "a_big_blue_star = SkyCoord.from_name('rigel')\n",
    "print (a_big_blue_star.ra, a_big_blue_star.dec)"
   ]
  },
  {
   "cell_type": "markdown",
   "metadata": {},
   "source": [
    "#### Transformation\n",
    "We can easily convert to other coordinate systems, like the galactic..."
   ]
  },
  {
   "cell_type": "code",
   "execution_count": null,
   "metadata": {},
   "outputs": [],
   "source": [
    "c.galactic"
   ]
  },
  {
   "cell_type": "markdown",
   "metadata": {},
   "source": [
    "Or even get what is the closest constellation to the object, very useful for astronomers as you know..."
   ]
  },
  {
   "cell_type": "code",
   "execution_count": null,
   "metadata": {},
   "outputs": [],
   "source": [
    "c.get_constellation()"
   ]
  },
  {
   "cell_type": "markdown",
   "metadata": {},
   "source": [
    "#### Distances\n",
    "Coordinates allow also to define distances:"
   ]
  },
  {
   "cell_type": "code",
   "execution_count": null,
   "metadata": {},
   "outputs": [],
   "source": [
    "c = SkyCoord(ra=10.68458*u.degree, dec=41.26917*u.degree, distance=770*u.kpc)\n",
    "print (c.cartesian.x, c.cartesian.y, c.cartesian.z)"
   ]
  },
  {
   "cell_type": "markdown",
   "metadata": {},
   "source": [
    "If we define one or more coordinates we can compute the distance between the two objects:"
   ]
  },
  {
   "cell_type": "code",
   "execution_count": null,
   "metadata": {},
   "outputs": [],
   "source": [
    "c1 = SkyCoord(ra=10*u.degree, dec=9*u.degree, distance=10*u.pc, frame='icrs')\n",
    "c2 = SkyCoord(ra=11*u.degree, dec=10*u.degree, distance=11.5*u.pc, frame='icrs')\n",
    "\n",
    "print (\"Angular Separation: %s\" % c1.separation(c2))\n",
    "print (\"Distance between objects: %s\" % c1.separation_3d(c2))"
   ]
  },
  {
   "cell_type": "markdown",
   "metadata": {
    "collapsed": true
   },
   "source": [
    "#### Catalogue of sources\n",
    "\n",
    "A catalogue of positions can also be created using numpy arrays:"
   ]
  },
  {
   "cell_type": "code",
   "execution_count": null,
   "metadata": {},
   "outputs": [],
   "source": [
    "ras = np.array([0-.7, 21.5, 120.9]) * u.deg  \n",
    "decs = np.array([4.5, -5.2, 6.3]) * u.deg   \n",
    "catalogue = SkyCoord(ras, decs, frame='icrs')\n",
    "catalogue.galactic"
   ]
  },
  {
   "cell_type": "markdown",
   "metadata": {},
   "source": [
    "## Time and Date\n",
    "The astropy.time package provides functionality for manipulating times and dates used in astronomy, such as UTC or MJD.\n",
    "#### Definition"
   ]
  },
  {
   "cell_type": "code",
   "execution_count": null,
   "metadata": {},
   "outputs": [],
   "source": [
    "from astropy.time import Time\n",
    "times = ['2017-09-13T00:00:00', '2017-09-15T11:20:15.123456789',]\n",
    "t1 = Time(times)\n",
    "t1"
   ]
  },
  {
   "cell_type": "markdown",
   "metadata": {},
   "source": [
    "Default format is ISOT and scale UTC, but it can be set to others."
   ]
  },
  {
   "cell_type": "code",
   "execution_count": null,
   "metadata": {},
   "outputs": [],
   "source": [
    "times = [58009, 58011.47239726]\n",
    "t2 = Time(times, format='mjd', scale='tai')\n",
    "t2"
   ]
  },
  {
   "cell_type": "markdown",
   "metadata": {},
   "source": [
    "#### Format conversion"
   ]
  },
  {
   "cell_type": "code",
   "execution_count": null,
   "metadata": {
    "scrolled": true
   },
   "outputs": [],
   "source": [
    "print (\"To julian date: %s\" % t1[0].jd)\n",
    "print (\"To modified julian date: %s\" % t1[0].mjd)\n",
    "print (\"To FITS: %s\" % t1[0].fits)\n",
    "print (\"To GPS: %s\" % t1[0].gps)\n",
    "print (\"To Bessel Epoch Year: %s\" % t1[0].byear_str)\n",
    "print (\"To Julian Epoch Year: %s\" % t1[0].jyear_str)"
   ]
  },
  {
   "cell_type": "markdown",
   "metadata": {},
   "source": [
    "#### Timezones"
   ]
  },
  {
   "cell_type": "markdown",
   "metadata": {},
   "source": [
    "When a Time object is constructed from a timezone-aware datetime, no timezone information is saved in the Time object. However, Time objects can be converted to timezone-aware datetime objects:"
   ]
  },
  {
   "cell_type": "code",
   "execution_count": null,
   "metadata": {},
   "outputs": [],
   "source": [
    "from datetime import datetime\n",
    "from astropy.time import Time, TimezoneInfo\n",
    "import astropy.units as u\n",
    "utc_plus_one_hour = TimezoneInfo(utc_offset=1*u.hour)\n",
    "dt_aware = datetime(2000, 1, 1, 0, 0, 0, tzinfo=utc_plus_one_hour)\n",
    "t = Time(dt_aware)  # Loses timezone info, converts to UTC\n",
    "print(t)            # will return UTC"
   ]
  },
  {
   "cell_type": "code",
   "execution_count": null,
   "metadata": {},
   "outputs": [],
   "source": [
    "print(t.to_datetime(timezone=utc_plus_one_hour)) # to timezone-aware datetime"
   ]
  },
  {
   "cell_type": "markdown",
   "metadata": {},
   "source": [
    "## FITS files"
   ]
  },
  {
   "cell_type": "markdown",
   "metadata": {},
   "source": [
    "### Tables in FITS\n",
    "\n",
    "We will read a FITS table containing a catalogue, in this case a custom collection of Gaia stars created with CosmoHub.\n",
    "\n",
    "With two instructions I can open the fits file and preview the content of it. For this file we find a list of two units, a primary HDU and the binary table:"
   ]
  },
  {
   "cell_type": "code",
   "execution_count": null,
   "metadata": {},
   "outputs": [],
   "source": [
    "from astropy.io import fits\n",
    "gaia_hdulist = fits.open('../resources/cosmohub_catalogue.fits')\n",
    "\n",
    "gaia_hdulist.info()"
   ]
  },
  {
   "cell_type": "markdown",
   "metadata": {},
   "source": [
    "To access the primary HDU, we can directly call it by its name, and preview the header like this:"
   ]
  },
  {
   "cell_type": "code",
   "execution_count": null,
   "metadata": {},
   "outputs": [],
   "source": [
    "gaia_hdulist['PRIMARY'].header"
   ]
  },
  {
   "cell_type": "markdown",
   "metadata": {},
   "source": [
    "As the second extension has no name, we can access to it from its index:"
   ]
  },
  {
   "cell_type": "code",
   "execution_count": null,
   "metadata": {
    "scrolled": false
   },
   "outputs": [],
   "source": [
    "gaia_hdulist[1].header"
   ]
  },
  {
   "cell_type": "markdown",
   "metadata": {},
   "source": [
    "The data is contained in the Binary table and can be accessed very similarly to a **numpy/pandas** table:"
   ]
  },
  {
   "cell_type": "code",
   "execution_count": null,
   "metadata": {},
   "outputs": [],
   "source": [
    "plt.scatter(gaia_hdulist[1].data['ra'], gaia_hdulist[1].data['dec'])\n",
    "plt.xlabel('Right Ascension (deg)')\n",
    "plt.ylabel('Declination (deg)')"
   ]
  },
  {
   "cell_type": "markdown",
   "metadata": {},
   "source": [
    "### Tables not in FITS\n",
    "Even FITS is widely used in astronomy, there are a several other widely used formats for storing table and catalogue data. The module astropy.io.ascii provides read capability for most of them. Find the list of supported formats in astropy's documentation: http://docs.astropy.org/en/stable/io/ascii/index.html#supported-formats "
   ]
  },
  {
   "cell_type": "code",
   "execution_count": null,
   "metadata": {},
   "outputs": [],
   "source": [
    "from astropy.io import ascii\n",
    "data = ascii.read(\"../resources/sources.dat\")  \n",
    "print(data)"
   ]
  },
  {
   "cell_type": "markdown",
   "metadata": {},
   "source": [
    "The read method tries to identify the file format automatically, but it can be specified in the format input parameter:"
   ]
  },
  {
   "cell_type": "code",
   "execution_count": null,
   "metadata": {},
   "outputs": [],
   "source": [
    "data = ascii.read(\"../resources/sources.csv\", format='csv')  \n",
    "print(data)"
   ]
  },
  {
   "cell_type": "markdown",
   "metadata": {},
   "source": [
    "Any catalogue can then be exported (in this case to screen) to any format:"
   ]
  },
  {
   "cell_type": "code",
   "execution_count": null,
   "metadata": {},
   "outputs": [],
   "source": [
    "import sys\n",
    "ascii.write(data, sys.stdout, format='latex')"
   ]
  },
  {
   "cell_type": "markdown",
   "metadata": {},
   "source": [
    "### Spectra data\n",
    "Let's read a fits file containing spectra for a QSO observed with SDSS.\n",
    "\n",
    "First we want to open the fits and inspect what it's in there..."
   ]
  },
  {
   "cell_type": "code",
   "execution_count": null,
   "metadata": {
    "scrolled": true
   },
   "outputs": [],
   "source": [
    "sdss_qso_hdulist = fits.open('../resources/sdss_qso_spec-0501-52235-0313.fits')\n",
    "\n",
    "sdss_qso_hdulist.info()"
   ]
  },
  {
   "cell_type": "markdown",
   "metadata": {},
   "source": [
    "The coadd seems to have the coadded spectra from several observations.\n",
    "\n",
    "Let's now inspect what columns we get in the spectra:"
   ]
  },
  {
   "cell_type": "code",
   "execution_count": null,
   "metadata": {
    "scrolled": false
   },
   "outputs": [],
   "source": [
    "sdss_qso_hdulist['COADD'].columns"
   ]
  },
  {
   "cell_type": "markdown",
   "metadata": {},
   "source": [
    "We can now have a look at the spectra data itself, using a scatter plot."
   ]
  },
  {
   "cell_type": "code",
   "execution_count": null,
   "metadata": {
    "scrolled": false
   },
   "outputs": [],
   "source": [
    "plt.scatter(10**sdss_qso_hdulist['COADD'].data['loglam'], sdss_qso_hdulist['COADD'].data['flux'], s=2)\n",
    "plt.xlabel('Wavelengths (Angstroms)')\n",
    "plt.ylabel(r'f$\\lambda$ (erg/s/cm2/A)')"
   ]
  },
  {
   "cell_type": "markdown",
   "metadata": {},
   "source": [
    "The previous spectra seems to have some bad measurements, but we can make use of the OR mask included to discard those measurements. \n",
    "\n",
    "To better visualize the spectra file we will apply a gaussian filtering..."
   ]
  },
  {
   "cell_type": "code",
   "execution_count": null,
   "metadata": {},
   "outputs": [],
   "source": [
    "from scipy.ndimage.filters import gaussian_filter\n",
    "from scipy.interpolate import interp1d\n",
    "\n",
    "y_values_masked = np.ma.masked_where(sdss_qso_hdulist['COADD'].data['or_mask'], \n",
    "                                     sdss_qso_hdulist['COADD'].data['flux'])\n",
    "x_values_masked = np.ma.masked_where(sdss_qso_hdulist['COADD'].data['or_mask'], \n",
    "                                     sdss_qso_hdulist['COADD'].data['loglam'])\n",
    "\n",
    "plt.scatter(10**x_values_masked, y_values_masked, s=2, label='masked')\n",
    "plt.plot(10**sdss_qso_hdulist['COADD'].data['loglam'], gaussian_filter(y_values_masked, sigma=16), \n",
    "         color='orange', linewidth=3, label='masked and filtered')\n",
    "plt.xlabel('Wavelengths (Angstroms)')\n",
    "plt.ylabel(r'f$\\lambda$ (erg/s/cm2/A)')\n",
    "plt.legend()"
   ]
  },
  {
   "cell_type": "markdown",
   "metadata": {},
   "source": [
    "Another information that is included in this spectra file is the emission lines measured by SDSS. We can inspect the columns of that extension:"
   ]
  },
  {
   "cell_type": "code",
   "execution_count": null,
   "metadata": {},
   "outputs": [],
   "source": [
    "sdss_qso_hdulist['SPZLINE'].data.columns"
   ]
  },
  {
   "cell_type": "markdown",
   "metadata": {},
   "source": [
    "### <span style=\"color:blue\">Exercise Astropy 2:</span> Working with spectra\n",
    "Display the emission lines available in the SPZLINE extension over the QSO spectra"
   ]
  },
  {
   "cell_type": "code",
   "execution_count": null,
   "metadata": {},
   "outputs": [],
   "source": [
    "# %load -r 7-18 solutions/10_Astronomy.py"
   ]
  },
  {
   "cell_type": "markdown",
   "metadata": {},
   "source": [
    "## FITS images and WCS"
   ]
  },
  {
   "cell_type": "code",
   "execution_count": null,
   "metadata": {
    "scrolled": false
   },
   "outputs": [],
   "source": [
    "hst_hdulist = fits.open('../resources/hst_656nmos.fits')\n",
    "hst_hdulist.info()"
   ]
  },
  {
   "cell_type": "code",
   "execution_count": null,
   "metadata": {},
   "outputs": [],
   "source": [
    "plt.imshow(hst_hdulist['PRIMARY'].data)\n",
    "plt.xlabel('X pixels')\n",
    "plt.ylabel('Y pixels')\n",
    "plt.colorbar()"
   ]
  },
  {
   "cell_type": "code",
   "execution_count": null,
   "metadata": {
    "scrolled": false
   },
   "outputs": [],
   "source": [
    "from astropy.visualization import ZScaleInterval\n",
    "\n",
    "norm = ZScaleInterval()\n",
    "vmin, vmax = norm.get_limits(hst_hdulist['PRIMARY'].data)\n",
    "\n",
    "plt.imshow(hst_hdulist[0].data, vmin=vmin, vmax=vmax, interpolation='none', origin='lower')\n",
    "plt.xlabel('X pixels')\n",
    "plt.ylabel('Y pixels')\n",
    "plt.colorbar()"
   ]
  },
  {
   "cell_type": "markdown",
   "metadata": {},
   "source": [
    "The image header contains the World Coordinate System (WCS) information, stored in a set of keywords (CD, CRVAL, CRPIX and optionally some distortion parameters). The WCS provides the projection of the image in the sky, allowing to work with pixels and sky coordinates."
   ]
  },
  {
   "cell_type": "code",
   "execution_count": null,
   "metadata": {},
   "outputs": [],
   "source": [
    "print (\"WCS projection type:\")\n",
    "print (hst_hdulist['PRIMARY'].header['CTYPE1'])\n",
    "print (hst_hdulist['PRIMARY'].header['CTYPE2'])\n",
    "\n",
    "print (\"WCS reference values:\")\n",
    "print (hst_hdulist['PRIMARY'].header['CRVAL1'])\n",
    "print (hst_hdulist['PRIMARY'].header['CRVAL2'])\n",
    "\n",
    "print (\"WCS reference pixel:\")\n",
    "print (hst_hdulist['PRIMARY'].header['CRPIX1'])\n",
    "print (hst_hdulist['PRIMARY'].header['CRPIX2'])\n",
    "\n",
    "print (\"WCS pixel to sky matrix:\")\n",
    "print (hst_hdulist['PRIMARY'].header['CD1_1'])\n",
    "print (hst_hdulist['PRIMARY'].header['CD1_2'])\n",
    "print (hst_hdulist['PRIMARY'].header['CD2_1'])\n",
    "print (hst_hdulist['PRIMARY'].header['CD2_2'])"
   ]
  },
  {
   "cell_type": "markdown",
   "metadata": {},
   "source": [
    "We can load the WCS of the image directly like this:"
   ]
  },
  {
   "cell_type": "code",
   "execution_count": null,
   "metadata": {},
   "outputs": [],
   "source": [
    "from astropy import wcs\n",
    "\n",
    "hst_image_wcs = wcs.WCS(hst_hdulist['PRIMARY'].header)\n",
    "hst_image_wcs.printwcs()"
   ]
  },
  {
   "cell_type": "markdown",
   "metadata": {},
   "source": [
    "Once loaded the WCS, we can retrieve the corners of the image footprint:"
   ]
  },
  {
   "cell_type": "code",
   "execution_count": null,
   "metadata": {},
   "outputs": [],
   "source": [
    "hst_image_wcs.calc_footprint()"
   ]
  },
  {
   "cell_type": "markdown",
   "metadata": {},
   "source": [
    "We can infer its pixel scale from the CD matrix:"
   ]
  },
  {
   "cell_type": "code",
   "execution_count": null,
   "metadata": {},
   "outputs": [],
   "source": [
    "hst_pixelscale = np.mean(wcs.utils.proj_plane_pixel_scales(hst_image_wcs) * u.degree).to('arcsec')\n",
    "hst_pixelscale"
   ]
  },
  {
   "cell_type": "markdown",
   "metadata": {},
   "source": [
    "It is also useful to know the coordinates of a specific pixel in the image:"
   ]
  },
  {
   "cell_type": "code",
   "execution_count": null,
   "metadata": {},
   "outputs": [],
   "source": [
    "# Origin of the pixel coordinates convention:\n",
    "# Set 0 when first pixel is 0 (c/python-like)\n",
    "# Set 1 when first pixel is 1 (fortran-like)\n",
    "origin = 0  \n",
    "\n",
    "# convert the pixels\n",
    "lon, lat = hst_image_wcs.all_pix2world(20, 30, origin)\n",
    "print (lon, lat)"
   ]
  },
  {
   "cell_type": "markdown",
   "metadata": {},
   "source": [
    "In the same way, sky coordinates can be transformed to pixel positions in the image."
   ]
  },
  {
   "cell_type": "code",
   "execution_count": null,
   "metadata": {},
   "outputs": [],
   "source": [
    "x, y = hst_image_wcs.all_world2pix(lon, lat, origin)\n",
    "print (x, y)"
   ]
  },
  {
   "cell_type": "markdown",
   "metadata": {},
   "source": [
    "Note that the function we used is called all_XXXXXX. This is the method to use all distortion information (such as SIP, TPV,...). To use only the WCS without the distortion, use the equivalent method wcs_XXXXXXX."
   ]
  },
  {
   "cell_type": "markdown",
   "metadata": {
    "collapsed": true
   },
   "source": [
    "### <span style=\"color:blue\">Exercise Astropy 3:</span> Plot sources on image\n",
    "Use tha gaia catalogue loaded previously and plot the stars over the HST image.\n",
    "\n",
    "TIP: a list of coordinates can be passed directly to the WCS function."
   ]
  },
  {
   "cell_type": "code",
   "execution_count": null,
   "metadata": {},
   "outputs": [],
   "source": [
    "# %load -r 22-38 solutions/10_Astronomy.py"
   ]
  },
  {
   "cell_type": "markdown",
   "metadata": {
    "collapsed": true
   },
   "source": [
    "#### Using WCS axes"
   ]
  },
  {
   "cell_type": "markdown",
   "metadata": {},
   "source": [
    "X and Y in the plot correspond to the X and Y of the image. \n",
    "WCS axes allows you to plot sky coordinates without remapping the image pixels:"
   ]
  },
  {
   "cell_type": "code",
   "execution_count": null,
   "metadata": {},
   "outputs": [],
   "source": [
    "ax = plt.subplot(projection=hst_image_wcs)\n",
    "\n",
    "ax.imshow(hst_hdulist[0].data, vmin=vmin, vmax=vmax, origin='lower')\n",
    "\n",
    "overlay = ax.get_coords_overlay('fk5')\n",
    "overlay.grid(color='white', ls='dotted')\n",
    "overlay[0].set_axislabel('Right Ascension (J2000)')\n",
    "overlay[1].set_axislabel('Declination (J2000)')"
   ]
  }
 ],
 "metadata": {
  "kernelspec": {
   "display_name": "Python 3",
   "language": "python",
   "name": "python3"
  },
  "language_info": {
   "codemirror_mode": {
    "name": "ipython",
    "version": 3
   },
   "file_extension": ".py",
   "mimetype": "text/x-python",
   "name": "python",
   "nbconvert_exporter": "python",
   "pygments_lexer": "ipython3",
   "version": "3.6.1"
  }
 },
 "nbformat": 4,
 "nbformat_minor": 1
}
