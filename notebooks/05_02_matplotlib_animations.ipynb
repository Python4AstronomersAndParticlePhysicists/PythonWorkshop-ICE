{
 "cells": [
  {
   "cell_type": "markdown",
   "metadata": {},
   "source": [
    "# Animation using\n",
    "\n",
    "![Matplotlib](http://upload.wikimedia.org/wikipedia/en/5/56/Matplotlib_logo.svg)"
   ]
  },
  {
   "cell_type": "markdown",
   "metadata": {},
   "source": [
    "# Table of Contents\n",
    "0. [Notebook Setup](#setup)\n",
    "1. [Basic Animation](#basic)\n",
    "  1. [Function Animation](#function_animation)\n",
    "  2. [Artist Animation](#artist_animation)\n",
    "2. [Creating a Movie](#writing)\n",
    "3. [3D](#3D)\n",
    "4. [Multiplot](#multiplot)\n"
   ]
  },
  {
   "cell_type": "markdown",
   "metadata": {},
   "source": [
    "<a id=setup></a>\n",
    "# 1. Notebook Setup"
   ]
  },
  {
   "cell_type": "code",
   "execution_count": null,
   "metadata": {
    "collapsed": true
   },
   "outputs": [],
   "source": [
    "%matplotlib inline\n",
    "import numpy as np\n",
    "import matplotlib.pyplot as plt\n",
    "import matplotlib.animation as animation\n",
    "import mpl_toolkits.mplot3d.axes3d as p3\n",
    "from IPython.display import HTML\n",
    "\n",
    "# Make the size and fonts larger for this presentation\n",
    "plt.rcParams['figure.figsize'] = (10, 8)\n",
    "plt.rcParams['font.size'] = 16\n",
    "plt.rcParams['lines.linewidth'] = 2"
   ]
  },
  {
   "cell_type": "markdown",
   "metadata": {},
   "source": [
    "<a id=basic></a>\n",
    "# 2. Basic Animation"
   ]
  },
  {
   "cell_type": "markdown",
   "metadata": {},
   "source": [
    "<a id=function_animation></a>\n",
    "## 2.A Function Animation\n",
    "Makes an animation by repeatedly calling a function."
   ]
  },
  {
   "cell_type": "code",
   "execution_count": null,
   "metadata": {
    "collapsed": true
   },
   "outputs": [],
   "source": [
    "class FunctionAnimatedImage():\n",
    "    \n",
    "    def func(self):\n",
    "        return np.sin(self.x) + np.cos(self.y)\n",
    "    \n",
    "    def __init__(self):\n",
    "        self.x = np.linspace(0, 2 * np.pi, 120)\n",
    "        self.y = np.linspace(0, 2 * np.pi, 120).reshape(-1, 1)\n",
    "\n",
    "        self.im = plt.imshow(self.func(), animated=True)\n",
    "        \n",
    "    def next_frame(self, i, *args):\n",
    "        \n",
    "        self.x += np.pi / 5.\n",
    "        self.y += np.pi / 20.\n",
    "        self.im.set_array(self.func())\n",
    "        return self.im,\n",
    "\n",
    "fig = plt.figure()\n",
    "anim_img = FunctionAnimatedImage()"
   ]
  },
  {
   "cell_type": "code",
   "execution_count": null,
   "metadata": {
    "collapsed": true
   },
   "outputs": [],
   "source": [
    "# Animate the image by recursively calling the next_frame function\n",
    "ani_1 = animation.FuncAnimation(fig, anim_img.next_frame, frames=40, interval=50, blit=True)\n",
    "\n",
    "# Embed the video in an html 5.0 video tag\n",
    "HTML(ani_1.to_html5_video())"
   ]
  },
  {
   "cell_type": "markdown",
   "metadata": {},
   "source": [
    "<a id=artist_animation></a>\n",
    "## 2.B Artist Animation\n",
    "Animation using a fixed set of Artist objects"
   ]
  },
  {
   "cell_type": "code",
   "execution_count": null,
   "metadata": {
    "collapsed": true
   },
   "outputs": [],
   "source": [
    "fig2 = plt.figure()\n",
    "\n",
    "N_FRAMES = 40\n",
    "\n",
    "# define the function to plot\n",
    "def f(x, y):\n",
    "    return np.sin(x) + np.cos(y)\n",
    "\n",
    "# create a list of images\n",
    "ims = []\n",
    "x = np.linspace(0, 2 * np.pi, 120)\n",
    "y = np.linspace(0, 2 * np.pi, 120).reshape(-1, 1)\n",
    "for i in range(N_FRAMES):\n",
    "    z = f(x, y)\n",
    "    ims.append((plt.imshow(z),))\n",
    "    x += np.pi / 5.\n",
    "    y += np.pi / 20.\n",
    "    "
   ]
  },
  {
   "cell_type": "code",
   "execution_count": null,
   "metadata": {
    "collapsed": true
   },
   "outputs": [],
   "source": [
    "ani_2 = animation.ArtistAnimation(fig2, ims, interval=50, blit=True)\n",
    "HTML(ani_2.to_html5_video())"
   ]
  },
  {
   "cell_type": "markdown",
   "metadata": {},
   "source": [
    "<a id=writing></a>\n",
    "# 3. Writing to a file"
   ]
  },
  {
   "cell_type": "code",
   "execution_count": null,
   "metadata": {
    "collapsed": true
   },
   "outputs": [],
   "source": [
    "# list available writers\n",
    "animation.writers.list()\n",
    "\n",
    "# save ani_2 in mpeg format\n",
    "\n",
    "# create a writer instance\n",
    "WriterClass = animation.writers['ffmpeg']\n",
    "writer = WriterClass(fps=1000./50.)\n",
    "\n",
    "# save the image to a file using the writer\n",
    "ani_2.save('/tmp/ani.mp4', writer=writer)\n"
   ]
  },
  {
   "cell_type": "markdown",
   "metadata": {},
   "source": []
  },
  {
   "cell_type": "markdown",
   "metadata": {},
   "source": [
    "<a id=3D></a>\n",
    "# 4. 3D"
   ]
  },
  {
   "cell_type": "code",
   "execution_count": null,
   "metadata": {},
   "outputs": [],
   "source": [
    "class FunctionAnimated3DImage():\n",
    "    \n",
    "    def f(self, i):\n",
    "        return self.fx(i) + self.fy(i)\n",
    "    \n",
    "    def fx(self, i):\n",
    "        if i < self.N_DESCEND:\n",
    "            return np.sin(self.x + i*np.pi/5.)*(1 - i/self.N_DESCEND)\n",
    "        else:\n",
    "            return np.sin(self.x + i*np.pi/5.)*0.01\n",
    "    \n",
    "    def fy(self, i):\n",
    "        if i < self.N_DESCEND:\n",
    "            return np.cos(self.y + i*np.pi/20.)*(1 - i/self.N_DESCEND)\n",
    "        else:\n",
    "            return np.cos(self.y + i*np.pi/20.)*0.01\n",
    "    \n",
    "    def __init__(self, n_const=30, n_descend=50):\n",
    "        \n",
    "        self.N_DESCEND = n_descend\n",
    "        self.N_CONST = n_const\n",
    "        self.N_FRAMES = n_descend + n_const\n",
    "        \n",
    "        self.init_image()\n",
    "    \n",
    "    def init_image(self):\n",
    "    \n",
    "        self.ax3D = fig3.add_subplot(111, projection='3d')\n",
    "        \n",
    "        x = np.linspace(0, 4 * np.pi, 120)\n",
    "        y = np.linspace(0, 4 * np.pi, 120).reshape(-1, 1)\n",
    "        self.x, self.y = np.meshgrid(x, y)\n",
    "        self.z = self.f(0)\n",
    "\n",
    "        self.surf = self.ax3D.plot_surface(self.x, self.y, self.z, cmap='viridis')\n",
    "    \n",
    "    def update_image(self, i, *args):\n",
    "        self.update_surf(i, *args)\n",
    "        return self.surf,\n",
    "    \n",
    "    def update_surf(self, i, *args):\n",
    "    \n",
    "        self.z = self.f(i)\n",
    "        self.ax3D.clear()\n",
    "        self.surf = self.ax3D.plot_surface(self.x, self.y, self.z, cmap='viridis')\n",
    "        self.ax3D.set_zlim(-2, 2)\n",
    "        return self.surf,\n",
    "\n",
    "fig3 = plt.figure()\n",
    "animator_3D = FunctionAnimated3DImage()\n"
   ]
  },
  {
   "cell_type": "code",
   "execution_count": null,
   "metadata": {},
   "outputs": [],
   "source": [
    "ani_3D = animation.FuncAnimation(fig3, animator_3D.update_image, interval=50, blit=True, frames=animator_3D.N_FRAMES)\n",
    "HTML(ani_3D.to_html5_video())"
   ]
  },
  {
   "cell_type": "markdown",
   "metadata": {},
   "source": [
    "<a id=multiplot></a>\n",
    "# 5. Multiplot"
   ]
  },
  {
   "cell_type": "code",
   "execution_count": null,
   "metadata": {},
   "outputs": [],
   "source": [
    "class FunctionAnimated3DMultiplot(FunctionAnimated3DImage):\n",
    "    \n",
    "    def init_image(self):\n",
    "    \n",
    "        self.ax3D = plt.subplot2grid((2, 3), (0, 0), rowspan=2, colspan=2, projection='3d')\n",
    "        self.ax2D_1 = plt.subplot2grid((2, 3), (0, 2))\n",
    "        self.ax2D_2 = plt.subplot2grid((2, 3), (1, 2))\n",
    "        plt.subplots_adjust(hspace=0.3, wspace=0.3)\n",
    "        \n",
    "        self.x = np.linspace(0, 4 * np.pi, 120)\n",
    "        self.y = np.linspace(0, 4 * np.pi, 120).reshape(-1, 1)\n",
    "        self.z = self.f(0)\n",
    "\n",
    "        self.surf = self.ax3D.plot_surface(self.x, self.y, self.z, cmap='viridis')\n",
    "        self.line_1 = self.ax2D_1.plot(self.x, self.fx(0))\n",
    "        self.line_2 = self.ax2D_2.plot(self.y, self.fy(0))\n",
    "    \n",
    "    def update_image(self, i, *args):\n",
    "        \n",
    "        self.z = self.f(i)\n",
    "        self.ax3D.clear()\n",
    "        self.ax2D_1.clear()\n",
    "        self.ax2D_2.clear()\n",
    "        \n",
    "        self.surf = self.ax3D.plot_surface(self.x, self.y, self.z, cmap='viridis')\n",
    "        self.ax3D.set_zlim(-2, 2)\n",
    "        \n",
    "        self.line_1 = self.ax2D_1.plot(self.x, self.fx(i))\n",
    "        self.ax2D_1.set_ylim(-1, 1)\n",
    "        \n",
    "        self.line_2 = self.ax2D_2.plot(self.y, self.fy(i))\n",
    "        self.ax2D_2.set_ylim(-1, 1)\n",
    "        return self.line_1\n",
    "\n",
    "fig_3D_mp = plt.figure()\n",
    "animator_3D_mp = FunctionAnimated3DMultiplot()"
   ]
  },
  {
   "cell_type": "code",
   "execution_count": null,
   "metadata": {},
   "outputs": [],
   "source": [
    "ani_3D_mp = animation.FuncAnimation(fig_3D_mp, animator_3D_mp.update_image, interval=50, blit=True, frames=animator_3D_mp.N_FRAMES)\n",
    "HTML(ani_3D_mp.to_html5_video())"
   ]
  },
  {
   "cell_type": "code",
   "execution_count": null,
   "metadata": {
    "collapsed": true
   },
   "outputs": [],
   "source": []
  }
 ],
 "metadata": {
  "kernelspec": {
   "display_name": "Python 3",
   "language": "python",
   "name": "python3"
  },
  "language_info": {
   "codemirror_mode": {
    "name": "ipython",
    "version": 3
   },
   "file_extension": ".py",
   "mimetype": "text/x-python",
   "name": "python",
   "nbconvert_exporter": "python",
   "pygments_lexer": "ipython3",
   "version": "3.5.2"
  }
 },
 "nbformat": 4,
 "nbformat_minor": 2
}
